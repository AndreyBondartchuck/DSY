{
 "cells": [
  {
   "cell_type": "markdown",
   "metadata": {},
   "source": [
    "# Определение тарифа для телеком компании"
   ]
  },
  {
   "cell_type": "markdown",
   "metadata": {},
   "source": [
    "Вы аналитик компании «Мегалайн» — федерального оператора сотовой связи. Клиентам предлагают два тарифных плана: «Смарт» и «Ультра». Чтобы скорректировать рекламный бюджет, коммерческий департамент хочет понять, какой тариф приносит больше денег.\n",
    "\n",
    "Вам предстоит сделать предварительный анализ тарифов на небольшой выборке клиентов. В вашем распоряжении данные 500 пользователей «Мегалайна»: кто они, откуда, каким тарифом пользуются, сколько звонков и сообщений каждый отправил за 2018 год. \n",
    "\n",
    "**Нужно проанализировать поведение клиентов и сделать вывод — какой тариф лучше.**\n"
   ]
  },
  {
   "cell_type": "markdown",
   "metadata": {},
   "source": [
    "**Описание тарифов**\n",
    "- тариф «Смарт»\n",
    "Ежемесячная плата: 550 рублей\n",
    "Включено 500 минут разговора, 50 сообщений и 15 Гб интернет-трафика\n",
    "Стоимость услуг сверх тарифного пакета:\n",
    "минута разговора: 3 рубля\n",
    "сообщение: 3 рубля\n",
    "1 Гб интернет-трафика: 200 рублей\n",
    "- Тариф «Ультра»\n",
    "Ежемесячная плата: 1950 рублей\n",
    "Включено 3000 минут разговора, 1000 сообщений и 30 Гб интернет-трафика\n",
    "Стоимость услуг сверх тарифного пакета:\n",
    "минута разговора: 1 рубль\n",
    "сообщение: 1 рубль\n",
    "1 Гб интернет-трафика: 150 рублей"
   ]
  },
  {
   "cell_type": "markdown",
   "metadata": {},
   "source": [
    "## Шаг 1. Откроем файлы с данными и изучим общую информацию"
   ]
  },
  {
   "cell_type": "markdown",
   "metadata": {},
   "source": [
    "### Описание данных"
   ]
  },
  {
   "cell_type": "markdown",
   "metadata": {},
   "source": [
    "**Таблица users (информация о пользователях):**\n",
    "- user_id — уникальный идентификатор пользователя\n",
    "- first_name — имя пользователя\n",
    "- last_name — фамилия пользователя\n",
    "- age — возраст пользователя (годы)\n",
    "- reg_date — дата подключения тарифа (день, месяц, год)\n",
    "- churn_date — дата прекращения пользования тарифом (если значение пропущено, то тариф ещё действовал на момент выгрузки данных)\n",
    "- city — город проживания пользователя\n",
    "- tariff — название тарифного плана\n",
    "\n",
    "**Таблица calls (информация о звонках):**\n",
    "- id — уникальный номер звонка\n",
    "- call_date — дата звонка\n",
    "- duration — длительность звонка в минутах\n",
    "- user_id — идентификатор пользователя, сделавшего звонок\n",
    "\n",
    "**Таблица messages (информация о сообщениях):**\n",
    "- id — уникальный номер сообщения\n",
    "- message_date — дата сообщения\n",
    "- user_id — идентификатор пользователя, отправившего сообщение\n",
    "\n",
    "**Таблица internet (информация об интернет-сессиях):**\n",
    "- id — уникальный номер сессии\n",
    "- mb_used — объём потраченного за сессию интернет-трафика (в мегабайтах)\n",
    "- session_date — дата интернет-сессии\n",
    "- user_id — идентификатор пользователя\n",
    "\n",
    "**Таблица tariffs (информация о тарифах):**\n",
    "- tariff_name — название тарифа\n",
    "- rub_monthly_fee — ежемесячная абонентская плата в рублях\n",
    "- minutes_included — количество минут разговора в месяц, включённых в абонентскую плату\n",
    "- messages_included — количество сообщений в месяц, включённых в абонентскую плату\n",
    "- mb_per_month_included — объём интернет-трафика, включённого в абонентскую плату (в мегабайтах)\n",
    "- rub_per_minute — стоимость минуты разговора сверх тарифного пакета (например, если в тарифе 100 минут разговора в месяц, то со 101 минуты будет взиматься плата)\n",
    "- rub_per_message — стоимость отправки сообщения сверх тарифного пакета\n",
    "- rub_per_gb — стоимость дополнительного гигабайта интернет-трафика сверх тарифного пакета (1 гигабайт = 1024 мегабайта)"
   ]
  },
  {
   "cell_type": "code",
   "execution_count": 1,
   "metadata": {},
   "outputs": [],
   "source": [
    "# подключаем необходимые библиотеки\n",
    "import pandas as pd\n",
    "import numpy as np\n",
    "import matplotlib.pyplot as plt\n",
    "\n",
    "from datetime import datetime\n",
    "from scipy import stats as st"
   ]
  },
  {
   "cell_type": "code",
   "execution_count": 2,
   "metadata": {},
   "outputs": [],
   "source": [
    "#!pip3 install plotly"
   ]
  },
  {
   "cell_type": "code",
   "execution_count": 3,
   "metadata": {},
   "outputs": [],
   "source": [
    "# читаем данные\n",
    "local = False\n",
    "\n",
    "if local: \n",
    "    users = pd.read_csv('./datasets/users.csv')\n",
    "    calls = pd.read_csv('./datasets/calls.csv')\n",
    "    messages = pd.read_csv('./datasets/messages.csv')\n",
    "    internet = pd.read_csv('./datasets/internet.csv')\n",
    "    tariffs = pd.read_csv('./datasets/tariffs.csv')\n",
    "else:    \n",
    "    url = \"https://drive.google.com/file/d/1CNNXp25yaSnGcKuXJ5UFOJn2g7Dtrbfh/view?usp=sharing\"\n",
    "    path = 'https://drive.google.com/uc?export=download&id='+ url.split('/')[-2]\n",
    "    users = pd.read_csv(path)\n",
    "    \n",
    "    url = \"https://drive.google.com/file/d/14V0wYkDLZ9D90Kes7IEzZjonm-Rt40Bn/view?usp=sharing\"\n",
    "    path = 'https://drive.google.com/uc?export=download&id='+ url.split('/')[-2]\n",
    "    calls = pd.read_csv(path)\n",
    "    \n",
    "    url = \"https://drive.google.com/file/d/11_9PpGnfzf3IyT3sW2es9-btQap75MIn/view?usp=sharing\"\n",
    "    path = 'https://drive.google.com/uc?export=download&id='+ url.split('/')[-2]\n",
    "    messages = pd.read_csv(path)\n",
    "    \n",
    "    url = \"https://drive.google.com/file/d/1KZAkCc9iGR1q0EG1sHcP_KhQSwsZo3_j/view?usp=sharing\"\n",
    "    path = 'https://drive.google.com/uc?export=download&id='+ url.split('/')[-2]\n",
    "    internet = pd.read_csv(path)\n",
    "    \n",
    "    url = \"https://drive.google.com/file/d/1KclWHml4bElewm-bYDKlzd24Xa9ZEtgJ/view?usp=sharing\"\n",
    "    path = 'https://drive.google.com/uc?export=download&id='+ url.split('/')[-2]\n",
    "    tariffs = pd.read_csv(path)"
   ]
  },
  {
   "cell_type": "markdown",
   "metadata": {},
   "source": [
    "**Изучим таблицу users (информация о пользователях):**"
   ]
  },
  {
   "cell_type": "code",
   "execution_count": 4,
   "metadata": {},
   "outputs": [
    {
     "data": {
      "text/html": [
       "<div>\n",
       "<style scoped>\n",
       "    .dataframe tbody tr th:only-of-type {\n",
       "        vertical-align: middle;\n",
       "    }\n",
       "\n",
       "    .dataframe tbody tr th {\n",
       "        vertical-align: top;\n",
       "    }\n",
       "\n",
       "    .dataframe thead th {\n",
       "        text-align: right;\n",
       "    }\n",
       "</style>\n",
       "<table border=\"1\" class=\"dataframe\">\n",
       "  <thead>\n",
       "    <tr style=\"text-align: right;\">\n",
       "      <th></th>\n",
       "      <th>user_id</th>\n",
       "      <th>age</th>\n",
       "      <th>churn_date</th>\n",
       "      <th>city</th>\n",
       "      <th>first_name</th>\n",
       "      <th>last_name</th>\n",
       "      <th>reg_date</th>\n",
       "      <th>tariff</th>\n",
       "    </tr>\n",
       "  </thead>\n",
       "  <tbody>\n",
       "    <tr>\n",
       "      <th>0</th>\n",
       "      <td>1000</td>\n",
       "      <td>52</td>\n",
       "      <td>NaN</td>\n",
       "      <td>Краснодар</td>\n",
       "      <td>Рафаил</td>\n",
       "      <td>Верещагин</td>\n",
       "      <td>2018-05-25</td>\n",
       "      <td>ultra</td>\n",
       "    </tr>\n",
       "    <tr>\n",
       "      <th>1</th>\n",
       "      <td>1001</td>\n",
       "      <td>41</td>\n",
       "      <td>NaN</td>\n",
       "      <td>Москва</td>\n",
       "      <td>Иван</td>\n",
       "      <td>Ежов</td>\n",
       "      <td>2018-11-01</td>\n",
       "      <td>smart</td>\n",
       "    </tr>\n",
       "    <tr>\n",
       "      <th>2</th>\n",
       "      <td>1002</td>\n",
       "      <td>59</td>\n",
       "      <td>NaN</td>\n",
       "      <td>Стерлитамак</td>\n",
       "      <td>Евгений</td>\n",
       "      <td>Абрамович</td>\n",
       "      <td>2018-06-17</td>\n",
       "      <td>smart</td>\n",
       "    </tr>\n",
       "    <tr>\n",
       "      <th>3</th>\n",
       "      <td>1003</td>\n",
       "      <td>23</td>\n",
       "      <td>NaN</td>\n",
       "      <td>Москва</td>\n",
       "      <td>Белла</td>\n",
       "      <td>Белякова</td>\n",
       "      <td>2018-08-17</td>\n",
       "      <td>ultra</td>\n",
       "    </tr>\n",
       "    <tr>\n",
       "      <th>4</th>\n",
       "      <td>1004</td>\n",
       "      <td>68</td>\n",
       "      <td>NaN</td>\n",
       "      <td>Новокузнецк</td>\n",
       "      <td>Татьяна</td>\n",
       "      <td>Авдеенко</td>\n",
       "      <td>2018-05-14</td>\n",
       "      <td>ultra</td>\n",
       "    </tr>\n",
       "  </tbody>\n",
       "</table>\n",
       "</div>"
      ],
      "text/plain": [
       "   user_id  age churn_date         city first_name  last_name    reg_date  \\\n",
       "0     1000   52        NaN    Краснодар     Рафаил  Верещагин  2018-05-25   \n",
       "1     1001   41        NaN       Москва       Иван       Ежов  2018-11-01   \n",
       "2     1002   59        NaN  Стерлитамак    Евгений  Абрамович  2018-06-17   \n",
       "3     1003   23        NaN       Москва      Белла   Белякова  2018-08-17   \n",
       "4     1004   68        NaN  Новокузнецк    Татьяна   Авдеенко  2018-05-14   \n",
       "\n",
       "  tariff  \n",
       "0  ultra  \n",
       "1  smart  \n",
       "2  smart  \n",
       "3  ultra  \n",
       "4  ultra  "
      ]
     },
     "execution_count": 4,
     "metadata": {},
     "output_type": "execute_result"
    }
   ],
   "source": [
    "users.head(5)"
   ]
  },
  {
   "cell_type": "code",
   "execution_count": 7,
   "metadata": {},
   "outputs": [
    {
     "data": {
      "text/html": [
       "<div>\n",
       "<style scoped>\n",
       "    .dataframe tbody tr th:only-of-type {\n",
       "        vertical-align: middle;\n",
       "    }\n",
       "\n",
       "    .dataframe tbody tr th {\n",
       "        vertical-align: top;\n",
       "    }\n",
       "\n",
       "    .dataframe thead th {\n",
       "        text-align: right;\n",
       "    }\n",
       "</style>\n",
       "<table border=\"1\" class=\"dataframe\">\n",
       "  <thead>\n",
       "    <tr style=\"text-align: right;\">\n",
       "      <th></th>\n",
       "      <th>count</th>\n",
       "      <th>mean</th>\n",
       "      <th>std</th>\n",
       "      <th>min</th>\n",
       "      <th>25%</th>\n",
       "      <th>50%</th>\n",
       "      <th>75%</th>\n",
       "      <th>max</th>\n",
       "    </tr>\n",
       "  </thead>\n",
       "  <tbody>\n",
       "    <tr>\n",
       "      <th>user_id</th>\n",
       "      <td>500.0</td>\n",
       "      <td>1249.500</td>\n",
       "      <td>144.481833</td>\n",
       "      <td>1000.0</td>\n",
       "      <td>1124.75</td>\n",
       "      <td>1249.5</td>\n",
       "      <td>1374.25</td>\n",
       "      <td>1499.0</td>\n",
       "    </tr>\n",
       "    <tr>\n",
       "      <th>age</th>\n",
       "      <td>500.0</td>\n",
       "      <td>46.588</td>\n",
       "      <td>16.667630</td>\n",
       "      <td>18.0</td>\n",
       "      <td>32.00</td>\n",
       "      <td>46.0</td>\n",
       "      <td>62.00</td>\n",
       "      <td>75.0</td>\n",
       "    </tr>\n",
       "  </tbody>\n",
       "</table>\n",
       "</div>"
      ],
      "text/plain": [
       "         count      mean         std     min      25%     50%      75%     max\n",
       "user_id  500.0  1249.500  144.481833  1000.0  1124.75  1249.5  1374.25  1499.0\n",
       "age      500.0    46.588   16.667630    18.0    32.00    46.0    62.00    75.0"
      ]
     },
     "execution_count": 7,
     "metadata": {},
     "output_type": "execute_result"
    }
   ],
   "source": [
    "users.describe().T"
   ]
  },
  {
   "cell_type": "code",
   "execution_count": 8,
   "metadata": {},
   "outputs": [
    {
     "name": "stdout",
     "output_type": "stream",
     "text": [
      "<class 'pandas.core.frame.DataFrame'>\n",
      "RangeIndex: 500 entries, 0 to 499\n",
      "Data columns (total 8 columns):\n",
      " #   Column      Non-Null Count  Dtype \n",
      "---  ------      --------------  ----- \n",
      " 0   user_id     500 non-null    int64 \n",
      " 1   age         500 non-null    int64 \n",
      " 2   churn_date  38 non-null     object\n",
      " 3   city        500 non-null    object\n",
      " 4   first_name  500 non-null    object\n",
      " 5   last_name   500 non-null    object\n",
      " 6   reg_date    500 non-null    object\n",
      " 7   tariff      500 non-null    object\n",
      "dtypes: int64(2), object(6)\n",
      "memory usage: 31.4+ KB\n"
     ]
    }
   ],
   "source": [
    "users.info()"
   ]
  },
  {
   "cell_type": "markdown",
   "metadata": {},
   "source": [
    "*Промежуточный вывод:*\n",
    "- преобразовать даты в колонках churn_date и к reg_date типу date\n",
    "- проверить наличие синонимов в колонке city\n",
    "- привести tariff к типу category"
   ]
  },
  {
   "cell_type": "markdown",
   "metadata": {},
   "source": [
    "**Изучим таблицу calls (информация о звонках):**"
   ]
  },
  {
   "cell_type": "code",
   "execution_count": 5,
   "metadata": {},
   "outputs": [
    {
     "data": {
      "text/html": [
       "<div>\n",
       "<style scoped>\n",
       "    .dataframe tbody tr th:only-of-type {\n",
       "        vertical-align: middle;\n",
       "    }\n",
       "\n",
       "    .dataframe tbody tr th {\n",
       "        vertical-align: top;\n",
       "    }\n",
       "\n",
       "    .dataframe thead th {\n",
       "        text-align: right;\n",
       "    }\n",
       "</style>\n",
       "<table border=\"1\" class=\"dataframe\">\n",
       "  <thead>\n",
       "    <tr style=\"text-align: right;\">\n",
       "      <th></th>\n",
       "      <th>id</th>\n",
       "      <th>call_date</th>\n",
       "      <th>duration</th>\n",
       "      <th>user_id</th>\n",
       "    </tr>\n",
       "  </thead>\n",
       "  <tbody>\n",
       "    <tr>\n",
       "      <th>0</th>\n",
       "      <td>1000_0</td>\n",
       "      <td>2018-07-25</td>\n",
       "      <td>0.00</td>\n",
       "      <td>1000</td>\n",
       "    </tr>\n",
       "    <tr>\n",
       "      <th>1</th>\n",
       "      <td>1000_1</td>\n",
       "      <td>2018-08-17</td>\n",
       "      <td>0.00</td>\n",
       "      <td>1000</td>\n",
       "    </tr>\n",
       "    <tr>\n",
       "      <th>2</th>\n",
       "      <td>1000_2</td>\n",
       "      <td>2018-06-11</td>\n",
       "      <td>2.85</td>\n",
       "      <td>1000</td>\n",
       "    </tr>\n",
       "    <tr>\n",
       "      <th>3</th>\n",
       "      <td>1000_3</td>\n",
       "      <td>2018-09-21</td>\n",
       "      <td>13.80</td>\n",
       "      <td>1000</td>\n",
       "    </tr>\n",
       "    <tr>\n",
       "      <th>4</th>\n",
       "      <td>1000_4</td>\n",
       "      <td>2018-12-15</td>\n",
       "      <td>5.18</td>\n",
       "      <td>1000</td>\n",
       "    </tr>\n",
       "  </tbody>\n",
       "</table>\n",
       "</div>"
      ],
      "text/plain": [
       "       id   call_date  duration  user_id\n",
       "0  1000_0  2018-07-25      0.00     1000\n",
       "1  1000_1  2018-08-17      0.00     1000\n",
       "2  1000_2  2018-06-11      2.85     1000\n",
       "3  1000_3  2018-09-21     13.80     1000\n",
       "4  1000_4  2018-12-15      5.18     1000"
      ]
     },
     "execution_count": 5,
     "metadata": {},
     "output_type": "execute_result"
    }
   ],
   "source": [
    "calls.head(5)    "
   ]
  },
  {
   "cell_type": "code",
   "execution_count": 10,
   "metadata": {},
   "outputs": [
    {
     "name": "stdout",
     "output_type": "stream",
     "text": [
      "<class 'pandas.core.frame.DataFrame'>\n",
      "RangeIndex: 202607 entries, 0 to 202606\n",
      "Data columns (total 4 columns):\n",
      " #   Column     Non-Null Count   Dtype  \n",
      "---  ------     --------------   -----  \n",
      " 0   id         202607 non-null  object \n",
      " 1   call_date  202607 non-null  object \n",
      " 2   duration   202607 non-null  float64\n",
      " 3   user_id    202607 non-null  int64  \n",
      "dtypes: float64(1), int64(1), object(2)\n",
      "memory usage: 6.2+ MB\n"
     ]
    }
   ],
   "source": [
    "calls.info()"
   ]
  },
  {
   "cell_type": "markdown",
   "metadata": {},
   "source": [
    "*Промежуточный вывод:*\n",
    "- преобразовать даты в колонке call_date к типу date\n",
    "- преобразовать duration в тип int? - пока оставим под вопросом. Возможно, так будут потеряны данные."
   ]
  },
  {
   "cell_type": "markdown",
   "metadata": {},
   "source": [
    "**Изучим таблицу messages (информация о сообщениях):**"
   ]
  },
  {
   "cell_type": "code",
   "execution_count": 6,
   "metadata": {},
   "outputs": [
    {
     "data": {
      "text/html": [
       "<div>\n",
       "<style scoped>\n",
       "    .dataframe tbody tr th:only-of-type {\n",
       "        vertical-align: middle;\n",
       "    }\n",
       "\n",
       "    .dataframe tbody tr th {\n",
       "        vertical-align: top;\n",
       "    }\n",
       "\n",
       "    .dataframe thead th {\n",
       "        text-align: right;\n",
       "    }\n",
       "</style>\n",
       "<table border=\"1\" class=\"dataframe\">\n",
       "  <thead>\n",
       "    <tr style=\"text-align: right;\">\n",
       "      <th></th>\n",
       "      <th>id</th>\n",
       "      <th>message_date</th>\n",
       "      <th>user_id</th>\n",
       "    </tr>\n",
       "  </thead>\n",
       "  <tbody>\n",
       "    <tr>\n",
       "      <th>0</th>\n",
       "      <td>1000_0</td>\n",
       "      <td>2018-06-27</td>\n",
       "      <td>1000</td>\n",
       "    </tr>\n",
       "    <tr>\n",
       "      <th>1</th>\n",
       "      <td>1000_1</td>\n",
       "      <td>2018-10-08</td>\n",
       "      <td>1000</td>\n",
       "    </tr>\n",
       "    <tr>\n",
       "      <th>2</th>\n",
       "      <td>1000_2</td>\n",
       "      <td>2018-08-04</td>\n",
       "      <td>1000</td>\n",
       "    </tr>\n",
       "    <tr>\n",
       "      <th>3</th>\n",
       "      <td>1000_3</td>\n",
       "      <td>2018-06-16</td>\n",
       "      <td>1000</td>\n",
       "    </tr>\n",
       "    <tr>\n",
       "      <th>4</th>\n",
       "      <td>1000_4</td>\n",
       "      <td>2018-12-05</td>\n",
       "      <td>1000</td>\n",
       "    </tr>\n",
       "  </tbody>\n",
       "</table>\n",
       "</div>"
      ],
      "text/plain": [
       "       id message_date  user_id\n",
       "0  1000_0   2018-06-27     1000\n",
       "1  1000_1   2018-10-08     1000\n",
       "2  1000_2   2018-08-04     1000\n",
       "3  1000_3   2018-06-16     1000\n",
       "4  1000_4   2018-12-05     1000"
      ]
     },
     "execution_count": 6,
     "metadata": {},
     "output_type": "execute_result"
    }
   ],
   "source": [
    "messages.head(5)  "
   ]
  },
  {
   "cell_type": "code",
   "execution_count": 12,
   "metadata": {},
   "outputs": [
    {
     "name": "stdout",
     "output_type": "stream",
     "text": [
      "<class 'pandas.core.frame.DataFrame'>\n",
      "RangeIndex: 123036 entries, 0 to 123035\n",
      "Data columns (total 3 columns):\n",
      " #   Column        Non-Null Count   Dtype \n",
      "---  ------        --------------   ----- \n",
      " 0   id            123036 non-null  object\n",
      " 1   message_date  123036 non-null  object\n",
      " 2   user_id       123036 non-null  int64 \n",
      "dtypes: int64(1), object(2)\n",
      "memory usage: 2.8+ MB\n"
     ]
    }
   ],
   "source": [
    "messages.info()"
   ]
  },
  {
   "cell_type": "markdown",
   "metadata": {},
   "source": [
    "*Промежуточный вывод:*\n",
    "- преобразовать даты в колонке message_date к типу date"
   ]
  },
  {
   "cell_type": "markdown",
   "metadata": {},
   "source": [
    "**Изучим таблицу internet (информация об интернет-сессиях):**"
   ]
  },
  {
   "cell_type": "code",
   "execution_count": 7,
   "metadata": {},
   "outputs": [
    {
     "data": {
      "text/html": [
       "<div>\n",
       "<style scoped>\n",
       "    .dataframe tbody tr th:only-of-type {\n",
       "        vertical-align: middle;\n",
       "    }\n",
       "\n",
       "    .dataframe tbody tr th {\n",
       "        vertical-align: top;\n",
       "    }\n",
       "\n",
       "    .dataframe thead th {\n",
       "        text-align: right;\n",
       "    }\n",
       "</style>\n",
       "<table border=\"1\" class=\"dataframe\">\n",
       "  <thead>\n",
       "    <tr style=\"text-align: right;\">\n",
       "      <th></th>\n",
       "      <th>Unnamed: 0</th>\n",
       "      <th>id</th>\n",
       "      <th>mb_used</th>\n",
       "      <th>session_date</th>\n",
       "      <th>user_id</th>\n",
       "    </tr>\n",
       "  </thead>\n",
       "  <tbody>\n",
       "    <tr>\n",
       "      <th>0</th>\n",
       "      <td>0</td>\n",
       "      <td>1000_0</td>\n",
       "      <td>112.95</td>\n",
       "      <td>2018-11-25</td>\n",
       "      <td>1000</td>\n",
       "    </tr>\n",
       "    <tr>\n",
       "      <th>1</th>\n",
       "      <td>1</td>\n",
       "      <td>1000_1</td>\n",
       "      <td>1052.81</td>\n",
       "      <td>2018-09-07</td>\n",
       "      <td>1000</td>\n",
       "    </tr>\n",
       "    <tr>\n",
       "      <th>2</th>\n",
       "      <td>2</td>\n",
       "      <td>1000_2</td>\n",
       "      <td>1197.26</td>\n",
       "      <td>2018-06-25</td>\n",
       "      <td>1000</td>\n",
       "    </tr>\n",
       "    <tr>\n",
       "      <th>3</th>\n",
       "      <td>3</td>\n",
       "      <td>1000_3</td>\n",
       "      <td>550.27</td>\n",
       "      <td>2018-08-22</td>\n",
       "      <td>1000</td>\n",
       "    </tr>\n",
       "    <tr>\n",
       "      <th>4</th>\n",
       "      <td>4</td>\n",
       "      <td>1000_4</td>\n",
       "      <td>302.56</td>\n",
       "      <td>2018-09-24</td>\n",
       "      <td>1000</td>\n",
       "    </tr>\n",
       "  </tbody>\n",
       "</table>\n",
       "</div>"
      ],
      "text/plain": [
       "   Unnamed: 0      id  mb_used session_date  user_id\n",
       "0           0  1000_0   112.95   2018-11-25     1000\n",
       "1           1  1000_1  1052.81   2018-09-07     1000\n",
       "2           2  1000_2  1197.26   2018-06-25     1000\n",
       "3           3  1000_3   550.27   2018-08-22     1000\n",
       "4           4  1000_4   302.56   2018-09-24     1000"
      ]
     },
     "execution_count": 7,
     "metadata": {},
     "output_type": "execute_result"
    }
   ],
   "source": [
    "internet.head(5)"
   ]
  },
  {
   "cell_type": "code",
   "execution_count": 14,
   "metadata": {},
   "outputs": [
    {
     "name": "stdout",
     "output_type": "stream",
     "text": [
      "<class 'pandas.core.frame.DataFrame'>\n",
      "RangeIndex: 149396 entries, 0 to 149395\n",
      "Data columns (total 5 columns):\n",
      " #   Column        Non-Null Count   Dtype  \n",
      "---  ------        --------------   -----  \n",
      " 0   Unnamed: 0    149396 non-null  int64  \n",
      " 1   id            149396 non-null  object \n",
      " 2   mb_used       149396 non-null  float64\n",
      " 3   session_date  149396 non-null  object \n",
      " 4   user_id       149396 non-null  int64  \n",
      "dtypes: float64(1), int64(2), object(2)\n",
      "memory usage: 5.7+ MB\n"
     ]
    }
   ],
   "source": [
    "internet.info()"
   ]
  },
  {
   "cell_type": "markdown",
   "metadata": {},
   "source": [
    "*Промежуточный вывод:*\n",
    "- преобразовать даты в колонке session_date к типу date\n",
    "- преобразовать mb_used к типу int"
   ]
  },
  {
   "cell_type": "markdown",
   "metadata": {},
   "source": [
    "**Изучим таблицу tariffs (информация о тарифах):**"
   ]
  },
  {
   "cell_type": "code",
   "execution_count": 8,
   "metadata": {},
   "outputs": [
    {
     "data": {
      "text/html": [
       "<div>\n",
       "<style scoped>\n",
       "    .dataframe tbody tr th:only-of-type {\n",
       "        vertical-align: middle;\n",
       "    }\n",
       "\n",
       "    .dataframe tbody tr th {\n",
       "        vertical-align: top;\n",
       "    }\n",
       "\n",
       "    .dataframe thead th {\n",
       "        text-align: right;\n",
       "    }\n",
       "</style>\n",
       "<table border=\"1\" class=\"dataframe\">\n",
       "  <thead>\n",
       "    <tr style=\"text-align: right;\">\n",
       "      <th></th>\n",
       "      <th>messages_included</th>\n",
       "      <th>mb_per_month_included</th>\n",
       "      <th>minutes_included</th>\n",
       "      <th>rub_monthly_fee</th>\n",
       "      <th>rub_per_gb</th>\n",
       "      <th>rub_per_message</th>\n",
       "      <th>rub_per_minute</th>\n",
       "      <th>tariff_name</th>\n",
       "    </tr>\n",
       "  </thead>\n",
       "  <tbody>\n",
       "    <tr>\n",
       "      <th>0</th>\n",
       "      <td>50</td>\n",
       "      <td>15360</td>\n",
       "      <td>500</td>\n",
       "      <td>550</td>\n",
       "      <td>200</td>\n",
       "      <td>3</td>\n",
       "      <td>3</td>\n",
       "      <td>smart</td>\n",
       "    </tr>\n",
       "    <tr>\n",
       "      <th>1</th>\n",
       "      <td>1000</td>\n",
       "      <td>30720</td>\n",
       "      <td>3000</td>\n",
       "      <td>1950</td>\n",
       "      <td>150</td>\n",
       "      <td>1</td>\n",
       "      <td>1</td>\n",
       "      <td>ultra</td>\n",
       "    </tr>\n",
       "  </tbody>\n",
       "</table>\n",
       "</div>"
      ],
      "text/plain": [
       "   messages_included  mb_per_month_included  minutes_included  \\\n",
       "0                 50                  15360               500   \n",
       "1               1000                  30720              3000   \n",
       "\n",
       "   rub_monthly_fee  rub_per_gb  rub_per_message  rub_per_minute tariff_name  \n",
       "0              550         200                3               3       smart  \n",
       "1             1950         150                1               1       ultra  "
      ]
     },
     "execution_count": 8,
     "metadata": {},
     "output_type": "execute_result"
    }
   ],
   "source": [
    "tariffs.head(5)"
   ]
  },
  {
   "cell_type": "code",
   "execution_count": 16,
   "metadata": {},
   "outputs": [
    {
     "name": "stdout",
     "output_type": "stream",
     "text": [
      "<class 'pandas.core.frame.DataFrame'>\n",
      "RangeIndex: 2 entries, 0 to 1\n",
      "Data columns (total 8 columns):\n",
      " #   Column                 Non-Null Count  Dtype \n",
      "---  ------                 --------------  ----- \n",
      " 0   messages_included      2 non-null      int64 \n",
      " 1   mb_per_month_included  2 non-null      int64 \n",
      " 2   minutes_included       2 non-null      int64 \n",
      " 3   rub_monthly_fee        2 non-null      int64 \n",
      " 4   rub_per_gb             2 non-null      int64 \n",
      " 5   rub_per_message        2 non-null      int64 \n",
      " 6   rub_per_minute         2 non-null      int64 \n",
      " 7   tariff_name            2 non-null      object\n",
      "dtypes: int64(7), object(1)\n",
      "memory usage: 256.0+ bytes\n"
     ]
    }
   ],
   "source": [
    "tariffs.info()"
   ]
  },
  {
   "cell_type": "markdown",
   "metadata": {},
   "source": [
    "*Промежуточный вывод:*\n",
    "- переименовать колонку tariff_name в tariff, это возможно понадобиться для операций соединения с другими таблицами."
   ]
  },
  {
   "cell_type": "markdown",
   "metadata": {},
   "source": [
    "## Шаг 2. Подготовка данных"
   ]
  },
  {
   "cell_type": "markdown",
   "metadata": {},
   "source": [
    "## Приведение данных к нужным типам\n"
   ]
  },
  {
   "cell_type": "markdown",
   "metadata": {},
   "source": [
    "**Tаблица users**"
   ]
  },
  {
   "cell_type": "code",
   "execution_count": 17,
   "metadata": {},
   "outputs": [],
   "source": [
    "# Таблица users (информация о пользователях):\n",
    "users['churn_date'] = pd.to_datetime(users['churn_date'], format=\"%Y-%m-%d\")\n",
    "users['reg_date'] = pd.to_datetime(users['reg_date'], format=\"%Y-%m-%d\")\n",
    "users['tariff'] = users['tariff'].astype('category')"
   ]
  },
  {
   "cell_type": "markdown",
   "metadata": {},
   "source": [
    "Данные с nan в колонке churn_date удалять не будем. Добавим колонку tariff_on - флаг, который будет взводиться, если тариф еще действует."
   ]
  },
  {
   "cell_type": "code",
   "execution_count": 18,
   "metadata": {},
   "outputs": [],
   "source": [
    "# действующий на момент выгрузки данных тариф\n",
    "def flag_churn_date(raw):\n",
    "    if str(raw['churn_date'])==str(np.nan):\n",
    "        return 1\n",
    "    else:\n",
    "        return 0\n",
    "\n",
    "users['tariff_on'] = users.apply(flag_churn_date, axis=1)"
   ]
  },
  {
   "cell_type": "code",
   "execution_count": 19,
   "metadata": {},
   "outputs": [
    {
     "name": "stdout",
     "output_type": "stream",
     "text": [
      "<class 'pandas.core.frame.DataFrame'>\n",
      "RangeIndex: 500 entries, 0 to 499\n",
      "Data columns (total 9 columns):\n",
      " #   Column      Non-Null Count  Dtype         \n",
      "---  ------      --------------  -----         \n",
      " 0   user_id     500 non-null    int64         \n",
      " 1   age         500 non-null    int64         \n",
      " 2   churn_date  38 non-null     datetime64[ns]\n",
      " 3   city        500 non-null    object        \n",
      " 4   first_name  500 non-null    object        \n",
      " 5   last_name   500 non-null    object        \n",
      " 6   reg_date    500 non-null    datetime64[ns]\n",
      " 7   tariff      500 non-null    category      \n",
      " 8   tariff_on   500 non-null    int64         \n",
      "dtypes: category(1), datetime64[ns](2), int64(3), object(3)\n",
      "memory usage: 32.0+ KB\n"
     ]
    }
   ],
   "source": [
    "# проверим\n",
    "users.info()"
   ]
  },
  {
   "cell_type": "code",
   "execution_count": 20,
   "metadata": {},
   "outputs": [
    {
     "name": "stdout",
     "output_type": "stream",
     "text": [
      "['Архангельск', 'Астрахань', 'Балашиха', 'Барнаул', 'Белгород', 'Брянск', 'Владивосток', 'Владикавказ', 'Владимир', 'Волгоград', 'Волжский', 'Вологда', 'Воронеж', 'Грозный', 'Екатеринбург', 'Иваново', 'Ижевск', 'Иркутск', 'Казань', 'Калининград', 'Калуга', 'Кемерово', 'Киров', 'Кострома', 'Краснодар', 'Красноярск', 'Курган', 'Курск', 'Липецк', 'Магнитогорск', 'Махачкала', 'Москва', 'Мурманск', 'Набережные Челны', 'Нижневартовск', 'Нижний Новгород', 'Нижний Тагил', 'Новокузнецк', 'Новороссийск', 'Новосибирск', 'Омск', 'Оренбург', 'Орёл', 'Пенза', 'Пермь', 'Петрозаводск', 'Подольск', 'Ростов-на-Дону', 'Рязань', 'Самара', 'Санкт-Петербург', 'Саранск', 'Саратов', 'Севастополь', 'Смоленск', 'Сочи', 'Ставрополь', 'Стерлитамак', 'Сургут', 'Тамбов', 'Тверь', 'Тольятти', 'Томск', 'Тула', 'Тюмень', 'Улан-Удэ', 'Ульяновск', 'Уфа', 'Хабаровск', 'Химки', 'Чебоксары', 'Челябинск', 'Череповец', 'Чита', 'Якутск', 'Ярославль']\n"
     ]
    }
   ],
   "source": [
    "# посмотрим города\n",
    "city_list = users['city'].unique().tolist()\n",
    "city_list.sort()\n",
    "print(city_list)"
   ]
  },
  {
   "cell_type": "markdown",
   "metadata": {},
   "source": [
    "Визуально неправильных написаний - нет."
   ]
  },
  {
   "cell_type": "markdown",
   "metadata": {},
   "source": [
    "**Таблица users подготовлена.**  Даты преобразованы, в колонке city - небрежных написаний городов - нет"
   ]
  },
  {
   "cell_type": "markdown",
   "metadata": {},
   "source": [
    "**Tаблица calls**"
   ]
  },
  {
   "cell_type": "code",
   "execution_count": 21,
   "metadata": {},
   "outputs": [],
   "source": [
    "calls['call_date'] = pd.to_datetime(calls['call_date'], format=\"%Y-%m-%d\")"
   ]
  },
  {
   "cell_type": "code",
   "execution_count": 22,
   "metadata": {},
   "outputs": [
    {
     "name": "stdout",
     "output_type": "stream",
     "text": [
      "<class 'pandas.core.frame.DataFrame'>\n",
      "RangeIndex: 202607 entries, 0 to 202606\n",
      "Data columns (total 4 columns):\n",
      " #   Column     Non-Null Count   Dtype         \n",
      "---  ------     --------------   -----         \n",
      " 0   id         202607 non-null  object        \n",
      " 1   call_date  202607 non-null  datetime64[ns]\n",
      " 2   duration   202607 non-null  float64       \n",
      " 3   user_id    202607 non-null  int64         \n",
      "dtypes: datetime64[ns](1), float64(1), int64(1), object(1)\n",
      "memory usage: 6.2+ MB\n"
     ]
    }
   ],
   "source": [
    "calls.info()"
   ]
  },
  {
   "cell_type": "code",
   "execution_count": 23,
   "metadata": {},
   "outputs": [
    {
     "name": "stdout",
     "output_type": "stream",
     "text": [
      "Количество звонков длительностью 0 минут = 39613\n",
      "Количество звонков длительностью 0.5 минут = 43687\n",
      "Количество звонков длительностью > 0.5 минут = 158827\n",
      "Доля 0/0.5= 0.9067457138279122\n",
      "Доля 0/all= 0.24303348589518634\n"
     ]
    }
   ],
   "source": [
    "# оценим отношение количества звонков меньше 0.5 минуты к количеству звонков длительностью 0 минут,\n",
    "# а также отношение количества звонков 0 длительности ко всем звонкам\n",
    "rate_0_05 = 0\n",
    "rate_05_all = 0\n",
    "print('Количество звонков длительностью 0 минут = {}'.format(len(calls.query('duration == 0'))))\n",
    "print('Количество звонков длительностью 0.5 минут = {}'.format(len(calls.query('duration < 0.5'))))\n",
    "print('Количество звонков длительностью > 0.5 минут = {}'.format(len(calls.query('duration > 0.5'))))\n",
    "try:\n",
    "    rate_0_05 = len(calls.query('duration == 0')) / len(calls.query('duration < 0.5'))\n",
    "    rate_05_all = len(calls.query('duration == 0')) / len(calls.query('duration > 0'))\n",
    "except:\n",
    "     pass\n",
    "print('Доля 0/0.5= {}'.format(rate_0_05))\n",
    "print('Доля 0/all= {}'.format(rate_05_all))"
   ]
  },
  {
   "cell_type": "markdown",
   "metadata": {},
   "source": [
    "**Вывод: Преобразовывать колонку duration к типу int опасно, так как можно исказить данные. Количество звонков нулевой длительности может при таком преобразовании удвоиться. При том, что отношение нулевых звонков ко всем звонкам составляет 25%.**\n",
    "\n",
    "**Также не будем отбразывать из датасета звонки нулевой длительности. Это может привести к удалению 25% данных!**"
   ]
  },
  {
   "cell_type": "code",
   "execution_count": 24,
   "metadata": {},
   "outputs": [
    {
     "data": {
      "text/plain": [
       "1.0"
      ]
     },
     "execution_count": 24,
     "metadata": {},
     "output_type": "execute_result"
    }
   ],
   "source": [
    "# посмотрим что за ceil\n",
    "np.ceil(0.5)"
   ]
  },
  {
   "cell_type": "code",
   "execution_count": 25,
   "metadata": {},
   "outputs": [
    {
     "data": {
      "text/plain": [
       "1368790.0399999998"
      ]
     },
     "execution_count": 25,
     "metadata": {},
     "output_type": "execute_result"
    }
   ],
   "source": [
    "# сумма столбца duration до округления\n",
    "before = calls['duration'].sum()\n",
    "before"
   ]
  },
  {
   "cell_type": "code",
   "execution_count": 26,
   "metadata": {},
   "outputs": [],
   "source": [
    "# округляем\n",
    "calls['duration'] = calls['duration'].apply(np.ceil)"
   ]
  },
  {
   "cell_type": "code",
   "execution_count": 27,
   "metadata": {},
   "outputs": [
    {
     "data": {
      "text/plain": [
       "1450301.0"
      ]
     },
     "execution_count": 27,
     "metadata": {},
     "output_type": "execute_result"
    }
   ],
   "source": [
    "# сумма столбца duration после округления\n",
    "after = calls['duration'].sum()\n",
    "after"
   ]
  },
  {
   "cell_type": "code",
   "execution_count": 28,
   "metadata": {},
   "outputs": [
    {
     "data": {
      "text/plain": [
       "0.05620278824878435"
      ]
     },
     "execution_count": 28,
     "metadata": {},
     "output_type": "execute_result"
    }
   ],
   "source": [
    "(after - before) / after"
   ]
  },
  {
   "cell_type": "code",
   "execution_count": 29,
   "metadata": {},
   "outputs": [
    {
     "data": {
      "text/plain": [
       "0"
      ]
     },
     "execution_count": 29,
     "metadata": {},
     "output_type": "execute_result"
    }
   ],
   "source": [
    "# преобразуем к типу int\n",
    "calls['duration'] = calls['duration'].astype('int')\n",
    "# нулевые значениия не нужны - только 'раздуют' итоговую таблицу потом при join\n",
    "calls = calls.query('not duration == 0')\n",
    "# проверил\n",
    "len(calls.query('duration == 0'))"
   ]
  },
  {
   "cell_type": "markdown",
   "metadata": {},
   "source": [
    "**Tаблица messages**"
   ]
  },
  {
   "cell_type": "code",
   "execution_count": 30,
   "metadata": {},
   "outputs": [],
   "source": [
    "messages['message_date'] = pd.to_datetime(messages['message_date'], format=\"%Y-%m-%d\")"
   ]
  },
  {
   "cell_type": "code",
   "execution_count": 31,
   "metadata": {},
   "outputs": [
    {
     "name": "stdout",
     "output_type": "stream",
     "text": [
      "<class 'pandas.core.frame.DataFrame'>\n",
      "RangeIndex: 123036 entries, 0 to 123035\n",
      "Data columns (total 3 columns):\n",
      " #   Column        Non-Null Count   Dtype         \n",
      "---  ------        --------------   -----         \n",
      " 0   id            123036 non-null  object        \n",
      " 1   message_date  123036 non-null  datetime64[ns]\n",
      " 2   user_id       123036 non-null  int64         \n",
      "dtypes: datetime64[ns](1), int64(1), object(1)\n",
      "memory usage: 2.8+ MB\n"
     ]
    }
   ],
   "source": [
    "messages.info()"
   ]
  },
  {
   "cell_type": "markdown",
   "metadata": {},
   "source": [
    "Колонка с датой преобразована к типу date"
   ]
  },
  {
   "cell_type": "markdown",
   "metadata": {},
   "source": [
    "**Tаблица internet**"
   ]
  },
  {
   "cell_type": "code",
   "execution_count": 32,
   "metadata": {},
   "outputs": [],
   "source": [
    "internet['session_date'] = pd.to_datetime(internet['session_date'], format=\"%Y-%m-%d\")"
   ]
  },
  {
   "cell_type": "code",
   "execution_count": 33,
   "metadata": {},
   "outputs": [
    {
     "name": "stdout",
     "output_type": "stream",
     "text": [
      "<class 'pandas.core.frame.DataFrame'>\n",
      "RangeIndex: 149396 entries, 0 to 149395\n",
      "Data columns (total 5 columns):\n",
      " #   Column        Non-Null Count   Dtype         \n",
      "---  ------        --------------   -----         \n",
      " 0   Unnamed: 0    149396 non-null  int64         \n",
      " 1   id            149396 non-null  object        \n",
      " 2   mb_used       149396 non-null  float64       \n",
      " 3   session_date  149396 non-null  datetime64[ns]\n",
      " 4   user_id       149396 non-null  int64         \n",
      "dtypes: datetime64[ns](1), float64(1), int64(2), object(1)\n",
      "memory usage: 5.7+ MB\n"
     ]
    }
   ],
   "source": [
    "internet.info()"
   ]
  },
  {
   "cell_type": "markdown",
   "metadata": {},
   "source": [
    "Колонка с датой преобразована к типу date"
   ]
  },
  {
   "cell_type": "code",
   "execution_count": 34,
   "metadata": {},
   "outputs": [
    {
     "data": {
      "text/plain": [
       "0"
      ]
     },
     "execution_count": 34,
     "metadata": {},
     "output_type": "execute_result"
    }
   ],
   "source": [
    "# округляем\n",
    "internet['mb_used'] = internet['mb_used'].apply(np.ceil)\n",
    "\n",
    "# преобразуем к типу int\n",
    "internet['mb_used'] = internet['mb_used'].astype('int')\n",
    "\n",
    "# нулевые значениия не нужны - только 'раздуют' итоговую таблицу потом при join\n",
    "internet = internet.query('not mb_used == 0')\n",
    "\n",
    "# проверил\n",
    "len(internet.query('mb_used == 0'))"
   ]
  },
  {
   "cell_type": "code",
   "execution_count": 35,
   "metadata": {},
   "outputs": [
    {
     "name": "stdout",
     "output_type": "stream",
     "text": [
      "<class 'pandas.core.frame.DataFrame'>\n",
      "Int64Index: 129798 entries, 0 to 149395\n",
      "Data columns (total 5 columns):\n",
      " #   Column        Non-Null Count   Dtype         \n",
      "---  ------        --------------   -----         \n",
      " 0   Unnamed: 0    129798 non-null  int64         \n",
      " 1   id            129798 non-null  object        \n",
      " 2   mb_used       129798 non-null  int32         \n",
      " 3   session_date  129798 non-null  datetime64[ns]\n",
      " 4   user_id       129798 non-null  int64         \n",
      "dtypes: datetime64[ns](1), int32(1), int64(2), object(1)\n",
      "memory usage: 5.4+ MB\n"
     ]
    }
   ],
   "source": [
    "internet.info()"
   ]
  },
  {
   "cell_type": "markdown",
   "metadata": {},
   "source": [
    "**Tаблица tariffs**"
   ]
  },
  {
   "cell_type": "code",
   "execution_count": 36,
   "metadata": {},
   "outputs": [],
   "source": [
    "tariffs = tariffs.rename(columns={'tariff_name':'tariff'})\n",
    "\n",
    "# приведем колонку tariff к типу category, чтобы не было проблем при соединение с таблицей users (там тоже тип category)\n",
    "tariffs['tariff'] = tariffs['tariff'].astype('category')"
   ]
  },
  {
   "cell_type": "code",
   "execution_count": 37,
   "metadata": {},
   "outputs": [
    {
     "name": "stdout",
     "output_type": "stream",
     "text": [
      "<class 'pandas.core.frame.DataFrame'>\n",
      "RangeIndex: 2 entries, 0 to 1\n",
      "Data columns (total 8 columns):\n",
      " #   Column                 Non-Null Count  Dtype   \n",
      "---  ------                 --------------  -----   \n",
      " 0   messages_included      2 non-null      int64   \n",
      " 1   mb_per_month_included  2 non-null      int64   \n",
      " 2   minutes_included       2 non-null      int64   \n",
      " 3   rub_monthly_fee        2 non-null      int64   \n",
      " 4   rub_per_gb             2 non-null      int64   \n",
      " 5   rub_per_message        2 non-null      int64   \n",
      " 6   rub_per_minute         2 non-null      int64   \n",
      " 7   tariff                 2 non-null      category\n",
      "dtypes: category(1), int64(7)\n",
      "memory usage: 366.0 bytes\n"
     ]
    }
   ],
   "source": [
    "# проверим\n",
    "tariffs.info()"
   ]
  },
  {
   "cell_type": "code",
   "execution_count": 38,
   "metadata": {},
   "outputs": [
    {
     "data": {
      "text/html": [
       "<div>\n",
       "<style scoped>\n",
       "    .dataframe tbody tr th:only-of-type {\n",
       "        vertical-align: middle;\n",
       "    }\n",
       "\n",
       "    .dataframe tbody tr th {\n",
       "        vertical-align: top;\n",
       "    }\n",
       "\n",
       "    .dataframe thead th {\n",
       "        text-align: right;\n",
       "    }\n",
       "</style>\n",
       "<table border=\"1\" class=\"dataframe\">\n",
       "  <thead>\n",
       "    <tr style=\"text-align: right;\">\n",
       "      <th></th>\n",
       "      <th>messages_included</th>\n",
       "      <th>mb_per_month_included</th>\n",
       "      <th>minutes_included</th>\n",
       "      <th>rub_monthly_fee</th>\n",
       "      <th>rub_per_gb</th>\n",
       "      <th>rub_per_message</th>\n",
       "      <th>rub_per_minute</th>\n",
       "      <th>tariff</th>\n",
       "    </tr>\n",
       "  </thead>\n",
       "  <tbody>\n",
       "    <tr>\n",
       "      <th>0</th>\n",
       "      <td>50</td>\n",
       "      <td>15360</td>\n",
       "      <td>500</td>\n",
       "      <td>550</td>\n",
       "      <td>200</td>\n",
       "      <td>3</td>\n",
       "      <td>3</td>\n",
       "      <td>smart</td>\n",
       "    </tr>\n",
       "    <tr>\n",
       "      <th>1</th>\n",
       "      <td>1000</td>\n",
       "      <td>30720</td>\n",
       "      <td>3000</td>\n",
       "      <td>1950</td>\n",
       "      <td>150</td>\n",
       "      <td>1</td>\n",
       "      <td>1</td>\n",
       "      <td>ultra</td>\n",
       "    </tr>\n",
       "  </tbody>\n",
       "</table>\n",
       "</div>"
      ],
      "text/plain": [
       "   messages_included  mb_per_month_included  minutes_included  \\\n",
       "0                 50                  15360               500   \n",
       "1               1000                  30720              3000   \n",
       "\n",
       "   rub_monthly_fee  rub_per_gb  rub_per_message  rub_per_minute tariff  \n",
       "0              550         200                3               3  smart  \n",
       "1             1950         150                1               1  ultra  "
      ]
     },
     "execution_count": 38,
     "metadata": {},
     "output_type": "execute_result"
    }
   ],
   "source": [
    "tariffs.head(2)"
   ]
  },
  {
   "cell_type": "markdown",
   "metadata": {},
   "source": [
    "P.S. Преобразовывать int64 к int32 во всех таблицах не будем. Так как заметной экономии на небольшом датасет - это не даст. "
   ]
  },
  {
   "cell_type": "markdown",
   "metadata": {},
   "source": [
    "## Посчитаем для каждого пользователя:\n",
    "- количество сделанных звонков и израсходованных минут разговора по месяцам;\n",
    "- количество отправленных сообщений по месяцам;\n",
    "- объем израсходованного интернет-трафика по месяцам;\n",
    "- помесячную выручку с каждого пользователя (вычтем бесплатный лимит из суммарного количества звонков, сообщений и интернет-трафика; остаток умножем на значение из тарифного плана; прибавим абонентскую плату, соответствующую тарифному плану).\n"
   ]
  },
  {
   "cell_type": "markdown",
   "metadata": {},
   "source": [
    "### Количество сделанных звонков и израсходованных минут разговора по месяцам"
   ]
  },
  {
   "cell_type": "code",
   "execution_count": 39,
   "metadata": {},
   "outputs": [],
   "source": [
    "# добавим колонку с названиями месяцев\n",
    "dictionary_month = {1:'Январь',2:'Февраль',3:'Март',4:'Апрель',5:'Май',6:'Июнь',7:'Июль', \\\n",
    "                    8:'Август',9:'Сентябрь',10:'Октябрь',11:'Ноябрь',12:'Декабрь',}\n",
    "\n",
    "calls['month_id'] = calls['call_date'].dt.month \n",
    "\n",
    "calls['month'] = calls['call_date'].dt.month.map(dictionary_month)"
   ]
  },
  {
   "cell_type": "code",
   "execution_count": 40,
   "metadata": {},
   "outputs": [
    {
     "data": {
      "text/html": [
       "<div>\n",
       "<style scoped>\n",
       "    .dataframe tbody tr th:only-of-type {\n",
       "        vertical-align: middle;\n",
       "    }\n",
       "\n",
       "    .dataframe tbody tr th {\n",
       "        vertical-align: top;\n",
       "    }\n",
       "\n",
       "    .dataframe thead th {\n",
       "        text-align: right;\n",
       "    }\n",
       "</style>\n",
       "<table border=\"1\" class=\"dataframe\">\n",
       "  <thead>\n",
       "    <tr style=\"text-align: right;\">\n",
       "      <th></th>\n",
       "      <th>id</th>\n",
       "      <th>call_date</th>\n",
       "      <th>duration</th>\n",
       "      <th>user_id</th>\n",
       "      <th>month_id</th>\n",
       "      <th>month</th>\n",
       "      <th>month_eng</th>\n",
       "    </tr>\n",
       "  </thead>\n",
       "  <tbody>\n",
       "    <tr>\n",
       "      <th>193140</th>\n",
       "      <td>1474_53</td>\n",
       "      <td>2018-12-18</td>\n",
       "      <td>12</td>\n",
       "      <td>1474</td>\n",
       "      <td>12</td>\n",
       "      <td>Декабрь</td>\n",
       "      <td>December</td>\n",
       "    </tr>\n",
       "    <tr>\n",
       "      <th>190634</th>\n",
       "      <td>1469_253</td>\n",
       "      <td>2018-09-17</td>\n",
       "      <td>7</td>\n",
       "      <td>1469</td>\n",
       "      <td>9</td>\n",
       "      <td>Сентябрь</td>\n",
       "      <td>September</td>\n",
       "    </tr>\n",
       "    <tr>\n",
       "      <th>157521</th>\n",
       "      <td>1391_2</td>\n",
       "      <td>2018-08-24</td>\n",
       "      <td>14</td>\n",
       "      <td>1391</td>\n",
       "      <td>8</td>\n",
       "      <td>Август</td>\n",
       "      <td>August</td>\n",
       "    </tr>\n",
       "    <tr>\n",
       "      <th>186049</th>\n",
       "      <td>1459_186</td>\n",
       "      <td>2018-12-28</td>\n",
       "      <td>1</td>\n",
       "      <td>1459</td>\n",
       "      <td>12</td>\n",
       "      <td>Декабрь</td>\n",
       "      <td>December</td>\n",
       "    </tr>\n",
       "    <tr>\n",
       "      <th>113868</th>\n",
       "      <td>1291_494</td>\n",
       "      <td>2018-03-29</td>\n",
       "      <td>6</td>\n",
       "      <td>1291</td>\n",
       "      <td>3</td>\n",
       "      <td>Март</td>\n",
       "      <td>March</td>\n",
       "    </tr>\n",
       "  </tbody>\n",
       "</table>\n",
       "</div>"
      ],
      "text/plain": [
       "              id  call_date  duration  user_id  month_id     month  month_eng\n",
       "193140   1474_53 2018-12-18        12     1474        12   Декабрь   December\n",
       "190634  1469_253 2018-09-17         7     1469         9  Сентябрь  September\n",
       "157521    1391_2 2018-08-24        14     1391         8    Август     August\n",
       "186049  1459_186 2018-12-28         1     1459        12   Декабрь   December\n",
       "113868  1291_494 2018-03-29         6     1291         3      Март      March"
      ]
     },
     "execution_count": 40,
     "metadata": {},
     "output_type": "execute_result"
    }
   ],
   "source": [
    "calls['month_eng'] = calls['call_date'].dt.month_name()\n",
    "calls.sample(5)"
   ]
  },
  {
   "cell_type": "code",
   "execution_count": 41,
   "metadata": {},
   "outputs": [
    {
     "data": {
      "text/html": [
       "<div>\n",
       "<style scoped>\n",
       "    .dataframe tbody tr th:only-of-type {\n",
       "        vertical-align: middle;\n",
       "    }\n",
       "\n",
       "    .dataframe tbody tr th {\n",
       "        vertical-align: top;\n",
       "    }\n",
       "\n",
       "    .dataframe thead th {\n",
       "        text-align: right;\n",
       "    }\n",
       "</style>\n",
       "<table border=\"1\" class=\"dataframe\">\n",
       "  <thead>\n",
       "    <tr style=\"text-align: right;\">\n",
       "      <th></th>\n",
       "      <th>id</th>\n",
       "      <th>call_date</th>\n",
       "      <th>duration</th>\n",
       "      <th>user_id</th>\n",
       "      <th>month_id</th>\n",
       "      <th>month</th>\n",
       "      <th>month_eng</th>\n",
       "    </tr>\n",
       "  </thead>\n",
       "  <tbody>\n",
       "    <tr>\n",
       "      <th>2</th>\n",
       "      <td>1000_2</td>\n",
       "      <td>2018-06-11</td>\n",
       "      <td>3</td>\n",
       "      <td>1000</td>\n",
       "      <td>6</td>\n",
       "      <td>Июнь</td>\n",
       "      <td>June</td>\n",
       "    </tr>\n",
       "  </tbody>\n",
       "</table>\n",
       "</div>"
      ],
      "text/plain": [
       "       id  call_date  duration  user_id  month_id month month_eng\n",
       "2  1000_2 2018-06-11         3     1000         6  Июнь      June"
      ]
     },
     "execution_count": 41,
     "metadata": {},
     "output_type": "execute_result"
    }
   ],
   "source": [
    "# проверяем результат\n",
    "calls.head(1)"
   ]
  },
  {
   "cell_type": "code",
   "execution_count": 42,
   "metadata": {},
   "outputs": [
    {
     "data": {
      "text/html": [
       "<div>\n",
       "<style scoped>\n",
       "    .dataframe tbody tr th:only-of-type {\n",
       "        vertical-align: middle;\n",
       "    }\n",
       "\n",
       "    .dataframe tbody tr th {\n",
       "        vertical-align: top;\n",
       "    }\n",
       "\n",
       "    .dataframe thead th {\n",
       "        text-align: right;\n",
       "    }\n",
       "</style>\n",
       "<table border=\"1\" class=\"dataframe\">\n",
       "  <thead>\n",
       "    <tr style=\"text-align: right;\">\n",
       "      <th></th>\n",
       "      <th>user_id</th>\n",
       "      <th>month</th>\n",
       "      <th>duration</th>\n",
       "      <th>id</th>\n",
       "    </tr>\n",
       "  </thead>\n",
       "  <tbody>\n",
       "    <tr>\n",
       "      <th>0</th>\n",
       "      <td>1000</td>\n",
       "      <td>Август</td>\n",
       "      <td>408</td>\n",
       "      <td>42</td>\n",
       "    </tr>\n",
       "    <tr>\n",
       "      <th>1</th>\n",
       "      <td>1000</td>\n",
       "      <td>Декабрь</td>\n",
       "      <td>333</td>\n",
       "      <td>38</td>\n",
       "    </tr>\n",
       "  </tbody>\n",
       "</table>\n",
       "</div>"
      ],
      "text/plain": [
       "   user_id    month  duration  id\n",
       "0     1000   Август       408  42\n",
       "1     1000  Декабрь       333  38"
      ]
     },
     "execution_count": 42,
     "metadata": {},
     "output_type": "execute_result"
    }
   ],
   "source": [
    "calls_month = calls.groupby(['user_id', 'month']).agg({'duration':'sum', 'id':'count'}).reset_index()\n",
    "calls_month.head(2)"
   ]
  },
  {
   "cell_type": "code",
   "execution_count": 43,
   "metadata": {},
   "outputs": [
    {
     "data": {
      "text/html": [
       "<div>\n",
       "<style scoped>\n",
       "    .dataframe tbody tr th:only-of-type {\n",
       "        vertical-align: middle;\n",
       "    }\n",
       "\n",
       "    .dataframe tbody tr th {\n",
       "        vertical-align: top;\n",
       "    }\n",
       "\n",
       "    .dataframe thead th {\n",
       "        text-align: right;\n",
       "    }\n",
       "</style>\n",
       "<table border=\"1\" class=\"dataframe\">\n",
       "  <thead>\n",
       "    <tr style=\"text-align: right;\">\n",
       "      <th></th>\n",
       "      <th>user_id</th>\n",
       "      <th>first_name</th>\n",
       "      <th>last_name</th>\n",
       "      <th>month</th>\n",
       "      <th>month_calls_duration</th>\n",
       "      <th>month_calls_count</th>\n",
       "      <th>tariff</th>\n",
       "    </tr>\n",
       "  </thead>\n",
       "  <tbody>\n",
       "    <tr>\n",
       "      <th>0</th>\n",
       "      <td>1000</td>\n",
       "      <td>Рафаил</td>\n",
       "      <td>Верещагин</td>\n",
       "      <td>Август</td>\n",
       "      <td>408</td>\n",
       "      <td>42</td>\n",
       "      <td>ultra</td>\n",
       "    </tr>\n",
       "    <tr>\n",
       "      <th>1</th>\n",
       "      <td>1000</td>\n",
       "      <td>Рафаил</td>\n",
       "      <td>Верещагин</td>\n",
       "      <td>Декабрь</td>\n",
       "      <td>333</td>\n",
       "      <td>38</td>\n",
       "      <td>ultra</td>\n",
       "    </tr>\n",
       "    <tr>\n",
       "      <th>2</th>\n",
       "      <td>1000</td>\n",
       "      <td>Рафаил</td>\n",
       "      <td>Верещагин</td>\n",
       "      <td>Июль</td>\n",
       "      <td>340</td>\n",
       "      <td>41</td>\n",
       "      <td>ultra</td>\n",
       "    </tr>\n",
       "    <tr>\n",
       "      <th>3</th>\n",
       "      <td>1000</td>\n",
       "      <td>Рафаил</td>\n",
       "      <td>Верещагин</td>\n",
       "      <td>Июнь</td>\n",
       "      <td>172</td>\n",
       "      <td>28</td>\n",
       "      <td>ultra</td>\n",
       "    </tr>\n",
       "    <tr>\n",
       "      <th>4</th>\n",
       "      <td>1000</td>\n",
       "      <td>Рафаил</td>\n",
       "      <td>Верещагин</td>\n",
       "      <td>Май</td>\n",
       "      <td>159</td>\n",
       "      <td>17</td>\n",
       "      <td>ultra</td>\n",
       "    </tr>\n",
       "  </tbody>\n",
       "</table>\n",
       "</div>"
      ],
      "text/plain": [
       "   user_id first_name  last_name    month  month_calls_duration  \\\n",
       "0     1000     Рафаил  Верещагин   Август                   408   \n",
       "1     1000     Рафаил  Верещагин  Декабрь                   333   \n",
       "2     1000     Рафаил  Верещагин     Июль                   340   \n",
       "3     1000     Рафаил  Верещагин     Июнь                   172   \n",
       "4     1000     Рафаил  Верещагин      Май                   159   \n",
       "\n",
       "   month_calls_count tariff  \n",
       "0                 42  ultra  \n",
       "1                 38  ultra  \n",
       "2                 41  ultra  \n",
       "3                 28  ultra  \n",
       "4                 17  ultra  "
      ]
     },
     "execution_count": 43,
     "metadata": {},
     "output_type": "execute_result"
    }
   ],
   "source": [
    "# переименуем для наглядносити колонки длительности (duration) и количества звонков (id)\n",
    "calls_month = calls_month.rename(columns={'duration':'month_calls_duration','id':'month_calls_count'})\n",
    "\n",
    "# подтянем по user-id ФИО из таблицы users\n",
    "calls_month_users = calls_month.merge(users[['user_id','first_name','last_name','tariff']], on='user_id', how = 'left')\n",
    "\n",
    "# поменяем порядок колонок\n",
    "string_columns = 'user_id,first_name,last_name,month,month_calls_duration,month_calls_count,tariff'\n",
    "list_columns = string_columns.split(',')\n",
    "calls_month_users_info = calls_month_users[list_columns]\n",
    "\n",
    "# смотрим, что получилось\n",
    "calls_month_users_info.head(5)"
   ]
  },
  {
   "cell_type": "code",
   "execution_count": null,
   "metadata": {},
   "outputs": [],
   "source": []
  },
  {
   "cell_type": "markdown",
   "metadata": {},
   "source": [
    "### Количество отправленных сообщений по месяцам"
   ]
  },
  {
   "cell_type": "code",
   "execution_count": 44,
   "metadata": {},
   "outputs": [],
   "source": [
    "# добавим колонку с названиями месяцев\n",
    "# dictionary_month = {1:'Январь',2:'Февраль',3:'Март',4:'Апрель',5:'Май',6:'Июнь',7:'Июль', \\\n",
    "#                     8:'Август',9:'Сентябрь',10:'Октябрь',11:'Ноябрь',12:'Декабрь',}\n",
    "\n",
    "messages['month_id'] = messages['message_date'].dt.month \n",
    "messages['month'] = messages['message_date'].dt.month.map(dictionary_month)"
   ]
  },
  {
   "cell_type": "code",
   "execution_count": 45,
   "metadata": {},
   "outputs": [
    {
     "data": {
      "text/html": [
       "<div>\n",
       "<style scoped>\n",
       "    .dataframe tbody tr th:only-of-type {\n",
       "        vertical-align: middle;\n",
       "    }\n",
       "\n",
       "    .dataframe tbody tr th {\n",
       "        vertical-align: top;\n",
       "    }\n",
       "\n",
       "    .dataframe thead th {\n",
       "        text-align: right;\n",
       "    }\n",
       "</style>\n",
       "<table border=\"1\" class=\"dataframe\">\n",
       "  <thead>\n",
       "    <tr style=\"text-align: right;\">\n",
       "      <th></th>\n",
       "      <th>id</th>\n",
       "      <th>message_date</th>\n",
       "      <th>user_id</th>\n",
       "      <th>month_id</th>\n",
       "      <th>month</th>\n",
       "    </tr>\n",
       "  </thead>\n",
       "  <tbody>\n",
       "    <tr>\n",
       "      <th>74765</th>\n",
       "      <td>1317_4</td>\n",
       "      <td>2018-08-31</td>\n",
       "      <td>1317</td>\n",
       "      <td>8</td>\n",
       "      <td>Август</td>\n",
       "    </tr>\n",
       "    <tr>\n",
       "      <th>25045</th>\n",
       "      <td>1104_237</td>\n",
       "      <td>2018-06-28</td>\n",
       "      <td>1104</td>\n",
       "      <td>6</td>\n",
       "      <td>Июнь</td>\n",
       "    </tr>\n",
       "    <tr>\n",
       "      <th>90638</th>\n",
       "      <td>1375_438</td>\n",
       "      <td>2018-08-13</td>\n",
       "      <td>1375</td>\n",
       "      <td>8</td>\n",
       "      <td>Август</td>\n",
       "    </tr>\n",
       "    <tr>\n",
       "      <th>3476</th>\n",
       "      <td>1014_93</td>\n",
       "      <td>2018-09-14</td>\n",
       "      <td>1014</td>\n",
       "      <td>9</td>\n",
       "      <td>Сентябрь</td>\n",
       "    </tr>\n",
       "    <tr>\n",
       "      <th>25093</th>\n",
       "      <td>1104_285</td>\n",
       "      <td>2018-09-18</td>\n",
       "      <td>1104</td>\n",
       "      <td>9</td>\n",
       "      <td>Сентябрь</td>\n",
       "    </tr>\n",
       "  </tbody>\n",
       "</table>\n",
       "</div>"
      ],
      "text/plain": [
       "             id message_date  user_id  month_id     month\n",
       "74765    1317_4   2018-08-31     1317         8    Август\n",
       "25045  1104_237   2018-06-28     1104         6      Июнь\n",
       "90638  1375_438   2018-08-13     1375         8    Август\n",
       "3476    1014_93   2018-09-14     1014         9  Сентябрь\n",
       "25093  1104_285   2018-09-18     1104         9  Сентябрь"
      ]
     },
     "execution_count": 45,
     "metadata": {},
     "output_type": "execute_result"
    }
   ],
   "source": [
    "messages.sample(5)"
   ]
  },
  {
   "cell_type": "code",
   "execution_count": 46,
   "metadata": {},
   "outputs": [
    {
     "data": {
      "text/html": [
       "<div>\n",
       "<style scoped>\n",
       "    .dataframe tbody tr th:only-of-type {\n",
       "        vertical-align: middle;\n",
       "    }\n",
       "\n",
       "    .dataframe tbody tr th {\n",
       "        vertical-align: top;\n",
       "    }\n",
       "\n",
       "    .dataframe thead th {\n",
       "        text-align: right;\n",
       "    }\n",
       "</style>\n",
       "<table border=\"1\" class=\"dataframe\">\n",
       "  <thead>\n",
       "    <tr style=\"text-align: right;\">\n",
       "      <th></th>\n",
       "      <th>user_id</th>\n",
       "      <th>month</th>\n",
       "      <th>id</th>\n",
       "    </tr>\n",
       "  </thead>\n",
       "  <tbody>\n",
       "    <tr>\n",
       "      <th>0</th>\n",
       "      <td>1000</td>\n",
       "      <td>Август</td>\n",
       "      <td>81</td>\n",
       "    </tr>\n",
       "    <tr>\n",
       "      <th>1</th>\n",
       "      <td>1000</td>\n",
       "      <td>Декабрь</td>\n",
       "      <td>70</td>\n",
       "    </tr>\n",
       "  </tbody>\n",
       "</table>\n",
       "</div>"
      ],
      "text/plain": [
       "   user_id    month  id\n",
       "0     1000   Август  81\n",
       "1     1000  Декабрь  70"
      ]
     },
     "execution_count": 46,
     "metadata": {},
     "output_type": "execute_result"
    }
   ],
   "source": [
    "messages_month = messages.groupby(['user_id', 'month']).agg({'id':'count'}).reset_index()\n",
    "messages_month.head(2)"
   ]
  },
  {
   "cell_type": "code",
   "execution_count": 47,
   "metadata": {
    "scrolled": true
   },
   "outputs": [
    {
     "data": {
      "text/html": [
       "<div>\n",
       "<style scoped>\n",
       "    .dataframe tbody tr th:only-of-type {\n",
       "        vertical-align: middle;\n",
       "    }\n",
       "\n",
       "    .dataframe tbody tr th {\n",
       "        vertical-align: top;\n",
       "    }\n",
       "\n",
       "    .dataframe thead th {\n",
       "        text-align: right;\n",
       "    }\n",
       "</style>\n",
       "<table border=\"1\" class=\"dataframe\">\n",
       "  <thead>\n",
       "    <tr style=\"text-align: right;\">\n",
       "      <th></th>\n",
       "      <th>user_id</th>\n",
       "      <th>first_name</th>\n",
       "      <th>last_name</th>\n",
       "      <th>month</th>\n",
       "      <th>month_messages_count</th>\n",
       "      <th>tariff</th>\n",
       "    </tr>\n",
       "  </thead>\n",
       "  <tbody>\n",
       "    <tr>\n",
       "      <th>1464</th>\n",
       "      <td>1282</td>\n",
       "      <td>Артём</td>\n",
       "      <td>Аракчеев</td>\n",
       "      <td>Октябрь</td>\n",
       "      <td>72</td>\n",
       "      <td>smart</td>\n",
       "    </tr>\n",
       "    <tr>\n",
       "      <th>1408</th>\n",
       "      <td>1274</td>\n",
       "      <td>Аксён</td>\n",
       "      <td>Еремин</td>\n",
       "      <td>Декабрь</td>\n",
       "      <td>91</td>\n",
       "      <td>smart</td>\n",
       "    </tr>\n",
       "    <tr>\n",
       "      <th>1355</th>\n",
       "      <td>1265</td>\n",
       "      <td>Радим</td>\n",
       "      <td>Адамов</td>\n",
       "      <td>Июнь</td>\n",
       "      <td>18</td>\n",
       "      <td>ultra</td>\n",
       "    </tr>\n",
       "    <tr>\n",
       "      <th>649</th>\n",
       "      <td>1121</td>\n",
       "      <td>Марта</td>\n",
       "      <td>Афанасова</td>\n",
       "      <td>Сентябрь</td>\n",
       "      <td>34</td>\n",
       "      <td>smart</td>\n",
       "    </tr>\n",
       "    <tr>\n",
       "      <th>393</th>\n",
       "      <td>1072</td>\n",
       "      <td>Андрей</td>\n",
       "      <td>Андрейкин</td>\n",
       "      <td>Август</td>\n",
       "      <td>24</td>\n",
       "      <td>smart</td>\n",
       "    </tr>\n",
       "    <tr>\n",
       "      <th>1378</th>\n",
       "      <td>1269</td>\n",
       "      <td>Аким</td>\n",
       "      <td>Ахмадулин</td>\n",
       "      <td>Декабрь</td>\n",
       "      <td>16</td>\n",
       "      <td>smart</td>\n",
       "    </tr>\n",
       "    <tr>\n",
       "      <th>2331</th>\n",
       "      <td>1430</td>\n",
       "      <td>Андрей</td>\n",
       "      <td>Авроров</td>\n",
       "      <td>Сентябрь</td>\n",
       "      <td>34</td>\n",
       "      <td>ultra</td>\n",
       "    </tr>\n",
       "    <tr>\n",
       "      <th>964</th>\n",
       "      <td>1181</td>\n",
       "      <td>Рем</td>\n",
       "      <td>Аврорин</td>\n",
       "      <td>Ноябрь</td>\n",
       "      <td>16</td>\n",
       "      <td>smart</td>\n",
       "    </tr>\n",
       "    <tr>\n",
       "      <th>666</th>\n",
       "      <td>1125</td>\n",
       "      <td>Сабина</td>\n",
       "      <td>Озерова</td>\n",
       "      <td>Декабрь</td>\n",
       "      <td>2</td>\n",
       "      <td>smart</td>\n",
       "    </tr>\n",
       "    <tr>\n",
       "      <th>184</th>\n",
       "      <td>1033</td>\n",
       "      <td>Лия</td>\n",
       "      <td>Бабушкина</td>\n",
       "      <td>Декабрь</td>\n",
       "      <td>72</td>\n",
       "      <td>smart</td>\n",
       "    </tr>\n",
       "  </tbody>\n",
       "</table>\n",
       "</div>"
      ],
      "text/plain": [
       "      user_id first_name  last_name     month  month_messages_count tariff\n",
       "1464     1282      Артём   Аракчеев   Октябрь                    72  smart\n",
       "1408     1274      Аксён     Еремин   Декабрь                    91  smart\n",
       "1355     1265      Радим     Адамов      Июнь                    18  ultra\n",
       "649      1121      Марта  Афанасова  Сентябрь                    34  smart\n",
       "393      1072     Андрей  Андрейкин    Август                    24  smart\n",
       "1378     1269       Аким  Ахмадулин   Декабрь                    16  smart\n",
       "2331     1430     Андрей    Авроров  Сентябрь                    34  ultra\n",
       "964      1181        Рем    Аврорин    Ноябрь                    16  smart\n",
       "666      1125     Сабина    Озерова   Декабрь                     2  smart\n",
       "184      1033        Лия  Бабушкина   Декабрь                    72  smart"
      ]
     },
     "execution_count": 47,
     "metadata": {},
     "output_type": "execute_result"
    }
   ],
   "source": [
    "# переименуем для наглядносити колонку количества сообщениий (id)\n",
    "messages_month = messages_month.rename(columns={'id':'month_messages_count'})\n",
    "\n",
    "# подтянем по user-id ФИО из таблицы users\n",
    "messages_month_users = messages_month.merge(users[['user_id','first_name','last_name','tariff']], on='user_id', how = 'left')\n",
    "\n",
    "# поменяем порядок колонок\n",
    "string_columns = 'user_id,first_name,last_name,month,month_messages_count,tariff'\n",
    "list_columns = string_columns.split(',')\n",
    "messages_month_users_info = messages_month_users[list_columns]\n",
    "\n",
    "# смотрим, что получилось\n",
    "messages_month_users_info.sample(10)"
   ]
  },
  {
   "cell_type": "markdown",
   "metadata": {},
   "source": [
    "### Объем израсходованного интернет-трафика по месяцам"
   ]
  },
  {
   "cell_type": "code",
   "execution_count": 48,
   "metadata": {},
   "outputs": [],
   "source": [
    "# добавим колонку с названиями месяцев\n",
    "# dictionary_month = {1:'Январь',2:'Февраль',3:'Март',4:'Апрель',5:'Май',6:'Июнь',7:'Июль', \\\n",
    "#                     8:'Август',9:'Сентябрь',10:'Октябрь',11:'Ноябрь',12:'Декабрь',}\n",
    "\n",
    "internet['month_id'] = internet['session_date'].dt.month \n",
    "internet['month'] = internet['session_date'].dt.month.map(dictionary_month)"
   ]
  },
  {
   "cell_type": "code",
   "execution_count": 49,
   "metadata": {},
   "outputs": [
    {
     "data": {
      "text/html": [
       "<div>\n",
       "<style scoped>\n",
       "    .dataframe tbody tr th:only-of-type {\n",
       "        vertical-align: middle;\n",
       "    }\n",
       "\n",
       "    .dataframe tbody tr th {\n",
       "        vertical-align: top;\n",
       "    }\n",
       "\n",
       "    .dataframe thead th {\n",
       "        text-align: right;\n",
       "    }\n",
       "</style>\n",
       "<table border=\"1\" class=\"dataframe\">\n",
       "  <thead>\n",
       "    <tr style=\"text-align: right;\">\n",
       "      <th></th>\n",
       "      <th>user_id</th>\n",
       "      <th>month</th>\n",
       "      <th>mb_used</th>\n",
       "    </tr>\n",
       "  </thead>\n",
       "  <tbody>\n",
       "    <tr>\n",
       "      <th>0</th>\n",
       "      <td>1000</td>\n",
       "      <td>Август</td>\n",
       "      <td>14070</td>\n",
       "    </tr>\n",
       "    <tr>\n",
       "      <th>1</th>\n",
       "      <td>1000</td>\n",
       "      <td>Декабрь</td>\n",
       "      <td>9827</td>\n",
       "    </tr>\n",
       "  </tbody>\n",
       "</table>\n",
       "</div>"
      ],
      "text/plain": [
       "   user_id    month  mb_used\n",
       "0     1000   Август    14070\n",
       "1     1000  Декабрь     9827"
      ]
     },
     "execution_count": 49,
     "metadata": {},
     "output_type": "execute_result"
    }
   ],
   "source": [
    "internet_month = internet.groupby(['user_id', 'month']).agg({'mb_used':'sum'}).reset_index()\n",
    "internet_month.head(2)"
   ]
  },
  {
   "cell_type": "code",
   "execution_count": 50,
   "metadata": {},
   "outputs": [
    {
     "data": {
      "text/html": [
       "<div>\n",
       "<style scoped>\n",
       "    .dataframe tbody tr th:only-of-type {\n",
       "        vertical-align: middle;\n",
       "    }\n",
       "\n",
       "    .dataframe tbody tr th {\n",
       "        vertical-align: top;\n",
       "    }\n",
       "\n",
       "    .dataframe thead th {\n",
       "        text-align: right;\n",
       "    }\n",
       "</style>\n",
       "<table border=\"1\" class=\"dataframe\">\n",
       "  <thead>\n",
       "    <tr style=\"text-align: right;\">\n",
       "      <th></th>\n",
       "      <th>user_id</th>\n",
       "      <th>first_name</th>\n",
       "      <th>last_name</th>\n",
       "      <th>month</th>\n",
       "      <th>mb_used</th>\n",
       "      <th>tariff</th>\n",
       "    </tr>\n",
       "  </thead>\n",
       "  <tbody>\n",
       "    <tr>\n",
       "      <th>2875</th>\n",
       "      <td>1452</td>\n",
       "      <td>Эмилия</td>\n",
       "      <td>Абалдуева</td>\n",
       "      <td>Июнь</td>\n",
       "      <td>10936</td>\n",
       "      <td>ultra</td>\n",
       "    </tr>\n",
       "    <tr>\n",
       "      <th>1453</th>\n",
       "      <td>1227</td>\n",
       "      <td>Раиса</td>\n",
       "      <td>Калинина</td>\n",
       "      <td>Октябрь</td>\n",
       "      <td>19301</td>\n",
       "      <td>smart</td>\n",
       "    </tr>\n",
       "    <tr>\n",
       "      <th>2471</th>\n",
       "      <td>1389</td>\n",
       "      <td>Надежда</td>\n",
       "      <td>Латышева</td>\n",
       "      <td>Июль</td>\n",
       "      <td>3845</td>\n",
       "      <td>smart</td>\n",
       "    </tr>\n",
       "    <tr>\n",
       "      <th>2951</th>\n",
       "      <td>1462</td>\n",
       "      <td>Алёна</td>\n",
       "      <td>Абрамычева</td>\n",
       "      <td>Декабрь</td>\n",
       "      <td>24335</td>\n",
       "      <td>smart</td>\n",
       "    </tr>\n",
       "    <tr>\n",
       "      <th>2826</th>\n",
       "      <td>1439</td>\n",
       "      <td>Евгения</td>\n",
       "      <td>Афонина</td>\n",
       "      <td>Сентябрь</td>\n",
       "      <td>28670</td>\n",
       "      <td>smart</td>\n",
       "    </tr>\n",
       "    <tr>\n",
       "      <th>565</th>\n",
       "      <td>1089</td>\n",
       "      <td>Ксения</td>\n",
       "      <td>Нечаева</td>\n",
       "      <td>Сентябрь</td>\n",
       "      <td>10945</td>\n",
       "      <td>ultra</td>\n",
       "    </tr>\n",
       "    <tr>\n",
       "      <th>1795</th>\n",
       "      <td>1284</td>\n",
       "      <td>Евфросинья</td>\n",
       "      <td>Петухова</td>\n",
       "      <td>Октябрь</td>\n",
       "      <td>21617</td>\n",
       "      <td>smart</td>\n",
       "    </tr>\n",
       "    <tr>\n",
       "      <th>2486</th>\n",
       "      <td>1391</td>\n",
       "      <td>Герасим</td>\n",
       "      <td>Аркадьев</td>\n",
       "      <td>Ноябрь</td>\n",
       "      <td>27516</td>\n",
       "      <td>ultra</td>\n",
       "    </tr>\n",
       "    <tr>\n",
       "      <th>649</th>\n",
       "      <td>1102</td>\n",
       "      <td>Марта</td>\n",
       "      <td>Королькова</td>\n",
       "      <td>Июль</td>\n",
       "      <td>21471</td>\n",
       "      <td>smart</td>\n",
       "    </tr>\n",
       "    <tr>\n",
       "      <th>2259</th>\n",
       "      <td>1359</td>\n",
       "      <td>Константин</td>\n",
       "      <td>Абашкин</td>\n",
       "      <td>Июль</td>\n",
       "      <td>1011</td>\n",
       "      <td>smart</td>\n",
       "    </tr>\n",
       "  </tbody>\n",
       "</table>\n",
       "</div>"
      ],
      "text/plain": [
       "      user_id  first_name   last_name     month  mb_used tariff\n",
       "2875     1452      Эмилия   Абалдуева      Июнь    10936  ultra\n",
       "1453     1227       Раиса    Калинина   Октябрь    19301  smart\n",
       "2471     1389     Надежда    Латышева      Июль     3845  smart\n",
       "2951     1462       Алёна  Абрамычева   Декабрь    24335  smart\n",
       "2826     1439     Евгения     Афонина  Сентябрь    28670  smart\n",
       "565      1089      Ксения     Нечаева  Сентябрь    10945  ultra\n",
       "1795     1284  Евфросинья    Петухова   Октябрь    21617  smart\n",
       "2486     1391     Герасим    Аркадьев    Ноябрь    27516  ultra\n",
       "649      1102       Марта  Королькова      Июль    21471  smart\n",
       "2259     1359  Константин     Абашкин      Июль     1011  smart"
      ]
     },
     "execution_count": 50,
     "metadata": {},
     "output_type": "execute_result"
    }
   ],
   "source": [
    "# подтянем по user-id ФИО из таблицы users\n",
    "internet_month_users = internet_month.merge(users[['user_id','first_name','last_name','tariff']], on='\\\n",
    "user_id', how = 'left')\n",
    "\n",
    "# поменяем порядок колонок\n",
    "string_columns = 'user_id,first_name,last_name,month,mb_used,tariff'\n",
    "list_columns = string_columns.split(',')\n",
    "internet_month_users_info = internet_month_users[list_columns]\n",
    "\n",
    "# смотрим, что получилось\n",
    "internet_month_users_info.sample(10)"
   ]
  },
  {
   "cell_type": "markdown",
   "metadata": {},
   "source": [
    "### Помесячная выручка с каждого пользователя (вычтем бесплатный лимит из суммарного количества звонков, сообщений и интернет-трафика; остаток умножем на значение из тарифного плана; прибавим абонентскую плату, соответствующую тарифному плану)."
   ]
  },
  {
   "cell_type": "markdown",
   "metadata": {},
   "source": [
    "Соберем итоговую таблицу методои merge (полное соединение = звоки + сообщения + интернет), а при нехватке памяти на тренажере через join с двойным индексом 'user_id','month' \n",
    "\n",
    "*Примечание. Если объединение таблиц методом merge приводит к ошибке dead kernell, примените метод join — это облегчит нагрузку на Jupyter Notebook.*"
   ]
  },
  {
   "cell_type": "code",
   "execution_count": 51,
   "metadata": {},
   "outputs": [],
   "source": [
    "error_memory = False\n",
    "try: # памяти достаточно\n",
    "    df = calls_month.merge(messages_month, on=['user_id','month'], how='outer') \n",
    "    df = df.merge(internet_month, on=['user_id','month'], how='outer') \n",
    "except: # если не достаточно памяти взводим флаг переключатель\n",
    "    error_memory = True"
   ]
  },
  {
   "cell_type": "code",
   "execution_count": 52,
   "metadata": {},
   "outputs": [],
   "source": [
    "if error_memory: \n",
    "    try:\n",
    "        messages_month_double_index = messages_month.set_index(['user_id','month'])\n",
    "        calls_month_double_index = calls_month.set_index(['user_id','month'])\n",
    "        internet_month_double_index = internet_month.set_index(['user_id','month'])  #inplace=True)\n",
    "        df = calls_month_double_index.join(messages_month_double_index, how='outer')\n",
    "        df = df.join(internet_month_double_index, how='outer')\n",
    "        df.reset_index()\n",
    "    except: \n",
    "        print('Ошибка операторов join')"
   ]
  },
  {
   "cell_type": "markdown",
   "metadata": {},
   "source": [
    "Добавим к итоговой таблице тариф и ФИО"
   ]
  },
  {
   "cell_type": "code",
   "execution_count": 53,
   "metadata": {},
   "outputs": [],
   "source": [
    "df = df.merge(users, on=['user_id'], how='left') \n",
    "df = df.merge(tariffs, on=['tariff'], how='left')"
   ]
  },
  {
   "cell_type": "code",
   "execution_count": 54,
   "metadata": {},
   "outputs": [
    {
     "name": "stdout",
     "output_type": "stream",
     "text": [
      "<class 'pandas.core.frame.DataFrame'>\n",
      "Int64Index: 3214 entries, 0 to 3213\n",
      "Data columns (total 21 columns):\n",
      " #   Column                 Non-Null Count  Dtype         \n",
      "---  ------                 --------------  -----         \n",
      " 0   user_id                3214 non-null   int64         \n",
      " 1   month                  3214 non-null   object        \n",
      " 2   month_calls_duration   3168 non-null   float64       \n",
      " 3   month_calls_count      3168 non-null   float64       \n",
      " 4   month_messages_count   2717 non-null   float64       \n",
      " 5   mb_used                3201 non-null   float64       \n",
      " 6   age                    3214 non-null   int64         \n",
      " 7   churn_date             187 non-null    datetime64[ns]\n",
      " 8   city                   3214 non-null   object        \n",
      " 9   first_name             3214 non-null   object        \n",
      " 10  last_name              3214 non-null   object        \n",
      " 11  reg_date               3214 non-null   datetime64[ns]\n",
      " 12  tariff                 3214 non-null   category      \n",
      " 13  tariff_on              3214 non-null   int64         \n",
      " 14  messages_included      3214 non-null   int64         \n",
      " 15  mb_per_month_included  3214 non-null   int64         \n",
      " 16  minutes_included       3214 non-null   int64         \n",
      " 17  rub_monthly_fee        3214 non-null   int64         \n",
      " 18  rub_per_gb             3214 non-null   int64         \n",
      " 19  rub_per_message        3214 non-null   int64         \n",
      " 20  rub_per_minute         3214 non-null   int64         \n",
      "dtypes: category(1), datetime64[ns](2), float64(4), int64(10), object(4)\n",
      "memory usage: 530.6+ KB\n"
     ]
    }
   ],
   "source": [
    "df.info()"
   ]
  },
  {
   "cell_type": "code",
   "execution_count": 55,
   "metadata": {},
   "outputs": [
    {
     "data": {
      "text/html": [
       "<div>\n",
       "<style scoped>\n",
       "    .dataframe tbody tr th:only-of-type {\n",
       "        vertical-align: middle;\n",
       "    }\n",
       "\n",
       "    .dataframe tbody tr th {\n",
       "        vertical-align: top;\n",
       "    }\n",
       "\n",
       "    .dataframe thead th {\n",
       "        text-align: right;\n",
       "    }\n",
       "</style>\n",
       "<table border=\"1\" class=\"dataframe\">\n",
       "  <thead>\n",
       "    <tr style=\"text-align: right;\">\n",
       "      <th></th>\n",
       "      <th>user_id</th>\n",
       "      <th>month</th>\n",
       "      <th>month_calls_duration</th>\n",
       "      <th>month_calls_count</th>\n",
       "      <th>month_messages_count</th>\n",
       "      <th>mb_used</th>\n",
       "      <th>age</th>\n",
       "      <th>churn_date</th>\n",
       "      <th>city</th>\n",
       "      <th>first_name</th>\n",
       "      <th>...</th>\n",
       "      <th>reg_date</th>\n",
       "      <th>tariff</th>\n",
       "      <th>tariff_on</th>\n",
       "      <th>messages_included</th>\n",
       "      <th>mb_per_month_included</th>\n",
       "      <th>minutes_included</th>\n",
       "      <th>rub_monthly_fee</th>\n",
       "      <th>rub_per_gb</th>\n",
       "      <th>rub_per_message</th>\n",
       "      <th>rub_per_minute</th>\n",
       "    </tr>\n",
       "  </thead>\n",
       "  <tbody>\n",
       "    <tr>\n",
       "      <th>796</th>\n",
       "      <td>1126</td>\n",
       "      <td>Ноябрь</td>\n",
       "      <td>508.0</td>\n",
       "      <td>62.0</td>\n",
       "      <td>2.0</td>\n",
       "      <td>27406.0</td>\n",
       "      <td>71</td>\n",
       "      <td>NaT</td>\n",
       "      <td>Санкт-Петербург</td>\n",
       "      <td>Яна</td>\n",
       "      <td>...</td>\n",
       "      <td>2018-01-19</td>\n",
       "      <td>ultra</td>\n",
       "      <td>0</td>\n",
       "      <td>1000</td>\n",
       "      <td>30720</td>\n",
       "      <td>3000</td>\n",
       "      <td>1950</td>\n",
       "      <td>150</td>\n",
       "      <td>1</td>\n",
       "      <td>1</td>\n",
       "    </tr>\n",
       "    <tr>\n",
       "      <th>1995</th>\n",
       "      <td>1319</td>\n",
       "      <td>Октябрь</td>\n",
       "      <td>1005.0</td>\n",
       "      <td>108.0</td>\n",
       "      <td>48.0</td>\n",
       "      <td>18011.0</td>\n",
       "      <td>70</td>\n",
       "      <td>NaT</td>\n",
       "      <td>Санкт-Петербург</td>\n",
       "      <td>Харитон</td>\n",
       "      <td>...</td>\n",
       "      <td>2018-08-24</td>\n",
       "      <td>smart</td>\n",
       "      <td>0</td>\n",
       "      <td>50</td>\n",
       "      <td>15360</td>\n",
       "      <td>500</td>\n",
       "      <td>550</td>\n",
       "      <td>200</td>\n",
       "      <td>3</td>\n",
       "      <td>3</td>\n",
       "    </tr>\n",
       "    <tr>\n",
       "      <th>223</th>\n",
       "      <td>1035</td>\n",
       "      <td>Апрель</td>\n",
       "      <td>398.0</td>\n",
       "      <td>41.0</td>\n",
       "      <td>50.0</td>\n",
       "      <td>12790.0</td>\n",
       "      <td>37</td>\n",
       "      <td>NaT</td>\n",
       "      <td>Тюмень</td>\n",
       "      <td>Розалия</td>\n",
       "      <td>...</td>\n",
       "      <td>2018-04-03</td>\n",
       "      <td>smart</td>\n",
       "      <td>0</td>\n",
       "      <td>50</td>\n",
       "      <td>15360</td>\n",
       "      <td>500</td>\n",
       "      <td>550</td>\n",
       "      <td>200</td>\n",
       "      <td>3</td>\n",
       "      <td>3</td>\n",
       "    </tr>\n",
       "    <tr>\n",
       "      <th>1579</th>\n",
       "      <td>1253</td>\n",
       "      <td>Декабрь</td>\n",
       "      <td>241.0</td>\n",
       "      <td>33.0</td>\n",
       "      <td>87.0</td>\n",
       "      <td>21811.0</td>\n",
       "      <td>29</td>\n",
       "      <td>NaT</td>\n",
       "      <td>Астрахань</td>\n",
       "      <td>Алла</td>\n",
       "      <td>...</td>\n",
       "      <td>2018-08-06</td>\n",
       "      <td>ultra</td>\n",
       "      <td>0</td>\n",
       "      <td>1000</td>\n",
       "      <td>30720</td>\n",
       "      <td>3000</td>\n",
       "      <td>1950</td>\n",
       "      <td>150</td>\n",
       "      <td>1</td>\n",
       "      <td>1</td>\n",
       "    </tr>\n",
       "    <tr>\n",
       "      <th>1872</th>\n",
       "      <td>1299</td>\n",
       "      <td>Октябрь</td>\n",
       "      <td>332.0</td>\n",
       "      <td>45.0</td>\n",
       "      <td>48.0</td>\n",
       "      <td>15161.0</td>\n",
       "      <td>37</td>\n",
       "      <td>NaT</td>\n",
       "      <td>Уфа</td>\n",
       "      <td>Мариетта</td>\n",
       "      <td>...</td>\n",
       "      <td>2018-01-27</td>\n",
       "      <td>smart</td>\n",
       "      <td>0</td>\n",
       "      <td>50</td>\n",
       "      <td>15360</td>\n",
       "      <td>500</td>\n",
       "      <td>550</td>\n",
       "      <td>200</td>\n",
       "      <td>3</td>\n",
       "      <td>3</td>\n",
       "    </tr>\n",
       "    <tr>\n",
       "      <th>449</th>\n",
       "      <td>1071</td>\n",
       "      <td>Август</td>\n",
       "      <td>229.0</td>\n",
       "      <td>28.0</td>\n",
       "      <td>19.0</td>\n",
       "      <td>13968.0</td>\n",
       "      <td>20</td>\n",
       "      <td>2018-08-31</td>\n",
       "      <td>Омск</td>\n",
       "      <td>Гектор</td>\n",
       "      <td>...</td>\n",
       "      <td>2018-01-09</td>\n",
       "      <td>smart</td>\n",
       "      <td>0</td>\n",
       "      <td>50</td>\n",
       "      <td>15360</td>\n",
       "      <td>500</td>\n",
       "      <td>550</td>\n",
       "      <td>200</td>\n",
       "      <td>3</td>\n",
       "      <td>3</td>\n",
       "    </tr>\n",
       "    <tr>\n",
       "      <th>1870</th>\n",
       "      <td>1299</td>\n",
       "      <td>Март</td>\n",
       "      <td>714.0</td>\n",
       "      <td>67.0</td>\n",
       "      <td>38.0</td>\n",
       "      <td>21668.0</td>\n",
       "      <td>37</td>\n",
       "      <td>NaT</td>\n",
       "      <td>Уфа</td>\n",
       "      <td>Мариетта</td>\n",
       "      <td>...</td>\n",
       "      <td>2018-01-27</td>\n",
       "      <td>smart</td>\n",
       "      <td>0</td>\n",
       "      <td>50</td>\n",
       "      <td>15360</td>\n",
       "      <td>500</td>\n",
       "      <td>550</td>\n",
       "      <td>200</td>\n",
       "      <td>3</td>\n",
       "      <td>3</td>\n",
       "    </tr>\n",
       "    <tr>\n",
       "      <th>29</th>\n",
       "      <td>1004</td>\n",
       "      <td>Сентябрь</td>\n",
       "      <td>117.0</td>\n",
       "      <td>18.0</td>\n",
       "      <td>146.0</td>\n",
       "      <td>15125.0</td>\n",
       "      <td>68</td>\n",
       "      <td>NaT</td>\n",
       "      <td>Новокузнецк</td>\n",
       "      <td>Татьяна</td>\n",
       "      <td>...</td>\n",
       "      <td>2018-05-14</td>\n",
       "      <td>ultra</td>\n",
       "      <td>0</td>\n",
       "      <td>1000</td>\n",
       "      <td>30720</td>\n",
       "      <td>3000</td>\n",
       "      <td>1950</td>\n",
       "      <td>150</td>\n",
       "      <td>1</td>\n",
       "      <td>1</td>\n",
       "    </tr>\n",
       "    <tr>\n",
       "      <th>2116</th>\n",
       "      <td>1338</td>\n",
       "      <td>Октябрь</td>\n",
       "      <td>186.0</td>\n",
       "      <td>20.0</td>\n",
       "      <td>34.0</td>\n",
       "      <td>17193.0</td>\n",
       "      <td>64</td>\n",
       "      <td>NaT</td>\n",
       "      <td>Москва</td>\n",
       "      <td>Павел</td>\n",
       "      <td>...</td>\n",
       "      <td>2018-05-11</td>\n",
       "      <td>smart</td>\n",
       "      <td>0</td>\n",
       "      <td>50</td>\n",
       "      <td>15360</td>\n",
       "      <td>500</td>\n",
       "      <td>550</td>\n",
       "      <td>200</td>\n",
       "      <td>3</td>\n",
       "      <td>3</td>\n",
       "    </tr>\n",
       "    <tr>\n",
       "      <th>1392</th>\n",
       "      <td>1221</td>\n",
       "      <td>Декабрь</td>\n",
       "      <td>221.0</td>\n",
       "      <td>26.0</td>\n",
       "      <td>27.0</td>\n",
       "      <td>7897.0</td>\n",
       "      <td>40</td>\n",
       "      <td>NaT</td>\n",
       "      <td>Белгород</td>\n",
       "      <td>Джемма</td>\n",
       "      <td>...</td>\n",
       "      <td>2018-06-03</td>\n",
       "      <td>smart</td>\n",
       "      <td>0</td>\n",
       "      <td>50</td>\n",
       "      <td>15360</td>\n",
       "      <td>500</td>\n",
       "      <td>550</td>\n",
       "      <td>200</td>\n",
       "      <td>3</td>\n",
       "      <td>3</td>\n",
       "    </tr>\n",
       "  </tbody>\n",
       "</table>\n",
       "<p>10 rows × 21 columns</p>\n",
       "</div>"
      ],
      "text/plain": [
       "      user_id     month  month_calls_duration  month_calls_count  \\\n",
       "796      1126    Ноябрь                 508.0               62.0   \n",
       "1995     1319   Октябрь                1005.0              108.0   \n",
       "223      1035    Апрель                 398.0               41.0   \n",
       "1579     1253   Декабрь                 241.0               33.0   \n",
       "1872     1299   Октябрь                 332.0               45.0   \n",
       "449      1071    Август                 229.0               28.0   \n",
       "1870     1299      Март                 714.0               67.0   \n",
       "29       1004  Сентябрь                 117.0               18.0   \n",
       "2116     1338   Октябрь                 186.0               20.0   \n",
       "1392     1221   Декабрь                 221.0               26.0   \n",
       "\n",
       "      month_messages_count  mb_used  age churn_date             city  \\\n",
       "796                    2.0  27406.0   71        NaT  Санкт-Петербург   \n",
       "1995                  48.0  18011.0   70        NaT  Санкт-Петербург   \n",
       "223                   50.0  12790.0   37        NaT           Тюмень   \n",
       "1579                  87.0  21811.0   29        NaT        Астрахань   \n",
       "1872                  48.0  15161.0   37        NaT              Уфа   \n",
       "449                   19.0  13968.0   20 2018-08-31             Омск   \n",
       "1870                  38.0  21668.0   37        NaT              Уфа   \n",
       "29                   146.0  15125.0   68        NaT      Новокузнецк   \n",
       "2116                  34.0  17193.0   64        NaT           Москва   \n",
       "1392                  27.0   7897.0   40        NaT         Белгород   \n",
       "\n",
       "     first_name  ...   reg_date tariff tariff_on  messages_included  \\\n",
       "796         Яна  ... 2018-01-19  ultra         0               1000   \n",
       "1995    Харитон  ... 2018-08-24  smart         0                 50   \n",
       "223     Розалия  ... 2018-04-03  smart         0                 50   \n",
       "1579       Алла  ... 2018-08-06  ultra         0               1000   \n",
       "1872   Мариетта  ... 2018-01-27  smart         0                 50   \n",
       "449      Гектор  ... 2018-01-09  smart         0                 50   \n",
       "1870   Мариетта  ... 2018-01-27  smart         0                 50   \n",
       "29      Татьяна  ... 2018-05-14  ultra         0               1000   \n",
       "2116      Павел  ... 2018-05-11  smart         0                 50   \n",
       "1392     Джемма  ... 2018-06-03  smart         0                 50   \n",
       "\n",
       "      mb_per_month_included  minutes_included  rub_monthly_fee  rub_per_gb  \\\n",
       "796                   30720              3000             1950         150   \n",
       "1995                  15360               500              550         200   \n",
       "223                   15360               500              550         200   \n",
       "1579                  30720              3000             1950         150   \n",
       "1872                  15360               500              550         200   \n",
       "449                   15360               500              550         200   \n",
       "1870                  15360               500              550         200   \n",
       "29                    30720              3000             1950         150   \n",
       "2116                  15360               500              550         200   \n",
       "1392                  15360               500              550         200   \n",
       "\n",
       "      rub_per_message  rub_per_minute  \n",
       "796                 1               1  \n",
       "1995                3               3  \n",
       "223                 3               3  \n",
       "1579                1               1  \n",
       "1872                3               3  \n",
       "449                 3               3  \n",
       "1870                3               3  \n",
       "29                  1               1  \n",
       "2116                3               3  \n",
       "1392                3               3  \n",
       "\n",
       "[10 rows x 21 columns]"
      ]
     },
     "execution_count": 55,
     "metadata": {},
     "output_type": "execute_result"
    }
   ],
   "source": [
    "# смотрим\n",
    "df.sample(10)"
   ]
  },
  {
   "cell_type": "markdown",
   "metadata": {},
   "source": [
    "После склеивания таблиц 'полным соединением' получились nan в количенственных показателях. Например, были звонки, но не использовался интернет. Такие пропуски можно заполнить нулями."
   ]
  },
  {
   "cell_type": "code",
   "execution_count": 56,
   "metadata": {},
   "outputs": [],
   "source": [
    "# заполним nan нулями\n",
    "df['month_calls_duration'] = df['month_calls_duration'].fillna(0)\n",
    "df['month_calls_count'] = df['month_calls_count'].fillna(0)\n",
    "df['month_messages_count'] = df['month_messages_count'].fillna(0)\n",
    "df['mb_used'] = df['mb_used'].fillna(0)"
   ]
  },
  {
   "cell_type": "markdown",
   "metadata": {},
   "source": [
    "Добавим колонку с помесячной выручкой\n",
    "\n",
    "-вычтем бесплатный лимит из суммарного количества звонков, сообщений и интернет-трафика; остаток умножем на значение из тарифного плана; прибавим абонентскую плату, соответствующую тарифному плану)."
   ]
  },
  {
   "cell_type": "code",
   "execution_count": 57,
   "metadata": {},
   "outputs": [],
   "source": [
    "# расчет полной помесячной суммы\n",
    "def total_rub(row):\n",
    "    rub_calls = (row['month_calls_duration'] - row['minutes_included']) * row['rub_per_minute']\n",
    "    if rub_calls < 0: rub_calls=0\n",
    "    rub_messages = (row['month_messages_count'] - row['messages_included']) * row['rub_per_message']\n",
    "    if rub_messages < 0: rub_messages=0\n",
    "    rub_internet = (row['mb_used'] - row['mb_per_month_included']) * row['rub_per_gb'] / 1024\n",
    "    if rub_internet < 0: rub_internet=0\n",
    "    # соберем вмесе абонентскую плату + сверх    \n",
    "    return row['rub_monthly_fee'] + rub_messages + rub_messages + rub_internet"
   ]
  },
  {
   "cell_type": "code",
   "execution_count": 58,
   "metadata": {},
   "outputs": [],
   "source": [
    "# новая функция\n",
    "def total_rub_new(row):\n",
    "    rub_calls = (row['month_calls_duration'] - row['minutes_included']) * row['rub_per_minute']  \n",
    "    if rub_calls < 0: rub_calls=0\n",
    "    rub_messages = (row['month_messages_count'] - row['messages_included']) * row['rub_per_message']    \n",
    "    if rub_messages < 0: rub_messages=0    \n",
    "    # исправлен расчет интернета\n",
    "    rub_internet = np.ceil((row['mb_used'] - row['mb_per_month_included']) / 1024) * row['rub_per_gb']\n",
    "    if rub_internet < 0: rub_internet=0\n",
    "    # соберем вмесе абонентскую плату + сверх    \n",
    "    return row['rub_monthly_fee'] + rub_messages + rub_messages + rub_internet"
   ]
  },
  {
   "cell_type": "code",
   "execution_count": 59,
   "metadata": {},
   "outputs": [],
   "source": [
    "#было\n",
    "    #df['rub_total'] = df.apply(total_rub, axis=1)\n",
    "#стало\n",
    "df['rub_total'] = df.apply(total_rub_new, axis=1)"
   ]
  },
  {
   "cell_type": "markdown",
   "metadata": {},
   "source": [
    "Добавим колонку (rub_over), в которой отразим переплаты свех абонентской платы."
   ]
  },
  {
   "cell_type": "code",
   "execution_count": 60,
   "metadata": {},
   "outputs": [],
   "source": [
    "df['rub_over'] = df['rub_total'] - df['rub_monthly_fee']"
   ]
  },
  {
   "cell_type": "code",
   "execution_count": 61,
   "metadata": {},
   "outputs": [
    {
     "data": {
      "text/html": [
       "<div>\n",
       "<style scoped>\n",
       "    .dataframe tbody tr th:only-of-type {\n",
       "        vertical-align: middle;\n",
       "    }\n",
       "\n",
       "    .dataframe tbody tr th {\n",
       "        vertical-align: top;\n",
       "    }\n",
       "\n",
       "    .dataframe thead th {\n",
       "        text-align: right;\n",
       "    }\n",
       "</style>\n",
       "<table border=\"1\" class=\"dataframe\">\n",
       "  <thead>\n",
       "    <tr style=\"text-align: right;\">\n",
       "      <th></th>\n",
       "      <th>user_id</th>\n",
       "      <th>month</th>\n",
       "      <th>month_calls_duration</th>\n",
       "      <th>month_calls_count</th>\n",
       "      <th>month_messages_count</th>\n",
       "      <th>mb_used</th>\n",
       "      <th>age</th>\n",
       "      <th>churn_date</th>\n",
       "      <th>city</th>\n",
       "      <th>first_name</th>\n",
       "      <th>...</th>\n",
       "      <th>tariff_on</th>\n",
       "      <th>messages_included</th>\n",
       "      <th>mb_per_month_included</th>\n",
       "      <th>minutes_included</th>\n",
       "      <th>rub_monthly_fee</th>\n",
       "      <th>rub_per_gb</th>\n",
       "      <th>rub_per_message</th>\n",
       "      <th>rub_per_minute</th>\n",
       "      <th>rub_total</th>\n",
       "      <th>rub_over</th>\n",
       "    </tr>\n",
       "  </thead>\n",
       "  <tbody>\n",
       "    <tr>\n",
       "      <th>2369</th>\n",
       "      <td>1378</td>\n",
       "      <td>Март</td>\n",
       "      <td>421.0</td>\n",
       "      <td>59.0</td>\n",
       "      <td>12.0</td>\n",
       "      <td>12422.0</td>\n",
       "      <td>21</td>\n",
       "      <td>NaT</td>\n",
       "      <td>Иркутск</td>\n",
       "      <td>Евгения</td>\n",
       "      <td>...</td>\n",
       "      <td>0</td>\n",
       "      <td>50</td>\n",
       "      <td>15360</td>\n",
       "      <td>500</td>\n",
       "      <td>550</td>\n",
       "      <td>200</td>\n",
       "      <td>3</td>\n",
       "      <td>3</td>\n",
       "      <td>550.0</td>\n",
       "      <td>0.0</td>\n",
       "    </tr>\n",
       "    <tr>\n",
       "      <th>162</th>\n",
       "      <td>1025</td>\n",
       "      <td>Апрель</td>\n",
       "      <td>464.0</td>\n",
       "      <td>49.0</td>\n",
       "      <td>27.0</td>\n",
       "      <td>10461.0</td>\n",
       "      <td>56</td>\n",
       "      <td>NaT</td>\n",
       "      <td>Уфа</td>\n",
       "      <td>Матвей</td>\n",
       "      <td>...</td>\n",
       "      <td>0</td>\n",
       "      <td>50</td>\n",
       "      <td>15360</td>\n",
       "      <td>500</td>\n",
       "      <td>550</td>\n",
       "      <td>200</td>\n",
       "      <td>3</td>\n",
       "      <td>3</td>\n",
       "      <td>550.0</td>\n",
       "      <td>0.0</td>\n",
       "    </tr>\n",
       "    <tr>\n",
       "      <th>2266</th>\n",
       "      <td>1363</td>\n",
       "      <td>Ноябрь</td>\n",
       "      <td>732.0</td>\n",
       "      <td>85.0</td>\n",
       "      <td>0.0</td>\n",
       "      <td>21135.0</td>\n",
       "      <td>69</td>\n",
       "      <td>NaT</td>\n",
       "      <td>Нижний Тагил</td>\n",
       "      <td>Оксана</td>\n",
       "      <td>...</td>\n",
       "      <td>0</td>\n",
       "      <td>1000</td>\n",
       "      <td>30720</td>\n",
       "      <td>3000</td>\n",
       "      <td>1950</td>\n",
       "      <td>150</td>\n",
       "      <td>1</td>\n",
       "      <td>1</td>\n",
       "      <td>1950.0</td>\n",
       "      <td>0.0</td>\n",
       "    </tr>\n",
       "    <tr>\n",
       "      <th>656</th>\n",
       "      <td>1104</td>\n",
       "      <td>Октябрь</td>\n",
       "      <td>338.0</td>\n",
       "      <td>41.0</td>\n",
       "      <td>73.0</td>\n",
       "      <td>18658.0</td>\n",
       "      <td>60</td>\n",
       "      <td>NaT</td>\n",
       "      <td>Нижний Тагил</td>\n",
       "      <td>Габриэль</td>\n",
       "      <td>...</td>\n",
       "      <td>0</td>\n",
       "      <td>1000</td>\n",
       "      <td>30720</td>\n",
       "      <td>3000</td>\n",
       "      <td>1950</td>\n",
       "      <td>150</td>\n",
       "      <td>1</td>\n",
       "      <td>1</td>\n",
       "      <td>1950.0</td>\n",
       "      <td>0.0</td>\n",
       "    </tr>\n",
       "    <tr>\n",
       "      <th>2901</th>\n",
       "      <td>1457</td>\n",
       "      <td>Ноябрь</td>\n",
       "      <td>506.0</td>\n",
       "      <td>53.0</td>\n",
       "      <td>18.0</td>\n",
       "      <td>10757.0</td>\n",
       "      <td>35</td>\n",
       "      <td>NaT</td>\n",
       "      <td>Саратов</td>\n",
       "      <td>Татьяна</td>\n",
       "      <td>...</td>\n",
       "      <td>0</td>\n",
       "      <td>50</td>\n",
       "      <td>15360</td>\n",
       "      <td>500</td>\n",
       "      <td>550</td>\n",
       "      <td>200</td>\n",
       "      <td>3</td>\n",
       "      <td>3</td>\n",
       "      <td>550.0</td>\n",
       "      <td>0.0</td>\n",
       "    </tr>\n",
       "    <tr>\n",
       "      <th>2384</th>\n",
       "      <td>1380</td>\n",
       "      <td>Май</td>\n",
       "      <td>519.0</td>\n",
       "      <td>66.0</td>\n",
       "      <td>25.0</td>\n",
       "      <td>28676.0</td>\n",
       "      <td>45</td>\n",
       "      <td>NaT</td>\n",
       "      <td>Ростов-на-Дону</td>\n",
       "      <td>Доминика</td>\n",
       "      <td>...</td>\n",
       "      <td>0</td>\n",
       "      <td>1000</td>\n",
       "      <td>30720</td>\n",
       "      <td>3000</td>\n",
       "      <td>1950</td>\n",
       "      <td>150</td>\n",
       "      <td>1</td>\n",
       "      <td>1</td>\n",
       "      <td>1950.0</td>\n",
       "      <td>0.0</td>\n",
       "    </tr>\n",
       "    <tr>\n",
       "      <th>1317</th>\n",
       "      <td>1208</td>\n",
       "      <td>Ноябрь</td>\n",
       "      <td>559.0</td>\n",
       "      <td>65.0</td>\n",
       "      <td>0.0</td>\n",
       "      <td>14049.0</td>\n",
       "      <td>69</td>\n",
       "      <td>NaT</td>\n",
       "      <td>Пермь</td>\n",
       "      <td>Ева</td>\n",
       "      <td>...</td>\n",
       "      <td>0</td>\n",
       "      <td>1000</td>\n",
       "      <td>30720</td>\n",
       "      <td>3000</td>\n",
       "      <td>1950</td>\n",
       "      <td>150</td>\n",
       "      <td>1</td>\n",
       "      <td>1</td>\n",
       "      <td>1950.0</td>\n",
       "      <td>0.0</td>\n",
       "    </tr>\n",
       "    <tr>\n",
       "      <th>2407</th>\n",
       "      <td>1382</td>\n",
       "      <td>Ноябрь</td>\n",
       "      <td>694.0</td>\n",
       "      <td>76.0</td>\n",
       "      <td>67.0</td>\n",
       "      <td>10715.0</td>\n",
       "      <td>42</td>\n",
       "      <td>NaT</td>\n",
       "      <td>Самара</td>\n",
       "      <td>Оксана</td>\n",
       "      <td>...</td>\n",
       "      <td>0</td>\n",
       "      <td>1000</td>\n",
       "      <td>30720</td>\n",
       "      <td>3000</td>\n",
       "      <td>1950</td>\n",
       "      <td>150</td>\n",
       "      <td>1</td>\n",
       "      <td>1</td>\n",
       "      <td>1950.0</td>\n",
       "      <td>0.0</td>\n",
       "    </tr>\n",
       "    <tr>\n",
       "      <th>608</th>\n",
       "      <td>1097</td>\n",
       "      <td>Сентябрь</td>\n",
       "      <td>429.0</td>\n",
       "      <td>57.0</td>\n",
       "      <td>29.0</td>\n",
       "      <td>13542.0</td>\n",
       "      <td>29</td>\n",
       "      <td>NaT</td>\n",
       "      <td>Краснодар</td>\n",
       "      <td>Алла</td>\n",
       "      <td>...</td>\n",
       "      <td>0</td>\n",
       "      <td>1000</td>\n",
       "      <td>30720</td>\n",
       "      <td>3000</td>\n",
       "      <td>1950</td>\n",
       "      <td>150</td>\n",
       "      <td>1</td>\n",
       "      <td>1</td>\n",
       "      <td>1950.0</td>\n",
       "      <td>0.0</td>\n",
       "    </tr>\n",
       "    <tr>\n",
       "      <th>846</th>\n",
       "      <td>1135</td>\n",
       "      <td>Март</td>\n",
       "      <td>442.0</td>\n",
       "      <td>45.0</td>\n",
       "      <td>15.0</td>\n",
       "      <td>14822.0</td>\n",
       "      <td>64</td>\n",
       "      <td>NaT</td>\n",
       "      <td>Архангельск</td>\n",
       "      <td>Милена</td>\n",
       "      <td>...</td>\n",
       "      <td>0</td>\n",
       "      <td>50</td>\n",
       "      <td>15360</td>\n",
       "      <td>500</td>\n",
       "      <td>550</td>\n",
       "      <td>200</td>\n",
       "      <td>3</td>\n",
       "      <td>3</td>\n",
       "      <td>550.0</td>\n",
       "      <td>0.0</td>\n",
       "    </tr>\n",
       "  </tbody>\n",
       "</table>\n",
       "<p>10 rows × 23 columns</p>\n",
       "</div>"
      ],
      "text/plain": [
       "      user_id     month  month_calls_duration  month_calls_count  \\\n",
       "2369     1378      Март                 421.0               59.0   \n",
       "162      1025    Апрель                 464.0               49.0   \n",
       "2266     1363    Ноябрь                 732.0               85.0   \n",
       "656      1104   Октябрь                 338.0               41.0   \n",
       "2901     1457    Ноябрь                 506.0               53.0   \n",
       "2384     1380       Май                 519.0               66.0   \n",
       "1317     1208    Ноябрь                 559.0               65.0   \n",
       "2407     1382    Ноябрь                 694.0               76.0   \n",
       "608      1097  Сентябрь                 429.0               57.0   \n",
       "846      1135      Март                 442.0               45.0   \n",
       "\n",
       "      month_messages_count  mb_used  age churn_date            city  \\\n",
       "2369                  12.0  12422.0   21        NaT         Иркутск   \n",
       "162                   27.0  10461.0   56        NaT             Уфа   \n",
       "2266                   0.0  21135.0   69        NaT    Нижний Тагил   \n",
       "656                   73.0  18658.0   60        NaT    Нижний Тагил   \n",
       "2901                  18.0  10757.0   35        NaT         Саратов   \n",
       "2384                  25.0  28676.0   45        NaT  Ростов-на-Дону   \n",
       "1317                   0.0  14049.0   69        NaT           Пермь   \n",
       "2407                  67.0  10715.0   42        NaT          Самара   \n",
       "608                   29.0  13542.0   29        NaT       Краснодар   \n",
       "846                   15.0  14822.0   64        NaT     Архангельск   \n",
       "\n",
       "     first_name  ... tariff_on messages_included mb_per_month_included  \\\n",
       "2369    Евгения  ...         0                50                 15360   \n",
       "162      Матвей  ...         0                50                 15360   \n",
       "2266     Оксана  ...         0              1000                 30720   \n",
       "656    Габриэль  ...         0              1000                 30720   \n",
       "2901    Татьяна  ...         0                50                 15360   \n",
       "2384   Доминика  ...         0              1000                 30720   \n",
       "1317        Ева  ...         0              1000                 30720   \n",
       "2407     Оксана  ...         0              1000                 30720   \n",
       "608        Алла  ...         0              1000                 30720   \n",
       "846      Милена  ...         0                50                 15360   \n",
       "\n",
       "      minutes_included  rub_monthly_fee  rub_per_gb  rub_per_message  \\\n",
       "2369               500              550         200                3   \n",
       "162                500              550         200                3   \n",
       "2266              3000             1950         150                1   \n",
       "656               3000             1950         150                1   \n",
       "2901               500              550         200                3   \n",
       "2384              3000             1950         150                1   \n",
       "1317              3000             1950         150                1   \n",
       "2407              3000             1950         150                1   \n",
       "608               3000             1950         150                1   \n",
       "846                500              550         200                3   \n",
       "\n",
       "      rub_per_minute  rub_total  rub_over  \n",
       "2369               3      550.0       0.0  \n",
       "162                3      550.0       0.0  \n",
       "2266               1     1950.0       0.0  \n",
       "656                1     1950.0       0.0  \n",
       "2901               3      550.0       0.0  \n",
       "2384               1     1950.0       0.0  \n",
       "1317               1     1950.0       0.0  \n",
       "2407               1     1950.0       0.0  \n",
       "608                1     1950.0       0.0  \n",
       "846                3      550.0       0.0  \n",
       "\n",
       "[10 rows x 23 columns]"
      ]
     },
     "execution_count": 61,
     "metadata": {},
     "output_type": "execute_result"
    }
   ],
   "source": [
    "df.sample(10)"
   ]
  },
  {
   "cell_type": "markdown",
   "metadata": {},
   "source": [
    "*Данные подготовлены для проведения анализа. Вся необходимая информация собрано в едином датасете.*"
   ]
  },
  {
   "cell_type": "code",
   "execution_count": 62,
   "metadata": {
    "scrolled": true
   },
   "outputs": [
    {
     "name": "stdout",
     "output_type": "stream",
     "text": [
      "<class 'pandas.core.frame.DataFrame'>\n",
      "Int64Index: 3214 entries, 0 to 3213\n",
      "Data columns (total 23 columns):\n",
      " #   Column                 Non-Null Count  Dtype         \n",
      "---  ------                 --------------  -----         \n",
      " 0   user_id                3214 non-null   int64         \n",
      " 1   month                  3214 non-null   object        \n",
      " 2   month_calls_duration   3214 non-null   float64       \n",
      " 3   month_calls_count      3214 non-null   float64       \n",
      " 4   month_messages_count   3214 non-null   float64       \n",
      " 5   mb_used                3214 non-null   float64       \n",
      " 6   age                    3214 non-null   int64         \n",
      " 7   churn_date             187 non-null    datetime64[ns]\n",
      " 8   city                   3214 non-null   object        \n",
      " 9   first_name             3214 non-null   object        \n",
      " 10  last_name              3214 non-null   object        \n",
      " 11  reg_date               3214 non-null   datetime64[ns]\n",
      " 12  tariff                 3214 non-null   category      \n",
      " 13  tariff_on              3214 non-null   int64         \n",
      " 14  messages_included      3214 non-null   int64         \n",
      " 15  mb_per_month_included  3214 non-null   int64         \n",
      " 16  minutes_included       3214 non-null   int64         \n",
      " 17  rub_monthly_fee        3214 non-null   int64         \n",
      " 18  rub_per_gb             3214 non-null   int64         \n",
      " 19  rub_per_message        3214 non-null   int64         \n",
      " 20  rub_per_minute         3214 non-null   int64         \n",
      " 21  rub_total              3214 non-null   float64       \n",
      " 22  rub_over               3214 non-null   float64       \n",
      "dtypes: category(1), datetime64[ns](2), float64(6), int64(10), object(4)\n",
      "memory usage: 580.8+ KB\n"
     ]
    }
   ],
   "source": [
    "df.info()"
   ]
  },
  {
   "cell_type": "code",
   "execution_count": 63,
   "metadata": {},
   "outputs": [
    {
     "data": {
      "text/plain": [
       "0"
      ]
     },
     "execution_count": 63,
     "metadata": {},
     "output_type": "execute_result"
    }
   ],
   "source": [
    "len(df.loc[df['rub_total'].isna()])"
   ]
  },
  {
   "cell_type": "code",
   "execution_count": 64,
   "metadata": {},
   "outputs": [],
   "source": [
    "#df['month_calls_duration'] = df['month_calls_duration'].apply(np.ceil)\n",
    "df['month_calls_duration'] = df['month_calls_duration'].astype('int')\n",
    "\n",
    "#df['month_calls_count'] = df['month_calls_count'].apply(np.ceil)\n",
    "df['month_calls_count'] = df['month_calls_count'].astype('int')\n",
    "\n",
    "#df['month_messages_count'] = df['month_messages_count'].apply(np.ceil)\n",
    "df['month_messages_count'] = df['month_messages_count'].astype('int')\n",
    "\n",
    "#df['rub_total'] = df['rub_total'].apply(np.ceil)\n",
    "df['rub_total'] = df['rub_total'].astype('int')\n",
    "\n",
    "#df['rub_over'] = df['rub_over'].apply(np.ceil)\n",
    "df['rub_over'] = df['rub_over'].astype('int')\n",
    "\n",
    "#df['mb_used'] = df['mb_used'].apply(np.ceil)\n",
    "df['mb_used'] = df['mb_used'].astype('int')"
   ]
  },
  {
   "cell_type": "code",
   "execution_count": 65,
   "metadata": {},
   "outputs": [
    {
     "name": "stdout",
     "output_type": "stream",
     "text": [
      "<class 'pandas.core.frame.DataFrame'>\n",
      "Int64Index: 3214 entries, 0 to 3213\n",
      "Data columns (total 23 columns):\n",
      " #   Column                 Non-Null Count  Dtype         \n",
      "---  ------                 --------------  -----         \n",
      " 0   user_id                3214 non-null   int64         \n",
      " 1   month                  3214 non-null   object        \n",
      " 2   month_calls_duration   3214 non-null   int32         \n",
      " 3   month_calls_count      3214 non-null   int32         \n",
      " 4   month_messages_count   3214 non-null   int32         \n",
      " 5   mb_used                3214 non-null   int32         \n",
      " 6   age                    3214 non-null   int64         \n",
      " 7   churn_date             187 non-null    datetime64[ns]\n",
      " 8   city                   3214 non-null   object        \n",
      " 9   first_name             3214 non-null   object        \n",
      " 10  last_name              3214 non-null   object        \n",
      " 11  reg_date               3214 non-null   datetime64[ns]\n",
      " 12  tariff                 3214 non-null   category      \n",
      " 13  tariff_on              3214 non-null   int64         \n",
      " 14  messages_included      3214 non-null   int64         \n",
      " 15  mb_per_month_included  3214 non-null   int64         \n",
      " 16  minutes_included       3214 non-null   int64         \n",
      " 17  rub_monthly_fee        3214 non-null   int64         \n",
      " 18  rub_per_gb             3214 non-null   int64         \n",
      " 19  rub_per_message        3214 non-null   int64         \n",
      " 20  rub_per_minute         3214 non-null   int64         \n",
      " 21  rub_total              3214 non-null   int32         \n",
      " 22  rub_over               3214 non-null   int32         \n",
      "dtypes: category(1), datetime64[ns](2), int32(6), int64(10), object(4)\n",
      "memory usage: 505.4+ KB\n"
     ]
    }
   ],
   "source": [
    "df.info()"
   ]
  },
  {
   "cell_type": "markdown",
   "metadata": {},
   "source": [
    "## Шаг 3. Проанализируем данные"
   ]
  },
  {
   "cell_type": "markdown",
   "metadata": {},
   "source": [
    "Опишем поведение клиентов оператора, исходя из выборки. Сколько минут разговора, сколько сообщений и какой объём интернет-трафика требуется пользователям каждого тарифа в месяц? Посчитаем среднее количество, дисперсию и стандартное отклонение. Построим гистограммы. Опишем распределения.\n"
   ]
  },
  {
   "cell_type": "code",
   "execution_count": 66,
   "metadata": {},
   "outputs": [
    {
     "data": {
      "text/html": [
       "<div>\n",
       "<style scoped>\n",
       "    .dataframe tbody tr th:only-of-type {\n",
       "        vertical-align: middle;\n",
       "    }\n",
       "\n",
       "    .dataframe tbody tr th {\n",
       "        vertical-align: top;\n",
       "    }\n",
       "\n",
       "    .dataframe thead th {\n",
       "        text-align: right;\n",
       "    }\n",
       "</style>\n",
       "<table border=\"1\" class=\"dataframe\">\n",
       "  <thead>\n",
       "    <tr style=\"text-align: right;\">\n",
       "      <th></th>\n",
       "      <th>count</th>\n",
       "      <th>mean</th>\n",
       "      <th>std</th>\n",
       "      <th>min</th>\n",
       "      <th>25%</th>\n",
       "      <th>50%</th>\n",
       "      <th>75%</th>\n",
       "      <th>max</th>\n",
       "    </tr>\n",
       "  </thead>\n",
       "  <tbody>\n",
       "    <tr>\n",
       "      <th>user_id</th>\n",
       "      <td>3214.0</td>\n",
       "      <td>1251.590230</td>\n",
       "      <td>144.659172</td>\n",
       "      <td>1000.0</td>\n",
       "      <td>1125.00</td>\n",
       "      <td>1253.0</td>\n",
       "      <td>1378.75</td>\n",
       "      <td>1499.0</td>\n",
       "    </tr>\n",
       "    <tr>\n",
       "      <th>month_calls_duration</th>\n",
       "      <td>3214.0</td>\n",
       "      <td>451.244866</td>\n",
       "      <td>241.909978</td>\n",
       "      <td>0.0</td>\n",
       "      <td>282.00</td>\n",
       "      <td>443.0</td>\n",
       "      <td>589.00</td>\n",
       "      <td>1673.0</td>\n",
       "    </tr>\n",
       "    <tr>\n",
       "      <th>month_calls_count</th>\n",
       "      <td>3214.0</td>\n",
       "      <td>50.713752</td>\n",
       "      <td>26.951413</td>\n",
       "      <td>0.0</td>\n",
       "      <td>32.00</td>\n",
       "      <td>50.0</td>\n",
       "      <td>66.00</td>\n",
       "      <td>190.0</td>\n",
       "    </tr>\n",
       "    <tr>\n",
       "      <th>month_messages_count</th>\n",
       "      <td>3214.0</td>\n",
       "      <td>38.281269</td>\n",
       "      <td>36.148326</td>\n",
       "      <td>0.0</td>\n",
       "      <td>9.00</td>\n",
       "      <td>30.0</td>\n",
       "      <td>57.00</td>\n",
       "      <td>224.0</td>\n",
       "    </tr>\n",
       "    <tr>\n",
       "      <th>mb_used</th>\n",
       "      <td>3214.0</td>\n",
       "      <td>17227.585252</td>\n",
       "      <td>7578.261501</td>\n",
       "      <td>0.0</td>\n",
       "      <td>12505.25</td>\n",
       "      <td>16966.5</td>\n",
       "      <td>21450.00</td>\n",
       "      <td>49789.0</td>\n",
       "    </tr>\n",
       "    <tr>\n",
       "      <th>age</th>\n",
       "      <td>3214.0</td>\n",
       "      <td>46.641568</td>\n",
       "      <td>16.586109</td>\n",
       "      <td>18.0</td>\n",
       "      <td>32.00</td>\n",
       "      <td>46.0</td>\n",
       "      <td>62.00</td>\n",
       "      <td>75.0</td>\n",
       "    </tr>\n",
       "    <tr>\n",
       "      <th>tariff_on</th>\n",
       "      <td>3214.0</td>\n",
       "      <td>0.000000</td>\n",
       "      <td>0.000000</td>\n",
       "      <td>0.0</td>\n",
       "      <td>0.00</td>\n",
       "      <td>0.0</td>\n",
       "      <td>0.00</td>\n",
       "      <td>0.0</td>\n",
       "    </tr>\n",
       "    <tr>\n",
       "      <th>messages_included</th>\n",
       "      <td>3214.0</td>\n",
       "      <td>341.148102</td>\n",
       "      <td>438.044726</td>\n",
       "      <td>50.0</td>\n",
       "      <td>50.00</td>\n",
       "      <td>50.0</td>\n",
       "      <td>1000.00</td>\n",
       "      <td>1000.0</td>\n",
       "    </tr>\n",
       "    <tr>\n",
       "      <th>mb_per_month_included</th>\n",
       "      <td>3214.0</td>\n",
       "      <td>20067.405103</td>\n",
       "      <td>7082.491569</td>\n",
       "      <td>15360.0</td>\n",
       "      <td>15360.00</td>\n",
       "      <td>15360.0</td>\n",
       "      <td>30720.00</td>\n",
       "      <td>30720.0</td>\n",
       "    </tr>\n",
       "    <tr>\n",
       "      <th>minutes_included</th>\n",
       "      <td>3214.0</td>\n",
       "      <td>1266.179216</td>\n",
       "      <td>1152.749279</td>\n",
       "      <td>500.0</td>\n",
       "      <td>500.00</td>\n",
       "      <td>500.0</td>\n",
       "      <td>3000.00</td>\n",
       "      <td>3000.0</td>\n",
       "    </tr>\n",
       "    <tr>\n",
       "      <th>rub_monthly_fee</th>\n",
       "      <td>3214.0</td>\n",
       "      <td>979.060361</td>\n",
       "      <td>645.539596</td>\n",
       "      <td>550.0</td>\n",
       "      <td>550.00</td>\n",
       "      <td>550.0</td>\n",
       "      <td>1950.00</td>\n",
       "      <td>1950.0</td>\n",
       "    </tr>\n",
       "    <tr>\n",
       "      <th>rub_per_gb</th>\n",
       "      <td>3214.0</td>\n",
       "      <td>184.676416</td>\n",
       "      <td>23.054986</td>\n",
       "      <td>150.0</td>\n",
       "      <td>150.00</td>\n",
       "      <td>200.0</td>\n",
       "      <td>200.00</td>\n",
       "      <td>200.0</td>\n",
       "    </tr>\n",
       "    <tr>\n",
       "      <th>rub_per_message</th>\n",
       "      <td>3214.0</td>\n",
       "      <td>2.387057</td>\n",
       "      <td>0.922199</td>\n",
       "      <td>1.0</td>\n",
       "      <td>1.00</td>\n",
       "      <td>3.0</td>\n",
       "      <td>3.00</td>\n",
       "      <td>3.0</td>\n",
       "    </tr>\n",
       "    <tr>\n",
       "      <th>rub_per_minute</th>\n",
       "      <td>3214.0</td>\n",
       "      <td>2.387057</td>\n",
       "      <td>0.922199</td>\n",
       "      <td>1.0</td>\n",
       "      <td>1.00</td>\n",
       "      <td>3.0</td>\n",
       "      <td>3.00</td>\n",
       "      <td>3.0</td>\n",
       "    </tr>\n",
       "    <tr>\n",
       "      <th>rub_total</th>\n",
       "      <td>3214.0</td>\n",
       "      <td>1458.095208</td>\n",
       "      <td>774.356184</td>\n",
       "      <td>550.0</td>\n",
       "      <td>640.00</td>\n",
       "      <td>1550.0</td>\n",
       "      <td>1950.00</td>\n",
       "      <td>5348.0</td>\n",
       "    </tr>\n",
       "    <tr>\n",
       "      <th>rub_over</th>\n",
       "      <td>3214.0</td>\n",
       "      <td>479.034848</td>\n",
       "      <td>700.130152</td>\n",
       "      <td>0.0</td>\n",
       "      <td>0.00</td>\n",
       "      <td>36.0</td>\n",
       "      <td>800.00</td>\n",
       "      <td>4798.0</td>\n",
       "    </tr>\n",
       "  </tbody>\n",
       "</table>\n",
       "</div>"
      ],
      "text/plain": [
       "                        count          mean          std      min       25%  \\\n",
       "user_id                3214.0   1251.590230   144.659172   1000.0   1125.00   \n",
       "month_calls_duration   3214.0    451.244866   241.909978      0.0    282.00   \n",
       "month_calls_count      3214.0     50.713752    26.951413      0.0     32.00   \n",
       "month_messages_count   3214.0     38.281269    36.148326      0.0      9.00   \n",
       "mb_used                3214.0  17227.585252  7578.261501      0.0  12505.25   \n",
       "age                    3214.0     46.641568    16.586109     18.0     32.00   \n",
       "tariff_on              3214.0      0.000000     0.000000      0.0      0.00   \n",
       "messages_included      3214.0    341.148102   438.044726     50.0     50.00   \n",
       "mb_per_month_included  3214.0  20067.405103  7082.491569  15360.0  15360.00   \n",
       "minutes_included       3214.0   1266.179216  1152.749279    500.0    500.00   \n",
       "rub_monthly_fee        3214.0    979.060361   645.539596    550.0    550.00   \n",
       "rub_per_gb             3214.0    184.676416    23.054986    150.0    150.00   \n",
       "rub_per_message        3214.0      2.387057     0.922199      1.0      1.00   \n",
       "rub_per_minute         3214.0      2.387057     0.922199      1.0      1.00   \n",
       "rub_total              3214.0   1458.095208   774.356184    550.0    640.00   \n",
       "rub_over               3214.0    479.034848   700.130152      0.0      0.00   \n",
       "\n",
       "                           50%       75%      max  \n",
       "user_id                 1253.0   1378.75   1499.0  \n",
       "month_calls_duration     443.0    589.00   1673.0  \n",
       "month_calls_count         50.0     66.00    190.0  \n",
       "month_messages_count      30.0     57.00    224.0  \n",
       "mb_used                16966.5  21450.00  49789.0  \n",
       "age                       46.0     62.00     75.0  \n",
       "tariff_on                  0.0      0.00      0.0  \n",
       "messages_included         50.0   1000.00   1000.0  \n",
       "mb_per_month_included  15360.0  30720.00  30720.0  \n",
       "minutes_included         500.0   3000.00   3000.0  \n",
       "rub_monthly_fee          550.0   1950.00   1950.0  \n",
       "rub_per_gb               200.0    200.00    200.0  \n",
       "rub_per_message            3.0      3.00      3.0  \n",
       "rub_per_minute             3.0      3.00      3.0  \n",
       "rub_total               1550.0   1950.00   5348.0  \n",
       "rub_over                  36.0    800.00   4798.0  "
      ]
     },
     "execution_count": 66,
     "metadata": {},
     "output_type": "execute_result"
    }
   ],
   "source": [
    "df.describe().T"
   ]
  },
  {
   "cell_type": "markdown",
   "metadata": {},
   "source": [
    "### Оценим количественное соотношение используемых тарифов."
   ]
  },
  {
   "cell_type": "code",
   "execution_count": 67,
   "metadata": {},
   "outputs": [
    {
     "data": {
      "text/plain": [
       "smart    2229\n",
       "ultra     985\n",
       "Name: tariff, dtype: int64"
      ]
     },
     "execution_count": 67,
     "metadata": {},
     "output_type": "execute_result"
    }
   ],
   "source": [
    "tariff_pie = df['tariff'].value_counts()\n",
    "tariff_pie"
   ]
  },
  {
   "cell_type": "code",
   "execution_count": 68,
   "metadata": {},
   "outputs": [
    {
     "data": {
      "text/plain": [
       "Text(0.5, 1.0, 'Соотношение используемых тарифов')"
      ]
     },
     "execution_count": 68,
     "metadata": {},
     "output_type": "execute_result"
    },
    {
     "data": {
      "image/png": "[encoded data removed]",
      "text/plain": [
       "<Figure size 432x432 with 1 Axes>"
      ]
     },
     "metadata": {},
     "output_type": "display_data"
    }
   ],
   "source": [
    "tariff_pie.plot.pie(figsize=(6, 6));\n",
    "plt.title('Соотношение используемых тарифов')"
   ]
  },
  {
   "cell_type": "code",
   "execution_count": 69,
   "metadata": {},
   "outputs": [
    {
     "name": "stdout",
     "output_type": "stream",
     "text": [
      "Соотношение популярности тарифов smart/ultra = 226.29%\n"
     ]
    }
   ],
   "source": [
    "print('Соотношение популярности тарифов smart/ultra = {:.2%}'.format(tariff_pie['smart']/tariff_pie['ultra']))"
   ]
  },
  {
   "cell_type": "markdown",
   "metadata": {},
   "source": [
    "**Вывод: Тариф smart в два раза превосходит по популярности тариф ultra.**"
   ]
  },
  {
   "cell_type": "markdown",
   "metadata": {},
   "source": [
    "### Оценим распределение выручки раздельно по тарифам."
   ]
  },
  {
   "cell_type": "markdown",
   "metadata": {},
   "source": [
    "#### Ultra"
   ]
  },
  {
   "cell_type": "code",
   "execution_count": 70,
   "metadata": {},
   "outputs": [
    {
     "data": {
      "text/plain": [
       "Text(0.5, 0, 'Выручка, руб')"
      ]
     },
     "execution_count": 70,
     "metadata": {},
     "output_type": "execute_result"
    },
    {
     "data": {
      "image/png": "[encoded data removed]",
      "text/plain": [
       "<Figure size 432x288 with 1 Axes>"
      ]
     },
     "metadata": {
      "needs_background": "light"
     },
     "output_type": "display_data"
    }
   ],
   "source": [
    "parametr = 'ultra'\n",
    "df_ultra = df.query('tariff == @parametr')\n",
    "df_ultra['rub_total'].plot(y='rub_total', title = 'Распределение выручки тарифа ultra', kind = 'hist', bins=20)\n",
    "plt.ylabel('Количество в выборке')\n",
    "plt.xlabel('Выручка, руб')    "
   ]
  },
  {
   "cell_type": "markdown",
   "metadata": {},
   "source": [
    "Абонентская плата тарифа ultra = 1950\n",
    "\n",
    "*Пользователи тарифа ultra редко переплачивают сверх абонентской платы.*"
   ]
  },
  {
   "cell_type": "markdown",
   "metadata": {},
   "source": [
    "#### Smart"
   ]
  },
  {
   "cell_type": "code",
   "execution_count": 71,
   "metadata": {},
   "outputs": [
    {
     "data": {
      "text/plain": [
       "Text(0.5, 0, 'Выручка, руб')"
      ]
     },
     "execution_count": 71,
     "metadata": {},
     "output_type": "execute_result"
    },
    {
     "data": {
      "image/png": "[encoded data removed]",
      "text/plain": [
       "<Figure size 432x288 with 1 Axes>"
      ]
     },
     "metadata": {
      "needs_background": "light"
     },
     "output_type": "display_data"
    }
   ],
   "source": [
    "parametr = 'smart'\n",
    "df_smart = df.query('tariff == @parametr')\n",
    "df_smart['rub_total'].plot(y='rub_total', title = 'Распределение выручки тарифа smart', kind = 'hist', bins=20)\n",
    "plt.ylabel('Количество в выборке')\n",
    "plt.xlabel('Выручка, руб')\n"
   ]
  },
  {
   "cell_type": "markdown",
   "metadata": {},
   "source": [
    "Абонентская плата тарифа smart = 550\n",
    "\n",
    "**Пользователи тарифа smart нередко платят сверх абонентской платы. И это хорошо для оператора связи. Тем более, что таких пользователей на 100% больше, чем пользователей тарифа ultra**"
   ]
  },
  {
   "cell_type": "markdown",
   "metadata": {},
   "source": [
    "Построим сводную таблицу с медианой и средним"
   ]
  },
  {
   "cell_type": "code",
   "execution_count": 72,
   "metadata": {
    "scrolled": true
   },
   "outputs": [
    {
     "data": {
      "text/html": [
       "<style  type=\"text/css\" >\n",
       "</style><table id=\"T_43ed0_\" ><thead>    <tr>        <th class=\"blank level0\" ></th>        <th class=\"col_heading level0 col0\" >median</th>        <th class=\"col_heading level0 col1\" >mean</th>        <th class=\"col_heading level0 col2\" >sum</th>        <th class=\"col_heading level0 col3\" >std</th>        <th class=\"col_heading level0 col4\" >var</th>    </tr>    <tr>        <th class=\"index_name level0\" >tariff</th>        <th class=\"blank\" ></th>        <th class=\"blank\" ></th>        <th class=\"blank\" ></th>        <th class=\"blank\" ></th>        <th class=\"blank\" ></th>    </tr></thead><tbody>\n",
       "                <tr>\n",
       "                        <th id=\"T_43ed0_level0_row0\" class=\"row_heading level0 row0\" >smart</th>\n",
       "                        <td id=\"T_43ed0_row0_col0\" class=\"data row0 col0\" >950.00</td>\n",
       "                        <td id=\"T_43ed0_row0_col1\" class=\"data row0 col1\" >1187.22</td>\n",
       "                        <td id=\"T_43ed0_row0_col2\" class=\"data row0 col2\" >2646318.00</td>\n",
       "                        <td id=\"T_43ed0_row0_col3\" class=\"data row0 col3\" >749.56</td>\n",
       "                        <td id=\"T_43ed0_row0_col4\" class=\"data row0 col4\" >561832.96</td>\n",
       "            </tr>\n",
       "            <tr>\n",
       "                        <th id=\"T_43ed0_level0_row1\" class=\"row_heading level0 row1\" >ultra</th>\n",
       "                        <td id=\"T_43ed0_row1_col0\" class=\"data row1 col0\" >1950.00</td>\n",
       "                        <td id=\"T_43ed0_row1_col1\" class=\"data row1 col1\" >2071.07</td>\n",
       "                        <td id=\"T_43ed0_row1_col2\" class=\"data row1 col2\" >2040000.00</td>\n",
       "                        <td id=\"T_43ed0_row1_col3\" class=\"data row1 col3\" >378.80</td>\n",
       "                        <td id=\"T_43ed0_row1_col4\" class=\"data row1 col4\" >143491.24</td>\n",
       "            </tr>\n",
       "    </tbody></table>"
      ],
      "text/plain": [
       "<pandas.io.formats.style.Styler at 0x1f027560d00>"
      ]
     },
     "execution_count": 72,
     "metadata": {},
     "output_type": "execute_result"
    }
   ],
   "source": [
    "svod = df.groupby('tariff').agg({'rub_total':['median','mean','sum','std','var']})\n",
    "svod.columns=['median','mean','sum','std','var']\n",
    "svod.style.format(\"{:.2f}\")"
   ]
  },
  {
   "cell_type": "markdown",
   "metadata": {},
   "source": [
    "<!-- **Вывод: Между тарифами есть различия и немаленькие. Средние значения и медианы по выручке различаются почти в два раза!**\n",
    "**А вот общая выручка различается несильно smart принес 2028970 руб и ultra - 2503222 руб** -->"
   ]
  },
  {
   "cell_type": "markdown",
   "metadata": {},
   "source": [
    "**Вывод: Между тарифами есть различия и немаленькие. Средние значения и медианы по тарифам по общей выручке различаются почти в два раза!**\n",
    "**Общая выручка также различается smart принес 2646318.00  руб и ultra - 2040000.00 руб**\n",
    "\n",
    "*При этом у нас, какая-то огромная ошибка std, сопоставимая со средним и медианой. Необходимо избавить датасет от экстремальных выбросов перед анализом статистических гипотез.*"
   ]
  },
  {
   "cell_type": "markdown",
   "metadata": {},
   "source": [
    "### Оценим длительности разговоров за месяц для обоих тарифов."
   ]
  },
  {
   "cell_type": "markdown",
   "metadata": {},
   "source": [
    "Разработаем 'универсальную' функцию построения сводной таблицы. Для многократного использования."
   ]
  },
  {
   "cell_type": "code",
   "execution_count": 73,
   "metadata": {},
   "outputs": [],
   "source": [
    "# функция построениия сводной таблицы с расчетом среднего количество, дисперсии и стандартного отклонения:\n",
    "# std - Compute standard deviation\n",
    "# var - Compute variance of groups\n",
    "# mean - Compute mean of groups\n",
    "\n",
    "def calculate_pivot_table(column_name, index_name):\n",
    "    pivot_table = pd.pivot_table(df, values=column_name, index=[index_name],aggfunc={column_name:[np.mean, np.std, np.var]})\n",
    "    pivot_table.columns = ['mean','std','var',]\n",
    "    return pivot_table\n",
    "    #return pivot_table.style.format(\"{:.2f}\")"
   ]
  },
  {
   "cell_type": "markdown",
   "metadata": {},
   "source": [
    "Теперь построим сводную таблицу для длительности разговоров за месяц для обоих тарифов"
   ]
  },
  {
   "cell_type": "code",
   "execution_count": 74,
   "metadata": {},
   "outputs": [
    {
     "data": {
      "text/html": [
       "<div>\n",
       "<style scoped>\n",
       "    .dataframe tbody tr th:only-of-type {\n",
       "        vertical-align: middle;\n",
       "    }\n",
       "\n",
       "    .dataframe tbody tr th {\n",
       "        vertical-align: top;\n",
       "    }\n",
       "\n",
       "    .dataframe thead th {\n",
       "        text-align: right;\n",
       "    }\n",
       "</style>\n",
       "<table border=\"1\" class=\"dataframe\">\n",
       "  <thead>\n",
       "    <tr style=\"text-align: right;\">\n",
       "      <th></th>\n",
       "      <th>mean</th>\n",
       "      <th>std</th>\n",
       "      <th>var</th>\n",
       "    </tr>\n",
       "    <tr>\n",
       "      <th>tariff</th>\n",
       "      <th></th>\n",
       "      <th></th>\n",
       "      <th></th>\n",
       "    </tr>\n",
       "  </thead>\n",
       "  <tbody>\n",
       "    <tr>\n",
       "      <th>smart</th>\n",
       "      <td>417.934948</td>\n",
       "      <td>190.313730</td>\n",
       "      <td>36219.315784</td>\n",
       "    </tr>\n",
       "    <tr>\n",
       "      <th>ultra</th>\n",
       "      <td>526.623350</td>\n",
       "      <td>317.606098</td>\n",
       "      <td>100873.633397</td>\n",
       "    </tr>\n",
       "  </tbody>\n",
       "</table>\n",
       "</div>"
      ],
      "text/plain": [
       "              mean         std            var\n",
       "tariff                                       \n",
       "smart   417.934948  190.313730   36219.315784\n",
       "ultra   526.623350  317.606098  100873.633397"
      ]
     },
     "execution_count": 74,
     "metadata": {},
     "output_type": "execute_result"
    }
   ],
   "source": [
    "pivot_table_call = calculate_pivot_table('month_calls_duration','tariff')\n",
    "pivot_table_call"
   ]
  },
  {
   "cell_type": "code",
   "execution_count": 75,
   "metadata": {},
   "outputs": [
    {
     "name": "stdout",
     "output_type": "stream",
     "text": [
      "Отношение длительности разговоров smart/ultra = 79.36%\n"
     ]
    }
   ],
   "source": [
    "ratio_call = pivot_table_call.loc[pivot_table_call.index =='smart']['mean'][0] / pivot_table_call.loc[pivot_table_call.index =='ultra']['mean'][0]\n",
    "print('Отношение длительности разговоров smart/ultra = {:.2%}'.format(ratio_call))"
   ]
  },
  {
   "cell_type": "markdown",
   "metadata": {},
   "source": [
    "Построим частотные гистограммы для каждого из тарифов."
   ]
  },
  {
   "cell_type": "code",
   "execution_count": 76,
   "metadata": {},
   "outputs": [
    {
     "data": {
      "text/plain": [
       "Text(0.5, 1.0, 'Длительность звонков в минутах, тариф Smart')"
      ]
     },
     "execution_count": 76,
     "metadata": {},
     "output_type": "execute_result"
    },
    {
     "data": {
      "image/png": "[encoded data removed]",
      "text/plain": [
       "<Figure size 432x288 with 1 Axes>"
      ]
     },
     "metadata": {
      "needs_background": "light"
     },
     "output_type": "display_data"
    }
   ],
   "source": [
    "df_smart['month_calls_duration'].plot(kind='hist', bins=20)\n",
    "plt.ylabel('Количество в выборке')\n",
    "plt.xlabel('Длительность звонков, мин')\n",
    "plt.title('Длительность звонков в минутах, тариф Smart')\n"
   ]
  },
  {
   "cell_type": "code",
   "execution_count": 77,
   "metadata": {},
   "outputs": [
    {
     "data": {
      "text/plain": [
       "Text(0.5, 1.0, 'Длительность звонков в минутах, тариф Ultra')"
      ]
     },
     "execution_count": 77,
     "metadata": {},
     "output_type": "execute_result"
    },
    {
     "data": {
      "image/png": "[encoded data removed]",
      "text/plain": [
       "<Figure size 432x288 with 1 Axes>"
      ]
     },
     "metadata": {
      "needs_background": "light"
     },
     "output_type": "display_data"
    }
   ],
   "source": [
    "df_ultra['month_calls_duration'].plot(kind='hist', bins=20)\n",
    "plt.ylabel('Количество в выборке')\n",
    "plt.xlabel('Длительность звонков, мин')\n",
    "plt.title('Длительность звонков в минутах, тариф Ultra')"
   ]
  },
  {
   "cell_type": "code",
   "execution_count": 78,
   "metadata": {},
   "outputs": [
    {
     "data": {
      "text/html": [
       "<div>\n",
       "<style scoped>\n",
       "    .dataframe tbody tr th:only-of-type {\n",
       "        vertical-align: middle;\n",
       "    }\n",
       "\n",
       "    .dataframe tbody tr th {\n",
       "        vertical-align: top;\n",
       "    }\n",
       "\n",
       "    .dataframe thead th {\n",
       "        text-align: right;\n",
       "    }\n",
       "</style>\n",
       "<table border=\"1\" class=\"dataframe\">\n",
       "  <thead>\n",
       "    <tr style=\"text-align: right;\">\n",
       "      <th></th>\n",
       "      <th>messages_included</th>\n",
       "      <th>mb_per_month_included</th>\n",
       "      <th>minutes_included</th>\n",
       "      <th>rub_monthly_fee</th>\n",
       "      <th>rub_per_gb</th>\n",
       "      <th>rub_per_message</th>\n",
       "      <th>rub_per_minute</th>\n",
       "      <th>tariff</th>\n",
       "    </tr>\n",
       "  </thead>\n",
       "  <tbody>\n",
       "    <tr>\n",
       "      <th>0</th>\n",
       "      <td>50</td>\n",
       "      <td>15360</td>\n",
       "      <td>500</td>\n",
       "      <td>550</td>\n",
       "      <td>200</td>\n",
       "      <td>3</td>\n",
       "      <td>3</td>\n",
       "      <td>smart</td>\n",
       "    </tr>\n",
       "    <tr>\n",
       "      <th>1</th>\n",
       "      <td>1000</td>\n",
       "      <td>30720</td>\n",
       "      <td>3000</td>\n",
       "      <td>1950</td>\n",
       "      <td>150</td>\n",
       "      <td>1</td>\n",
       "      <td>1</td>\n",
       "      <td>ultra</td>\n",
       "    </tr>\n",
       "  </tbody>\n",
       "</table>\n",
       "</div>"
      ],
      "text/plain": [
       "   messages_included  mb_per_month_included  minutes_included  \\\n",
       "0                 50                  15360               500   \n",
       "1               1000                  30720              3000   \n",
       "\n",
       "   rub_monthly_fee  rub_per_gb  rub_per_message  rub_per_minute tariff  \n",
       "0              550         200                3               3  smart  \n",
       "1             1950         150                1               1  ultra  "
      ]
     },
     "execution_count": 78,
     "metadata": {},
     "output_type": "execute_result"
    }
   ],
   "source": [
    "# глянем в тарифы\n",
    "tariffs.head(2)"
   ]
  },
  {
   "cell_type": "code",
   "execution_count": 79,
   "metadata": {},
   "outputs": [
    {
     "data": {
      "text/plain": [
       "531.0"
      ]
     },
     "execution_count": 79,
     "metadata": {},
     "output_type": "execute_result"
    }
   ],
   "source": [
    "np.percentile(df_smart['month_calls_duration'],72)"
   ]
  },
  {
   "cell_type": "markdown",
   "metadata": {},
   "source": [
    "**Вывод: Пользователи тарифа ultra наговаривают на 20% больше пользователей тарифа smart.**\n",
    "**Бесплатная часть ultra = 3000 минут не вырабатывается пользователями, а бесплатная часть smart = 500 минут, может быть превышена 30% пользователей.**"
   ]
  },
  {
   "cell_type": "markdown",
   "metadata": {},
   "source": [
    "### Оценим количество сообщений за месяц для обоих тарифов."
   ]
  },
  {
   "cell_type": "markdown",
   "metadata": {},
   "source": [
    "Строим сводную таблицу и гистограммы для каждого тарифа."
   ]
  },
  {
   "cell_type": "code",
   "execution_count": 80,
   "metadata": {},
   "outputs": [
    {
     "data": {
      "text/html": [
       "<div>\n",
       "<style scoped>\n",
       "    .dataframe tbody tr th:only-of-type {\n",
       "        vertical-align: middle;\n",
       "    }\n",
       "\n",
       "    .dataframe tbody tr th {\n",
       "        vertical-align: top;\n",
       "    }\n",
       "\n",
       "    .dataframe thead th {\n",
       "        text-align: right;\n",
       "    }\n",
       "</style>\n",
       "<table border=\"1\" class=\"dataframe\">\n",
       "  <thead>\n",
       "    <tr style=\"text-align: right;\">\n",
       "      <th></th>\n",
       "      <th>mean</th>\n",
       "      <th>std</th>\n",
       "      <th>var</th>\n",
       "    </tr>\n",
       "    <tr>\n",
       "      <th>tariff</th>\n",
       "      <th></th>\n",
       "      <th></th>\n",
       "      <th></th>\n",
       "    </tr>\n",
       "  </thead>\n",
       "  <tbody>\n",
       "    <tr>\n",
       "      <th>smart</th>\n",
       "      <td>33.384029</td>\n",
       "      <td>28.227876</td>\n",
       "      <td>796.812958</td>\n",
       "    </tr>\n",
       "    <tr>\n",
       "      <th>ultra</th>\n",
       "      <td>49.363452</td>\n",
       "      <td>47.804457</td>\n",
       "      <td>2285.266143</td>\n",
       "    </tr>\n",
       "  </tbody>\n",
       "</table>\n",
       "</div>"
      ],
      "text/plain": [
       "             mean        std          var\n",
       "tariff                                   \n",
       "smart   33.384029  28.227876   796.812958\n",
       "ultra   49.363452  47.804457  2285.266143"
      ]
     },
     "execution_count": 80,
     "metadata": {},
     "output_type": "execute_result"
    }
   ],
   "source": [
    "pivot_table_mess = calculate_pivot_table('month_messages_count','tariff')\n",
    "pivot_table_mess"
   ]
  },
  {
   "cell_type": "code",
   "execution_count": 81,
   "metadata": {},
   "outputs": [
    {
     "name": "stdout",
     "output_type": "stream",
     "text": [
      "Отношение количества sms сообщений smart/ultra = 67.63%\n"
     ]
    }
   ],
   "source": [
    "ratio_sms = pivot_table_mess.loc[pivot_table_mess.index =='smart']['mean'][0] / pivot_table_mess.loc[pivot_table_mess.index =='ultra']['mean'][0]\n",
    "print('Отношение количества sms сообщений smart/ultra = {:.2%}'.format(ratio_sms))"
   ]
  },
  {
   "cell_type": "code",
   "execution_count": 82,
   "metadata": {},
   "outputs": [
    {
     "data": {
      "text/plain": [
       "Text(0.5, 1.0, 'Количество сообщений, тариф Smart')"
      ]
     },
     "execution_count": 82,
     "metadata": {},
     "output_type": "execute_result"
    },
    {
     "data": {
      "image/png": "[encoded data removed]",
      "text/plain": [
       "<Figure size 432x288 with 1 Axes>"
      ]
     },
     "metadata": {
      "needs_background": "light"
     },
     "output_type": "display_data"
    }
   ],
   "source": [
    "df_smart['month_messages_count'].plot(kind='hist', bins=10)\n",
    "plt.ylabel('Количество в выборке')\n",
    "plt.xlabel('Количество сообщений, шт')\n",
    "plt.title('Количество сообщений, тариф Smart')"
   ]
  },
  {
   "cell_type": "code",
   "execution_count": 83,
   "metadata": {},
   "outputs": [
    {
     "data": {
      "text/plain": [
       "Text(0.5, 1.0, 'Количество сообщений, тариф Ultra')"
      ]
     },
     "execution_count": 83,
     "metadata": {},
     "output_type": "execute_result"
    },
    {
     "data": {
      "image/png": "[encoded data removed]",
      "text/plain": [
       "<Figure size 432x288 with 1 Axes>"
      ]
     },
     "metadata": {
      "needs_background": "light"
     },
     "output_type": "display_data"
    }
   ],
   "source": [
    "df_ultra['month_messages_count'].plot(kind='hist', bins=10)\n",
    "plt.ylabel('Количество в выборке')\n",
    "plt.xlabel('Количество сообщений, шт')\n",
    "plt.title('Количество сообщений, тариф Ultra')\n"
   ]
  },
  {
   "cell_type": "markdown",
   "metadata": {},
   "source": [
    "**Вывод: Пользователи тарифа ultra используют sms сообщения на 50% больше пользователей тарифа smart.** \n",
    "**Бесплатныq лимит по сообщениям на тарифе ultra (1000) - не вырабатывается, а на тарифе smart (50) может быть превышен в 4 раза!**"
   ]
  },
  {
   "cell_type": "markdown",
   "metadata": {},
   "source": [
    "### Оценим интернет траффик за месяц для обоих тарифов."
   ]
  },
  {
   "cell_type": "markdown",
   "metadata": {},
   "source": [
    "Строим сводную таблицу и гистограммы для каждого тарифа."
   ]
  },
  {
   "cell_type": "code",
   "execution_count": 84,
   "metadata": {},
   "outputs": [
    {
     "data": {
      "text/html": [
       "<div>\n",
       "<style scoped>\n",
       "    .dataframe tbody tr th:only-of-type {\n",
       "        vertical-align: middle;\n",
       "    }\n",
       "\n",
       "    .dataframe tbody tr th {\n",
       "        vertical-align: top;\n",
       "    }\n",
       "\n",
       "    .dataframe thead th {\n",
       "        text-align: right;\n",
       "    }\n",
       "</style>\n",
       "<table border=\"1\" class=\"dataframe\">\n",
       "  <thead>\n",
       "    <tr style=\"text-align: right;\">\n",
       "      <th></th>\n",
       "      <th>mean</th>\n",
       "      <th>std</th>\n",
       "      <th>var</th>\n",
       "    </tr>\n",
       "    <tr>\n",
       "      <th>tariff</th>\n",
       "      <th></th>\n",
       "      <th></th>\n",
       "      <th></th>\n",
       "    </tr>\n",
       "  </thead>\n",
       "  <tbody>\n",
       "    <tr>\n",
       "      <th>smart</th>\n",
       "      <td>16229.188425</td>\n",
       "      <td>5877.576978</td>\n",
       "      <td>3.454591e+07</td>\n",
       "    </tr>\n",
       "    <tr>\n",
       "      <th>ultra</th>\n",
       "      <td>19486.901523</td>\n",
       "      <td>10096.317202</td>\n",
       "      <td>1.019356e+08</td>\n",
       "    </tr>\n",
       "  </tbody>\n",
       "</table>\n",
       "</div>"
      ],
      "text/plain": [
       "                mean           std           var\n",
       "tariff                                          \n",
       "smart   16229.188425   5877.576978  3.454591e+07\n",
       "ultra   19486.901523  10096.317202  1.019356e+08"
      ]
     },
     "execution_count": 84,
     "metadata": {},
     "output_type": "execute_result"
    }
   ],
   "source": [
    "pivot_table_inter = calculate_pivot_table('mb_used','tariff')\n",
    "pivot_table_inter"
   ]
  },
  {
   "cell_type": "code",
   "execution_count": 85,
   "metadata": {},
   "outputs": [
    {
     "name": "stdout",
     "output_type": "stream",
     "text": [
      "Отношение количества трафика smart/ultra = 83.28%\n"
     ]
    }
   ],
   "source": [
    "ratio_inter = pivot_table_inter.loc[pivot_table_inter.index =='smart']['mean'][0] / pivot_table_inter.loc[pivot_table_inter.index =='ultra']['mean'][0]\n",
    "print('Отношение количества трафика smart/ultra = {:.2%}'.format(ratio_inter))"
   ]
  },
  {
   "cell_type": "code",
   "execution_count": 86,
   "metadata": {},
   "outputs": [
    {
     "data": {
      "text/plain": [
       "Text(0.5, 1.0, 'Интернет траффик, тариф Smart')"
      ]
     },
     "execution_count": 86,
     "metadata": {},
     "output_type": "execute_result"
    },
    {
     "data": {
      "image/png": "[encoded data removed]",
      "text/plain": [
       "<Figure size 432x288 with 1 Axes>"
      ]
     },
     "metadata": {
      "needs_background": "light"
     },
     "output_type": "display_data"
    }
   ],
   "source": [
    "df_smart['mb_used'].plot(kind='hist', bins=10)\n",
    "plt.ylabel('Количество в выборке')\n",
    "plt.xlabel('Интернет траффик, мб')\n",
    "plt.title('Интернет траффик, тариф Smart')"
   ]
  },
  {
   "cell_type": "code",
   "execution_count": 87,
   "metadata": {},
   "outputs": [
    {
     "data": {
      "text/plain": [
       "Text(0.5, 1.0, 'Интернет траффик, тариф Ultra')"
      ]
     },
     "execution_count": 87,
     "metadata": {},
     "output_type": "execute_result"
    },
    {
     "data": {
      "image/png": "[encoded data removed]",
      "text/plain": [
       "<Figure size 432x288 with 1 Axes>"
      ]
     },
     "metadata": {
      "needs_background": "light"
     },
     "output_type": "display_data"
    }
   ],
   "source": [
    "df_ultra['mb_used'].plot(kind='hist', bins=10)\n",
    "plt.ylabel('Количество в выборке')\n",
    "plt.xlabel('Интернет траффик, мб')\n",
    "plt.title('Интернет траффик, тариф Ultra')\n"
   ]
  },
  {
   "cell_type": "code",
   "execution_count": 88,
   "metadata": {},
   "outputs": [
    {
     "data": {
      "text/plain": [
       "15839.0"
      ]
     },
     "execution_count": 88,
     "metadata": {},
     "output_type": "execute_result"
    }
   ],
   "source": [
    "np.percentile(df_smart['mb_used'],45)"
   ]
  },
  {
   "cell_type": "code",
   "execution_count": 89,
   "metadata": {},
   "outputs": [
    {
     "data": {
      "text/plain": [
       "30076.199999999993"
      ]
     },
     "execution_count": 89,
     "metadata": {},
     "output_type": "execute_result"
    }
   ],
   "source": [
    "np.percentile(df_ultra['mb_used'],85)"
   ]
  },
  {
   "cell_type": "markdown",
   "metadata": {},
   "source": [
    "**Вывод: Пользователи тарифа ultra используют интернет траффик на 50% больше пользователей тарифа smart.**\n",
    "\n",
    "**Бесплатныq лимит по трафику ultra (30720) превышается 15% пользователей, а на тарифе smart (15360) может быть превышен 55% пользователей!**"
   ]
  },
  {
   "cell_type": "markdown",
   "metadata": {},
   "source": [
    "## Шаг 4. Проверяем гипотезы"
   ]
  },
  {
   "cell_type": "markdown",
   "metadata": {},
   "source": [
    "### Гипотеза 1: Средняя выручка пользователей тарифов «Ультра» и «Смарт» различается.\n"
   ]
  },
  {
   "cell_type": "markdown",
   "metadata": {},
   "source": [
    "*Сформулируем нулевую H0 и альтернативную гипотезу H1 следующим образом:*\n",
    "\n",
    "- H0 выручка пользователей тарифов «Ультра» и «Смарт» не различается\n",
    "- H1 выручка пользователей тарифов «Ультра» и «Смарт» различается\n"
   ]
  },
  {
   "cell_type": "markdown",
   "metadata": {},
   "source": [
    "Для оценки гипотезы применим t-критерий стьюдента, предполагая при этом, что выборки независимы.\n",
    "\n",
    "- так, как критерий чуствителен к выбросам  - уберем хвосты в выборках и посмотрим, что получилось.\n",
    "- визуально оценим очищенные выборки при помощи гистограмм и диаграмм \"ящика с усами\"\n",
    "- применим метод st.ttest_ind к нашим выборкам"
   ]
  },
  {
   "cell_type": "code",
   "execution_count": 175,
   "metadata": {},
   "outputs": [],
   "source": [
    "#уберем хвосты в выборках\n",
    "\n",
    "# функция возвращает межквартильный размах для колонки в виде кортежа\n",
    "def generate_IQR_range(df,column):\n",
    "    \n",
    "    Q25 = df[column].quantile(0.25)                 \n",
    "    Q75 = df[column].quantile(0.75) \n",
    "    MIN = df[column].min()\n",
    "    MAX = df[column].max()\n",
    "    \n",
    "    IQR = Q75 - Q25\n",
    "    \n",
    "    left = Q25 - 1.5*IQR\n",
    "    if left < MIN: left = MIN\n",
    "    \n",
    "    Right = Q75 + 1.5*IQR\n",
    "    if Right > MAX: Right = MAX\n",
    "     \n",
    "    return (left, Right)"
   ]
  },
  {
   "cell_type": "code",
   "execution_count": 176,
   "metadata": {},
   "outputs": [],
   "source": [
    "range_IQR_ultra = generate_IQR_range(df_ultra,'rub_total')\n",
    "\n",
    "left = range_IQR_ultra[0]\n",
    "right = range_IQR_ultra[1]\n",
    "\n",
    "#получим датасет без экстемальных выбросов\n",
    "df_ultra_good = df_ultra.query('@left <= rub_total & rub_total <= @right')"
   ]
  },
  {
   "cell_type": "code",
   "execution_count": 177,
   "metadata": {},
   "outputs": [
    {
     "name": "stdout",
     "output_type": "stream",
     "text": [
      "Из выборки ultra выброшено 134 записи с эктремальными значениями.\n"
     ]
    }
   ],
   "source": [
    "print('Из выборки ultra выброшено {} записи с эктремальными значениями.'.format(len(df_ultra) - len(df_ultra_good)))"
   ]
  },
  {
   "cell_type": "code",
   "execution_count": 178,
   "metadata": {},
   "outputs": [],
   "source": [
    "range_IQR_smart = generate_IQR_range(df_smart,'rub_total')\n",
    "\n",
    "left = range_IQR_smart[0]\n",
    "right = range_IQR_smart[1]\n",
    "\n",
    "df_smart_good = df_smart.query('@left <= rub_total & rub_total <= @right')\n"
   ]
  },
  {
   "cell_type": "code",
   "execution_count": 179,
   "metadata": {},
   "outputs": [
    {
     "name": "stdout",
     "output_type": "stream",
     "text": [
      "Из выборки smart выброшено 57 записи с эктремальными значениями.\n"
     ]
    }
   ],
   "source": [
    "print('Из выборки smart выброшено {} записи с эктремальными значениями.'.format(len(df_smart) - len(df_smart_good)))"
   ]
  },
  {
   "cell_type": "code",
   "execution_count": 180,
   "metadata": {},
   "outputs": [],
   "source": [
    "df_smart_short = df_smart_good[['tariff','rub_total']]\n",
    "df_ultra_short = df_ultra_good[['tariff','rub_total']]"
   ]
  },
  {
   "cell_type": "code",
   "execution_count": 181,
   "metadata": {},
   "outputs": [],
   "source": [
    "# сборка\n",
    "df_concat = pd.concat([df_smart_short, df_ultra_short])"
   ]
  },
  {
   "cell_type": "code",
   "execution_count": 182,
   "metadata": {},
   "outputs": [
    {
     "data": {
      "text/html": [
       "<div>\n",
       "<style scoped>\n",
       "    .dataframe tbody tr th:only-of-type {\n",
       "        vertical-align: middle;\n",
       "    }\n",
       "\n",
       "    .dataframe tbody tr th {\n",
       "        vertical-align: top;\n",
       "    }\n",
       "\n",
       "    .dataframe thead th {\n",
       "        text-align: right;\n",
       "    }\n",
       "</style>\n",
       "<table border=\"1\" class=\"dataframe\">\n",
       "  <thead>\n",
       "    <tr style=\"text-align: right;\">\n",
       "      <th></th>\n",
       "      <th>count</th>\n",
       "      <th>mean</th>\n",
       "      <th>std</th>\n",
       "      <th>min</th>\n",
       "      <th>25%</th>\n",
       "      <th>50%</th>\n",
       "      <th>75%</th>\n",
       "      <th>max</th>\n",
       "    </tr>\n",
       "  </thead>\n",
       "  <tbody>\n",
       "    <tr>\n",
       "      <td>user_id</td>\n",
       "      <td>2229.0</td>\n",
       "      <td>1246.506505</td>\n",
       "      <td>146.119496</td>\n",
       "      <td>1001.0</td>\n",
       "      <td>1121.0</td>\n",
       "      <td>1239.0</td>\n",
       "      <td>1376.0</td>\n",
       "      <td>1499.0</td>\n",
       "    </tr>\n",
       "    <tr>\n",
       "      <td>month_calls_duration</td>\n",
       "      <td>2229.0</td>\n",
       "      <td>417.934948</td>\n",
       "      <td>190.313730</td>\n",
       "      <td>0.0</td>\n",
       "      <td>282.0</td>\n",
       "      <td>422.0</td>\n",
       "      <td>545.0</td>\n",
       "      <td>1435.0</td>\n",
       "    </tr>\n",
       "    <tr>\n",
       "      <td>month_calls_count</td>\n",
       "      <td>2229.0</td>\n",
       "      <td>46.947510</td>\n",
       "      <td>21.039171</td>\n",
       "      <td>0.0</td>\n",
       "      <td>32.0</td>\n",
       "      <td>47.0</td>\n",
       "      <td>61.0</td>\n",
       "      <td>162.0</td>\n",
       "    </tr>\n",
       "    <tr>\n",
       "      <td>month_messages_count</td>\n",
       "      <td>2229.0</td>\n",
       "      <td>33.384029</td>\n",
       "      <td>28.227876</td>\n",
       "      <td>0.0</td>\n",
       "      <td>10.0</td>\n",
       "      <td>28.0</td>\n",
       "      <td>51.0</td>\n",
       "      <td>143.0</td>\n",
       "    </tr>\n",
       "    <tr>\n",
       "      <td>mb_used</td>\n",
       "      <td>2229.0</td>\n",
       "      <td>16229.188425</td>\n",
       "      <td>5877.576978</td>\n",
       "      <td>0.0</td>\n",
       "      <td>12658.0</td>\n",
       "      <td>16531.0</td>\n",
       "      <td>20068.0</td>\n",
       "      <td>38610.0</td>\n",
       "    </tr>\n",
       "    <tr>\n",
       "      <td>age</td>\n",
       "      <td>2229.0</td>\n",
       "      <td>46.556303</td>\n",
       "      <td>16.353371</td>\n",
       "      <td>18.0</td>\n",
       "      <td>32.0</td>\n",
       "      <td>47.0</td>\n",
       "      <td>62.0</td>\n",
       "      <td>75.0</td>\n",
       "    </tr>\n",
       "    <tr>\n",
       "      <td>tariff_on</td>\n",
       "      <td>2229.0</td>\n",
       "      <td>0.000000</td>\n",
       "      <td>0.000000</td>\n",
       "      <td>0.0</td>\n",
       "      <td>0.0</td>\n",
       "      <td>0.0</td>\n",
       "      <td>0.0</td>\n",
       "      <td>0.0</td>\n",
       "    </tr>\n",
       "    <tr>\n",
       "      <td>messages_included</td>\n",
       "      <td>2229.0</td>\n",
       "      <td>50.000000</td>\n",
       "      <td>0.000000</td>\n",
       "      <td>50.0</td>\n",
       "      <td>50.0</td>\n",
       "      <td>50.0</td>\n",
       "      <td>50.0</td>\n",
       "      <td>50.0</td>\n",
       "    </tr>\n",
       "    <tr>\n",
       "      <td>mb_per_month_included</td>\n",
       "      <td>2229.0</td>\n",
       "      <td>15360.000000</td>\n",
       "      <td>0.000000</td>\n",
       "      <td>15360.0</td>\n",
       "      <td>15360.0</td>\n",
       "      <td>15360.0</td>\n",
       "      <td>15360.0</td>\n",
       "      <td>15360.0</td>\n",
       "    </tr>\n",
       "    <tr>\n",
       "      <td>minutes_included</td>\n",
       "      <td>2229.0</td>\n",
       "      <td>500.000000</td>\n",
       "      <td>0.000000</td>\n",
       "      <td>500.0</td>\n",
       "      <td>500.0</td>\n",
       "      <td>500.0</td>\n",
       "      <td>500.0</td>\n",
       "      <td>500.0</td>\n",
       "    </tr>\n",
       "    <tr>\n",
       "      <td>rub_monthly_fee</td>\n",
       "      <td>2229.0</td>\n",
       "      <td>550.000000</td>\n",
       "      <td>0.000000</td>\n",
       "      <td>550.0</td>\n",
       "      <td>550.0</td>\n",
       "      <td>550.0</td>\n",
       "      <td>550.0</td>\n",
       "      <td>550.0</td>\n",
       "    </tr>\n",
       "    <tr>\n",
       "      <td>rub_per_gb</td>\n",
       "      <td>2229.0</td>\n",
       "      <td>200.000000</td>\n",
       "      <td>0.000000</td>\n",
       "      <td>200.0</td>\n",
       "      <td>200.0</td>\n",
       "      <td>200.0</td>\n",
       "      <td>200.0</td>\n",
       "      <td>200.0</td>\n",
       "    </tr>\n",
       "    <tr>\n",
       "      <td>rub_per_message</td>\n",
       "      <td>2229.0</td>\n",
       "      <td>3.000000</td>\n",
       "      <td>0.000000</td>\n",
       "      <td>3.0</td>\n",
       "      <td>3.0</td>\n",
       "      <td>3.0</td>\n",
       "      <td>3.0</td>\n",
       "      <td>3.0</td>\n",
       "    </tr>\n",
       "    <tr>\n",
       "      <td>rub_per_minute</td>\n",
       "      <td>2229.0</td>\n",
       "      <td>3.000000</td>\n",
       "      <td>0.000000</td>\n",
       "      <td>3.0</td>\n",
       "      <td>3.0</td>\n",
       "      <td>3.0</td>\n",
       "      <td>3.0</td>\n",
       "      <td>3.0</td>\n",
       "    </tr>\n",
       "    <tr>\n",
       "      <td>rub_total</td>\n",
       "      <td>2229.0</td>\n",
       "      <td>1187.222073</td>\n",
       "      <td>749.555176</td>\n",
       "      <td>550.0</td>\n",
       "      <td>550.0</td>\n",
       "      <td>950.0</td>\n",
       "      <td>1550.0</td>\n",
       "      <td>5348.0</td>\n",
       "    </tr>\n",
       "    <tr>\n",
       "      <td>rub_over</td>\n",
       "      <td>2229.0</td>\n",
       "      <td>637.222073</td>\n",
       "      <td>749.555176</td>\n",
       "      <td>0.0</td>\n",
       "      <td>0.0</td>\n",
       "      <td>400.0</td>\n",
       "      <td>1000.0</td>\n",
       "      <td>4798.0</td>\n",
       "    </tr>\n",
       "  </tbody>\n",
       "</table>\n",
       "</div>"
      ],
      "text/plain": [
       "                        count          mean          std      min      25%  \\\n",
       "user_id                2229.0   1246.506505   146.119496   1001.0   1121.0   \n",
       "month_calls_duration   2229.0    417.934948   190.313730      0.0    282.0   \n",
       "month_calls_count      2229.0     46.947510    21.039171      0.0     32.0   \n",
       "month_messages_count   2229.0     33.384029    28.227876      0.0     10.0   \n",
       "mb_used                2229.0  16229.188425  5877.576978      0.0  12658.0   \n",
       "age                    2229.0     46.556303    16.353371     18.0     32.0   \n",
       "tariff_on              2229.0      0.000000     0.000000      0.0      0.0   \n",
       "messages_included      2229.0     50.000000     0.000000     50.0     50.0   \n",
       "mb_per_month_included  2229.0  15360.000000     0.000000  15360.0  15360.0   \n",
       "minutes_included       2229.0    500.000000     0.000000    500.0    500.0   \n",
       "rub_monthly_fee        2229.0    550.000000     0.000000    550.0    550.0   \n",
       "rub_per_gb             2229.0    200.000000     0.000000    200.0    200.0   \n",
       "rub_per_message        2229.0      3.000000     0.000000      3.0      3.0   \n",
       "rub_per_minute         2229.0      3.000000     0.000000      3.0      3.0   \n",
       "rub_total              2229.0   1187.222073   749.555176    550.0    550.0   \n",
       "rub_over               2229.0    637.222073   749.555176      0.0      0.0   \n",
       "\n",
       "                           50%      75%      max  \n",
       "user_id                 1239.0   1376.0   1499.0  \n",
       "month_calls_duration     422.0    545.0   1435.0  \n",
       "month_calls_count         47.0     61.0    162.0  \n",
       "month_messages_count      28.0     51.0    143.0  \n",
       "mb_used                16531.0  20068.0  38610.0  \n",
       "age                       47.0     62.0     75.0  \n",
       "tariff_on                  0.0      0.0      0.0  \n",
       "messages_included         50.0     50.0     50.0  \n",
       "mb_per_month_included  15360.0  15360.0  15360.0  \n",
       "minutes_included         500.0    500.0    500.0  \n",
       "rub_monthly_fee          550.0    550.0    550.0  \n",
       "rub_per_gb               200.0    200.0    200.0  \n",
       "rub_per_message            3.0      3.0      3.0  \n",
       "rub_per_minute             3.0      3.0      3.0  \n",
       "rub_total                950.0   1550.0   5348.0  \n",
       "rub_over                 400.0   1000.0   4798.0  "
      ]
     },
     "execution_count": 182,
     "metadata": {},
     "output_type": "execute_result"
    }
   ],
   "source": [
    "df_smart.describe().T"
   ]
  },
  {
   "cell_type": "code",
   "execution_count": 183,
   "metadata": {},
   "outputs": [
    {
     "data": {
      "text/plain": [
       "Text(0.5, 1.0, 'Выручка (очищенная выборка), тариф Smart')"
      ]
     },
     "execution_count": 183,
     "metadata": {},
     "output_type": "execute_result"
    },
    {
     "data": {
      "image/png": "[encoded data removed]",
      "text/plain": [
       "<Figure size 432x288 with 1 Axes>"
      ]
     },
     "metadata": {
      "needs_background": "light"
     },
     "output_type": "display_data"
    }
   ],
   "source": [
    "df_smart_short.plot(kind='hist', bins=10)\n",
    "plt.ylabel('Количество в выборке')\n",
    "plt.xlabel('Выручка, руб')\n",
    "plt.title('Выручка (очищенная выборка), тариф Smart')"
   ]
  },
  {
   "cell_type": "code",
   "execution_count": 184,
   "metadata": {},
   "outputs": [
    {
     "data": {
      "text/html": [
       "<div>\n",
       "<style scoped>\n",
       "    .dataframe tbody tr th:only-of-type {\n",
       "        vertical-align: middle;\n",
       "    }\n",
       "\n",
       "    .dataframe tbody tr th {\n",
       "        vertical-align: top;\n",
       "    }\n",
       "\n",
       "    .dataframe thead th {\n",
       "        text-align: right;\n",
       "    }\n",
       "</style>\n",
       "<table border=\"1\" class=\"dataframe\">\n",
       "  <thead>\n",
       "    <tr style=\"text-align: right;\">\n",
       "      <th></th>\n",
       "      <th>count</th>\n",
       "      <th>mean</th>\n",
       "      <th>std</th>\n",
       "      <th>min</th>\n",
       "      <th>25%</th>\n",
       "      <th>50%</th>\n",
       "      <th>75%</th>\n",
       "      <th>max</th>\n",
       "    </tr>\n",
       "  </thead>\n",
       "  <tbody>\n",
       "    <tr>\n",
       "      <td>user_id</td>\n",
       "      <td>985.0</td>\n",
       "      <td>1263.094416</td>\n",
       "      <td>140.694908</td>\n",
       "      <td>1000.0</td>\n",
       "      <td>1143.0</td>\n",
       "      <td>1277.0</td>\n",
       "      <td>1381.0</td>\n",
       "      <td>1495.0</td>\n",
       "    </tr>\n",
       "    <tr>\n",
       "      <td>month_calls_duration</td>\n",
       "      <td>985.0</td>\n",
       "      <td>526.623350</td>\n",
       "      <td>317.606098</td>\n",
       "      <td>0.0</td>\n",
       "      <td>284.0</td>\n",
       "      <td>518.0</td>\n",
       "      <td>752.0</td>\n",
       "      <td>1673.0</td>\n",
       "    </tr>\n",
       "    <tr>\n",
       "      <td>month_calls_count</td>\n",
       "      <td>985.0</td>\n",
       "      <td>59.236548</td>\n",
       "      <td>35.562722</td>\n",
       "      <td>0.0</td>\n",
       "      <td>33.0</td>\n",
       "      <td>58.0</td>\n",
       "      <td>84.0</td>\n",
       "      <td>190.0</td>\n",
       "    </tr>\n",
       "    <tr>\n",
       "      <td>month_messages_count</td>\n",
       "      <td>985.0</td>\n",
       "      <td>49.363452</td>\n",
       "      <td>47.804457</td>\n",
       "      <td>0.0</td>\n",
       "      <td>6.0</td>\n",
       "      <td>38.0</td>\n",
       "      <td>79.0</td>\n",
       "      <td>224.0</td>\n",
       "    </tr>\n",
       "    <tr>\n",
       "      <td>mb_used</td>\n",
       "      <td>985.0</td>\n",
       "      <td>19486.901523</td>\n",
       "      <td>10096.317202</td>\n",
       "      <td>0.0</td>\n",
       "      <td>11785.0</td>\n",
       "      <td>19324.0</td>\n",
       "      <td>26863.0</td>\n",
       "      <td>49789.0</td>\n",
       "    </tr>\n",
       "    <tr>\n",
       "      <td>age</td>\n",
       "      <td>985.0</td>\n",
       "      <td>46.834518</td>\n",
       "      <td>17.107979</td>\n",
       "      <td>18.0</td>\n",
       "      <td>30.0</td>\n",
       "      <td>45.0</td>\n",
       "      <td>63.0</td>\n",
       "      <td>75.0</td>\n",
       "    </tr>\n",
       "    <tr>\n",
       "      <td>tariff_on</td>\n",
       "      <td>985.0</td>\n",
       "      <td>0.000000</td>\n",
       "      <td>0.000000</td>\n",
       "      <td>0.0</td>\n",
       "      <td>0.0</td>\n",
       "      <td>0.0</td>\n",
       "      <td>0.0</td>\n",
       "      <td>0.0</td>\n",
       "    </tr>\n",
       "    <tr>\n",
       "      <td>messages_included</td>\n",
       "      <td>985.0</td>\n",
       "      <td>1000.000000</td>\n",
       "      <td>0.000000</td>\n",
       "      <td>1000.0</td>\n",
       "      <td>1000.0</td>\n",
       "      <td>1000.0</td>\n",
       "      <td>1000.0</td>\n",
       "      <td>1000.0</td>\n",
       "    </tr>\n",
       "    <tr>\n",
       "      <td>mb_per_month_included</td>\n",
       "      <td>985.0</td>\n",
       "      <td>30720.000000</td>\n",
       "      <td>0.000000</td>\n",
       "      <td>30720.0</td>\n",
       "      <td>30720.0</td>\n",
       "      <td>30720.0</td>\n",
       "      <td>30720.0</td>\n",
       "      <td>30720.0</td>\n",
       "    </tr>\n",
       "    <tr>\n",
       "      <td>minutes_included</td>\n",
       "      <td>985.0</td>\n",
       "      <td>3000.000000</td>\n",
       "      <td>0.000000</td>\n",
       "      <td>3000.0</td>\n",
       "      <td>3000.0</td>\n",
       "      <td>3000.0</td>\n",
       "      <td>3000.0</td>\n",
       "      <td>3000.0</td>\n",
       "    </tr>\n",
       "    <tr>\n",
       "      <td>rub_monthly_fee</td>\n",
       "      <td>985.0</td>\n",
       "      <td>1950.000000</td>\n",
       "      <td>0.000000</td>\n",
       "      <td>1950.0</td>\n",
       "      <td>1950.0</td>\n",
       "      <td>1950.0</td>\n",
       "      <td>1950.0</td>\n",
       "      <td>1950.0</td>\n",
       "    </tr>\n",
       "    <tr>\n",
       "      <td>rub_per_gb</td>\n",
       "      <td>985.0</td>\n",
       "      <td>150.000000</td>\n",
       "      <td>0.000000</td>\n",
       "      <td>150.0</td>\n",
       "      <td>150.0</td>\n",
       "      <td>150.0</td>\n",
       "      <td>150.0</td>\n",
       "      <td>150.0</td>\n",
       "    </tr>\n",
       "    <tr>\n",
       "      <td>rub_per_message</td>\n",
       "      <td>985.0</td>\n",
       "      <td>1.000000</td>\n",
       "      <td>0.000000</td>\n",
       "      <td>1.0</td>\n",
       "      <td>1.0</td>\n",
       "      <td>1.0</td>\n",
       "      <td>1.0</td>\n",
       "      <td>1.0</td>\n",
       "    </tr>\n",
       "    <tr>\n",
       "      <td>rub_per_minute</td>\n",
       "      <td>985.0</td>\n",
       "      <td>1.000000</td>\n",
       "      <td>0.000000</td>\n",
       "      <td>1.0</td>\n",
       "      <td>1.0</td>\n",
       "      <td>1.0</td>\n",
       "      <td>1.0</td>\n",
       "      <td>1.0</td>\n",
       "    </tr>\n",
       "    <tr>\n",
       "      <td>rub_total</td>\n",
       "      <td>985.0</td>\n",
       "      <td>2071.065990</td>\n",
       "      <td>378.802377</td>\n",
       "      <td>1950.0</td>\n",
       "      <td>1950.0</td>\n",
       "      <td>1950.0</td>\n",
       "      <td>1950.0</td>\n",
       "      <td>4800.0</td>\n",
       "    </tr>\n",
       "    <tr>\n",
       "      <td>rub_over</td>\n",
       "      <td>985.0</td>\n",
       "      <td>121.065990</td>\n",
       "      <td>378.802377</td>\n",
       "      <td>0.0</td>\n",
       "      <td>0.0</td>\n",
       "      <td>0.0</td>\n",
       "      <td>0.0</td>\n",
       "      <td>2850.0</td>\n",
       "    </tr>\n",
       "  </tbody>\n",
       "</table>\n",
       "</div>"
      ],
      "text/plain": [
       "                       count          mean           std      min      25%  \\\n",
       "user_id                985.0   1263.094416    140.694908   1000.0   1143.0   \n",
       "month_calls_duration   985.0    526.623350    317.606098      0.0    284.0   \n",
       "month_calls_count      985.0     59.236548     35.562722      0.0     33.0   \n",
       "month_messages_count   985.0     49.363452     47.804457      0.0      6.0   \n",
       "mb_used                985.0  19486.901523  10096.317202      0.0  11785.0   \n",
       "age                    985.0     46.834518     17.107979     18.0     30.0   \n",
       "tariff_on              985.0      0.000000      0.000000      0.0      0.0   \n",
       "messages_included      985.0   1000.000000      0.000000   1000.0   1000.0   \n",
       "mb_per_month_included  985.0  30720.000000      0.000000  30720.0  30720.0   \n",
       "minutes_included       985.0   3000.000000      0.000000   3000.0   3000.0   \n",
       "rub_monthly_fee        985.0   1950.000000      0.000000   1950.0   1950.0   \n",
       "rub_per_gb             985.0    150.000000      0.000000    150.0    150.0   \n",
       "rub_per_message        985.0      1.000000      0.000000      1.0      1.0   \n",
       "rub_per_minute         985.0      1.000000      0.000000      1.0      1.0   \n",
       "rub_total              985.0   2071.065990    378.802377   1950.0   1950.0   \n",
       "rub_over               985.0    121.065990    378.802377      0.0      0.0   \n",
       "\n",
       "                           50%      75%      max  \n",
       "user_id                 1277.0   1381.0   1495.0  \n",
       "month_calls_duration     518.0    752.0   1673.0  \n",
       "month_calls_count         58.0     84.0    190.0  \n",
       "month_messages_count      38.0     79.0    224.0  \n",
       "mb_used                19324.0  26863.0  49789.0  \n",
       "age                       45.0     63.0     75.0  \n",
       "tariff_on                  0.0      0.0      0.0  \n",
       "messages_included       1000.0   1000.0   1000.0  \n",
       "mb_per_month_included  30720.0  30720.0  30720.0  \n",
       "minutes_included        3000.0   3000.0   3000.0  \n",
       "rub_monthly_fee         1950.0   1950.0   1950.0  \n",
       "rub_per_gb               150.0    150.0    150.0  \n",
       "rub_per_message            1.0      1.0      1.0  \n",
       "rub_per_minute             1.0      1.0      1.0  \n",
       "rub_total               1950.0   1950.0   4800.0  \n",
       "rub_over                   0.0      0.0   2850.0  "
      ]
     },
     "execution_count": 184,
     "metadata": {},
     "output_type": "execute_result"
    }
   ],
   "source": [
    "df_ultra.describe().T"
   ]
  },
  {
   "cell_type": "code",
   "execution_count": 185,
   "metadata": {},
   "outputs": [
    {
     "data": {
      "text/plain": [
       "Text(0.5, 1.0, 'Выручка (очищенная выборка), тариф Ultra')"
      ]
     },
     "execution_count": 185,
     "metadata": {},
     "output_type": "execute_result"
    },
    {
     "data": {
      "image/png": "[encoded data removed]",
      "text/plain": [
       "<Figure size 432x288 with 1 Axes>"
      ]
     },
     "metadata": {
      "needs_background": "light"
     },
     "output_type": "display_data"
    }
   ],
   "source": [
    "df_ultra_short.plot(kind='hist', bins=10)\n",
    "plt.ylabel('Количество в выборке')\n",
    "plt.xlabel('Выручка, руб')\n",
    "plt.title('Выручка (очищенная выборка), тариф Ultra')"
   ]
  },
  {
   "cell_type": "code",
   "execution_count": 186,
   "metadata": {},
   "outputs": [
    {
     "name": "stderr",
     "output_type": "stream",
     "text": [
      "/opt/conda/lib/python3.7/site-packages/numpy/core/_asarray.py:83: VisibleDeprecationWarning:\n",
      "\n",
      "Creating an ndarray from ragged nested sequences (which is a list-or-tuple of lists-or-tuples-or ndarrays with different lengths or shapes) is deprecated. If you meant to do this, you must specify 'dtype=object' when creating the ndarray\n",
      "\n"
     ]
    },
    {
     "data": {
      "text/plain": [
       "Text(0.5, 1.0, 'Boxplot - тарифы')"
      ]
     },
     "execution_count": 186,
     "metadata": {},
     "output_type": "execute_result"
    },
    {
     "data": {
      "image/png": "[encoded data removed]",
      "text/plain": [
       "<Figure size 360x360 with 1 Axes>"
      ]
     },
     "metadata": {
      "needs_background": "light"
     },
     "output_type": "display_data"
    }
   ],
   "source": [
    "df_concat.boxplot('rub_total', by='tariff', figsize=(5,5)) \n",
    "plt.xlabel('Тариф')\n",
    "plt.ylabel('Выручка, руб')\n",
    "plt.title('Boxplot - тарифы')"
   ]
  },
  {
   "cell_type": "markdown",
   "metadata": {},
   "source": [
    "Даже без критерия стьюдента понятно, что гипотеза H0 о равенстве выручки должна быть отвергнута.\n",
    "\n",
    "Тем не менее, применим критерий стьюдента библиотеки scipy:\n",
    "\n",
    "https://docs.scipy.org/doc/scipy/reference/generated/scipy.stats.ttest_ind.html\n",
    "\n",
    "*scipy.stats.ttest_ind(a, b, axis=0, equal_var=True, nan_policy='propagate', alternative='two-sided')[source]\n",
    "Calculate the T-test for the means of two independent samples of scores.*\n",
    "\n",
    "*This is a two-sided test for the null hypothesis that 2 independent samples have identical average (expected) values. This test assumes that the populations have identical variances by default.*\n"
   ]
  },
  {
   "cell_type": "code",
   "execution_count": 187,
   "metadata": {},
   "outputs": [],
   "source": [
    "alpha = 0.05"
   ]
  },
  {
   "cell_type": "code",
   "execution_count": 188,
   "metadata": {},
   "outputs": [],
   "source": [
    "results = st.ttest_ind(df_ultra_good['rub_total'], df_smart_good['rub_total'])"
   ]
  },
  {
   "cell_type": "code",
   "execution_count": 189,
   "metadata": {},
   "outputs": [
    {
     "name": "stdout",
     "output_type": "stream",
     "text": [
      "p-значение: 9.773867734413409e-254\n",
      "Отвергаем нулевую гипотезу\n"
     ]
    }
   ],
   "source": [
    "print('p-значение:', results.pvalue)\n",
    "\n",
    "if (results.pvalue < alpha):\n",
    "    print(\"Отвергаем нулевую гипотезу\")\n",
    "else:\n",
    "    print(\"Не получилось отвергнуть нулевую гипотезу\")"
   ]
  },
  {
   "cell_type": "markdown",
   "metadata": {},
   "source": [
    "**Вывод: Средняя выручка пользователей тарифов «Ультра» и «Смарт» действительно различается. Гипотеза равенства выручки - отвергнута**"
   ]
  },
  {
   "cell_type": "markdown",
   "metadata": {},
   "source": [
    "### Гипотеза 2: Средняя выручка пользователей из Москвы отличается от выручки пользователей из других регионов."
   ]
  },
  {
   "cell_type": "markdown",
   "metadata": {},
   "source": [
    "*Сформулируем нулевую H0 и альтернативную гипотезу H1:*\n",
    "\n",
    "- H0 средняя выручка пользователей из Москвы не отличается от выручки пользователей из других регионов\n",
    "- H1 средняя выручка пользователей из Москвы отличается от выручки пользователей из других регионов\n"
   ]
  },
  {
   "cell_type": "markdown",
   "metadata": {},
   "source": [
    "Получим раздельные датасеты для Москвы и для регионов. И очистим данные от экстремальных значений, раздедьно по датасетам."
   ]
  },
  {
   "cell_type": "code",
   "execution_count": 190,
   "metadata": {},
   "outputs": [],
   "source": [
    "city = 'Москва'\n",
    "\n",
    "df_moscow = df.query('city == @city')\n",
    "range_IQR = generate_IQR_range(df_moscow,'rub_total')\n",
    "left = range_IQR[0]\n",
    "right = range_IQR[1]\n",
    "df_good_moscow = df_moscow[['rub_total','city']].query('@left <= rub_total & rub_total <= @right')"
   ]
  },
  {
   "cell_type": "code",
   "execution_count": 191,
   "metadata": {},
   "outputs": [
    {
     "data": {
      "text/html": [
       "<div>\n",
       "<style scoped>\n",
       "    .dataframe tbody tr th:only-of-type {\n",
       "        vertical-align: middle;\n",
       "    }\n",
       "\n",
       "    .dataframe tbody tr th {\n",
       "        vertical-align: top;\n",
       "    }\n",
       "\n",
       "    .dataframe thead th {\n",
       "        text-align: right;\n",
       "    }\n",
       "</style>\n",
       "<table border=\"1\" class=\"dataframe\">\n",
       "  <thead>\n",
       "    <tr style=\"text-align: right;\">\n",
       "      <th></th>\n",
       "      <th>count</th>\n",
       "      <th>mean</th>\n",
       "      <th>std</th>\n",
       "      <th>min</th>\n",
       "      <th>25%</th>\n",
       "      <th>50%</th>\n",
       "      <th>75%</th>\n",
       "      <th>max</th>\n",
       "    </tr>\n",
       "  </thead>\n",
       "  <tbody>\n",
       "    <tr>\n",
       "      <td>rub_total</td>\n",
       "      <td>608.0</td>\n",
       "      <td>1470.151316</td>\n",
       "      <td>724.990841</td>\n",
       "      <td>550.0</td>\n",
       "      <td>652.0</td>\n",
       "      <td>1750.0</td>\n",
       "      <td>1950.0</td>\n",
       "      <td>3750.0</td>\n",
       "    </tr>\n",
       "  </tbody>\n",
       "</table>\n",
       "</div>"
      ],
      "text/plain": [
       "           count         mean         std    min    25%     50%     75%  \\\n",
       "rub_total  608.0  1470.151316  724.990841  550.0  652.0  1750.0  1950.0   \n",
       "\n",
       "              max  \n",
       "rub_total  3750.0  "
      ]
     },
     "execution_count": 191,
     "metadata": {},
     "output_type": "execute_result"
    }
   ],
   "source": [
    "info_m = df_good_moscow.describe().T\n",
    "info_m"
   ]
  },
  {
   "cell_type": "code",
   "execution_count": 192,
   "metadata": {},
   "outputs": [
    {
     "name": "stdout",
     "output_type": "stream",
     "text": [
      "Среднее значение выручки в серии Moscow = 1470.15 руб\n"
     ]
    }
   ],
   "source": [
    "mean_moscow = info_m.iloc[0:1]['mean'][0]\n",
    "print('Среднее значение выручки в серии Moscow = {:.2f} руб'.format(mean_moscow))"
   ]
  },
  {
   "cell_type": "code",
   "execution_count": 193,
   "metadata": {},
   "outputs": [
    {
     "data": {
      "text/plain": [
       "Text(0.5, 1.0, 'Выручка, Москва')"
      ]
     },
     "execution_count": 193,
     "metadata": {},
     "output_type": "execute_result"
    },
    {
     "data": {
      "image/png": "[encoded data removed]",
      "text/plain": [
       "<Figure size 432x288 with 1 Axes>"
      ]
     },
     "metadata": {
      "needs_background": "light"
     },
     "output_type": "display_data"
    }
   ],
   "source": [
    "df_good_moscow.plot(kind='hist', bins=10)\n",
    "plt.ylabel('Количество в выборке')\n",
    "plt.xlabel('Выручка, руб')\n",
    "plt.title('Выручка, Москва')"
   ]
  },
  {
   "cell_type": "code",
   "execution_count": 194,
   "metadata": {},
   "outputs": [],
   "source": [
    "df_russia = df.query('not city == @city') # Регионы\n",
    "range_IQR = generate_IQR_range(df_russia,'rub_total')\n",
    "left = range_IQR[0]\n",
    "right = range_IQR[1]\n",
    "df_good_russia = df_russia[['rub_total','city']].query('@left <= rub_total & rub_total <= @right')"
   ]
  },
  {
   "cell_type": "code",
   "execution_count": 195,
   "metadata": {},
   "outputs": [],
   "source": [
    "info_r = df_good_russia.describe().T"
   ]
  },
  {
   "cell_type": "code",
   "execution_count": 196,
   "metadata": {},
   "outputs": [
    {
     "name": "stdout",
     "output_type": "stream",
     "text": [
      "Среднее значение выручки в серии Russia = 1435.49 руб\n"
     ]
    }
   ],
   "source": [
    "mean_russia = info_r.iloc[0:1]['mean'][0]\n",
    "print('Среднее значение выручки в серии Russia = {:.2f} руб'.format(mean_russia))"
   ]
  },
  {
   "cell_type": "code",
   "execution_count": 197,
   "metadata": {},
   "outputs": [
    {
     "name": "stdout",
     "output_type": "stream",
     "text": [
      "Разность средних в сериях Moscow - Russia = 34.66 руб\n"
     ]
    }
   ],
   "source": [
    "print('Разность средних в сериях Moscow - Russia = {:.2f} руб'.format(mean_moscow - mean_russia))"
   ]
  },
  {
   "cell_type": "code",
   "execution_count": 198,
   "metadata": {},
   "outputs": [
    {
     "data": {
      "text/plain": [
       "Text(0.5, 1.0, 'Выручка, Регионы')"
      ]
     },
     "execution_count": 198,
     "metadata": {},
     "output_type": "execute_result"
    },
    {
     "data": {
      "image/png": "[encoded data removed]",
      "text/plain": [
       "<Figure size 432x288 with 1 Axes>"
      ]
     },
     "metadata": {
      "needs_background": "light"
     },
     "output_type": "display_data"
    }
   ],
   "source": [
    "df_good_russia.plot(kind='hist', bins=10)\n",
    "plt.ylabel('Количество в выборке')\n",
    "plt.xlabel('Выручка, руб')\n",
    "plt.title('Выручка, Регионы')"
   ]
  },
  {
   "cell_type": "code",
   "execution_count": 199,
   "metadata": {},
   "outputs": [],
   "source": [
    "# сборка для boxplot\n",
    "df_concat = pd.concat([df_good_moscow, df_good_russia])\n",
    "\n",
    "def calculate_territory(row):\n",
    "    if row['city'] == 'Москва':\n",
    "        return 'Москва'\n",
    "    else:\n",
    "        return 'Регионы' \n",
    "    \n",
    "df_concat['territory'] = df_concat.apply(calculate_territory, axis=1)"
   ]
  },
  {
   "cell_type": "code",
   "execution_count": 200,
   "metadata": {},
   "outputs": [
    {
     "name": "stderr",
     "output_type": "stream",
     "text": [
      "/opt/conda/lib/python3.7/site-packages/numpy/core/_asarray.py:83: VisibleDeprecationWarning:\n",
      "\n",
      "Creating an ndarray from ragged nested sequences (which is a list-or-tuple of lists-or-tuples-or ndarrays with different lengths or shapes) is deprecated. If you meant to do this, you must specify 'dtype=object' when creating the ndarray\n",
      "\n"
     ]
    },
    {
     "data": {
      "text/plain": [
       "Text(0.5, 1.0, 'Территории')"
      ]
     },
     "execution_count": 200,
     "metadata": {},
     "output_type": "execute_result"
    },
    {
     "data": {
      "image/png": "[encoded data removed]",
      "text/plain": [
       "<Figure size 360x360 with 1 Axes>"
      ]
     },
     "metadata": {
      "needs_background": "light"
     },
     "output_type": "display_data"
    }
   ],
   "source": [
    "df_concat.boxplot('rub_total', by='territory', figsize=(5,5)) \n",
    "plt.xlabel('Территории')\n",
    "plt.ylabel('Выручка, руб')\n",
    "plt.title('Территории')"
   ]
  },
  {
   "cell_type": "markdown",
   "metadata": {},
   "source": [
    "Предварительно видно, что выборки очень похожи. Хотя медиана распределения в Москве выше ( в Москве = 1598, против в регионах = 1375)"
   ]
  },
  {
   "cell_type": "markdown",
   "metadata": {},
   "source": [
    "Применим критерий стьюдента (хотя и есть сомнения в его применимости):"
   ]
  },
  {
   "cell_type": "code",
   "execution_count": 201,
   "metadata": {},
   "outputs": [],
   "source": [
    "alpha = 0.05"
   ]
  },
  {
   "cell_type": "code",
   "execution_count": 202,
   "metadata": {},
   "outputs": [],
   "source": [
    "results = st.ttest_ind(df_good_moscow['rub_total'], df_good_russia['rub_total'])"
   ]
  },
  {
   "cell_type": "code",
   "execution_count": 117,
   "metadata": {},
   "outputs": [
    {
     "name": "stdout",
     "output_type": "stream",
     "text": [
      "p-значение: 0.30129218972407756\n",
      "Не получилось отвергнуть нулевую гипотезу\n"
     ]
    }
   ],
   "source": [
    "print('p-значение:', results.pvalue)\n",
    "\n",
    "if (results.pvalue < alpha):\n",
    "    print(\"Отвергаем нулевую гипотезу\")\n",
    "else:\n",
    "    print(\"Не получилось отвергнуть нулевую гипотезу\")"
   ]
  },
  {
   "cell_type": "markdown",
   "metadata": {},
   "source": [
    "**Вывод: Cредняя выручка пользователей из Москвы не отличается от выручки пользователей из других регионов.**\n",
    "**Москва = Россия**\n",
    "**Уровень статистической значимости 20%**"
   ]
  },
  {
   "cell_type": "markdown",
   "metadata": {},
   "source": [
    "# Оценка гипотез при помощи bootstrap технологии"
   ]
  },
  {
   "cell_type": "markdown",
   "metadata": {},
   "source": [
    "**Определение bootstrap**"
   ]
  },
  {
   "cell_type": "markdown",
   "metadata": {},
   "source": [
    "Бутстрэп (англ. bootstrap) в статистике — практический компьютерный метод исследования распределения статистик вероятностных распределений, основанный на многократной генерации выборок методом Монте-Карло на базе имеющейся выборки. Позволяет просто и быстро оценивать самые разные статистики (доверительные интервалы, дисперсию, корреляцию и так далее) для сложных моделей. \n",
    "https://ru.wikipedia.org/wiki/%D0%91%D1%83%D1%82%D1%81%D1%82%D1%80%D1%8D%D0%BF_(%D1%81%D1%82%D0%B0%D1%82%D0%B8%D1%81%D1%82%D0%B8%D0%BA%D0%B0)\n"
   ]
  },
  {
   "cell_type": "markdown",
   "metadata": {},
   "source": [
    "## Оценка гипотезы №1 при помощи bootstrap технологии."
   ]
  },
  {
   "cell_type": "markdown",
   "metadata": {},
   "source": [
    " Напомним:\n",
    "*Гипотеза 1: Средняя выручка пользователей тарифов «Ультра» и «Смарт» различается.*\n",
    "\n",
    "Почему выбрана дополнительно технология bootstrap?\n",
    "\n",
    "Потому что:\n",
    "- критерий сьюдента рекомендовано применять либо к нормальным распределениям, либо к выборкам большого объема\n",
    "- достаточно посмотреть на гистограмму, чтобы понять - наше распределение выручки ни разу ни 'нормальное'\n",
    "- непонятно как оценивать объем нашей выборки (большая она или маленькая)"
   ]
  },
  {
   "cell_type": "code",
   "execution_count": 118,
   "metadata": {},
   "outputs": [
    {
     "data": {
      "text/plain": [
       "Text(0.5, 1.0, 'Выручка, Регионы')"
      ]
     },
     "execution_count": 118,
     "metadata": {},
     "output_type": "execute_result"
    },
    {
     "data": {
      "image/png": "[encoded data removed]",
      "text/plain": [
       "<Figure size 432x288 with 1 Axes>"
      ]
     },
     "metadata": {
      "needs_background": "light"
     },
     "output_type": "display_data"
    }
   ],
   "source": [
    "df_good_russia.plot(kind='hist', bins=10)\n",
    "plt.ylabel('Количество в выборке')\n",
    "plt.xlabel('Выручка, руб')\n",
    "plt.title('Выручка, Регионы')"
   ]
  },
  {
   "cell_type": "code",
   "execution_count": 119,
   "metadata": {},
   "outputs": [],
   "source": [
    "# количество итераций метода\n",
    "bootstrap_len = 10000\n",
    "\n",
    "# массив для накопления разницы между выборками\n",
    "mean_difference_tariff = []\n",
    "\n",
    "len_smart = len(df_smart)\n",
    "len_ultra = len(df_ultra)\n",
    "\n",
    "for i in range(bootstrap_len):\n",
    "    # генерация выборки smart\n",
    "    bootstrap_sample_smart = df_smart['rub_total'].sample(n=len_smart, replace=True)\n",
    "    # среднее smart\n",
    "    mean_smart = bootstrap_sample_smart.mean()\n",
    "    # генерация выборки ultra\n",
    "    bootstrap_sample_ultra = df_ultra['rub_total'].sample(n=len_ultra, replace=True)\n",
    "    # среднее ultra\n",
    "    mean_ultra = bootstrap_sample_ultra.mean()\n",
    "    # накопление разности среднего и медианы по moscow и russia\n",
    "    mean_difference_tariff.append(mean_ultra - mean_smart) "
   ]
  },
  {
   "cell_type": "code",
   "execution_count": 120,
   "metadata": {
    "scrolled": true
   },
   "outputs": [
    {
     "data": {
      "text/plain": [
       "Text(0.5, 1.0, 'Разность средних выручек по тарифам (bootstrap), руб')"
      ]
     },
     "execution_count": 120,
     "metadata": {},
     "output_type": "execute_result"
    },
    {
     "data": {
      "image/png": "[encoded data removed]",
      "text/plain": [
       "<Figure size 432x288 with 1 Axes>"
      ]
     },
     "metadata": {
      "needs_background": "light"
     },
     "output_type": "display_data"
    }
   ],
   "source": [
    "pd_series_mean_tariff = pd.Series(mean_difference_tariff)\n",
    "pd_series_mean_tariff.plot(kind='hist', bins=50)\n",
    "plt.ylabel('Количество в выборке')\n",
    "plt.xlabel('Разность средних выручек по тарифам (bootstrap), руб')\n",
    "plt.title('Разность средних выручек по тарифам (bootstrap), руб')"
   ]
  },
  {
   "cell_type": "code",
   "execution_count": 121,
   "metadata": {},
   "outputs": [
    {
     "name": "stdout",
     "output_type": "stream",
     "text": [
      "Разница между средними выручками по тарифам, приблизительно = 883.56 руб\n"
     ]
    }
   ],
   "source": [
    "diff_mean_tariff = pd_series_mean_tariff.mean()\n",
    "print('Разница между средними выручками по тарифам, приблизительно = {:.2f} руб'.format(diff_mean_tariff))"
   ]
  },
  {
   "cell_type": "code",
   "execution_count": 122,
   "metadata": {},
   "outputs": [
    {
     "data": {
      "text/plain": [
       "0.7442220088328607"
      ]
     },
     "execution_count": 122,
     "metadata": {},
     "output_type": "execute_result"
    }
   ],
   "source": [
    "# разница средних деленная на среднюю по ultra\n",
    "diff_mean_tariff / df_smart['rub_total'].mean()"
   ]
  },
  {
   "cell_type": "markdown",
   "metadata": {},
   "source": [
    "**Подтвердился ранее сделвнный вывод по t -критерию  - Средняя выручка пользователей тарифов «Ультра» и «Смарт» действительно различается. Разница между выручками достигает 80% выручки от smart**"
   ]
  },
  {
   "cell_type": "markdown",
   "metadata": {},
   "source": [
    "### Оценка гипотезы №2 при помощи bootstrap технологии."
   ]
  },
  {
   "cell_type": "markdown",
   "metadata": {},
   "source": [
    "Напомним:\n",
    "*Гипотеза 2: Средняя выручка пользователей из Москвы отличается от выручки пользователей из других регионов.*\n",
    "\n",
    "Почему выбрана дополнительно технология bootstrap?\n",
    "\n",
    "Потому что:\n",
    "- критерий сьюдента рекомендовано применять либо к нормальным распределениям, либо к выборкам большого объема\n",
    "- достаточно посмотреть на гистограмму, чтобы понять - наше распределение выручки ни разу ни 'нормальное'\n",
    "- непонятно как оценивать объем нашей выборки (большая она или маленькая)"
   ]
  },
  {
   "cell_type": "code",
   "execution_count": 123,
   "metadata": {},
   "outputs": [],
   "source": [
    "# количество итераций метода\n",
    "bootstrap_len = 10000\n",
    "\n",
    "# массив для накопления разницы между выборками\n",
    "mean_difference = []\n",
    "\n",
    "len_moscow = len(df_moscow)\n",
    "len_russia = len(df_russia)\n",
    "\n",
    "for i in range(bootstrap_len):\n",
    "    # генерация выборки moscow\n",
    "    bootstrap_sample_moscow = df_moscow['rub_total'].sample(n=len_moscow, replace=True)\n",
    "    # среднее moscow\n",
    "    mean_moscow = bootstrap_sample_moscow.mean()\n",
    "    # генерация выборки russia\n",
    "    bootstrap_sample_russia = df_russia['rub_total'].sample(n=len_russia, replace=True)\n",
    "    # среднее russia\n",
    "    mean_russia = bootstrap_sample_russia.mean()\n",
    "    # накопление разности среднего и медианы по moscow и russia\n",
    "    mean_difference.append(mean_moscow - mean_russia) "
   ]
  },
  {
   "cell_type": "code",
   "execution_count": 124,
   "metadata": {},
   "outputs": [
    {
     "data": {
      "text/plain": [
       "Text(0.5, 1.0, 'Разность средних выручек по территориям (bootstrap), руб')"
      ]
     },
     "execution_count": 124,
     "metadata": {},
     "output_type": "execute_result"
    },
    {
     "data": {
      "image/png": "[encoded data removed]",
      "text/plain": [
       "<Figure size 432x288 with 1 Axes>"
      ]
     },
     "metadata": {
      "needs_background": "light"
     },
     "output_type": "display_data"
    }
   ],
   "source": [
    "pd_series_mean = pd.Series(mean_difference)\n",
    "pd_series_mean.plot(kind='hist', bins=50)\n",
    "plt.ylabel('Количество в выборке')\n",
    "plt.xlabel('Разность средних выручек по территориям (bootstrap), руб')\n",
    "plt.title('Разность средних выручек по территориям (bootstrap), руб')"
   ]
  },
  {
   "cell_type": "code",
   "execution_count": 125,
   "metadata": {},
   "outputs": [
    {
     "name": "stdout",
     "output_type": "stream",
     "text": [
      "Разница между средними серий Moscow и Russia, приблизительно = 31.74 руб\n"
     ]
    }
   ],
   "source": [
    "diff_mean = pd_series_mean.mean()\n",
    "print('Разница между средними серий Moscow и Russia, приблизительно = {:.2f} руб'.format(diff_mean))"
   ]
  },
  {
   "cell_type": "code",
   "execution_count": 126,
   "metadata": {},
   "outputs": [
    {
     "name": "stdout",
     "output_type": "stream",
     "text": [
      "0.021392864783954066\n",
      "0.021856220511696514\n"
     ]
    }
   ],
   "source": [
    "# разница средних деленная на среднюю по москве и Регионам\n",
    "print(diff_mean / df_moscow['rub_total'].mean())\n",
    "print(diff_mean / df_russia['rub_total'].mean())"
   ]
  },
  {
   "cell_type": "markdown",
   "metadata": {},
   "source": [
    "**Подтвердился ранее сделвнный вывод по t -критерию  - Cредняя выручка пользователей из Москвы не отличается от выручки пользователей из других регионов.**\n",
    "\n",
    "**Разность средних выручек между Москвой и Регионами составляет приблизительно всего 2% от суммы средней выручки (и Москвы и Регионов).**"
   ]
  },
  {
   "cell_type": "markdown",
   "metadata": {},
   "source": [
    "## Шаг 5. Общий выводы"
   ]
  },
  {
   "cell_type": "markdown",
   "metadata": {},
   "source": [
    "**Выявлена разница между пользователями тарифов smart и ultra**\n",
    "\n",
    "- Тариф smart в два раза превосходит по популярности тариф ultra.\n",
    "- Пользователи тарифа smart нередко платят сверх абонентской платы. И это хорошо для оператора связи. Тем более, что таких пользователей на 100% больше, чем пользователей тарифа ultra\n",
    "- Пользователи тарифа ultra наговаривают на 20% больше пользователей тарифа smart. Бесплатная часть ultra (3000 минут) не вырабатывается пользователями, а бесплатная часть smart (500 минут), может быть превышена 30% пользователей.\n",
    "- Пользователи тарифа ultra используют sms сообщения на 50% больше пользователей тарифа smart. Бесплатныq лимит по  сообщениям на тарифе ultra (1000) - не вырабатывается, а на тарифе smart (50) может быть превышен в 4 раза!\n",
    "- Активно используется интернет трафик. Пользователи тарифа ultra используют интернет траффик на 50% больше пользователей тарифа smart.Бесплатныq лимит по трафику ultra (30720) превышается 15% пользователей, а на тарифе smart лимит (15360) может быть превышен 55% пользователей!\n",
    "\n",
    "Были проверены предложенные статистические гипотезы:\n",
    "- Средняя выручка пользователей тарифов «Ультра» и «Смарт» различается.\n",
    "- Средняя выручка пользователей из Москвы отличается от выручки пользователей из других регионов.\n",
    "\n",
    "Проверка производилась двумя различными метадами (t-тест Стьюдента и bootstrap-технология). \n",
    "\n",
    "Методы дали однообразный результат:\n",
    "\n",
    "- Средняя выручка пользователей тарифов «Ультра» и «Смарт» существенно различаются. \n",
    "- Разница между средними выручками smart и ultra достигает 80% от величины средней выручки smart!\n",
    "- Cредняя выручка пользователей из Москвы не отличается от выручки пользователей из других регионов.\n",
    "- Разность средних выручек между Москвой и Регионами составляет приблизительно всего 2% от суммы самой средней выручки (безотносительно Москва или регионы)\n",
    "\n",
    "<!-- **Общая (валовая) выручка полученная с разных тарифов составляет для  smart 2028970 руб и для ultra - 2503222 руб**. Smart набрал сумму только за счет большего количества пользователей.\n",
    "\n",
    " -->\n",
    " \n",
    " **Общая выручка также различается - smart принес 2646318.00 руб и ultra - 2040000.00 руб.**"
   ]
  },
  {
   "cell_type": "markdown",
   "metadata": {},
   "source": [
    "**Рекоммендации бизнесу:**\n",
    "\n",
    "Обратить внимание на бесплатные лимиты тарифа smart, как особо популярного. Возможно, нужно незначительно увеличить лимиты, чтобы избежать оттока потребителей (никто не хочет переплачивать!). Так, как валовая выручка обеих тарифов не сильно различается и терять раздраженных пользователей smart не хотелось бы.\n",
    "\n",
    "- средняя выручка по клиенту с тарифа ultra составляет 2071 руб, средняя выручка по клиенту с тарифу smart - 1187 руб.\n",
    "\n",
    "Таким образом, желательно провести рекламную кампанию по переводу пользователей smart на тариф ultra!\n",
    "\n",
    "\n",
    "\n",
    "\n"
   ]
  }
 ],
 "metadata": {
  "kernelspec": {
   "display_name": "Python 3",
   "language": "python",
   "name": "python3"
  },
  "language_info": {
   "codemirror_mode": {
    "name": "ipython",
    "version": 3
   },
   "file_extension": ".py",
   "mimetype": "text/x-python",
   "name": "python",
   "nbconvert_exporter": "python",
   "pygments_lexer": "ipython3",
   "version": "3.9.0"
  },
  "toc": {
   "base_numbering": 1,
   "nav_menu": {},
   "number_sections": true,
   "sideBar": true,
   "skip_h1_title": true,
   "title_cell": "Table of Contents",
   "title_sidebar": "Contents",
   "toc_cell": false,
   "toc_position": {},
   "toc_section_display": true,
   "toc_window_display": false
  }
 },
 "nbformat": 4,
 "nbformat_minor": 4
}
