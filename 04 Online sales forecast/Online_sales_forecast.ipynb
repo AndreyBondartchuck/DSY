{
 "cells": [
  {
   "cell_type": "markdown",
   "metadata": {},
   "source": [
    "# Описание проекта\n",
    "\n",
    "Вы работаете в интернет-магазине «Стримчик», который продаёт по всему миру компьютерные игры. Из открытых источников доступны исторические данные о продажах игр, оценки пользователей и экспертов, жанры и платформы (например, Xbox или PlayStation). Вам нужно выявить определяющие успешность игры закономерности. Это позволит сделать ставку на потенциально популярный продукт и спланировать рекламные кампании.\n",
    "Перед вами данные до 2016 года. Представим, что сейчас декабрь 2016 г., и вы планируете кампанию на 2017-й. Нужно отработать принцип работы с данными. Неважно, прогнозируете ли вы продажи на 2017 год по данным 2016-го или же 2027-й — по данным 2026 года.\n",
    "В наборе данных попадается аббревиатура ESRB (Entertainment Software Rating Board) — это ассоциация, определяющая возрастной рейтинг компьютерных игр. ESRB оценивает игровой контент и присваивает ему подходящую возрастную категорию, например, «Для взрослых», «Для детей младшего возраста» или «Для подростков».\n"
   ]
  },
  {
   "cell_type": "markdown",
   "metadata": {},
   "source": [
    "## План (инструкция) по выполнению проекта"
   ]
  },
  {
   "cell_type": "markdown",
   "metadata": {},
   "source": [
    "### Шаг 1. Откройте файл с данными и изучите общую информацию\n",
    "Путь к файлу: /datasets/games.csv. Скачать датасет"
   ]
  },
  {
   "cell_type": "markdown",
   "metadata": {},
   "source": [
    "### Шаг 2. Подготовьте данные\n",
    "- Замените названия столбцов (приведите к нижнему регистру);\n",
    "- Преобразуйте данные в нужные типы. Опишите, в каких столбцах заменили тип данных и почему;\n",
    "- Обработайте пропуски при необходимости:\n",
    "- Объясните, почему заполнили пропуски определённым образом или почему не стали это делать;\n",
    "- Опишите причины, которые могли привести к пропускам;\n",
    "- Обратите внимание на аббревиатуру 'tbd' в столбцах с рейтингом. Отдельно разберите это значение и опишите, как его обработать;\n",
    "- Посчитайте суммарные продажи во всех регионах и запишите их в отдельный столбец."
   ]
  },
  {
   "cell_type": "markdown",
   "metadata": {},
   "source": [
    "### Шаг 3. Проведите исследовательский анализ данных\n",
    "- Посмотрите, сколько игр выпускалось в разные годы. Важны ли данные за все периоды?\n",
    "- Посмотрите, как менялись продажи по платформам. Выберите платформы с наибольшими суммарными продажами и постройте распределение по годам. За какой характерный срок появляются новые и исчезают старые платформы?\n",
    "- Возьмите данные за соответствующий актуальный период. Актуальный период определите самостоятельно в результате исследования предыдущих вопросов. Основной фактор — эти данные помогут построить прогноз на 2017 год.\n",
    "- Не учитывайте в работе данные за предыдущие годы.\n",
    "- Какие платформы лидируют по продажам, растут или падают? Выберите несколько потенциально прибыльных платформ.\n",
    "- Постройте график «ящик с усами» по глобальным продажам игр в разбивке по платформам. Опишите результат.\n",
    "- Посмотрите, как влияют на продажи внутри одной популярной платформы отзывы пользователей и критиков. Постройте диаграмму рассеяния и посчитайте корреляцию между отзывами и продажами. Сформулируйте выводы.\n",
    "- Соотнесите выводы с продажами игр на других платформах.\n",
    "- Посмотрите на общее распределение игр по жанрам. Что можно сказать о самых прибыльных жанрах? Выделяются ли жанры с высокими и низкими продажами?\n",
    "\n"
   ]
  },
  {
   "cell_type": "markdown",
   "metadata": {},
   "source": [
    "### Шаг 4. Составьте портрет пользователя каждого региона\n",
    "\n",
    "Определите для пользователя каждого региона (NA, EU, JP):\n",
    "\n",
    "- Самые популярные платформы (топ-5). Опишите различия в долях продаж.\n",
    "- Самые популярные жанры (топ-5). Поясните разницу.\n",
    "- Влияет ли рейтинг ESRB на продажи в отдельном регионе?\n",
    "\n"
   ]
  },
  {
   "cell_type": "markdown",
   "metadata": {},
   "source": [
    "### Шаг 5. Проверьте гипотезы\n",
    "- Средние пользовательские рейтинги платформ Xbox One и PC одинаковые;\n",
    "- Средние пользовательские рейтинги жанров Action (англ. «действие», экшен-игры) и Sports (англ. «спортивные соревнования») разные.\n",
    "- Задайте самостоятельно пороговое значение alpha.\n",
    "- Поясните:\n",
    " Как вы сформулировали нулевую и альтернативную гипотезы;\n",
    " Какой критерий применили для проверки гипотез и почему.\n",
    "\n"
   ]
  },
  {
   "cell_type": "markdown",
   "metadata": {},
   "source": [
    "### Шаг 6. Напишите общий вывод\n",
    "Оформление: Выполните задание в Jupyter Notebook. Заполните программный код в ячейках типа code, текстовые пояснения — в ячейках типа markdown. Примените форматирование и заголовки.\n",
    "\n",
    "\n"
   ]
  },
  {
   "cell_type": "code",
   "execution_count": null,
   "metadata": {},
   "outputs": [],
   "source": []
  },
  {
   "cell_type": "markdown",
   "metadata": {},
   "source": [
    "### Этап 1. Откроем файл с данными и изучим общую информацию"
   ]
  },
  {
   "cell_type": "markdown",
   "metadata": {},
   "source": [
    "#### Описание данных"
   ]
  },
  {
   "cell_type": "markdown",
   "metadata": {},
   "source": [
    "- Name — название игры\n",
    "- Platform — платформа\n",
    "- Year_of_Release — год выпуска\n",
    "- Genre — жанр игры\n",
    "- NA_sales — продажи в Северной Америке (миллионы проданных копий)\n",
    "- EU_sales — продажи в Европе (миллионы проданных копий)\n",
    "- JP_sales — продажи в Японии (миллионы проданных копий)\n",
    "- Other_sales — продажи в других странах (миллионы проданных копий)\n",
    "- Critic_Score — оценка критиков (максимум 100)\n",
    "- User_Score — оценка пользователей (максимум 10)\n",
    "- Rating — рейтинг от организации ESRB (англ. Entertainment Software Rating Board). Эта ассоциация определяет рейтинг - компьютерных игр и присваивает им подходящую возрастную категорию."
   ]
  },
  {
   "cell_type": "code",
   "execution_count": 1,
   "metadata": {},
   "outputs": [],
   "source": [
    "# подключаем необходимые библиотеки\n",
    "import pandas as pd\n",
    "import numpy as np\n",
    "import matplotlib.pyplot as plt\n",
    "\n",
    "from datetime import datetime\n",
    "from scipy import stats as st\n",
    "import seaborn as sns"
   ]
  },
  {
   "cell_type": "code",
   "execution_count": 2,
   "metadata": {},
   "outputs": [],
   "source": [
    "# !pip3 install tqdm\n",
    "# !pip3 install ipywidgets\n",
    "from tqdm.auto import tqdm"
   ]
  },
  {
   "cell_type": "code",
   "execution_count": 3,
   "metadata": {},
   "outputs": [],
   "source": [
    "# читаем данные    \n",
    "local = False\n",
    "if local:\n",
    "    df = pd.read_csv('./datasets/games.csv')\n",
    "else:\n",
    "    url = \"https://drive.google.com/file/d/1rSAMPUP2T2Z21IOaClmgMd3jxPermdYd/view?usp=sharing\"\n",
    "    path = 'https://drive.google.com/uc?export=download&id='+ url.split('/')[-2]\n",
    "    df = pd.read_csv(path)"
   ]
  },
  {
   "cell_type": "code",
   "execution_count": 4,
   "metadata": {},
   "outputs": [],
   "source": [
    "df.columns = df.columns.str.lower()"
   ]
  },
  {
   "cell_type": "code",
   "execution_count": 5,
   "metadata": {},
   "outputs": [
    {
     "data": {
      "text/html": [
       "<div>\n",
       "<style scoped>\n",
       "    .dataframe tbody tr th:only-of-type {\n",
       "        vertical-align: middle;\n",
       "    }\n",
       "\n",
       "    .dataframe tbody tr th {\n",
       "        vertical-align: top;\n",
       "    }\n",
       "\n",
       "    .dataframe thead th {\n",
       "        text-align: right;\n",
       "    }\n",
       "</style>\n",
       "<table border=\"1\" class=\"dataframe\">\n",
       "  <thead>\n",
       "    <tr style=\"text-align: right;\">\n",
       "      <th></th>\n",
       "      <th>name</th>\n",
       "      <th>platform</th>\n",
       "      <th>year_of_release</th>\n",
       "      <th>genre</th>\n",
       "      <th>na_sales</th>\n",
       "      <th>eu_sales</th>\n",
       "      <th>jp_sales</th>\n",
       "      <th>other_sales</th>\n",
       "      <th>critic_score</th>\n",
       "      <th>user_score</th>\n",
       "      <th>rating</th>\n",
       "    </tr>\n",
       "  </thead>\n",
       "  <tbody>\n",
       "    <tr>\n",
       "      <th>0</th>\n",
       "      <td>Wii Sports</td>\n",
       "      <td>Wii</td>\n",
       "      <td>2006.0</td>\n",
       "      <td>Sports</td>\n",
       "      <td>41.36</td>\n",
       "      <td>28.96</td>\n",
       "      <td>3.77</td>\n",
       "      <td>8.45</td>\n",
       "      <td>76.0</td>\n",
       "      <td>8</td>\n",
       "      <td>E</td>\n",
       "    </tr>\n",
       "    <tr>\n",
       "      <th>1</th>\n",
       "      <td>Super Mario Bros.</td>\n",
       "      <td>NES</td>\n",
       "      <td>1985.0</td>\n",
       "      <td>Platform</td>\n",
       "      <td>29.08</td>\n",
       "      <td>3.58</td>\n",
       "      <td>6.81</td>\n",
       "      <td>0.77</td>\n",
       "      <td>NaN</td>\n",
       "      <td>NaN</td>\n",
       "      <td>NaN</td>\n",
       "    </tr>\n",
       "    <tr>\n",
       "      <th>2</th>\n",
       "      <td>Mario Kart Wii</td>\n",
       "      <td>Wii</td>\n",
       "      <td>2008.0</td>\n",
       "      <td>Racing</td>\n",
       "      <td>15.68</td>\n",
       "      <td>12.76</td>\n",
       "      <td>3.79</td>\n",
       "      <td>3.29</td>\n",
       "      <td>82.0</td>\n",
       "      <td>8.3</td>\n",
       "      <td>E</td>\n",
       "    </tr>\n",
       "    <tr>\n",
       "      <th>3</th>\n",
       "      <td>Wii Sports Resort</td>\n",
       "      <td>Wii</td>\n",
       "      <td>2009.0</td>\n",
       "      <td>Sports</td>\n",
       "      <td>15.61</td>\n",
       "      <td>10.93</td>\n",
       "      <td>3.28</td>\n",
       "      <td>2.95</td>\n",
       "      <td>80.0</td>\n",
       "      <td>8</td>\n",
       "      <td>E</td>\n",
       "    </tr>\n",
       "    <tr>\n",
       "      <th>4</th>\n",
       "      <td>Pokemon Red/Pokemon Blue</td>\n",
       "      <td>GB</td>\n",
       "      <td>1996.0</td>\n",
       "      <td>Role-Playing</td>\n",
       "      <td>11.27</td>\n",
       "      <td>8.89</td>\n",
       "      <td>10.22</td>\n",
       "      <td>1.00</td>\n",
       "      <td>NaN</td>\n",
       "      <td>NaN</td>\n",
       "      <td>NaN</td>\n",
       "    </tr>\n",
       "  </tbody>\n",
       "</table>\n",
       "</div>"
      ],
      "text/plain": [
       "                       name platform  year_of_release         genre  na_sales  \\\n",
       "0                Wii Sports      Wii           2006.0        Sports     41.36   \n",
       "1         Super Mario Bros.      NES           1985.0      Platform     29.08   \n",
       "2            Mario Kart Wii      Wii           2008.0        Racing     15.68   \n",
       "3         Wii Sports Resort      Wii           2009.0        Sports     15.61   \n",
       "4  Pokemon Red/Pokemon Blue       GB           1996.0  Role-Playing     11.27   \n",
       "\n",
       "   eu_sales  jp_sales  other_sales  critic_score user_score rating  \n",
       "0     28.96      3.77         8.45          76.0          8      E  \n",
       "1      3.58      6.81         0.77           NaN        NaN    NaN  \n",
       "2     12.76      3.79         3.29          82.0        8.3      E  \n",
       "3     10.93      3.28         2.95          80.0          8      E  \n",
       "4      8.89     10.22         1.00           NaN        NaN    NaN  "
      ]
     },
     "execution_count": 5,
     "metadata": {},
     "output_type": "execute_result"
    }
   ],
   "source": [
    "# смотрим\n",
    "df.head(5)"
   ]
  },
  {
   "cell_type": "code",
   "execution_count": 167,
   "metadata": {},
   "outputs": [
    {
     "data": {
      "text/html": [
       "<div>\n",
       "<style scoped>\n",
       "    .dataframe tbody tr th:only-of-type {\n",
       "        vertical-align: middle;\n",
       "    }\n",
       "\n",
       "    .dataframe tbody tr th {\n",
       "        vertical-align: top;\n",
       "    }\n",
       "\n",
       "    .dataframe thead th {\n",
       "        text-align: right;\n",
       "    }\n",
       "</style>\n",
       "<table border=\"1\" class=\"dataframe\">\n",
       "  <thead>\n",
       "    <tr style=\"text-align: right;\">\n",
       "      <th></th>\n",
       "      <th>name</th>\n",
       "      <th>platform</th>\n",
       "      <th>year_of_release</th>\n",
       "      <th>genre</th>\n",
       "      <th>na_sales</th>\n",
       "      <th>eu_sales</th>\n",
       "      <th>jp_sales</th>\n",
       "      <th>other_sales</th>\n",
       "      <th>critic_score</th>\n",
       "      <th>user_score</th>\n",
       "      <th>rating</th>\n",
       "    </tr>\n",
       "  </thead>\n",
       "  <tbody>\n",
       "    <tr>\n",
       "      <td>14230</td>\n",
       "      <td>Rakushou! Pachi-Slot Sengen 5: Rio Paradise</td>\n",
       "      <td>PS2</td>\n",
       "      <td>2007.0</td>\n",
       "      <td>Misc</td>\n",
       "      <td>0.00</td>\n",
       "      <td>0.00</td>\n",
       "      <td>0.03</td>\n",
       "      <td>0.00</td>\n",
       "      <td>NaN</td>\n",
       "      <td>NaN</td>\n",
       "      <td>NaN</td>\n",
       "    </tr>\n",
       "    <tr>\n",
       "      <td>14043</td>\n",
       "      <td>Nobunaga's Ambition II</td>\n",
       "      <td>3DS</td>\n",
       "      <td>2015.0</td>\n",
       "      <td>Strategy</td>\n",
       "      <td>0.00</td>\n",
       "      <td>0.00</td>\n",
       "      <td>0.04</td>\n",
       "      <td>0.00</td>\n",
       "      <td>NaN</td>\n",
       "      <td>NaN</td>\n",
       "      <td>NaN</td>\n",
       "    </tr>\n",
       "    <tr>\n",
       "      <td>3158</td>\n",
       "      <td>Up</td>\n",
       "      <td>DS</td>\n",
       "      <td>2009.0</td>\n",
       "      <td>Action</td>\n",
       "      <td>0.30</td>\n",
       "      <td>0.27</td>\n",
       "      <td>0.00</td>\n",
       "      <td>0.07</td>\n",
       "      <td>NaN</td>\n",
       "      <td>tbd</td>\n",
       "      <td>E</td>\n",
       "    </tr>\n",
       "    <tr>\n",
       "      <td>22</td>\n",
       "      <td>Super Mario Bros. 3</td>\n",
       "      <td>NES</td>\n",
       "      <td>1988.0</td>\n",
       "      <td>Platform</td>\n",
       "      <td>9.54</td>\n",
       "      <td>3.44</td>\n",
       "      <td>3.84</td>\n",
       "      <td>0.46</td>\n",
       "      <td>NaN</td>\n",
       "      <td>NaN</td>\n",
       "      <td>NaN</td>\n",
       "    </tr>\n",
       "    <tr>\n",
       "      <td>110</td>\n",
       "      <td>Mario Kart 8</td>\n",
       "      <td>WiiU</td>\n",
       "      <td>2014.0</td>\n",
       "      <td>Racing</td>\n",
       "      <td>3.15</td>\n",
       "      <td>2.15</td>\n",
       "      <td>1.28</td>\n",
       "      <td>0.51</td>\n",
       "      <td>88.0</td>\n",
       "      <td>9.1</td>\n",
       "      <td>E</td>\n",
       "    </tr>\n",
       "  </tbody>\n",
       "</table>\n",
       "</div>"
      ],
      "text/plain": [
       "                                              name platform  year_of_release  \\\n",
       "14230  Rakushou! Pachi-Slot Sengen 5: Rio Paradise      PS2           2007.0   \n",
       "14043                       Nobunaga's Ambition II      3DS           2015.0   \n",
       "3158                                            Up       DS           2009.0   \n",
       "22                             Super Mario Bros. 3      NES           1988.0   \n",
       "110                                   Mario Kart 8     WiiU           2014.0   \n",
       "\n",
       "          genre  na_sales  eu_sales  jp_sales  other_sales  critic_score  \\\n",
       "14230      Misc      0.00      0.00      0.03         0.00           NaN   \n",
       "14043  Strategy      0.00      0.00      0.04         0.00           NaN   \n",
       "3158     Action      0.30      0.27      0.00         0.07           NaN   \n",
       "22     Platform      9.54      3.44      3.84         0.46           NaN   \n",
       "110      Racing      3.15      2.15      1.28         0.51          88.0   \n",
       "\n",
       "      user_score rating  \n",
       "14230        NaN    NaN  \n",
       "14043        NaN    NaN  \n",
       "3158         tbd      E  \n",
       "22           NaN    NaN  \n",
       "110          9.1      E  "
      ]
     },
     "execution_count": 167,
     "metadata": {},
     "output_type": "execute_result"
    }
   ],
   "source": [
    "# случайная выборка - выполняем ячейку несколько раз\n",
    "df.sample(5,random_state=1)"
   ]
  },
  {
   "cell_type": "code",
   "execution_count": 168,
   "metadata": {
    "scrolled": false
   },
   "outputs": [
    {
     "name": "stdout",
     "output_type": "stream",
     "text": [
      "<class 'pandas.core.frame.DataFrame'>\n",
      "RangeIndex: 16715 entries, 0 to 16714\n",
      "Data columns (total 11 columns):\n",
      "name               16713 non-null object\n",
      "platform           16715 non-null object\n",
      "year_of_release    16446 non-null float64\n",
      "genre              16713 non-null object\n",
      "na_sales           16715 non-null float64\n",
      "eu_sales           16715 non-null float64\n",
      "jp_sales           16715 non-null float64\n",
      "other_sales        16715 non-null float64\n",
      "critic_score       8137 non-null float64\n",
      "user_score         10014 non-null object\n",
      "rating             9949 non-null object\n",
      "dtypes: float64(6), object(5)\n",
      "memory usage: 1.4+ MB\n"
     ]
    }
   ],
   "source": [
    "# общая информация\n",
    "df.info()"
   ]
  },
  {
   "cell_type": "markdown",
   "metadata": {},
   "source": [
    "Видно, что имеются пропуски в датасет. Оценим количество пропусков."
   ]
  },
  {
   "cell_type": "code",
   "execution_count": 169,
   "metadata": {},
   "outputs": [],
   "source": [
    "# оценим количество NaN в разных колонках\n",
    "def print_сolumns_with_nan(dataframe):\n",
    "    series_nan =  dataframe.isnull().sum().sort_values()\n",
    "    have_nan = False\n",
    "    for column in series_nan.index:\n",
    "        if series_nan[column]==0:\n",
    "            continue\n",
    "        try:    \n",
    "            print('{:<20}| NaN = {:<7}| {:^10.1%}'.format(column,series_nan[column],series_nan[column]/dataframe.shape[0]))\n",
    "            have_nan = True\n",
    "        except:\n",
    "            print(\"деление на 0\") \n",
    "    if not have_nan:\n",
    "        print('Нет данных с NaN!')\n"
   ]
  },
  {
   "cell_type": "code",
   "execution_count": 170,
   "metadata": {},
   "outputs": [
    {
     "name": "stdout",
     "output_type": "stream",
     "text": [
      "name                | NaN = 2      |    0.0%   \n",
      "genre               | NaN = 2      |    0.0%   \n",
      "year_of_release     | NaN = 269    |    1.6%   \n",
      "user_score          | NaN = 6701   |   40.1%   \n",
      "rating              | NaN = 6766   |   40.5%   \n",
      "critic_score        | NaN = 8578   |   51.3%   \n"
     ]
    }
   ],
   "source": [
    "# печатаем колонки с пропусками\n",
    "print_сolumns_with_nan(df)"
   ]
  },
  {
   "cell_type": "markdown",
   "metadata": {},
   "source": [
    "Строки с отсутсвующим назаванием игры и жанром заменим на 'noname' "
   ]
  },
  {
   "cell_type": "code",
   "execution_count": 171,
   "metadata": {},
   "outputs": [],
   "source": [
    "df['name'] = df['name'].fillna('noname')\n",
    "df['genre'] = df['genre'].fillna('genre')"
   ]
  },
  {
   "cell_type": "markdown",
   "metadata": {},
   "source": [
    "Оценим общее количество созданных игр."
   ]
  },
  {
   "cell_type": "code",
   "execution_count": 172,
   "metadata": {},
   "outputs": [
    {
     "name": "stdout",
     "output_type": "stream",
     "text": [
      "Всего различных игр = 11560\n",
      "Одинаковые игры составляют 30.84% от всех имеющихся.\n"
     ]
    }
   ],
   "source": [
    "print('Всего различных игр = {}'.format(len(df['name'].unique())))\n",
    "print('Одинаковые игры составляют {:.2%} от всех имеющихся.'.format(1 - len(df['name'].unique())/df.shape[0]))\n",
    "#df.shape[0]"
   ]
  },
  {
   "cell_type": "markdown",
   "metadata": {},
   "source": [
    "Приведем название игр к нижнему регистру. Возможно некорректное написание"
   ]
  },
  {
   "cell_type": "code",
   "execution_count": 173,
   "metadata": {},
   "outputs": [],
   "source": [
    "df['name'] = df.apply(lambda row: row['name'].lower(),axis=1)"
   ]
  },
  {
   "cell_type": "code",
   "execution_count": 174,
   "metadata": {},
   "outputs": [
    {
     "data": {
      "text/plain": [
       "11560"
      ]
     },
     "execution_count": 174,
     "metadata": {},
     "output_type": "execute_result"
    }
   ],
   "source": [
    "# смотрим количество уникальных значений по названиям игр\n",
    "len(df['name'].unique())"
   ]
  },
  {
   "cell_type": "markdown",
   "metadata": {},
   "source": [
    "Так, как размер списка уникальных значений с названиями игр не изменился - то можно сделать вывод, что одни и те же игры выпускаются на различных платформах."
   ]
  },
  {
   "cell_type": "code",
   "execution_count": 175,
   "metadata": {},
   "outputs": [
    {
     "data": {
      "text/plain": [
       "array(['Wii', 'NES', 'GB', 'DS', 'X360', 'PS3', 'PS2', 'SNES', 'GBA',\n",
       "       'PS4', '3DS', 'N64', 'PS', 'XB', 'PC', '2600', 'PSP', 'XOne',\n",
       "       'WiiU', 'GC', 'GEN', 'DC', 'PSV', 'SAT', 'SCD', 'WS', 'NG', 'TG16',\n",
       "       '3DO', 'GG', 'PCFX'], dtype=object)"
      ]
     },
     "execution_count": 175,
     "metadata": {},
     "output_type": "execute_result"
    }
   ],
   "source": [
    "# оценим корректность написания названий платформ\n",
    "df['platform'].unique()"
   ]
  },
  {
   "cell_type": "markdown",
   "metadata": {},
   "source": [
    "*С написанием названий платформ всё в порядке.*"
   ]
  },
  {
   "cell_type": "code",
   "execution_count": 176,
   "metadata": {},
   "outputs": [
    {
     "data": {
      "text/plain": [
       "array(['Sports', 'Platform', 'Racing', 'Role-Playing', 'Puzzle', 'Misc',\n",
       "       'Shooter', 'Simulation', 'Action', 'Fighting', 'Adventure',\n",
       "       'Strategy', 'genre'], dtype=object)"
      ]
     },
     "execution_count": 176,
     "metadata": {},
     "output_type": "execute_result"
    }
   ],
   "source": [
    "# оценим корректность написания названий жанров\n",
    "df['genre'].unique()"
   ]
  },
  {
   "cell_type": "code",
   "execution_count": 177,
   "metadata": {},
   "outputs": [
    {
     "data": {
      "text/plain": [
       "13"
      ]
     },
     "execution_count": 177,
     "metadata": {},
     "output_type": "execute_result"
    }
   ],
   "source": [
    "len(df['genre'].unique())"
   ]
  },
  {
   "cell_type": "markdown",
   "metadata": {},
   "source": [
    "*С написанием названий жанров всё в порядке. Самих жанров, как таковых, немного = 13*"
   ]
  },
  {
   "cell_type": "markdown",
   "metadata": {},
   "source": [
    "Разберемся с годом выпуска релиза. Пропуски заполним значением 1900. И преобразуем к типу int."
   ]
  },
  {
   "cell_type": "code",
   "execution_count": 178,
   "metadata": {},
   "outputs": [],
   "source": [
    "df['year_of_release'] = df['year_of_release'].fillna(1900)\n",
    "df['year_of_release'] = df['year_of_release'].astype('int')"
   ]
  },
  {
   "cell_type": "markdown",
   "metadata": {},
   "source": [
    "Добавим колонку с типом дата. Вдруг понадобиться."
   ]
  },
  {
   "cell_type": "code",
   "execution_count": 179,
   "metadata": {},
   "outputs": [
    {
     "data": {
      "text/html": [
       "<div>\n",
       "<style scoped>\n",
       "    .dataframe tbody tr th:only-of-type {\n",
       "        vertical-align: middle;\n",
       "    }\n",
       "\n",
       "    .dataframe tbody tr th {\n",
       "        vertical-align: top;\n",
       "    }\n",
       "\n",
       "    .dataframe thead th {\n",
       "        text-align: right;\n",
       "    }\n",
       "</style>\n",
       "<table border=\"1\" class=\"dataframe\">\n",
       "  <thead>\n",
       "    <tr style=\"text-align: right;\">\n",
       "      <th></th>\n",
       "      <th>name</th>\n",
       "      <th>platform</th>\n",
       "      <th>year_of_release</th>\n",
       "      <th>genre</th>\n",
       "      <th>na_sales</th>\n",
       "      <th>eu_sales</th>\n",
       "      <th>jp_sales</th>\n",
       "      <th>other_sales</th>\n",
       "      <th>critic_score</th>\n",
       "      <th>user_score</th>\n",
       "      <th>rating</th>\n",
       "      <th>date_of_release</th>\n",
       "    </tr>\n",
       "  </thead>\n",
       "  <tbody>\n",
       "    <tr>\n",
       "      <td>0</td>\n",
       "      <td>wii sports</td>\n",
       "      <td>Wii</td>\n",
       "      <td>2006</td>\n",
       "      <td>Sports</td>\n",
       "      <td>41.36</td>\n",
       "      <td>28.96</td>\n",
       "      <td>3.77</td>\n",
       "      <td>8.45</td>\n",
       "      <td>76.0</td>\n",
       "      <td>8</td>\n",
       "      <td>E</td>\n",
       "      <td>2006-01-01</td>\n",
       "    </tr>\n",
       "    <tr>\n",
       "      <td>1</td>\n",
       "      <td>super mario bros.</td>\n",
       "      <td>NES</td>\n",
       "      <td>1985</td>\n",
       "      <td>Platform</td>\n",
       "      <td>29.08</td>\n",
       "      <td>3.58</td>\n",
       "      <td>6.81</td>\n",
       "      <td>0.77</td>\n",
       "      <td>NaN</td>\n",
       "      <td>NaN</td>\n",
       "      <td>NaN</td>\n",
       "      <td>1985-01-01</td>\n",
       "    </tr>\n",
       "    <tr>\n",
       "      <td>2</td>\n",
       "      <td>mario kart wii</td>\n",
       "      <td>Wii</td>\n",
       "      <td>2008</td>\n",
       "      <td>Racing</td>\n",
       "      <td>15.68</td>\n",
       "      <td>12.76</td>\n",
       "      <td>3.79</td>\n",
       "      <td>3.29</td>\n",
       "      <td>82.0</td>\n",
       "      <td>8.3</td>\n",
       "      <td>E</td>\n",
       "      <td>2008-01-01</td>\n",
       "    </tr>\n",
       "    <tr>\n",
       "      <td>3</td>\n",
       "      <td>wii sports resort</td>\n",
       "      <td>Wii</td>\n",
       "      <td>2009</td>\n",
       "      <td>Sports</td>\n",
       "      <td>15.61</td>\n",
       "      <td>10.93</td>\n",
       "      <td>3.28</td>\n",
       "      <td>2.95</td>\n",
       "      <td>80.0</td>\n",
       "      <td>8</td>\n",
       "      <td>E</td>\n",
       "      <td>2009-01-01</td>\n",
       "    </tr>\n",
       "    <tr>\n",
       "      <td>4</td>\n",
       "      <td>pokemon red/pokemon blue</td>\n",
       "      <td>GB</td>\n",
       "      <td>1996</td>\n",
       "      <td>Role-Playing</td>\n",
       "      <td>11.27</td>\n",
       "      <td>8.89</td>\n",
       "      <td>10.22</td>\n",
       "      <td>1.00</td>\n",
       "      <td>NaN</td>\n",
       "      <td>NaN</td>\n",
       "      <td>NaN</td>\n",
       "      <td>1996-01-01</td>\n",
       "    </tr>\n",
       "  </tbody>\n",
       "</table>\n",
       "</div>"
      ],
      "text/plain": [
       "                       name platform  year_of_release         genre  na_sales  \\\n",
       "0                wii sports      Wii             2006        Sports     41.36   \n",
       "1         super mario bros.      NES             1985      Platform     29.08   \n",
       "2            mario kart wii      Wii             2008        Racing     15.68   \n",
       "3         wii sports resort      Wii             2009        Sports     15.61   \n",
       "4  pokemon red/pokemon blue       GB             1996  Role-Playing     11.27   \n",
       "\n",
       "   eu_sales  jp_sales  other_sales  critic_score user_score rating  \\\n",
       "0     28.96      3.77         8.45          76.0          8      E   \n",
       "1      3.58      6.81         0.77           NaN        NaN    NaN   \n",
       "2     12.76      3.79         3.29          82.0        8.3      E   \n",
       "3     10.93      3.28         2.95          80.0          8      E   \n",
       "4      8.89     10.22         1.00           NaN        NaN    NaN   \n",
       "\n",
       "  date_of_release  \n",
       "0      2006-01-01  \n",
       "1      1985-01-01  \n",
       "2      2008-01-01  \n",
       "3      2009-01-01  \n",
       "4      1996-01-01  "
      ]
     },
     "execution_count": 179,
     "metadata": {},
     "output_type": "execute_result"
    }
   ],
   "source": [
    "df['date_of_release'] = df.apply(lambda raw: str(raw['year_of_release'])+'-01-01', axis=1)\n",
    "df['date_of_release'] = pd.to_datetime(df['date_of_release'], format='%Y-%m-%d') #.dt.year\n",
    "df.head(5)"
   ]
  },
  {
   "cell_type": "markdown",
   "metadata": {},
   "source": [
    "Рассмотрим колонку рейтинга 'user_score'"
   ]
  },
  {
   "cell_type": "code",
   "execution_count": 180,
   "metadata": {},
   "outputs": [
    {
     "data": {
      "text/plain": [
       "array(['8', nan, '8.3', '8.5', '6.6', '8.4', '8.6', '7.7', '6.3', '7.4',\n",
       "       '8.2', '9', '7.9', '8.1', '8.7', '7.1', '3.4', '5.3', '4.8', '3.2',\n",
       "       '8.9', '6.4', '7.8', '7.5', '2.6', '7.2', '9.2', '7', '7.3', '4.3',\n",
       "       '7.6', '5.7', '5', '9.1', '6.5', 'tbd', '8.8', '6.9', '9.4', '6.8',\n",
       "       '6.1', '6.7', '5.4', '4', '4.9', '4.5', '9.3', '6.2', '4.2', '6',\n",
       "       '3.7', '4.1', '5.8', '5.6', '5.5', '4.4', '4.6', '5.9', '3.9',\n",
       "       '3.1', '2.9', '5.2', '3.3', '4.7', '5.1', '3.5', '2.5', '1.9', '3',\n",
       "       '2.7', '2.2', '2', '9.5', '2.1', '3.6', '2.8', '1.8', '3.8', '0',\n",
       "       '1.6', '9.6', '2.4', '1.7', '1.1', '0.3', '1.5', '0.7', '1.2',\n",
       "       '2.3', '0.5', '1.3', '0.2', '0.6', '1.4', '0.9', '1', '9.7'],\n",
       "      dtype=object)"
      ]
     },
     "execution_count": 180,
     "metadata": {},
     "output_type": "execute_result"
    }
   ],
   "source": [
    "df['user_score'].unique()"
   ]
  },
  {
   "cell_type": "markdown",
   "metadata": {},
   "source": [
    "Так как мы не знаем причину отсутствия рейтинга, заменим nan на необычное значение -1."
   ]
  },
  {
   "cell_type": "code",
   "execution_count": 181,
   "metadata": {},
   "outputs": [],
   "source": [
    "df['user_score'] = df['user_score'].fillna(-1)"
   ]
  },
  {
   "cell_type": "markdown",
   "metadata": {},
   "source": [
    "Посмотрим на какой-то странный 'tbd'. Странный он - потому, что рейтинг похоже оценивается по шкале от 0 до 10."
   ]
  },
  {
   "cell_type": "code",
   "execution_count": 182,
   "metadata": {},
   "outputs": [],
   "source": [
    "tbd = 'tbd'\n",
    "df_tbd = df.query('user_score == @tbd')"
   ]
  },
  {
   "cell_type": "code",
   "execution_count": 183,
   "metadata": {
    "scrolled": true
   },
   "outputs": [
    {
     "data": {
      "text/html": [
       "<div>\n",
       "<style scoped>\n",
       "    .dataframe tbody tr th:only-of-type {\n",
       "        vertical-align: middle;\n",
       "    }\n",
       "\n",
       "    .dataframe tbody tr th {\n",
       "        vertical-align: top;\n",
       "    }\n",
       "\n",
       "    .dataframe thead th {\n",
       "        text-align: right;\n",
       "    }\n",
       "</style>\n",
       "<table border=\"1\" class=\"dataframe\">\n",
       "  <thead>\n",
       "    <tr style=\"text-align: right;\">\n",
       "      <th></th>\n",
       "      <th>name</th>\n",
       "      <th>platform</th>\n",
       "      <th>year_of_release</th>\n",
       "      <th>genre</th>\n",
       "      <th>na_sales</th>\n",
       "      <th>eu_sales</th>\n",
       "      <th>jp_sales</th>\n",
       "      <th>other_sales</th>\n",
       "      <th>critic_score</th>\n",
       "      <th>user_score</th>\n",
       "      <th>rating</th>\n",
       "      <th>date_of_release</th>\n",
       "    </tr>\n",
       "  </thead>\n",
       "  <tbody>\n",
       "    <tr>\n",
       "      <td>119</td>\n",
       "      <td>zumba fitness</td>\n",
       "      <td>Wii</td>\n",
       "      <td>2010</td>\n",
       "      <td>Sports</td>\n",
       "      <td>3.45</td>\n",
       "      <td>2.59</td>\n",
       "      <td>0.00</td>\n",
       "      <td>0.66</td>\n",
       "      <td>NaN</td>\n",
       "      <td>tbd</td>\n",
       "      <td>E</td>\n",
       "      <td>2010-01-01</td>\n",
       "    </tr>\n",
       "    <tr>\n",
       "      <td>301</td>\n",
       "      <td>namco museum: 50th anniversary</td>\n",
       "      <td>PS2</td>\n",
       "      <td>2005</td>\n",
       "      <td>Misc</td>\n",
       "      <td>2.08</td>\n",
       "      <td>1.35</td>\n",
       "      <td>0.00</td>\n",
       "      <td>0.54</td>\n",
       "      <td>61.0</td>\n",
       "      <td>tbd</td>\n",
       "      <td>E10+</td>\n",
       "      <td>2005-01-01</td>\n",
       "    </tr>\n",
       "    <tr>\n",
       "      <td>520</td>\n",
       "      <td>zumba fitness 2</td>\n",
       "      <td>Wii</td>\n",
       "      <td>2011</td>\n",
       "      <td>Sports</td>\n",
       "      <td>1.51</td>\n",
       "      <td>1.03</td>\n",
       "      <td>0.00</td>\n",
       "      <td>0.27</td>\n",
       "      <td>NaN</td>\n",
       "      <td>tbd</td>\n",
       "      <td>T</td>\n",
       "      <td>2011-01-01</td>\n",
       "    </tr>\n",
       "    <tr>\n",
       "      <td>645</td>\n",
       "      <td>udraw studio</td>\n",
       "      <td>Wii</td>\n",
       "      <td>2010</td>\n",
       "      <td>Misc</td>\n",
       "      <td>1.65</td>\n",
       "      <td>0.57</td>\n",
       "      <td>0.00</td>\n",
       "      <td>0.20</td>\n",
       "      <td>71.0</td>\n",
       "      <td>tbd</td>\n",
       "      <td>E</td>\n",
       "      <td>2010-01-01</td>\n",
       "    </tr>\n",
       "    <tr>\n",
       "      <td>657</td>\n",
       "      <td>frogger's adventures: temple of the frog</td>\n",
       "      <td>GBA</td>\n",
       "      <td>1900</td>\n",
       "      <td>Adventure</td>\n",
       "      <td>2.15</td>\n",
       "      <td>0.18</td>\n",
       "      <td>0.00</td>\n",
       "      <td>0.07</td>\n",
       "      <td>73.0</td>\n",
       "      <td>tbd</td>\n",
       "      <td>E</td>\n",
       "      <td>1900-01-01</td>\n",
       "    </tr>\n",
       "    <tr>\n",
       "      <td>718</td>\n",
       "      <td>just dance kids</td>\n",
       "      <td>Wii</td>\n",
       "      <td>2010</td>\n",
       "      <td>Misc</td>\n",
       "      <td>1.52</td>\n",
       "      <td>0.54</td>\n",
       "      <td>0.00</td>\n",
       "      <td>0.18</td>\n",
       "      <td>NaN</td>\n",
       "      <td>tbd</td>\n",
       "      <td>E</td>\n",
       "      <td>2010-01-01</td>\n",
       "    </tr>\n",
       "    <tr>\n",
       "      <td>726</td>\n",
       "      <td>dance dance revolution x2</td>\n",
       "      <td>PS2</td>\n",
       "      <td>2009</td>\n",
       "      <td>Simulation</td>\n",
       "      <td>1.09</td>\n",
       "      <td>0.85</td>\n",
       "      <td>0.00</td>\n",
       "      <td>0.28</td>\n",
       "      <td>NaN</td>\n",
       "      <td>tbd</td>\n",
       "      <td>E10+</td>\n",
       "      <td>2009-01-01</td>\n",
       "    </tr>\n",
       "    <tr>\n",
       "      <td>821</td>\n",
       "      <td>the incredibles</td>\n",
       "      <td>GBA</td>\n",
       "      <td>2004</td>\n",
       "      <td>Action</td>\n",
       "      <td>1.15</td>\n",
       "      <td>0.77</td>\n",
       "      <td>0.04</td>\n",
       "      <td>0.10</td>\n",
       "      <td>55.0</td>\n",
       "      <td>tbd</td>\n",
       "      <td>E</td>\n",
       "      <td>2004-01-01</td>\n",
       "    </tr>\n",
       "    <tr>\n",
       "      <td>881</td>\n",
       "      <td>who wants to be a millionaire</td>\n",
       "      <td>PC</td>\n",
       "      <td>1999</td>\n",
       "      <td>Misc</td>\n",
       "      <td>1.94</td>\n",
       "      <td>0.00</td>\n",
       "      <td>0.00</td>\n",
       "      <td>0.00</td>\n",
       "      <td>NaN</td>\n",
       "      <td>tbd</td>\n",
       "      <td>E</td>\n",
       "      <td>1999-01-01</td>\n",
       "    </tr>\n",
       "    <tr>\n",
       "      <td>1047</td>\n",
       "      <td>tetris worlds</td>\n",
       "      <td>GBA</td>\n",
       "      <td>2001</td>\n",
       "      <td>Puzzle</td>\n",
       "      <td>1.25</td>\n",
       "      <td>0.39</td>\n",
       "      <td>0.00</td>\n",
       "      <td>0.06</td>\n",
       "      <td>65.0</td>\n",
       "      <td>tbd</td>\n",
       "      <td>E</td>\n",
       "      <td>2001-01-01</td>\n",
       "    </tr>\n",
       "  </tbody>\n",
       "</table>\n",
       "</div>"
      ],
      "text/plain": [
       "                                          name platform  year_of_release  \\\n",
       "119                              zumba fitness      Wii             2010   \n",
       "301             namco museum: 50th anniversary      PS2             2005   \n",
       "520                            zumba fitness 2      Wii             2011   \n",
       "645                               udraw studio      Wii             2010   \n",
       "657   frogger's adventures: temple of the frog      GBA             1900   \n",
       "718                            just dance kids      Wii             2010   \n",
       "726                  dance dance revolution x2      PS2             2009   \n",
       "821                            the incredibles      GBA             2004   \n",
       "881              who wants to be a millionaire       PC             1999   \n",
       "1047                             tetris worlds      GBA             2001   \n",
       "\n",
       "           genre  na_sales  eu_sales  jp_sales  other_sales  critic_score  \\\n",
       "119       Sports      3.45      2.59      0.00         0.66           NaN   \n",
       "301         Misc      2.08      1.35      0.00         0.54          61.0   \n",
       "520       Sports      1.51      1.03      0.00         0.27           NaN   \n",
       "645         Misc      1.65      0.57      0.00         0.20          71.0   \n",
       "657    Adventure      2.15      0.18      0.00         0.07          73.0   \n",
       "718         Misc      1.52      0.54      0.00         0.18           NaN   \n",
       "726   Simulation      1.09      0.85      0.00         0.28           NaN   \n",
       "821       Action      1.15      0.77      0.04         0.10          55.0   \n",
       "881         Misc      1.94      0.00      0.00         0.00           NaN   \n",
       "1047      Puzzle      1.25      0.39      0.00         0.06          65.0   \n",
       "\n",
       "     user_score rating date_of_release  \n",
       "119         tbd      E      2010-01-01  \n",
       "301         tbd   E10+      2005-01-01  \n",
       "520         tbd      T      2011-01-01  \n",
       "645         tbd      E      2010-01-01  \n",
       "657         tbd      E      1900-01-01  \n",
       "718         tbd      E      2010-01-01  \n",
       "726         tbd   E10+      2009-01-01  \n",
       "821         tbd      E      2004-01-01  \n",
       "881         tbd      E      1999-01-01  \n",
       "1047        tbd      E      2001-01-01  "
      ]
     },
     "execution_count": 183,
     "metadata": {},
     "output_type": "execute_result"
    }
   ],
   "source": [
    "df_tbd.head(10)"
   ]
  },
  {
   "cell_type": "markdown",
   "metadata": {},
   "source": [
    "Выбрасывать данные строки не будем, чтобы не потерять данные по продажам. Заменим 'tbd' на -1, чтобы не смешать данные с нулевым рейтингом. И запомним это обстоятельство."
   ]
  },
  {
   "cell_type": "code",
   "execution_count": 184,
   "metadata": {},
   "outputs": [],
   "source": [
    "df['user_score']=df['user_score'].replace('tbd',-1)"
   ]
  },
  {
   "cell_type": "code",
   "execution_count": 185,
   "metadata": {},
   "outputs": [
    {
     "data": {
      "text/plain": [
       "array(['8', -1, '8.3', '8.5', '6.6', '8.4', '8.6', '7.7', '6.3', '7.4',\n",
       "       '8.2', '9', '7.9', '8.1', '8.7', '7.1', '3.4', '5.3', '4.8', '3.2',\n",
       "       '8.9', '6.4', '7.8', '7.5', '2.6', '7.2', '9.2', '7', '7.3', '4.3',\n",
       "       '7.6', '5.7', '5', '9.1', '6.5', '8.8', '6.9', '9.4', '6.8', '6.1',\n",
       "       '6.7', '5.4', '4', '4.9', '4.5', '9.3', '6.2', '4.2', '6', '3.7',\n",
       "       '4.1', '5.8', '5.6', '5.5', '4.4', '4.6', '5.9', '3.9', '3.1',\n",
       "       '2.9', '5.2', '3.3', '4.7', '5.1', '3.5', '2.5', '1.9', '3', '2.7',\n",
       "       '2.2', '2', '9.5', '2.1', '3.6', '2.8', '1.8', '3.8', '0', '1.6',\n",
       "       '9.6', '2.4', '1.7', '1.1', '0.3', '1.5', '0.7', '1.2', '2.3',\n",
       "       '0.5', '1.3', '0.2', '0.6', '1.4', '0.9', '1', '9.7'], dtype=object)"
      ]
     },
     "execution_count": 185,
     "metadata": {},
     "output_type": "execute_result"
    }
   ],
   "source": [
    "# смотрим\n",
    "df['user_score'].unique()"
   ]
  },
  {
   "cell_type": "markdown",
   "metadata": {},
   "source": [
    "Не нравиться тип 'object'. Преобразуем сначала к float, затем умножим на 10 (чтобы не потерять оценку) и затем преобразуем к  int."
   ]
  },
  {
   "cell_type": "code",
   "execution_count": 186,
   "metadata": {},
   "outputs": [],
   "source": [
    "df['user_score'] = df.apply(lambda raw: 10*float(raw['user_score']),axis=1)"
   ]
  },
  {
   "cell_type": "code",
   "execution_count": 187,
   "metadata": {},
   "outputs": [],
   "source": [
    "df['user_score'] = df['user_score'].astype('int')"
   ]
  },
  {
   "cell_type": "markdown",
   "metadata": {},
   "source": [
    "Смотрим на колонку 'critic_score'."
   ]
  },
  {
   "cell_type": "code",
   "execution_count": 188,
   "metadata": {},
   "outputs": [
    {
     "data": {
      "text/plain": [
       "array([76., nan, 82., 80., 89., 58., 87., 91., 61., 97., 95., 77., 88.,\n",
       "       83., 94., 93., 85., 86., 98., 96., 90., 84., 73., 74., 78., 92.,\n",
       "       71., 72., 68., 62., 49., 67., 81., 66., 56., 79., 70., 59., 64.,\n",
       "       75., 60., 63., 69., 50., 25., 42., 44., 55., 48., 57., 29., 47.,\n",
       "       65., 54., 20., 53., 37., 38., 33., 52., 30., 32., 43., 45., 51.,\n",
       "       40., 46., 39., 34., 35., 41., 36., 28., 31., 27., 26., 19., 23.,\n",
       "       24., 21., 17., 22., 13.])"
      ]
     },
     "execution_count": 188,
     "metadata": {},
     "output_type": "execute_result"
    }
   ],
   "source": [
    "df['critic_score'].unique()"
   ]
  },
  {
   "cell_type": "markdown",
   "metadata": {},
   "source": [
    "Так как мы не знаем причину отсутствия рейтинга, заменим nan на необычное значение -10."
   ]
  },
  {
   "cell_type": "code",
   "execution_count": 189,
   "metadata": {},
   "outputs": [],
   "source": [
    "df['critic_score'] = df['critic_score'].fillna(-10)"
   ]
  },
  {
   "cell_type": "code",
   "execution_count": 190,
   "metadata": {},
   "outputs": [],
   "source": [
    "#преобразуем к типу int\n",
    "df['critic_score']=df['critic_score'].astype('int')"
   ]
  },
  {
   "cell_type": "markdown",
   "metadata": {},
   "source": [
    "Смотрим 'rating'."
   ]
  },
  {
   "cell_type": "code",
   "execution_count": 191,
   "metadata": {},
   "outputs": [
    {
     "data": {
      "text/plain": [
       "array(['E', nan, 'M', 'T', 'E10+', 'K-A', 'AO', 'EC', 'RP'], dtype=object)"
      ]
     },
     "execution_count": 191,
     "metadata": {},
     "output_type": "execute_result"
    }
   ],
   "source": [
    "df['rating'].unique()"
   ]
  },
  {
   "cell_type": "code",
   "execution_count": 192,
   "metadata": {},
   "outputs": [
    {
     "name": "stdout",
     "output_type": "stream",
     "text": [
      "rating              | NaN = 6766   |   40.5%   \n"
     ]
    }
   ],
   "source": [
    "print_сolumns_with_nan(df)"
   ]
  },
  {
   "cell_type": "markdown",
   "metadata": {},
   "source": [
    "Заменим NaN в рейтинге на 'NORATING'. таких строк слишком много (40%), чтобы их просто удалить."
   ]
  },
  {
   "cell_type": "code",
   "execution_count": 193,
   "metadata": {},
   "outputs": [],
   "source": [
    "df['rating']=df['rating'].fillna('no_rating')"
   ]
  },
  {
   "cell_type": "code",
   "execution_count": 194,
   "metadata": {},
   "outputs": [
    {
     "data": {
      "text/html": [
       "<div>\n",
       "<style scoped>\n",
       "    .dataframe tbody tr th:only-of-type {\n",
       "        vertical-align: middle;\n",
       "    }\n",
       "\n",
       "    .dataframe tbody tr th {\n",
       "        vertical-align: top;\n",
       "    }\n",
       "\n",
       "    .dataframe thead th {\n",
       "        text-align: right;\n",
       "    }\n",
       "</style>\n",
       "<table border=\"1\" class=\"dataframe\">\n",
       "  <thead>\n",
       "    <tr style=\"text-align: right;\">\n",
       "      <th></th>\n",
       "      <th>count</th>\n",
       "      <th>mean</th>\n",
       "      <th>std</th>\n",
       "      <th>min</th>\n",
       "      <th>25%</th>\n",
       "      <th>50%</th>\n",
       "      <th>75%</th>\n",
       "      <th>max</th>\n",
       "    </tr>\n",
       "  </thead>\n",
       "  <tbody>\n",
       "    <tr>\n",
       "      <td>year_of_release</td>\n",
       "      <td>16715.0</td>\n",
       "      <td>2004.770924</td>\n",
       "      <td>14.612996</td>\n",
       "      <td>1900.0</td>\n",
       "      <td>2003.0</td>\n",
       "      <td>2007.00</td>\n",
       "      <td>2010.00</td>\n",
       "      <td>2016.00</td>\n",
       "    </tr>\n",
       "    <tr>\n",
       "      <td>na_sales</td>\n",
       "      <td>16715.0</td>\n",
       "      <td>0.263377</td>\n",
       "      <td>0.813604</td>\n",
       "      <td>0.0</td>\n",
       "      <td>0.0</td>\n",
       "      <td>0.08</td>\n",
       "      <td>0.24</td>\n",
       "      <td>41.36</td>\n",
       "    </tr>\n",
       "    <tr>\n",
       "      <td>eu_sales</td>\n",
       "      <td>16715.0</td>\n",
       "      <td>0.145060</td>\n",
       "      <td>0.503339</td>\n",
       "      <td>0.0</td>\n",
       "      <td>0.0</td>\n",
       "      <td>0.02</td>\n",
       "      <td>0.11</td>\n",
       "      <td>28.96</td>\n",
       "    </tr>\n",
       "    <tr>\n",
       "      <td>jp_sales</td>\n",
       "      <td>16715.0</td>\n",
       "      <td>0.077617</td>\n",
       "      <td>0.308853</td>\n",
       "      <td>0.0</td>\n",
       "      <td>0.0</td>\n",
       "      <td>0.00</td>\n",
       "      <td>0.04</td>\n",
       "      <td>10.22</td>\n",
       "    </tr>\n",
       "    <tr>\n",
       "      <td>other_sales</td>\n",
       "      <td>16715.0</td>\n",
       "      <td>0.047342</td>\n",
       "      <td>0.186731</td>\n",
       "      <td>0.0</td>\n",
       "      <td>0.0</td>\n",
       "      <td>0.01</td>\n",
       "      <td>0.03</td>\n",
       "      <td>10.57</td>\n",
       "    </tr>\n",
       "    <tr>\n",
       "      <td>critic_score</td>\n",
       "      <td>16715.0</td>\n",
       "      <td>28.442118</td>\n",
       "      <td>40.651556</td>\n",
       "      <td>-10.0</td>\n",
       "      <td>-10.0</td>\n",
       "      <td>-10.00</td>\n",
       "      <td>70.00</td>\n",
       "      <td>98.00</td>\n",
       "    </tr>\n",
       "    <tr>\n",
       "      <td>user_score</td>\n",
       "      <td>16715.0</td>\n",
       "      <td>26.894466</td>\n",
       "      <td>41.698332</td>\n",
       "      <td>-10.0</td>\n",
       "      <td>-10.0</td>\n",
       "      <td>-10.00</td>\n",
       "      <td>73.00</td>\n",
       "      <td>97.00</td>\n",
       "    </tr>\n",
       "  </tbody>\n",
       "</table>\n",
       "</div>"
      ],
      "text/plain": [
       "                   count         mean        std     min     25%      50%  \\\n",
       "year_of_release  16715.0  2004.770924  14.612996  1900.0  2003.0  2007.00   \n",
       "na_sales         16715.0     0.263377   0.813604     0.0     0.0     0.08   \n",
       "eu_sales         16715.0     0.145060   0.503339     0.0     0.0     0.02   \n",
       "jp_sales         16715.0     0.077617   0.308853     0.0     0.0     0.00   \n",
       "other_sales      16715.0     0.047342   0.186731     0.0     0.0     0.01   \n",
       "critic_score     16715.0    28.442118  40.651556   -10.0   -10.0   -10.00   \n",
       "user_score       16715.0    26.894466  41.698332   -10.0   -10.0   -10.00   \n",
       "\n",
       "                     75%      max  \n",
       "year_of_release  2010.00  2016.00  \n",
       "na_sales            0.24    41.36  \n",
       "eu_sales            0.11    28.96  \n",
       "jp_sales            0.04    10.22  \n",
       "other_sales         0.03    10.57  \n",
       "critic_score       70.00    98.00  \n",
       "user_score         73.00    97.00  "
      ]
     },
     "execution_count": 194,
     "metadata": {},
     "output_type": "execute_result"
    }
   ],
   "source": [
    "df.describe().T"
   ]
  },
  {
   "cell_type": "code",
   "execution_count": 195,
   "metadata": {},
   "outputs": [
    {
     "name": "stdout",
     "output_type": "stream",
     "text": [
      "<class 'pandas.core.frame.DataFrame'>\n",
      "RangeIndex: 16715 entries, 0 to 16714\n",
      "Data columns (total 12 columns):\n",
      "name               16715 non-null object\n",
      "platform           16715 non-null object\n",
      "year_of_release    16715 non-null int64\n",
      "genre              16715 non-null object\n",
      "na_sales           16715 non-null float64\n",
      "eu_sales           16715 non-null float64\n",
      "jp_sales           16715 non-null float64\n",
      "other_sales        16715 non-null float64\n",
      "critic_score       16715 non-null int64\n",
      "user_score         16715 non-null int64\n",
      "rating             16715 non-null object\n",
      "date_of_release    16715 non-null datetime64[ns]\n",
      "dtypes: datetime64[ns](1), float64(4), int64(3), object(4)\n",
      "memory usage: 1.5+ MB\n"
     ]
    }
   ],
   "source": [
    "df.info()"
   ]
  },
  {
   "cell_type": "markdown",
   "metadata": {},
   "source": [
    "Преобразуем колонки с продажами к int (предварительно домножив на 1 000 000)"
   ]
  },
  {
   "cell_type": "code",
   "execution_count": 196,
   "metadata": {},
   "outputs": [],
   "source": [
    "for column in ['na_sales','eu_sales','jp_sales', 'other_sales']:\n",
    "    df[column] = df[column]*1000000\n",
    "    df[column] = df[column].astype('int64')"
   ]
  },
  {
   "cell_type": "code",
   "execution_count": 197,
   "metadata": {},
   "outputs": [],
   "source": [
    "df['all_sales'] = df['na_sales'] + df['eu_sales']  + df['jp_sales'] + df['other_sales']\n",
    "df['all_sales'] = df['all_sales'].astype('int64')"
   ]
  },
  {
   "cell_type": "code",
   "execution_count": 198,
   "metadata": {},
   "outputs": [
    {
     "name": "stdout",
     "output_type": "stream",
     "text": [
      "Нет данных с NaN!\n"
     ]
    }
   ],
   "source": [
    "print_сolumns_with_nan(df)"
   ]
  },
  {
   "cell_type": "code",
   "execution_count": 199,
   "metadata": {},
   "outputs": [
    {
     "data": {
      "text/html": [
       "<div>\n",
       "<style scoped>\n",
       "    .dataframe tbody tr th:only-of-type {\n",
       "        vertical-align: middle;\n",
       "    }\n",
       "\n",
       "    .dataframe tbody tr th {\n",
       "        vertical-align: top;\n",
       "    }\n",
       "\n",
       "    .dataframe thead th {\n",
       "        text-align: right;\n",
       "    }\n",
       "</style>\n",
       "<table border=\"1\" class=\"dataframe\">\n",
       "  <thead>\n",
       "    <tr style=\"text-align: right;\">\n",
       "      <th></th>\n",
       "      <th>name</th>\n",
       "      <th>platform</th>\n",
       "      <th>year_of_release</th>\n",
       "      <th>genre</th>\n",
       "      <th>na_sales</th>\n",
       "      <th>eu_sales</th>\n",
       "      <th>jp_sales</th>\n",
       "      <th>other_sales</th>\n",
       "      <th>critic_score</th>\n",
       "      <th>user_score</th>\n",
       "      <th>rating</th>\n",
       "      <th>date_of_release</th>\n",
       "      <th>all_sales</th>\n",
       "    </tr>\n",
       "  </thead>\n",
       "  <tbody>\n",
       "    <tr>\n",
       "      <td>0</td>\n",
       "      <td>wii sports</td>\n",
       "      <td>Wii</td>\n",
       "      <td>2006</td>\n",
       "      <td>Sports</td>\n",
       "      <td>41360000</td>\n",
       "      <td>28960000</td>\n",
       "      <td>3770000</td>\n",
       "      <td>8450000</td>\n",
       "      <td>76</td>\n",
       "      <td>80</td>\n",
       "      <td>E</td>\n",
       "      <td>2006-01-01</td>\n",
       "      <td>82540000</td>\n",
       "    </tr>\n",
       "    <tr>\n",
       "      <td>1</td>\n",
       "      <td>super mario bros.</td>\n",
       "      <td>NES</td>\n",
       "      <td>1985</td>\n",
       "      <td>Platform</td>\n",
       "      <td>29080000</td>\n",
       "      <td>3580000</td>\n",
       "      <td>6810000</td>\n",
       "      <td>770000</td>\n",
       "      <td>-10</td>\n",
       "      <td>-10</td>\n",
       "      <td>no_rating</td>\n",
       "      <td>1985-01-01</td>\n",
       "      <td>40240000</td>\n",
       "    </tr>\n",
       "    <tr>\n",
       "      <td>2</td>\n",
       "      <td>mario kart wii</td>\n",
       "      <td>Wii</td>\n",
       "      <td>2008</td>\n",
       "      <td>Racing</td>\n",
       "      <td>15680000</td>\n",
       "      <td>12760000</td>\n",
       "      <td>3790000</td>\n",
       "      <td>3290000</td>\n",
       "      <td>82</td>\n",
       "      <td>83</td>\n",
       "      <td>E</td>\n",
       "      <td>2008-01-01</td>\n",
       "      <td>35520000</td>\n",
       "    </tr>\n",
       "    <tr>\n",
       "      <td>3</td>\n",
       "      <td>wii sports resort</td>\n",
       "      <td>Wii</td>\n",
       "      <td>2009</td>\n",
       "      <td>Sports</td>\n",
       "      <td>15610000</td>\n",
       "      <td>10930000</td>\n",
       "      <td>3280000</td>\n",
       "      <td>2950000</td>\n",
       "      <td>80</td>\n",
       "      <td>80</td>\n",
       "      <td>E</td>\n",
       "      <td>2009-01-01</td>\n",
       "      <td>32770000</td>\n",
       "    </tr>\n",
       "    <tr>\n",
       "      <td>4</td>\n",
       "      <td>pokemon red/pokemon blue</td>\n",
       "      <td>GB</td>\n",
       "      <td>1996</td>\n",
       "      <td>Role-Playing</td>\n",
       "      <td>11270000</td>\n",
       "      <td>8890000</td>\n",
       "      <td>10220000</td>\n",
       "      <td>1000000</td>\n",
       "      <td>-10</td>\n",
       "      <td>-10</td>\n",
       "      <td>no_rating</td>\n",
       "      <td>1996-01-01</td>\n",
       "      <td>31380000</td>\n",
       "    </tr>\n",
       "  </tbody>\n",
       "</table>\n",
       "</div>"
      ],
      "text/plain": [
       "                       name platform  year_of_release         genre  na_sales  \\\n",
       "0                wii sports      Wii             2006        Sports  41360000   \n",
       "1         super mario bros.      NES             1985      Platform  29080000   \n",
       "2            mario kart wii      Wii             2008        Racing  15680000   \n",
       "3         wii sports resort      Wii             2009        Sports  15610000   \n",
       "4  pokemon red/pokemon blue       GB             1996  Role-Playing  11270000   \n",
       "\n",
       "   eu_sales  jp_sales  other_sales  critic_score  user_score     rating  \\\n",
       "0  28960000   3770000      8450000            76          80          E   \n",
       "1   3580000   6810000       770000           -10         -10  no_rating   \n",
       "2  12760000   3790000      3290000            82          83          E   \n",
       "3  10930000   3280000      2950000            80          80          E   \n",
       "4   8890000  10220000      1000000           -10         -10  no_rating   \n",
       "\n",
       "  date_of_release  all_sales  \n",
       "0      2006-01-01   82540000  \n",
       "1      1985-01-01   40240000  \n",
       "2      2008-01-01   35520000  \n",
       "3      2009-01-01   32770000  \n",
       "4      1996-01-01   31380000  "
      ]
     },
     "execution_count": 199,
     "metadata": {},
     "output_type": "execute_result"
    }
   ],
   "source": [
    "df.head(5)"
   ]
  },
  {
   "cell_type": "code",
   "execution_count": 200,
   "metadata": {},
   "outputs": [
    {
     "data": {
      "text/plain": [
       "array([ 80, -10,  83,  85,  66,  84,  86,  77,  63,  74,  82,  90,  79,\n",
       "        81,  87,  71,  34,  53,  48,  32,  89,  64,  78,  75,  26,  72,\n",
       "        92,  70,  73,  43,  76,  57,  50,  91,  65,  88,  69,  94,  68,\n",
       "        61,  67,  54,  40,  49,  45,  93,  62,  42,  60,  37,  41,  58,\n",
       "        56,  55,  44,  46,  59,  39,  31,  29,  52,  33,  47,  51,  35,\n",
       "        25,  19,  30,  27,  22,  20,  95,  21,  36,  28,  18,  38,   0,\n",
       "        16,  96,  24,  17,  11,   3,  15,   7,  12,  23,   5,  13,   2,\n",
       "         6,  14,   9,  10,  97])"
      ]
     },
     "execution_count": 200,
     "metadata": {},
     "output_type": "execute_result"
    }
   ],
   "source": [
    "df['user_score'].unique()"
   ]
  },
  {
   "cell_type": "code",
   "execution_count": 201,
   "metadata": {},
   "outputs": [
    {
     "name": "stdout",
     "output_type": "stream",
     "text": [
      "<class 'pandas.core.frame.DataFrame'>\n",
      "RangeIndex: 16715 entries, 0 to 16714\n",
      "Data columns (total 13 columns):\n",
      "name               16715 non-null object\n",
      "platform           16715 non-null object\n",
      "year_of_release    16715 non-null int64\n",
      "genre              16715 non-null object\n",
      "na_sales           16715 non-null int64\n",
      "eu_sales           16715 non-null int64\n",
      "jp_sales           16715 non-null int64\n",
      "other_sales        16715 non-null int64\n",
      "critic_score       16715 non-null int64\n",
      "user_score         16715 non-null int64\n",
      "rating             16715 non-null object\n",
      "date_of_release    16715 non-null datetime64[ns]\n",
      "all_sales          16715 non-null int64\n",
      "dtypes: datetime64[ns](1), int64(8), object(4)\n",
      "memory usage: 1.7+ MB\n"
     ]
    }
   ],
   "source": [
    "df.info()"
   ]
  },
  {
   "cell_type": "code",
   "execution_count": 202,
   "metadata": {},
   "outputs": [],
   "source": [
    "# колонки с ограниченным количеством уникальных значение - > category\n",
    "df['platform'] = df['platform'].astype('category')\n",
    "df['genre'] = df['genre'].astype('category')"
   ]
  },
  {
   "cell_type": "code",
   "execution_count": 203,
   "metadata": {},
   "outputs": [
    {
     "name": "stdout",
     "output_type": "stream",
     "text": [
      "<class 'pandas.core.frame.DataFrame'>\n",
      "RangeIndex: 16715 entries, 0 to 16714\n",
      "Data columns (total 13 columns):\n",
      "name               16715 non-null object\n",
      "platform           16715 non-null category\n",
      "year_of_release    16715 non-null int64\n",
      "genre              16715 non-null category\n",
      "na_sales           16715 non-null int64\n",
      "eu_sales           16715 non-null int64\n",
      "jp_sales           16715 non-null int64\n",
      "other_sales        16715 non-null int64\n",
      "critic_score       16715 non-null int64\n",
      "user_score         16715 non-null int64\n",
      "rating             16715 non-null object\n",
      "date_of_release    16715 non-null datetime64[ns]\n",
      "all_sales          16715 non-null int64\n",
      "dtypes: category(2), datetime64[ns](1), int64(8), object(2)\n",
      "memory usage: 1.4+ MB\n"
     ]
    }
   ],
   "source": [
    "df.info()"
   ]
  },
  {
   "cell_type": "code",
   "execution_count": 204,
   "metadata": {},
   "outputs": [
    {
     "data": {
      "text/plain": [
       "0"
      ]
     },
     "execution_count": 204,
     "metadata": {},
     "output_type": "execute_result"
    }
   ],
   "source": [
    "df.duplicated().sum()"
   ]
  },
  {
   "cell_type": "markdown",
   "metadata": {},
   "source": [
    "**Вывод: Датасет подготовлен к дальнейшим исследованиям.**"
   ]
  },
  {
   "cell_type": "markdown",
   "metadata": {},
   "source": [
    "### Этап 3. Проведём исследовательский анализ данных"
   ]
  },
  {
   "cell_type": "markdown",
   "metadata": {},
   "source": [
    "#### Посмотрим, сколько игр выпускалось в разные годы. Важны ли данные за все периоды?"
   ]
  },
  {
   "cell_type": "code",
   "execution_count": 205,
   "metadata": {},
   "outputs": [
    {
     "data": {
      "text/plain": [
       "''"
      ]
     },
     "execution_count": 205,
     "metadata": {},
     "output_type": "execute_result"
    },
    {
     "data": {
      "image/png": "[encoded data removed]",
      "text/plain": [
       "<Figure size 432x288 with 1 Axes>"
      ]
     },
     "metadata": {
      "needs_background": "light"
     },
     "output_type": "display_data"
    }
   ],
   "source": [
    "# срез данных. Помним, что nan был замененн на 1900 год\n",
    "df_query = df.query('not year_of_release == 1900')\n",
    "df_query['year_of_release'].hist(bins=35);\n",
    "plt.title('Количество проданных копий по годам выпуска')\n",
    "plt.ylabel('Количество')\n",
    "plt.xlabel('Год выпуска')\n",
    ";"
   ]
  },
  {
   "cell_type": "markdown",
   "metadata": {},
   "source": [
    "**Причины приведшие, в прошлом, к росту нужно искать с 2000 по 2010 год. Далее идет спад в количестве выпущенных игр. Рынок игр непрерывно падает с 2008 года**\n",
    "<!-- \n",
    "**Выборки данных можно ограничить периодом с 2000 по 2016 год.** -->"
   ]
  },
  {
   "cell_type": "markdown",
   "metadata": {},
   "source": [
    "#### Посмотрим на количество проданных копий по годам выпуска."
   ]
  },
  {
   "cell_type": "code",
   "execution_count": 206,
   "metadata": {},
   "outputs": [
    {
     "data": {
      "text/plain": [
       "''"
      ]
     },
     "execution_count": 206,
     "metadata": {},
     "output_type": "execute_result"
    },
    {
     "data": {
      "image/png": "[encoded data removed]",
      "text/plain": [
       "<Figure size 432x288 with 1 Axes>"
      ]
     },
     "metadata": {
      "needs_background": "light"
     },
     "output_type": "display_data"
    }
   ],
   "source": [
    "df_year = df_query.groupby('year_of_release').agg({'all_sales':'sum'})\n",
    "df_year.plot(legend = 'all_sales ')\n",
    "plt.title('Количество проданных копий по годам выпуска')\n",
    "plt.ylabel('Количество')\n",
    "plt.xlabel('Год выпуска')\n",
    ";"
   ]
  },
  {
   "cell_type": "code",
   "execution_count": 207,
   "metadata": {},
   "outputs": [
    {
     "name": "stdout",
     "output_type": "stream",
     "text": [
      "Ежегодный прирост в 2001  = 39.2% \n",
      "Ежегодный прирост в 2002  = 16.1% \n",
      "Ежегодный прирост в 2003  = -10.5% \n",
      "Ежегодный прирост в 2004  = 14.6% \n",
      "Ежегодный прирост в 2005  = 8.5% \n",
      "Ежегодный прирост в 2006  = 11.6% \n",
      "Ежегодный прирост в 2007  = 14.4% \n",
      "Ежегодный прирост в 2008  = 9.9% \n",
      "Ежегодный прирост в 2009  = -1.9% \n",
      "Ежегодный прирост в 2010  = -11.6% \n",
      "Ежегодный прирост в 2011  = -16.3% \n",
      "Ежегодный прирост в 2012  = -42.6% \n",
      "Ежегодный прирост в 2013  = 1.5% \n",
      "Ежегодный прирост в 2014  = -9.0% \n",
      "Ежегодный прирост в 2015  = -23.7% \n",
      "Ежегодный прирост в 2016  = -106.2% \n"
     ]
    }
   ],
   "source": [
    "# # оценим динамику изменения в % начиная с точки падения 2000 года\n",
    "year_list = df_year.index.tolist()\n",
    "year_list.sort()\n",
    "\n",
    "for y in year_list: \n",
    "    if year_list.index(y)==len(year_list)-1 or y < 2000:\n",
    "        continue\n",
    "    count1 = df_year.loc[df_year.index==y]['all_sales'].tolist()[0]\n",
    "    count2 = df_year.loc[df_year.index==y+1]['all_sales'].tolist()[0]\n",
    "    print('Ежегодный прирост в {}  = {:.1%} '.format(y+1, 1 - count1/count2))\n",
    "    "
   ]
  },
  {
   "cell_type": "markdown",
   "metadata": {},
   "source": [
    "**Вывод: Рынок непрерывно падает начиная с 2009 года**"
   ]
  },
  {
   "cell_type": "markdown",
   "metadata": {},
   "source": [
    "#### Посмотрим, как менялись продажи по платформам. Выберем платформы с наибольшими суммарными продажами и построим распределение по годам. За какой характерный срок появляются новые и исчезают старые платформы?"
   ]
  },
  {
   "cell_type": "code",
   "execution_count": 208,
   "metadata": {},
   "outputs": [
    {
     "data": {
      "text/html": [
       "<div>\n",
       "<style scoped>\n",
       "    .dataframe tbody tr th:only-of-type {\n",
       "        vertical-align: middle;\n",
       "    }\n",
       "\n",
       "    .dataframe tbody tr th {\n",
       "        vertical-align: top;\n",
       "    }\n",
       "\n",
       "    .dataframe thead th {\n",
       "        text-align: right;\n",
       "    }\n",
       "</style>\n",
       "<table border=\"1\" class=\"dataframe\">\n",
       "  <thead>\n",
       "    <tr style=\"text-align: right;\">\n",
       "      <th></th>\n",
       "      <th>all_sales</th>\n",
       "      <th>ratio</th>\n",
       "    </tr>\n",
       "    <tr>\n",
       "      <th>platform</th>\n",
       "      <th></th>\n",
       "      <th></th>\n",
       "    </tr>\n",
       "  </thead>\n",
       "  <tbody>\n",
       "    <tr>\n",
       "      <td>PS2</td>\n",
       "      <td>1255769992</td>\n",
       "      <td>0.184757</td>\n",
       "    </tr>\n",
       "    <tr>\n",
       "      <td>X360</td>\n",
       "      <td>971419999</td>\n",
       "      <td>0.142921</td>\n",
       "    </tr>\n",
       "    <tr>\n",
       "      <td>PS3</td>\n",
       "      <td>939649995</td>\n",
       "      <td>0.138247</td>\n",
       "    </tr>\n",
       "    <tr>\n",
       "      <td>Wii</td>\n",
       "      <td>907509997</td>\n",
       "      <td>0.133518</td>\n",
       "    </tr>\n",
       "    <tr>\n",
       "      <td>DS</td>\n",
       "      <td>806120000</td>\n",
       "      <td>0.118601</td>\n",
       "    </tr>\n",
       "    <tr>\n",
       "      <td>PS</td>\n",
       "      <td>730859994</td>\n",
       "      <td>0.107529</td>\n",
       "    </tr>\n",
       "    <tr>\n",
       "      <td>GBA</td>\n",
       "      <td>317849999</td>\n",
       "      <td>0.046764</td>\n",
       "    </tr>\n",
       "    <tr>\n",
       "      <td>PS4</td>\n",
       "      <td>314139997</td>\n",
       "      <td>0.046218</td>\n",
       "    </tr>\n",
       "    <tr>\n",
       "      <td>PSP</td>\n",
       "      <td>294050000</td>\n",
       "      <td>0.043262</td>\n",
       "    </tr>\n",
       "    <tr>\n",
       "      <td>PC</td>\n",
       "      <td>259519998</td>\n",
       "      <td>0.038182</td>\n",
       "    </tr>\n",
       "  </tbody>\n",
       "</table>\n",
       "</div>"
      ],
      "text/plain": [
       "           all_sales     ratio\n",
       "platform                      \n",
       "PS2       1255769992  0.184757\n",
       "X360       971419999  0.142921\n",
       "PS3        939649995  0.138247\n",
       "Wii        907509997  0.133518\n",
       "DS         806120000  0.118601\n",
       "PS         730859994  0.107529\n",
       "GBA        317849999  0.046764\n",
       "PS4        314139997  0.046218\n",
       "PSP        294050000  0.043262\n",
       "PC         259519998  0.038182"
      ]
     },
     "metadata": {},
     "output_type": "display_data"
    }
   ],
   "source": [
    "# построим сводную таблицу\n",
    "popular_platform=df.groupby('platform').agg({'all_sales':'sum'}).sort_values(by='all_sales',ascending=False).head(10)\n",
    "popular_platform['ratio'] = popular_platform['all_sales']/popular_platform['all_sales'].sum()\n",
    "display(popular_platform)\n",
    "\n",
    "# запомним смисок топ-10\n",
    "list_of_top_popular_platform = popular_platform.index.tolist()\n",
    "#list_of_top_popular_platform"
   ]
  },
  {
   "cell_type": "markdown",
   "metadata": {},
   "source": [
    "Построим графики зависимости количества копий от платформы."
   ]
  },
  {
   "cell_type": "code",
   "execution_count": 209,
   "metadata": {},
   "outputs": [
    {
     "data": {
      "text/plain": [
       "''"
      ]
     },
     "execution_count": 209,
     "metadata": {},
     "output_type": "execute_result"
    },
    {
     "data": {
      "image/png": "[encoded data removed]",
      "text/plain": [
       "<Figure size 432x288 with 1 Axes>"
      ]
     },
     "metadata": {
      "needs_background": "light"
     },
     "output_type": "display_data"
    }
   ],
   "source": [
    "names = popular_platform.index\n",
    "values = popular_platform['all_sales']\n",
    "\n",
    "plt.bar(names, values)\n",
    "plt.xlabel('Платформа')\n",
    "plt.ylabel('Количество')\n",
    "plt.title('Топ 10 платформ с 2000 по 2016 год')\n",
    ";"
   ]
  },
  {
   "cell_type": "markdown",
   "metadata": {},
   "source": [
    "Выполним срез данных с 2000 по 2016 год. По наиболее успешным платформам."
   ]
  },
  {
   "cell_type": "code",
   "execution_count": 210,
   "metadata": {
    "scrolled": true
   },
   "outputs": [
    {
     "data": {
      "text/html": [
       "<div>\n",
       "<style scoped>\n",
       "    .dataframe tbody tr th:only-of-type {\n",
       "        vertical-align: middle;\n",
       "    }\n",
       "\n",
       "    .dataframe tbody tr th {\n",
       "        vertical-align: top;\n",
       "    }\n",
       "\n",
       "    .dataframe thead th {\n",
       "        text-align: right;\n",
       "    }\n",
       "</style>\n",
       "<table border=\"1\" class=\"dataframe\">\n",
       "  <thead>\n",
       "    <tr style=\"text-align: right;\">\n",
       "      <th></th>\n",
       "      <th>name</th>\n",
       "      <th>platform</th>\n",
       "      <th>year_of_release</th>\n",
       "      <th>genre</th>\n",
       "      <th>na_sales</th>\n",
       "      <th>eu_sales</th>\n",
       "      <th>jp_sales</th>\n",
       "      <th>other_sales</th>\n",
       "      <th>critic_score</th>\n",
       "      <th>user_score</th>\n",
       "      <th>rating</th>\n",
       "      <th>date_of_release</th>\n",
       "      <th>all_sales</th>\n",
       "    </tr>\n",
       "  </thead>\n",
       "  <tbody>\n",
       "    <tr>\n",
       "      <td>0</td>\n",
       "      <td>wii sports</td>\n",
       "      <td>Wii</td>\n",
       "      <td>2006</td>\n",
       "      <td>Sports</td>\n",
       "      <td>41360000</td>\n",
       "      <td>28960000</td>\n",
       "      <td>3770000</td>\n",
       "      <td>8450000</td>\n",
       "      <td>76</td>\n",
       "      <td>80</td>\n",
       "      <td>E</td>\n",
       "      <td>2006-01-01</td>\n",
       "      <td>82540000</td>\n",
       "    </tr>\n",
       "    <tr>\n",
       "      <td>2</td>\n",
       "      <td>mario kart wii</td>\n",
       "      <td>Wii</td>\n",
       "      <td>2008</td>\n",
       "      <td>Racing</td>\n",
       "      <td>15680000</td>\n",
       "      <td>12760000</td>\n",
       "      <td>3790000</td>\n",
       "      <td>3290000</td>\n",
       "      <td>82</td>\n",
       "      <td>83</td>\n",
       "      <td>E</td>\n",
       "      <td>2008-01-01</td>\n",
       "      <td>35520000</td>\n",
       "    </tr>\n",
       "    <tr>\n",
       "      <td>3</td>\n",
       "      <td>wii sports resort</td>\n",
       "      <td>Wii</td>\n",
       "      <td>2009</td>\n",
       "      <td>Sports</td>\n",
       "      <td>15610000</td>\n",
       "      <td>10930000</td>\n",
       "      <td>3280000</td>\n",
       "      <td>2950000</td>\n",
       "      <td>80</td>\n",
       "      <td>80</td>\n",
       "      <td>E</td>\n",
       "      <td>2009-01-01</td>\n",
       "      <td>32770000</td>\n",
       "    </tr>\n",
       "    <tr>\n",
       "      <td>6</td>\n",
       "      <td>new super mario bros.</td>\n",
       "      <td>DS</td>\n",
       "      <td>2006</td>\n",
       "      <td>Platform</td>\n",
       "      <td>11280000</td>\n",
       "      <td>9140000</td>\n",
       "      <td>6500000</td>\n",
       "      <td>2880000</td>\n",
       "      <td>89</td>\n",
       "      <td>85</td>\n",
       "      <td>E</td>\n",
       "      <td>2006-01-01</td>\n",
       "      <td>29800000</td>\n",
       "    </tr>\n",
       "    <tr>\n",
       "      <td>7</td>\n",
       "      <td>wii play</td>\n",
       "      <td>Wii</td>\n",
       "      <td>2006</td>\n",
       "      <td>Misc</td>\n",
       "      <td>13960000</td>\n",
       "      <td>9180000</td>\n",
       "      <td>2930000</td>\n",
       "      <td>2840000</td>\n",
       "      <td>58</td>\n",
       "      <td>66</td>\n",
       "      <td>E</td>\n",
       "      <td>2006-01-01</td>\n",
       "      <td>28910000</td>\n",
       "    </tr>\n",
       "  </tbody>\n",
       "</table>\n",
       "</div>"
      ],
      "text/plain": [
       "                    name platform  year_of_release     genre  na_sales  \\\n",
       "0             wii sports      Wii             2006    Sports  41360000   \n",
       "2         mario kart wii      Wii             2008    Racing  15680000   \n",
       "3      wii sports resort      Wii             2009    Sports  15610000   \n",
       "6  new super mario bros.       DS             2006  Platform  11280000   \n",
       "7               wii play      Wii             2006      Misc  13960000   \n",
       "\n",
       "   eu_sales  jp_sales  other_sales  critic_score  user_score rating  \\\n",
       "0  28960000   3770000      8450000            76          80      E   \n",
       "2  12760000   3790000      3290000            82          83      E   \n",
       "3  10930000   3280000      2950000            80          80      E   \n",
       "6   9140000   6500000      2880000            89          85      E   \n",
       "7   9180000   2930000      2840000            58          66      E   \n",
       "\n",
       "  date_of_release  all_sales  \n",
       "0      2006-01-01   82540000  \n",
       "2      2008-01-01   35520000  \n",
       "3      2009-01-01   32770000  \n",
       "6      2006-01-01   29800000  \n",
       "7      2006-01-01   28910000  "
      ]
     },
     "execution_count": 210,
     "metadata": {},
     "output_type": "execute_result"
    }
   ],
   "source": [
    "# отберем данные\n",
    "df_popular_platform_2000_2016 = df.query('platform in (@list_of_top_popular_platform)')\n",
    "df_popular_platform_2000_2016 = df_popular_platform_2000_2016.query('2000 <= year_of_release and year_of_release <= 2016')\n",
    "df_popular_platform_2000_2016.head(5)"
   ]
  },
  {
   "cell_type": "code",
   "execution_count": 211,
   "metadata": {},
   "outputs": [
    {
     "data": {
      "text/html": [
       "<div>\n",
       "<style scoped>\n",
       "    .dataframe tbody tr th:only-of-type {\n",
       "        vertical-align: middle;\n",
       "    }\n",
       "\n",
       "    .dataframe tbody tr th {\n",
       "        vertical-align: top;\n",
       "    }\n",
       "\n",
       "    .dataframe thead th {\n",
       "        text-align: right;\n",
       "    }\n",
       "</style>\n",
       "<table border=\"1\" class=\"dataframe\">\n",
       "  <thead>\n",
       "    <tr style=\"text-align: right;\">\n",
       "      <th>year_of_release</th>\n",
       "      <th>2000</th>\n",
       "      <th>2001</th>\n",
       "      <th>2002</th>\n",
       "      <th>2003</th>\n",
       "      <th>2004</th>\n",
       "      <th>2005</th>\n",
       "      <th>2006</th>\n",
       "      <th>2007</th>\n",
       "      <th>2008</th>\n",
       "      <th>2009</th>\n",
       "      <th>2010</th>\n",
       "      <th>2011</th>\n",
       "      <th>2012</th>\n",
       "      <th>2013</th>\n",
       "      <th>2014</th>\n",
       "      <th>2015</th>\n",
       "      <th>2016</th>\n",
       "    </tr>\n",
       "    <tr>\n",
       "      <th>platform</th>\n",
       "      <th></th>\n",
       "      <th></th>\n",
       "      <th></th>\n",
       "      <th></th>\n",
       "      <th></th>\n",
       "      <th></th>\n",
       "      <th></th>\n",
       "      <th></th>\n",
       "      <th></th>\n",
       "      <th></th>\n",
       "      <th></th>\n",
       "      <th></th>\n",
       "      <th></th>\n",
       "      <th></th>\n",
       "      <th></th>\n",
       "      <th></th>\n",
       "      <th></th>\n",
       "    </tr>\n",
       "  </thead>\n",
       "  <tbody>\n",
       "    <tr>\n",
       "      <td>DS</td>\n",
       "      <td>NaN</td>\n",
       "      <td>NaN</td>\n",
       "      <td>NaN</td>\n",
       "      <td>NaN</td>\n",
       "      <td>17270000.0</td>\n",
       "      <td>130140000.0</td>\n",
       "      <td>119810000.0</td>\n",
       "      <td>146940000.0</td>\n",
       "      <td>145310000.0</td>\n",
       "      <td>119540000.0</td>\n",
       "      <td>85020000.0</td>\n",
       "      <td>26180000.0</td>\n",
       "      <td>11010000.0</td>\n",
       "      <td>1540000.0</td>\n",
       "      <td>NaN</td>\n",
       "      <td>NaN</td>\n",
       "      <td>NaN</td>\n",
       "    </tr>\n",
       "    <tr>\n",
       "      <td>GBA</td>\n",
       "      <td>70000.0</td>\n",
       "      <td>61529999.0</td>\n",
       "      <td>74160000.0</td>\n",
       "      <td>56670000.0</td>\n",
       "      <td>77910000.0</td>\n",
       "      <td>33860000.0</td>\n",
       "      <td>5280000.0</td>\n",
       "      <td>3400000.0</td>\n",
       "      <td>NaN</td>\n",
       "      <td>NaN</td>\n",
       "      <td>NaN</td>\n",
       "      <td>NaN</td>\n",
       "      <td>NaN</td>\n",
       "      <td>NaN</td>\n",
       "      <td>NaN</td>\n",
       "      <td>NaN</td>\n",
       "      <td>NaN</td>\n",
       "    </tr>\n",
       "    <tr>\n",
       "      <td>PC</td>\n",
       "      <td>4660000.0</td>\n",
       "      <td>5470000.0</td>\n",
       "      <td>8569999.0</td>\n",
       "      <td>8840000.0</td>\n",
       "      <td>10390000.0</td>\n",
       "      <td>4370000.0</td>\n",
       "      <td>2850000.0</td>\n",
       "      <td>9280000.0</td>\n",
       "      <td>12420000.0</td>\n",
       "      <td>16910000.0</td>\n",
       "      <td>24280000.0</td>\n",
       "      <td>35030000.0</td>\n",
       "      <td>23220000.0</td>\n",
       "      <td>12380000.0</td>\n",
       "      <td>13280000.0</td>\n",
       "      <td>8520000.0</td>\n",
       "      <td>5250000.0</td>\n",
       "    </tr>\n",
       "    <tr>\n",
       "      <td>PS</td>\n",
       "      <td>96369998.0</td>\n",
       "      <td>35590000.0</td>\n",
       "      <td>6670000.0</td>\n",
       "      <td>2070000.0</td>\n",
       "      <td>NaN</td>\n",
       "      <td>NaN</td>\n",
       "      <td>NaN</td>\n",
       "      <td>NaN</td>\n",
       "      <td>NaN</td>\n",
       "      <td>NaN</td>\n",
       "      <td>NaN</td>\n",
       "      <td>NaN</td>\n",
       "      <td>NaN</td>\n",
       "      <td>NaN</td>\n",
       "      <td>NaN</td>\n",
       "      <td>NaN</td>\n",
       "      <td>NaN</td>\n",
       "    </tr>\n",
       "    <tr>\n",
       "      <td>PS2</td>\n",
       "      <td>39170000.0</td>\n",
       "      <td>166429996.0</td>\n",
       "      <td>205380000.0</td>\n",
       "      <td>184310000.0</td>\n",
       "      <td>211809998.0</td>\n",
       "      <td>160659999.0</td>\n",
       "      <td>103420000.0</td>\n",
       "      <td>75990000.0</td>\n",
       "      <td>53899999.0</td>\n",
       "      <td>26400000.0</td>\n",
       "      <td>5640000.0</td>\n",
       "      <td>450000.0</td>\n",
       "      <td>NaN</td>\n",
       "      <td>NaN</td>\n",
       "      <td>NaN</td>\n",
       "      <td>NaN</td>\n",
       "      <td>NaN</td>\n",
       "    </tr>\n",
       "    <tr>\n",
       "      <td>PS3</td>\n",
       "      <td>NaN</td>\n",
       "      <td>NaN</td>\n",
       "      <td>NaN</td>\n",
       "      <td>NaN</td>\n",
       "      <td>NaN</td>\n",
       "      <td>NaN</td>\n",
       "      <td>20960000.0</td>\n",
       "      <td>73190000.0</td>\n",
       "      <td>118520000.0</td>\n",
       "      <td>130929998.0</td>\n",
       "      <td>142170000.0</td>\n",
       "      <td>156779999.0</td>\n",
       "      <td>107360000.0</td>\n",
       "      <td>113249999.0</td>\n",
       "      <td>47759999.0</td>\n",
       "      <td>16820000.0</td>\n",
       "      <td>3600000.0</td>\n",
       "    </tr>\n",
       "    <tr>\n",
       "      <td>PS4</td>\n",
       "      <td>NaN</td>\n",
       "      <td>NaN</td>\n",
       "      <td>NaN</td>\n",
       "      <td>NaN</td>\n",
       "      <td>NaN</td>\n",
       "      <td>NaN</td>\n",
       "      <td>NaN</td>\n",
       "      <td>NaN</td>\n",
       "      <td>NaN</td>\n",
       "      <td>NaN</td>\n",
       "      <td>NaN</td>\n",
       "      <td>NaN</td>\n",
       "      <td>NaN</td>\n",
       "      <td>25990000.0</td>\n",
       "      <td>99999998.0</td>\n",
       "      <td>118899999.0</td>\n",
       "      <td>69250000.0</td>\n",
       "    </tr>\n",
       "    <tr>\n",
       "      <td>PSP</td>\n",
       "      <td>NaN</td>\n",
       "      <td>NaN</td>\n",
       "      <td>NaN</td>\n",
       "      <td>NaN</td>\n",
       "      <td>7060000.0</td>\n",
       "      <td>43840000.0</td>\n",
       "      <td>55320000.0</td>\n",
       "      <td>46930000.0</td>\n",
       "      <td>34550000.0</td>\n",
       "      <td>37780000.0</td>\n",
       "      <td>35040000.0</td>\n",
       "      <td>17820000.0</td>\n",
       "      <td>7690000.0</td>\n",
       "      <td>3140000.0</td>\n",
       "      <td>240000.0</td>\n",
       "      <td>120000.0</td>\n",
       "      <td>NaN</td>\n",
       "    </tr>\n",
       "    <tr>\n",
       "      <td>Wii</td>\n",
       "      <td>NaN</td>\n",
       "      <td>NaN</td>\n",
       "      <td>NaN</td>\n",
       "      <td>NaN</td>\n",
       "      <td>NaN</td>\n",
       "      <td>NaN</td>\n",
       "      <td>137150000.0</td>\n",
       "      <td>152769999.0</td>\n",
       "      <td>171320000.0</td>\n",
       "      <td>206969999.0</td>\n",
       "      <td>127950000.0</td>\n",
       "      <td>59649999.0</td>\n",
       "      <td>21710000.0</td>\n",
       "      <td>8590000.0</td>\n",
       "      <td>3750000.0</td>\n",
       "      <td>1140000.0</td>\n",
       "      <td>180000.0</td>\n",
       "    </tr>\n",
       "    <tr>\n",
       "      <td>X360</td>\n",
       "      <td>NaN</td>\n",
       "      <td>NaN</td>\n",
       "      <td>NaN</td>\n",
       "      <td>NaN</td>\n",
       "      <td>NaN</td>\n",
       "      <td>8250000.0</td>\n",
       "      <td>51620000.0</td>\n",
       "      <td>95409999.0</td>\n",
       "      <td>135260000.0</td>\n",
       "      <td>120290000.0</td>\n",
       "      <td>170030000.0</td>\n",
       "      <td>143840000.0</td>\n",
       "      <td>99740000.0</td>\n",
       "      <td>88580000.0</td>\n",
       "      <td>34740000.0</td>\n",
       "      <td>11960000.0</td>\n",
       "      <td>1520000.0</td>\n",
       "    </tr>\n",
       "  </tbody>\n",
       "</table>\n",
       "</div>"
      ],
      "text/plain": [
       "year_of_release        2000         2001         2002         2003  \\\n",
       "platform                                                             \n",
       "DS                      NaN          NaN          NaN          NaN   \n",
       "GBA                 70000.0   61529999.0   74160000.0   56670000.0   \n",
       "PC                4660000.0    5470000.0    8569999.0    8840000.0   \n",
       "PS               96369998.0   35590000.0    6670000.0    2070000.0   \n",
       "PS2              39170000.0  166429996.0  205380000.0  184310000.0   \n",
       "PS3                     NaN          NaN          NaN          NaN   \n",
       "PS4                     NaN          NaN          NaN          NaN   \n",
       "PSP                     NaN          NaN          NaN          NaN   \n",
       "Wii                     NaN          NaN          NaN          NaN   \n",
       "X360                    NaN          NaN          NaN          NaN   \n",
       "\n",
       "year_of_release         2004         2005         2006         2007  \\\n",
       "platform                                                              \n",
       "DS                17270000.0  130140000.0  119810000.0  146940000.0   \n",
       "GBA               77910000.0   33860000.0    5280000.0    3400000.0   \n",
       "PC                10390000.0    4370000.0    2850000.0    9280000.0   \n",
       "PS                       NaN          NaN          NaN          NaN   \n",
       "PS2              211809998.0  160659999.0  103420000.0   75990000.0   \n",
       "PS3                      NaN          NaN   20960000.0   73190000.0   \n",
       "PS4                      NaN          NaN          NaN          NaN   \n",
       "PSP                7060000.0   43840000.0   55320000.0   46930000.0   \n",
       "Wii                      NaN          NaN  137150000.0  152769999.0   \n",
       "X360                     NaN    8250000.0   51620000.0   95409999.0   \n",
       "\n",
       "year_of_release         2008         2009         2010         2011  \\\n",
       "platform                                                              \n",
       "DS               145310000.0  119540000.0   85020000.0   26180000.0   \n",
       "GBA                      NaN          NaN          NaN          NaN   \n",
       "PC                12420000.0   16910000.0   24280000.0   35030000.0   \n",
       "PS                       NaN          NaN          NaN          NaN   \n",
       "PS2               53899999.0   26400000.0    5640000.0     450000.0   \n",
       "PS3              118520000.0  130929998.0  142170000.0  156779999.0   \n",
       "PS4                      NaN          NaN          NaN          NaN   \n",
       "PSP               34550000.0   37780000.0   35040000.0   17820000.0   \n",
       "Wii              171320000.0  206969999.0  127950000.0   59649999.0   \n",
       "X360             135260000.0  120290000.0  170030000.0  143840000.0   \n",
       "\n",
       "year_of_release         2012         2013        2014         2015        2016  \n",
       "platform                                                                        \n",
       "DS                11010000.0    1540000.0         NaN          NaN         NaN  \n",
       "GBA                      NaN          NaN         NaN          NaN         NaN  \n",
       "PC                23220000.0   12380000.0  13280000.0    8520000.0   5250000.0  \n",
       "PS                       NaN          NaN         NaN          NaN         NaN  \n",
       "PS2                      NaN          NaN         NaN          NaN         NaN  \n",
       "PS3              107360000.0  113249999.0  47759999.0   16820000.0   3600000.0  \n",
       "PS4                      NaN   25990000.0  99999998.0  118899999.0  69250000.0  \n",
       "PSP                7690000.0    3140000.0    240000.0     120000.0         NaN  \n",
       "Wii               21710000.0    8590000.0   3750000.0    1140000.0    180000.0  \n",
       "X360              99740000.0   88580000.0  34740000.0   11960000.0   1520000.0  "
      ]
     },
     "execution_count": 211,
     "metadata": {},
     "output_type": "execute_result"
    }
   ],
   "source": [
    "# построим сводную таблицу\n",
    "pivot = df_popular_platform_2000_2016.pivot_table(index = 'platform', columns='year_of_release',values = 'all_sales', aggfunc = 'sum')\n",
    "pivot.fillna(0)\n",
    "pivot"
   ]
  },
  {
   "cell_type": "code",
   "execution_count": 212,
   "metadata": {
    "scrolled": true
   },
   "outputs": [
    {
     "data": {
      "text/plain": [
       "['PS2', 'X360', 'PS3', 'Wii', 'DS', 'PS', 'GBA', 'PS4', 'PSP', 'PC']"
      ]
     },
     "execution_count": 212,
     "metadata": {},
     "output_type": "execute_result"
    }
   ],
   "source": [
    "list_of_top_popular_platform"
   ]
  },
  {
   "cell_type": "code",
   "execution_count": 213,
   "metadata": {
    "scrolled": true
   },
   "outputs": [
    {
     "data": {
      "text/html": [
       "<style  type=\"text/css\" >\n",
       "    #T_5bf849ce_9917_11eb_b72b_02420a39d5f7row0_col0 {\n",
       "            background-color:  #3b4cc0;\n",
       "            color:  #f1f1f1;\n",
       "        }    #T_5bf849ce_9917_11eb_b72b_02420a39d5f7row0_col1 {\n",
       "            background-color:  #3b4cc0;\n",
       "            color:  #f1f1f1;\n",
       "        }    #T_5bf849ce_9917_11eb_b72b_02420a39d5f7row0_col2 {\n",
       "            background-color:  #4b64d5;\n",
       "            color:  #f1f1f1;\n",
       "        }    #T_5bf849ce_9917_11eb_b72b_02420a39d5f7row0_col3 {\n",
       "            background-color:  #b40426;\n",
       "            color:  #f1f1f1;\n",
       "        }    #T_5bf849ce_9917_11eb_b72b_02420a39d5f7row0_col4 {\n",
       "            background-color:  #7699f6;\n",
       "            color:  #000000;\n",
       "        }    #T_5bf849ce_9917_11eb_b72b_02420a39d5f7row0_col5 {\n",
       "            background-color:  #3b4cc0;\n",
       "            color:  #f1f1f1;\n",
       "        }    #T_5bf849ce_9917_11eb_b72b_02420a39d5f7row0_col6 {\n",
       "            background-color:  #3b4cc0;\n",
       "            color:  #f1f1f1;\n",
       "        }    #T_5bf849ce_9917_11eb_b72b_02420a39d5f7row0_col7 {\n",
       "            background-color:  #3b4cc0;\n",
       "            color:  #f1f1f1;\n",
       "        }    #T_5bf849ce_9917_11eb_b72b_02420a39d5f7row0_col8 {\n",
       "            background-color:  #3b4cc0;\n",
       "            color:  #f1f1f1;\n",
       "        }    #T_5bf849ce_9917_11eb_b72b_02420a39d5f7row0_col9 {\n",
       "            background-color:  #3b4cc0;\n",
       "            color:  #f1f1f1;\n",
       "        }    #T_5bf849ce_9917_11eb_b72b_02420a39d5f7row1_col0 {\n",
       "            background-color:  #3b4cc0;\n",
       "            color:  #f1f1f1;\n",
       "        }    #T_5bf849ce_9917_11eb_b72b_02420a39d5f7row1_col1 {\n",
       "            background-color:  #ef886b;\n",
       "            color:  #000000;\n",
       "        }    #T_5bf849ce_9917_11eb_b72b_02420a39d5f7row1_col2 {\n",
       "            background-color:  #536edd;\n",
       "            color:  #000000;\n",
       "        }    #T_5bf849ce_9917_11eb_b72b_02420a39d5f7row1_col3 {\n",
       "            background-color:  #b6cefa;\n",
       "            color:  #000000;\n",
       "        }    #T_5bf849ce_9917_11eb_b72b_02420a39d5f7row1_col4 {\n",
       "            background-color:  #f08a6c;\n",
       "            color:  #000000;\n",
       "        }    #T_5bf849ce_9917_11eb_b72b_02420a39d5f7row1_col5 {\n",
       "            background-color:  #3b4cc0;\n",
       "            color:  #f1f1f1;\n",
       "        }    #T_5bf849ce_9917_11eb_b72b_02420a39d5f7row1_col6 {\n",
       "            background-color:  #3b4cc0;\n",
       "            color:  #f1f1f1;\n",
       "        }    #T_5bf849ce_9917_11eb_b72b_02420a39d5f7row1_col7 {\n",
       "            background-color:  #3b4cc0;\n",
       "            color:  #f1f1f1;\n",
       "        }    #T_5bf849ce_9917_11eb_b72b_02420a39d5f7row1_col8 {\n",
       "            background-color:  #3b4cc0;\n",
       "            color:  #f1f1f1;\n",
       "        }    #T_5bf849ce_9917_11eb_b72b_02420a39d5f7row1_col9 {\n",
       "            background-color:  #3b4cc0;\n",
       "            color:  #f1f1f1;\n",
       "        }    #T_5bf849ce_9917_11eb_b72b_02420a39d5f7row2_col0 {\n",
       "            background-color:  #3b4cc0;\n",
       "            color:  #f1f1f1;\n",
       "        }    #T_5bf849ce_9917_11eb_b72b_02420a39d5f7row2_col1 {\n",
       "            background-color:  #c53334;\n",
       "            color:  #f1f1f1;\n",
       "        }    #T_5bf849ce_9917_11eb_b72b_02420a39d5f7row2_col2 {\n",
       "            background-color:  #7396f5;\n",
       "            color:  #000000;\n",
       "        }    #T_5bf849ce_9917_11eb_b72b_02420a39d5f7row2_col3 {\n",
       "            background-color:  #4f69d9;\n",
       "            color:  #000000;\n",
       "        }    #T_5bf849ce_9917_11eb_b72b_02420a39d5f7row2_col4 {\n",
       "            background-color:  #be242e;\n",
       "            color:  #f1f1f1;\n",
       "        }    #T_5bf849ce_9917_11eb_b72b_02420a39d5f7row2_col5 {\n",
       "            background-color:  #3b4cc0;\n",
       "            color:  #f1f1f1;\n",
       "        }    #T_5bf849ce_9917_11eb_b72b_02420a39d5f7row2_col6 {\n",
       "            background-color:  #3b4cc0;\n",
       "            color:  #f1f1f1;\n",
       "        }    #T_5bf849ce_9917_11eb_b72b_02420a39d5f7row2_col7 {\n",
       "            background-color:  #3b4cc0;\n",
       "            color:  #f1f1f1;\n",
       "        }    #T_5bf849ce_9917_11eb_b72b_02420a39d5f7row2_col8 {\n",
       "            background-color:  #3b4cc0;\n",
       "            color:  #f1f1f1;\n",
       "        }    #T_5bf849ce_9917_11eb_b72b_02420a39d5f7row2_col9 {\n",
       "            background-color:  #3b4cc0;\n",
       "            color:  #f1f1f1;\n",
       "        }    #T_5bf849ce_9917_11eb_b72b_02420a39d5f7row3_col0 {\n",
       "            background-color:  #3b4cc0;\n",
       "            color:  #f1f1f1;\n",
       "        }    #T_5bf849ce_9917_11eb_b72b_02420a39d5f7row3_col1 {\n",
       "            background-color:  #f6a283;\n",
       "            color:  #000000;\n",
       "        }    #T_5bf849ce_9917_11eb_b72b_02420a39d5f7row3_col2 {\n",
       "            background-color:  #7699f6;\n",
       "            color:  #000000;\n",
       "        }    #T_5bf849ce_9917_11eb_b72b_02420a39d5f7row3_col3 {\n",
       "            background-color:  #4055c8;\n",
       "            color:  #f1f1f1;\n",
       "        }    #T_5bf849ce_9917_11eb_b72b_02420a39d5f7row3_col4 {\n",
       "            background-color:  #df634e;\n",
       "            color:  #000000;\n",
       "        }    #T_5bf849ce_9917_11eb_b72b_02420a39d5f7row3_col5 {\n",
       "            background-color:  #3b4cc0;\n",
       "            color:  #f1f1f1;\n",
       "        }    #T_5bf849ce_9917_11eb_b72b_02420a39d5f7row3_col6 {\n",
       "            background-color:  #3b4cc0;\n",
       "            color:  #f1f1f1;\n",
       "        }    #T_5bf849ce_9917_11eb_b72b_02420a39d5f7row3_col7 {\n",
       "            background-color:  #3b4cc0;\n",
       "            color:  #f1f1f1;\n",
       "        }    #T_5bf849ce_9917_11eb_b72b_02420a39d5f7row3_col8 {\n",
       "            background-color:  #3b4cc0;\n",
       "            color:  #f1f1f1;\n",
       "        }    #T_5bf849ce_9917_11eb_b72b_02420a39d5f7row3_col9 {\n",
       "            background-color:  #3b4cc0;\n",
       "            color:  #f1f1f1;\n",
       "        }    #T_5bf849ce_9917_11eb_b72b_02420a39d5f7row4_col0 {\n",
       "            background-color:  #5f7fe8;\n",
       "            color:  #000000;\n",
       "        }    #T_5bf849ce_9917_11eb_b72b_02420a39d5f7row4_col1 {\n",
       "            background-color:  #b40426;\n",
       "            color:  #f1f1f1;\n",
       "        }    #T_5bf849ce_9917_11eb_b72b_02420a39d5f7row4_col2 {\n",
       "            background-color:  #86a9fc;\n",
       "            color:  #000000;\n",
       "        }    #T_5bf849ce_9917_11eb_b72b_02420a39d5f7row4_col3 {\n",
       "            background-color:  #3b4cc0;\n",
       "            color:  #f1f1f1;\n",
       "        }    #T_5bf849ce_9917_11eb_b72b_02420a39d5f7row4_col4 {\n",
       "            background-color:  #b40426;\n",
       "            color:  #f1f1f1;\n",
       "        }    #T_5bf849ce_9917_11eb_b72b_02420a39d5f7row4_col5 {\n",
       "            background-color:  #3b4cc0;\n",
       "            color:  #f1f1f1;\n",
       "        }    #T_5bf849ce_9917_11eb_b72b_02420a39d5f7row4_col6 {\n",
       "            background-color:  #3b4cc0;\n",
       "            color:  #f1f1f1;\n",
       "        }    #T_5bf849ce_9917_11eb_b72b_02420a39d5f7row4_col7 {\n",
       "            background-color:  #6282ea;\n",
       "            color:  #000000;\n",
       "        }    #T_5bf849ce_9917_11eb_b72b_02420a39d5f7row4_col8 {\n",
       "            background-color:  #3b4cc0;\n",
       "            color:  #f1f1f1;\n",
       "        }    #T_5bf849ce_9917_11eb_b72b_02420a39d5f7row4_col9 {\n",
       "            background-color:  #3b4cc0;\n",
       "            color:  #f1f1f1;\n",
       "        }    #T_5bf849ce_9917_11eb_b72b_02420a39d5f7row5_col0 {\n",
       "            background-color:  #da5a49;\n",
       "            color:  #000000;\n",
       "        }    #T_5bf849ce_9917_11eb_b72b_02420a39d5f7row5_col1 {\n",
       "            background-color:  #cbd8ee;\n",
       "            color:  #000000;\n",
       "        }    #T_5bf849ce_9917_11eb_b72b_02420a39d5f7row5_col2 {\n",
       "            background-color:  #4961d2;\n",
       "            color:  #f1f1f1;\n",
       "        }    #T_5bf849ce_9917_11eb_b72b_02420a39d5f7row5_col3 {\n",
       "            background-color:  #3b4cc0;\n",
       "            color:  #f1f1f1;\n",
       "        }    #T_5bf849ce_9917_11eb_b72b_02420a39d5f7row5_col4 {\n",
       "            background-color:  #f39577;\n",
       "            color:  #000000;\n",
       "        }    #T_5bf849ce_9917_11eb_b72b_02420a39d5f7row5_col5 {\n",
       "            background-color:  #3b4cc0;\n",
       "            color:  #f1f1f1;\n",
       "        }    #T_5bf849ce_9917_11eb_b72b_02420a39d5f7row5_col6 {\n",
       "            background-color:  #3b4cc0;\n",
       "            color:  #f1f1f1;\n",
       "        }    #T_5bf849ce_9917_11eb_b72b_02420a39d5f7row5_col7 {\n",
       "            background-color:  #ef886b;\n",
       "            color:  #000000;\n",
       "        }    #T_5bf849ce_9917_11eb_b72b_02420a39d5f7row5_col8 {\n",
       "            background-color:  #3b4cc0;\n",
       "            color:  #f1f1f1;\n",
       "        }    #T_5bf849ce_9917_11eb_b72b_02420a39d5f7row5_col9 {\n",
       "            background-color:  #4961d2;\n",
       "            color:  #f1f1f1;\n",
       "        }    #T_5bf849ce_9917_11eb_b72b_02420a39d5f7row6_col0 {\n",
       "            background-color:  #eb7d62;\n",
       "            color:  #000000;\n",
       "        }    #T_5bf849ce_9917_11eb_b72b_02420a39d5f7row6_col1 {\n",
       "            background-color:  #4f69d9;\n",
       "            color:  #000000;\n",
       "        }    #T_5bf849ce_9917_11eb_b72b_02420a39d5f7row6_col2 {\n",
       "            background-color:  #3b4cc0;\n",
       "            color:  #f1f1f1;\n",
       "        }    #T_5bf849ce_9917_11eb_b72b_02420a39d5f7row6_col3 {\n",
       "            background-color:  #3b4cc0;\n",
       "            color:  #f1f1f1;\n",
       "        }    #T_5bf849ce_9917_11eb_b72b_02420a39d5f7row6_col4 {\n",
       "            background-color:  #d9dce1;\n",
       "            color:  #000000;\n",
       "        }    #T_5bf849ce_9917_11eb_b72b_02420a39d5f7row6_col5 {\n",
       "            background-color:  #6485ec;\n",
       "            color:  #000000;\n",
       "        }    #T_5bf849ce_9917_11eb_b72b_02420a39d5f7row6_col6 {\n",
       "            background-color:  #3b4cc0;\n",
       "            color:  #f1f1f1;\n",
       "        }    #T_5bf849ce_9917_11eb_b72b_02420a39d5f7row6_col7 {\n",
       "            background-color:  #b40426;\n",
       "            color:  #f1f1f1;\n",
       "        }    #T_5bf849ce_9917_11eb_b72b_02420a39d5f7row6_col8 {\n",
       "            background-color:  #f7b99e;\n",
       "            color:  #000000;\n",
       "        }    #T_5bf849ce_9917_11eb_b72b_02420a39d5f7row6_col9 {\n",
       "            background-color:  #9fbfff;\n",
       "            color:  #000000;\n",
       "        }    #T_5bf849ce_9917_11eb_b72b_02420a39d5f7row7_col0 {\n",
       "            background-color:  #b40426;\n",
       "            color:  #f1f1f1;\n",
       "        }    #T_5bf849ce_9917_11eb_b72b_02420a39d5f7row7_col1 {\n",
       "            background-color:  #485fd1;\n",
       "            color:  #f1f1f1;\n",
       "        }    #T_5bf849ce_9917_11eb_b72b_02420a39d5f7row7_col2 {\n",
       "            background-color:  #7b9ff9;\n",
       "            color:  #000000;\n",
       "        }    #T_5bf849ce_9917_11eb_b72b_02420a39d5f7row7_col3 {\n",
       "            background-color:  #3b4cc0;\n",
       "            color:  #f1f1f1;\n",
       "        }    #T_5bf849ce_9917_11eb_b72b_02420a39d5f7row7_col4 {\n",
       "            background-color:  #b2ccfb;\n",
       "            color:  #000000;\n",
       "        }    #T_5bf849ce_9917_11eb_b72b_02420a39d5f7row7_col5 {\n",
       "            background-color:  #d4dbe6;\n",
       "            color:  #000000;\n",
       "        }    #T_5bf849ce_9917_11eb_b72b_02420a39d5f7row7_col6 {\n",
       "            background-color:  #3b4cc0;\n",
       "            color:  #f1f1f1;\n",
       "        }    #T_5bf849ce_9917_11eb_b72b_02420a39d5f7row7_col7 {\n",
       "            background-color:  #e36c55;\n",
       "            color:  #000000;\n",
       "        }    #T_5bf849ce_9917_11eb_b72b_02420a39d5f7row7_col8 {\n",
       "            background-color:  #f59f80;\n",
       "            color:  #000000;\n",
       "        }    #T_5bf849ce_9917_11eb_b72b_02420a39d5f7row7_col9 {\n",
       "            background-color:  #ebd3c6;\n",
       "            color:  #000000;\n",
       "        }    #T_5bf849ce_9917_11eb_b72b_02420a39d5f7row8_col0 {\n",
       "            background-color:  #b70d28;\n",
       "            color:  #f1f1f1;\n",
       "        }    #T_5bf849ce_9917_11eb_b72b_02420a39d5f7row8_col1 {\n",
       "            background-color:  #3b4cc0;\n",
       "            color:  #f1f1f1;\n",
       "        }    #T_5bf849ce_9917_11eb_b72b_02420a39d5f7row8_col2 {\n",
       "            background-color:  #9ebeff;\n",
       "            color:  #000000;\n",
       "        }    #T_5bf849ce_9917_11eb_b72b_02420a39d5f7row8_col3 {\n",
       "            background-color:  #3b4cc0;\n",
       "            color:  #f1f1f1;\n",
       "        }    #T_5bf849ce_9917_11eb_b72b_02420a39d5f7row8_col4 {\n",
       "            background-color:  #8fb1fe;\n",
       "            color:  #000000;\n",
       "        }    #T_5bf849ce_9917_11eb_b72b_02420a39d5f7row8_col5 {\n",
       "            background-color:  #f39778;\n",
       "            color:  #000000;\n",
       "        }    #T_5bf849ce_9917_11eb_b72b_02420a39d5f7row8_col6 {\n",
       "            background-color:  #3b4cc0;\n",
       "            color:  #f1f1f1;\n",
       "        }    #T_5bf849ce_9917_11eb_b72b_02420a39d5f7row8_col7 {\n",
       "            background-color:  #f4c5ad;\n",
       "            color:  #000000;\n",
       "        }    #T_5bf849ce_9917_11eb_b72b_02420a39d5f7row8_col8 {\n",
       "            background-color:  #e9785d;\n",
       "            color:  #000000;\n",
       "        }    #T_5bf849ce_9917_11eb_b72b_02420a39d5f7row8_col9 {\n",
       "            background-color:  #ee8669;\n",
       "            color:  #000000;\n",
       "        }    #T_5bf849ce_9917_11eb_b72b_02420a39d5f7row9_col0 {\n",
       "            background-color:  #eb7d62;\n",
       "            color:  #000000;\n",
       "        }    #T_5bf849ce_9917_11eb_b72b_02420a39d5f7row9_col1 {\n",
       "            background-color:  #3b4cc0;\n",
       "            color:  #f1f1f1;\n",
       "        }    #T_5bf849ce_9917_11eb_b72b_02420a39d5f7row9_col2 {\n",
       "            background-color:  #cbd8ee;\n",
       "            color:  #000000;\n",
       "        }    #T_5bf849ce_9917_11eb_b72b_02420a39d5f7row9_col3 {\n",
       "            background-color:  #3b4cc0;\n",
       "            color:  #f1f1f1;\n",
       "        }    #T_5bf849ce_9917_11eb_b72b_02420a39d5f7row9_col4 {\n",
       "            background-color:  #6180e9;\n",
       "            color:  #000000;\n",
       "        }    #T_5bf849ce_9917_11eb_b72b_02420a39d5f7row9_col5 {\n",
       "            background-color:  #e7745b;\n",
       "            color:  #000000;\n",
       "        }    #T_5bf849ce_9917_11eb_b72b_02420a39d5f7row9_col6 {\n",
       "            background-color:  #3b4cc0;\n",
       "            color:  #f1f1f1;\n",
       "        }    #T_5bf849ce_9917_11eb_b72b_02420a39d5f7row9_col7 {\n",
       "            background-color:  #f7b396;\n",
       "            color:  #000000;\n",
       "        }    #T_5bf849ce_9917_11eb_b72b_02420a39d5f7row9_col8 {\n",
       "            background-color:  #b40426;\n",
       "            color:  #f1f1f1;\n",
       "        }    #T_5bf849ce_9917_11eb_b72b_02420a39d5f7row9_col9 {\n",
       "            background-color:  #f7a98b;\n",
       "            color:  #000000;\n",
       "        }    #T_5bf849ce_9917_11eb_b72b_02420a39d5f7row10_col0 {\n",
       "            background-color:  #efcfbf;\n",
       "            color:  #000000;\n",
       "        }    #T_5bf849ce_9917_11eb_b72b_02420a39d5f7row10_col1 {\n",
       "            background-color:  #3b4cc0;\n",
       "            color:  #f1f1f1;\n",
       "        }    #T_5bf849ce_9917_11eb_b72b_02420a39d5f7row10_col2 {\n",
       "            background-color:  #f7b89c;\n",
       "            color:  #000000;\n",
       "        }    #T_5bf849ce_9917_11eb_b72b_02420a39d5f7row10_col3 {\n",
       "            background-color:  #3b4cc0;\n",
       "            color:  #f1f1f1;\n",
       "        }    #T_5bf849ce_9917_11eb_b72b_02420a39d5f7row10_col4 {\n",
       "            background-color:  #4257c9;\n",
       "            color:  #f1f1f1;\n",
       "        }    #T_5bf849ce_9917_11eb_b72b_02420a39d5f7row10_col5 {\n",
       "            background-color:  #d44e41;\n",
       "            color:  #000000;\n",
       "        }    #T_5bf849ce_9917_11eb_b72b_02420a39d5f7row10_col6 {\n",
       "            background-color:  #3b4cc0;\n",
       "            color:  #f1f1f1;\n",
       "        }    #T_5bf849ce_9917_11eb_b72b_02420a39d5f7row10_col7 {\n",
       "            background-color:  #f5c1a9;\n",
       "            color:  #000000;\n",
       "        }    #T_5bf849ce_9917_11eb_b72b_02420a39d5f7row10_col8 {\n",
       "            background-color:  #f4c6af;\n",
       "            color:  #000000;\n",
       "        }    #T_5bf849ce_9917_11eb_b72b_02420a39d5f7row10_col9 {\n",
       "            background-color:  #b40426;\n",
       "            color:  #f1f1f1;\n",
       "        }    #T_5bf849ce_9917_11eb_b72b_02420a39d5f7row11_col0 {\n",
       "            background-color:  #7396f5;\n",
       "            color:  #000000;\n",
       "        }    #T_5bf849ce_9917_11eb_b72b_02420a39d5f7row11_col1 {\n",
       "            background-color:  #3b4cc0;\n",
       "            color:  #f1f1f1;\n",
       "        }    #T_5bf849ce_9917_11eb_b72b_02420a39d5f7row11_col2 {\n",
       "            background-color:  #b40426;\n",
       "            color:  #f1f1f1;\n",
       "        }    #T_5bf849ce_9917_11eb_b72b_02420a39d5f7row11_col3 {\n",
       "            background-color:  #3b4cc0;\n",
       "            color:  #f1f1f1;\n",
       "        }    #T_5bf849ce_9917_11eb_b72b_02420a39d5f7row11_col4 {\n",
       "            background-color:  #3b4cc0;\n",
       "            color:  #f1f1f1;\n",
       "        }    #T_5bf849ce_9917_11eb_b72b_02420a39d5f7row11_col5 {\n",
       "            background-color:  #b40426;\n",
       "            color:  #f1f1f1;\n",
       "        }    #T_5bf849ce_9917_11eb_b72b_02420a39d5f7row11_col6 {\n",
       "            background-color:  #3b4cc0;\n",
       "            color:  #f1f1f1;\n",
       "        }    #T_5bf849ce_9917_11eb_b72b_02420a39d5f7row11_col7 {\n",
       "            background-color:  #a6c4fe;\n",
       "            color:  #000000;\n",
       "        }    #T_5bf849ce_9917_11eb_b72b_02420a39d5f7row11_col8 {\n",
       "            background-color:  #9abbff;\n",
       "            color:  #000000;\n",
       "        }    #T_5bf849ce_9917_11eb_b72b_02420a39d5f7row11_col9 {\n",
       "            background-color:  #e46e56;\n",
       "            color:  #000000;\n",
       "        }    #T_5bf849ce_9917_11eb_b72b_02420a39d5f7row12_col0 {\n",
       "            background-color:  #516ddb;\n",
       "            color:  #000000;\n",
       "        }    #T_5bf849ce_9917_11eb_b72b_02420a39d5f7row12_col1 {\n",
       "            background-color:  #3b4cc0;\n",
       "            color:  #f1f1f1;\n",
       "        }    #T_5bf849ce_9917_11eb_b72b_02420a39d5f7row12_col2 {\n",
       "            background-color:  #f5c1a9;\n",
       "            color:  #000000;\n",
       "        }    #T_5bf849ce_9917_11eb_b72b_02420a39d5f7row12_col3 {\n",
       "            background-color:  #3b4cc0;\n",
       "            color:  #f1f1f1;\n",
       "        }    #T_5bf849ce_9917_11eb_b72b_02420a39d5f7row12_col4 {\n",
       "            background-color:  #3b4cc0;\n",
       "            color:  #f1f1f1;\n",
       "        }    #T_5bf849ce_9917_11eb_b72b_02420a39d5f7row12_col5 {\n",
       "            background-color:  #f7b194;\n",
       "            color:  #000000;\n",
       "        }    #T_5bf849ce_9917_11eb_b72b_02420a39d5f7row12_col6 {\n",
       "            background-color:  #3b4cc0;\n",
       "            color:  #f1f1f1;\n",
       "        }    #T_5bf849ce_9917_11eb_b72b_02420a39d5f7row12_col7 {\n",
       "            background-color:  #6687ed;\n",
       "            color:  #000000;\n",
       "        }    #T_5bf849ce_9917_11eb_b72b_02420a39d5f7row12_col8 {\n",
       "            background-color:  #5a78e4;\n",
       "            color:  #000000;\n",
       "        }    #T_5bf849ce_9917_11eb_b72b_02420a39d5f7row12_col9 {\n",
       "            background-color:  #f0cdbb;\n",
       "            color:  #000000;\n",
       "        }    #T_5bf849ce_9917_11eb_b72b_02420a39d5f7row13_col0 {\n",
       "            background-color:  #3d50c3;\n",
       "            color:  #f1f1f1;\n",
       "        }    #T_5bf849ce_9917_11eb_b72b_02420a39d5f7row13_col1 {\n",
       "            background-color:  #3b4cc0;\n",
       "            color:  #f1f1f1;\n",
       "        }    #T_5bf849ce_9917_11eb_b72b_02420a39d5f7row13_col2 {\n",
       "            background-color:  #9dbdff;\n",
       "            color:  #000000;\n",
       "        }    #T_5bf849ce_9917_11eb_b72b_02420a39d5f7row13_col3 {\n",
       "            background-color:  #3b4cc0;\n",
       "            color:  #f1f1f1;\n",
       "        }    #T_5bf849ce_9917_11eb_b72b_02420a39d5f7row13_col4 {\n",
       "            background-color:  #3b4cc0;\n",
       "            color:  #f1f1f1;\n",
       "        }    #T_5bf849ce_9917_11eb_b72b_02420a39d5f7row13_col5 {\n",
       "            background-color:  #f6a586;\n",
       "            color:  #000000;\n",
       "        }    #T_5bf849ce_9917_11eb_b72b_02420a39d5f7row13_col6 {\n",
       "            background-color:  #81a4fb;\n",
       "            color:  #000000;\n",
       "        }    #T_5bf849ce_9917_11eb_b72b_02420a39d5f7row13_col7 {\n",
       "            background-color:  #4b64d5;\n",
       "            color:  #f1f1f1;\n",
       "        }    #T_5bf849ce_9917_11eb_b72b_02420a39d5f7row13_col8 {\n",
       "            background-color:  #465ecf;\n",
       "            color:  #f1f1f1;\n",
       "        }    #T_5bf849ce_9917_11eb_b72b_02420a39d5f7row13_col9 {\n",
       "            background-color:  #e2dad5;\n",
       "            color:  #000000;\n",
       "        }    #T_5bf849ce_9917_11eb_b72b_02420a39d5f7row14_col0 {\n",
       "            background-color:  #3b4cc0;\n",
       "            color:  #f1f1f1;\n",
       "        }    #T_5bf849ce_9917_11eb_b72b_02420a39d5f7row14_col1 {\n",
       "            background-color:  #3b4cc0;\n",
       "            color:  #f1f1f1;\n",
       "        }    #T_5bf849ce_9917_11eb_b72b_02420a39d5f7row14_col2 {\n",
       "            background-color:  #a6c4fe;\n",
       "            color:  #000000;\n",
       "        }    #T_5bf849ce_9917_11eb_b72b_02420a39d5f7row14_col3 {\n",
       "            background-color:  #3b4cc0;\n",
       "            color:  #f1f1f1;\n",
       "        }    #T_5bf849ce_9917_11eb_b72b_02420a39d5f7row14_col4 {\n",
       "            background-color:  #3b4cc0;\n",
       "            color:  #f1f1f1;\n",
       "        }    #T_5bf849ce_9917_11eb_b72b_02420a39d5f7row14_col5 {\n",
       "            background-color:  #9fbfff;\n",
       "            color:  #000000;\n",
       "        }    #T_5bf849ce_9917_11eb_b72b_02420a39d5f7row14_col6 {\n",
       "            background-color:  #e57058;\n",
       "            color:  #000000;\n",
       "        }    #T_5bf849ce_9917_11eb_b72b_02420a39d5f7row14_col7 {\n",
       "            background-color:  #3c4ec2;\n",
       "            color:  #f1f1f1;\n",
       "        }    #T_5bf849ce_9917_11eb_b72b_02420a39d5f7row14_col8 {\n",
       "            background-color:  #3f53c6;\n",
       "            color:  #f1f1f1;\n",
       "        }    #T_5bf849ce_9917_11eb_b72b_02420a39d5f7row14_col9 {\n",
       "            background-color:  #7da0f9;\n",
       "            color:  #000000;\n",
       "        }    #T_5bf849ce_9917_11eb_b72b_02420a39d5f7row15_col0 {\n",
       "            background-color:  #3b4cc0;\n",
       "            color:  #f1f1f1;\n",
       "        }    #T_5bf849ce_9917_11eb_b72b_02420a39d5f7row15_col1 {\n",
       "            background-color:  #3b4cc0;\n",
       "            color:  #f1f1f1;\n",
       "        }    #T_5bf849ce_9917_11eb_b72b_02420a39d5f7row15_col2 {\n",
       "            background-color:  #7396f5;\n",
       "            color:  #000000;\n",
       "        }    #T_5bf849ce_9917_11eb_b72b_02420a39d5f7row15_col3 {\n",
       "            background-color:  #3b4cc0;\n",
       "            color:  #f1f1f1;\n",
       "        }    #T_5bf849ce_9917_11eb_b72b_02420a39d5f7row15_col4 {\n",
       "            background-color:  #3b4cc0;\n",
       "            color:  #f1f1f1;\n",
       "        }    #T_5bf849ce_9917_11eb_b72b_02420a39d5f7row15_col5 {\n",
       "            background-color:  #5b7ae5;\n",
       "            color:  #000000;\n",
       "        }    #T_5bf849ce_9917_11eb_b72b_02420a39d5f7row15_col6 {\n",
       "            background-color:  #b40426;\n",
       "            color:  #f1f1f1;\n",
       "        }    #T_5bf849ce_9917_11eb_b72b_02420a39d5f7row15_col7 {\n",
       "            background-color:  #3b4cc0;\n",
       "            color:  #f1f1f1;\n",
       "        }    #T_5bf849ce_9917_11eb_b72b_02420a39d5f7row15_col8 {\n",
       "            background-color:  #3c4ec2;\n",
       "            color:  #f1f1f1;\n",
       "        }    #T_5bf849ce_9917_11eb_b72b_02420a39d5f7row15_col9 {\n",
       "            background-color:  #506bda;\n",
       "            color:  #000000;\n",
       "        }    #T_5bf849ce_9917_11eb_b72b_02420a39d5f7row16_col0 {\n",
       "            background-color:  #3b4cc0;\n",
       "            color:  #f1f1f1;\n",
       "        }    #T_5bf849ce_9917_11eb_b72b_02420a39d5f7row16_col1 {\n",
       "            background-color:  #3b4cc0;\n",
       "            color:  #f1f1f1;\n",
       "        }    #T_5bf849ce_9917_11eb_b72b_02420a39d5f7row16_col2 {\n",
       "            background-color:  #516ddb;\n",
       "            color:  #000000;\n",
       "        }    #T_5bf849ce_9917_11eb_b72b_02420a39d5f7row16_col3 {\n",
       "            background-color:  #3b4cc0;\n",
       "            color:  #f1f1f1;\n",
       "        }    #T_5bf849ce_9917_11eb_b72b_02420a39d5f7row16_col4 {\n",
       "            background-color:  #3b4cc0;\n",
       "            color:  #f1f1f1;\n",
       "        }    #T_5bf849ce_9917_11eb_b72b_02420a39d5f7row16_col5 {\n",
       "            background-color:  #4055c8;\n",
       "            color:  #f1f1f1;\n",
       "        }    #T_5bf849ce_9917_11eb_b72b_02420a39d5f7row16_col6 {\n",
       "            background-color:  #efcebd;\n",
       "            color:  #000000;\n",
       "        }    #T_5bf849ce_9917_11eb_b72b_02420a39d5f7row16_col7 {\n",
       "            background-color:  #3b4cc0;\n",
       "            color:  #f1f1f1;\n",
       "        }    #T_5bf849ce_9917_11eb_b72b_02420a39d5f7row16_col8 {\n",
       "            background-color:  #3b4cc0;\n",
       "            color:  #f1f1f1;\n",
       "        }    #T_5bf849ce_9917_11eb_b72b_02420a39d5f7row16_col9 {\n",
       "            background-color:  #3d50c3;\n",
       "            color:  #f1f1f1;\n",
       "        }</style><table id=\"T_5bf849ce_9917_11eb_b72b_02420a39d5f7\" ><thead>    <tr>        <th class=\"index_name level0\" >platform</th>        <th class=\"col_heading level0 col0\" >DS</th>        <th class=\"col_heading level0 col1\" >GBA</th>        <th class=\"col_heading level0 col2\" >PC</th>        <th class=\"col_heading level0 col3\" >PS</th>        <th class=\"col_heading level0 col4\" >PS2</th>        <th class=\"col_heading level0 col5\" >PS3</th>        <th class=\"col_heading level0 col6\" >PS4</th>        <th class=\"col_heading level0 col7\" >PSP</th>        <th class=\"col_heading level0 col8\" >Wii</th>        <th class=\"col_heading level0 col9\" >X360</th>    </tr>    <tr>        <th class=\"index_name level0\" >year_of_release</th>        <th class=\"blank\" ></th>        <th class=\"blank\" ></th>        <th class=\"blank\" ></th>        <th class=\"blank\" ></th>        <th class=\"blank\" ></th>        <th class=\"blank\" ></th>        <th class=\"blank\" ></th>        <th class=\"blank\" ></th>        <th class=\"blank\" ></th>        <th class=\"blank\" ></th>    </tr></thead><tbody>\n",
       "                <tr>\n",
       "                        <th id=\"T_5bf849ce_9917_11eb_b72b_02420a39d5f7level0_row0\" class=\"row_heading level0 row0\" >2000</th>\n",
       "                        <td id=\"T_5bf849ce_9917_11eb_b72b_02420a39d5f7row0_col0\" class=\"data row0 col0\" >0</td>\n",
       "                        <td id=\"T_5bf849ce_9917_11eb_b72b_02420a39d5f7row0_col1\" class=\"data row0 col1\" >70000</td>\n",
       "                        <td id=\"T_5bf849ce_9917_11eb_b72b_02420a39d5f7row0_col2\" class=\"data row0 col2\" >4.66e+06</td>\n",
       "                        <td id=\"T_5bf849ce_9917_11eb_b72b_02420a39d5f7row0_col3\" class=\"data row0 col3\" >9.637e+07</td>\n",
       "                        <td id=\"T_5bf849ce_9917_11eb_b72b_02420a39d5f7row0_col4\" class=\"data row0 col4\" >3.917e+07</td>\n",
       "                        <td id=\"T_5bf849ce_9917_11eb_b72b_02420a39d5f7row0_col5\" class=\"data row0 col5\" >0</td>\n",
       "                        <td id=\"T_5bf849ce_9917_11eb_b72b_02420a39d5f7row0_col6\" class=\"data row0 col6\" >0</td>\n",
       "                        <td id=\"T_5bf849ce_9917_11eb_b72b_02420a39d5f7row0_col7\" class=\"data row0 col7\" >0</td>\n",
       "                        <td id=\"T_5bf849ce_9917_11eb_b72b_02420a39d5f7row0_col8\" class=\"data row0 col8\" >0</td>\n",
       "                        <td id=\"T_5bf849ce_9917_11eb_b72b_02420a39d5f7row0_col9\" class=\"data row0 col9\" >0</td>\n",
       "            </tr>\n",
       "            <tr>\n",
       "                        <th id=\"T_5bf849ce_9917_11eb_b72b_02420a39d5f7level0_row1\" class=\"row_heading level0 row1\" >2001</th>\n",
       "                        <td id=\"T_5bf849ce_9917_11eb_b72b_02420a39d5f7row1_col0\" class=\"data row1 col0\" >0</td>\n",
       "                        <td id=\"T_5bf849ce_9917_11eb_b72b_02420a39d5f7row1_col1\" class=\"data row1 col1\" >6.153e+07</td>\n",
       "                        <td id=\"T_5bf849ce_9917_11eb_b72b_02420a39d5f7row1_col2\" class=\"data row1 col2\" >5.47e+06</td>\n",
       "                        <td id=\"T_5bf849ce_9917_11eb_b72b_02420a39d5f7row1_col3\" class=\"data row1 col3\" >3.559e+07</td>\n",
       "                        <td id=\"T_5bf849ce_9917_11eb_b72b_02420a39d5f7row1_col4\" class=\"data row1 col4\" >1.6643e+08</td>\n",
       "                        <td id=\"T_5bf849ce_9917_11eb_b72b_02420a39d5f7row1_col5\" class=\"data row1 col5\" >0</td>\n",
       "                        <td id=\"T_5bf849ce_9917_11eb_b72b_02420a39d5f7row1_col6\" class=\"data row1 col6\" >0</td>\n",
       "                        <td id=\"T_5bf849ce_9917_11eb_b72b_02420a39d5f7row1_col7\" class=\"data row1 col7\" >0</td>\n",
       "                        <td id=\"T_5bf849ce_9917_11eb_b72b_02420a39d5f7row1_col8\" class=\"data row1 col8\" >0</td>\n",
       "                        <td id=\"T_5bf849ce_9917_11eb_b72b_02420a39d5f7row1_col9\" class=\"data row1 col9\" >0</td>\n",
       "            </tr>\n",
       "            <tr>\n",
       "                        <th id=\"T_5bf849ce_9917_11eb_b72b_02420a39d5f7level0_row2\" class=\"row_heading level0 row2\" >2002</th>\n",
       "                        <td id=\"T_5bf849ce_9917_11eb_b72b_02420a39d5f7row2_col0\" class=\"data row2 col0\" >0</td>\n",
       "                        <td id=\"T_5bf849ce_9917_11eb_b72b_02420a39d5f7row2_col1\" class=\"data row2 col1\" >7.416e+07</td>\n",
       "                        <td id=\"T_5bf849ce_9917_11eb_b72b_02420a39d5f7row2_col2\" class=\"data row2 col2\" >8.57e+06</td>\n",
       "                        <td id=\"T_5bf849ce_9917_11eb_b72b_02420a39d5f7row2_col3\" class=\"data row2 col3\" >6.67e+06</td>\n",
       "                        <td id=\"T_5bf849ce_9917_11eb_b72b_02420a39d5f7row2_col4\" class=\"data row2 col4\" >2.0538e+08</td>\n",
       "                        <td id=\"T_5bf849ce_9917_11eb_b72b_02420a39d5f7row2_col5\" class=\"data row2 col5\" >0</td>\n",
       "                        <td id=\"T_5bf849ce_9917_11eb_b72b_02420a39d5f7row2_col6\" class=\"data row2 col6\" >0</td>\n",
       "                        <td id=\"T_5bf849ce_9917_11eb_b72b_02420a39d5f7row2_col7\" class=\"data row2 col7\" >0</td>\n",
       "                        <td id=\"T_5bf849ce_9917_11eb_b72b_02420a39d5f7row2_col8\" class=\"data row2 col8\" >0</td>\n",
       "                        <td id=\"T_5bf849ce_9917_11eb_b72b_02420a39d5f7row2_col9\" class=\"data row2 col9\" >0</td>\n",
       "            </tr>\n",
       "            <tr>\n",
       "                        <th id=\"T_5bf849ce_9917_11eb_b72b_02420a39d5f7level0_row3\" class=\"row_heading level0 row3\" >2003</th>\n",
       "                        <td id=\"T_5bf849ce_9917_11eb_b72b_02420a39d5f7row3_col0\" class=\"data row3 col0\" >0</td>\n",
       "                        <td id=\"T_5bf849ce_9917_11eb_b72b_02420a39d5f7row3_col1\" class=\"data row3 col1\" >5.667e+07</td>\n",
       "                        <td id=\"T_5bf849ce_9917_11eb_b72b_02420a39d5f7row3_col2\" class=\"data row3 col2\" >8.84e+06</td>\n",
       "                        <td id=\"T_5bf849ce_9917_11eb_b72b_02420a39d5f7row3_col3\" class=\"data row3 col3\" >2.07e+06</td>\n",
       "                        <td id=\"T_5bf849ce_9917_11eb_b72b_02420a39d5f7row3_col4\" class=\"data row3 col4\" >1.8431e+08</td>\n",
       "                        <td id=\"T_5bf849ce_9917_11eb_b72b_02420a39d5f7row3_col5\" class=\"data row3 col5\" >0</td>\n",
       "                        <td id=\"T_5bf849ce_9917_11eb_b72b_02420a39d5f7row3_col6\" class=\"data row3 col6\" >0</td>\n",
       "                        <td id=\"T_5bf849ce_9917_11eb_b72b_02420a39d5f7row3_col7\" class=\"data row3 col7\" >0</td>\n",
       "                        <td id=\"T_5bf849ce_9917_11eb_b72b_02420a39d5f7row3_col8\" class=\"data row3 col8\" >0</td>\n",
       "                        <td id=\"T_5bf849ce_9917_11eb_b72b_02420a39d5f7row3_col9\" class=\"data row3 col9\" >0</td>\n",
       "            </tr>\n",
       "            <tr>\n",
       "                        <th id=\"T_5bf849ce_9917_11eb_b72b_02420a39d5f7level0_row4\" class=\"row_heading level0 row4\" >2004</th>\n",
       "                        <td id=\"T_5bf849ce_9917_11eb_b72b_02420a39d5f7row4_col0\" class=\"data row4 col0\" >1.727e+07</td>\n",
       "                        <td id=\"T_5bf849ce_9917_11eb_b72b_02420a39d5f7row4_col1\" class=\"data row4 col1\" >7.791e+07</td>\n",
       "                        <td id=\"T_5bf849ce_9917_11eb_b72b_02420a39d5f7row4_col2\" class=\"data row4 col2\" >1.039e+07</td>\n",
       "                        <td id=\"T_5bf849ce_9917_11eb_b72b_02420a39d5f7row4_col3\" class=\"data row4 col3\" >0</td>\n",
       "                        <td id=\"T_5bf849ce_9917_11eb_b72b_02420a39d5f7row4_col4\" class=\"data row4 col4\" >2.1181e+08</td>\n",
       "                        <td id=\"T_5bf849ce_9917_11eb_b72b_02420a39d5f7row4_col5\" class=\"data row4 col5\" >0</td>\n",
       "                        <td id=\"T_5bf849ce_9917_11eb_b72b_02420a39d5f7row4_col6\" class=\"data row4 col6\" >0</td>\n",
       "                        <td id=\"T_5bf849ce_9917_11eb_b72b_02420a39d5f7row4_col7\" class=\"data row4 col7\" >7.06e+06</td>\n",
       "                        <td id=\"T_5bf849ce_9917_11eb_b72b_02420a39d5f7row4_col8\" class=\"data row4 col8\" >0</td>\n",
       "                        <td id=\"T_5bf849ce_9917_11eb_b72b_02420a39d5f7row4_col9\" class=\"data row4 col9\" >0</td>\n",
       "            </tr>\n",
       "            <tr>\n",
       "                        <th id=\"T_5bf849ce_9917_11eb_b72b_02420a39d5f7level0_row5\" class=\"row_heading level0 row5\" >2005</th>\n",
       "                        <td id=\"T_5bf849ce_9917_11eb_b72b_02420a39d5f7row5_col0\" class=\"data row5 col0\" >1.3014e+08</td>\n",
       "                        <td id=\"T_5bf849ce_9917_11eb_b72b_02420a39d5f7row5_col1\" class=\"data row5 col1\" >3.386e+07</td>\n",
       "                        <td id=\"T_5bf849ce_9917_11eb_b72b_02420a39d5f7row5_col2\" class=\"data row5 col2\" >4.37e+06</td>\n",
       "                        <td id=\"T_5bf849ce_9917_11eb_b72b_02420a39d5f7row5_col3\" class=\"data row5 col3\" >0</td>\n",
       "                        <td id=\"T_5bf849ce_9917_11eb_b72b_02420a39d5f7row5_col4\" class=\"data row5 col4\" >1.6066e+08</td>\n",
       "                        <td id=\"T_5bf849ce_9917_11eb_b72b_02420a39d5f7row5_col5\" class=\"data row5 col5\" >0</td>\n",
       "                        <td id=\"T_5bf849ce_9917_11eb_b72b_02420a39d5f7row5_col6\" class=\"data row5 col6\" >0</td>\n",
       "                        <td id=\"T_5bf849ce_9917_11eb_b72b_02420a39d5f7row5_col7\" class=\"data row5 col7\" >4.384e+07</td>\n",
       "                        <td id=\"T_5bf849ce_9917_11eb_b72b_02420a39d5f7row5_col8\" class=\"data row5 col8\" >0</td>\n",
       "                        <td id=\"T_5bf849ce_9917_11eb_b72b_02420a39d5f7row5_col9\" class=\"data row5 col9\" >8.25e+06</td>\n",
       "            </tr>\n",
       "            <tr>\n",
       "                        <th id=\"T_5bf849ce_9917_11eb_b72b_02420a39d5f7level0_row6\" class=\"row_heading level0 row6\" >2006</th>\n",
       "                        <td id=\"T_5bf849ce_9917_11eb_b72b_02420a39d5f7row6_col0\" class=\"data row6 col0\" >1.1981e+08</td>\n",
       "                        <td id=\"T_5bf849ce_9917_11eb_b72b_02420a39d5f7row6_col1\" class=\"data row6 col1\" >5.28e+06</td>\n",
       "                        <td id=\"T_5bf849ce_9917_11eb_b72b_02420a39d5f7row6_col2\" class=\"data row6 col2\" >2.85e+06</td>\n",
       "                        <td id=\"T_5bf849ce_9917_11eb_b72b_02420a39d5f7row6_col3\" class=\"data row6 col3\" >0</td>\n",
       "                        <td id=\"T_5bf849ce_9917_11eb_b72b_02420a39d5f7row6_col4\" class=\"data row6 col4\" >1.0342e+08</td>\n",
       "                        <td id=\"T_5bf849ce_9917_11eb_b72b_02420a39d5f7row6_col5\" class=\"data row6 col5\" >2.096e+07</td>\n",
       "                        <td id=\"T_5bf849ce_9917_11eb_b72b_02420a39d5f7row6_col6\" class=\"data row6 col6\" >0</td>\n",
       "                        <td id=\"T_5bf849ce_9917_11eb_b72b_02420a39d5f7row6_col7\" class=\"data row6 col7\" >5.532e+07</td>\n",
       "                        <td id=\"T_5bf849ce_9917_11eb_b72b_02420a39d5f7row6_col8\" class=\"data row6 col8\" >1.3715e+08</td>\n",
       "                        <td id=\"T_5bf849ce_9917_11eb_b72b_02420a39d5f7row6_col9\" class=\"data row6 col9\" >5.162e+07</td>\n",
       "            </tr>\n",
       "            <tr>\n",
       "                        <th id=\"T_5bf849ce_9917_11eb_b72b_02420a39d5f7level0_row7\" class=\"row_heading level0 row7\" >2007</th>\n",
       "                        <td id=\"T_5bf849ce_9917_11eb_b72b_02420a39d5f7row7_col0\" class=\"data row7 col0\" >1.4694e+08</td>\n",
       "                        <td id=\"T_5bf849ce_9917_11eb_b72b_02420a39d5f7row7_col1\" class=\"data row7 col1\" >3.4e+06</td>\n",
       "                        <td id=\"T_5bf849ce_9917_11eb_b72b_02420a39d5f7row7_col2\" class=\"data row7 col2\" >9.28e+06</td>\n",
       "                        <td id=\"T_5bf849ce_9917_11eb_b72b_02420a39d5f7row7_col3\" class=\"data row7 col3\" >0</td>\n",
       "                        <td id=\"T_5bf849ce_9917_11eb_b72b_02420a39d5f7row7_col4\" class=\"data row7 col4\" >7.599e+07</td>\n",
       "                        <td id=\"T_5bf849ce_9917_11eb_b72b_02420a39d5f7row7_col5\" class=\"data row7 col5\" >7.319e+07</td>\n",
       "                        <td id=\"T_5bf849ce_9917_11eb_b72b_02420a39d5f7row7_col6\" class=\"data row7 col6\" >0</td>\n",
       "                        <td id=\"T_5bf849ce_9917_11eb_b72b_02420a39d5f7row7_col7\" class=\"data row7 col7\" >4.693e+07</td>\n",
       "                        <td id=\"T_5bf849ce_9917_11eb_b72b_02420a39d5f7row7_col8\" class=\"data row7 col8\" >1.5277e+08</td>\n",
       "                        <td id=\"T_5bf849ce_9917_11eb_b72b_02420a39d5f7row7_col9\" class=\"data row7 col9\" >9.541e+07</td>\n",
       "            </tr>\n",
       "            <tr>\n",
       "                        <th id=\"T_5bf849ce_9917_11eb_b72b_02420a39d5f7level0_row8\" class=\"row_heading level0 row8\" >2008</th>\n",
       "                        <td id=\"T_5bf849ce_9917_11eb_b72b_02420a39d5f7row8_col0\" class=\"data row8 col0\" >1.4531e+08</td>\n",
       "                        <td id=\"T_5bf849ce_9917_11eb_b72b_02420a39d5f7row8_col1\" class=\"data row8 col1\" >0</td>\n",
       "                        <td id=\"T_5bf849ce_9917_11eb_b72b_02420a39d5f7row8_col2\" class=\"data row8 col2\" >1.242e+07</td>\n",
       "                        <td id=\"T_5bf849ce_9917_11eb_b72b_02420a39d5f7row8_col3\" class=\"data row8 col3\" >0</td>\n",
       "                        <td id=\"T_5bf849ce_9917_11eb_b72b_02420a39d5f7row8_col4\" class=\"data row8 col4\" >5.39e+07</td>\n",
       "                        <td id=\"T_5bf849ce_9917_11eb_b72b_02420a39d5f7row8_col5\" class=\"data row8 col5\" >1.1852e+08</td>\n",
       "                        <td id=\"T_5bf849ce_9917_11eb_b72b_02420a39d5f7row8_col6\" class=\"data row8 col6\" >0</td>\n",
       "                        <td id=\"T_5bf849ce_9917_11eb_b72b_02420a39d5f7row8_col7\" class=\"data row8 col7\" >3.455e+07</td>\n",
       "                        <td id=\"T_5bf849ce_9917_11eb_b72b_02420a39d5f7row8_col8\" class=\"data row8 col8\" >1.7132e+08</td>\n",
       "                        <td id=\"T_5bf849ce_9917_11eb_b72b_02420a39d5f7row8_col9\" class=\"data row8 col9\" >1.3526e+08</td>\n",
       "            </tr>\n",
       "            <tr>\n",
       "                        <th id=\"T_5bf849ce_9917_11eb_b72b_02420a39d5f7level0_row9\" class=\"row_heading level0 row9\" >2009</th>\n",
       "                        <td id=\"T_5bf849ce_9917_11eb_b72b_02420a39d5f7row9_col0\" class=\"data row9 col0\" >1.1954e+08</td>\n",
       "                        <td id=\"T_5bf849ce_9917_11eb_b72b_02420a39d5f7row9_col1\" class=\"data row9 col1\" >0</td>\n",
       "                        <td id=\"T_5bf849ce_9917_11eb_b72b_02420a39d5f7row9_col2\" class=\"data row9 col2\" >1.691e+07</td>\n",
       "                        <td id=\"T_5bf849ce_9917_11eb_b72b_02420a39d5f7row9_col3\" class=\"data row9 col3\" >0</td>\n",
       "                        <td id=\"T_5bf849ce_9917_11eb_b72b_02420a39d5f7row9_col4\" class=\"data row9 col4\" >2.64e+07</td>\n",
       "                        <td id=\"T_5bf849ce_9917_11eb_b72b_02420a39d5f7row9_col5\" class=\"data row9 col5\" >1.3093e+08</td>\n",
       "                        <td id=\"T_5bf849ce_9917_11eb_b72b_02420a39d5f7row9_col6\" class=\"data row9 col6\" >0</td>\n",
       "                        <td id=\"T_5bf849ce_9917_11eb_b72b_02420a39d5f7row9_col7\" class=\"data row9 col7\" >3.778e+07</td>\n",
       "                        <td id=\"T_5bf849ce_9917_11eb_b72b_02420a39d5f7row9_col8\" class=\"data row9 col8\" >2.0697e+08</td>\n",
       "                        <td id=\"T_5bf849ce_9917_11eb_b72b_02420a39d5f7row9_col9\" class=\"data row9 col9\" >1.2029e+08</td>\n",
       "            </tr>\n",
       "            <tr>\n",
       "                        <th id=\"T_5bf849ce_9917_11eb_b72b_02420a39d5f7level0_row10\" class=\"row_heading level0 row10\" >2010</th>\n",
       "                        <td id=\"T_5bf849ce_9917_11eb_b72b_02420a39d5f7row10_col0\" class=\"data row10 col0\" >8.502e+07</td>\n",
       "                        <td id=\"T_5bf849ce_9917_11eb_b72b_02420a39d5f7row10_col1\" class=\"data row10 col1\" >0</td>\n",
       "                        <td id=\"T_5bf849ce_9917_11eb_b72b_02420a39d5f7row10_col2\" class=\"data row10 col2\" >2.428e+07</td>\n",
       "                        <td id=\"T_5bf849ce_9917_11eb_b72b_02420a39d5f7row10_col3\" class=\"data row10 col3\" >0</td>\n",
       "                        <td id=\"T_5bf849ce_9917_11eb_b72b_02420a39d5f7row10_col4\" class=\"data row10 col4\" >5.64e+06</td>\n",
       "                        <td id=\"T_5bf849ce_9917_11eb_b72b_02420a39d5f7row10_col5\" class=\"data row10 col5\" >1.4217e+08</td>\n",
       "                        <td id=\"T_5bf849ce_9917_11eb_b72b_02420a39d5f7row10_col6\" class=\"data row10 col6\" >0</td>\n",
       "                        <td id=\"T_5bf849ce_9917_11eb_b72b_02420a39d5f7row10_col7\" class=\"data row10 col7\" >3.504e+07</td>\n",
       "                        <td id=\"T_5bf849ce_9917_11eb_b72b_02420a39d5f7row10_col8\" class=\"data row10 col8\" >1.2795e+08</td>\n",
       "                        <td id=\"T_5bf849ce_9917_11eb_b72b_02420a39d5f7row10_col9\" class=\"data row10 col9\" >1.7003e+08</td>\n",
       "            </tr>\n",
       "            <tr>\n",
       "                        <th id=\"T_5bf849ce_9917_11eb_b72b_02420a39d5f7level0_row11\" class=\"row_heading level0 row11\" >2011</th>\n",
       "                        <td id=\"T_5bf849ce_9917_11eb_b72b_02420a39d5f7row11_col0\" class=\"data row11 col0\" >2.618e+07</td>\n",
       "                        <td id=\"T_5bf849ce_9917_11eb_b72b_02420a39d5f7row11_col1\" class=\"data row11 col1\" >0</td>\n",
       "                        <td id=\"T_5bf849ce_9917_11eb_b72b_02420a39d5f7row11_col2\" class=\"data row11 col2\" >3.503e+07</td>\n",
       "                        <td id=\"T_5bf849ce_9917_11eb_b72b_02420a39d5f7row11_col3\" class=\"data row11 col3\" >0</td>\n",
       "                        <td id=\"T_5bf849ce_9917_11eb_b72b_02420a39d5f7row11_col4\" class=\"data row11 col4\" >450000</td>\n",
       "                        <td id=\"T_5bf849ce_9917_11eb_b72b_02420a39d5f7row11_col5\" class=\"data row11 col5\" >1.5678e+08</td>\n",
       "                        <td id=\"T_5bf849ce_9917_11eb_b72b_02420a39d5f7row11_col6\" class=\"data row11 col6\" >0</td>\n",
       "                        <td id=\"T_5bf849ce_9917_11eb_b72b_02420a39d5f7row11_col7\" class=\"data row11 col7\" >1.782e+07</td>\n",
       "                        <td id=\"T_5bf849ce_9917_11eb_b72b_02420a39d5f7row11_col8\" class=\"data row11 col8\" >5.965e+07</td>\n",
       "                        <td id=\"T_5bf849ce_9917_11eb_b72b_02420a39d5f7row11_col9\" class=\"data row11 col9\" >1.4384e+08</td>\n",
       "            </tr>\n",
       "            <tr>\n",
       "                        <th id=\"T_5bf849ce_9917_11eb_b72b_02420a39d5f7level0_row12\" class=\"row_heading level0 row12\" >2012</th>\n",
       "                        <td id=\"T_5bf849ce_9917_11eb_b72b_02420a39d5f7row12_col0\" class=\"data row12 col0\" >1.101e+07</td>\n",
       "                        <td id=\"T_5bf849ce_9917_11eb_b72b_02420a39d5f7row12_col1\" class=\"data row12 col1\" >0</td>\n",
       "                        <td id=\"T_5bf849ce_9917_11eb_b72b_02420a39d5f7row12_col2\" class=\"data row12 col2\" >2.322e+07</td>\n",
       "                        <td id=\"T_5bf849ce_9917_11eb_b72b_02420a39d5f7row12_col3\" class=\"data row12 col3\" >0</td>\n",
       "                        <td id=\"T_5bf849ce_9917_11eb_b72b_02420a39d5f7row12_col4\" class=\"data row12 col4\" >0</td>\n",
       "                        <td id=\"T_5bf849ce_9917_11eb_b72b_02420a39d5f7row12_col5\" class=\"data row12 col5\" >1.0736e+08</td>\n",
       "                        <td id=\"T_5bf849ce_9917_11eb_b72b_02420a39d5f7row12_col6\" class=\"data row12 col6\" >0</td>\n",
       "                        <td id=\"T_5bf849ce_9917_11eb_b72b_02420a39d5f7row12_col7\" class=\"data row12 col7\" >7.69e+06</td>\n",
       "                        <td id=\"T_5bf849ce_9917_11eb_b72b_02420a39d5f7row12_col8\" class=\"data row12 col8\" >2.171e+07</td>\n",
       "                        <td id=\"T_5bf849ce_9917_11eb_b72b_02420a39d5f7row12_col9\" class=\"data row12 col9\" >9.974e+07</td>\n",
       "            </tr>\n",
       "            <tr>\n",
       "                        <th id=\"T_5bf849ce_9917_11eb_b72b_02420a39d5f7level0_row13\" class=\"row_heading level0 row13\" >2013</th>\n",
       "                        <td id=\"T_5bf849ce_9917_11eb_b72b_02420a39d5f7row13_col0\" class=\"data row13 col0\" >1.54e+06</td>\n",
       "                        <td id=\"T_5bf849ce_9917_11eb_b72b_02420a39d5f7row13_col1\" class=\"data row13 col1\" >0</td>\n",
       "                        <td id=\"T_5bf849ce_9917_11eb_b72b_02420a39d5f7row13_col2\" class=\"data row13 col2\" >1.238e+07</td>\n",
       "                        <td id=\"T_5bf849ce_9917_11eb_b72b_02420a39d5f7row13_col3\" class=\"data row13 col3\" >0</td>\n",
       "                        <td id=\"T_5bf849ce_9917_11eb_b72b_02420a39d5f7row13_col4\" class=\"data row13 col4\" >0</td>\n",
       "                        <td id=\"T_5bf849ce_9917_11eb_b72b_02420a39d5f7row13_col5\" class=\"data row13 col5\" >1.1325e+08</td>\n",
       "                        <td id=\"T_5bf849ce_9917_11eb_b72b_02420a39d5f7row13_col6\" class=\"data row13 col6\" >2.599e+07</td>\n",
       "                        <td id=\"T_5bf849ce_9917_11eb_b72b_02420a39d5f7row13_col7\" class=\"data row13 col7\" >3.14e+06</td>\n",
       "                        <td id=\"T_5bf849ce_9917_11eb_b72b_02420a39d5f7row13_col8\" class=\"data row13 col8\" >8.59e+06</td>\n",
       "                        <td id=\"T_5bf849ce_9917_11eb_b72b_02420a39d5f7row13_col9\" class=\"data row13 col9\" >8.858e+07</td>\n",
       "            </tr>\n",
       "            <tr>\n",
       "                        <th id=\"T_5bf849ce_9917_11eb_b72b_02420a39d5f7level0_row14\" class=\"row_heading level0 row14\" >2014</th>\n",
       "                        <td id=\"T_5bf849ce_9917_11eb_b72b_02420a39d5f7row14_col0\" class=\"data row14 col0\" >0</td>\n",
       "                        <td id=\"T_5bf849ce_9917_11eb_b72b_02420a39d5f7row14_col1\" class=\"data row14 col1\" >0</td>\n",
       "                        <td id=\"T_5bf849ce_9917_11eb_b72b_02420a39d5f7row14_col2\" class=\"data row14 col2\" >1.328e+07</td>\n",
       "                        <td id=\"T_5bf849ce_9917_11eb_b72b_02420a39d5f7row14_col3\" class=\"data row14 col3\" >0</td>\n",
       "                        <td id=\"T_5bf849ce_9917_11eb_b72b_02420a39d5f7row14_col4\" class=\"data row14 col4\" >0</td>\n",
       "                        <td id=\"T_5bf849ce_9917_11eb_b72b_02420a39d5f7row14_col5\" class=\"data row14 col5\" >4.776e+07</td>\n",
       "                        <td id=\"T_5bf849ce_9917_11eb_b72b_02420a39d5f7row14_col6\" class=\"data row14 col6\" >1e+08</td>\n",
       "                        <td id=\"T_5bf849ce_9917_11eb_b72b_02420a39d5f7row14_col7\" class=\"data row14 col7\" >240000</td>\n",
       "                        <td id=\"T_5bf849ce_9917_11eb_b72b_02420a39d5f7row14_col8\" class=\"data row14 col8\" >3.75e+06</td>\n",
       "                        <td id=\"T_5bf849ce_9917_11eb_b72b_02420a39d5f7row14_col9\" class=\"data row14 col9\" >3.474e+07</td>\n",
       "            </tr>\n",
       "            <tr>\n",
       "                        <th id=\"T_5bf849ce_9917_11eb_b72b_02420a39d5f7level0_row15\" class=\"row_heading level0 row15\" >2015</th>\n",
       "                        <td id=\"T_5bf849ce_9917_11eb_b72b_02420a39d5f7row15_col0\" class=\"data row15 col0\" >0</td>\n",
       "                        <td id=\"T_5bf849ce_9917_11eb_b72b_02420a39d5f7row15_col1\" class=\"data row15 col1\" >0</td>\n",
       "                        <td id=\"T_5bf849ce_9917_11eb_b72b_02420a39d5f7row15_col2\" class=\"data row15 col2\" >8.52e+06</td>\n",
       "                        <td id=\"T_5bf849ce_9917_11eb_b72b_02420a39d5f7row15_col3\" class=\"data row15 col3\" >0</td>\n",
       "                        <td id=\"T_5bf849ce_9917_11eb_b72b_02420a39d5f7row15_col4\" class=\"data row15 col4\" >0</td>\n",
       "                        <td id=\"T_5bf849ce_9917_11eb_b72b_02420a39d5f7row15_col5\" class=\"data row15 col5\" >1.682e+07</td>\n",
       "                        <td id=\"T_5bf849ce_9917_11eb_b72b_02420a39d5f7row15_col6\" class=\"data row15 col6\" >1.189e+08</td>\n",
       "                        <td id=\"T_5bf849ce_9917_11eb_b72b_02420a39d5f7row15_col7\" class=\"data row15 col7\" >120000</td>\n",
       "                        <td id=\"T_5bf849ce_9917_11eb_b72b_02420a39d5f7row15_col8\" class=\"data row15 col8\" >1.14e+06</td>\n",
       "                        <td id=\"T_5bf849ce_9917_11eb_b72b_02420a39d5f7row15_col9\" class=\"data row15 col9\" >1.196e+07</td>\n",
       "            </tr>\n",
       "            <tr>\n",
       "                        <th id=\"T_5bf849ce_9917_11eb_b72b_02420a39d5f7level0_row16\" class=\"row_heading level0 row16\" >2016</th>\n",
       "                        <td id=\"T_5bf849ce_9917_11eb_b72b_02420a39d5f7row16_col0\" class=\"data row16 col0\" >0</td>\n",
       "                        <td id=\"T_5bf849ce_9917_11eb_b72b_02420a39d5f7row16_col1\" class=\"data row16 col1\" >0</td>\n",
       "                        <td id=\"T_5bf849ce_9917_11eb_b72b_02420a39d5f7row16_col2\" class=\"data row16 col2\" >5.25e+06</td>\n",
       "                        <td id=\"T_5bf849ce_9917_11eb_b72b_02420a39d5f7row16_col3\" class=\"data row16 col3\" >0</td>\n",
       "                        <td id=\"T_5bf849ce_9917_11eb_b72b_02420a39d5f7row16_col4\" class=\"data row16 col4\" >0</td>\n",
       "                        <td id=\"T_5bf849ce_9917_11eb_b72b_02420a39d5f7row16_col5\" class=\"data row16 col5\" >3.6e+06</td>\n",
       "                        <td id=\"T_5bf849ce_9917_11eb_b72b_02420a39d5f7row16_col6\" class=\"data row16 col6\" >6.925e+07</td>\n",
       "                        <td id=\"T_5bf849ce_9917_11eb_b72b_02420a39d5f7row16_col7\" class=\"data row16 col7\" >0</td>\n",
       "                        <td id=\"T_5bf849ce_9917_11eb_b72b_02420a39d5f7row16_col8\" class=\"data row16 col8\" >180000</td>\n",
       "                        <td id=\"T_5bf849ce_9917_11eb_b72b_02420a39d5f7row16_col9\" class=\"data row16 col9\" >1.52e+06</td>\n",
       "            </tr>\n",
       "    </tbody></table>"
      ],
      "text/plain": [
       "<pandas.io.formats.style.Styler at 0x7fd1744e8250>"
      ]
     },
     "execution_count": 213,
     "metadata": {},
     "output_type": "execute_result"
    }
   ],
   "source": [
    "pivot = pivot.query('index in (@list_of_top_popular_platform)')\n",
    "pivot = pivot.fillna(0)\n",
    "pivot_T = pivot.T\n",
    "pivot_T.style.background_gradient('coolwarm')"
   ]
  },
  {
   "cell_type": "markdown",
   "metadata": {},
   "source": [
    "**Количество выпущенных копий игр угасает на всех платформах. Последняя платформа которая уже прошла свой пик популярности и доживает последние годы - это PS4.**"
   ]
  },
  {
   "cell_type": "markdown",
   "metadata": {},
   "source": [
    "Нам нужно оценить время жизни платформы. Для удобства отнормируем данные по каждой платформе на свой максимум. Чтобы более успешные платформы не 'забивали' в таблице менее успешные."
   ]
  },
  {
   "cell_type": "code",
   "execution_count": 214,
   "metadata": {},
   "outputs": [],
   "source": [
    "pivot['max'] = pivot.apply(lambda row: max(row), axis = 1)\n",
    "\n",
    "for column in pivot.columns:\n",
    "    pivot[column] = pivot[column]/pivot['max']\n",
    "    \n",
    "del pivot['max']\n",
    "\n",
    "pivot_T_normalized = pivot.T"
   ]
  },
  {
   "cell_type": "code",
   "execution_count": 215,
   "metadata": {},
   "outputs": [
    {
     "data": {
      "text/html": [
       "<style  type=\"text/css\" >\n",
       "    #T_60654d4a_9917_11eb_b72b_02420a39d5f7row0_col0 {\n",
       "            background-color:  #3b4cc0;\n",
       "            color:  #f1f1f1;\n",
       "        }    #T_60654d4a_9917_11eb_b72b_02420a39d5f7row0_col1 {\n",
       "            background-color:  #3b4cc0;\n",
       "            color:  #f1f1f1;\n",
       "        }    #T_60654d4a_9917_11eb_b72b_02420a39d5f7row0_col2 {\n",
       "            background-color:  #4b64d5;\n",
       "            color:  #f1f1f1;\n",
       "        }    #T_60654d4a_9917_11eb_b72b_02420a39d5f7row0_col3 {\n",
       "            background-color:  #b40426;\n",
       "            color:  #f1f1f1;\n",
       "        }    #T_60654d4a_9917_11eb_b72b_02420a39d5f7row0_col4 {\n",
       "            background-color:  #7699f6;\n",
       "            color:  #000000;\n",
       "        }    #T_60654d4a_9917_11eb_b72b_02420a39d5f7row0_col5 {\n",
       "            background-color:  #3b4cc0;\n",
       "            color:  #f1f1f1;\n",
       "        }    #T_60654d4a_9917_11eb_b72b_02420a39d5f7row0_col6 {\n",
       "            background-color:  #3b4cc0;\n",
       "            color:  #f1f1f1;\n",
       "        }    #T_60654d4a_9917_11eb_b72b_02420a39d5f7row0_col7 {\n",
       "            background-color:  #3b4cc0;\n",
       "            color:  #f1f1f1;\n",
       "        }    #T_60654d4a_9917_11eb_b72b_02420a39d5f7row0_col8 {\n",
       "            background-color:  #3b4cc0;\n",
       "            color:  #f1f1f1;\n",
       "        }    #T_60654d4a_9917_11eb_b72b_02420a39d5f7row0_col9 {\n",
       "            background-color:  #3b4cc0;\n",
       "            color:  #f1f1f1;\n",
       "        }    #T_60654d4a_9917_11eb_b72b_02420a39d5f7row1_col0 {\n",
       "            background-color:  #3b4cc0;\n",
       "            color:  #f1f1f1;\n",
       "        }    #T_60654d4a_9917_11eb_b72b_02420a39d5f7row1_col1 {\n",
       "            background-color:  #ef886b;\n",
       "            color:  #000000;\n",
       "        }    #T_60654d4a_9917_11eb_b72b_02420a39d5f7row1_col2 {\n",
       "            background-color:  #536edd;\n",
       "            color:  #000000;\n",
       "        }    #T_60654d4a_9917_11eb_b72b_02420a39d5f7row1_col3 {\n",
       "            background-color:  #b6cefa;\n",
       "            color:  #000000;\n",
       "        }    #T_60654d4a_9917_11eb_b72b_02420a39d5f7row1_col4 {\n",
       "            background-color:  #f08a6c;\n",
       "            color:  #000000;\n",
       "        }    #T_60654d4a_9917_11eb_b72b_02420a39d5f7row1_col5 {\n",
       "            background-color:  #3b4cc0;\n",
       "            color:  #f1f1f1;\n",
       "        }    #T_60654d4a_9917_11eb_b72b_02420a39d5f7row1_col6 {\n",
       "            background-color:  #3b4cc0;\n",
       "            color:  #f1f1f1;\n",
       "        }    #T_60654d4a_9917_11eb_b72b_02420a39d5f7row1_col7 {\n",
       "            background-color:  #3b4cc0;\n",
       "            color:  #f1f1f1;\n",
       "        }    #T_60654d4a_9917_11eb_b72b_02420a39d5f7row1_col8 {\n",
       "            background-color:  #3b4cc0;\n",
       "            color:  #f1f1f1;\n",
       "        }    #T_60654d4a_9917_11eb_b72b_02420a39d5f7row1_col9 {\n",
       "            background-color:  #3b4cc0;\n",
       "            color:  #f1f1f1;\n",
       "        }    #T_60654d4a_9917_11eb_b72b_02420a39d5f7row2_col0 {\n",
       "            background-color:  #3b4cc0;\n",
       "            color:  #f1f1f1;\n",
       "        }    #T_60654d4a_9917_11eb_b72b_02420a39d5f7row2_col1 {\n",
       "            background-color:  #c53334;\n",
       "            color:  #f1f1f1;\n",
       "        }    #T_60654d4a_9917_11eb_b72b_02420a39d5f7row2_col2 {\n",
       "            background-color:  #7396f5;\n",
       "            color:  #000000;\n",
       "        }    #T_60654d4a_9917_11eb_b72b_02420a39d5f7row2_col3 {\n",
       "            background-color:  #4f69d9;\n",
       "            color:  #000000;\n",
       "        }    #T_60654d4a_9917_11eb_b72b_02420a39d5f7row2_col4 {\n",
       "            background-color:  #be242e;\n",
       "            color:  #f1f1f1;\n",
       "        }    #T_60654d4a_9917_11eb_b72b_02420a39d5f7row2_col5 {\n",
       "            background-color:  #3b4cc0;\n",
       "            color:  #f1f1f1;\n",
       "        }    #T_60654d4a_9917_11eb_b72b_02420a39d5f7row2_col6 {\n",
       "            background-color:  #3b4cc0;\n",
       "            color:  #f1f1f1;\n",
       "        }    #T_60654d4a_9917_11eb_b72b_02420a39d5f7row2_col7 {\n",
       "            background-color:  #3b4cc0;\n",
       "            color:  #f1f1f1;\n",
       "        }    #T_60654d4a_9917_11eb_b72b_02420a39d5f7row2_col8 {\n",
       "            background-color:  #3b4cc0;\n",
       "            color:  #f1f1f1;\n",
       "        }    #T_60654d4a_9917_11eb_b72b_02420a39d5f7row2_col9 {\n",
       "            background-color:  #3b4cc0;\n",
       "            color:  #f1f1f1;\n",
       "        }    #T_60654d4a_9917_11eb_b72b_02420a39d5f7row3_col0 {\n",
       "            background-color:  #3b4cc0;\n",
       "            color:  #f1f1f1;\n",
       "        }    #T_60654d4a_9917_11eb_b72b_02420a39d5f7row3_col1 {\n",
       "            background-color:  #f6a283;\n",
       "            color:  #000000;\n",
       "        }    #T_60654d4a_9917_11eb_b72b_02420a39d5f7row3_col2 {\n",
       "            background-color:  #7699f6;\n",
       "            color:  #000000;\n",
       "        }    #T_60654d4a_9917_11eb_b72b_02420a39d5f7row3_col3 {\n",
       "            background-color:  #4055c8;\n",
       "            color:  #f1f1f1;\n",
       "        }    #T_60654d4a_9917_11eb_b72b_02420a39d5f7row3_col4 {\n",
       "            background-color:  #df634e;\n",
       "            color:  #000000;\n",
       "        }    #T_60654d4a_9917_11eb_b72b_02420a39d5f7row3_col5 {\n",
       "            background-color:  #3b4cc0;\n",
       "            color:  #f1f1f1;\n",
       "        }    #T_60654d4a_9917_11eb_b72b_02420a39d5f7row3_col6 {\n",
       "            background-color:  #3b4cc0;\n",
       "            color:  #f1f1f1;\n",
       "        }    #T_60654d4a_9917_11eb_b72b_02420a39d5f7row3_col7 {\n",
       "            background-color:  #3b4cc0;\n",
       "            color:  #f1f1f1;\n",
       "        }    #T_60654d4a_9917_11eb_b72b_02420a39d5f7row3_col8 {\n",
       "            background-color:  #3b4cc0;\n",
       "            color:  #f1f1f1;\n",
       "        }    #T_60654d4a_9917_11eb_b72b_02420a39d5f7row3_col9 {\n",
       "            background-color:  #3b4cc0;\n",
       "            color:  #f1f1f1;\n",
       "        }    #T_60654d4a_9917_11eb_b72b_02420a39d5f7row4_col0 {\n",
       "            background-color:  #5f7fe8;\n",
       "            color:  #000000;\n",
       "        }    #T_60654d4a_9917_11eb_b72b_02420a39d5f7row4_col1 {\n",
       "            background-color:  #b40426;\n",
       "            color:  #f1f1f1;\n",
       "        }    #T_60654d4a_9917_11eb_b72b_02420a39d5f7row4_col2 {\n",
       "            background-color:  #86a9fc;\n",
       "            color:  #000000;\n",
       "        }    #T_60654d4a_9917_11eb_b72b_02420a39d5f7row4_col3 {\n",
       "            background-color:  #3b4cc0;\n",
       "            color:  #f1f1f1;\n",
       "        }    #T_60654d4a_9917_11eb_b72b_02420a39d5f7row4_col4 {\n",
       "            background-color:  #b40426;\n",
       "            color:  #f1f1f1;\n",
       "        }    #T_60654d4a_9917_11eb_b72b_02420a39d5f7row4_col5 {\n",
       "            background-color:  #3b4cc0;\n",
       "            color:  #f1f1f1;\n",
       "        }    #T_60654d4a_9917_11eb_b72b_02420a39d5f7row4_col6 {\n",
       "            background-color:  #3b4cc0;\n",
       "            color:  #f1f1f1;\n",
       "        }    #T_60654d4a_9917_11eb_b72b_02420a39d5f7row4_col7 {\n",
       "            background-color:  #6282ea;\n",
       "            color:  #000000;\n",
       "        }    #T_60654d4a_9917_11eb_b72b_02420a39d5f7row4_col8 {\n",
       "            background-color:  #3b4cc0;\n",
       "            color:  #f1f1f1;\n",
       "        }    #T_60654d4a_9917_11eb_b72b_02420a39d5f7row4_col9 {\n",
       "            background-color:  #3b4cc0;\n",
       "            color:  #f1f1f1;\n",
       "        }    #T_60654d4a_9917_11eb_b72b_02420a39d5f7row5_col0 {\n",
       "            background-color:  #da5a49;\n",
       "            color:  #000000;\n",
       "        }    #T_60654d4a_9917_11eb_b72b_02420a39d5f7row5_col1 {\n",
       "            background-color:  #cbd8ee;\n",
       "            color:  #000000;\n",
       "        }    #T_60654d4a_9917_11eb_b72b_02420a39d5f7row5_col2 {\n",
       "            background-color:  #4961d2;\n",
       "            color:  #f1f1f1;\n",
       "        }    #T_60654d4a_9917_11eb_b72b_02420a39d5f7row5_col3 {\n",
       "            background-color:  #3b4cc0;\n",
       "            color:  #f1f1f1;\n",
       "        }    #T_60654d4a_9917_11eb_b72b_02420a39d5f7row5_col4 {\n",
       "            background-color:  #f39577;\n",
       "            color:  #000000;\n",
       "        }    #T_60654d4a_9917_11eb_b72b_02420a39d5f7row5_col5 {\n",
       "            background-color:  #3b4cc0;\n",
       "            color:  #f1f1f1;\n",
       "        }    #T_60654d4a_9917_11eb_b72b_02420a39d5f7row5_col6 {\n",
       "            background-color:  #3b4cc0;\n",
       "            color:  #f1f1f1;\n",
       "        }    #T_60654d4a_9917_11eb_b72b_02420a39d5f7row5_col7 {\n",
       "            background-color:  #ef886b;\n",
       "            color:  #000000;\n",
       "        }    #T_60654d4a_9917_11eb_b72b_02420a39d5f7row5_col8 {\n",
       "            background-color:  #3b4cc0;\n",
       "            color:  #f1f1f1;\n",
       "        }    #T_60654d4a_9917_11eb_b72b_02420a39d5f7row5_col9 {\n",
       "            background-color:  #4961d2;\n",
       "            color:  #f1f1f1;\n",
       "        }    #T_60654d4a_9917_11eb_b72b_02420a39d5f7row6_col0 {\n",
       "            background-color:  #eb7d62;\n",
       "            color:  #000000;\n",
       "        }    #T_60654d4a_9917_11eb_b72b_02420a39d5f7row6_col1 {\n",
       "            background-color:  #4f69d9;\n",
       "            color:  #000000;\n",
       "        }    #T_60654d4a_9917_11eb_b72b_02420a39d5f7row6_col2 {\n",
       "            background-color:  #3b4cc0;\n",
       "            color:  #f1f1f1;\n",
       "        }    #T_60654d4a_9917_11eb_b72b_02420a39d5f7row6_col3 {\n",
       "            background-color:  #3b4cc0;\n",
       "            color:  #f1f1f1;\n",
       "        }    #T_60654d4a_9917_11eb_b72b_02420a39d5f7row6_col4 {\n",
       "            background-color:  #d9dce1;\n",
       "            color:  #000000;\n",
       "        }    #T_60654d4a_9917_11eb_b72b_02420a39d5f7row6_col5 {\n",
       "            background-color:  #6485ec;\n",
       "            color:  #000000;\n",
       "        }    #T_60654d4a_9917_11eb_b72b_02420a39d5f7row6_col6 {\n",
       "            background-color:  #3b4cc0;\n",
       "            color:  #f1f1f1;\n",
       "        }    #T_60654d4a_9917_11eb_b72b_02420a39d5f7row6_col7 {\n",
       "            background-color:  #b40426;\n",
       "            color:  #f1f1f1;\n",
       "        }    #T_60654d4a_9917_11eb_b72b_02420a39d5f7row6_col8 {\n",
       "            background-color:  #f7b99e;\n",
       "            color:  #000000;\n",
       "        }    #T_60654d4a_9917_11eb_b72b_02420a39d5f7row6_col9 {\n",
       "            background-color:  #9fbfff;\n",
       "            color:  #000000;\n",
       "        }    #T_60654d4a_9917_11eb_b72b_02420a39d5f7row7_col0 {\n",
       "            background-color:  #b40426;\n",
       "            color:  #f1f1f1;\n",
       "        }    #T_60654d4a_9917_11eb_b72b_02420a39d5f7row7_col1 {\n",
       "            background-color:  #485fd1;\n",
       "            color:  #f1f1f1;\n",
       "        }    #T_60654d4a_9917_11eb_b72b_02420a39d5f7row7_col2 {\n",
       "            background-color:  #7b9ff9;\n",
       "            color:  #000000;\n",
       "        }    #T_60654d4a_9917_11eb_b72b_02420a39d5f7row7_col3 {\n",
       "            background-color:  #3b4cc0;\n",
       "            color:  #f1f1f1;\n",
       "        }    #T_60654d4a_9917_11eb_b72b_02420a39d5f7row7_col4 {\n",
       "            background-color:  #b2ccfb;\n",
       "            color:  #000000;\n",
       "        }    #T_60654d4a_9917_11eb_b72b_02420a39d5f7row7_col5 {\n",
       "            background-color:  #d4dbe6;\n",
       "            color:  #000000;\n",
       "        }    #T_60654d4a_9917_11eb_b72b_02420a39d5f7row7_col6 {\n",
       "            background-color:  #3b4cc0;\n",
       "            color:  #f1f1f1;\n",
       "        }    #T_60654d4a_9917_11eb_b72b_02420a39d5f7row7_col7 {\n",
       "            background-color:  #e36c55;\n",
       "            color:  #000000;\n",
       "        }    #T_60654d4a_9917_11eb_b72b_02420a39d5f7row7_col8 {\n",
       "            background-color:  #f59f80;\n",
       "            color:  #000000;\n",
       "        }    #T_60654d4a_9917_11eb_b72b_02420a39d5f7row7_col9 {\n",
       "            background-color:  #ebd3c6;\n",
       "            color:  #000000;\n",
       "        }    #T_60654d4a_9917_11eb_b72b_02420a39d5f7row8_col0 {\n",
       "            background-color:  #b70d28;\n",
       "            color:  #f1f1f1;\n",
       "        }    #T_60654d4a_9917_11eb_b72b_02420a39d5f7row8_col1 {\n",
       "            background-color:  #3b4cc0;\n",
       "            color:  #f1f1f1;\n",
       "        }    #T_60654d4a_9917_11eb_b72b_02420a39d5f7row8_col2 {\n",
       "            background-color:  #9ebeff;\n",
       "            color:  #000000;\n",
       "        }    #T_60654d4a_9917_11eb_b72b_02420a39d5f7row8_col3 {\n",
       "            background-color:  #3b4cc0;\n",
       "            color:  #f1f1f1;\n",
       "        }    #T_60654d4a_9917_11eb_b72b_02420a39d5f7row8_col4 {\n",
       "            background-color:  #8fb1fe;\n",
       "            color:  #000000;\n",
       "        }    #T_60654d4a_9917_11eb_b72b_02420a39d5f7row8_col5 {\n",
       "            background-color:  #f39778;\n",
       "            color:  #000000;\n",
       "        }    #T_60654d4a_9917_11eb_b72b_02420a39d5f7row8_col6 {\n",
       "            background-color:  #3b4cc0;\n",
       "            color:  #f1f1f1;\n",
       "        }    #T_60654d4a_9917_11eb_b72b_02420a39d5f7row8_col7 {\n",
       "            background-color:  #f4c5ad;\n",
       "            color:  #000000;\n",
       "        }    #T_60654d4a_9917_11eb_b72b_02420a39d5f7row8_col8 {\n",
       "            background-color:  #e9785d;\n",
       "            color:  #000000;\n",
       "        }    #T_60654d4a_9917_11eb_b72b_02420a39d5f7row8_col9 {\n",
       "            background-color:  #ee8669;\n",
       "            color:  #000000;\n",
       "        }    #T_60654d4a_9917_11eb_b72b_02420a39d5f7row9_col0 {\n",
       "            background-color:  #eb7d62;\n",
       "            color:  #000000;\n",
       "        }    #T_60654d4a_9917_11eb_b72b_02420a39d5f7row9_col1 {\n",
       "            background-color:  #3b4cc0;\n",
       "            color:  #f1f1f1;\n",
       "        }    #T_60654d4a_9917_11eb_b72b_02420a39d5f7row9_col2 {\n",
       "            background-color:  #cbd8ee;\n",
       "            color:  #000000;\n",
       "        }    #T_60654d4a_9917_11eb_b72b_02420a39d5f7row9_col3 {\n",
       "            background-color:  #3b4cc0;\n",
       "            color:  #f1f1f1;\n",
       "        }    #T_60654d4a_9917_11eb_b72b_02420a39d5f7row9_col4 {\n",
       "            background-color:  #6180e9;\n",
       "            color:  #000000;\n",
       "        }    #T_60654d4a_9917_11eb_b72b_02420a39d5f7row9_col5 {\n",
       "            background-color:  #e7745b;\n",
       "            color:  #000000;\n",
       "        }    #T_60654d4a_9917_11eb_b72b_02420a39d5f7row9_col6 {\n",
       "            background-color:  #3b4cc0;\n",
       "            color:  #f1f1f1;\n",
       "        }    #T_60654d4a_9917_11eb_b72b_02420a39d5f7row9_col7 {\n",
       "            background-color:  #f7b396;\n",
       "            color:  #000000;\n",
       "        }    #T_60654d4a_9917_11eb_b72b_02420a39d5f7row9_col8 {\n",
       "            background-color:  #b40426;\n",
       "            color:  #f1f1f1;\n",
       "        }    #T_60654d4a_9917_11eb_b72b_02420a39d5f7row9_col9 {\n",
       "            background-color:  #f7a98b;\n",
       "            color:  #000000;\n",
       "        }    #T_60654d4a_9917_11eb_b72b_02420a39d5f7row10_col0 {\n",
       "            background-color:  #efcfbf;\n",
       "            color:  #000000;\n",
       "        }    #T_60654d4a_9917_11eb_b72b_02420a39d5f7row10_col1 {\n",
       "            background-color:  #3b4cc0;\n",
       "            color:  #f1f1f1;\n",
       "        }    #T_60654d4a_9917_11eb_b72b_02420a39d5f7row10_col2 {\n",
       "            background-color:  #f7b89c;\n",
       "            color:  #000000;\n",
       "        }    #T_60654d4a_9917_11eb_b72b_02420a39d5f7row10_col3 {\n",
       "            background-color:  #3b4cc0;\n",
       "            color:  #f1f1f1;\n",
       "        }    #T_60654d4a_9917_11eb_b72b_02420a39d5f7row10_col4 {\n",
       "            background-color:  #4257c9;\n",
       "            color:  #f1f1f1;\n",
       "        }    #T_60654d4a_9917_11eb_b72b_02420a39d5f7row10_col5 {\n",
       "            background-color:  #d44e41;\n",
       "            color:  #000000;\n",
       "        }    #T_60654d4a_9917_11eb_b72b_02420a39d5f7row10_col6 {\n",
       "            background-color:  #3b4cc0;\n",
       "            color:  #f1f1f1;\n",
       "        }    #T_60654d4a_9917_11eb_b72b_02420a39d5f7row10_col7 {\n",
       "            background-color:  #f5c1a9;\n",
       "            color:  #000000;\n",
       "        }    #T_60654d4a_9917_11eb_b72b_02420a39d5f7row10_col8 {\n",
       "            background-color:  #f4c6af;\n",
       "            color:  #000000;\n",
       "        }    #T_60654d4a_9917_11eb_b72b_02420a39d5f7row10_col9 {\n",
       "            background-color:  #b40426;\n",
       "            color:  #f1f1f1;\n",
       "        }    #T_60654d4a_9917_11eb_b72b_02420a39d5f7row11_col0 {\n",
       "            background-color:  #7396f5;\n",
       "            color:  #000000;\n",
       "        }    #T_60654d4a_9917_11eb_b72b_02420a39d5f7row11_col1 {\n",
       "            background-color:  #3b4cc0;\n",
       "            color:  #f1f1f1;\n",
       "        }    #T_60654d4a_9917_11eb_b72b_02420a39d5f7row11_col2 {\n",
       "            background-color:  #b40426;\n",
       "            color:  #f1f1f1;\n",
       "        }    #T_60654d4a_9917_11eb_b72b_02420a39d5f7row11_col3 {\n",
       "            background-color:  #3b4cc0;\n",
       "            color:  #f1f1f1;\n",
       "        }    #T_60654d4a_9917_11eb_b72b_02420a39d5f7row11_col4 {\n",
       "            background-color:  #3b4cc0;\n",
       "            color:  #f1f1f1;\n",
       "        }    #T_60654d4a_9917_11eb_b72b_02420a39d5f7row11_col5 {\n",
       "            background-color:  #b40426;\n",
       "            color:  #f1f1f1;\n",
       "        }    #T_60654d4a_9917_11eb_b72b_02420a39d5f7row11_col6 {\n",
       "            background-color:  #3b4cc0;\n",
       "            color:  #f1f1f1;\n",
       "        }    #T_60654d4a_9917_11eb_b72b_02420a39d5f7row11_col7 {\n",
       "            background-color:  #a6c4fe;\n",
       "            color:  #000000;\n",
       "        }    #T_60654d4a_9917_11eb_b72b_02420a39d5f7row11_col8 {\n",
       "            background-color:  #9abbff;\n",
       "            color:  #000000;\n",
       "        }    #T_60654d4a_9917_11eb_b72b_02420a39d5f7row11_col9 {\n",
       "            background-color:  #e46e56;\n",
       "            color:  #000000;\n",
       "        }    #T_60654d4a_9917_11eb_b72b_02420a39d5f7row12_col0 {\n",
       "            background-color:  #516ddb;\n",
       "            color:  #000000;\n",
       "        }    #T_60654d4a_9917_11eb_b72b_02420a39d5f7row12_col1 {\n",
       "            background-color:  #3b4cc0;\n",
       "            color:  #f1f1f1;\n",
       "        }    #T_60654d4a_9917_11eb_b72b_02420a39d5f7row12_col2 {\n",
       "            background-color:  #f5c1a9;\n",
       "            color:  #000000;\n",
       "        }    #T_60654d4a_9917_11eb_b72b_02420a39d5f7row12_col3 {\n",
       "            background-color:  #3b4cc0;\n",
       "            color:  #f1f1f1;\n",
       "        }    #T_60654d4a_9917_11eb_b72b_02420a39d5f7row12_col4 {\n",
       "            background-color:  #3b4cc0;\n",
       "            color:  #f1f1f1;\n",
       "        }    #T_60654d4a_9917_11eb_b72b_02420a39d5f7row12_col5 {\n",
       "            background-color:  #f7b194;\n",
       "            color:  #000000;\n",
       "        }    #T_60654d4a_9917_11eb_b72b_02420a39d5f7row12_col6 {\n",
       "            background-color:  #3b4cc0;\n",
       "            color:  #f1f1f1;\n",
       "        }    #T_60654d4a_9917_11eb_b72b_02420a39d5f7row12_col7 {\n",
       "            background-color:  #6687ed;\n",
       "            color:  #000000;\n",
       "        }    #T_60654d4a_9917_11eb_b72b_02420a39d5f7row12_col8 {\n",
       "            background-color:  #5a78e4;\n",
       "            color:  #000000;\n",
       "        }    #T_60654d4a_9917_11eb_b72b_02420a39d5f7row12_col9 {\n",
       "            background-color:  #f0cdbb;\n",
       "            color:  #000000;\n",
       "        }    #T_60654d4a_9917_11eb_b72b_02420a39d5f7row13_col0 {\n",
       "            background-color:  #3d50c3;\n",
       "            color:  #f1f1f1;\n",
       "        }    #T_60654d4a_9917_11eb_b72b_02420a39d5f7row13_col1 {\n",
       "            background-color:  #3b4cc0;\n",
       "            color:  #f1f1f1;\n",
       "        }    #T_60654d4a_9917_11eb_b72b_02420a39d5f7row13_col2 {\n",
       "            background-color:  #9dbdff;\n",
       "            color:  #000000;\n",
       "        }    #T_60654d4a_9917_11eb_b72b_02420a39d5f7row13_col3 {\n",
       "            background-color:  #3b4cc0;\n",
       "            color:  #f1f1f1;\n",
       "        }    #T_60654d4a_9917_11eb_b72b_02420a39d5f7row13_col4 {\n",
       "            background-color:  #3b4cc0;\n",
       "            color:  #f1f1f1;\n",
       "        }    #T_60654d4a_9917_11eb_b72b_02420a39d5f7row13_col5 {\n",
       "            background-color:  #f6a586;\n",
       "            color:  #000000;\n",
       "        }    #T_60654d4a_9917_11eb_b72b_02420a39d5f7row13_col6 {\n",
       "            background-color:  #81a4fb;\n",
       "            color:  #000000;\n",
       "        }    #T_60654d4a_9917_11eb_b72b_02420a39d5f7row13_col7 {\n",
       "            background-color:  #4b64d5;\n",
       "            color:  #f1f1f1;\n",
       "        }    #T_60654d4a_9917_11eb_b72b_02420a39d5f7row13_col8 {\n",
       "            background-color:  #465ecf;\n",
       "            color:  #f1f1f1;\n",
       "        }    #T_60654d4a_9917_11eb_b72b_02420a39d5f7row13_col9 {\n",
       "            background-color:  #e2dad5;\n",
       "            color:  #000000;\n",
       "        }    #T_60654d4a_9917_11eb_b72b_02420a39d5f7row14_col0 {\n",
       "            background-color:  #3b4cc0;\n",
       "            color:  #f1f1f1;\n",
       "        }    #T_60654d4a_9917_11eb_b72b_02420a39d5f7row14_col1 {\n",
       "            background-color:  #3b4cc0;\n",
       "            color:  #f1f1f1;\n",
       "        }    #T_60654d4a_9917_11eb_b72b_02420a39d5f7row14_col2 {\n",
       "            background-color:  #a6c4fe;\n",
       "            color:  #000000;\n",
       "        }    #T_60654d4a_9917_11eb_b72b_02420a39d5f7row14_col3 {\n",
       "            background-color:  #3b4cc0;\n",
       "            color:  #f1f1f1;\n",
       "        }    #T_60654d4a_9917_11eb_b72b_02420a39d5f7row14_col4 {\n",
       "            background-color:  #3b4cc0;\n",
       "            color:  #f1f1f1;\n",
       "        }    #T_60654d4a_9917_11eb_b72b_02420a39d5f7row14_col5 {\n",
       "            background-color:  #9fbfff;\n",
       "            color:  #000000;\n",
       "        }    #T_60654d4a_9917_11eb_b72b_02420a39d5f7row14_col6 {\n",
       "            background-color:  #e57058;\n",
       "            color:  #000000;\n",
       "        }    #T_60654d4a_9917_11eb_b72b_02420a39d5f7row14_col7 {\n",
       "            background-color:  #3c4ec2;\n",
       "            color:  #f1f1f1;\n",
       "        }    #T_60654d4a_9917_11eb_b72b_02420a39d5f7row14_col8 {\n",
       "            background-color:  #3f53c6;\n",
       "            color:  #f1f1f1;\n",
       "        }    #T_60654d4a_9917_11eb_b72b_02420a39d5f7row14_col9 {\n",
       "            background-color:  #7da0f9;\n",
       "            color:  #000000;\n",
       "        }    #T_60654d4a_9917_11eb_b72b_02420a39d5f7row15_col0 {\n",
       "            background-color:  #3b4cc0;\n",
       "            color:  #f1f1f1;\n",
       "        }    #T_60654d4a_9917_11eb_b72b_02420a39d5f7row15_col1 {\n",
       "            background-color:  #3b4cc0;\n",
       "            color:  #f1f1f1;\n",
       "        }    #T_60654d4a_9917_11eb_b72b_02420a39d5f7row15_col2 {\n",
       "            background-color:  #7396f5;\n",
       "            color:  #000000;\n",
       "        }    #T_60654d4a_9917_11eb_b72b_02420a39d5f7row15_col3 {\n",
       "            background-color:  #3b4cc0;\n",
       "            color:  #f1f1f1;\n",
       "        }    #T_60654d4a_9917_11eb_b72b_02420a39d5f7row15_col4 {\n",
       "            background-color:  #3b4cc0;\n",
       "            color:  #f1f1f1;\n",
       "        }    #T_60654d4a_9917_11eb_b72b_02420a39d5f7row15_col5 {\n",
       "            background-color:  #5b7ae5;\n",
       "            color:  #000000;\n",
       "        }    #T_60654d4a_9917_11eb_b72b_02420a39d5f7row15_col6 {\n",
       "            background-color:  #b40426;\n",
       "            color:  #f1f1f1;\n",
       "        }    #T_60654d4a_9917_11eb_b72b_02420a39d5f7row15_col7 {\n",
       "            background-color:  #3b4cc0;\n",
       "            color:  #f1f1f1;\n",
       "        }    #T_60654d4a_9917_11eb_b72b_02420a39d5f7row15_col8 {\n",
       "            background-color:  #3c4ec2;\n",
       "            color:  #f1f1f1;\n",
       "        }    #T_60654d4a_9917_11eb_b72b_02420a39d5f7row15_col9 {\n",
       "            background-color:  #506bda;\n",
       "            color:  #000000;\n",
       "        }    #T_60654d4a_9917_11eb_b72b_02420a39d5f7row16_col0 {\n",
       "            background-color:  #3b4cc0;\n",
       "            color:  #f1f1f1;\n",
       "        }    #T_60654d4a_9917_11eb_b72b_02420a39d5f7row16_col1 {\n",
       "            background-color:  #3b4cc0;\n",
       "            color:  #f1f1f1;\n",
       "        }    #T_60654d4a_9917_11eb_b72b_02420a39d5f7row16_col2 {\n",
       "            background-color:  #516ddb;\n",
       "            color:  #000000;\n",
       "        }    #T_60654d4a_9917_11eb_b72b_02420a39d5f7row16_col3 {\n",
       "            background-color:  #3b4cc0;\n",
       "            color:  #f1f1f1;\n",
       "        }    #T_60654d4a_9917_11eb_b72b_02420a39d5f7row16_col4 {\n",
       "            background-color:  #3b4cc0;\n",
       "            color:  #f1f1f1;\n",
       "        }    #T_60654d4a_9917_11eb_b72b_02420a39d5f7row16_col5 {\n",
       "            background-color:  #4055c8;\n",
       "            color:  #f1f1f1;\n",
       "        }    #T_60654d4a_9917_11eb_b72b_02420a39d5f7row16_col6 {\n",
       "            background-color:  #efcebd;\n",
       "            color:  #000000;\n",
       "        }    #T_60654d4a_9917_11eb_b72b_02420a39d5f7row16_col7 {\n",
       "            background-color:  #3b4cc0;\n",
       "            color:  #f1f1f1;\n",
       "        }    #T_60654d4a_9917_11eb_b72b_02420a39d5f7row16_col8 {\n",
       "            background-color:  #3b4cc0;\n",
       "            color:  #f1f1f1;\n",
       "        }    #T_60654d4a_9917_11eb_b72b_02420a39d5f7row16_col9 {\n",
       "            background-color:  #3d50c3;\n",
       "            color:  #f1f1f1;\n",
       "        }</style><table id=\"T_60654d4a_9917_11eb_b72b_02420a39d5f7\" ><thead>    <tr>        <th class=\"index_name level0\" >platform</th>        <th class=\"col_heading level0 col0\" >DS</th>        <th class=\"col_heading level0 col1\" >GBA</th>        <th class=\"col_heading level0 col2\" >PC</th>        <th class=\"col_heading level0 col3\" >PS</th>        <th class=\"col_heading level0 col4\" >PS2</th>        <th class=\"col_heading level0 col5\" >PS3</th>        <th class=\"col_heading level0 col6\" >PS4</th>        <th class=\"col_heading level0 col7\" >PSP</th>        <th class=\"col_heading level0 col8\" >Wii</th>        <th class=\"col_heading level0 col9\" >X360</th>    </tr>    <tr>        <th class=\"index_name level0\" >year_of_release</th>        <th class=\"blank\" ></th>        <th class=\"blank\" ></th>        <th class=\"blank\" ></th>        <th class=\"blank\" ></th>        <th class=\"blank\" ></th>        <th class=\"blank\" ></th>        <th class=\"blank\" ></th>        <th class=\"blank\" ></th>        <th class=\"blank\" ></th>        <th class=\"blank\" ></th>    </tr></thead><tbody>\n",
       "                <tr>\n",
       "                        <th id=\"T_60654d4a_9917_11eb_b72b_02420a39d5f7level0_row0\" class=\"row_heading level0 row0\" >2000</th>\n",
       "                        <td id=\"T_60654d4a_9917_11eb_b72b_02420a39d5f7row0_col0\" class=\"data row0 col0\" >0</td>\n",
       "                        <td id=\"T_60654d4a_9917_11eb_b72b_02420a39d5f7row0_col1\" class=\"data row0 col1\" >0.000898473</td>\n",
       "                        <td id=\"T_60654d4a_9917_11eb_b72b_02420a39d5f7row0_col2\" class=\"data row0 col2\" >0.133029</td>\n",
       "                        <td id=\"T_60654d4a_9917_11eb_b72b_02420a39d5f7row0_col3\" class=\"data row0 col3\" >1</td>\n",
       "                        <td id=\"T_60654d4a_9917_11eb_b72b_02420a39d5f7row0_col4\" class=\"data row0 col4\" >0.18493</td>\n",
       "                        <td id=\"T_60654d4a_9917_11eb_b72b_02420a39d5f7row0_col5\" class=\"data row0 col5\" >0</td>\n",
       "                        <td id=\"T_60654d4a_9917_11eb_b72b_02420a39d5f7row0_col6\" class=\"data row0 col6\" >0</td>\n",
       "                        <td id=\"T_60654d4a_9917_11eb_b72b_02420a39d5f7row0_col7\" class=\"data row0 col7\" >0</td>\n",
       "                        <td id=\"T_60654d4a_9917_11eb_b72b_02420a39d5f7row0_col8\" class=\"data row0 col8\" >0</td>\n",
       "                        <td id=\"T_60654d4a_9917_11eb_b72b_02420a39d5f7row0_col9\" class=\"data row0 col9\" >0</td>\n",
       "            </tr>\n",
       "            <tr>\n",
       "                        <th id=\"T_60654d4a_9917_11eb_b72b_02420a39d5f7level0_row1\" class=\"row_heading level0 row1\" >2001</th>\n",
       "                        <td id=\"T_60654d4a_9917_11eb_b72b_02420a39d5f7row1_col0\" class=\"data row1 col0\" >0</td>\n",
       "                        <td id=\"T_60654d4a_9917_11eb_b72b_02420a39d5f7row1_col1\" class=\"data row1 col1\" >0.789757</td>\n",
       "                        <td id=\"T_60654d4a_9917_11eb_b72b_02420a39d5f7row1_col2\" class=\"data row1 col2\" >0.156152</td>\n",
       "                        <td id=\"T_60654d4a_9917_11eb_b72b_02420a39d5f7row1_col3\" class=\"data row1 col3\" >0.369306</td>\n",
       "                        <td id=\"T_60654d4a_9917_11eb_b72b_02420a39d5f7row1_col4\" class=\"data row1 col4\" >0.785751</td>\n",
       "                        <td id=\"T_60654d4a_9917_11eb_b72b_02420a39d5f7row1_col5\" class=\"data row1 col5\" >0</td>\n",
       "                        <td id=\"T_60654d4a_9917_11eb_b72b_02420a39d5f7row1_col6\" class=\"data row1 col6\" >0</td>\n",
       "                        <td id=\"T_60654d4a_9917_11eb_b72b_02420a39d5f7row1_col7\" class=\"data row1 col7\" >0</td>\n",
       "                        <td id=\"T_60654d4a_9917_11eb_b72b_02420a39d5f7row1_col8\" class=\"data row1 col8\" >0</td>\n",
       "                        <td id=\"T_60654d4a_9917_11eb_b72b_02420a39d5f7row1_col9\" class=\"data row1 col9\" >0</td>\n",
       "            </tr>\n",
       "            <tr>\n",
       "                        <th id=\"T_60654d4a_9917_11eb_b72b_02420a39d5f7level0_row2\" class=\"row_heading level0 row2\" >2002</th>\n",
       "                        <td id=\"T_60654d4a_9917_11eb_b72b_02420a39d5f7row2_col0\" class=\"data row2 col0\" >0</td>\n",
       "                        <td id=\"T_60654d4a_9917_11eb_b72b_02420a39d5f7row2_col1\" class=\"data row2 col1\" >0.951868</td>\n",
       "                        <td id=\"T_60654d4a_9917_11eb_b72b_02420a39d5f7row2_col2\" class=\"data row2 col2\" >0.244647</td>\n",
       "                        <td id=\"T_60654d4a_9917_11eb_b72b_02420a39d5f7row2_col3\" class=\"data row2 col3\" >0.0692124</td>\n",
       "                        <td id=\"T_60654d4a_9917_11eb_b72b_02420a39d5f7row2_col4\" class=\"data row2 col4\" >0.969643</td>\n",
       "                        <td id=\"T_60654d4a_9917_11eb_b72b_02420a39d5f7row2_col5\" class=\"data row2 col5\" >0</td>\n",
       "                        <td id=\"T_60654d4a_9917_11eb_b72b_02420a39d5f7row2_col6\" class=\"data row2 col6\" >0</td>\n",
       "                        <td id=\"T_60654d4a_9917_11eb_b72b_02420a39d5f7row2_col7\" class=\"data row2 col7\" >0</td>\n",
       "                        <td id=\"T_60654d4a_9917_11eb_b72b_02420a39d5f7row2_col8\" class=\"data row2 col8\" >0</td>\n",
       "                        <td id=\"T_60654d4a_9917_11eb_b72b_02420a39d5f7row2_col9\" class=\"data row2 col9\" >0</td>\n",
       "            </tr>\n",
       "            <tr>\n",
       "                        <th id=\"T_60654d4a_9917_11eb_b72b_02420a39d5f7level0_row3\" class=\"row_heading level0 row3\" >2003</th>\n",
       "                        <td id=\"T_60654d4a_9917_11eb_b72b_02420a39d5f7row3_col0\" class=\"data row3 col0\" >0</td>\n",
       "                        <td id=\"T_60654d4a_9917_11eb_b72b_02420a39d5f7row3_col1\" class=\"data row3 col1\" >0.727378</td>\n",
       "                        <td id=\"T_60654d4a_9917_11eb_b72b_02420a39d5f7row3_col2\" class=\"data row3 col2\" >0.252355</td>\n",
       "                        <td id=\"T_60654d4a_9917_11eb_b72b_02420a39d5f7row3_col3\" class=\"data row3 col3\" >0.0214797</td>\n",
       "                        <td id=\"T_60654d4a_9917_11eb_b72b_02420a39d5f7row3_col4\" class=\"data row3 col4\" >0.870167</td>\n",
       "                        <td id=\"T_60654d4a_9917_11eb_b72b_02420a39d5f7row3_col5\" class=\"data row3 col5\" >0</td>\n",
       "                        <td id=\"T_60654d4a_9917_11eb_b72b_02420a39d5f7row3_col6\" class=\"data row3 col6\" >0</td>\n",
       "                        <td id=\"T_60654d4a_9917_11eb_b72b_02420a39d5f7row3_col7\" class=\"data row3 col7\" >0</td>\n",
       "                        <td id=\"T_60654d4a_9917_11eb_b72b_02420a39d5f7row3_col8\" class=\"data row3 col8\" >0</td>\n",
       "                        <td id=\"T_60654d4a_9917_11eb_b72b_02420a39d5f7row3_col9\" class=\"data row3 col9\" >0</td>\n",
       "            </tr>\n",
       "            <tr>\n",
       "                        <th id=\"T_60654d4a_9917_11eb_b72b_02420a39d5f7level0_row4\" class=\"row_heading level0 row4\" >2004</th>\n",
       "                        <td id=\"T_60654d4a_9917_11eb_b72b_02420a39d5f7row4_col0\" class=\"data row4 col0\" >0.117531</td>\n",
       "                        <td id=\"T_60654d4a_9917_11eb_b72b_02420a39d5f7row4_col1\" class=\"data row4 col1\" >1</td>\n",
       "                        <td id=\"T_60654d4a_9917_11eb_b72b_02420a39d5f7row4_col2\" class=\"data row4 col2\" >0.296603</td>\n",
       "                        <td id=\"T_60654d4a_9917_11eb_b72b_02420a39d5f7row4_col3\" class=\"data row4 col3\" >0</td>\n",
       "                        <td id=\"T_60654d4a_9917_11eb_b72b_02420a39d5f7row4_col4\" class=\"data row4 col4\" >1</td>\n",
       "                        <td id=\"T_60654d4a_9917_11eb_b72b_02420a39d5f7row4_col5\" class=\"data row4 col5\" >0</td>\n",
       "                        <td id=\"T_60654d4a_9917_11eb_b72b_02420a39d5f7row4_col6\" class=\"data row4 col6\" >0</td>\n",
       "                        <td id=\"T_60654d4a_9917_11eb_b72b_02420a39d5f7row4_col7\" class=\"data row4 col7\" >0.127621</td>\n",
       "                        <td id=\"T_60654d4a_9917_11eb_b72b_02420a39d5f7row4_col8\" class=\"data row4 col8\" >0</td>\n",
       "                        <td id=\"T_60654d4a_9917_11eb_b72b_02420a39d5f7row4_col9\" class=\"data row4 col9\" >0</td>\n",
       "            </tr>\n",
       "            <tr>\n",
       "                        <th id=\"T_60654d4a_9917_11eb_b72b_02420a39d5f7level0_row5\" class=\"row_heading level0 row5\" >2005</th>\n",
       "                        <td id=\"T_60654d4a_9917_11eb_b72b_02420a39d5f7row5_col0\" class=\"data row5 col0\" >0.885668</td>\n",
       "                        <td id=\"T_60654d4a_9917_11eb_b72b_02420a39d5f7row5_col1\" class=\"data row5 col1\" >0.434604</td>\n",
       "                        <td id=\"T_60654d4a_9917_11eb_b72b_02420a39d5f7row5_col2\" class=\"data row5 col2\" >0.12475</td>\n",
       "                        <td id=\"T_60654d4a_9917_11eb_b72b_02420a39d5f7row5_col3\" class=\"data row5 col3\" >0</td>\n",
       "                        <td id=\"T_60654d4a_9917_11eb_b72b_02420a39d5f7row5_col4\" class=\"data row5 col4\" >0.75851</td>\n",
       "                        <td id=\"T_60654d4a_9917_11eb_b72b_02420a39d5f7row5_col5\" class=\"data row5 col5\" >0</td>\n",
       "                        <td id=\"T_60654d4a_9917_11eb_b72b_02420a39d5f7row5_col6\" class=\"data row5 col6\" >0</td>\n",
       "                        <td id=\"T_60654d4a_9917_11eb_b72b_02420a39d5f7row5_col7\" class=\"data row5 col7\" >0.79248</td>\n",
       "                        <td id=\"T_60654d4a_9917_11eb_b72b_02420a39d5f7row5_col8\" class=\"data row5 col8\" >0</td>\n",
       "                        <td id=\"T_60654d4a_9917_11eb_b72b_02420a39d5f7row5_col9\" class=\"data row5 col9\" >0.0485208</td>\n",
       "            </tr>\n",
       "            <tr>\n",
       "                        <th id=\"T_60654d4a_9917_11eb_b72b_02420a39d5f7level0_row6\" class=\"row_heading level0 row6\" >2006</th>\n",
       "                        <td id=\"T_60654d4a_9917_11eb_b72b_02420a39d5f7row6_col0\" class=\"data row6 col0\" >0.815367</td>\n",
       "                        <td id=\"T_60654d4a_9917_11eb_b72b_02420a39d5f7row6_col1\" class=\"data row6 col1\" >0.0677705</td>\n",
       "                        <td id=\"T_60654d4a_9917_11eb_b72b_02420a39d5f7row6_col2\" class=\"data row6 col2\" >0.0813588</td>\n",
       "                        <td id=\"T_60654d4a_9917_11eb_b72b_02420a39d5f7row6_col3\" class=\"data row6 col3\" >0</td>\n",
       "                        <td id=\"T_60654d4a_9917_11eb_b72b_02420a39d5f7row6_col4\" class=\"data row6 col4\" >0.488268</td>\n",
       "                        <td id=\"T_60654d4a_9917_11eb_b72b_02420a39d5f7row6_col5\" class=\"data row6 col5\" >0.133691</td>\n",
       "                        <td id=\"T_60654d4a_9917_11eb_b72b_02420a39d5f7row6_col6\" class=\"data row6 col6\" >0</td>\n",
       "                        <td id=\"T_60654d4a_9917_11eb_b72b_02420a39d5f7row6_col7\" class=\"data row6 col7\" >1</td>\n",
       "                        <td id=\"T_60654d4a_9917_11eb_b72b_02420a39d5f7row6_col8\" class=\"data row6 col8\" >0.662656</td>\n",
       "                        <td id=\"T_60654d4a_9917_11eb_b72b_02420a39d5f7row6_col9\" class=\"data row6 col9\" >0.303593</td>\n",
       "            </tr>\n",
       "            <tr>\n",
       "                        <th id=\"T_60654d4a_9917_11eb_b72b_02420a39d5f7level0_row7\" class=\"row_heading level0 row7\" >2007</th>\n",
       "                        <td id=\"T_60654d4a_9917_11eb_b72b_02420a39d5f7row7_col0\" class=\"data row7 col0\" >1</td>\n",
       "                        <td id=\"T_60654d4a_9917_11eb_b72b_02420a39d5f7row7_col1\" class=\"data row7 col1\" >0.0436401</td>\n",
       "                        <td id=\"T_60654d4a_9917_11eb_b72b_02420a39d5f7row7_col2\" class=\"data row7 col2\" >0.264916</td>\n",
       "                        <td id=\"T_60654d4a_9917_11eb_b72b_02420a39d5f7row7_col3\" class=\"data row7 col3\" >0</td>\n",
       "                        <td id=\"T_60654d4a_9917_11eb_b72b_02420a39d5f7row7_col4\" class=\"data row7 col4\" >0.358765</td>\n",
       "                        <td id=\"T_60654d4a_9917_11eb_b72b_02420a39d5f7row7_col5\" class=\"data row7 col5\" >0.466833</td>\n",
       "                        <td id=\"T_60654d4a_9917_11eb_b72b_02420a39d5f7row7_col6\" class=\"data row7 col6\" >0</td>\n",
       "                        <td id=\"T_60654d4a_9917_11eb_b72b_02420a39d5f7row7_col7\" class=\"data row7 col7\" >0.848337</td>\n",
       "                        <td id=\"T_60654d4a_9917_11eb_b72b_02420a39d5f7row7_col8\" class=\"data row7 col8\" >0.738126</td>\n",
       "                        <td id=\"T_60654d4a_9917_11eb_b72b_02420a39d5f7row7_col9\" class=\"data row7 col9\" >0.561136</td>\n",
       "            </tr>\n",
       "            <tr>\n",
       "                        <th id=\"T_60654d4a_9917_11eb_b72b_02420a39d5f7level0_row8\" class=\"row_heading level0 row8\" >2008</th>\n",
       "                        <td id=\"T_60654d4a_9917_11eb_b72b_02420a39d5f7row8_col0\" class=\"data row8 col0\" >0.988907</td>\n",
       "                        <td id=\"T_60654d4a_9917_11eb_b72b_02420a39d5f7row8_col1\" class=\"data row8 col1\" >0</td>\n",
       "                        <td id=\"T_60654d4a_9917_11eb_b72b_02420a39d5f7row8_col2\" class=\"data row8 col2\" >0.354553</td>\n",
       "                        <td id=\"T_60654d4a_9917_11eb_b72b_02420a39d5f7row8_col3\" class=\"data row8 col3\" >0</td>\n",
       "                        <td id=\"T_60654d4a_9917_11eb_b72b_02420a39d5f7row8_col4\" class=\"data row8 col4\" >0.254473</td>\n",
       "                        <td id=\"T_60654d4a_9917_11eb_b72b_02420a39d5f7row8_col5\" class=\"data row8 col5\" >0.755964</td>\n",
       "                        <td id=\"T_60654d4a_9917_11eb_b72b_02420a39d5f7row8_col6\" class=\"data row8 col6\" >0</td>\n",
       "                        <td id=\"T_60654d4a_9917_11eb_b72b_02420a39d5f7row8_col7\" class=\"data row8 col7\" >0.624548</td>\n",
       "                        <td id=\"T_60654d4a_9917_11eb_b72b_02420a39d5f7row8_col8\" class=\"data row8 col8\" >0.827753</td>\n",
       "                        <td id=\"T_60654d4a_9917_11eb_b72b_02420a39d5f7row8_col9\" class=\"data row8 col9\" >0.795507</td>\n",
       "            </tr>\n",
       "            <tr>\n",
       "                        <th id=\"T_60654d4a_9917_11eb_b72b_02420a39d5f7level0_row9\" class=\"row_heading level0 row9\" >2009</th>\n",
       "                        <td id=\"T_60654d4a_9917_11eb_b72b_02420a39d5f7row9_col0\" class=\"data row9 col0\" >0.813529</td>\n",
       "                        <td id=\"T_60654d4a_9917_11eb_b72b_02420a39d5f7row9_col1\" class=\"data row9 col1\" >0</td>\n",
       "                        <td id=\"T_60654d4a_9917_11eb_b72b_02420a39d5f7row9_col2\" class=\"data row9 col2\" >0.482729</td>\n",
       "                        <td id=\"T_60654d4a_9917_11eb_b72b_02420a39d5f7row9_col3\" class=\"data row9 col3\" >0</td>\n",
       "                        <td id=\"T_60654d4a_9917_11eb_b72b_02420a39d5f7row9_col4\" class=\"data row9 col4\" >0.12464</td>\n",
       "                        <td id=\"T_60654d4a_9917_11eb_b72b_02420a39d5f7row9_col5\" class=\"data row9 col5\" >0.835119</td>\n",
       "                        <td id=\"T_60654d4a_9917_11eb_b72b_02420a39d5f7row9_col6\" class=\"data row9 col6\" >0</td>\n",
       "                        <td id=\"T_60654d4a_9917_11eb_b72b_02420a39d5f7row9_col7\" class=\"data row9 col7\" >0.682936</td>\n",
       "                        <td id=\"T_60654d4a_9917_11eb_b72b_02420a39d5f7row9_col8\" class=\"data row9 col8\" >1</td>\n",
       "                        <td id=\"T_60654d4a_9917_11eb_b72b_02420a39d5f7row9_col9\" class=\"data row9 col9\" >0.707463</td>\n",
       "            </tr>\n",
       "            <tr>\n",
       "                        <th id=\"T_60654d4a_9917_11eb_b72b_02420a39d5f7level0_row10\" class=\"row_heading level0 row10\" >2010</th>\n",
       "                        <td id=\"T_60654d4a_9917_11eb_b72b_02420a39d5f7row10_col0\" class=\"data row10 col0\" >0.578604</td>\n",
       "                        <td id=\"T_60654d4a_9917_11eb_b72b_02420a39d5f7row10_col1\" class=\"data row10 col1\" >0</td>\n",
       "                        <td id=\"T_60654d4a_9917_11eb_b72b_02420a39d5f7row10_col2\" class=\"data row10 col2\" >0.69312</td>\n",
       "                        <td id=\"T_60654d4a_9917_11eb_b72b_02420a39d5f7row10_col3\" class=\"data row10 col3\" >0</td>\n",
       "                        <td id=\"T_60654d4a_9917_11eb_b72b_02420a39d5f7row10_col4\" class=\"data row10 col4\" >0.0266276</td>\n",
       "                        <td id=\"T_60654d4a_9917_11eb_b72b_02420a39d5f7row10_col5\" class=\"data row10 col5\" >0.906812</td>\n",
       "                        <td id=\"T_60654d4a_9917_11eb_b72b_02420a39d5f7row10_col6\" class=\"data row10 col6\" >0</td>\n",
       "                        <td id=\"T_60654d4a_9917_11eb_b72b_02420a39d5f7row10_col7\" class=\"data row10 col7\" >0.633406</td>\n",
       "                        <td id=\"T_60654d4a_9917_11eb_b72b_02420a39d5f7row10_col8\" class=\"data row10 col8\" >0.618206</td>\n",
       "                        <td id=\"T_60654d4a_9917_11eb_b72b_02420a39d5f7row10_col9\" class=\"data row10 col9\" >1</td>\n",
       "            </tr>\n",
       "            <tr>\n",
       "                        <th id=\"T_60654d4a_9917_11eb_b72b_02420a39d5f7level0_row11\" class=\"row_heading level0 row11\" >2011</th>\n",
       "                        <td id=\"T_60654d4a_9917_11eb_b72b_02420a39d5f7row11_col0\" class=\"data row11 col0\" >0.178168</td>\n",
       "                        <td id=\"T_60654d4a_9917_11eb_b72b_02420a39d5f7row11_col1\" class=\"data row11 col1\" >0</td>\n",
       "                        <td id=\"T_60654d4a_9917_11eb_b72b_02420a39d5f7row11_col2\" class=\"data row11 col2\" >1</td>\n",
       "                        <td id=\"T_60654d4a_9917_11eb_b72b_02420a39d5f7row11_col3\" class=\"data row11 col3\" >0</td>\n",
       "                        <td id=\"T_60654d4a_9917_11eb_b72b_02420a39d5f7row11_col4\" class=\"data row11 col4\" >0.00212455</td>\n",
       "                        <td id=\"T_60654d4a_9917_11eb_b72b_02420a39d5f7row11_col5\" class=\"data row11 col5\" >1</td>\n",
       "                        <td id=\"T_60654d4a_9917_11eb_b72b_02420a39d5f7row11_col6\" class=\"data row11 col6\" >0</td>\n",
       "                        <td id=\"T_60654d4a_9917_11eb_b72b_02420a39d5f7row11_col7\" class=\"data row11 col7\" >0.322126</td>\n",
       "                        <td id=\"T_60654d4a_9917_11eb_b72b_02420a39d5f7row11_col8\" class=\"data row11 col8\" >0.288206</td>\n",
       "                        <td id=\"T_60654d4a_9917_11eb_b72b_02420a39d5f7row11_col9\" class=\"data row11 col9\" >0.845968</td>\n",
       "            </tr>\n",
       "            <tr>\n",
       "                        <th id=\"T_60654d4a_9917_11eb_b72b_02420a39d5f7level0_row12\" class=\"row_heading level0 row12\" >2012</th>\n",
       "                        <td id=\"T_60654d4a_9917_11eb_b72b_02420a39d5f7row12_col0\" class=\"data row12 col0\" >0.0749285</td>\n",
       "                        <td id=\"T_60654d4a_9917_11eb_b72b_02420a39d5f7row12_col1\" class=\"data row12 col1\" >0</td>\n",
       "                        <td id=\"T_60654d4a_9917_11eb_b72b_02420a39d5f7row12_col2\" class=\"data row12 col2\" >0.66286</td>\n",
       "                        <td id=\"T_60654d4a_9917_11eb_b72b_02420a39d5f7row12_col3\" class=\"data row12 col3\" >0</td>\n",
       "                        <td id=\"T_60654d4a_9917_11eb_b72b_02420a39d5f7row12_col4\" class=\"data row12 col4\" >0</td>\n",
       "                        <td id=\"T_60654d4a_9917_11eb_b72b_02420a39d5f7row12_col5\" class=\"data row12 col5\" >0.684781</td>\n",
       "                        <td id=\"T_60654d4a_9917_11eb_b72b_02420a39d5f7row12_col6\" class=\"data row12 col6\" >0</td>\n",
       "                        <td id=\"T_60654d4a_9917_11eb_b72b_02420a39d5f7row12_col7\" class=\"data row12 col7\" >0.139009</td>\n",
       "                        <td id=\"T_60654d4a_9917_11eb_b72b_02420a39d5f7row12_col8\" class=\"data row12 col8\" >0.104894</td>\n",
       "                        <td id=\"T_60654d4a_9917_11eb_b72b_02420a39d5f7row12_col9\" class=\"data row12 col9\" >0.586602</td>\n",
       "            </tr>\n",
       "            <tr>\n",
       "                        <th id=\"T_60654d4a_9917_11eb_b72b_02420a39d5f7level0_row13\" class=\"row_heading level0 row13\" >2013</th>\n",
       "                        <td id=\"T_60654d4a_9917_11eb_b72b_02420a39d5f7row13_col0\" class=\"data row13 col0\" >0.0104805</td>\n",
       "                        <td id=\"T_60654d4a_9917_11eb_b72b_02420a39d5f7row13_col1\" class=\"data row13 col1\" >0</td>\n",
       "                        <td id=\"T_60654d4a_9917_11eb_b72b_02420a39d5f7row13_col2\" class=\"data row13 col2\" >0.353411</td>\n",
       "                        <td id=\"T_60654d4a_9917_11eb_b72b_02420a39d5f7row13_col3\" class=\"data row13 col3\" >0</td>\n",
       "                        <td id=\"T_60654d4a_9917_11eb_b72b_02420a39d5f7row13_col4\" class=\"data row13 col4\" >0</td>\n",
       "                        <td id=\"T_60654d4a_9917_11eb_b72b_02420a39d5f7row13_col5\" class=\"data row13 col5\" >0.72235</td>\n",
       "                        <td id=\"T_60654d4a_9917_11eb_b72b_02420a39d5f7row13_col6\" class=\"data row13 col6\" >0.218587</td>\n",
       "                        <td id=\"T_60654d4a_9917_11eb_b72b_02420a39d5f7row13_col7\" class=\"data row13 col7\" >0.0567607</td>\n",
       "                        <td id=\"T_60654d4a_9917_11eb_b72b_02420a39d5f7row13_col8\" class=\"data row13 col8\" >0.0415036</td>\n",
       "                        <td id=\"T_60654d4a_9917_11eb_b72b_02420a39d5f7row13_col9\" class=\"data row13 col9\" >0.520967</td>\n",
       "            </tr>\n",
       "            <tr>\n",
       "                        <th id=\"T_60654d4a_9917_11eb_b72b_02420a39d5f7level0_row14\" class=\"row_heading level0 row14\" >2014</th>\n",
       "                        <td id=\"T_60654d4a_9917_11eb_b72b_02420a39d5f7row14_col0\" class=\"data row14 col0\" >0</td>\n",
       "                        <td id=\"T_60654d4a_9917_11eb_b72b_02420a39d5f7row14_col1\" class=\"data row14 col1\" >0</td>\n",
       "                        <td id=\"T_60654d4a_9917_11eb_b72b_02420a39d5f7row14_col2\" class=\"data row14 col2\" >0.379104</td>\n",
       "                        <td id=\"T_60654d4a_9917_11eb_b72b_02420a39d5f7row14_col3\" class=\"data row14 col3\" >0</td>\n",
       "                        <td id=\"T_60654d4a_9917_11eb_b72b_02420a39d5f7row14_col4\" class=\"data row14 col4\" >0</td>\n",
       "                        <td id=\"T_60654d4a_9917_11eb_b72b_02420a39d5f7row14_col5\" class=\"data row14 col5\" >0.304631</td>\n",
       "                        <td id=\"T_60654d4a_9917_11eb_b72b_02420a39d5f7row14_col6\" class=\"data row14 col6\" >0.841043</td>\n",
       "                        <td id=\"T_60654d4a_9917_11eb_b72b_02420a39d5f7row14_col7\" class=\"data row14 col7\" >0.00433839</td>\n",
       "                        <td id=\"T_60654d4a_9917_11eb_b72b_02420a39d5f7row14_col8\" class=\"data row14 col8\" >0.0181186</td>\n",
       "                        <td id=\"T_60654d4a_9917_11eb_b72b_02420a39d5f7row14_col9\" class=\"data row14 col9\" >0.204317</td>\n",
       "            </tr>\n",
       "            <tr>\n",
       "                        <th id=\"T_60654d4a_9917_11eb_b72b_02420a39d5f7level0_row15\" class=\"row_heading level0 row15\" >2015</th>\n",
       "                        <td id=\"T_60654d4a_9917_11eb_b72b_02420a39d5f7row15_col0\" class=\"data row15 col0\" >0</td>\n",
       "                        <td id=\"T_60654d4a_9917_11eb_b72b_02420a39d5f7row15_col1\" class=\"data row15 col1\" >0</td>\n",
       "                        <td id=\"T_60654d4a_9917_11eb_b72b_02420a39d5f7row15_col2\" class=\"data row15 col2\" >0.24322</td>\n",
       "                        <td id=\"T_60654d4a_9917_11eb_b72b_02420a39d5f7row15_col3\" class=\"data row15 col3\" >0</td>\n",
       "                        <td id=\"T_60654d4a_9917_11eb_b72b_02420a39d5f7row15_col4\" class=\"data row15 col4\" >0</td>\n",
       "                        <td id=\"T_60654d4a_9917_11eb_b72b_02420a39d5f7row15_col5\" class=\"data row15 col5\" >0.107284</td>\n",
       "                        <td id=\"T_60654d4a_9917_11eb_b72b_02420a39d5f7row15_col6\" class=\"data row15 col6\" >1</td>\n",
       "                        <td id=\"T_60654d4a_9917_11eb_b72b_02420a39d5f7row15_col7\" class=\"data row15 col7\" >0.0021692</td>\n",
       "                        <td id=\"T_60654d4a_9917_11eb_b72b_02420a39d5f7row15_col8\" class=\"data row15 col8\" >0.00550804</td>\n",
       "                        <td id=\"T_60654d4a_9917_11eb_b72b_02420a39d5f7row15_col9\" class=\"data row15 col9\" >0.0703405</td>\n",
       "            </tr>\n",
       "            <tr>\n",
       "                        <th id=\"T_60654d4a_9917_11eb_b72b_02420a39d5f7level0_row16\" class=\"row_heading level0 row16\" >2016</th>\n",
       "                        <td id=\"T_60654d4a_9917_11eb_b72b_02420a39d5f7row16_col0\" class=\"data row16 col0\" >0</td>\n",
       "                        <td id=\"T_60654d4a_9917_11eb_b72b_02420a39d5f7row16_col1\" class=\"data row16 col1\" >0</td>\n",
       "                        <td id=\"T_60654d4a_9917_11eb_b72b_02420a39d5f7row16_col2\" class=\"data row16 col2\" >0.149872</td>\n",
       "                        <td id=\"T_60654d4a_9917_11eb_b72b_02420a39d5f7row16_col3\" class=\"data row16 col3\" >0</td>\n",
       "                        <td id=\"T_60654d4a_9917_11eb_b72b_02420a39d5f7row16_col4\" class=\"data row16 col4\" >0</td>\n",
       "                        <td id=\"T_60654d4a_9917_11eb_b72b_02420a39d5f7row16_col5\" class=\"data row16 col5\" >0.0229621</td>\n",
       "                        <td id=\"T_60654d4a_9917_11eb_b72b_02420a39d5f7row16_col6\" class=\"data row16 col6\" >0.582422</td>\n",
       "                        <td id=\"T_60654d4a_9917_11eb_b72b_02420a39d5f7row16_col7\" class=\"data row16 col7\" >0</td>\n",
       "                        <td id=\"T_60654d4a_9917_11eb_b72b_02420a39d5f7row16_col8\" class=\"data row16 col8\" >0.000869691</td>\n",
       "                        <td id=\"T_60654d4a_9917_11eb_b72b_02420a39d5f7row16_col9\" class=\"data row16 col9\" >0.0089396</td>\n",
       "            </tr>\n",
       "    </tbody></table>"
      ],
      "text/plain": [
       "<pandas.io.formats.style.Styler at 0x7fd1744d2250>"
      ]
     },
     "execution_count": 215,
     "metadata": {},
     "output_type": "execute_result"
    }
   ],
   "source": [
    "# отнормированная сводная таблица\n",
    "pivot_T_normalized.style.background_gradient('coolwarm') "
   ]
  },
  {
   "cell_type": "code",
   "execution_count": 216,
   "metadata": {},
   "outputs": [
    {
     "data": {
      "text/plain": [
       "['DS', 'GBA', 'PC', 'PS', 'PS2', 'PS3', 'PS4', 'PSP', 'Wii', 'X360']"
      ]
     },
     "execution_count": 216,
     "metadata": {},
     "output_type": "execute_result"
    }
   ],
   "source": [
    "list_10 = pivot_T_normalized.columns.tolist()\n",
    "list_10"
   ]
  },
  {
   "cell_type": "markdown",
   "metadata": {},
   "source": [
    "Построим графики по годам выпуска. И посмотрим на ширину 'колокола' на относительной высоте = 0.5."
   ]
  },
  {
   "cell_type": "code",
   "execution_count": 217,
   "metadata": {},
   "outputs": [
    {
     "data": {
      "image/png": "[encoded data removed]",
      "text/plain": [
       "<Figure size 432x288 with 1 Axes>"
      ]
     },
     "metadata": {
      "needs_background": "light"
     },
     "output_type": "display_data"
    }
   ],
   "source": [
    "for platfоrm in list_10[:4]:\n",
    "    dfq = pivot_T_normalized[platfоrm]\n",
    "    dfq.plot(legend = platfоrm)\n",
    "    plt.xlabel('Год выпуска релиза')\n",
    "    plt.ylabel('Нормированное количество копий')\n",
    "    plt.title('Срок жизни платформы')"
   ]
  },
  {
   "cell_type": "code",
   "execution_count": 218,
   "metadata": {
    "scrolled": true
   },
   "outputs": [
    {
     "data": {
      "image/png": "[encoded data removed]",
      "text/plain": [
       "<Figure size 432x288 with 1 Axes>"
      ]
     },
     "metadata": {
      "needs_background": "light"
     },
     "output_type": "display_data"
    }
   ],
   "source": [
    "for platfоrm in list_10[5:]:\n",
    "    dfq = pivot_T_normalized[platfоrm]\n",
    "    dfq.plot(legend = platfоrm)\n",
    "    plt.xlabel('Год выпуска релиза')\n",
    "    plt.ylabel('Нормированное количество копий')\n",
    "    plt.title('Срок жизни платформы')"
   ]
  },
  {
   "cell_type": "markdown",
   "metadata": {},
   "source": [
    "**Вывод: Среднее время жизни платформы ранее можно было оценить как 10 лет (PS3). Сейчас её следует оценивать в 5 -6 лет. Дольше всех в прошлом продержалась PS3. Ей на смену в 2012 пришла PS4. Возможно, хотя платформа находится уже на спаде, ей удасться продержатьмся еще лет 5-6.**"
   ]
  },
  {
   "cell_type": "markdown",
   "metadata": {},
   "source": [
    "#### Какие платформы лидируют по продажам, растут или падают? Выберите несколько потенциально прибыльных платформ."
   ]
  },
  {
   "cell_type": "markdown",
   "metadata": {},
   "source": [
    "Ограничим выборку глубиною в 5 лет"
   ]
  },
  {
   "cell_type": "code",
   "execution_count": 219,
   "metadata": {},
   "outputs": [
    {
     "data": {
      "text/plain": [
       "4022"
      ]
     },
     "execution_count": 219,
     "metadata": {},
     "output_type": "execute_result"
    }
   ],
   "source": [
    "df_10 = df.query('2011 <= year_of_release and year_of_release <= 2016')\n",
    "len(df_10)"
   ]
  },
  {
   "cell_type": "code",
   "execution_count": 220,
   "metadata": {},
   "outputs": [
    {
     "data": {
      "text/html": [
       "<div>\n",
       "<style scoped>\n",
       "    .dataframe tbody tr th:only-of-type {\n",
       "        vertical-align: middle;\n",
       "    }\n",
       "\n",
       "    .dataframe tbody tr th {\n",
       "        vertical-align: top;\n",
       "    }\n",
       "\n",
       "    .dataframe thead th {\n",
       "        text-align: right;\n",
       "    }\n",
       "</style>\n",
       "<table border=\"1\" class=\"dataframe\">\n",
       "  <thead>\n",
       "    <tr style=\"text-align: right;\">\n",
       "      <th></th>\n",
       "      <th>all_sales</th>\n",
       "      <th>ratio</th>\n",
       "    </tr>\n",
       "    <tr>\n",
       "      <th>platform</th>\n",
       "      <th></th>\n",
       "      <th></th>\n",
       "    </tr>\n",
       "  </thead>\n",
       "  <tbody>\n",
       "    <tr>\n",
       "      <td>PS3</td>\n",
       "      <td>445569997</td>\n",
       "      <td>0.231507</td>\n",
       "    </tr>\n",
       "    <tr>\n",
       "      <td>X360</td>\n",
       "      <td>380380000</td>\n",
       "      <td>0.197636</td>\n",
       "    </tr>\n",
       "    <tr>\n",
       "      <td>PS4</td>\n",
       "      <td>314139997</td>\n",
       "      <td>0.163219</td>\n",
       "    </tr>\n",
       "    <tr>\n",
       "      <td>3DS</td>\n",
       "      <td>257809997</td>\n",
       "      <td>0.133952</td>\n",
       "    </tr>\n",
       "    <tr>\n",
       "      <td>XOne</td>\n",
       "      <td>159319999</td>\n",
       "      <td>0.082779</td>\n",
       "    </tr>\n",
       "    <tr>\n",
       "      <td>PC</td>\n",
       "      <td>97680000</td>\n",
       "      <td>0.050752</td>\n",
       "    </tr>\n",
       "    <tr>\n",
       "      <td>Wii</td>\n",
       "      <td>95019999</td>\n",
       "      <td>0.049370</td>\n",
       "    </tr>\n",
       "    <tr>\n",
       "      <td>WiiU</td>\n",
       "      <td>82190000</td>\n",
       "      <td>0.042704</td>\n",
       "    </tr>\n",
       "    <tr>\n",
       "      <td>PSV</td>\n",
       "      <td>53810000</td>\n",
       "      <td>0.027958</td>\n",
       "    </tr>\n",
       "    <tr>\n",
       "      <td>DS</td>\n",
       "      <td>38730000</td>\n",
       "      <td>0.020123</td>\n",
       "    </tr>\n",
       "  </tbody>\n",
       "</table>\n",
       "</div>"
      ],
      "text/plain": [
       "          all_sales     ratio\n",
       "platform                     \n",
       "PS3       445569997  0.231507\n",
       "X360      380380000  0.197636\n",
       "PS4       314139997  0.163219\n",
       "3DS       257809997  0.133952\n",
       "XOne      159319999  0.082779\n",
       "PC         97680000  0.050752\n",
       "Wii        95019999  0.049370\n",
       "WiiU       82190000  0.042704\n",
       "PSV        53810000  0.027958\n",
       "DS         38730000  0.020123"
      ]
     },
     "metadata": {},
     "output_type": "display_data"
    }
   ],
   "source": [
    "popular_platform = df_10.groupby('platform').agg({'all_sales':'sum'}).sort_values(by='all_sales',ascending=False).head(10)\n",
    "popular_platform['ratio'] = popular_platform['all_sales']/popular_platform['all_sales'].sum()\n",
    "display(popular_platform)\n",
    "\n",
    "# запомним смисок топ-10\n",
    "list_of_top_platform = popular_platform.index.tolist()"
   ]
  },
  {
   "cell_type": "code",
   "execution_count": 221,
   "metadata": {},
   "outputs": [
    {
     "data": {
      "text/plain": [
       "['PS3', 'X360', 'PS4', '3DS', 'XOne', 'PC', 'Wii', 'WiiU', 'PSV', 'DS']"
      ]
     },
     "execution_count": 221,
     "metadata": {},
     "output_type": "execute_result"
    }
   ],
   "source": [
    "list_of_top_platform"
   ]
  },
  {
   "cell_type": "markdown",
   "metadata": {},
   "source": [
    "**Вывод: За период с 2011 по 2016 год лидировали следедующие платформы - 'PS3', 'X360', 'PS4', '3DS', 'XOne'.**"
   ]
  },
  {
   "cell_type": "markdown",
   "metadata": {},
   "source": [
    "Расмотрим тенденции к росту (или к падению)."
   ]
  },
  {
   "cell_type": "code",
   "execution_count": 222,
   "metadata": {},
   "outputs": [
    {
     "data": {
      "text/plain": [
       "['PS3', 'X360', 'PS4', '3DS', 'XOne', 'PC', 'Wii', 'WiiU', 'PSV', 'DS']"
      ]
     },
     "execution_count": 222,
     "metadata": {},
     "output_type": "execute_result"
    }
   ],
   "source": [
    "list_of_top_platform"
   ]
  },
  {
   "cell_type": "code",
   "execution_count": 223,
   "metadata": {},
   "outputs": [],
   "source": [
    "df_10_10 = df_10.query('platform in @list_of_top_platform').copy()\n",
    "pivot_10_10 = df_10_10.pivot_table(index = 'platform', columns='year_of_release',values = 'all_sales', aggfunc = np.sum)\n",
    "pivot_10_10 = pivot_10_10.query('index in @list_of_top_platform').copy()"
   ]
  },
  {
   "cell_type": "code",
   "execution_count": 224,
   "metadata": {},
   "outputs": [],
   "source": [
    "pivot_10_10_T = pivot_10_10.T"
   ]
  },
  {
   "cell_type": "code",
   "execution_count": 225,
   "metadata": {},
   "outputs": [
    {
     "data": {
      "text/plain": [
       "['3DS', 'DS', 'PC', 'PS3', 'PS4', 'PSV', 'Wii', 'WiiU', 'X360', 'XOne']"
      ]
     },
     "execution_count": 225,
     "metadata": {},
     "output_type": "execute_result"
    }
   ],
   "source": [
    "list_actual = pivot_10_10.index.tolist()\n",
    "list_actual"
   ]
  },
  {
   "cell_type": "code",
   "execution_count": 226,
   "metadata": {},
   "outputs": [
    {
     "data": {
      "image/png": "[encoded data removed]",
      "text/plain": [
       "<Figure size 648x648 with 1 Axes>"
      ]
     },
     "metadata": {
      "needs_background": "light"
     },
     "output_type": "display_data"
    }
   ],
   "source": [
    "for platfоrm in list_actual[:10]:\n",
    "    dfq = pivot_10_10_T[platfоrm]\n",
    "    dfq.plot(legend = platfоrm, figsize=(9,9)) \n",
    "    plt.xlabel('Год выпуска релиза')\n",
    "    plt.ylabel('Количество копий')\n",
    "    plt.title('Перспективы рынка')"
   ]
  },
  {
   "cell_type": "markdown",
   "metadata": {},
   "source": [
    " **Вывод: Перспектив к росту c 2015 - нет. Рынок сворачивается. Доживают PS4, XOne.**\n",
    " **PS4 и XOne стартовали в 2012 году, соответсвенно есть ещё около 3-5 лет. Пик этих платформ приходится на 2015 год**"
   ]
  },
  {
   "cell_type": "markdown",
   "metadata": {},
   "source": [
    "#### Постройте график «ящик с усами» по глобальным продажам игр в разбивке по платформам. Опишите результат."
   ]
  },
  {
   "cell_type": "code",
   "execution_count": 227,
   "metadata": {},
   "outputs": [
    {
     "name": "stderr",
     "output_type": "stream",
     "text": [
      "/opt/conda/lib/python3.7/site-packages/numpy/core/_asarray.py:83: VisibleDeprecationWarning: Creating an ndarray from ragged nested sequences (which is a list-or-tuple of lists-or-tuples-or ndarrays with different lengths or shapes) is deprecated. If you meant to do this, you must specify 'dtype=object' when creating the ndarray\n",
      "  return array(a, dtype, copy=False, order=order)\n"
     ]
    },
    {
     "data": {
      "text/plain": [
       "''"
      ]
     },
     "execution_count": 227,
     "metadata": {},
     "output_type": "execute_result"
    },
    {
     "data": {
      "image/png": "[encoded data removed]",
      "text/plain": [
       "<Figure size 1080x1080 with 1 Axes>"
      ]
     },
     "metadata": {
      "needs_background": "light"
     },
     "output_type": "display_data"
    }
   ],
   "source": [
    "df_10_10.reset_index()\n",
    "plot = df_10_10.boxplot(column='all_sales',by='platform',figsize=(15,15)).set_ylim(0, 1500000)\n",
    "#plt.xlabel('')\n",
    "plt.ylabel('Количество копий')\n",
    "plt.xlabel('Платформа')\n",
    "plt.title('Боксплот по 10 популярным платформам')\n",
    ";"
   ]
  },
  {
   "cell_type": "markdown",
   "metadata": {},
   "source": [
    "**Вывод: Ассиметричный боксплот показывает предварительны долгий рост рынка и затем резкий спад в количестве выпускаемых релизов игр. Кроме того, присутствуют сильные аномальные выбросы.**"
   ]
  },
  {
   "cell_type": "markdown",
   "metadata": {},
   "source": [
    "#### Посмотрим, как влияют на продажи внутри одной популярной платформы отзывы пользователей и критиков. Построим диаграмму рассеяния и посчитаем корреляцию между отзывами и продажами. Сформулируем выводы."
   ]
  },
  {
   "cell_type": "markdown",
   "metadata": {},
   "source": [
    "Возьмем в качестве подопытной платформы - PS3. Рассмотрим весь жизненный путь этой платформы от момента старта до угасания. От 2005 до 2016 года."
   ]
  },
  {
   "cell_type": "code",
   "execution_count": 228,
   "metadata": {},
   "outputs": [],
   "source": [
    "# не забудем выбросить из среза отсутствующие отзывы.\n",
    "Single_popular_platform = 'PS3'\n",
    "df_PLATFORM = df.query('platform == @Single_popular_platform and critic_score != -10 and user_score != - 10')\n",
    "df_PLATFORM = df_PLATFORM.query('2005 <= year_of_release and year_of_release <= 2016')"
   ]
  },
  {
   "cell_type": "markdown",
   "metadata": {},
   "source": [
    "На графике boxplot выше мы видели сильный шум и ассиметрию. Попробум очистить данные от выбросов."
   ]
  },
  {
   "cell_type": "code",
   "execution_count": 229,
   "metadata": {},
   "outputs": [],
   "source": [
    "# функция возвращает межквартильный размах для колонки в виде кортежа\n",
    "def IQR(df,column):\n",
    "    \n",
    "    Q25 = df[column].quantile(0.25)                 \n",
    "    Q75 = df[column].quantile(0.75) \n",
    "    MIN = df[column].min()\n",
    "    MAX = df[column].max()\n",
    "    \n",
    "    IQR = Q75 - Q25\n",
    "    \n",
    "    left = Q25 - 1.5*IQR\n",
    "    if left < MIN: left = MIN\n",
    "    \n",
    "    Right = Q75 + 1.5*IQR\n",
    "    if Right > MAX: Right = MAX\n",
    "     \n",
    "    return (left, Right)"
   ]
  },
  {
   "cell_type": "code",
   "execution_count": 230,
   "metadata": {},
   "outputs": [],
   "source": [
    "left, right = IQR(df_PLATFORM,'all_sales')\n",
    "\n",
    "# убираем выбросы\n",
    "df_PLATFORM = df_PLATFORM.query('@left <=all_sales and all_sales <=@right')"
   ]
  },
  {
   "cell_type": "code",
   "execution_count": 231,
   "metadata": {},
   "outputs": [
    {
     "data": {
      "image/png": "[encoded data removed]",
      "text/plain": [
       "<Figure size 432x288 with 1 Axes>"
      ]
     },
     "metadata": {
      "needs_background": "light"
     },
     "output_type": "display_data"
    }
   ],
   "source": [
    "#plt.scatter(df_PLATFORM['user_score'], df_PLATFORM['all_sales'], alpha=0.5)\n",
    "sns.regplot(x=df_PLATFORM['user_score'], y=df_PLATFORM['all_sales'], line_kws={\"color\":\"b\",\"alpha\":0.5,\"lw\":15})\n",
    "plt.ylabel('Количество копий')\n",
    "plt.xlabel('Отзывы пользователей')\n",
    "plt.title('Зависимость количества копий от отзывов пользователей')\n",
    "plt.show()"
   ]
  },
  {
   "cell_type": "code",
   "execution_count": 232,
   "metadata": {},
   "outputs": [
    {
     "data": {
      "image/png": "[encoded data removed]",
      "text/plain": [
       "<Figure size 432x288 with 1 Axes>"
      ]
     },
     "metadata": {
      "needs_background": "light"
     },
     "output_type": "display_data"
    }
   ],
   "source": [
    "#plt.scatter(df_PLATFORM['critic_score'], df_PLATFORM['all_sales'], alpha=0.5)\n",
    "sns.regplot(x=df_PLATFORM['critic_score'], y=df_PLATFORM['all_sales'], line_kws={\"color\":\"r\",\"alpha\":0.5,\"lw\":15})\n",
    "plt.ylabel('Количество копий')\n",
    "plt.xlabel('Отзывы критиков')\n",
    "plt.title('Зависимость количества копий от отзывов критиков')\n",
    "plt.show()"
   ]
  },
  {
   "cell_type": "code",
   "execution_count": 233,
   "metadata": {},
   "outputs": [
    {
     "data": {
      "text/html": [
       "<style  type=\"text/css\" >\n",
       "    #T_3ad98f04_9918_11eb_b72b_02420a39d5f7row0_col0 {\n",
       "            background-color:  #b40426;\n",
       "            color:  #f1f1f1;\n",
       "        }    #T_3ad98f04_9918_11eb_b72b_02420a39d5f7row0_col1 {\n",
       "            background-color:  #3b4cc0;\n",
       "            color:  #f1f1f1;\n",
       "        }    #T_3ad98f04_9918_11eb_b72b_02420a39d5f7row0_col2 {\n",
       "            background-color:  #b40426;\n",
       "            color:  #f1f1f1;\n",
       "        }    #T_3ad98f04_9918_11eb_b72b_02420a39d5f7row0_col3 {\n",
       "            background-color:  #b40426;\n",
       "            color:  #f1f1f1;\n",
       "        }    #T_3ad98f04_9918_11eb_b72b_02420a39d5f7row0_col4 {\n",
       "            background-color:  #b40426;\n",
       "            color:  #f1f1f1;\n",
       "        }    #T_3ad98f04_9918_11eb_b72b_02420a39d5f7row0_col5 {\n",
       "            background-color:  #3b4cc0;\n",
       "            color:  #f1f1f1;\n",
       "        }    #T_3ad98f04_9918_11eb_b72b_02420a39d5f7row0_col6 {\n",
       "            background-color:  #b40426;\n",
       "            color:  #f1f1f1;\n",
       "        }    #T_3ad98f04_9918_11eb_b72b_02420a39d5f7row1_col0 {\n",
       "            background-color:  #3b4cc0;\n",
       "            color:  #f1f1f1;\n",
       "        }    #T_3ad98f04_9918_11eb_b72b_02420a39d5f7row1_col1 {\n",
       "            background-color:  #b40426;\n",
       "            color:  #f1f1f1;\n",
       "        }    #T_3ad98f04_9918_11eb_b72b_02420a39d5f7row1_col2 {\n",
       "            background-color:  #3b4cc0;\n",
       "            color:  #f1f1f1;\n",
       "        }    #T_3ad98f04_9918_11eb_b72b_02420a39d5f7row1_col3 {\n",
       "            background-color:  #3b4cc0;\n",
       "            color:  #f1f1f1;\n",
       "        }    #T_3ad98f04_9918_11eb_b72b_02420a39d5f7row1_col4 {\n",
       "            background-color:  #3b4cc0;\n",
       "            color:  #f1f1f1;\n",
       "        }    #T_3ad98f04_9918_11eb_b72b_02420a39d5f7row1_col5 {\n",
       "            background-color:  #b40426;\n",
       "            color:  #f1f1f1;\n",
       "        }    #T_3ad98f04_9918_11eb_b72b_02420a39d5f7row1_col6 {\n",
       "            background-color:  #3b4cc0;\n",
       "            color:  #f1f1f1;\n",
       "        }</style><table id=\"T_3ad98f04_9918_11eb_b72b_02420a39d5f7\" ><thead>    <tr>        <th class=\"blank level0\" ></th>        <th class=\"col_heading level0 col0\" >critic_score</th>        <th class=\"col_heading level0 col1\" >user_score</th>        <th class=\"col_heading level0 col2\" >all_sales</th>        <th class=\"col_heading level0 col3\" >na_sales</th>        <th class=\"col_heading level0 col4\" >eu_sales</th>        <th class=\"col_heading level0 col5\" >jp_sales</th>        <th class=\"col_heading level0 col6\" >other_sales</th>    </tr></thead><tbody>\n",
       "                <tr>\n",
       "                        <th id=\"T_3ad98f04_9918_11eb_b72b_02420a39d5f7level0_row0\" class=\"row_heading level0 row0\" >critic_score</th>\n",
       "                        <td id=\"T_3ad98f04_9918_11eb_b72b_02420a39d5f7row0_col0\" class=\"data row0 col0\" >1</td>\n",
       "                        <td id=\"T_3ad98f04_9918_11eb_b72b_02420a39d5f7row0_col1\" class=\"data row0 col1\" >0.641236</td>\n",
       "                        <td id=\"T_3ad98f04_9918_11eb_b72b_02420a39d5f7row0_col2\" class=\"data row0 col2\" >0.507764</td>\n",
       "                        <td id=\"T_3ad98f04_9918_11eb_b72b_02420a39d5f7row0_col3\" class=\"data row0 col3\" >0.471719</td>\n",
       "                        <td id=\"T_3ad98f04_9918_11eb_b72b_02420a39d5f7row0_col4\" class=\"data row0 col4\" >0.398792</td>\n",
       "                        <td id=\"T_3ad98f04_9918_11eb_b72b_02420a39d5f7row0_col5\" class=\"data row0 col5\" >0.104147</td>\n",
       "                        <td id=\"T_3ad98f04_9918_11eb_b72b_02420a39d5f7row0_col6\" class=\"data row0 col6\" >0.429452</td>\n",
       "            </tr>\n",
       "            <tr>\n",
       "                        <th id=\"T_3ad98f04_9918_11eb_b72b_02420a39d5f7level0_row1\" class=\"row_heading level0 row1\" >user_score</th>\n",
       "                        <td id=\"T_3ad98f04_9918_11eb_b72b_02420a39d5f7row1_col0\" class=\"data row1 col0\" >0.641236</td>\n",
       "                        <td id=\"T_3ad98f04_9918_11eb_b72b_02420a39d5f7row1_col1\" class=\"data row1 col1\" >1</td>\n",
       "                        <td id=\"T_3ad98f04_9918_11eb_b72b_02420a39d5f7row1_col2\" class=\"data row1 col2\" >0.295333</td>\n",
       "                        <td id=\"T_3ad98f04_9918_11eb_b72b_02420a39d5f7row1_col3\" class=\"data row1 col3\" >0.219341</td>\n",
       "                        <td id=\"T_3ad98f04_9918_11eb_b72b_02420a39d5f7row1_col4\" class=\"data row1 col4\" >0.225344</td>\n",
       "                        <td id=\"T_3ad98f04_9918_11eb_b72b_02420a39d5f7row1_col5\" class=\"data row1 col5\" >0.220125</td>\n",
       "                        <td id=\"T_3ad98f04_9918_11eb_b72b_02420a39d5f7row1_col6\" class=\"data row1 col6\" >0.232988</td>\n",
       "            </tr>\n",
       "    </tbody></table>"
      ],
      "text/plain": [
       "<pandas.io.formats.style.Styler at 0x7fd11cc791d0>"
      ]
     },
     "execution_count": 233,
     "metadata": {},
     "output_type": "execute_result"
    }
   ],
   "source": [
    "corr = df_PLATFORM[['critic_score','user_score','all_sales','na_sales','eu_sales','jp_sales','other_sales']].corr()\n",
    "corr.query('index==\"critic_score\" or index==\"user_score\"').style.background_gradient('coolwarm')"
   ]
  },
  {
   "cell_type": "code",
   "execution_count": null,
   "metadata": {},
   "outputs": [],
   "source": []
  },
  {
   "cell_type": "markdown",
   "metadata": {},
   "source": [
    " **Вывод: Есть сильная положительная (0.6) корреляция между отзывами критиков и пользователей.**\n",
    "**Есть небольшая положительная (0.5) корреляция между отзывами критиков и количеством копий релизов. И незначительная  корреляция (0.3) между отзывами пользователей и количеством копий.**"
   ]
  },
  {
   "cell_type": "markdown",
   "metadata": {},
   "source": [
    "#### Соотнесем выводы с продажами игр на других платформах."
   ]
  },
  {
   "cell_type": "markdown",
   "metadata": {},
   "source": [
    "Уберем лишний шум."
   ]
  },
  {
   "cell_type": "code",
   "execution_count": 234,
   "metadata": {},
   "outputs": [
    {
     "data": {
      "text/html": [
       "<style  type=\"text/css\" >\n",
       "    #T_3d5edb44_9918_11eb_b72b_02420a39d5f7row0_col0 {\n",
       "            background-color:  #b40426;\n",
       "            color:  #f1f1f1;\n",
       "        }    #T_3d5edb44_9918_11eb_b72b_02420a39d5f7row0_col1 {\n",
       "            background-color:  #3b4cc0;\n",
       "            color:  #f1f1f1;\n",
       "        }    #T_3d5edb44_9918_11eb_b72b_02420a39d5f7row0_col2 {\n",
       "            background-color:  #b40426;\n",
       "            color:  #f1f1f1;\n",
       "        }    #T_3d5edb44_9918_11eb_b72b_02420a39d5f7row0_col3 {\n",
       "            background-color:  #b40426;\n",
       "            color:  #f1f1f1;\n",
       "        }    #T_3d5edb44_9918_11eb_b72b_02420a39d5f7row0_col4 {\n",
       "            background-color:  #b40426;\n",
       "            color:  #f1f1f1;\n",
       "        }    #T_3d5edb44_9918_11eb_b72b_02420a39d5f7row0_col5 {\n",
       "            background-color:  #3b4cc0;\n",
       "            color:  #f1f1f1;\n",
       "        }    #T_3d5edb44_9918_11eb_b72b_02420a39d5f7row0_col6 {\n",
       "            background-color:  #b40426;\n",
       "            color:  #f1f1f1;\n",
       "        }    #T_3d5edb44_9918_11eb_b72b_02420a39d5f7row1_col0 {\n",
       "            background-color:  #3b4cc0;\n",
       "            color:  #f1f1f1;\n",
       "        }    #T_3d5edb44_9918_11eb_b72b_02420a39d5f7row1_col1 {\n",
       "            background-color:  #b40426;\n",
       "            color:  #f1f1f1;\n",
       "        }    #T_3d5edb44_9918_11eb_b72b_02420a39d5f7row1_col2 {\n",
       "            background-color:  #3b4cc0;\n",
       "            color:  #f1f1f1;\n",
       "        }    #T_3d5edb44_9918_11eb_b72b_02420a39d5f7row1_col3 {\n",
       "            background-color:  #3b4cc0;\n",
       "            color:  #f1f1f1;\n",
       "        }    #T_3d5edb44_9918_11eb_b72b_02420a39d5f7row1_col4 {\n",
       "            background-color:  #3b4cc0;\n",
       "            color:  #f1f1f1;\n",
       "        }    #T_3d5edb44_9918_11eb_b72b_02420a39d5f7row1_col5 {\n",
       "            background-color:  #b40426;\n",
       "            color:  #f1f1f1;\n",
       "        }    #T_3d5edb44_9918_11eb_b72b_02420a39d5f7row1_col6 {\n",
       "            background-color:  #3b4cc0;\n",
       "            color:  #f1f1f1;\n",
       "        }</style><table id=\"T_3d5edb44_9918_11eb_b72b_02420a39d5f7\" ><thead>    <tr>        <th class=\"blank level0\" ></th>        <th class=\"col_heading level0 col0\" >critic_score</th>        <th class=\"col_heading level0 col1\" >user_score</th>        <th class=\"col_heading level0 col2\" >all_sales</th>        <th class=\"col_heading level0 col3\" >na_sales</th>        <th class=\"col_heading level0 col4\" >eu_sales</th>        <th class=\"col_heading level0 col5\" >jp_sales</th>        <th class=\"col_heading level0 col6\" >other_sales</th>    </tr></thead><tbody>\n",
       "                <tr>\n",
       "                        <th id=\"T_3d5edb44_9918_11eb_b72b_02420a39d5f7level0_row0\" class=\"row_heading level0 row0\" >critic_score</th>\n",
       "                        <td id=\"T_3d5edb44_9918_11eb_b72b_02420a39d5f7row0_col0\" class=\"data row0 col0\" >1</td>\n",
       "                        <td id=\"T_3d5edb44_9918_11eb_b72b_02420a39d5f7row0_col1\" class=\"data row0 col1\" >0.841386</td>\n",
       "                        <td id=\"T_3d5edb44_9918_11eb_b72b_02420a39d5f7row0_col2\" class=\"data row0 col2\" >0.368637</td>\n",
       "                        <td id=\"T_3d5edb44_9918_11eb_b72b_02420a39d5f7row0_col3\" class=\"data row0 col3\" >0.348588</td>\n",
       "                        <td id=\"T_3d5edb44_9918_11eb_b72b_02420a39d5f7row0_col4\" class=\"data row0 col4\" >0.362998</td>\n",
       "                        <td id=\"T_3d5edb44_9918_11eb_b72b_02420a39d5f7row0_col5\" class=\"data row0 col5\" >-0.0343361</td>\n",
       "                        <td id=\"T_3d5edb44_9918_11eb_b72b_02420a39d5f7row0_col6\" class=\"data row0 col6\" >0.360637</td>\n",
       "            </tr>\n",
       "            <tr>\n",
       "                        <th id=\"T_3d5edb44_9918_11eb_b72b_02420a39d5f7level0_row1\" class=\"row_heading level0 row1\" >user_score</th>\n",
       "                        <td id=\"T_3d5edb44_9918_11eb_b72b_02420a39d5f7row1_col0\" class=\"data row1 col0\" >0.841386</td>\n",
       "                        <td id=\"T_3d5edb44_9918_11eb_b72b_02420a39d5f7row1_col1\" class=\"data row1 col1\" >1</td>\n",
       "                        <td id=\"T_3d5edb44_9918_11eb_b72b_02420a39d5f7row1_col2\" class=\"data row1 col2\" >0.337097</td>\n",
       "                        <td id=\"T_3d5edb44_9918_11eb_b72b_02420a39d5f7row1_col3\" class=\"data row1 col3\" >0.322955</td>\n",
       "                        <td id=\"T_3d5edb44_9918_11eb_b72b_02420a39d5f7row1_col4\" class=\"data row1 col4\" >0.322303</td>\n",
       "                        <td id=\"T_3d5edb44_9918_11eb_b72b_02420a39d5f7row1_col5\" class=\"data row1 col5\" >-0.0255763</td>\n",
       "                        <td id=\"T_3d5edb44_9918_11eb_b72b_02420a39d5f7row1_col6\" class=\"data row1 col6\" >0.332285</td>\n",
       "            </tr>\n",
       "    </tbody></table>"
      ],
      "text/plain": [
       "<pandas.io.formats.style.Styler at 0x7fd1659a1250>"
      ]
     },
     "execution_count": 234,
     "metadata": {},
     "output_type": "execute_result"
    }
   ],
   "source": [
    "left, right = IQR(df_PLATFORM,'all_sales')\n",
    "\n",
    "# убираем выбросы\n",
    "df_10_10_good = df_10_10.query('@left <=all_sales and all_sales <=@right')\n",
    "\n",
    "corr = df_10_10_good[['critic_score','user_score','all_sales','na_sales','eu_sales','jp_sales','other_sales']].corr()\n",
    "corr.query('index==\"critic_score\" or index==\"user_score\"').style.background_gradient('coolwarm')"
   ]
  },
  {
   "cell_type": "markdown",
   "metadata": {},
   "source": [
    "**Вывод: На других платформах присутствует такая же зависимость. Причем, корреляция отзывов критиков и пользователей между собой становится сильной и ярко выраженной. А корреляция между самими отзывами и продажами (0.35) менее выраженная, чем та которую мы ранее видели на отдельной платформе PS3 (было 0.5 - для критиков).**"
   ]
  },
  {
   "cell_type": "markdown",
   "metadata": {},
   "source": [
    "#### Посмотрите на общее распределение игр по жанрам. Что можно сказать о самых прибыльных жанрах? Выделяются ли жанры с высокими и низкими продажами?"
   ]
  },
  {
   "cell_type": "markdown",
   "metadata": {},
   "source": [
    "Возьмем очищенный от выбросов датасет. 10 - популярных платформ, за последние 5 лет."
   ]
  },
  {
   "cell_type": "code",
   "execution_count": 235,
   "metadata": {},
   "outputs": [],
   "source": [
    "df_groupby_genre_10_10 = df_10_10_good.groupby(by='genre').agg({'all_sales':'sum'}).sort_values(by='\\\n",
    "all_sales', ascending=False) #.head(5).plot(kind='bar')\n",
    "df_groupby_genre_10_10['ratio'] = df_groupby_genre_10_10['all_sales'] / df_10_10_good['all_sales'].sum()"
   ]
  },
  {
   "cell_type": "code",
   "execution_count": 236,
   "metadata": {},
   "outputs": [
    {
     "data": {
      "text/html": [
       "<div>\n",
       "<style scoped>\n",
       "    .dataframe tbody tr th:only-of-type {\n",
       "        vertical-align: middle;\n",
       "    }\n",
       "\n",
       "    .dataframe tbody tr th {\n",
       "        vertical-align: top;\n",
       "    }\n",
       "\n",
       "    .dataframe thead th {\n",
       "        text-align: right;\n",
       "    }\n",
       "</style>\n",
       "<table border=\"1\" class=\"dataframe\">\n",
       "  <thead>\n",
       "    <tr style=\"text-align: right;\">\n",
       "      <th></th>\n",
       "      <th>all_sales</th>\n",
       "      <th>ratio</th>\n",
       "    </tr>\n",
       "    <tr>\n",
       "      <th>genre</th>\n",
       "      <th></th>\n",
       "      <th></th>\n",
       "    </tr>\n",
       "  </thead>\n",
       "  <tbody>\n",
       "    <tr>\n",
       "      <td>Action</td>\n",
       "      <td>326490000</td>\n",
       "      <td>0.327972</td>\n",
       "    </tr>\n",
       "    <tr>\n",
       "      <td>Shooter</td>\n",
       "      <td>129000000</td>\n",
       "      <td>0.129586</td>\n",
       "    </tr>\n",
       "    <tr>\n",
       "      <td>Role-Playing</td>\n",
       "      <td>118870000</td>\n",
       "      <td>0.119410</td>\n",
       "    </tr>\n",
       "    <tr>\n",
       "      <td>Sports</td>\n",
       "      <td>113730000</td>\n",
       "      <td>0.114246</td>\n",
       "    </tr>\n",
       "    <tr>\n",
       "      <td>Misc</td>\n",
       "      <td>77340000</td>\n",
       "      <td>0.077691</td>\n",
       "    </tr>\n",
       "  </tbody>\n",
       "</table>\n",
       "</div>"
      ],
      "text/plain": [
       "              all_sales     ratio\n",
       "genre                            \n",
       "Action        326490000  0.327972\n",
       "Shooter       129000000  0.129586\n",
       "Role-Playing  118870000  0.119410\n",
       "Sports        113730000  0.114246\n",
       "Misc           77340000  0.077691"
      ]
     },
     "execution_count": 236,
     "metadata": {},
     "output_type": "execute_result"
    }
   ],
   "source": [
    "# 5 - лидеров\n",
    "head = df_groupby_genre_10_10.head(5)\n",
    "head"
   ]
  },
  {
   "cell_type": "code",
   "execution_count": 237,
   "metadata": {},
   "outputs": [
    {
     "data": {
      "text/plain": [
       "['Action', 'Shooter', 'Role-Playing', 'Sports', 'Misc']"
      ]
     },
     "execution_count": 237,
     "metadata": {},
     "output_type": "execute_result"
    }
   ],
   "source": [
    "head.index.tolist()[:5]"
   ]
  },
  {
   "cell_type": "code",
   "execution_count": null,
   "metadata": {},
   "outputs": [],
   "source": [
    "# 5 - аутсайдеров\n",
    "tail = df_groupby_genre_10_10.tail(6)\n",
    "tail"
   ]
  },
  {
   "cell_type": "code",
   "execution_count": null,
   "metadata": {},
   "outputs": [],
   "source": [
    "tail.index.tolist()[:5]"
   ]
  },
  {
   "cell_type": "markdown",
   "metadata": {},
   "source": [
    "**Вывод:**\n",
    "\n",
    "**Наиболее популярные жанры это: 'Action', 'Shooter', 'Role-Playing', 'Sports', 'Misc'**\n",
    "\n",
    "**Наименее популярные -'Fighting', 'Adventure', 'Simulation', 'Strategy', 'Puzzle'**"
   ]
  },
  {
   "cell_type": "markdown",
   "metadata": {},
   "source": [
    "## Шаг 4. Составим портрет пользователя каждого региона"
   ]
  },
  {
   "cell_type": "markdown",
   "metadata": {},
   "source": [
    "### Определим для пользователя каждого региона (NA, EU, JP):"
   ]
  },
  {
   "cell_type": "markdown",
   "metadata": {},
   "source": [
    "#### Самые популярные платформы (топ-5). Опишем различия в долях продаж."
   ]
  },
  {
   "cell_type": "markdown",
   "metadata": {},
   "source": [
    "- NA_sales — продажи в Северной Америке \n",
    "- EU_sales — продажи в Европе\n",
    "- JP_sales — продажи в Японии"
   ]
  },
  {
   "cell_type": "markdown",
   "metadata": {},
   "source": [
    "**Северная Америка**"
   ]
  },
  {
   "cell_type": "code",
   "execution_count": 259,
   "metadata": {},
   "outputs": [],
   "source": [
    "# дублирующийся код оформим в функцию\n",
    "def user_region_profile(df, column_groupby, column_agg):\n",
    "    df_result = df.groupby(by=column_groupby).agg({column_agg:'sum'}).sort_values(by=column_agg,ascending=False).head(5) \n",
    "    df_result['ratio'] = df_result[column_agg] / df['all_sales'].sum()\n",
    "    return df_result"
   ]
  },
  {
   "cell_type": "code",
   "execution_count": 260,
   "metadata": {},
   "outputs": [],
   "source": [
    "# df_10 - датасет за десять лет по всем платформам\n",
    "df_na = user_region_profile(df_10,'platform','na_sales')"
   ]
  },
  {
   "cell_type": "code",
   "execution_count": 261,
   "metadata": {},
   "outputs": [
    {
     "data": {
      "text/html": [
       "<div>\n",
       "<style scoped>\n",
       "    .dataframe tbody tr th:only-of-type {\n",
       "        vertical-align: middle;\n",
       "    }\n",
       "\n",
       "    .dataframe tbody tr th {\n",
       "        vertical-align: top;\n",
       "    }\n",
       "\n",
       "    .dataframe thead th {\n",
       "        text-align: right;\n",
       "    }\n",
       "</style>\n",
       "<table border=\"1\" class=\"dataframe\">\n",
       "  <thead>\n",
       "    <tr style=\"text-align: right;\">\n",
       "      <th></th>\n",
       "      <th>na_sales</th>\n",
       "      <th>ratio</th>\n",
       "    </tr>\n",
       "    <tr>\n",
       "      <th>platform</th>\n",
       "      <th></th>\n",
       "      <th></th>\n",
       "    </tr>\n",
       "  </thead>\n",
       "  <tbody>\n",
       "    <tr>\n",
       "      <td>X360</td>\n",
       "      <td>226800000</td>\n",
       "      <td>0.116063</td>\n",
       "    </tr>\n",
       "    <tr>\n",
       "      <td>PS3</td>\n",
       "      <td>168259998</td>\n",
       "      <td>0.086106</td>\n",
       "    </tr>\n",
       "    <tr>\n",
       "      <td>PS4</td>\n",
       "      <td>108739999</td>\n",
       "      <td>0.055647</td>\n",
       "    </tr>\n",
       "    <tr>\n",
       "      <td>XOne</td>\n",
       "      <td>93120000</td>\n",
       "      <td>0.047653</td>\n",
       "    </tr>\n",
       "    <tr>\n",
       "      <td>3DS</td>\n",
       "      <td>82649998</td>\n",
       "      <td>0.042295</td>\n",
       "    </tr>\n",
       "  </tbody>\n",
       "</table>\n",
       "</div>"
      ],
      "text/plain": [
       "           na_sales     ratio\n",
       "platform                     \n",
       "X360      226800000  0.116063\n",
       "PS3       168259998  0.086106\n",
       "PS4       108739999  0.055647\n",
       "XOne       93120000  0.047653\n",
       "3DS        82649998  0.042295"
      ]
     },
     "execution_count": 261,
     "metadata": {},
     "output_type": "execute_result"
    }
   ],
   "source": [
    "df_na"
   ]
  },
  {
   "cell_type": "code",
   "execution_count": 262,
   "metadata": {},
   "outputs": [
    {
     "name": "stdout",
     "output_type": "stream",
     "text": [
      "Популярные платформы в северной америке - ['X360', 'PS3', 'PS4', 'XOne', '3DS']\n"
     ]
    }
   ],
   "source": [
    "print('Популярные платформы в северной америке - ' + str(df_na.index.tolist()))"
   ]
  },
  {
   "cell_type": "markdown",
   "metadata": {},
   "source": [
    "**Европа**"
   ]
  },
  {
   "cell_type": "code",
   "execution_count": 265,
   "metadata": {},
   "outputs": [],
   "source": [
    "df_eu = user_region_profile(df_10,'platform','eu_sales')"
   ]
  },
  {
   "cell_type": "code",
   "execution_count": 266,
   "metadata": {},
   "outputs": [
    {
     "data": {
      "text/html": [
       "<div>\n",
       "<style scoped>\n",
       "    .dataframe tbody tr th:only-of-type {\n",
       "        vertical-align: middle;\n",
       "    }\n",
       "\n",
       "    .dataframe tbody tr th {\n",
       "        vertical-align: top;\n",
       "    }\n",
       "\n",
       "    .dataframe thead th {\n",
       "        text-align: right;\n",
       "    }\n",
       "</style>\n",
       "<table border=\"1\" class=\"dataframe\">\n",
       "  <thead>\n",
       "    <tr style=\"text-align: right;\">\n",
       "      <th></th>\n",
       "      <th>eu_sales</th>\n",
       "      <th>ratio</th>\n",
       "    </tr>\n",
       "    <tr>\n",
       "      <th>platform</th>\n",
       "      <th></th>\n",
       "      <th></th>\n",
       "    </tr>\n",
       "  </thead>\n",
       "  <tbody>\n",
       "    <tr>\n",
       "      <td>PS3</td>\n",
       "      <td>163099999</td>\n",
       "      <td>0.083465</td>\n",
       "    </tr>\n",
       "    <tr>\n",
       "      <td>PS4</td>\n",
       "      <td>141089998</td>\n",
       "      <td>0.072202</td>\n",
       "    </tr>\n",
       "    <tr>\n",
       "      <td>X360</td>\n",
       "      <td>117100000</td>\n",
       "      <td>0.059925</td>\n",
       "    </tr>\n",
       "    <tr>\n",
       "      <td>3DS</td>\n",
       "      <td>61269999</td>\n",
       "      <td>0.031354</td>\n",
       "    </tr>\n",
       "    <tr>\n",
       "      <td>PC</td>\n",
       "      <td>56700000</td>\n",
       "      <td>0.029016</td>\n",
       "    </tr>\n",
       "  </tbody>\n",
       "</table>\n",
       "</div>"
      ],
      "text/plain": [
       "           eu_sales     ratio\n",
       "platform                     \n",
       "PS3       163099999  0.083465\n",
       "PS4       141089998  0.072202\n",
       "X360      117100000  0.059925\n",
       "3DS        61269999  0.031354\n",
       "PC         56700000  0.029016"
      ]
     },
     "execution_count": 266,
     "metadata": {},
     "output_type": "execute_result"
    }
   ],
   "source": [
    "df_eu"
   ]
  },
  {
   "cell_type": "code",
   "execution_count": 267,
   "metadata": {},
   "outputs": [
    {
     "name": "stdout",
     "output_type": "stream",
     "text": [
      "Популярные платформы в европе - ['PS3', 'PS4', 'X360', '3DS', 'PC']\n"
     ]
    }
   ],
   "source": [
    "df_eu.index.tolist()\n",
    "print('Популярные платформы в европе - ' + str(df_eu.index.tolist()))"
   ]
  },
  {
   "cell_type": "markdown",
   "metadata": {},
   "source": [
    "**Япония**"
   ]
  },
  {
   "cell_type": "code",
   "execution_count": 269,
   "metadata": {},
   "outputs": [],
   "source": [
    "df_jp = user_region_profile(df_10,'platform','jp_sales')"
   ]
  },
  {
   "cell_type": "code",
   "execution_count": 270,
   "metadata": {},
   "outputs": [
    {
     "data": {
      "text/html": [
       "<div>\n",
       "<style scoped>\n",
       "    .dataframe tbody tr th:only-of-type {\n",
       "        vertical-align: middle;\n",
       "    }\n",
       "\n",
       "    .dataframe tbody tr th {\n",
       "        vertical-align: top;\n",
       "    }\n",
       "\n",
       "    .dataframe thead th {\n",
       "        text-align: right;\n",
       "    }\n",
       "</style>\n",
       "<table border=\"1\" class=\"dataframe\">\n",
       "  <thead>\n",
       "    <tr style=\"text-align: right;\">\n",
       "      <th></th>\n",
       "      <th>jp_sales</th>\n",
       "      <th>ratio</th>\n",
       "    </tr>\n",
       "    <tr>\n",
       "      <th>platform</th>\n",
       "      <th></th>\n",
       "      <th></th>\n",
       "    </tr>\n",
       "  </thead>\n",
       "  <tbody>\n",
       "    <tr>\n",
       "      <td>3DS</td>\n",
       "      <td>100620000</td>\n",
       "      <td>0.051491</td>\n",
       "    </tr>\n",
       "    <tr>\n",
       "      <td>PS3</td>\n",
       "      <td>49390000</td>\n",
       "      <td>0.025275</td>\n",
       "    </tr>\n",
       "    <tr>\n",
       "      <td>PSP</td>\n",
       "      <td>24040000</td>\n",
       "      <td>0.012302</td>\n",
       "    </tr>\n",
       "    <tr>\n",
       "      <td>PSV</td>\n",
       "      <td>21840000</td>\n",
       "      <td>0.011176</td>\n",
       "    </tr>\n",
       "    <tr>\n",
       "      <td>PS4</td>\n",
       "      <td>15960000</td>\n",
       "      <td>0.008167</td>\n",
       "    </tr>\n",
       "  </tbody>\n",
       "</table>\n",
       "</div>"
      ],
      "text/plain": [
       "           jp_sales     ratio\n",
       "platform                     \n",
       "3DS       100620000  0.051491\n",
       "PS3        49390000  0.025275\n",
       "PSP        24040000  0.012302\n",
       "PSV        21840000  0.011176\n",
       "PS4        15960000  0.008167"
      ]
     },
     "execution_count": 270,
     "metadata": {},
     "output_type": "execute_result"
    }
   ],
   "source": [
    "df_jp"
   ]
  },
  {
   "cell_type": "code",
   "execution_count": 271,
   "metadata": {},
   "outputs": [
    {
     "name": "stdout",
     "output_type": "stream",
     "text": [
      "Популярные платформы в японии - ['3DS', 'PS3', 'PSP', 'PSV', 'PS4']\n"
     ]
    }
   ],
   "source": [
    "print('Популярные платформы в японии - ' + str(df_jp.index.tolist()))"
   ]
  },
  {
   "cell_type": "markdown",
   "metadata": {},
   "source": [
    "**Прочие**"
   ]
  },
  {
   "cell_type": "code",
   "execution_count": 272,
   "metadata": {},
   "outputs": [],
   "source": [
    "df_other = user_region_profile(df_10,'platform','other_sales')"
   ]
  },
  {
   "cell_type": "code",
   "execution_count": 273,
   "metadata": {},
   "outputs": [
    {
     "data": {
      "text/html": [
       "<div>\n",
       "<style scoped>\n",
       "    .dataframe tbody tr th:only-of-type {\n",
       "        vertical-align: middle;\n",
       "    }\n",
       "\n",
       "    .dataframe tbody tr th {\n",
       "        vertical-align: top;\n",
       "    }\n",
       "\n",
       "    .dataframe thead th {\n",
       "        text-align: right;\n",
       "    }\n",
       "</style>\n",
       "<table border=\"1\" class=\"dataframe\">\n",
       "  <thead>\n",
       "    <tr style=\"text-align: right;\">\n",
       "      <th></th>\n",
       "      <th>other_sales</th>\n",
       "      <th>ratio</th>\n",
       "    </tr>\n",
       "    <tr>\n",
       "      <th>platform</th>\n",
       "      <th></th>\n",
       "      <th></th>\n",
       "    </tr>\n",
       "  </thead>\n",
       "  <tbody>\n",
       "    <tr>\n",
       "      <td>PS3</td>\n",
       "      <td>64820000</td>\n",
       "      <td>0.033171</td>\n",
       "    </tr>\n",
       "    <tr>\n",
       "      <td>PS4</td>\n",
       "      <td>48350000</td>\n",
       "      <td>0.024743</td>\n",
       "    </tr>\n",
       "    <tr>\n",
       "      <td>X360</td>\n",
       "      <td>33130000</td>\n",
       "      <td>0.016954</td>\n",
       "    </tr>\n",
       "    <tr>\n",
       "      <td>XOne</td>\n",
       "      <td>14270000</td>\n",
       "      <td>0.007303</td>\n",
       "    </tr>\n",
       "    <tr>\n",
       "      <td>3DS</td>\n",
       "      <td>13270000</td>\n",
       "      <td>0.006791</td>\n",
       "    </tr>\n",
       "  </tbody>\n",
       "</table>\n",
       "</div>"
      ],
      "text/plain": [
       "          other_sales     ratio\n",
       "platform                       \n",
       "PS3          64820000  0.033171\n",
       "PS4          48350000  0.024743\n",
       "X360         33130000  0.016954\n",
       "XOne         14270000  0.007303\n",
       "3DS          13270000  0.006791"
      ]
     },
     "execution_count": 273,
     "metadata": {},
     "output_type": "execute_result"
    }
   ],
   "source": [
    "df_other"
   ]
  },
  {
   "cell_type": "markdown",
   "metadata": {},
   "source": [
    "Построим общую диаграмму по долям рынка для всех регионов."
   ]
  },
  {
   "cell_type": "code",
   "execution_count": 276,
   "metadata": {},
   "outputs": [],
   "source": [
    "pie_na= df_na['na_sales'].sum() / df_10['all_sales'].sum()\n",
    "pie_eu = df_eu['eu_sales'].sum() / df_10['all_sales'].sum()\n",
    "pie_jp = df_jp['jp_sales'].sum() / df_10['all_sales'].sum()\n",
    "pie_other = df_other['other_sales'].sum() / df_10['all_sales'].sum()"
   ]
  },
  {
   "cell_type": "code",
   "execution_count": 277,
   "metadata": {},
   "outputs": [
    {
     "data": {
      "image/png": "[encoded data removed]",
      "text/plain": [
       "<Figure size 432x288 with 1 Axes>"
      ]
     },
     "metadata": {},
     "output_type": "display_data"
    },
    {
     "data": {
      "text/plain": [
       "''"
      ]
     },
     "execution_count": 277,
     "metadata": {},
     "output_type": "execute_result"
    }
   ],
   "source": [
    "# Pie chart, where the slices will be ordered and plotted counter-clockwise:\n",
    "labels = 'NA', 'EU', 'JP', 'OTHER'\n",
    "sizes = [pie_na, pie_eu, pie_jp, pie_other] / (pie_na + pie_eu + pie_jp + pie_other)\n",
    "explode = (0, 0.1, 0.1, 0.5)  # only \"explode\" the 2nd slice (i.e. 'Hogs')\n",
    "\n",
    "fig1, ax1 = plt.subplots()\n",
    "ax1.pie(sizes, explode=explode, labels=labels, autopct='%1.1f%%', shadow=True, startangle=90)\n",
    "ax1.axis('equal')  # Equal aspect ratio ensures that pie is drawn as a circle.\n",
    "\n",
    "plt.show()\n",
    ";"
   ]
  },
  {
   "cell_type": "markdown",
   "metadata": {},
   "source": [
    "**Выводы:**\n",
    "\n",
    "**Североамериканский рынок является самым крупным из всех имеющихся и составляет 50% от всего рынка. далее идет европейский рынок 25% и замыкает японский - 13%.**\n",
    "\n",
    "**На американском рынке лидируют 'X360', 'PS3', 'PS4', 'XOne', '3DS'** \n",
    "\n",
    "**На европейском - 'PS3', 'PS4', 'X360', '3DS', 'PC'.**\n",
    "\n",
    "**На японском '3DS', 'PS3', 'PSP', 'PSV', 'PS4'.**\n"
   ]
  },
  {
   "cell_type": "markdown",
   "metadata": {},
   "source": [
    "#### Самые популярные жанры (топ-5). Поясним разницу."
   ]
  },
  {
   "cell_type": "markdown",
   "metadata": {},
   "source": [
    "**Северная Америка**"
   ]
  },
  {
   "cell_type": "code",
   "execution_count": null,
   "metadata": {},
   "outputs": [],
   "source": [
    "df_genre_NA_10_10 = df_10_10.groupby(by='genre').agg({'na_sales':'sum'}).sort_values(by='\\\n",
    "na_sales',ascending=False).head(5) \n",
    "df_genre_NA_10_10['ratio'] = df_genre_NA_10_10['na_sales'] / df_10_10['all_sales'].sum()"
   ]
  },
  {
   "cell_type": "code",
   "execution_count": null,
   "metadata": {},
   "outputs": [],
   "source": [
    "df_genre_NA_10_10"
   ]
  },
  {
   "cell_type": "code",
   "execution_count": null,
   "metadata": {},
   "outputs": [],
   "source": [
    "df_genre_NA_10_10.index.tolist()"
   ]
  },
  {
   "cell_type": "markdown",
   "metadata": {},
   "source": [
    "**Европа**"
   ]
  },
  {
   "cell_type": "code",
   "execution_count": null,
   "metadata": {},
   "outputs": [],
   "source": [
    "df_genre_EU_10_10 = df_10_10.groupby(by='genre').agg({'eu_sales':'sum'}).sort_values(by='\\\n",
    "eu_sales',ascending=False).head(5) \n",
    "df_genre_EU_10_10['ratio'] = df_genre_EU_10_10['eu_sales'] / df_10_10['all_sales'].sum()"
   ]
  },
  {
   "cell_type": "code",
   "execution_count": null,
   "metadata": {},
   "outputs": [],
   "source": [
    "df_genre_EU_10_10"
   ]
  },
  {
   "cell_type": "code",
   "execution_count": null,
   "metadata": {},
   "outputs": [],
   "source": [
    "df_genre_EU_10_10.index.tolist()"
   ]
  },
  {
   "cell_type": "markdown",
   "metadata": {},
   "source": [
    "**Япония**"
   ]
  },
  {
   "cell_type": "code",
   "execution_count": null,
   "metadata": {},
   "outputs": [],
   "source": [
    "df_genre_JP_10_10 = df_10_10.groupby(by='genre').agg({'jp_sales':'sum'}).sort_values(by='\\\n",
    "jp_sales',ascending=False).head(5) \n",
    "df_genre_JP_10_10['ratio'] = df_genre_JP_10_10['jp_sales'] / df_10_10['all_sales'].sum()"
   ]
  },
  {
   "cell_type": "code",
   "execution_count": null,
   "metadata": {},
   "outputs": [],
   "source": [
    "df_genre_JP_10_10"
   ]
  },
  {
   "cell_type": "code",
   "execution_count": null,
   "metadata": {},
   "outputs": [],
   "source": [
    "df_genre_JP_10_10.index.tolist()"
   ]
  },
  {
   "cell_type": "markdown",
   "metadata": {},
   "source": [
    "**Прочие**"
   ]
  },
  {
   "cell_type": "code",
   "execution_count": null,
   "metadata": {},
   "outputs": [],
   "source": [
    "df_genre_OTHER_10_10 = df_10_10.groupby(by='genre').agg({'other_sales':'sum'}).sort_values(by='\\\n",
    "other_sales',ascending=False).head(5) \n",
    "df_genre_OTHER_10_10['ratio'] = df_genre_OTHER_10_10['other_sales'] / df_10_10['all_sales'].sum()"
   ]
  },
  {
   "cell_type": "code",
   "execution_count": null,
   "metadata": {},
   "outputs": [],
   "source": [
    "df_genre_OTHER_10_10"
   ]
  },
  {
   "cell_type": "markdown",
   "metadata": {},
   "source": [
    "Построим общую диаграмму по долям рынка для всех регионов."
   ]
  },
  {
   "cell_type": "code",
   "execution_count": null,
   "metadata": {},
   "outputs": [],
   "source": [
    "pie_NA = df_genre_NA_10_10['na_sales'].sum() / df_10_10['all_sales'].sum()\n",
    "pie_EU = df_genre_EU_10_10['eu_sales'].sum() / df_10_10['all_sales'].sum()\n",
    "pie_JP = df_genre_JP_10_10['jp_sales'].sum() / df_10_10['all_sales'].sum()\n",
    "pie_OTHER = df_genre_OTHER_10_10['other_sales'].sum() / df_10_10['all_sales'].sum()"
   ]
  },
  {
   "cell_type": "code",
   "execution_count": null,
   "metadata": {},
   "outputs": [],
   "source": [
    "# Pie chart, where the slices will be ordered and plotted counter-clockwise:\n",
    "labels = 'NA', 'EU', 'JP', 'OTHER'\n",
    "sizes = [pie_NA, pie_EU, pie_JP, pie_OTHER] / (pie_NA + pie_EU + pie_JP + pie_OTHER)\n",
    "explode = (0, 0.1, 0.1, 0.5)  # only \"explode\" the 2nd slice (i.e. 'Hogs')\n",
    "\n",
    "fig1, ax1 = plt.subplots()\n",
    "ax1.pie(sizes, explode=explode, labels=labels, autopct='%1.1f%%', shadow=True, startangle=90)\n",
    "ax1.axis('equal')  # Equal aspect ratio ensures that pie is drawn as a circle.\n",
    "\n",
    "plt.show()\n",
    ";"
   ]
  },
  {
   "cell_type": "markdown",
   "metadata": {},
   "source": [
    "**Выводы:**\n",
    "\n",
    "**Картина по общим долям рынка - не изменилась. Американский рынок сотставляет снова почти 50%, затем европейский 27% и замыкает японский - 13%**\n",
    "\n",
    "На американском рынке лидируют жанры 'Action', 'Shooter', 'Sports', 'Role-Playing', 'Misc'. \n",
    "\n",
    "На европейском - 'Action', 'Shooter', 'Sports', 'Role-Playing', 'Racing'. \n",
    "\n",
    "На японском Role-Playing', 'Action', 'Misc', 'Platform', 'Shooter'.\n",
    "\n",
    "Между американским и европейским рынком больше схожести в предпочтениях. На обоих рынках присутствуют одновременно Action, Sports, Shooter и Role-Playing. "
   ]
  },
  {
   "cell_type": "markdown",
   "metadata": {},
   "source": [
    "#### Влияет ли рейтинг ESRB на продажи в отдельном регионе?"
   ]
  },
  {
   "cell_type": "code",
   "execution_count": null,
   "metadata": {},
   "outputs": [],
   "source": [
    "# убираем пустые рейтинги\n",
    "df_rating_10_10 = df_10_10.query('rating != \"no_rating\"')"
   ]
  },
  {
   "cell_type": "code",
   "execution_count": null,
   "metadata": {},
   "outputs": [],
   "source": [
    "df_rating_10_10.head(5)"
   ]
  },
  {
   "cell_type": "code",
   "execution_count": null,
   "metadata": {},
   "outputs": [],
   "source": [
    "df_rating_10_10_NA = df_rating_10_10.groupby(by='rating').agg({'na_sales':'sum'}).sort_values(by='na_sales',ascending=False) \n",
    "\n",
    "# нормируем вектор продаж в NA\n",
    "normalized_NA = df_rating_10_10_NA / df_rating_10_10_NA['na_sales'].sum()\n",
    "\n",
    "# смотрим\n",
    "normalized_NA"
   ]
  },
  {
   "cell_type": "code",
   "execution_count": null,
   "metadata": {},
   "outputs": [],
   "source": [
    "df_rating_10_10_EU = df_rating_10_10.groupby(by='rating').agg({'eu_sales':'sum'}).sort_values(by='eu_sales',ascending=False) \n",
    "\n",
    "# нормируем вектор продаж в EU\n",
    "normalized_EU = df_rating_10_10_EU / df_rating_10_10_EU['eu_sales'].sum()\n",
    "\n",
    "normalized_EU"
   ]
  },
  {
   "cell_type": "code",
   "execution_count": null,
   "metadata": {},
   "outputs": [],
   "source": [
    "df_rating_10_10_JP = df_rating_10_10.groupby(by='rating').agg({'jp_sales':'sum'}).sort_values(by='jp_sales',ascending=False) \n",
    "\n",
    "# нормируем вектор продаж в JP\n",
    "normalized_JP = df_rating_10_10_JP / df_rating_10_10_JP['jp_sales'].sum()\n",
    "\n",
    "normalized_JP"
   ]
  },
  {
   "cell_type": "code",
   "execution_count": null,
   "metadata": {},
   "outputs": [],
   "source": [
    "svod = normalized_NA.join(normalized_EU).join(normalized_JP)"
   ]
  },
  {
   "cell_type": "code",
   "execution_count": null,
   "metadata": {},
   "outputs": [],
   "source": [
    "svod.style.background_gradient('coolwarm')"
   ]
  },
  {
   "cell_type": "markdown",
   "metadata": {},
   "source": [
    "**Вывод: Для всех регионов наиболее продоваемыми являются копии с рейтингами E и Т. Наименее продаваемыми - EC и RP.**\n",
    "**Индивидуальные различия для регионов есть, но они незначительны. Например, из общей картины выбивается для европы рейтинг - M.**\n"
   ]
  },
  {
   "cell_type": "markdown",
   "metadata": {},
   "source": [
    "## Шаг 5. Проверяем гипотезы\n",
    "<!-- \n",
    "- Средние пользовательские рейтинги платформ Xbox One и PC одинаковые;\n",
    "- Средние пользовательские рейтинги жанров Action (англ. «действие», экшен-игры) и Sports (англ. «спортивные соревнования») разные.\n",
    "<!-- Задайте самостоятельно пороговое значение alpha.\n",
    "Поясните: Как вы сформулировали нулевую и альтернативную гипотезы; Какой критерий применили для проверки гипотез и почему.\n",
    " --> -->"
   ]
  },
  {
   "cell_type": "markdown",
   "metadata": {},
   "source": [
    "### Гипотеза 1: Средние пользовательские рейтинги платформ Xbox One и PC одинаковые.\n"
   ]
  },
  {
   "cell_type": "markdown",
   "metadata": {},
   "source": [
    "Сформулируем нулевую H0 и альтернативную гипотезу H1 следующим образом:\n",
    "\n",
    "- H0 средние пользовательские рейтинги платформ Xbox One и PC не различаются\n",
    "- H1 средние пользовательские рейтинги платформ Xbox One и PC различается"
   ]
  },
  {
   "cell_type": "markdown",
   "metadata": {},
   "source": [
    "Для оценки гипотезы применим t-критерий стьюдента, предполагая при этом, что выборки независимы. Кроме того, у нас большой датасет с данными.\n"
   ]
  },
  {
   "cell_type": "code",
   "execution_count": null,
   "metadata": {},
   "outputs": [],
   "source": [
    "# вспорминаем, что nan и tbd заменили на -1 b затем умножили на 10\n",
    "df_score = df.query('user_score != -10')"
   ]
  },
  {
   "cell_type": "code",
   "execution_count": null,
   "metadata": {},
   "outputs": [],
   "source": [
    "df_XOne = df_score.query('platform == \"XOne\"')"
   ]
  },
  {
   "cell_type": "code",
   "execution_count": null,
   "metadata": {},
   "outputs": [],
   "source": [
    "df_XOne.head(5)"
   ]
  },
  {
   "cell_type": "code",
   "execution_count": null,
   "metadata": {},
   "outputs": [],
   "source": [
    "len(df_XOne)"
   ]
  },
  {
   "cell_type": "code",
   "execution_count": null,
   "metadata": {},
   "outputs": [],
   "source": [
    "df_PC = df_score.query('platform == \"PC\"')"
   ]
  },
  {
   "cell_type": "code",
   "execution_count": null,
   "metadata": {},
   "outputs": [],
   "source": [
    "df_PC.head(5)"
   ]
  },
  {
   "cell_type": "code",
   "execution_count": null,
   "metadata": {},
   "outputs": [],
   "source": [
    "len(df_PC)"
   ]
  },
  {
   "cell_type": "code",
   "execution_count": null,
   "metadata": {},
   "outputs": [],
   "source": [
    "# посмотрим на распределение \n",
    "df_PC['user_score'].plot(kind='hist', bins=100)\n",
    "plt.ylabel('Количество в выборке')\n",
    "plt.xlabel('Рейтинг')\n",
    "plt.title('Рейтинг на платформе PC')\n",
    ";"
   ]
  },
  {
   "cell_type": "code",
   "execution_count": null,
   "metadata": {},
   "outputs": [],
   "source": [
    "df_PC['user_score'].describe()"
   ]
  },
  {
   "cell_type": "code",
   "execution_count": null,
   "metadata": {},
   "outputs": [],
   "source": [
    "# посмотрим на распределение \n",
    "df_XOne['user_score'].plot(kind='hist', bins=100)\n",
    "plt.ylabel('Количество в выборке')\n",
    "plt.xlabel('Рейтинг')\n",
    "plt.title('Рейтинг на платформе XOne')\n",
    ";"
   ]
  },
  {
   "cell_type": "code",
   "execution_count": null,
   "metadata": {},
   "outputs": [],
   "source": [
    "df_XOne['user_score'].describe()"
   ]
  },
  {
   "cell_type": "markdown",
   "metadata": {},
   "source": [
    "Построим boxplot для оценки симметричности распределения."
   ]
  },
  {
   "cell_type": "code",
   "execution_count": null,
   "metadata": {},
   "outputs": [],
   "source": [
    "list_PC = df_PC['user_score'].tolist()\n",
    "list_XOne = df_XOne['user_score'].tolist()\n",
    "new_df1 = pd.DataFrame(data={'user_score': list_PC, 'platform': ['PC']*len(list_PC)})\n",
    "new_df2 = pd.DataFrame(data={'user_score': list_XOne, 'platform': ['XOne']*len(list_XOne)})\n",
    "\n",
    "df_concat = pd.concat([new_df1, new_df2]).reset_index()\n",
    "\n",
    "# вот такой код не работает!? можно раскомментарить и удивиться\n",
    "# df_concat = df_score.query('platform == \"XOne\" or platform == \"PC\"')\n",
    "# df_concat = df_concat[['platform','user_score']]\n",
    "# df_concat = df_concat.reset_index()\n",
    "\n",
    "df_concat.boxplot('user_score', by='platform', figsize=(5,5)) \n",
    "plt.xlabel('Платформа')\n",
    "plt.ylabel('Рейтинг')\n",
    "plt.title('Boxplot - рейтинг')\n",
    ";"
   ]
  },
  {
   "cell_type": "markdown",
   "metadata": {},
   "source": [
    "Много выбросов со стороны низких оценок."
   ]
  },
  {
   "cell_type": "markdown",
   "metadata": {},
   "source": [
    "Применим t-критерий стьюдента для сравнения двух выборок."
   ]
  },
  {
   "cell_type": "code",
   "execution_count": null,
   "metadata": {},
   "outputs": [],
   "source": [
    "alpha = 0.05"
   ]
  },
  {
   "cell_type": "code",
   "execution_count": null,
   "metadata": {},
   "outputs": [],
   "source": [
    "results = st.ttest_ind(df_XOne['user_score'], df_PC['user_score'])"
   ]
  },
  {
   "cell_type": "code",
   "execution_count": null,
   "metadata": {},
   "outputs": [],
   "source": [
    "print('p-значение:', results.pvalue)\n",
    "\n",
    "if (results.pvalue < alpha):\n",
    "    print(\"Отвергаем нулевую гипотезу\")\n",
    "else:\n",
    "    print(\"Не получилось отвергнуть нулевую гипотезу\")"
   ]
  },
  {
   "cell_type": "markdown",
   "metadata": {},
   "source": [
    "**Вывод: Средние пользовательские рейтинги платформ Xbox One и PC различается. Гипотеза H0 - отвергнута!**\n",
    "\n",
    "**Рейтинги имеют статистически значимые различия.**\n",
    "\n",
    "**Средний рейтинг по PC =70.624675, средний рейтинг по XOne = 65.214286**"
   ]
  },
  {
   "cell_type": "markdown",
   "metadata": {},
   "source": [
    "### Гипотеза 2: Средние пользовательские рейтинги жанров Acton (англ. «действие», экшен-игры) и Sports (англ. «спортивные соревнования») разные.\n"
   ]
  },
  {
   "cell_type": "markdown",
   "metadata": {},
   "source": [
    "Сформулируем нулевую H0 и альтернативную гипотезу H1 следующим образом:\n",
    "\n",
    "- H0 средние пользовательские рейтинги жанров Acton и Sports не различаются\n",
    "- H1 средние пользовательские рейтинги жанров Acton и Sports различаются "
   ]
  },
  {
   "cell_type": "code",
   "execution_count": null,
   "metadata": {},
   "outputs": [],
   "source": [
    "df_score = df.query('user_score != -10')"
   ]
  },
  {
   "cell_type": "code",
   "execution_count": null,
   "metadata": {},
   "outputs": [],
   "source": [
    "df_Acton = df_score.query('genre == \"Action\"')"
   ]
  },
  {
   "cell_type": "code",
   "execution_count": null,
   "metadata": {},
   "outputs": [],
   "source": [
    "df_Acton.head(5)"
   ]
  },
  {
   "cell_type": "code",
   "execution_count": null,
   "metadata": {},
   "outputs": [],
   "source": [
    "df_Sports = df_score.query('genre == \"Sports\"')"
   ]
  },
  {
   "cell_type": "code",
   "execution_count": null,
   "metadata": {},
   "outputs": [],
   "source": [
    "df_Sports.head(5)"
   ]
  },
  {
   "cell_type": "code",
   "execution_count": null,
   "metadata": {},
   "outputs": [],
   "source": [
    "# посмотрим на распределение \n",
    "df_Acton['user_score'].plot(kind='hist', bins=100)\n",
    "plt.ylabel('Количество в выборке')\n",
    "plt.xlabel('Рейтинг')\n",
    "plt.title('Рейтинг жанра Acton')\n",
    ";"
   ]
  },
  {
   "cell_type": "code",
   "execution_count": null,
   "metadata": {},
   "outputs": [],
   "source": [
    "# посмотрим на распределение \n",
    "df_Sports['user_score'].plot(kind='hist', bins=100)\n",
    "plt.ylabel('Количество в выборке')\n",
    "plt.xlabel('Рейтинг')\n",
    "plt.title('Рейтинг жанра Sports')\n",
    ";"
   ]
  },
  {
   "cell_type": "code",
   "execution_count": null,
   "metadata": {},
   "outputs": [],
   "source": [
    "df_Acton['user_score'].describe()"
   ]
  },
  {
   "cell_type": "code",
   "execution_count": null,
   "metadata": {},
   "outputs": [],
   "source": [
    "df_Sports['user_score'].describe()"
   ]
  },
  {
   "cell_type": "code",
   "execution_count": null,
   "metadata": {},
   "outputs": [],
   "source": [
    "alpha = 0.05"
   ]
  },
  {
   "cell_type": "code",
   "execution_count": null,
   "metadata": {},
   "outputs": [],
   "source": [
    "results = st.ttest_ind(df_Acton['user_score'], df_Sports['user_score'])"
   ]
  },
  {
   "cell_type": "code",
   "execution_count": null,
   "metadata": {},
   "outputs": [],
   "source": [
    "print('p-значение:', results.pvalue)\n",
    "\n",
    "if (results.pvalue < alpha):\n",
    "    print(\"Отвергаем нулевую гипотезу\")\n",
    "else:\n",
    "    print(\"Не получилось отвергнуть нулевую гипотезу\")"
   ]
  },
  {
   "cell_type": "markdown",
   "metadata": {},
   "source": [
    "**Вывод: Средние пользовательские рейтинги жанров Acton и Sports не различается. Гипотеза H0 - подтвержена!**\n",
    "\n",
    "**Рейтинги не имеют статистически значимых различий.**\n",
    "\n",
    "**Средний рейтинг по жанру Acton =70.540437, средний рейтинг по Sports = 69.611967**"
   ]
  },
  {
   "cell_type": "markdown",
   "metadata": {},
   "source": [
    "## P.S. Экспериментальная оценка гипотез при помощи bootstrap технологии"
   ]
  },
  {
   "cell_type": "markdown",
   "metadata": {},
   "source": [
    "**Определение bootstrap**\n",
    "\n",
    "Бутстрэп (англ. bootstrap) в статистике — практический компьютерный метод исследования распределения статистик вероятностных распределений, основанный на многократной генерации выборок методом Монте-Карло на базе имеющейся выборки. Позволяет просто и быстро оценивать самые разные статистики (доверительные интервалы, дисперсию, корреляцию и так далее) для сложных моделей. https://ru.wikipedia.org/wiki/%D0%91%D1%83%D1%82%D1%81%D1%82%D1%80%D1%8D%D0%BF_(%D1%81%D1%82%D0%B0%D1%82%D0%B8%D1%81%D1%82%D0%B8%D0%BA%D0%B0)"
   ]
  },
  {
   "cell_type": "markdown",
   "metadata": {},
   "source": [
    "### Оценка гипотезы №1 при помощи bootstrap технологии."
   ]
  },
  {
   "cell_type": "markdown",
   "metadata": {},
   "source": [
    "*Гипотеза: Средние пользовательские рейтинги платформ Xbox One и PC одинаковые.*"
   ]
  },
  {
   "cell_type": "code",
   "execution_count": null,
   "metadata": {},
   "outputs": [],
   "source": [
    "# убираем выбросы\n",
    "\n",
    "def cleaner_df(df, column_name, k):\n",
    "    range_Q1_Q3 = df[column_name].quantile([0.25,0.75]).tolist()\n",
    "    Q1 = range_Q1_Q3[0]\n",
    "    Q3 = range_Q1_Q3[1]\n",
    "    left = Q1 - (Q3-Q1) * k\n",
    "    Right = Q3 + (Q3-Q1) * k\n",
    "    sql = '@left <= '+ column_name + ' and ' + column_name + ' <= @Right'\n",
    "    return df.query(sql)"
   ]
  },
  {
   "cell_type": "code",
   "execution_count": null,
   "metadata": {},
   "outputs": [],
   "source": [
    "df_1 = df_PC.copy()\n",
    "df_2 = df_XOne.copy()\n",
    "\n",
    "column_name = 'user_score'\n",
    "    \n",
    "df_1 = cleaner_df(df_1,column_name,0.5)\n",
    "df_2 = cleaner_df(df_2,column_name,0.5)"
   ]
  },
  {
   "cell_type": "code",
   "execution_count": null,
   "metadata": {},
   "outputs": [],
   "source": [
    "# количество итераций метода\n",
    "bootstrap_len = 10000\n",
    "\n",
    "# массив для накопления разницы между выборками\n",
    "mean_difference= []\n",
    "median_difference= []\n",
    "\n",
    "len_1 = len(df_1)\n",
    "len_2 = len(df_2)\n",
    "\n",
    "for i in range(bootstrap_len):\n",
    "    # генерация выборки 1\n",
    "    bootstrap_sample_1 = df_1[column_name].sample(n=len_1, replace=True)\n",
    "    # среднее 1\n",
    "    mean_1 = bootstrap_sample_1.mean()\n",
    "    median_1 = bootstrap_sample_1.median()\n",
    "    # генерация выборки 2\n",
    "    bootstrap_sample_2 = df_2[column_name].sample(n=len_1, replace=True)\n",
    "    # среднее 2\n",
    "    mean_2 = bootstrap_sample_2.mean()\n",
    "    median_2 = bootstrap_sample_2.median()\n",
    "    # накопление разности среднего и медианы по 1 и 2 выборкам\n",
    "    mean_difference.append(mean_1 - mean_2) \n",
    "    median_difference.append(median_1 - median_2) \n"
   ]
  },
  {
   "cell_type": "code",
   "execution_count": null,
   "metadata": {},
   "outputs": [],
   "source": [
    "pd_series_mean = pd.Series(mean_difference)\n",
    "pd_series_mean.plot(kind='hist', bins=50)\n",
    "plt.ylabel('Количество в выборке')\n",
    "plt.xlabel('Разность средних значений (bootstrap)')\n",
    "plt.title('Разность средних значений (bootstrap)')"
   ]
  },
  {
   "cell_type": "code",
   "execution_count": null,
   "metadata": {},
   "outputs": [],
   "source": [
    "diff_mean = pd_series_mean.mean()\n",
    "print('Разница между средними значениями = {:.2f}'.format(diff_mean))"
   ]
  },
  {
   "cell_type": "code",
   "execution_count": null,
   "metadata": {},
   "outputs": [],
   "source": [
    "pd_series_mean.describe()"
   ]
  },
  {
   "cell_type": "code",
   "execution_count": null,
   "metadata": {},
   "outputs": [],
   "source": [
    "# разница средних деленная на среднюю по 1 и 2\n",
    "print(diff_mean / df_1[column_name].mean())\n",
    "print(diff_mean / df_2[column_name].mean())"
   ]
  },
  {
   "cell_type": "markdown",
   "metadata": {},
   "source": [
    "**Вывод: Разница средних отнесенная к среднему приблизительно 10%. Подтвердился ранее сделвнный вывод по t -критерию. Средние рейтинги по платформам PC и XOne - различаются.**"
   ]
  },
  {
   "cell_type": "markdown",
   "metadata": {},
   "source": [
    "## Оценка гипотезы №2 при помощи bootstrap технологии."
   ]
  },
  {
   "cell_type": "markdown",
   "metadata": {},
   "source": [
    "*Гипотеза: Средние пользовательские рейтинги жанров Acton (англ. «действие», экшен-игры) и Sports (англ. «спортивные соревнования») разные*"
   ]
  },
  {
   "cell_type": "code",
   "execution_count": null,
   "metadata": {},
   "outputs": [],
   "source": [
    "# убираем выбросы\n",
    "\n",
    "df_1 = df_Acton.copy()\n",
    "df_2 = df_Sports.copy()\n",
    "\n",
    "column_name = 'user_score'\n",
    "    \n",
    "df_1 = cleaner_df(df_1,column_name,0.5)\n",
    "df_2 = cleaner_df(df_2,column_name,0.5)"
   ]
  },
  {
   "cell_type": "code",
   "execution_count": null,
   "metadata": {},
   "outputs": [],
   "source": [
    "# количество итераций метода\n",
    "bootstrap_len = 10000\n",
    "\n",
    "# массив для накопления разницы между выборками\n",
    "mean_difference= []\n",
    "median_difference= []\n",
    "\n",
    "len_1 = len(df_1)\n",
    "len_2 = len(df_2)\n",
    "\n",
    "for i in range(bootstrap_len):\n",
    "    # генерация выборки 1\n",
    "    bootstrap_sample_1 = df_1[column_name].sample(n=len_1, replace=True)\n",
    "    # среднее 1\n",
    "    mean_1 = bootstrap_sample_1.mean()\n",
    "    median_1 = bootstrap_sample_1.median()\n",
    "    # генерация выборки 2\n",
    "    bootstrap_sample_2 = df_2[column_name].sample(n=len_1, replace=True)\n",
    "    # среднее 2\n",
    "    mean_2 = bootstrap_sample_2.mean()\n",
    "    median_2 = bootstrap_sample_2.median()\n",
    "    # накопление разности среднего и медианы по 1 и 2 выборкам\n",
    "    mean_difference.append(mean_1 - mean_2) \n",
    "    median_difference.append(median_1 - median_2) \n"
   ]
  },
  {
   "cell_type": "code",
   "execution_count": null,
   "metadata": {},
   "outputs": [],
   "source": [
    "pd_series_mean = pd.Series(mean_difference)\n",
    "pd_series_mean.plot(kind='hist', bins=50)\n",
    "plt.ylabel('Количество в выборке')\n",
    "plt.xlabel('Разность средних значений (bootstrap)')\n",
    "plt.title('Разность средних значений (bootstrap)')\n",
    ";"
   ]
  },
  {
   "cell_type": "code",
   "execution_count": null,
   "metadata": {},
   "outputs": [],
   "source": [
    "diff_mean = pd_series_mean.mean()\n",
    "print('Разница между средними значениями = {:.2f} руб'.format(diff_mean))"
   ]
  },
  {
   "cell_type": "code",
   "execution_count": null,
   "metadata": {},
   "outputs": [],
   "source": [
    "pd_series_mean.describe()"
   ]
  },
  {
   "cell_type": "code",
   "execution_count": null,
   "metadata": {},
   "outputs": [],
   "source": [
    "# разница средних деленная на среднюю по 1 и 2\n",
    "print(diff_mean / df_1[column_name].mean())\n",
    "print(diff_mean / df_2[column_name].mean())"
   ]
  },
  {
   "cell_type": "markdown",
   "metadata": {},
   "source": [
    "**Вывод: Средние рейтинги для жанров Acton и Sports не различаются (разность средних отнесенная к самим средним равна 0.2%). Можно считать, что выводы по bootstrap с ранее сделвнным выводом по t -критерию совпадают.**"
   ]
  },
  {
   "cell_type": "markdown",
   "metadata": {},
   "source": [
    "# Шаг 5. Общии выводы"
   ]
  },
  {
   "cell_type": "markdown",
   "metadata": {},
   "source": [
    "**Главный вывод состоит в том, что рынок игровых приставок доживает свои последнии годы.**\n",
    "\n",
    "**Платформы XOne и PS4 - последние из имеющих перспективы.**\n",
    "\n",
    "- Начиная с 2008 года ежегодное падение составляет от -1.9% в 2009 году до -106.2% в 2016. (в 2014  было -9.0% в 2015 году было падение -23%)\n",
    "\n",
    "- Время жизни игровой платформы удалось оценить в максимум 10 лет. Поскольку рынок сворачивается, то и время жизни укорачивается до 5-8 лет. \n",
    "- XOne и  PS4 стартовали в 2012 году и прошли пик своего роста в 2015 году, соответсвенно есть ещё около 3-5 лет до полного исчерпания пользовательского интереса. **XOne и  PS4 - платформы на которые следует обратить внимание.**\n",
    "- На примере наиболее долгоживущей платформы, а именно PS3 - был разобран вопрос о влиянии оценок критиков и пользователей на продажи. Удалось выяснить, что есть сильная положительная (0.6) корреляция между отзывами критиков и пользователей. То есть критики и пользователи оценивают платформы почти одинаково. Есть небольшая положительная (0.52) корреляция между отзывами критиков и количеством копий релизов. И менее выраженная корреляция (0.32) между отзывами пользователей и количеством проданных копий. То есть, получается что нужно ориентироваться на оценки критиков, как более объективные. Возможно - опросы пользователей проводятся некорректно.\n",
    "- Наиболее популярные жанры это: 'Action', 'Shooter', 'Role-Playing', 'Sports', 'Misc'\n",
    "- Наименее популярные -'Fighting', 'Adventure', 'Simulation', 'Strategy', 'Puzzle'\n",
    "\n",
    "**География спроса**\n",
    "- Североамериканский рынок является самым крупным из всех имеющихся и составляет 50% от всего рынка. Далее идет европейский рынок 25% и замыкает японский - 13%.\n",
    "\n",
    "Платформы:\n",
    "\n",
    "- На американском рынке лидируют 'X360', 'PS3', 'PS4', 'XOne', '3DS'.\n",
    "- На европейском - 'PS3', 'PS4', 'X360', '3DS', 'PC'.\n",
    "- На японском '3DS', 'PS3', 'PSV', 'PS4', 'WiiU'.\n",
    "\n",
    "Жанры:\n",
    "\n",
    "- На американском рынке лидируют жанры 'Action', 'Shooter', 'Sports', 'Role-Playing', 'Misc'.\n",
    "- На европейском - 'Action', 'Shooter', 'Sports', 'Role-Playing', 'Racing'.\n",
    "- На японском Role-Playing', 'Action', 'Misc', 'Platform', 'Shooter'.\n",
    "\n",
    "Между американским и европейским рынком больше схожести в предпочтениях. На обоих рынках присутствуют одновременно Action, Sports, Shooter и Role-Playing.\n"
   ]
  },
  {
   "cell_type": "markdown",
   "metadata": {},
   "source": [
    "**Рейтинги ESRB**\n",
    "\n",
    "Для всех регионов **наиболее** продоваемыми являются копии с рейтингами **E и Т**. **Наименее** продаваемыми - **EC и RP**. Индивидуальные различия для регионов есть, но они незначительны. Например, из общей картины выбивается для европы рейтинг - M."
   ]
  },
  {
   "cell_type": "markdown",
   "metadata": {},
   "source": [
    "**Были проверены предложенные гипотезы:**\n",
    "  - Средние пользовательские рейтинги платформ Xbox One и PC одинаковые. \n",
    "  \n",
    "  Гипотеза отвергнута. Рейтинги платформ статистически различаются.\n",
    "  \n",
    "  \n",
    "  - Средние пользовательские рейтинги жанров Action (англ. «действие», экшен-игры) и Sports (англ. «спортивные соревнования») разные.\n",
    "  \n",
    "  Гипотеза отвергнута. Рейтинги жанров статистически не различаются.\n",
    "   \n",
    "  "
   ]
  }
 ],
 "metadata": {
  "kernelspec": {
   "display_name": "Python 3",
   "language": "python",
   "name": "python3"
  },
  "language_info": {
   "codemirror_mode": {
    "name": "ipython",
    "version": 3
   },
   "file_extension": ".py",
   "mimetype": "text/x-python",
   "name": "python",
   "nbconvert_exporter": "python",
   "pygments_lexer": "ipython3",
   "version": "3.9.0"
  },
  "toc": {
   "base_numbering": 1,
   "nav_menu": {},
   "number_sections": true,
   "sideBar": true,
   "skip_h1_title": true,
   "title_cell": "Table of Contents",
   "title_sidebar": "Contents",
   "toc_cell": false,
   "toc_position": {},
   "toc_section_display": true,
   "toc_window_display": false
  }
 },
 "nbformat": 4,
 "nbformat_minor": 4
}
