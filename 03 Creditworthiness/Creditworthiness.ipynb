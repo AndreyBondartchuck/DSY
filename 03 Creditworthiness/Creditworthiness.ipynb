{
 "cells": [
  {
   "cell_type": "markdown",
   "metadata": {},
   "source": [
    "# Исследование надёжности заёмщиков\n",
    "\n",
    "Заказчик — кредитный отдел банка. Нужно разобраться, влияет ли семейное положение и количество детей клиента на факт погашения кредита в срок. Входные данные от банка — статистика о платёжеспособности клиентов.\n",
    "\n",
    "Результаты исследования будут учтены при построении модели **кредитного скоринга** — специальной системы, которая оценивает способность потенциального заёмщика вернуть кредит банку."
   ]
  },
  {
   "cell_type": "markdown",
   "metadata": {},
   "source": [
    "**План исследования**\n",
    "\n",
    "Предварительный осмотр данных\n",
    "\n",
    "- соберем общую информацию о данных \n",
    "- оценим нехватку или избыточность данных\n",
    "- определим явно некорректные данные\n",
    "\n",
    "Обработка данных\n",
    "\n",
    "- определим и заполните пропущенные значения\n",
    "- заменим типы данных для оптимизации хранения датасет в оперативной памяти\n",
    "- удалим дубликаты\n",
    "- проведем лемматизацию и категоризацию данных\n",
    "\n",
    "Вопросы на которые небходимо найти ответы в ходе анализа данных\n",
    "\n",
    "- Есть ли зависимость между наличием детей и возвратом кредита в срок?\n",
    "- Есть ли зависимость между семейным положением и возвратом кредита в срок?\n",
    "- Как разные цели кредита влияют на его возврат в срок?\n",
    "- Есть ли зависимость между уровнем дохода и возвратом кредита в срок?\n",
    "\n",
    "Составить общий вывод\n",
    "\n",
    "\n",
    "\n"
   ]
  },
  {
   "cell_type": "markdown",
   "metadata": {},
   "source": [
    "## Шаг 1. Откройте файл с данными и изучите общую информацию"
   ]
  },
  {
   "cell_type": "code",
   "execution_count": 2,
   "metadata": {},
   "outputs": [],
   "source": [
    "import pandas as pd\n",
    "import matplotlib.pyplot as plt\n",
    "from pymystem3 import Mystem"
   ]
  },
  {
   "cell_type": "code",
   "execution_count": 3,
   "metadata": {},
   "outputs": [],
   "source": [
    "local = False\n",
    "if local:\n",
    "    df = pd.read_csv('/datasets/data.csv')\n",
    "else:\n",
    "    url = \"https://drive.google.com/file/d/1ubqd5ljA7DlzyI6lRsIK99iwCkAkhTD5/view?usp=sharing\"\n",
    "    path = 'https://drive.google.com/uc?export=download&id='+ url.split('/')[-2]\n",
    "    df = pd.read_csv(path)"
   ]
  },
  {
   "cell_type": "code",
   "execution_count": 4,
   "metadata": {},
   "outputs": [
    {
     "data": {
      "text/html": [
       "<div>\n",
       "<style scoped>\n",
       "    .dataframe tbody tr th:only-of-type {\n",
       "        vertical-align: middle;\n",
       "    }\n",
       "\n",
       "    .dataframe tbody tr th {\n",
       "        vertical-align: top;\n",
       "    }\n",
       "\n",
       "    .dataframe thead th {\n",
       "        text-align: right;\n",
       "    }\n",
       "</style>\n",
       "<table border=\"1\" class=\"dataframe\">\n",
       "  <thead>\n",
       "    <tr style=\"text-align: right;\">\n",
       "      <th></th>\n",
       "      <th>children</th>\n",
       "      <th>days_employed</th>\n",
       "      <th>dob_years</th>\n",
       "      <th>education</th>\n",
       "      <th>education_id</th>\n",
       "      <th>family_status</th>\n",
       "      <th>family_status_id</th>\n",
       "      <th>gender</th>\n",
       "      <th>income_type</th>\n",
       "      <th>debt</th>\n",
       "      <th>total_income</th>\n",
       "      <th>purpose</th>\n",
       "    </tr>\n",
       "  </thead>\n",
       "  <tbody>\n",
       "    <tr>\n",
       "      <th>0</th>\n",
       "      <td>1</td>\n",
       "      <td>-8437.673028</td>\n",
       "      <td>42</td>\n",
       "      <td>высшее</td>\n",
       "      <td>0</td>\n",
       "      <td>женат / замужем</td>\n",
       "      <td>0</td>\n",
       "      <td>F</td>\n",
       "      <td>сотрудник</td>\n",
       "      <td>0</td>\n",
       "      <td>253875.639453</td>\n",
       "      <td>покупка жилья</td>\n",
       "    </tr>\n",
       "    <tr>\n",
       "      <th>1</th>\n",
       "      <td>1</td>\n",
       "      <td>-4024.803754</td>\n",
       "      <td>36</td>\n",
       "      <td>среднее</td>\n",
       "      <td>1</td>\n",
       "      <td>женат / замужем</td>\n",
       "      <td>0</td>\n",
       "      <td>F</td>\n",
       "      <td>сотрудник</td>\n",
       "      <td>0</td>\n",
       "      <td>112080.014102</td>\n",
       "      <td>приобретение автомобиля</td>\n",
       "    </tr>\n",
       "    <tr>\n",
       "      <th>2</th>\n",
       "      <td>0</td>\n",
       "      <td>-5623.422610</td>\n",
       "      <td>33</td>\n",
       "      <td>Среднее</td>\n",
       "      <td>1</td>\n",
       "      <td>женат / замужем</td>\n",
       "      <td>0</td>\n",
       "      <td>M</td>\n",
       "      <td>сотрудник</td>\n",
       "      <td>0</td>\n",
       "      <td>145885.952297</td>\n",
       "      <td>покупка жилья</td>\n",
       "    </tr>\n",
       "    <tr>\n",
       "      <th>3</th>\n",
       "      <td>3</td>\n",
       "      <td>-4124.747207</td>\n",
       "      <td>32</td>\n",
       "      <td>среднее</td>\n",
       "      <td>1</td>\n",
       "      <td>женат / замужем</td>\n",
       "      <td>0</td>\n",
       "      <td>M</td>\n",
       "      <td>сотрудник</td>\n",
       "      <td>0</td>\n",
       "      <td>267628.550329</td>\n",
       "      <td>дополнительное образование</td>\n",
       "    </tr>\n",
       "    <tr>\n",
       "      <th>4</th>\n",
       "      <td>0</td>\n",
       "      <td>340266.072047</td>\n",
       "      <td>53</td>\n",
       "      <td>среднее</td>\n",
       "      <td>1</td>\n",
       "      <td>гражданский брак</td>\n",
       "      <td>1</td>\n",
       "      <td>F</td>\n",
       "      <td>пенсионер</td>\n",
       "      <td>0</td>\n",
       "      <td>158616.077870</td>\n",
       "      <td>сыграть свадьбу</td>\n",
       "    </tr>\n",
       "  </tbody>\n",
       "</table>\n",
       "</div>"
      ],
      "text/plain": [
       "   children  days_employed  dob_years education  education_id  \\\n",
       "0         1   -8437.673028         42    высшее             0   \n",
       "1         1   -4024.803754         36   среднее             1   \n",
       "2         0   -5623.422610         33   Среднее             1   \n",
       "3         3   -4124.747207         32   среднее             1   \n",
       "4         0  340266.072047         53   среднее             1   \n",
       "\n",
       "      family_status  family_status_id gender income_type  debt   total_income  \\\n",
       "0   женат / замужем                 0      F   сотрудник     0  253875.639453   \n",
       "1   женат / замужем                 0      F   сотрудник     0  112080.014102   \n",
       "2   женат / замужем                 0      M   сотрудник     0  145885.952297   \n",
       "3   женат / замужем                 0      M   сотрудник     0  267628.550329   \n",
       "4  гражданский брак                 1      F   пенсионер     0  158616.077870   \n",
       "\n",
       "                      purpose  \n",
       "0               покупка жилья  \n",
       "1     приобретение автомобиля  \n",
       "2               покупка жилья  \n",
       "3  дополнительное образование  \n",
       "4             сыграть свадьбу  "
      ]
     },
     "execution_count": 4,
     "metadata": {},
     "output_type": "execute_result"
    }
   ],
   "source": [
    "df.head(5)"
   ]
  },
  {
   "cell_type": "markdown",
   "metadata": {},
   "source": [
    "Описание данных в исходном файле\n",
    "\n",
    "• children — количество детей в семье • days_employed — общий трудовой стаж в днях • dob_years — возраст клиента в годах • education — уровень образования клиента • education_id — идентификатор уровня образования • family_status — семейное положение • family_status_id — идентификатор семейного положения • gender — пол клиента • income_type — тип занятости • debt — имел ли задолженность по возврату кредитов • total_income — ежемесячный доход • purpose — цель получения кредита"
   ]
  },
  {
   "cell_type": "code",
   "execution_count": 222,
   "metadata": {},
   "outputs": [
    {
     "name": "stdout",
     "output_type": "stream",
     "text": [
      "<class 'pandas.core.frame.DataFrame'>\n",
      "RangeIndex: 21525 entries, 0 to 21524\n",
      "Data columns (total 12 columns):\n",
      "children            21525 non-null int64\n",
      "days_employed       19351 non-null float64\n",
      "dob_years           21525 non-null int64\n",
      "education           21525 non-null object\n",
      "education_id        21525 non-null int64\n",
      "family_status       21525 non-null object\n",
      "family_status_id    21525 non-null int64\n",
      "gender              21525 non-null object\n",
      "income_type         21525 non-null object\n",
      "debt                21525 non-null int64\n",
      "total_income        19351 non-null float64\n",
      "purpose             21525 non-null object\n",
      "dtypes: float64(2), int64(5), object(5)\n",
      "memory usage: 2.0+ MB\n"
     ]
    }
   ],
   "source": [
    "#оценим lдатасет в целом\n",
    "df.info()\n",
    "#уже видно нехватку данных в столбцах days_employed и total_income      "
   ]
  },
  {
   "cell_type": "code",
   "execution_count": 223,
   "metadata": {
    "scrolled": true
   },
   "outputs": [
    {
     "data": {
      "text/html": [
       "<div>\n",
       "<style scoped>\n",
       "    .dataframe tbody tr th:only-of-type {\n",
       "        vertical-align: middle;\n",
       "    }\n",
       "\n",
       "    .dataframe tbody tr th {\n",
       "        vertical-align: top;\n",
       "    }\n",
       "\n",
       "    .dataframe thead th {\n",
       "        text-align: right;\n",
       "    }\n",
       "</style>\n",
       "<table border=\"1\" class=\"dataframe\">\n",
       "  <thead>\n",
       "    <tr style=\"text-align: right;\">\n",
       "      <th></th>\n",
       "      <th>count</th>\n",
       "      <th>mean</th>\n",
       "      <th>std</th>\n",
       "      <th>min</th>\n",
       "      <th>25%</th>\n",
       "      <th>50%</th>\n",
       "      <th>75%</th>\n",
       "      <th>max</th>\n",
       "    </tr>\n",
       "  </thead>\n",
       "  <tbody>\n",
       "    <tr>\n",
       "      <td>children</td>\n",
       "      <td>21525.0</td>\n",
       "      <td>0.538908</td>\n",
       "      <td>1.381587</td>\n",
       "      <td>-1.000000</td>\n",
       "      <td>0.000000</td>\n",
       "      <td>0.000000</td>\n",
       "      <td>1.000000</td>\n",
       "      <td>2.000000e+01</td>\n",
       "    </tr>\n",
       "    <tr>\n",
       "      <td>days_employed</td>\n",
       "      <td>19351.0</td>\n",
       "      <td>63046.497661</td>\n",
       "      <td>140827.311974</td>\n",
       "      <td>-18388.949901</td>\n",
       "      <td>-2747.423625</td>\n",
       "      <td>-1203.369529</td>\n",
       "      <td>-291.095954</td>\n",
       "      <td>4.017554e+05</td>\n",
       "    </tr>\n",
       "    <tr>\n",
       "      <td>dob_years</td>\n",
       "      <td>21525.0</td>\n",
       "      <td>43.293380</td>\n",
       "      <td>12.574584</td>\n",
       "      <td>0.000000</td>\n",
       "      <td>33.000000</td>\n",
       "      <td>42.000000</td>\n",
       "      <td>53.000000</td>\n",
       "      <td>7.500000e+01</td>\n",
       "    </tr>\n",
       "    <tr>\n",
       "      <td>education_id</td>\n",
       "      <td>21525.0</td>\n",
       "      <td>0.817236</td>\n",
       "      <td>0.548138</td>\n",
       "      <td>0.000000</td>\n",
       "      <td>1.000000</td>\n",
       "      <td>1.000000</td>\n",
       "      <td>1.000000</td>\n",
       "      <td>4.000000e+00</td>\n",
       "    </tr>\n",
       "    <tr>\n",
       "      <td>family_status_id</td>\n",
       "      <td>21525.0</td>\n",
       "      <td>0.972544</td>\n",
       "      <td>1.420324</td>\n",
       "      <td>0.000000</td>\n",
       "      <td>0.000000</td>\n",
       "      <td>0.000000</td>\n",
       "      <td>1.000000</td>\n",
       "      <td>4.000000e+00</td>\n",
       "    </tr>\n",
       "    <tr>\n",
       "      <td>debt</td>\n",
       "      <td>21525.0</td>\n",
       "      <td>0.080883</td>\n",
       "      <td>0.272661</td>\n",
       "      <td>0.000000</td>\n",
       "      <td>0.000000</td>\n",
       "      <td>0.000000</td>\n",
       "      <td>0.000000</td>\n",
       "      <td>1.000000e+00</td>\n",
       "    </tr>\n",
       "    <tr>\n",
       "      <td>total_income</td>\n",
       "      <td>19351.0</td>\n",
       "      <td>167422.302208</td>\n",
       "      <td>102971.566448</td>\n",
       "      <td>20667.263793</td>\n",
       "      <td>103053.152913</td>\n",
       "      <td>145017.937533</td>\n",
       "      <td>203435.067663</td>\n",
       "      <td>2.265604e+06</td>\n",
       "    </tr>\n",
       "  </tbody>\n",
       "</table>\n",
       "</div>"
      ],
      "text/plain": [
       "                    count           mean            std           min  \\\n",
       "children          21525.0       0.538908       1.381587     -1.000000   \n",
       "days_employed     19351.0   63046.497661  140827.311974 -18388.949901   \n",
       "dob_years         21525.0      43.293380      12.574584      0.000000   \n",
       "education_id      21525.0       0.817236       0.548138      0.000000   \n",
       "family_status_id  21525.0       0.972544       1.420324      0.000000   \n",
       "debt              21525.0       0.080883       0.272661      0.000000   \n",
       "total_income      19351.0  167422.302208  102971.566448  20667.263793   \n",
       "\n",
       "                            25%            50%            75%           max  \n",
       "children               0.000000       0.000000       1.000000  2.000000e+01  \n",
       "days_employed      -2747.423625   -1203.369529    -291.095954  4.017554e+05  \n",
       "dob_years             33.000000      42.000000      53.000000  7.500000e+01  \n",
       "education_id           1.000000       1.000000       1.000000  4.000000e+00  \n",
       "family_status_id       0.000000       0.000000       1.000000  4.000000e+00  \n",
       "debt                   0.000000       0.000000       0.000000  1.000000e+00  \n",
       "total_income      103053.152913  145017.937533  203435.067663  2.265604e+06  "
      ]
     },
     "execution_count": 223,
     "metadata": {},
     "output_type": "execute_result"
    }
   ],
   "source": [
    "#оценим макисмумы, минимумы и среднее по столбцам\n",
    "df.describe().T\n",
    "#видим странные отрицательные значения в столбцах с количеством детей и в трудовом стаже\n",
    "#кроме того, 20 в максимуме - явный перебор"
   ]
  },
  {
   "cell_type": "code",
   "execution_count": 224,
   "metadata": {
    "scrolled": true
   },
   "outputs": [
    {
     "data": {
      "text/html": [
       "<div>\n",
       "<style scoped>\n",
       "    .dataframe tbody tr th:only-of-type {\n",
       "        vertical-align: middle;\n",
       "    }\n",
       "\n",
       "    .dataframe tbody tr th {\n",
       "        vertical-align: top;\n",
       "    }\n",
       "\n",
       "    .dataframe thead th {\n",
       "        text-align: right;\n",
       "    }\n",
       "</style>\n",
       "<table border=\"1\" class=\"dataframe\">\n",
       "  <thead>\n",
       "    <tr style=\"text-align: right;\">\n",
       "      <th></th>\n",
       "      <th>children</th>\n",
       "      <th>days_employed</th>\n",
       "      <th>dob_years</th>\n",
       "      <th>education</th>\n",
       "      <th>education_id</th>\n",
       "      <th>family_status</th>\n",
       "      <th>family_status_id</th>\n",
       "      <th>gender</th>\n",
       "      <th>income_type</th>\n",
       "      <th>debt</th>\n",
       "      <th>total_income</th>\n",
       "      <th>purpose</th>\n",
       "    </tr>\n",
       "  </thead>\n",
       "  <tbody>\n",
       "    <tr>\n",
       "      <td>0</td>\n",
       "      <td>1</td>\n",
       "      <td>-8437.673028</td>\n",
       "      <td>42</td>\n",
       "      <td>высшее</td>\n",
       "      <td>0</td>\n",
       "      <td>женат / замужем</td>\n",
       "      <td>0</td>\n",
       "      <td>F</td>\n",
       "      <td>сотрудник</td>\n",
       "      <td>0</td>\n",
       "      <td>253875.639453</td>\n",
       "      <td>покупка жилья</td>\n",
       "    </tr>\n",
       "    <tr>\n",
       "      <td>1</td>\n",
       "      <td>1</td>\n",
       "      <td>-4024.803754</td>\n",
       "      <td>36</td>\n",
       "      <td>среднее</td>\n",
       "      <td>1</td>\n",
       "      <td>женат / замужем</td>\n",
       "      <td>0</td>\n",
       "      <td>F</td>\n",
       "      <td>сотрудник</td>\n",
       "      <td>0</td>\n",
       "      <td>112080.014102</td>\n",
       "      <td>приобретение автомобиля</td>\n",
       "    </tr>\n",
       "    <tr>\n",
       "      <td>2</td>\n",
       "      <td>0</td>\n",
       "      <td>-5623.422610</td>\n",
       "      <td>33</td>\n",
       "      <td>Среднее</td>\n",
       "      <td>1</td>\n",
       "      <td>женат / замужем</td>\n",
       "      <td>0</td>\n",
       "      <td>M</td>\n",
       "      <td>сотрудник</td>\n",
       "      <td>0</td>\n",
       "      <td>145885.952297</td>\n",
       "      <td>покупка жилья</td>\n",
       "    </tr>\n",
       "    <tr>\n",
       "      <td>3</td>\n",
       "      <td>3</td>\n",
       "      <td>-4124.747207</td>\n",
       "      <td>32</td>\n",
       "      <td>среднее</td>\n",
       "      <td>1</td>\n",
       "      <td>женат / замужем</td>\n",
       "      <td>0</td>\n",
       "      <td>M</td>\n",
       "      <td>сотрудник</td>\n",
       "      <td>0</td>\n",
       "      <td>267628.550329</td>\n",
       "      <td>дополнительное образование</td>\n",
       "    </tr>\n",
       "    <tr>\n",
       "      <td>4</td>\n",
       "      <td>0</td>\n",
       "      <td>340266.072047</td>\n",
       "      <td>53</td>\n",
       "      <td>среднее</td>\n",
       "      <td>1</td>\n",
       "      <td>гражданский брак</td>\n",
       "      <td>1</td>\n",
       "      <td>F</td>\n",
       "      <td>пенсионер</td>\n",
       "      <td>0</td>\n",
       "      <td>158616.077870</td>\n",
       "      <td>сыграть свадьбу</td>\n",
       "    </tr>\n",
       "  </tbody>\n",
       "</table>\n",
       "</div>"
      ],
      "text/plain": [
       "   children  days_employed  dob_years education  education_id  \\\n",
       "0         1   -8437.673028         42    высшее             0   \n",
       "1         1   -4024.803754         36   среднее             1   \n",
       "2         0   -5623.422610         33   Среднее             1   \n",
       "3         3   -4124.747207         32   среднее             1   \n",
       "4         0  340266.072047         53   среднее             1   \n",
       "\n",
       "      family_status  family_status_id gender income_type  debt   total_income  \\\n",
       "0   женат / замужем                 0      F   сотрудник     0  253875.639453   \n",
       "1   женат / замужем                 0      F   сотрудник     0  112080.014102   \n",
       "2   женат / замужем                 0      M   сотрудник     0  145885.952297   \n",
       "3   женат / замужем                 0      M   сотрудник     0  267628.550329   \n",
       "4  гражданский брак                 1      F   пенсионер     0  158616.077870   \n",
       "\n",
       "                      purpose  \n",
       "0               покупка жилья  \n",
       "1     приобретение автомобиля  \n",
       "2               покупка жилья  \n",
       "3  дополнительное образование  \n",
       "4             сыграть свадьбу  "
      ]
     },
     "execution_count": 224,
     "metadata": {},
     "output_type": "execute_result"
    }
   ],
   "source": [
    "#опираясь на общую информацию по info()\n",
    "#посмотрим на NaN в столбцах total_income и days_employed\n",
    "#NaN присутствует одновременно в двух столбцах\n",
    "df.loc[df['total_income'].isna()]\n",
    "df.head(5)"
   ]
  },
  {
   "cell_type": "code",
   "execution_count": 225,
   "metadata": {},
   "outputs": [
    {
     "data": {
      "text/plain": [
       "сотрудник          10014\n",
       "компаньон           4577\n",
       "госслужащий         1312\n",
       "предприниматель        1\n",
       "в декрете              1\n",
       "студент                1\n",
       "Name: income_type, dtype: int64"
      ]
     },
     "execution_count": 225,
     "metadata": {},
     "output_type": "execute_result"
    }
   ],
   "source": [
    "#странный отрицательный стаж\n",
    "df.loc[df.loc[:,'days_employed'] < 0]['income_type'].value_counts()"
   ]
  },
  {
   "cell_type": "code",
   "execution_count": 226,
   "metadata": {},
   "outputs": [
    {
     "data": {
      "text/plain": [
       "пенсионер      3443\n",
       "безработный       2\n",
       "Name: income_type, dtype: int64"
      ]
     },
     "execution_count": 226,
     "metadata": {},
     "output_type": "execute_result"
    }
   ],
   "source": [
    "#положительный стаж по двум видам занятости\n",
    "df.loc[df.loc[:,'days_employed'] > 0]['income_type'].value_counts()"
   ]
  },
  {
   "cell_type": "code",
   "execution_count": 227,
   "metadata": {},
   "outputs": [
    {
     "data": {
      "text/plain": [
       "сотрудник      26\n",
       "компаньон       9\n",
       "пенсионер       8\n",
       "госслужащий     4\n",
       "Name: income_type, dtype: int64"
      ]
     },
     "execution_count": 227,
     "metadata": {},
     "output_type": "execute_result"
    }
   ],
   "source": [
    "#наличие отрицательных детей в большом количестве строк\n",
    "df.loc[df.loc[:,'children'] < 0]['income_type'].value_counts()"
   ]
  },
  {
   "cell_type": "code",
   "execution_count": 230,
   "metadata": {},
   "outputs": [
    {
     "data": {
      "text/plain": [
       "сотрудник      43\n",
       "компаньон      22\n",
       "пенсионер       9\n",
       "госслужащий     2\n",
       "Name: income_type, dtype: int64"
      ]
     },
     "execution_count": 230,
     "metadata": {},
     "output_type": "execute_result"
    }
   ],
   "source": [
    "#оценим количество строк с количеством детей больше 10\n",
    "df.loc[(df.loc[:,'children'] > 10) & (df.loc[:,'children'] <= 20) ]['income_type'].value_counts()"
   ]
  },
  {
   "cell_type": "code",
   "execution_count": 231,
   "metadata": {},
   "outputs": [
    {
     "data": {
      "text/plain": [
       "среднее                13750\n",
       "высшее                  4718\n",
       "СРЕДНЕЕ                  772\n",
       "Среднее                  711\n",
       "неоконченное высшее      668\n",
       "ВЫСШЕЕ                   274\n",
       "Высшее                   268\n",
       "начальное                250\n",
       "Неоконченное высшее       47\n",
       "НЕОКОНЧЕННОЕ ВЫСШЕЕ       29\n",
       "НАЧАЛЬНОЕ                 17\n",
       "Начальное                 15\n",
       "ученая степень             4\n",
       "Ученая степень             1\n",
       "УЧЕНАЯ СТЕПЕНЬ             1\n",
       "Name: education, dtype: int64"
      ]
     },
     "execution_count": 231,
     "metadata": {},
     "output_type": "execute_result"
    }
   ],
   "source": [
    "#не структурированы данные в столбце образование\n",
    "#привести к нижнему регистру\n",
    "df['education'].value_counts()"
   ]
  },
  {
   "cell_type": "markdown",
   "metadata": {},
   "source": [
    "**Вывод**"
   ]
  },
  {
   "cell_type": "markdown",
   "metadata": {},
   "source": [
    "Выявлен список проблем:\n",
    "\n",
    "children - отрицательные значения в детях, кроме того странный 'выброс' от 10 до 20 детей\n",
    "\n",
    "days_employed - отрицательные значения, NaN в количестве 2174 строк. Необходимо преобразовать в тип Int и добавить колонку с измерением год, для более удобной оценки\n",
    "\n",
    "total_incomу - убрать NaN (по-видимому синхронизирован с NaN в колонке days_employed). Заменить на значение 0.\n",
    "\n",
    "education - преобразовать в нижний регистр, убрать дубли\n",
    "\n",
    "family_status - преобразовать в нижний регистр\n",
    "\n",
    "dob_years - странный нулевой возраст в минимальном значении\n",
    "\n",
    "purpose - Необходимо классифицировать по нескольким признакам ('оцифровать')"
   ]
  },
  {
   "cell_type": "markdown",
   "metadata": {},
   "source": [
    "## Шаг 2. Предобработка данных"
   ]
  },
  {
   "cell_type": "markdown",
   "metadata": {},
   "source": [
    "### Обработка пропусков"
   ]
  },
  {
   "cell_type": "markdown",
   "metadata": {},
   "source": [
    "Посмотрим типы занятости (income_type) по которым идут пропуски в колонках стаж и доход"
   ]
  },
  {
   "cell_type": "code",
   "execution_count": 232,
   "metadata": {},
   "outputs": [
    {
     "data": {
      "text/plain": [
       "income_type\n",
       "госслужащий         147\n",
       "компаньон           508\n",
       "пенсионер           413\n",
       "предприниматель       1\n",
       "сотрудник          1105\n",
       "Name: income_type, dtype: int64"
      ]
     },
     "execution_count": 232,
     "metadata": {},
     "output_type": "execute_result"
    }
   ],
   "source": [
    "df.loc[df['total_income'].isna()].groupby('income_type')['income_type'].count()"
   ]
  },
  {
   "cell_type": "markdown",
   "metadata": {},
   "source": [
    "Посмотрим укрупненно возраста по которым идут пропуски в колонках стаж и доход"
   ]
  },
  {
   "cell_type": "code",
   "execution_count": 233,
   "metadata": {},
   "outputs": [
    {
     "data": {
      "text/plain": [
       "age_groupe\n",
       "18-25           98\n",
       "25-35          481\n",
       "35-45          569\n",
       "45-55          506\n",
       "55-65          429\n",
       "65 и старше     81\n",
       "до 18           10\n",
       "Name: age_groupe, dtype: int64"
      ]
     },
     "execution_count": 233,
     "metadata": {},
     "output_type": "execute_result"
    }
   ],
   "source": [
    "def age_group(row):\n",
    "    if row['dob_years'] < 18:\n",
    "        return 'до 18'\n",
    "    elif 18 <= row['dob_years'] & row['dob_years'] < 25:\n",
    "        return '18-25'\n",
    "    elif 25 <= row['dob_years'] & row['dob_years'] < 35:\n",
    "        return '25-35'\n",
    "    elif 35 <= row['dob_years'] & row['dob_years'] < 45:\n",
    "        return '35-45'\n",
    "    elif 45 <= row['dob_years'] & row['dob_years'] < 55:\n",
    "        return '45-55'\n",
    "    elif 55 <= row['dob_years'] & row['dob_years'] < 65:\n",
    "        return '55-65'\n",
    "    else:\n",
    "        return '65 и старше'\n",
    "df['age_groupe'] = df.apply(age_group, axis=1) \n",
    "\n",
    "df.loc[df['total_income'].isna()].groupby('age_groupe')['age_groupe'].count()"
   ]
  },
  {
   "cell_type": "code",
   "execution_count": 234,
   "metadata": {},
   "outputs": [
    {
     "name": "stdout",
     "output_type": "stream",
     "text": [
      "Количество строк с NaN = 2174\n",
      "Доля строк с NaN от общего количества строк = 10.10%\n"
     ]
    }
   ],
   "source": [
    "#Оценим кооличество строк с NaN\n",
    "Count_Raws_NaN = df.loc[df['total_income'].isna()].shape[0]\n",
    "print('Количество строк с NaN = {}'.format(Count_Raws_NaN))\n",
    "#посмотрим долю таких строк\n",
    "try:\n",
    "    print('Доля строк с NaN от общего количества строк = {:.2%}'.format(Count_Raws_NaN/df.shape[0]))\n",
    "except:\n",
    "    print('Ошибка: деление на 0')"
   ]
  },
  {
   "cell_type": "markdown",
   "metadata": {},
   "source": [
    "Сделаем промежуточный вывод:\n",
    "\n",
    "Пропуски присутствуют во всех возрастных группах и типах занятости. Кроме того, количество таких строк составляет 10% от всего датасет! По - видимому, удалять строки с NaN, всё-таки нецелесообразно. Поэтому NaN заменим на нули."
   ]
  },
  {
   "cell_type": "code",
   "execution_count": 235,
   "metadata": {},
   "outputs": [],
   "source": [
    "df['total_income'] = df['total_income'].fillna(0)"
   ]
  },
  {
   "cell_type": "code",
   "execution_count": 236,
   "metadata": {},
   "outputs": [],
   "source": [
    "df['days_employed'] = df['days_employed'].fillna(0)"
   ]
  },
  {
   "cell_type": "code",
   "execution_count": 237,
   "metadata": {},
   "outputs": [
    {
     "name": "stdout",
     "output_type": "stream",
     "text": [
      "Количество строк с NaN = 0\n"
     ]
    }
   ],
   "source": [
    "Count_Raws_NaN = df.loc[df['total_income'].isna()].shape[0]\n",
    "#проверяем\n",
    "print('Количество строк с NaN = {}'.format(Count_Raws_NaN))"
   ]
  },
  {
   "cell_type": "markdown",
   "metadata": {},
   "source": [
    "**Вывод**"
   ]
  },
  {
   "cell_type": "markdown",
   "metadata": {},
   "source": [
    "Принято решение не удалять строки с NaN. Так как, это составляет 10% от всего имеющегося датасет. И NаN встречается во всех возрастных группах и видах занятости. NaN заменен на 0."
   ]
  },
  {
   "cell_type": "markdown",
   "metadata": {},
   "source": [
    "### Замена типа данных"
   ]
  },
  {
   "cell_type": "code",
   "execution_count": 238,
   "metadata": {},
   "outputs": [],
   "source": [
    "#столбец с доходами (total_income)\n",
    "#преобразуем к типу int, копейками принебрежем, так как это не расчеты в бухгалтерии 1C\n",
    "df['total_income'] = df['total_income'].astype('int')\n",
    "#проверим получивщиеся типы\n",
    "#df.info()"
   ]
  },
  {
   "cell_type": "code",
   "execution_count": 239,
   "metadata": {},
   "outputs": [],
   "source": [
    "#столбец с возрастом (dob_years)\n",
    "#преобразуем к типу int с округлением\n",
    "df['dob_years'] = df['dob_years'].astype('int')"
   ]
  },
  {
   "cell_type": "code",
   "execution_count": 240,
   "metadata": {},
   "outputs": [
    {
     "data": {
      "text/plain": [
       "count    21525.000000\n",
       "mean       164.362602\n",
       "std        365.337729\n",
       "min          0.000000\n",
       "25%          1.000000\n",
       "50%          4.000000\n",
       "75%         13.000000\n",
       "max       1100.000000\n",
       "Name: years_employed, dtype: float64"
      ]
     },
     "execution_count": 240,
     "metadata": {},
     "output_type": "execute_result"
    }
   ],
   "source": [
    "# Разберемся со стажем. Ранее было выяснено, что положительный стаж имеют пенсионеры и безработные, а отрицательный \n",
    "# все остальные типы занятых. \n",
    "# Предположим, что отрицательные значения - ошибки ввода данных из разных источников. \n",
    "# В рамках нашей задачи такая разбивка не нужна.\n",
    "# Приведем всех к положительным значениям.\n",
    "# \n",
    "df['days_employed'] = df['days_employed'].abs()\n",
    "\n",
    "#переведем стаж в года, добавим новую колонку\n",
    "df['years_employed'] = df['days_employed']/365\n",
    "df['years_employed'] = df['years_employed'].astype('int')\n",
    "#посмотрим на цифры\n",
    "df['years_employed'].describe()\n"
   ]
  },
  {
   "cell_type": "code",
   "execution_count": 241,
   "metadata": {},
   "outputs": [
    {
     "name": "stdout",
     "output_type": "stream",
     "text": [
      "F    2807\n",
      "M     638\n",
      "Name: gender, dtype: int64\n"
     ]
    }
   ],
   "source": [
    "# Есть те, кто начал работать ещё при Рюрике. \n",
    "# Посмотрим количество таких 'стахановцев'. И распределим по полу. Считать 'count' будем по колонке gender\n",
    "result = df.loc[df['years_employed'] > 60 ]['gender'].value_counts()\n",
    "print(result)"
   ]
  },
  {
   "cell_type": "code",
   "execution_count": 242,
   "metadata": {},
   "outputs": [
    {
     "name": "stdout",
     "output_type": "stream",
     "text": [
      "Количество записей с трудовым стажем > 60 лет = 3445\n",
      "Процент записей с трудовым стажем > 60 лет = 16.00%\n"
     ]
    }
   ],
   "source": [
    "total_older=0\n",
    "#type(len(result))\n",
    "for sex_index in range(0,len(result)):\n",
    "    total_older += result[sex_index]\n",
    "print('Количество записей с трудовым стажем > 60 лет = {}'.format(total_older))\n",
    "print('Процент записей с трудовым стажем > 60 лет = {:.2%}'.format(total_older/df.shape[0]))"
   ]
  },
  {
   "cell_type": "code",
   "execution_count": 243,
   "metadata": {},
   "outputs": [],
   "source": [
    "#удалим колонку стажа в днях \n",
    "del df['days_employed']"
   ]
  },
  {
   "cell_type": "markdown",
   "metadata": {},
   "source": [
    "Сделаем промежуточный вывод:\n",
    "\n",
    "Количество записей с огромным трудовым стажем составляет 16%. Удалять такое количество странных записей - нельзя. Так как в \n",
    "постановке задачи нет подзадачи связанной с трудовым стажем. И записи разбросаны по всему датасет."
   ]
  },
  {
   "cell_type": "code",
   "execution_count": 244,
   "metadata": {},
   "outputs": [],
   "source": [
    "#приведем колонку образование к нижнему регистру\n",
    "df['education'] = df['education'].str.lower()"
   ]
  },
  {
   "cell_type": "code",
   "execution_count": 245,
   "metadata": {},
   "outputs": [
    {
     "data": {
      "text/plain": [
       "array(['высшее', 'среднее', 'неоконченное высшее', 'начальное',\n",
       "       'ученая степень'], dtype=object)"
      ]
     },
     "execution_count": 245,
     "metadata": {},
     "output_type": "execute_result"
    }
   ],
   "source": [
    "#оценим результат\n",
    "df['education'].unique()"
   ]
  },
  {
   "cell_type": "code",
   "execution_count": 246,
   "metadata": {},
   "outputs": [
    {
     "data": {
      "text/plain": [
       "array([0, 1, 2, 3, 4])"
      ]
     },
     "execution_count": 246,
     "metadata": {},
     "output_type": "execute_result"
    }
   ],
   "source": [
    "#после преобразования столбца education столбец education_id стал избыточным\n",
    "df['education_id'].unique()"
   ]
  },
  {
   "cell_type": "code",
   "execution_count": 247,
   "metadata": {},
   "outputs": [],
   "source": [
    "#приведем колонку семейное положение к нижнему регистру\n",
    "df['family_status'] = df['family_status'].str.lower()"
   ]
  },
  {
   "cell_type": "code",
   "execution_count": 248,
   "metadata": {},
   "outputs": [
    {
     "data": {
      "text/plain": [
       "array(['женат / замужем', 'гражданский брак', 'вдовец / вдова',\n",
       "       'в разводе', 'не женат / не замужем'], dtype=object)"
      ]
     },
     "execution_count": 248,
     "metadata": {},
     "output_type": "execute_result"
    }
   ],
   "source": [
    "df['family_status'].unique()"
   ]
  },
  {
   "cell_type": "code",
   "execution_count": 249,
   "metadata": {},
   "outputs": [],
   "source": [
    "#приведем колонку цель получения кредита к нижнему регистру\n",
    "df['purpose'] = df['purpose'].str.lower()"
   ]
  },
  {
   "cell_type": "code",
   "execution_count": 250,
   "metadata": {},
   "outputs": [
    {
     "data": {
      "text/plain": [
       "array(['F', 'M', 'XNA'], dtype=object)"
      ]
     },
     "execution_count": 250,
     "metadata": {},
     "output_type": "execute_result"
    }
   ],
   "source": [
    "df['gender'].unique()"
   ]
  },
  {
   "cell_type": "code",
   "execution_count": 251,
   "metadata": {},
   "outputs": [
    {
     "data": {
      "text/plain": [
       "1"
      ]
     },
     "execution_count": 251,
     "metadata": {},
     "output_type": "execute_result"
    }
   ],
   "source": [
    "#всего одна запись с непонятным полом\n",
    "df[df['gender'] == 'XNA']['gender'].count()"
   ]
  },
  {
   "cell_type": "code",
   "execution_count": 252,
   "metadata": {},
   "outputs": [],
   "source": [
    "#отрицательное количество детей переведем в положительное\n",
    "df['children'] = df['children'].abs()"
   ]
  },
  {
   "cell_type": "code",
   "execution_count": 253,
   "metadata": {},
   "outputs": [],
   "source": [
    "#20 заменим на 2. По-видимому 2.0 превратилось в строку '20' и затем в число 20\n",
    "df['children'] = df['children'].replace(20, 2)"
   ]
  },
  {
   "cell_type": "code",
   "execution_count": 254,
   "metadata": {},
   "outputs": [
    {
     "data": {
      "text/plain": [
       "array([1, 0, 3, 2, 4, 5])"
      ]
     },
     "execution_count": 254,
     "metadata": {},
     "output_type": "execute_result"
    }
   ],
   "source": [
    "#привели детей к нормальному количеству\n",
    "df['children'].unique()"
   ]
  },
  {
   "cell_type": "code",
   "execution_count": 255,
   "metadata": {
    "scrolled": true
   },
   "outputs": [
    {
     "data": {
      "text/html": [
       "<div>\n",
       "<style scoped>\n",
       "    .dataframe tbody tr th:only-of-type {\n",
       "        vertical-align: middle;\n",
       "    }\n",
       "\n",
       "    .dataframe tbody tr th {\n",
       "        vertical-align: top;\n",
       "    }\n",
       "\n",
       "    .dataframe thead th {\n",
       "        text-align: right;\n",
       "    }\n",
       "</style>\n",
       "<table border=\"1\" class=\"dataframe\">\n",
       "  <thead>\n",
       "    <tr style=\"text-align: right;\">\n",
       "      <th></th>\n",
       "      <th>children</th>\n",
       "      <th>dob_years</th>\n",
       "      <th>education</th>\n",
       "      <th>education_id</th>\n",
       "      <th>family_status</th>\n",
       "      <th>family_status_id</th>\n",
       "      <th>gender</th>\n",
       "      <th>income_type</th>\n",
       "      <th>debt</th>\n",
       "      <th>total_income</th>\n",
       "      <th>purpose</th>\n",
       "      <th>age_groupe</th>\n",
       "      <th>years_employed</th>\n",
       "    </tr>\n",
       "  </thead>\n",
       "  <tbody>\n",
       "    <tr>\n",
       "      <td>0</td>\n",
       "      <td>1</td>\n",
       "      <td>42</td>\n",
       "      <td>высшее</td>\n",
       "      <td>0</td>\n",
       "      <td>женат / замужем</td>\n",
       "      <td>0</td>\n",
       "      <td>F</td>\n",
       "      <td>сотрудник</td>\n",
       "      <td>0</td>\n",
       "      <td>253875</td>\n",
       "      <td>покупка жилья</td>\n",
       "      <td>35-45</td>\n",
       "      <td>23</td>\n",
       "    </tr>\n",
       "    <tr>\n",
       "      <td>1</td>\n",
       "      <td>1</td>\n",
       "      <td>36</td>\n",
       "      <td>среднее</td>\n",
       "      <td>1</td>\n",
       "      <td>женат / замужем</td>\n",
       "      <td>0</td>\n",
       "      <td>F</td>\n",
       "      <td>сотрудник</td>\n",
       "      <td>0</td>\n",
       "      <td>112080</td>\n",
       "      <td>приобретение автомобиля</td>\n",
       "      <td>35-45</td>\n",
       "      <td>11</td>\n",
       "    </tr>\n",
       "    <tr>\n",
       "      <td>2</td>\n",
       "      <td>0</td>\n",
       "      <td>33</td>\n",
       "      <td>среднее</td>\n",
       "      <td>1</td>\n",
       "      <td>женат / замужем</td>\n",
       "      <td>0</td>\n",
       "      <td>M</td>\n",
       "      <td>сотрудник</td>\n",
       "      <td>0</td>\n",
       "      <td>145885</td>\n",
       "      <td>покупка жилья</td>\n",
       "      <td>25-35</td>\n",
       "      <td>15</td>\n",
       "    </tr>\n",
       "    <tr>\n",
       "      <td>3</td>\n",
       "      <td>3</td>\n",
       "      <td>32</td>\n",
       "      <td>среднее</td>\n",
       "      <td>1</td>\n",
       "      <td>женат / замужем</td>\n",
       "      <td>0</td>\n",
       "      <td>M</td>\n",
       "      <td>сотрудник</td>\n",
       "      <td>0</td>\n",
       "      <td>267628</td>\n",
       "      <td>дополнительное образование</td>\n",
       "      <td>25-35</td>\n",
       "      <td>11</td>\n",
       "    </tr>\n",
       "    <tr>\n",
       "      <td>4</td>\n",
       "      <td>0</td>\n",
       "      <td>53</td>\n",
       "      <td>среднее</td>\n",
       "      <td>1</td>\n",
       "      <td>гражданский брак</td>\n",
       "      <td>1</td>\n",
       "      <td>F</td>\n",
       "      <td>пенсионер</td>\n",
       "      <td>0</td>\n",
       "      <td>158616</td>\n",
       "      <td>сыграть свадьбу</td>\n",
       "      <td>45-55</td>\n",
       "      <td>932</td>\n",
       "    </tr>\n",
       "  </tbody>\n",
       "</table>\n",
       "</div>"
      ],
      "text/plain": [
       "   children  dob_years education  education_id     family_status  \\\n",
       "0         1         42    высшее             0   женат / замужем   \n",
       "1         1         36   среднее             1   женат / замужем   \n",
       "2         0         33   среднее             1   женат / замужем   \n",
       "3         3         32   среднее             1   женат / замужем   \n",
       "4         0         53   среднее             1  гражданский брак   \n",
       "\n",
       "   family_status_id gender income_type  debt  total_income  \\\n",
       "0                 0      F   сотрудник     0        253875   \n",
       "1                 0      F   сотрудник     0        112080   \n",
       "2                 0      M   сотрудник     0        145885   \n",
       "3                 0      M   сотрудник     0        267628   \n",
       "4                 1      F   пенсионер     0        158616   \n",
       "\n",
       "                      purpose age_groupe  years_employed  \n",
       "0               покупка жилья      35-45              23  \n",
       "1     приобретение автомобиля      35-45              11  \n",
       "2               покупка жилья      25-35              15  \n",
       "3  дополнительное образование      25-35              11  \n",
       "4             сыграть свадьбу      45-55             932  "
      ]
     },
     "execution_count": 255,
     "metadata": {},
     "output_type": "execute_result"
    }
   ],
   "source": [
    "#посмотрим что получилось\n",
    "df.head(5)"
   ]
  },
  {
   "cell_type": "code",
   "execution_count": 256,
   "metadata": {
    "scrolled": true
   },
   "outputs": [
    {
     "name": "stdout",
     "output_type": "stream",
     "text": [
      "<class 'pandas.core.frame.DataFrame'>\n",
      "RangeIndex: 21525 entries, 0 to 21524\n",
      "Data columns (total 13 columns):\n",
      "children            21525 non-null int64\n",
      "dob_years           21525 non-null int64\n",
      "education           21525 non-null object\n",
      "education_id        21525 non-null int64\n",
      "family_status       21525 non-null object\n",
      "family_status_id    21525 non-null int64\n",
      "gender              21525 non-null object\n",
      "income_type         21525 non-null object\n",
      "debt                21525 non-null int64\n",
      "total_income        21525 non-null int64\n",
      "purpose             21525 non-null object\n",
      "age_groupe          21525 non-null object\n",
      "years_employed      21525 non-null int64\n",
      "dtypes: int64(7), object(6)\n",
      "memory usage: 13.9 MB\n"
     ]
    }
   ],
   "source": [
    "#было 11.3 MB\n",
    "df.info(memory_usage='deep')"
   ]
  },
  {
   "cell_type": "code",
   "execution_count": 257,
   "metadata": {},
   "outputs": [],
   "source": [
    "# uint8 - беззнаковое целое (числа размером 1 байт).\n",
    "\n",
    "df['family_status_id'] = df['family_status_id'].astype('uint8')\n",
    "df['children'] = df['children'].astype('uint8')\n",
    "df['debt'] = df['debt'].astype('uint8')\n",
    "df['education_id'] = df['education_id'].astype('uint8')\n",
    "df['dob_years'] = df['dob_years'].astype('uint8')\n",
    "\n",
    "# uint16\n",
    "# беззнаковое целые числа в диапазоне от -32768 по 32767, (числа размером 2 байта).\n",
    "df['years_employed'] = df['years_employed'].astype('uint16')\n",
    "\n",
    "# uint32\n",
    "# беззнаковое целые числа в диапазоне от 0 по 4294967295 (числа размером 4 байта).\n",
    "df['total_income'] = df['total_income'].astype('uint32')\n",
    "\n",
    "#category - для фиксированного набора строк\n",
    "df['family_status'] = df['family_status'].astype('category')\n",
    "df['education'] = df['education'].astype('category')\n",
    "df['income_type'] = df['income_type'].astype('category')\n",
    "\n",
    "#колонку purpose можно также поджать, но после лемматизации..\n",
    "#df['purpose'] = df['purpose'].astype('category')"
   ]
  },
  {
   "cell_type": "code",
   "execution_count": 270,
   "metadata": {},
   "outputs": [
    {
     "name": "stdout",
     "output_type": "stream",
     "text": [
      "<class 'pandas.core.frame.DataFrame'>\n",
      "RangeIndex: 21454 entries, 0 to 21453\n",
      "Data columns (total 13 columns):\n",
      "children            21454 non-null uint8\n",
      "dob_years           21454 non-null uint8\n",
      "education           21454 non-null category\n",
      "education_id        21454 non-null uint8\n",
      "family_status       21454 non-null category\n",
      "family_status_id    21454 non-null uint8\n",
      "gender              21454 non-null object\n",
      "income_type         21454 non-null category\n",
      "debt                21454 non-null uint8\n",
      "total_income        21454 non-null uint32\n",
      "age_groupe          21454 non-null object\n",
      "years_employed      21454 non-null uint16\n",
      "credit_purpose      21454 non-null object\n",
      "dtypes: category(3), object(3), uint16(1), uint32(1), uint8(5)\n",
      "memory usage: 4.9 MB\n"
     ]
    }
   ],
   "source": [
    "#стало 5.4 MB\n",
    "df.info(memory_usage='deep')"
   ]
  },
  {
   "cell_type": "markdown",
   "metadata": {},
   "source": [
    "Вывод (для себя): Следует использовать тип 'category' для фиксированного набора значений в столбцах. Замена int64 даже на uint8 не так эффективна, как преобразование в 'category'"
   ]
  },
  {
   "cell_type": "markdown",
   "metadata": {},
   "source": [
    "**Вывод**"
   ]
  },
  {
   "cell_type": "markdown",
   "metadata": {},
   "source": [
    "Датасет подготовлен к обработке дубликатов"
   ]
  },
  {
   "cell_type": "markdown",
   "metadata": {},
   "source": [
    "### Обработка дубликатов"
   ]
  },
  {
   "cell_type": "code",
   "execution_count": 260,
   "metadata": {},
   "outputs": [
    {
     "data": {
      "text/plain": [
       "71"
      ]
     },
     "execution_count": 260,
     "metadata": {},
     "output_type": "execute_result"
    }
   ],
   "source": [
    "#подсчитаем количество полных дублей\n",
    "df.duplicated().sum()"
   ]
  },
  {
   "cell_type": "code",
   "execution_count": 261,
   "metadata": {},
   "outputs": [],
   "source": [
    "#удалим дубли с индексацией датасет\n",
    "df = df.drop_duplicates().reset_index(drop = True)"
   ]
  },
  {
   "cell_type": "code",
   "execution_count": 262,
   "metadata": {},
   "outputs": [
    {
     "data": {
      "text/plain": [
       "0"
      ]
     },
     "execution_count": 262,
     "metadata": {},
     "output_type": "execute_result"
    }
   ],
   "source": [
    "#проверим наличие дублей\n",
    "df.duplicated().sum()"
   ]
  },
  {
   "cell_type": "markdown",
   "metadata": {},
   "source": [
    "**Вывод**"
   ]
  },
  {
   "cell_type": "markdown",
   "metadata": {},
   "source": [
    "Дубли успешно удалены"
   ]
  },
  {
   "cell_type": "markdown",
   "metadata": {},
   "source": [
    "### Лемматизация"
   ]
  },
  {
   "cell_type": "code",
   "execution_count": 263,
   "metadata": {},
   "outputs": [
    {
     "name": "stdout",
     "output_type": "stream",
     "text": [
      "автомобили\n",
      "автомобиль\n",
      "высшее образование\n",
      "дополнительное образование\n",
      "жилье\n",
      "заняться высшим образованием\n",
      "заняться образованием\n",
      "на покупку автомобиля\n",
      "на покупку подержанного автомобиля\n",
      "на покупку своего автомобиля\n",
      "на проведение свадьбы\n",
      "недвижимость\n",
      "образование\n",
      "операции с жильем\n",
      "операции с коммерческой недвижимостью\n",
      "операции с недвижимостью\n",
      "операции со своей недвижимостью\n",
      "покупка жилой недвижимости\n",
      "покупка жилья\n",
      "покупка жилья для сдачи\n",
      "покупка жилья для семьи\n",
      "покупка коммерческой недвижимости\n",
      "покупка недвижимости\n",
      "покупка своего жилья\n",
      "получение высшего образования\n",
      "получение дополнительного образования\n",
      "получение образования\n",
      "приобретение автомобиля\n",
      "профильное образование\n",
      "ремонт жилью\n",
      "свадьба\n",
      "свой автомобиль\n",
      "сделка с автомобилем\n",
      "сделка с подержанным автомобилем\n",
      "строительство жилой недвижимости\n",
      "строительство недвижимости\n",
      "строительство собственной недвижимости\n",
      "сыграть свадьбу\n"
     ]
    }
   ],
   "source": [
    "# Узнаем количество уникальных значений в столбце purpose\n",
    "array_unique_purpose = df['purpose'].unique()\n",
    "list_purpose = array_unique_purpose.tolist()\n",
    "list_purpose.sort()\n",
    "for purpose in list_purpose:\n",
    "    print(purpose)"
   ]
  },
  {
   "cell_type": "markdown",
   "metadata": {},
   "source": [
    "Очевидно, что есть цели получения кредита дублирующие друг друга.\n",
    "\n",
    "Выделим похожие цели через механизм лемматизации"
   ]
  },
  {
   "cell_type": "code",
   "execution_count": 264,
   "metadata": {},
   "outputs": [
    {
     "name": "stdout",
     "output_type": "stream",
     "text": [
      "['автомобиль', '\\n']\n",
      "['автомобиль', '\\n']\n",
      "['высокий', ' ', 'образование', '\\n']\n",
      "['дополнительный', ' ', 'образование', '\\n']\n",
      "['жилье', '\\n']\n",
      "['заниматься', ' ', 'высокий', ' ', 'образование', '\\n']\n",
      "['заниматься', ' ', 'образование', '\\n']\n",
      "['на', ' ', 'покупка', ' ', 'автомобиль', '\\n']\n",
      "['на', ' ', 'покупка', ' ', 'подержать', ' ', 'автомобиль', '\\n']\n",
      "['на', ' ', 'покупка', ' ', 'свой', ' ', 'автомобиль', '\\n']\n",
      "['на', ' ', 'проведение', ' ', 'свадьба', '\\n']\n",
      "['недвижимость', '\\n']\n",
      "['образование', '\\n']\n",
      "['операция', ' ', 'с', ' ', 'жилье', '\\n']\n",
      "['операция', ' ', 'с', ' ', 'коммерческий', ' ', 'недвижимость', '\\n']\n",
      "['операция', ' ', 'с', ' ', 'недвижимость', '\\n']\n",
      "['операция', ' ', 'со', ' ', 'свой', ' ', 'недвижимость', '\\n']\n",
      "['покупка', ' ', 'жилой', ' ', 'недвижимость', '\\n']\n",
      "['покупка', ' ', 'жилье', '\\n']\n",
      "['покупка', ' ', 'жилье', ' ', 'для', ' ', 'сдача', '\\n']\n",
      "['покупка', ' ', 'жилье', ' ', 'для', ' ', 'семья', '\\n']\n",
      "['покупка', ' ', 'коммерческий', ' ', 'недвижимость', '\\n']\n",
      "['покупка', ' ', 'недвижимость', '\\n']\n",
      "['покупка', ' ', 'свой', ' ', 'жилье', '\\n']\n",
      "['получение', ' ', 'высокий', ' ', 'образование', '\\n']\n",
      "['получение', ' ', 'дополнительный', ' ', 'образование', '\\n']\n",
      "['получение', ' ', 'образование', '\\n']\n",
      "['приобретение', ' ', 'автомобиль', '\\n']\n",
      "['профильный', ' ', 'образование', '\\n']\n",
      "['ремонт', ' ', 'жилье', '\\n']\n",
      "['свадьба', '\\n']\n",
      "['свой', ' ', 'автомобиль', '\\n']\n",
      "['сделка', ' ', 'с', ' ', 'автомобиль', '\\n']\n",
      "['сделка', ' ', 'с', ' ', 'подержанный', ' ', 'автомобиль', '\\n']\n",
      "['строительство', ' ', 'жилой', ' ', 'недвижимость', '\\n']\n",
      "['строительство', ' ', 'недвижимость', '\\n']\n",
      "['строительство', ' ', 'собственный', ' ', 'недвижимость', '\\n']\n",
      "['сыграть', ' ', 'свадьба', '\\n']\n"
     ]
    }
   ],
   "source": [
    "#импортируем библиотеку pymystem3\n",
    "\n",
    "#from pymystem3 import Mystem - код перенесен в начало проекта\n",
    "m = Mystem() \n",
    "\n",
    "for query in list_purpose:\n",
    "    lemmas = m.lemmatize(query)\n",
    "    print(lemmas)\n",
    " "
   ]
  },
  {
   "cell_type": "code",
   "execution_count": 265,
   "metadata": {},
   "outputs": [
    {
     "data": {
      "text/plain": [
       "['автомобиль', 'недвижимость', 'жилье', 'образование', 'свадьба', 'иное']"
      ]
     },
     "execution_count": 265,
     "metadata": {},
     "output_type": "execute_result"
    }
   ],
   "source": [
    "#Выделим основные, наиболее часто встречающиеся слова в список\n",
    "words_list = ['автомобиль','недвижимость','жилье','образование','свадьба','иное']\n",
    "words_list # 0,1,2,3,4,5"
   ]
  },
  {
   "cell_type": "code",
   "execution_count": 266,
   "metadata": {},
   "outputs": [
    {
     "name": "stdout",
     "output_type": "stream",
     "text": [
      "{'автомобили': 'автомобиль', 'автомобиль': 'автомобиль', 'высшее образование': 'образование', 'дополнительное образование': 'образование', 'жилье': 'жилье', 'заняться высшим образованием': 'образование', 'заняться образованием': 'образование', 'на покупку автомобиля': 'автомобиль', 'на покупку подержанного автомобиля': 'автомобиль', 'на покупку своего автомобиля': 'автомобиль', 'на проведение свадьбы': 'свадьба', 'недвижимость': 'недвижимость', 'образование': 'образование', 'операции с жильем': 'жилье', 'операции с коммерческой недвижимостью': 'недвижимость', 'операции с недвижимостью': 'недвижимость', 'операции со своей недвижимостью': 'недвижимость', 'покупка жилой недвижимости': 'недвижимость', 'покупка жилья': 'жилье', 'покупка жилья для сдачи': 'жилье', 'покупка жилья для семьи': 'жилье', 'покупка коммерческой недвижимости': 'недвижимость', 'покупка недвижимости': 'недвижимость', 'покупка своего жилья': 'жилье', 'получение высшего образования': 'образование', 'получение дополнительного образования': 'образование', 'получение образования': 'образование', 'приобретение автомобиля': 'автомобиль', 'профильное образование': 'образование', 'ремонт жилью': 'жилье', 'свадьба': 'свадьба', 'свой автомобиль': 'автомобиль', 'сделка с автомобилем': 'автомобиль', 'сделка с подержанным автомобилем': 'автомобиль', 'строительство жилой недвижимости': 'недвижимость', 'строительство недвижимости': 'недвижимость', 'строительство собственной недвижимости': 'недвижимость', 'сыграть свадьбу': 'свадьба'}\n"
     ]
    }
   ],
   "source": [
    "#составим словарь где ключами будут уникальные значения list_purpose, а значениями - words_list\n",
    "\n",
    "dictionary_purpose = {}\n",
    "for purpose in list_purpose:\n",
    "    if 'авто' in purpose:\n",
    "         dictionary_purpose[purpose] = words_list[0] #'автомобиль'\n",
    "    elif 'недвиж' in purpose:\n",
    "         dictionary_purpose[purpose] = words_list[1] #'недвижимость'\n",
    "    elif 'жиль' in purpose:\n",
    "         dictionary_purpose[purpose] = words_list[2] #'жилье'\n",
    "    elif 'образован' in purpose:\n",
    "        dictionary_purpose[purpose] = words_list[3] #'образование'\n",
    "    elif 'свадьб' in purpose:\n",
    "         dictionary_purpose[purpose] = words_list[4] #'свадьба'\n",
    "    else:\n",
    "         dictionary_purpose[purpose] = words_list[5] #'иное'\n",
    "\n",
    "print(dictionary_purpose)"
   ]
  },
  {
   "cell_type": "code",
   "execution_count": 267,
   "metadata": {},
   "outputs": [],
   "source": [
    "#добавим новую колонку и заполним её по словарю\n",
    "df['credit_purpose'] = df['purpose'].map(dictionary_purpose)"
   ]
  },
  {
   "cell_type": "code",
   "execution_count": 268,
   "metadata": {},
   "outputs": [],
   "source": [
    "del df['purpose']"
   ]
  },
  {
   "cell_type": "code",
   "execution_count": 269,
   "metadata": {},
   "outputs": [
    {
     "data": {
      "text/html": [
       "<div>\n",
       "<style scoped>\n",
       "    .dataframe tbody tr th:only-of-type {\n",
       "        vertical-align: middle;\n",
       "    }\n",
       "\n",
       "    .dataframe tbody tr th {\n",
       "        vertical-align: top;\n",
       "    }\n",
       "\n",
       "    .dataframe thead th {\n",
       "        text-align: right;\n",
       "    }\n",
       "</style>\n",
       "<table border=\"1\" class=\"dataframe\">\n",
       "  <thead>\n",
       "    <tr style=\"text-align: right;\">\n",
       "      <th></th>\n",
       "      <th>children</th>\n",
       "      <th>dob_years</th>\n",
       "      <th>education</th>\n",
       "      <th>education_id</th>\n",
       "      <th>family_status</th>\n",
       "      <th>family_status_id</th>\n",
       "      <th>gender</th>\n",
       "      <th>income_type</th>\n",
       "      <th>debt</th>\n",
       "      <th>total_income</th>\n",
       "      <th>age_groupe</th>\n",
       "      <th>years_employed</th>\n",
       "      <th>credit_purpose</th>\n",
       "    </tr>\n",
       "  </thead>\n",
       "  <tbody>\n",
       "    <tr>\n",
       "      <td>0</td>\n",
       "      <td>1</td>\n",
       "      <td>42</td>\n",
       "      <td>высшее</td>\n",
       "      <td>0</td>\n",
       "      <td>женат / замужем</td>\n",
       "      <td>0</td>\n",
       "      <td>F</td>\n",
       "      <td>сотрудник</td>\n",
       "      <td>0</td>\n",
       "      <td>253875</td>\n",
       "      <td>35-45</td>\n",
       "      <td>23</td>\n",
       "      <td>жилье</td>\n",
       "    </tr>\n",
       "    <tr>\n",
       "      <td>1</td>\n",
       "      <td>1</td>\n",
       "      <td>36</td>\n",
       "      <td>среднее</td>\n",
       "      <td>1</td>\n",
       "      <td>женат / замужем</td>\n",
       "      <td>0</td>\n",
       "      <td>F</td>\n",
       "      <td>сотрудник</td>\n",
       "      <td>0</td>\n",
       "      <td>112080</td>\n",
       "      <td>35-45</td>\n",
       "      <td>11</td>\n",
       "      <td>автомобиль</td>\n",
       "    </tr>\n",
       "    <tr>\n",
       "      <td>2</td>\n",
       "      <td>0</td>\n",
       "      <td>33</td>\n",
       "      <td>среднее</td>\n",
       "      <td>1</td>\n",
       "      <td>женат / замужем</td>\n",
       "      <td>0</td>\n",
       "      <td>M</td>\n",
       "      <td>сотрудник</td>\n",
       "      <td>0</td>\n",
       "      <td>145885</td>\n",
       "      <td>25-35</td>\n",
       "      <td>15</td>\n",
       "      <td>жилье</td>\n",
       "    </tr>\n",
       "    <tr>\n",
       "      <td>3</td>\n",
       "      <td>3</td>\n",
       "      <td>32</td>\n",
       "      <td>среднее</td>\n",
       "      <td>1</td>\n",
       "      <td>женат / замужем</td>\n",
       "      <td>0</td>\n",
       "      <td>M</td>\n",
       "      <td>сотрудник</td>\n",
       "      <td>0</td>\n",
       "      <td>267628</td>\n",
       "      <td>25-35</td>\n",
       "      <td>11</td>\n",
       "      <td>образование</td>\n",
       "    </tr>\n",
       "    <tr>\n",
       "      <td>4</td>\n",
       "      <td>0</td>\n",
       "      <td>53</td>\n",
       "      <td>среднее</td>\n",
       "      <td>1</td>\n",
       "      <td>гражданский брак</td>\n",
       "      <td>1</td>\n",
       "      <td>F</td>\n",
       "      <td>пенсионер</td>\n",
       "      <td>0</td>\n",
       "      <td>158616</td>\n",
       "      <td>45-55</td>\n",
       "      <td>932</td>\n",
       "      <td>свадьба</td>\n",
       "    </tr>\n",
       "  </tbody>\n",
       "</table>\n",
       "</div>"
      ],
      "text/plain": [
       "   children  dob_years education  education_id     family_status  \\\n",
       "0         1         42    высшее             0   женат / замужем   \n",
       "1         1         36   среднее             1   женат / замужем   \n",
       "2         0         33   среднее             1   женат / замужем   \n",
       "3         3         32   среднее             1   женат / замужем   \n",
       "4         0         53   среднее             1  гражданский брак   \n",
       "\n",
       "   family_status_id gender income_type  debt  total_income age_groupe  \\\n",
       "0                 0      F   сотрудник     0        253875      35-45   \n",
       "1                 0      F   сотрудник     0        112080      35-45   \n",
       "2                 0      M   сотрудник     0        145885      25-35   \n",
       "3                 0      M   сотрудник     0        267628      25-35   \n",
       "4                 1      F   пенсионер     0        158616      45-55   \n",
       "\n",
       "   years_employed credit_purpose  \n",
       "0              23          жилье  \n",
       "1              11     автомобиль  \n",
       "2              15          жилье  \n",
       "3              11    образование  \n",
       "4             932        свадьба  "
      ]
     },
     "execution_count": 269,
     "metadata": {},
     "output_type": "execute_result"
    }
   ],
   "source": [
    "df.head()"
   ]
  },
  {
   "cell_type": "markdown",
   "metadata": {},
   "source": [
    "**Вывод**"
   ]
  },
  {
   "cell_type": "markdown",
   "metadata": {},
   "source": [
    "Проведена лемматицация по колонке цель кредита, добавлена новая колока с перечислением ограниченного количества целей."
   ]
  },
  {
   "cell_type": "markdown",
   "metadata": {},
   "source": [
    "### Категоризация данных"
   ]
  },
  {
   "cell_type": "code",
   "execution_count": 316,
   "metadata": {},
   "outputs": [
    {
     "data": {
      "text/plain": [
       "Text(0, 0.5, 'Количество в выборке')"
      ]
     },
     "execution_count": 316,
     "metadata": {},
     "output_type": "execute_result"
    },
    {
     "data": {
      "image/png": "[encoded data removed]",
      "text/plain": [
       "<Figure size 432x288 with 1 Axes>"
      ]
     },
     "metadata": {
      "needs_background": "light"
     },
     "output_type": "display_data"
    }
   ],
   "source": [
    "df['total_income'].plot(kind='hist', bins=100)\n",
    "plt.title('Распределение дохода по заемщикам')\n",
    "plt.xlabel('Ежемесячный доход')\n",
    "plt.ylabel('Количество в выборке')"
   ]
  },
  {
   "cell_type": "code",
   "execution_count": 318,
   "metadata": {},
   "outputs": [
    {
     "data": {
      "text/plain": [
       "Text(0, 0.5, 'Количество в выборке')"
      ]
     },
     "execution_count": 318,
     "metadata": {},
     "output_type": "execute_result"
    },
    {
     "data": {
      "image/png": "[encoded data removed]",
      "text/plain": [
       "<Figure size 432x288 with 1 Axes>"
      ]
     },
     "metadata": {
      "needs_background": "light"
     },
     "output_type": "display_data"
    }
   ],
   "source": [
    "#ограничим верхнюю планку в 500 000\n",
    "df2 = df.loc[df.loc[:,'total_income'] < 500000]\n",
    "df2['total_income'].plot(kind='hist', bins=20)\n",
    "plt.title('Распределение дохода менее 500 000 руб по заемщикам')\n",
    "plt.xlabel('Ежемесячный доход')\n",
    "plt.ylabel('Количество в выборке')\n"
   ]
  },
  {
   "cell_type": "code",
   "execution_count": 297,
   "metadata": {},
   "outputs": [
    {
     "data": {
      "text/plain": [
       "count    2.145400e+04\n",
       "mean     1.510105e+05\n",
       "std      1.097366e+05\n",
       "min      0.000000e+00\n",
       "25%      8.908850e+04\n",
       "50%      1.357810e+05\n",
       "75%      1.958132e+05\n",
       "max      2.265604e+06\n",
       "Name: total_income, dtype: float64"
      ]
     },
     "execution_count": 297,
     "metadata": {},
     "output_type": "execute_result"
    }
   ],
   "source": [
    "#оценим через describe()\n",
    "series_of_level_income = df['total_income'].describe()\n",
    "series_of_level_income"
   ]
  },
  {
   "cell_type": "code",
   "execution_count": 298,
   "metadata": {},
   "outputs": [
    {
     "name": "stdout",
     "output_type": "stream",
     "text": [
      "низкий доход = 89088.50\n",
      "средний доход = 135781.00\n",
      "высокий доход = 195813.25\n"
     ]
    }
   ],
   "source": [
    "#посмотрим цифры \n",
    "print('низкий доход = {:.2f}'.format(series_of_level_income['25%']))\n",
    "print('средний доход = {:.2f}'.format(series_of_level_income['50%']))\n",
    "print('высокий доход = {:.2f}'.format(series_of_level_income['75%']))\n"
   ]
  },
  {
   "cell_type": "code",
   "execution_count": 299,
   "metadata": {},
   "outputs": [],
   "source": [
    "#построим функцию для категоризации уровня дохода\n",
    "\n",
    "#разобьем доходы на 5 групп\n",
    "\n",
    "def level_of_income(raw):\n",
    "    level = series_of_level_income\n",
    "    income = raw['total_income']\n",
    "    if income == level['min']:\n",
    "            return 'минимальный'\n",
    "    elif level['min'] < income & income <= level['25%']:\n",
    "            return 'низкий'\n",
    "    elif level['25%'] <= income & income <= level['50%']*1.1:\n",
    "            return 'средний'\n",
    "    elif level['50%'] < income & income <= level['75%']:\n",
    "            return 'выще среднего'\n",
    "    elif level['75%'] < income & income <=level['max']:\n",
    "            return 'высокий'\n",
    "    else: \n",
    "        return 'неопределен'"
   ]
  },
  {
   "cell_type": "markdown",
   "metadata": {},
   "source": [
    "<div class=\"alert alert-block alert-success\">\n",
    "<b>Success:</b> Очень хорошая категоризация!"
   ]
  },
  {
   "cell_type": "code",
   "execution_count": 300,
   "metadata": {},
   "outputs": [],
   "source": [
    "#del df['level_income'] \n",
    "df['level_income'] = df.apply(level_of_income, axis=1) "
   ]
  },
  {
   "cell_type": "code",
   "execution_count": 301,
   "metadata": {},
   "outputs": [
    {
     "data": {
      "text/plain": [
       "средний          0.318961\n",
       "высокий          0.250023\n",
       "выще среднего    0.180992\n",
       "низкий           0.152000\n",
       "минимальный      0.098024\n",
       "Name: level_income, dtype: float64"
      ]
     },
     "execution_count": 301,
     "metadata": {},
     "output_type": "execute_result"
    }
   ],
   "source": [
    "#процентное соотношение по доходам\n",
    "df['level_income'].value_counts(normalize=True) "
   ]
  },
  {
   "cell_type": "code",
   "execution_count": 302,
   "metadata": {},
   "outputs": [
    {
     "data": {
      "text/html": [
       "<div>\n",
       "<style scoped>\n",
       "    .dataframe tbody tr th:only-of-type {\n",
       "        vertical-align: middle;\n",
       "    }\n",
       "\n",
       "    .dataframe tbody tr th {\n",
       "        vertical-align: top;\n",
       "    }\n",
       "\n",
       "    .dataframe thead th {\n",
       "        text-align: right;\n",
       "    }\n",
       "</style>\n",
       "<table border=\"1\" class=\"dataframe\">\n",
       "  <thead>\n",
       "    <tr style=\"text-align: right;\">\n",
       "      <th></th>\n",
       "      <th>children</th>\n",
       "      <th>dob_years</th>\n",
       "      <th>education</th>\n",
       "      <th>education_id</th>\n",
       "      <th>family_status</th>\n",
       "      <th>family_status_id</th>\n",
       "      <th>gender</th>\n",
       "      <th>income_type</th>\n",
       "      <th>debt</th>\n",
       "      <th>total_income</th>\n",
       "      <th>age_groupe</th>\n",
       "      <th>years_employed</th>\n",
       "      <th>credit_purpose</th>\n",
       "      <th>level_income</th>\n",
       "    </tr>\n",
       "  </thead>\n",
       "  <tbody>\n",
       "    <tr>\n",
       "      <td>0</td>\n",
       "      <td>1</td>\n",
       "      <td>42</td>\n",
       "      <td>высшее</td>\n",
       "      <td>0</td>\n",
       "      <td>женат / замужем</td>\n",
       "      <td>0</td>\n",
       "      <td>F</td>\n",
       "      <td>сотрудник</td>\n",
       "      <td>0</td>\n",
       "      <td>253875</td>\n",
       "      <td>35-45</td>\n",
       "      <td>23</td>\n",
       "      <td>жилье</td>\n",
       "      <td>высокий</td>\n",
       "    </tr>\n",
       "    <tr>\n",
       "      <td>1</td>\n",
       "      <td>1</td>\n",
       "      <td>36</td>\n",
       "      <td>среднее</td>\n",
       "      <td>1</td>\n",
       "      <td>женат / замужем</td>\n",
       "      <td>0</td>\n",
       "      <td>F</td>\n",
       "      <td>сотрудник</td>\n",
       "      <td>0</td>\n",
       "      <td>112080</td>\n",
       "      <td>35-45</td>\n",
       "      <td>11</td>\n",
       "      <td>автомобиль</td>\n",
       "      <td>средний</td>\n",
       "    </tr>\n",
       "    <tr>\n",
       "      <td>2</td>\n",
       "      <td>0</td>\n",
       "      <td>33</td>\n",
       "      <td>среднее</td>\n",
       "      <td>1</td>\n",
       "      <td>женат / замужем</td>\n",
       "      <td>0</td>\n",
       "      <td>M</td>\n",
       "      <td>сотрудник</td>\n",
       "      <td>0</td>\n",
       "      <td>145885</td>\n",
       "      <td>25-35</td>\n",
       "      <td>15</td>\n",
       "      <td>жилье</td>\n",
       "      <td>средний</td>\n",
       "    </tr>\n",
       "    <tr>\n",
       "      <td>3</td>\n",
       "      <td>3</td>\n",
       "      <td>32</td>\n",
       "      <td>среднее</td>\n",
       "      <td>1</td>\n",
       "      <td>женат / замужем</td>\n",
       "      <td>0</td>\n",
       "      <td>M</td>\n",
       "      <td>сотрудник</td>\n",
       "      <td>0</td>\n",
       "      <td>267628</td>\n",
       "      <td>25-35</td>\n",
       "      <td>11</td>\n",
       "      <td>образование</td>\n",
       "      <td>высокий</td>\n",
       "    </tr>\n",
       "    <tr>\n",
       "      <td>4</td>\n",
       "      <td>0</td>\n",
       "      <td>53</td>\n",
       "      <td>среднее</td>\n",
       "      <td>1</td>\n",
       "      <td>гражданский брак</td>\n",
       "      <td>1</td>\n",
       "      <td>F</td>\n",
       "      <td>пенсионер</td>\n",
       "      <td>0</td>\n",
       "      <td>158616</td>\n",
       "      <td>45-55</td>\n",
       "      <td>932</td>\n",
       "      <td>свадьба</td>\n",
       "      <td>выще среднего</td>\n",
       "    </tr>\n",
       "  </tbody>\n",
       "</table>\n",
       "</div>"
      ],
      "text/plain": [
       "   children  dob_years education  education_id     family_status  \\\n",
       "0         1         42    высшее             0   женат / замужем   \n",
       "1         1         36   среднее             1   женат / замужем   \n",
       "2         0         33   среднее             1   женат / замужем   \n",
       "3         3         32   среднее             1   женат / замужем   \n",
       "4         0         53   среднее             1  гражданский брак   \n",
       "\n",
       "   family_status_id gender income_type  debt  total_income age_groupe  \\\n",
       "0                 0      F   сотрудник     0        253875      35-45   \n",
       "1                 0      F   сотрудник     0        112080      35-45   \n",
       "2                 0      M   сотрудник     0        145885      25-35   \n",
       "3                 0      M   сотрудник     0        267628      25-35   \n",
       "4                 1      F   пенсионер     0        158616      45-55   \n",
       "\n",
       "   years_employed credit_purpose   level_income  \n",
       "0              23          жилье        высокий  \n",
       "1              11     автомобиль        средний  \n",
       "2              15          жилье        средний  \n",
       "3              11    образование        высокий  \n",
       "4             932        свадьба  выще среднего  "
      ]
     },
     "execution_count": 302,
     "metadata": {},
     "output_type": "execute_result"
    }
   ],
   "source": [
    "df.head(5)"
   ]
  },
  {
   "cell_type": "markdown",
   "metadata": {},
   "source": [
    "**Вывод**"
   ]
  },
  {
   "cell_type": "markdown",
   "metadata": {},
   "source": [
    "Датасет максимально подготовлен к проведению анализа"
   ]
  },
  {
   "cell_type": "markdown",
   "metadata": {},
   "source": [
    "## Шаг 3. Ответьте на вопросы"
   ]
  },
  {
   "cell_type": "markdown",
   "metadata": {},
   "source": [
    "- Есть ли зависимость между наличием детей и возвратом кредита в срок?"
   ]
  },
  {
   "cell_type": "code",
   "execution_count": 303,
   "metadata": {},
   "outputs": [],
   "source": [
    "#функция булевой категоризации наличие детей\n",
    "def children_Yes_No(raw):\n",
    "    if raw['children']>0:\n",
    "            return 'Есть дети'\n",
    "    else: \n",
    "        return 'Нет детей'\n",
    "    \n",
    "df['children_Yes_No'] = df.apply(children_Yes_No, axis=1) \n"
   ]
  },
  {
   "cell_type": "code",
   "execution_count": 304,
   "metadata": {},
   "outputs": [],
   "source": [
    "# добавим логическое отрицание наличия задолженности. \n",
    "# то есть - будет 1, если нет задолженности. Нужно для расчета агреггированных функций в группировках \n",
    "def Nodebt (raw):\n",
    "    if raw['debt'] == 0:\n",
    "        return 1\n",
    "    else: return 0\n",
    "\n",
    "#новая колонка - отсутствие задолженности Not_debt\n",
    "df['Not_debt'] = df.apply(Nodebt, axis=1) \n",
    "#df.tail(100)"
   ]
  },
  {
   "cell_type": "code",
   "execution_count": 305,
   "metadata": {},
   "outputs": [
    {
     "data": {
      "text/html": [
       "<div>\n",
       "<style scoped>\n",
       "    .dataframe tbody tr th:only-of-type {\n",
       "        vertical-align: middle;\n",
       "    }\n",
       "\n",
       "    .dataframe tbody tr th {\n",
       "        vertical-align: top;\n",
       "    }\n",
       "\n",
       "    .dataframe thead th {\n",
       "        text-align: right;\n",
       "    }\n",
       "</style>\n",
       "<table border=\"1\" class=\"dataframe\">\n",
       "  <thead>\n",
       "    <tr style=\"text-align: right;\">\n",
       "      <th>debt</th>\n",
       "      <th>0</th>\n",
       "      <th>1</th>\n",
       "    </tr>\n",
       "    <tr>\n",
       "      <th>children_Yes_No</th>\n",
       "      <th></th>\n",
       "      <th></th>\n",
       "    </tr>\n",
       "  </thead>\n",
       "  <tbody>\n",
       "    <tr>\n",
       "      <td>Есть дети</td>\n",
       "      <td>6685</td>\n",
       "      <td>678</td>\n",
       "    </tr>\n",
       "    <tr>\n",
       "      <td>Нет детей</td>\n",
       "      <td>13028</td>\n",
       "      <td>1063</td>\n",
       "    </tr>\n",
       "  </tbody>\n",
       "</table>\n",
       "</div>"
      ],
      "text/plain": [
       "debt                 0     1\n",
       "children_Yes_No             \n",
       "Есть дети         6685   678\n",
       "Нет детей        13028  1063"
      ]
     },
     "execution_count": 305,
     "metadata": {},
     "output_type": "execute_result"
    }
   ],
   "source": [
    "#воспользуемся pivot_table\n",
    "pivot_table = pd.pivot_table(df, values='Not_debt', index=['children_Yes_No'], columns=['debt'], aggfunc='count')\n",
    "pivot_table\n",
    "\n",
    "# 0 - Нет задолженности\n",
    "# 1 - Есть здолженность\n"
   ]
  },
  {
   "cell_type": "code",
   "execution_count": 306,
   "metadata": {},
   "outputs": [
    {
     "data": {
      "text/plain": [
       "children_Yes_No\n",
       "Есть дети     678.0\n",
       "Нет детей    1063.0\n",
       "Name: debt, dtype: float64"
      ]
     },
     "execution_count": 306,
     "metadata": {},
     "output_type": "execute_result"
    }
   ],
   "source": [
    "#проверю содержимое в колонках pivot_table другим способом\n",
    "\n",
    "#есть задолженность\n",
    "result_debt = df.groupby('children_Yes_No')['debt'].sum()\n",
    "result_debt\n"
   ]
  },
  {
   "cell_type": "code",
   "execution_count": 307,
   "metadata": {},
   "outputs": [
    {
     "data": {
      "text/plain": [
       "children_Yes_No\n",
       "Есть дети     6685\n",
       "Нет детей    13028\n",
       "Name: Not_debt, dtype: int64"
      ]
     },
     "execution_count": 307,
     "metadata": {},
     "output_type": "execute_result"
    }
   ],
   "source": [
    "#нет задолженности\n",
    "result_debt_No = df.groupby('children_Yes_No')['Not_debt'].sum()\n",
    "result_debt_No"
   ]
  },
  {
   "cell_type": "code",
   "execution_count": 308,
   "metadata": {},
   "outputs": [
    {
     "data": {
      "text/html": [
       "<div>\n",
       "<style scoped>\n",
       "    .dataframe tbody tr th:only-of-type {\n",
       "        vertical-align: middle;\n",
       "    }\n",
       "\n",
       "    .dataframe tbody tr th {\n",
       "        vertical-align: top;\n",
       "    }\n",
       "\n",
       "    .dataframe thead th {\n",
       "        text-align: right;\n",
       "    }\n",
       "</style>\n",
       "<table border=\"1\" class=\"dataframe\">\n",
       "  <thead>\n",
       "    <tr style=\"text-align: right;\">\n",
       "      <th>debt</th>\n",
       "      <th>0</th>\n",
       "      <th>1</th>\n",
       "      <th>Proportion</th>\n",
       "    </tr>\n",
       "    <tr>\n",
       "      <th>children_Yes_No</th>\n",
       "      <th></th>\n",
       "      <th></th>\n",
       "      <th></th>\n",
       "    </tr>\n",
       "  </thead>\n",
       "  <tbody>\n",
       "    <tr>\n",
       "      <td>Есть дети</td>\n",
       "      <td>6685</td>\n",
       "      <td>678</td>\n",
       "      <td>10.142109</td>\n",
       "    </tr>\n",
       "    <tr>\n",
       "      <td>Нет детей</td>\n",
       "      <td>13028</td>\n",
       "      <td>1063</td>\n",
       "      <td>8.159349</td>\n",
       "    </tr>\n",
       "  </tbody>\n",
       "</table>\n",
       "</div>"
      ],
      "text/plain": [
       "debt                 0     1  Proportion\n",
       "children_Yes_No                         \n",
       "Есть дети         6685   678   10.142109\n",
       "Нет детей        13028  1063    8.159349"
      ]
     },
     "execution_count": 308,
     "metadata": {},
     "output_type": "execute_result"
    }
   ],
   "source": [
    "#pivot_table - не обманула\n",
    "\n",
    "#добавим колонку с процентным отношением должников к не имеющим задолженности\n",
    "\n",
    "pivot_table['Proportion'] = 100 * pivot_table[1] / pivot_table[0]\n",
    "pivot_table"
   ]
  },
  {
   "cell_type": "markdown",
   "metadata": {},
   "source": [
    "**Вывод**"
   ]
  },
  {
   "cell_type": "markdown",
   "metadata": {},
   "source": [
    "**Наличие или отсутствие детей не влияет на возврат кредита в срок. Наличие детей всего на 2%, по сравнению с бездетными, ухудшает картину возвратов кредита**"
   ]
  },
  {
   "cell_type": "markdown",
   "metadata": {},
   "source": [
    "- Есть ли зависимость между семейным положением и возвратом кредита в срок?"
   ]
  },
  {
   "cell_type": "code",
   "execution_count": 309,
   "metadata": {},
   "outputs": [
    {
     "data": {
      "text/html": [
       "<div>\n",
       "<style scoped>\n",
       "    .dataframe tbody tr th:only-of-type {\n",
       "        vertical-align: middle;\n",
       "    }\n",
       "\n",
       "    .dataframe tbody tr th {\n",
       "        vertical-align: top;\n",
       "    }\n",
       "\n",
       "    .dataframe thead th {\n",
       "        text-align: right;\n",
       "    }\n",
       "</style>\n",
       "<table border=\"1\" class=\"dataframe\">\n",
       "  <thead>\n",
       "    <tr style=\"text-align: right;\">\n",
       "      <th>debt</th>\n",
       "      <th>0</th>\n",
       "      <th>1</th>\n",
       "      <th>Proportion</th>\n",
       "    </tr>\n",
       "    <tr>\n",
       "      <th>family_status</th>\n",
       "      <th></th>\n",
       "      <th></th>\n",
       "      <th></th>\n",
       "    </tr>\n",
       "  </thead>\n",
       "  <tbody>\n",
       "    <tr>\n",
       "      <td>в разводе</td>\n",
       "      <td>1110</td>\n",
       "      <td>85</td>\n",
       "      <td>7.657658</td>\n",
       "    </tr>\n",
       "    <tr>\n",
       "      <td>вдовец / вдова</td>\n",
       "      <td>896</td>\n",
       "      <td>63</td>\n",
       "      <td>7.031250</td>\n",
       "    </tr>\n",
       "    <tr>\n",
       "      <td>гражданский брак</td>\n",
       "      <td>3763</td>\n",
       "      <td>388</td>\n",
       "      <td>10.310922</td>\n",
       "    </tr>\n",
       "    <tr>\n",
       "      <td>женат / замужем</td>\n",
       "      <td>11408</td>\n",
       "      <td>931</td>\n",
       "      <td>8.160940</td>\n",
       "    </tr>\n",
       "    <tr>\n",
       "      <td>не женат / не замужем</td>\n",
       "      <td>2536</td>\n",
       "      <td>274</td>\n",
       "      <td>10.804416</td>\n",
       "    </tr>\n",
       "  </tbody>\n",
       "</table>\n",
       "</div>"
      ],
      "text/plain": [
       "debt                       0    1  Proportion\n",
       "family_status                                \n",
       "в разводе               1110   85    7.657658\n",
       "вдовец / вдова           896   63    7.031250\n",
       "гражданский брак        3763  388   10.310922\n",
       "женат / замужем        11408  931    8.160940\n",
       "не женат / не замужем   2536  274   10.804416"
      ]
     },
     "execution_count": 309,
     "metadata": {},
     "output_type": "execute_result"
    }
   ],
   "source": [
    "#строим pivot_table аналогично предыдущему пункту\n",
    "\n",
    "pivot_table = pd.pivot_table(df, values='Not_debt', index=['family_status'], columns=['debt'], aggfunc='count')\n",
    "pivot_table['Proportion'] = 100 * pivot_table[1] / pivot_table[0]\n",
    "pivot_table\n"
   ]
  },
  {
   "cell_type": "markdown",
   "metadata": {},
   "source": [
    "**Вывод**"
   ]
  },
  {
   "cell_type": "markdown",
   "metadata": {},
   "source": [
    "**Картина практически ровная. Процент должников во всех группах колеблется от 7% до 10%**\n"
   ]
  },
  {
   "cell_type": "markdown",
   "metadata": {},
   "source": [
    "- Есть ли зависимость между уровнем дохода и возвратом кредита в срок?"
   ]
  },
  {
   "cell_type": "code",
   "execution_count": 310,
   "metadata": {},
   "outputs": [],
   "source": [
    "#строим pivot_table аналогично предыдущим пунктам"
   ]
  },
  {
   "cell_type": "code",
   "execution_count": 311,
   "metadata": {},
   "outputs": [
    {
     "data": {
      "text/html": [
       "<div>\n",
       "<style scoped>\n",
       "    .dataframe tbody tr th:only-of-type {\n",
       "        vertical-align: middle;\n",
       "    }\n",
       "\n",
       "    .dataframe tbody tr th {\n",
       "        vertical-align: top;\n",
       "    }\n",
       "\n",
       "    .dataframe thead th {\n",
       "        text-align: right;\n",
       "    }\n",
       "</style>\n",
       "<table border=\"1\" class=\"dataframe\">\n",
       "  <thead>\n",
       "    <tr style=\"text-align: right;\">\n",
       "      <th>debt</th>\n",
       "      <th>0</th>\n",
       "      <th>1</th>\n",
       "      <th>Proportion</th>\n",
       "    </tr>\n",
       "    <tr>\n",
       "      <th>level_income</th>\n",
       "      <th></th>\n",
       "      <th></th>\n",
       "      <th></th>\n",
       "    </tr>\n",
       "  </thead>\n",
       "  <tbody>\n",
       "    <tr>\n",
       "      <td>высокий</td>\n",
       "      <td>4981</td>\n",
       "      <td>383</td>\n",
       "      <td>7.689219</td>\n",
       "    </tr>\n",
       "    <tr>\n",
       "      <td>выще среднего</td>\n",
       "      <td>3537</td>\n",
       "      <td>346</td>\n",
       "      <td>9.782301</td>\n",
       "    </tr>\n",
       "    <tr>\n",
       "      <td>минимальный</td>\n",
       "      <td>1933</td>\n",
       "      <td>170</td>\n",
       "      <td>8.794620</td>\n",
       "    </tr>\n",
       "    <tr>\n",
       "      <td>низкий</td>\n",
       "      <td>3012</td>\n",
       "      <td>249</td>\n",
       "      <td>8.266932</td>\n",
       "    </tr>\n",
       "    <tr>\n",
       "      <td>средний</td>\n",
       "      <td>6250</td>\n",
       "      <td>593</td>\n",
       "      <td>9.488000</td>\n",
       "    </tr>\n",
       "  </tbody>\n",
       "</table>\n",
       "</div>"
      ],
      "text/plain": [
       "debt              0    1  Proportion\n",
       "level_income                        \n",
       "высокий        4981  383    7.689219\n",
       "выще среднего  3537  346    9.782301\n",
       "минимальный    1933  170    8.794620\n",
       "низкий         3012  249    8.266932\n",
       "средний        6250  593    9.488000"
      ]
     },
     "execution_count": 311,
     "metadata": {},
     "output_type": "execute_result"
    }
   ],
   "source": [
    "pivot_table = pd.pivot_table(df, values='Not_debt', index=['level_income'], columns=['debt'], aggfunc='count')\n",
    "pivot_table['Proportion'] = 100 * pivot_table[1] / pivot_table[0]\n",
    "pivot_table\n"
   ]
  },
  {
   "cell_type": "code",
   "execution_count": 312,
   "metadata": {},
   "outputs": [
    {
     "data": {
      "text/plain": [
       "level_income\n",
       "высокий          383.0\n",
       "выще среднего    346.0\n",
       "минимальный      170.0\n",
       "низкий           249.0\n",
       "средний          593.0\n",
       "Name: debt, dtype: float64"
      ]
     },
     "execution_count": 312,
     "metadata": {},
     "output_type": "execute_result"
    }
   ],
   "source": [
    "#проверю \n",
    "df.groupby('level_income')['debt'].sum()"
   ]
  },
  {
   "cell_type": "markdown",
   "metadata": {},
   "source": [
    "**Вывод**"
   ]
  },
  {
   "cell_type": "markdown",
   "metadata": {},
   "source": [
    "**Уровень дохода не влияет на возвращаемость кредита, процент не вернувших кредит составляет в среднем 8% во всех группах.**"
   ]
  },
  {
   "cell_type": "markdown",
   "metadata": {},
   "source": [
    "- Как разные цели кредита влияют на его возврат в срок?"
   ]
  },
  {
   "cell_type": "code",
   "execution_count": 313,
   "metadata": {},
   "outputs": [
    {
     "data": {
      "text/html": [
       "<div>\n",
       "<style scoped>\n",
       "    .dataframe tbody tr th:only-of-type {\n",
       "        vertical-align: middle;\n",
       "    }\n",
       "\n",
       "    .dataframe tbody tr th {\n",
       "        vertical-align: top;\n",
       "    }\n",
       "\n",
       "    .dataframe thead th {\n",
       "        text-align: right;\n",
       "    }\n",
       "</style>\n",
       "<table border=\"1\" class=\"dataframe\">\n",
       "  <thead>\n",
       "    <tr style=\"text-align: right;\">\n",
       "      <th>debt</th>\n",
       "      <th>0</th>\n",
       "      <th>1</th>\n",
       "      <th>Proportion</th>\n",
       "    </tr>\n",
       "    <tr>\n",
       "      <th>credit_purpose</th>\n",
       "      <th></th>\n",
       "      <th></th>\n",
       "      <th></th>\n",
       "    </tr>\n",
       "  </thead>\n",
       "  <tbody>\n",
       "    <tr>\n",
       "      <td>автомобиль</td>\n",
       "      <td>3903</td>\n",
       "      <td>403</td>\n",
       "      <td>10.325391</td>\n",
       "    </tr>\n",
       "    <tr>\n",
       "      <td>жилье</td>\n",
       "      <td>4152</td>\n",
       "      <td>308</td>\n",
       "      <td>7.418112</td>\n",
       "    </tr>\n",
       "    <tr>\n",
       "      <td>недвижимость</td>\n",
       "      <td>5877</td>\n",
       "      <td>474</td>\n",
       "      <td>8.065339</td>\n",
       "    </tr>\n",
       "    <tr>\n",
       "      <td>образование</td>\n",
       "      <td>3643</td>\n",
       "      <td>370</td>\n",
       "      <td>10.156464</td>\n",
       "    </tr>\n",
       "    <tr>\n",
       "      <td>свадьба</td>\n",
       "      <td>2138</td>\n",
       "      <td>186</td>\n",
       "      <td>8.699719</td>\n",
       "    </tr>\n",
       "  </tbody>\n",
       "</table>\n",
       "</div>"
      ],
      "text/plain": [
       "debt               0    1  Proportion\n",
       "credit_purpose                       \n",
       "автомобиль      3903  403   10.325391\n",
       "жилье           4152  308    7.418112\n",
       "недвижимость    5877  474    8.065339\n",
       "образование     3643  370   10.156464\n",
       "свадьба         2138  186    8.699719"
      ]
     },
     "execution_count": 313,
     "metadata": {},
     "output_type": "execute_result"
    }
   ],
   "source": [
    "pivot_table = pd.pivot_table(df, values='Not_debt', index=['credit_purpose'], columns=['debt'], aggfunc='count')\n",
    "pivot_table['Proportion'] = 100 * pivot_table[1] / pivot_table[0]\n",
    "pivot_table\n"
   ]
  },
  {
   "cell_type": "code",
   "execution_count": 314,
   "metadata": {},
   "outputs": [
    {
     "data": {
      "text/plain": [
       "credit_purpose\n",
       "автомобиль      403.0\n",
       "жилье           308.0\n",
       "недвижимость    474.0\n",
       "образование     370.0\n",
       "свадьба         186.0\n",
       "Name: debt, dtype: float64"
      ]
     },
     "execution_count": 314,
     "metadata": {},
     "output_type": "execute_result"
    }
   ],
   "source": [
    "#проверим\n",
    "df.groupby('credit_purpose')['debt'].sum()"
   ]
  },
  {
   "cell_type": "markdown",
   "metadata": {},
   "source": [
    "**Вывод**"
   ]
  },
  {
   "cell_type": "markdown",
   "metadata": {},
   "source": [
    "**Разные цели практически не влияют на возврат кредита в срок. Незначительно проседают группы по 'автомобили' и 'образование'**"
   ]
  },
  {
   "cell_type": "markdown",
   "metadata": {},
   "source": [
    "## Шаг 4. Общий вывод"
   ]
  },
  {
   "cell_type": "markdown",
   "metadata": {},
   "source": [
    "- **Краткий обзор проведённой работы**\n",
    "\n",
    "Были оценены и обработаны исходные данные. Удалены дубли строк, восстановлены пропущенные значения. Структурированы цели кредита. \n",
    "\n",
    "Проведен анализ данных.\n",
    "\n",
    "- **Главные выводы:**\n",
    "\n",
    "- зависимость между семейным положением, уровнем дохода, целями кредита и количеством детей в семье - есть, но она незначительна.\n",
    "\n",
    "- в общем, процент невозвратов составляет около 8-10%. А колебания происходят на уровне 2%. \n",
    "\n",
    "\n",
    " - Вопрос: Есть ли зависимость между наличием детей и возвратом кредита в срок?\n",
    " - Ответ: Зависимость есть, но она является слабовыраженной. Среди имеющих детей не возвращают кредит в срок 10.14% заемщиков, а среди неимеющих детей 8% заемщиков.\n",
    " \n",
    " \n",
    " - Вопрос: Есть ли зависимость между семейным положением и возвратом кредита в срок?\n",
    " - Ответ: Яркой зависимость между семейным положением и возвратом кредита в срок нет. Процент должников во всех группах колеблется от 7% до 10%. Наилучшие показатели (минимальная доля должников) у групп 'в разводе' - 7.65% и 'вдовец / вдова' - 7.03%. Не благоприятными на этом фоне выглядит группа 'гражданский брак' - 10.3% и 'не женат / не замужем' - 10.8%. Семейные пары 'женат / замужем' занимают промежуточную позицию - 8.1%. \n",
    " \n",
    " \n",
    " - Вопрос: Как разные цели кредита влияют на его возврат в срок?\n",
    " - Ответ: Были выделены пять основных целей получения кредита. Это условно: 'автомобиль' - сюда вошли покупка и ремонт; 'жилье' - ремонт, покупка; 'недвижимость' - покупка; 'образование' - оплата учебы; 'свадьба' = затраты на проведение свадьбы. Выяснилось, что цель кредита незначительно влияет на возврат кредита в срок. Наихудшие показатели у целей 'автомобиль' - 10.32% и 'образование' - 10.1%. Цель 'жилье' - 7.41%\n",
    " \n",
    " \n",
    "- Вопрос: Есть ли зависимость между уровнем дохода и возвратом кредита в срок?\n",
    "- Ответ: Уровень дохода не влияет на возвращаемость кредита, процент не вернувших кредит составляет в среднем 8%, причем как у лиц с доходом ниже 90 000 руб (сюда включены и те у кого дохода нет вообще) , так и  лиц с высоким доходом (от 200 000.00 руб и выше... до 2 000 000 руб).\n",
    "\n",
    "\n",
    "**Рекомендации**. \n",
    "- При выдаче кредита уделить внимание лицам состоящим в гражданском браке и не женатым(не замужем).\n",
    "\n",
    "**Рекомендации для улучшения ввода данных системы \"Автоматизация хозяйственной деятельности банка\":**\n",
    "- Для бролее качественного прогнозирования, необходимо исключить появление данных с пропущенными данными по уровню дохода. \n",
    "- Структурировать и разработать новый справочник с данными по целям получения кредита. (аналогично данным по образованию). Выделить укрупненно цели получения кредита. \n",
    "- Исключить появления экстремальных данных в полях: стаж, возраст и количество детей. \n",
    "\n",
    "\n",
    "\n",
    "\n",
    "\n"
   ]
  }
 ],
 "metadata": {
  "kernelspec": {
   "display_name": "Python 3",
   "language": "python",
   "name": "python3"
  },
  "language_info": {
   "codemirror_mode": {
    "name": "ipython",
    "version": 3
   },
   "file_extension": ".py",
   "mimetype": "text/x-python",
   "name": "python",
   "nbconvert_exporter": "python",
   "pygments_lexer": "ipython3",
   "version": "3.9.0"
  },
  "toc": {
   "base_numbering": 1,
   "nav_menu": {},
   "number_sections": true,
   "sideBar": true,
   "skip_h1_title": true,
   "title_cell": "Table of Contents",
   "title_sidebar": "Contents",
   "toc_cell": false,
   "toc_position": {},
   "toc_section_display": true,
   "toc_window_display": false
  }
 },
 "nbformat": 4,
 "nbformat_minor": 2
}
