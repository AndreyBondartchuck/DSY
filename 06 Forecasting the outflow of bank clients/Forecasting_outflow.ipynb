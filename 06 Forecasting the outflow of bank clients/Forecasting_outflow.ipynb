{
 "cells": [
  {
   "cell_type": "markdown",
   "metadata": {
    "toc": true
   },
   "source": [
    "<h1>Содержание<span class=\"tocSkip\"></span></h1>\n",
    "<div class=\"toc\"><ul class=\"toc-item\"><li><span><a href=\"#Подготовка-данных\" data-toc-modified-id=\"Подготовка-данных-1\"><span class=\"toc-item-num\">1&nbsp;&nbsp;</span>Подготовка данных</a></span><ul class=\"toc-item\"><li><span><a href=\"#Описание-данных\" data-toc-modified-id=\"Описание-данных-1.1\"><span class=\"toc-item-num\">1.1&nbsp;&nbsp;</span>Описание данных</a></span></li></ul></li><li><span><a href=\"#Исследование-задачи-(EDA)\" data-toc-modified-id=\"Исследование-задачи-(EDA)-2\"><span class=\"toc-item-num\">2&nbsp;&nbsp;</span>Исследование задачи (EDA)</a></span><ul class=\"toc-item\"><li><span><a href=\"#Рассмотрим-датасет-на-наличие-дисбаланса-классов.\" data-toc-modified-id=\"Рассмотрим-датасет-на-наличие-дисбаланса-классов.-2.1\"><span class=\"toc-item-num\">2.1&nbsp;&nbsp;</span>Рассмотрим датасет на наличие дисбаланса классов.</a></span></li><li><span><a href=\"#Рассмотрим-датасет-(исключив-целевой-признак)-на-наличие-мультиколлиенарности.\" data-toc-modified-id=\"Рассмотрим-датасет-(исключив-целевой-признак)-на-наличие-мультиколлиенарности.-2.2\"><span class=\"toc-item-num\">2.2&nbsp;&nbsp;</span>Рассмотрим датасет (исключив целевой признак) на наличие мультиколлиенарности.</a></span></li><li><span><a href=\"#Попробуем-предварительно-вручную-выявить-наиболее-значимые-признаки,-которые-влияют-на-отток-клиетов.\" data-toc-modified-id=\"Попробуем-предварительно-вручную-выявить-наиболее-значимые-признаки,-которые-влияют-на-отток-клиетов.-2.3\"><span class=\"toc-item-num\">2.3&nbsp;&nbsp;</span>Попробуем предварительно вручную выявить наиболее значимые признаки, которые влияют на отток клиетов.</a></span><ul class=\"toc-item\"><li><span><a href=\"#IsActiveMember\" data-toc-modified-id=\"IsActiveMember-2.3.1\"><span class=\"toc-item-num\">2.3.1&nbsp;&nbsp;</span>IsActiveMember</a></span></li><li><span><a href=\"#Gender\" data-toc-modified-id=\"Gender-2.3.2\"><span class=\"toc-item-num\">2.3.2&nbsp;&nbsp;</span>Gender</a></span></li><li><span><a href=\"#Geography\" data-toc-modified-id=\"Geography-2.3.3\"><span class=\"toc-item-num\">2.3.3&nbsp;&nbsp;</span>Geography</a></span></li><li><span><a href=\"#Tenure\" data-toc-modified-id=\"Tenure-2.3.4\"><span class=\"toc-item-num\">2.3.4&nbsp;&nbsp;</span>Tenure</a></span></li><li><span><a href=\"#NumOfProducts\" data-toc-modified-id=\"NumOfProducts-2.3.5\"><span class=\"toc-item-num\">2.3.5&nbsp;&nbsp;</span>NumOfProducts</a></span></li><li><span><a href=\"#HasCrCard\" data-toc-modified-id=\"HasCrCard-2.3.6\"><span class=\"toc-item-num\">2.3.6&nbsp;&nbsp;</span>HasCrCard</a></span></li></ul></li><li><span><a href=\"#Подготовим-категориальные-признаки-по-технологии-One-Hot-Encoding\" data-toc-modified-id=\"Подготовим-категориальные-признаки-по-технологии-One-Hot-Encoding-2.4\"><span class=\"toc-item-num\">2.4&nbsp;&nbsp;</span>Подготовим категориальные признаки по технологии One-Hot Encoding</a></span></li><li><span><a href=\"#Разобьем-данные-на-выборки\" data-toc-modified-id=\"Разобьем-данные-на-выборки-2.5\"><span class=\"toc-item-num\">2.5&nbsp;&nbsp;</span>Разобьем данные на выборки</a></span></li><li><span><a href=\"#Масштабирование-признаков\" data-toc-modified-id=\"Масштабирование-признаков-2.6\"><span class=\"toc-item-num\">2.6&nbsp;&nbsp;</span>Масштабирование признаков</a></span></li><li><span><a href=\"#Изучим-модели-без-учёта-дисбаланса\" data-toc-modified-id=\"Изучим-модели-без-учёта-дисбаланса-2.7\"><span class=\"toc-item-num\">2.7&nbsp;&nbsp;</span>Изучим модели без учёта дисбаланса</a></span></li></ul></li><li><span><a href=\"#Борьба-с-дисбалансом\" data-toc-modified-id=\"Борьба-с-дисбалансом-3\"><span class=\"toc-item-num\">3&nbsp;&nbsp;</span>Борьба с дисбалансом</a></span><ul class=\"toc-item\"><li><span><a href=\"#Метод-увеличения-обучающей-выборки\" data-toc-modified-id=\"Метод-увеличения-обучающей-выборки-3.1\"><span class=\"toc-item-num\">3.1&nbsp;&nbsp;</span>Метод увеличения обучающей выборки</a></span></li><li><span><a href=\"#Метод-уменьшения-обучающей-выборки\" data-toc-modified-id=\"Метод-уменьшения-обучающей-выборки-3.2\"><span class=\"toc-item-num\">3.2&nbsp;&nbsp;</span>Метод уменьшения обучающей выборки</a></span></li><li><span><a href=\"#Тюнинг-модели-RandomForestClassifier\" data-toc-modified-id=\"Тюнинг-модели-RandomForestClassifier-3.3\"><span class=\"toc-item-num\">3.3&nbsp;&nbsp;</span>Тюнинг модели RandomForestClassifier</a></span><ul class=\"toc-item\"><li><span><a href=\"#Важность-признаков-нашей-лучшей-модели\" data-toc-modified-id=\"Важность-признаков-нашей-лучшей-модели-3.3.1\"><span class=\"toc-item-num\">3.3.1&nbsp;&nbsp;</span>Важность признаков нашей лучшей модели</a></span></li></ul></li></ul></li><li><span><a href=\"#Тестирование-модели\" data-toc-modified-id=\"Тестирование-модели-4\"><span class=\"toc-item-num\">4&nbsp;&nbsp;</span>Тестирование модели</a></span></li><li><span><a href=\"#Выводы\" data-toc-modified-id=\"Выводы-5\"><span class=\"toc-item-num\">5&nbsp;&nbsp;</span>Выводы</a></span></li><li><span><a href=\"#Чек-лист-готовности-проекта\" data-toc-modified-id=\"Чек-лист-готовности-проекта-6\"><span class=\"toc-item-num\">6&nbsp;&nbsp;</span>Чек-лист готовности проекта</a></span></li></ul></div>"
   ]
  },
  {
   "cell_type": "markdown",
   "metadata": {},
   "source": [
    "# Отток клиентов"
   ]
  },
  {
   "cell_type": "markdown",
   "metadata": {},
   "source": [
    "Из «Бета-Банка» стали уходить клиенты. Каждый месяц. Немного, но заметно. Банковские маркетологи посчитали: сохранять текущих клиентов дешевле, чем привлекать новых.\n",
    "\n",
    "Нужно спрогнозировать, уйдёт клиент из банка в ближайшее время или нет. Вам предоставлены исторические данные о поведении клиентов и расторжении договоров с банком. \n",
    "\n",
    "Постройте модель с предельно большим значением *F1*-меры. Чтобы сдать проект успешно, нужно довести метрику до 0.59. Проверьте *F1*-меру на тестовой выборке самостоятельно.\n",
    "\n",
    "Дополнительно измеряйте *AUC-ROC*, сравнивайте её значение с *F1*-мерой.\n",
    "\n",
    "Источник данных: [https://www.kaggle.com/barelydedicated/bank-customer-churn-modeling](https://www.kaggle.com/barelydedicated/bank-customer-churn-modeling)"
   ]
  },
  {
   "cell_type": "markdown",
   "metadata": {},
   "source": [
    "## Подготовка данных"
   ]
  },
  {
   "cell_type": "code",
   "execution_count": 2,
   "metadata": {},
   "outputs": [],
   "source": [
    "# подключаем необходимые библиотеки\n",
    "import pandas as pd\n",
    "import numpy as np\n",
    "import matplotlib.pyplot as plt\n",
    "import seaborn as sns\n",
    "\n",
    "from datetime import datetime\n",
    "\n",
    "from sklearn.model_selection import train_test_split\n",
    "from sklearn.utils import shuffle\n",
    "from sklearn.preprocessing import StandardScaler\n",
    "\n",
    "from sklearn.linear_model import LogisticRegression\n",
    "from sklearn.ensemble import RandomForestClassifier\n",
    "\n",
    "from sklearn.metrics import precision_recall_curve\n",
    "from sklearn.metrics import roc_curve \n",
    "from sklearn.metrics import roc_auc_score \n",
    "from sklearn.metrics import f1_score\n",
    "\n",
    "\n",
    "from tqdm import tqdm_notebook"
   ]
  },
  {
   "cell_type": "code",
   "execution_count": 3,
   "metadata": {},
   "outputs": [],
   "source": [
    "local = False\n",
    "if local:\n",
    "    df = pd.read_csv('./datasets/Churn.csv')\n",
    "else:\n",
    "    url = \"https://drive.google.com/file/d/1CZ3cFTvtvXqfg71nWwZjQsSuBY5qsFam/view?usp=sharing\"\n",
    "    path = 'https://drive.google.com/uc?export=download&id='+ url.split('/')[-2]\n",
    "    df = pd.read_csv(path)"
   ]
  },
  {
   "cell_type": "markdown",
   "metadata": {},
   "source": [
    "### Описание данных"
   ]
  },
  {
   "cell_type": "code",
   "execution_count": 4,
   "metadata": {},
   "outputs": [
    {
     "data": {
      "text/html": [
       "<div>\n",
       "<style scoped>\n",
       "    .dataframe tbody tr th:only-of-type {\n",
       "        vertical-align: middle;\n",
       "    }\n",
       "\n",
       "    .dataframe tbody tr th {\n",
       "        vertical-align: top;\n",
       "    }\n",
       "\n",
       "    .dataframe thead th {\n",
       "        text-align: right;\n",
       "    }\n",
       "</style>\n",
       "<table border=\"1\" class=\"dataframe\">\n",
       "  <thead>\n",
       "    <tr style=\"text-align: right;\">\n",
       "      <th></th>\n",
       "      <th>RowNumber</th>\n",
       "      <th>CustomerId</th>\n",
       "      <th>Surname</th>\n",
       "      <th>CreditScore</th>\n",
       "      <th>Geography</th>\n",
       "      <th>Gender</th>\n",
       "      <th>Age</th>\n",
       "      <th>Tenure</th>\n",
       "      <th>Balance</th>\n",
       "      <th>NumOfProducts</th>\n",
       "      <th>HasCrCard</th>\n",
       "      <th>IsActiveMember</th>\n",
       "      <th>EstimatedSalary</th>\n",
       "      <th>Exited</th>\n",
       "    </tr>\n",
       "  </thead>\n",
       "  <tbody>\n",
       "    <tr>\n",
       "      <th>0</th>\n",
       "      <td>1</td>\n",
       "      <td>15634602</td>\n",
       "      <td>Hargrave</td>\n",
       "      <td>619</td>\n",
       "      <td>France</td>\n",
       "      <td>Female</td>\n",
       "      <td>42</td>\n",
       "      <td>2.0</td>\n",
       "      <td>0.00</td>\n",
       "      <td>1</td>\n",
       "      <td>1</td>\n",
       "      <td>1</td>\n",
       "      <td>101348.88</td>\n",
       "      <td>1</td>\n",
       "    </tr>\n",
       "    <tr>\n",
       "      <th>1</th>\n",
       "      <td>2</td>\n",
       "      <td>15647311</td>\n",
       "      <td>Hill</td>\n",
       "      <td>608</td>\n",
       "      <td>Spain</td>\n",
       "      <td>Female</td>\n",
       "      <td>41</td>\n",
       "      <td>1.0</td>\n",
       "      <td>83807.86</td>\n",
       "      <td>1</td>\n",
       "      <td>0</td>\n",
       "      <td>1</td>\n",
       "      <td>112542.58</td>\n",
       "      <td>0</td>\n",
       "    </tr>\n",
       "    <tr>\n",
       "      <th>2</th>\n",
       "      <td>3</td>\n",
       "      <td>15619304</td>\n",
       "      <td>Onio</td>\n",
       "      <td>502</td>\n",
       "      <td>France</td>\n",
       "      <td>Female</td>\n",
       "      <td>42</td>\n",
       "      <td>8.0</td>\n",
       "      <td>159660.80</td>\n",
       "      <td>3</td>\n",
       "      <td>1</td>\n",
       "      <td>0</td>\n",
       "      <td>113931.57</td>\n",
       "      <td>1</td>\n",
       "    </tr>\n",
       "    <tr>\n",
       "      <th>3</th>\n",
       "      <td>4</td>\n",
       "      <td>15701354</td>\n",
       "      <td>Boni</td>\n",
       "      <td>699</td>\n",
       "      <td>France</td>\n",
       "      <td>Female</td>\n",
       "      <td>39</td>\n",
       "      <td>1.0</td>\n",
       "      <td>0.00</td>\n",
       "      <td>2</td>\n",
       "      <td>0</td>\n",
       "      <td>0</td>\n",
       "      <td>93826.63</td>\n",
       "      <td>0</td>\n",
       "    </tr>\n",
       "    <tr>\n",
       "      <th>4</th>\n",
       "      <td>5</td>\n",
       "      <td>15737888</td>\n",
       "      <td>Mitchell</td>\n",
       "      <td>850</td>\n",
       "      <td>Spain</td>\n",
       "      <td>Female</td>\n",
       "      <td>43</td>\n",
       "      <td>2.0</td>\n",
       "      <td>125510.82</td>\n",
       "      <td>1</td>\n",
       "      <td>1</td>\n",
       "      <td>1</td>\n",
       "      <td>79084.10</td>\n",
       "      <td>0</td>\n",
       "    </tr>\n",
       "  </tbody>\n",
       "</table>\n",
       "</div>"
      ],
      "text/plain": [
       "   RowNumber  CustomerId   Surname  CreditScore Geography  Gender  Age  \\\n",
       "0          1    15634602  Hargrave          619    France  Female   42   \n",
       "1          2    15647311      Hill          608     Spain  Female   41   \n",
       "2          3    15619304      Onio          502    France  Female   42   \n",
       "3          4    15701354      Boni          699    France  Female   39   \n",
       "4          5    15737888  Mitchell          850     Spain  Female   43   \n",
       "\n",
       "   Tenure    Balance  NumOfProducts  HasCrCard  IsActiveMember  \\\n",
       "0     2.0       0.00              1          1               1   \n",
       "1     1.0   83807.86              1          0               1   \n",
       "2     8.0  159660.80              3          1               0   \n",
       "3     1.0       0.00              2          0               0   \n",
       "4     2.0  125510.82              1          1               1   \n",
       "\n",
       "   EstimatedSalary  Exited  \n",
       "0        101348.88       1  \n",
       "1        112542.58       0  \n",
       "2        113931.57       1  \n",
       "3         93826.63       0  \n",
       "4         79084.10       0  "
      ]
     },
     "execution_count": 4,
     "metadata": {},
     "output_type": "execute_result"
    }
   ],
   "source": [
    "# смотрим первые 5 записей\n",
    "df.head(5)"
   ]
  },
  {
   "cell_type": "code",
   "execution_count": 413,
   "metadata": {},
   "outputs": [
    {
     "data": {
      "text/html": [
       "<div>\n",
       "<style scoped>\n",
       "    .dataframe tbody tr th:only-of-type {\n",
       "        vertical-align: middle;\n",
       "    }\n",
       "\n",
       "    .dataframe tbody tr th {\n",
       "        vertical-align: top;\n",
       "    }\n",
       "\n",
       "    .dataframe thead th {\n",
       "        text-align: right;\n",
       "    }\n",
       "</style>\n",
       "<table border=\"1\" class=\"dataframe\">\n",
       "  <thead>\n",
       "    <tr style=\"text-align: right;\">\n",
       "      <th></th>\n",
       "      <th>RowNumber</th>\n",
       "      <th>CustomerId</th>\n",
       "      <th>Surname</th>\n",
       "      <th>CreditScore</th>\n",
       "      <th>Geography</th>\n",
       "      <th>Gender</th>\n",
       "      <th>Age</th>\n",
       "      <th>Tenure</th>\n",
       "      <th>Balance</th>\n",
       "      <th>NumOfProducts</th>\n",
       "      <th>HasCrCard</th>\n",
       "      <th>IsActiveMember</th>\n",
       "      <th>EstimatedSalary</th>\n",
       "      <th>Exited</th>\n",
       "    </tr>\n",
       "  </thead>\n",
       "  <tbody>\n",
       "    <tr>\n",
       "      <th>6252</th>\n",
       "      <td>6253</td>\n",
       "      <td>15687492</td>\n",
       "      <td>Anderson</td>\n",
       "      <td>596</td>\n",
       "      <td>Germany</td>\n",
       "      <td>Male</td>\n",
       "      <td>32</td>\n",
       "      <td>3.0</td>\n",
       "      <td>96709.07</td>\n",
       "      <td>2</td>\n",
       "      <td>0</td>\n",
       "      <td>0</td>\n",
       "      <td>41788.37</td>\n",
       "      <td>0</td>\n",
       "    </tr>\n",
       "    <tr>\n",
       "      <th>4684</th>\n",
       "      <td>4685</td>\n",
       "      <td>15736963</td>\n",
       "      <td>Herring</td>\n",
       "      <td>623</td>\n",
       "      <td>France</td>\n",
       "      <td>Male</td>\n",
       "      <td>43</td>\n",
       "      <td>1.0</td>\n",
       "      <td>0.00</td>\n",
       "      <td>2</td>\n",
       "      <td>1</td>\n",
       "      <td>1</td>\n",
       "      <td>146379.30</td>\n",
       "      <td>0</td>\n",
       "    </tr>\n",
       "    <tr>\n",
       "      <th>1731</th>\n",
       "      <td>1732</td>\n",
       "      <td>15721730</td>\n",
       "      <td>Amechi</td>\n",
       "      <td>601</td>\n",
       "      <td>Spain</td>\n",
       "      <td>Female</td>\n",
       "      <td>44</td>\n",
       "      <td>4.0</td>\n",
       "      <td>0.00</td>\n",
       "      <td>2</td>\n",
       "      <td>1</td>\n",
       "      <td>0</td>\n",
       "      <td>58561.31</td>\n",
       "      <td>0</td>\n",
       "    </tr>\n",
       "    <tr>\n",
       "      <th>4742</th>\n",
       "      <td>4743</td>\n",
       "      <td>15762134</td>\n",
       "      <td>Liang</td>\n",
       "      <td>506</td>\n",
       "      <td>Germany</td>\n",
       "      <td>Male</td>\n",
       "      <td>59</td>\n",
       "      <td>8.0</td>\n",
       "      <td>119152.10</td>\n",
       "      <td>2</td>\n",
       "      <td>1</td>\n",
       "      <td>1</td>\n",
       "      <td>170679.74</td>\n",
       "      <td>0</td>\n",
       "    </tr>\n",
       "    <tr>\n",
       "      <th>4521</th>\n",
       "      <td>4522</td>\n",
       "      <td>15648898</td>\n",
       "      <td>Chuang</td>\n",
       "      <td>560</td>\n",
       "      <td>Spain</td>\n",
       "      <td>Female</td>\n",
       "      <td>27</td>\n",
       "      <td>7.0</td>\n",
       "      <td>124995.98</td>\n",
       "      <td>1</td>\n",
       "      <td>1</td>\n",
       "      <td>1</td>\n",
       "      <td>114669.79</td>\n",
       "      <td>0</td>\n",
       "    </tr>\n",
       "    <tr>\n",
       "      <th>6340</th>\n",
       "      <td>6341</td>\n",
       "      <td>15659064</td>\n",
       "      <td>Salas</td>\n",
       "      <td>790</td>\n",
       "      <td>Spain</td>\n",
       "      <td>Male</td>\n",
       "      <td>37</td>\n",
       "      <td>8.0</td>\n",
       "      <td>0.00</td>\n",
       "      <td>2</td>\n",
       "      <td>1</td>\n",
       "      <td>1</td>\n",
       "      <td>149418.41</td>\n",
       "      <td>0</td>\n",
       "    </tr>\n",
       "    <tr>\n",
       "      <th>576</th>\n",
       "      <td>577</td>\n",
       "      <td>15761986</td>\n",
       "      <td>Obialo</td>\n",
       "      <td>439</td>\n",
       "      <td>Spain</td>\n",
       "      <td>Female</td>\n",
       "      <td>32</td>\n",
       "      <td>NaN</td>\n",
       "      <td>138901.61</td>\n",
       "      <td>1</td>\n",
       "      <td>1</td>\n",
       "      <td>0</td>\n",
       "      <td>75685.97</td>\n",
       "      <td>0</td>\n",
       "    </tr>\n",
       "    <tr>\n",
       "      <th>5202</th>\n",
       "      <td>5203</td>\n",
       "      <td>15713354</td>\n",
       "      <td>Morrice</td>\n",
       "      <td>597</td>\n",
       "      <td>Germany</td>\n",
       "      <td>Female</td>\n",
       "      <td>22</td>\n",
       "      <td>6.0</td>\n",
       "      <td>101528.61</td>\n",
       "      <td>1</td>\n",
       "      <td>1</td>\n",
       "      <td>0</td>\n",
       "      <td>70529.00</td>\n",
       "      <td>1</td>\n",
       "    </tr>\n",
       "    <tr>\n",
       "      <th>6363</th>\n",
       "      <td>6364</td>\n",
       "      <td>15593454</td>\n",
       "      <td>Lambert</td>\n",
       "      <td>678</td>\n",
       "      <td>Spain</td>\n",
       "      <td>Female</td>\n",
       "      <td>40</td>\n",
       "      <td>4.0</td>\n",
       "      <td>113794.22</td>\n",
       "      <td>1</td>\n",
       "      <td>1</td>\n",
       "      <td>0</td>\n",
       "      <td>16618.76</td>\n",
       "      <td>0</td>\n",
       "    </tr>\n",
       "    <tr>\n",
       "      <th>439</th>\n",
       "      <td>440</td>\n",
       "      <td>15690134</td>\n",
       "      <td>Hughes</td>\n",
       "      <td>464</td>\n",
       "      <td>Germany</td>\n",
       "      <td>Female</td>\n",
       "      <td>42</td>\n",
       "      <td>3.0</td>\n",
       "      <td>85679.25</td>\n",
       "      <td>1</td>\n",
       "      <td>1</td>\n",
       "      <td>1</td>\n",
       "      <td>164104.74</td>\n",
       "      <td>0</td>\n",
       "    </tr>\n",
       "  </tbody>\n",
       "</table>\n",
       "</div>"
      ],
      "text/plain": [
       "      RowNumber  CustomerId   Surname  CreditScore Geography  Gender  Age  \\\n",
       "6252       6253    15687492  Anderson          596   Germany    Male   32   \n",
       "4684       4685    15736963   Herring          623    France    Male   43   \n",
       "1731       1732    15721730    Amechi          601     Spain  Female   44   \n",
       "4742       4743    15762134     Liang          506   Germany    Male   59   \n",
       "4521       4522    15648898    Chuang          560     Spain  Female   27   \n",
       "6340       6341    15659064     Salas          790     Spain    Male   37   \n",
       "576         577    15761986    Obialo          439     Spain  Female   32   \n",
       "5202       5203    15713354   Morrice          597   Germany  Female   22   \n",
       "6363       6364    15593454   Lambert          678     Spain  Female   40   \n",
       "439         440    15690134    Hughes          464   Germany  Female   42   \n",
       "\n",
       "      Tenure    Balance  NumOfProducts  HasCrCard  IsActiveMember  \\\n",
       "6252     3.0   96709.07              2          0               0   \n",
       "4684     1.0       0.00              2          1               1   \n",
       "1731     4.0       0.00              2          1               0   \n",
       "4742     8.0  119152.10              2          1               1   \n",
       "4521     7.0  124995.98              1          1               1   \n",
       "6340     8.0       0.00              2          1               1   \n",
       "576      NaN  138901.61              1          1               0   \n",
       "5202     6.0  101528.61              1          1               0   \n",
       "6363     4.0  113794.22              1          1               0   \n",
       "439      3.0   85679.25              1          1               1   \n",
       "\n",
       "      EstimatedSalary  Exited  \n",
       "6252         41788.37       0  \n",
       "4684        146379.30       0  \n",
       "1731         58561.31       0  \n",
       "4742        170679.74       0  \n",
       "4521        114669.79       0  \n",
       "6340        149418.41       0  \n",
       "576          75685.97       0  \n",
       "5202         70529.00       1  \n",
       "6363         16618.76       0  \n",
       "439         164104.74       0  "
      ]
     },
     "execution_count": 413,
     "metadata": {},
     "output_type": "execute_result"
    }
   ],
   "source": [
    "# смотрим 10 записей в случайной выборке\n",
    "df.sample(10,random_state=42)"
   ]
  },
  {
   "cell_type": "markdown",
   "metadata": {},
   "source": [
    "**Признаки**\n",
    "- RowNumber — индекс строки в данных\n",
    "- CustomerId — уникальный идентификатор клиента\n",
    "- Surname — фамилия\n",
    "- CreditScore — кредитный рейтинг\n",
    "- Geography — страна проживания\n",
    "- Gender — пол\n",
    "- Age — возраст\n",
    "- Tenure — сколько лет человек является клиентом банка\n",
    "- Balance — баланс на счёте\n",
    "- NumOfProducts — количество продуктов банка, используемых клиентом\n",
    "- HasCrCard — наличие кредитной карты\n",
    "- IsActiveMember — активность клиента\n",
    "- EstimatedSalary — предполагаемая зарплата\n",
    "\n",
    "**Целевой признак**\n",
    "- Exited — факт ухода клиента\n"
   ]
  },
  {
   "cell_type": "code",
   "execution_count": 414,
   "metadata": {},
   "outputs": [
    {
     "name": "stdout",
     "output_type": "stream",
     "text": [
      "<class 'pandas.core.frame.DataFrame'>\n",
      "RangeIndex: 10000 entries, 0 to 9999\n",
      "Data columns (total 14 columns):\n",
      " #   Column           Non-Null Count  Dtype  \n",
      "---  ------           --------------  -----  \n",
      " 0   RowNumber        10000 non-null  int64  \n",
      " 1   CustomerId       10000 non-null  int64  \n",
      " 2   Surname          10000 non-null  object \n",
      " 3   CreditScore      10000 non-null  int64  \n",
      " 4   Geography        10000 non-null  object \n",
      " 5   Gender           10000 non-null  object \n",
      " 6   Age              10000 non-null  int64  \n",
      " 7   Tenure           9091 non-null   float64\n",
      " 8   Balance          10000 non-null  float64\n",
      " 9   NumOfProducts    10000 non-null  int64  \n",
      " 10  HasCrCard        10000 non-null  int64  \n",
      " 11  IsActiveMember   10000 non-null  int64  \n",
      " 12  EstimatedSalary  10000 non-null  float64\n",
      " 13  Exited           10000 non-null  int64  \n",
      "dtypes: float64(3), int64(8), object(3)\n",
      "memory usage: 1.1+ MB\n"
     ]
    }
   ],
   "source": [
    "# общая информация о датасет\n",
    "df.info()"
   ]
  },
  {
   "cell_type": "code",
   "execution_count": 415,
   "metadata": {},
   "outputs": [
    {
     "data": {
      "text/html": [
       "<div>\n",
       "<style scoped>\n",
       "    .dataframe tbody tr th:only-of-type {\n",
       "        vertical-align: middle;\n",
       "    }\n",
       "\n",
       "    .dataframe tbody tr th {\n",
       "        vertical-align: top;\n",
       "    }\n",
       "\n",
       "    .dataframe thead th {\n",
       "        text-align: right;\n",
       "    }\n",
       "</style>\n",
       "<table border=\"1\" class=\"dataframe\">\n",
       "  <thead>\n",
       "    <tr style=\"text-align: right;\">\n",
       "      <th></th>\n",
       "      <th>count</th>\n",
       "      <th>mean</th>\n",
       "      <th>std</th>\n",
       "      <th>min</th>\n",
       "      <th>25%</th>\n",
       "      <th>50%</th>\n",
       "      <th>75%</th>\n",
       "      <th>max</th>\n",
       "    </tr>\n",
       "  </thead>\n",
       "  <tbody>\n",
       "    <tr>\n",
       "      <th>RowNumber</th>\n",
       "      <td>10000.0</td>\n",
       "      <td>5.000500e+03</td>\n",
       "      <td>2886.895680</td>\n",
       "      <td>1.00</td>\n",
       "      <td>2500.75</td>\n",
       "      <td>5.000500e+03</td>\n",
       "      <td>7.500250e+03</td>\n",
       "      <td>10000.00</td>\n",
       "    </tr>\n",
       "    <tr>\n",
       "      <th>CustomerId</th>\n",
       "      <td>10000.0</td>\n",
       "      <td>1.569094e+07</td>\n",
       "      <td>71936.186123</td>\n",
       "      <td>15565701.00</td>\n",
       "      <td>15628528.25</td>\n",
       "      <td>1.569074e+07</td>\n",
       "      <td>1.575323e+07</td>\n",
       "      <td>15815690.00</td>\n",
       "    </tr>\n",
       "    <tr>\n",
       "      <th>CreditScore</th>\n",
       "      <td>10000.0</td>\n",
       "      <td>6.505288e+02</td>\n",
       "      <td>96.653299</td>\n",
       "      <td>350.00</td>\n",
       "      <td>584.00</td>\n",
       "      <td>6.520000e+02</td>\n",
       "      <td>7.180000e+02</td>\n",
       "      <td>850.00</td>\n",
       "    </tr>\n",
       "    <tr>\n",
       "      <th>Age</th>\n",
       "      <td>10000.0</td>\n",
       "      <td>3.892180e+01</td>\n",
       "      <td>10.487806</td>\n",
       "      <td>18.00</td>\n",
       "      <td>32.00</td>\n",
       "      <td>3.700000e+01</td>\n",
       "      <td>4.400000e+01</td>\n",
       "      <td>92.00</td>\n",
       "    </tr>\n",
       "    <tr>\n",
       "      <th>Tenure</th>\n",
       "      <td>9091.0</td>\n",
       "      <td>4.997690e+00</td>\n",
       "      <td>2.894723</td>\n",
       "      <td>0.00</td>\n",
       "      <td>2.00</td>\n",
       "      <td>5.000000e+00</td>\n",
       "      <td>7.000000e+00</td>\n",
       "      <td>10.00</td>\n",
       "    </tr>\n",
       "    <tr>\n",
       "      <th>Balance</th>\n",
       "      <td>10000.0</td>\n",
       "      <td>7.648589e+04</td>\n",
       "      <td>62397.405202</td>\n",
       "      <td>0.00</td>\n",
       "      <td>0.00</td>\n",
       "      <td>9.719854e+04</td>\n",
       "      <td>1.276442e+05</td>\n",
       "      <td>250898.09</td>\n",
       "    </tr>\n",
       "    <tr>\n",
       "      <th>NumOfProducts</th>\n",
       "      <td>10000.0</td>\n",
       "      <td>1.530200e+00</td>\n",
       "      <td>0.581654</td>\n",
       "      <td>1.00</td>\n",
       "      <td>1.00</td>\n",
       "      <td>1.000000e+00</td>\n",
       "      <td>2.000000e+00</td>\n",
       "      <td>4.00</td>\n",
       "    </tr>\n",
       "    <tr>\n",
       "      <th>HasCrCard</th>\n",
       "      <td>10000.0</td>\n",
       "      <td>7.055000e-01</td>\n",
       "      <td>0.455840</td>\n",
       "      <td>0.00</td>\n",
       "      <td>0.00</td>\n",
       "      <td>1.000000e+00</td>\n",
       "      <td>1.000000e+00</td>\n",
       "      <td>1.00</td>\n",
       "    </tr>\n",
       "    <tr>\n",
       "      <th>IsActiveMember</th>\n",
       "      <td>10000.0</td>\n",
       "      <td>5.151000e-01</td>\n",
       "      <td>0.499797</td>\n",
       "      <td>0.00</td>\n",
       "      <td>0.00</td>\n",
       "      <td>1.000000e+00</td>\n",
       "      <td>1.000000e+00</td>\n",
       "      <td>1.00</td>\n",
       "    </tr>\n",
       "    <tr>\n",
       "      <th>EstimatedSalary</th>\n",
       "      <td>10000.0</td>\n",
       "      <td>1.000902e+05</td>\n",
       "      <td>57510.492818</td>\n",
       "      <td>11.58</td>\n",
       "      <td>51002.11</td>\n",
       "      <td>1.001939e+05</td>\n",
       "      <td>1.493882e+05</td>\n",
       "      <td>199992.48</td>\n",
       "    </tr>\n",
       "    <tr>\n",
       "      <th>Exited</th>\n",
       "      <td>10000.0</td>\n",
       "      <td>2.037000e-01</td>\n",
       "      <td>0.402769</td>\n",
       "      <td>0.00</td>\n",
       "      <td>0.00</td>\n",
       "      <td>0.000000e+00</td>\n",
       "      <td>0.000000e+00</td>\n",
       "      <td>1.00</td>\n",
       "    </tr>\n",
       "  </tbody>\n",
       "</table>\n",
       "</div>"
      ],
      "text/plain": [
       "                   count          mean           std          min  \\\n",
       "RowNumber        10000.0  5.000500e+03   2886.895680         1.00   \n",
       "CustomerId       10000.0  1.569094e+07  71936.186123  15565701.00   \n",
       "CreditScore      10000.0  6.505288e+02     96.653299       350.00   \n",
       "Age              10000.0  3.892180e+01     10.487806        18.00   \n",
       "Tenure            9091.0  4.997690e+00      2.894723         0.00   \n",
       "Balance          10000.0  7.648589e+04  62397.405202         0.00   \n",
       "NumOfProducts    10000.0  1.530200e+00      0.581654         1.00   \n",
       "HasCrCard        10000.0  7.055000e-01      0.455840         0.00   \n",
       "IsActiveMember   10000.0  5.151000e-01      0.499797         0.00   \n",
       "EstimatedSalary  10000.0  1.000902e+05  57510.492818        11.58   \n",
       "Exited           10000.0  2.037000e-01      0.402769         0.00   \n",
       "\n",
       "                         25%           50%           75%          max  \n",
       "RowNumber            2500.75  5.000500e+03  7.500250e+03     10000.00  \n",
       "CustomerId       15628528.25  1.569074e+07  1.575323e+07  15815690.00  \n",
       "CreditScore           584.00  6.520000e+02  7.180000e+02       850.00  \n",
       "Age                    32.00  3.700000e+01  4.400000e+01        92.00  \n",
       "Tenure                  2.00  5.000000e+00  7.000000e+00        10.00  \n",
       "Balance                 0.00  9.719854e+04  1.276442e+05    250898.09  \n",
       "NumOfProducts           1.00  1.000000e+00  2.000000e+00         4.00  \n",
       "HasCrCard               0.00  1.000000e+00  1.000000e+00         1.00  \n",
       "IsActiveMember          0.00  1.000000e+00  1.000000e+00         1.00  \n",
       "EstimatedSalary     51002.11  1.001939e+05  1.493882e+05    199992.48  \n",
       "Exited                  0.00  0.000000e+00  0.000000e+00         1.00  "
      ]
     },
     "execution_count": 415,
     "metadata": {},
     "output_type": "execute_result"
    }
   ],
   "source": [
    "df.describe().T"
   ]
  },
  {
   "cell_type": "markdown",
   "metadata": {},
   "source": [
    "Большой разброс в признаках EstimatedSalary и Balanc. Необходимо масштабирование."
   ]
  },
  {
   "cell_type": "markdown",
   "metadata": {},
   "source": [
    "Посмотрим на категориальные переменные"
   ]
  },
  {
   "cell_type": "code",
   "execution_count": 416,
   "metadata": {},
   "outputs": [
    {
     "data": {
      "text/plain": [
       "Male      5457\n",
       "Female    4543\n",
       "Name: Gender, dtype: int64"
      ]
     },
     "execution_count": 416,
     "metadata": {},
     "output_type": "execute_result"
    }
   ],
   "source": [
    "# пол\n",
    "df['Gender'].value_counts()"
   ]
  },
  {
   "cell_type": "markdown",
   "metadata": {},
   "source": [
    "Вывод: с признаком 'Gender' все в порядке"
   ]
  },
  {
   "cell_type": "code",
   "execution_count": 417,
   "metadata": {
    "scrolled": true
   },
   "outputs": [
    {
     "data": {
      "text/plain": [
       "France     5014\n",
       "Germany    2509\n",
       "Spain      2477\n",
       "Name: Geography, dtype: int64"
      ]
     },
     "execution_count": 417,
     "metadata": {},
     "output_type": "execute_result"
    }
   ],
   "source": [
    "# Георграфия\n",
    "df['Geography'].value_counts()"
   ]
  },
  {
   "cell_type": "markdown",
   "metadata": {},
   "source": [
    "Вывод: с признаком 'Geography' все в порядке"
   ]
  },
  {
   "cell_type": "code",
   "execution_count": 418,
   "metadata": {},
   "outputs": [
    {
     "data": {
      "text/plain": [
       "RowNumber            0\n",
       "CustomerId           0\n",
       "Surname              0\n",
       "CreditScore          0\n",
       "Geography            0\n",
       "Gender               0\n",
       "Age                  0\n",
       "Tenure             909\n",
       "Balance              0\n",
       "NumOfProducts        0\n",
       "HasCrCard            0\n",
       "IsActiveMember       0\n",
       "EstimatedSalary      0\n",
       "Exited               0\n",
       "dtype: int64"
      ]
     },
     "execution_count": 418,
     "metadata": {},
     "output_type": "execute_result"
    }
   ],
   "source": [
    "# изучим пропуски\n",
    "df.isnull().sum()"
   ]
  },
  {
   "cell_type": "code",
   "execution_count": 419,
   "metadata": {
    "scrolled": true
   },
   "outputs": [
    {
     "data": {
      "text/plain": [
       "1.0     952\n",
       "2.0     950\n",
       "8.0     933\n",
       "3.0     928\n",
       "5.0     927\n",
       "7.0     925\n",
       "4.0     885\n",
       "9.0     882\n",
       "6.0     881\n",
       "10.0    446\n",
       "0.0     382\n",
       "Name: Tenure, dtype: int64"
      ]
     },
     "execution_count": 419,
     "metadata": {},
     "output_type": "execute_result"
    }
   ],
   "source": [
    "df['Tenure'].value_counts()"
   ]
  },
  {
   "cell_type": "markdown",
   "metadata": {},
   "source": [
    "В признаке 'Tenure' имеем 909 пропусков, что составляет 909/10000 -> 9% от всего датасет. "
   ]
  },
  {
   "cell_type": "markdown",
   "metadata": {},
   "source": [
    "Рассмотрим распределение пропусков по целевому признаку. Разобьем данные на два датасет по первому и нулевому классу."
   ]
  },
  {
   "cell_type": "code",
   "execution_count": 420,
   "metadata": {},
   "outputs": [],
   "source": [
    "# первый класс\n",
    "df_class_1 = df.query('Exited == 1')\n",
    "\n",
    "# нулевой класс\n",
    "df_class_0 = df.query('Exited == 0')"
   ]
  },
  {
   "cell_type": "code",
   "execution_count": 421,
   "metadata": {},
   "outputs": [
    {
     "data": {
      "text/html": [
       "<div>\n",
       "<style scoped>\n",
       "    .dataframe tbody tr th:only-of-type {\n",
       "        vertical-align: middle;\n",
       "    }\n",
       "\n",
       "    .dataframe tbody tr th {\n",
       "        vertical-align: top;\n",
       "    }\n",
       "\n",
       "    .dataframe thead th {\n",
       "        text-align: right;\n",
       "    }\n",
       "</style>\n",
       "<table border=\"1\" class=\"dataframe\">\n",
       "  <thead>\n",
       "    <tr style=\"text-align: right;\">\n",
       "      <th></th>\n",
       "      <th>RowNumber</th>\n",
       "      <th>CustomerId</th>\n",
       "      <th>Surname</th>\n",
       "      <th>CreditScore</th>\n",
       "      <th>Geography</th>\n",
       "      <th>Gender</th>\n",
       "      <th>Age</th>\n",
       "      <th>Tenure</th>\n",
       "      <th>Balance</th>\n",
       "      <th>NumOfProducts</th>\n",
       "      <th>HasCrCard</th>\n",
       "      <th>IsActiveMember</th>\n",
       "      <th>EstimatedSalary</th>\n",
       "      <th>Exited</th>\n",
       "    </tr>\n",
       "  </thead>\n",
       "  <tbody>\n",
       "    <tr>\n",
       "      <th>30</th>\n",
       "      <td>31</td>\n",
       "      <td>15589475</td>\n",
       "      <td>Azikiwe</td>\n",
       "      <td>591</td>\n",
       "      <td>Spain</td>\n",
       "      <td>Female</td>\n",
       "      <td>39</td>\n",
       "      <td>NaN</td>\n",
       "      <td>0.00</td>\n",
       "      <td>3</td>\n",
       "      <td>1</td>\n",
       "      <td>0</td>\n",
       "      <td>140469.38</td>\n",
       "      <td>1</td>\n",
       "    </tr>\n",
       "    <tr>\n",
       "      <th>53</th>\n",
       "      <td>54</td>\n",
       "      <td>15702298</td>\n",
       "      <td>Parkhill</td>\n",
       "      <td>655</td>\n",
       "      <td>Germany</td>\n",
       "      <td>Male</td>\n",
       "      <td>41</td>\n",
       "      <td>NaN</td>\n",
       "      <td>125561.97</td>\n",
       "      <td>1</td>\n",
       "      <td>0</td>\n",
       "      <td>0</td>\n",
       "      <td>164040.94</td>\n",
       "      <td>1</td>\n",
       "    </tr>\n",
       "  </tbody>\n",
       "</table>\n",
       "</div>"
      ],
      "text/plain": [
       "    RowNumber  CustomerId   Surname  CreditScore Geography  Gender  Age  \\\n",
       "30         31    15589475   Azikiwe          591     Spain  Female   39   \n",
       "53         54    15702298  Parkhill          655   Germany    Male   41   \n",
       "\n",
       "    Tenure    Balance  NumOfProducts  HasCrCard  IsActiveMember  \\\n",
       "30     NaN       0.00              3          1               0   \n",
       "53     NaN  125561.97              1          0               0   \n",
       "\n",
       "    EstimatedSalary  Exited  \n",
       "30        140469.38       1  \n",
       "53        164040.94       1  "
      ]
     },
     "execution_count": 421,
     "metadata": {},
     "output_type": "execute_result"
    }
   ],
   "source": [
    "# посмотрим\n",
    "df_class_1[df_class_1['Tenure'].isna()].head(2)"
   ]
  },
  {
   "cell_type": "code",
   "execution_count": 422,
   "metadata": {},
   "outputs": [
    {
     "name": "stdout",
     "output_type": "stream",
     "text": [
      "Процент пропусков по целевому признаку Tenure в первом классе = 8.98%\n"
     ]
    }
   ],
   "source": [
    "print('Процент пропусков по целевому признаку \\\n",
    "Tenure в первом классе = {:.2%}'.format(len(df_class_1[df_class_1['Tenure'].isna()]) / len(df_class_1)))"
   ]
  },
  {
   "cell_type": "code",
   "execution_count": 423,
   "metadata": {},
   "outputs": [
    {
     "name": "stdout",
     "output_type": "stream",
     "text": [
      "Процент пропусков по целевому признаку Tenure в нулевом классе = 9.12%\n"
     ]
    }
   ],
   "source": [
    "print('Процент пропусков по целевому признаку \\\n",
    "Tenure в нулевом классе = {:.2%}'.format(len(df_class_0[df_class_0['Tenure'].isna()]) / len(df_class_0)))"
   ]
  },
  {
   "cell_type": "markdown",
   "metadata": {},
   "source": [
    "Вывод: Пропуски распределены равномерно по обоим классам. Предположив, дополнительно, что пропуски распределены равномерно и по годам, выбросим 9% процентов строк с NA."
   ]
  },
  {
   "cell_type": "code",
   "execution_count": 424,
   "metadata": {},
   "outputs": [],
   "source": [
    "# удаляем пропуски\n",
    "df = df.dropna()"
   ]
  },
  {
   "cell_type": "code",
   "execution_count": 425,
   "metadata": {},
   "outputs": [
    {
     "name": "stdout",
     "output_type": "stream",
     "text": [
      "<class 'pandas.core.frame.DataFrame'>\n",
      "Int64Index: 9091 entries, 0 to 9998\n",
      "Data columns (total 14 columns):\n",
      " #   Column           Non-Null Count  Dtype  \n",
      "---  ------           --------------  -----  \n",
      " 0   RowNumber        9091 non-null   int64  \n",
      " 1   CustomerId       9091 non-null   int64  \n",
      " 2   Surname          9091 non-null   object \n",
      " 3   CreditScore      9091 non-null   int64  \n",
      " 4   Geography        9091 non-null   object \n",
      " 5   Gender           9091 non-null   object \n",
      " 6   Age              9091 non-null   int64  \n",
      " 7   Tenure           9091 non-null   float64\n",
      " 8   Balance          9091 non-null   float64\n",
      " 9   NumOfProducts    9091 non-null   int64  \n",
      " 10  HasCrCard        9091 non-null   int64  \n",
      " 11  IsActiveMember   9091 non-null   int64  \n",
      " 12  EstimatedSalary  9091 non-null   float64\n",
      " 13  Exited           9091 non-null   int64  \n",
      "dtypes: float64(3), int64(8), object(3)\n",
      "memory usage: 1.0+ MB\n"
     ]
    }
   ],
   "source": [
    "df.info()"
   ]
  },
  {
   "cell_type": "markdown",
   "metadata": {},
   "source": [
    "Признаки:\n",
    "- RowNumber — индекс строки в данных\n",
    "- CustomerId — уникальный идентификатор клиента\n",
    "- Surname — фамилия\n",
    "\n",
    "Не представляют интереса для обучения модели. Избавимся от этих признаков."
   ]
  },
  {
   "cell_type": "code",
   "execution_count": 426,
   "metadata": {},
   "outputs": [],
   "source": [
    "try:\n",
    "    df.drop(['RowNumber', 'CustomerId', 'Surname'], axis=1, inplace=True)\n",
    "except:\n",
    "    pass    "
   ]
  },
  {
   "cell_type": "code",
   "execution_count": 427,
   "metadata": {
    "scrolled": true
   },
   "outputs": [
    {
     "data": {
      "text/html": [
       "<div>\n",
       "<style scoped>\n",
       "    .dataframe tbody tr th:only-of-type {\n",
       "        vertical-align: middle;\n",
       "    }\n",
       "\n",
       "    .dataframe tbody tr th {\n",
       "        vertical-align: top;\n",
       "    }\n",
       "\n",
       "    .dataframe thead th {\n",
       "        text-align: right;\n",
       "    }\n",
       "</style>\n",
       "<table border=\"1\" class=\"dataframe\">\n",
       "  <thead>\n",
       "    <tr style=\"text-align: right;\">\n",
       "      <th></th>\n",
       "      <th>CreditScore</th>\n",
       "      <th>Geography</th>\n",
       "      <th>Gender</th>\n",
       "      <th>Age</th>\n",
       "      <th>Tenure</th>\n",
       "      <th>Balance</th>\n",
       "      <th>NumOfProducts</th>\n",
       "      <th>HasCrCard</th>\n",
       "      <th>IsActiveMember</th>\n",
       "      <th>EstimatedSalary</th>\n",
       "      <th>Exited</th>\n",
       "    </tr>\n",
       "  </thead>\n",
       "  <tbody>\n",
       "    <tr>\n",
       "      <th>0</th>\n",
       "      <td>619</td>\n",
       "      <td>France</td>\n",
       "      <td>Female</td>\n",
       "      <td>42</td>\n",
       "      <td>2.0</td>\n",
       "      <td>0.00</td>\n",
       "      <td>1</td>\n",
       "      <td>1</td>\n",
       "      <td>1</td>\n",
       "      <td>101348.88</td>\n",
       "      <td>1</td>\n",
       "    </tr>\n",
       "    <tr>\n",
       "      <th>1</th>\n",
       "      <td>608</td>\n",
       "      <td>Spain</td>\n",
       "      <td>Female</td>\n",
       "      <td>41</td>\n",
       "      <td>1.0</td>\n",
       "      <td>83807.86</td>\n",
       "      <td>1</td>\n",
       "      <td>0</td>\n",
       "      <td>1</td>\n",
       "      <td>112542.58</td>\n",
       "      <td>0</td>\n",
       "    </tr>\n",
       "  </tbody>\n",
       "</table>\n",
       "</div>"
      ],
      "text/plain": [
       "   CreditScore Geography  Gender  Age  Tenure   Balance  NumOfProducts  \\\n",
       "0          619    France  Female   42     2.0      0.00              1   \n",
       "1          608     Spain  Female   41     1.0  83807.86              1   \n",
       "\n",
       "   HasCrCard  IsActiveMember  EstimatedSalary  Exited  \n",
       "0          1               1        101348.88       1  \n",
       "1          0               1        112542.58       0  "
      ]
     },
     "execution_count": 427,
     "metadata": {},
     "output_type": "execute_result"
    }
   ],
   "source": [
    "df.head(2)"
   ]
  },
  {
   "cell_type": "markdown",
   "metadata": {},
   "source": [
    "## Исследование задачи (EDA)"
   ]
  },
  {
   "cell_type": "markdown",
   "metadata": {},
   "source": [
    "### Рассмотрим датасет на наличие дисбаланса классов."
   ]
  },
  {
   "cell_type": "code",
   "execution_count": 428,
   "metadata": {},
   "outputs": [
    {
     "data": {
      "text/plain": [
       "''"
      ]
     },
     "execution_count": 428,
     "metadata": {},
     "output_type": "execute_result"
    },
    {
     "data": {
      "image/png": "[encoded data removed]",
      "text/plain": [
       "<Figure size 432x288 with 1 Axes>"
      ]
     },
     "metadata": {},
     "output_type": "display_data"
    }
   ],
   "source": [
    "class_frequency = df['Exited'].value_counts(normalize=True)\n",
    "class_frequency.plot(kind='bar')\n",
    "plt.xlabel('Целевой признак - Exited',fontsize=15, weight = 'bold')\n",
    "plt.ylabel('Относительная частота',fontsize=15, weight = 'bold')\n",
    "plt.title(\"Дисбаланс классов\",fontsize=15, weight = 'bold')\n",
    ";"
   ]
  },
  {
   "cell_type": "code",
   "execution_count": 429,
   "metadata": {},
   "outputs": [
    {
     "name": "stdout",
     "output_type": "stream",
     "text": [
      "0    0.796062\n",
      "1    0.203938\n",
      "Name: Exited, dtype: float64\n"
     ]
    }
   ],
   "source": [
    "print(class_frequency)"
   ]
  },
  {
   "cell_type": "markdown",
   "metadata": {},
   "source": [
    "**Вывод: Мы имеем явно выраженный дисбаланс классов в отношении 0 класса к 1 классу, как 4:1.**"
   ]
  },
  {
   "cell_type": "markdown",
   "metadata": {},
   "source": [
    "### Рассмотрим датасет (исключив целевой признак) на наличие мультиколлиенарности."
   ]
  },
  {
   "cell_type": "code",
   "execution_count": 430,
   "metadata": {},
   "outputs": [
    {
     "data": {
      "text/html": [
       "<div>\n",
       "<style scoped>\n",
       "    .dataframe tbody tr th:only-of-type {\n",
       "        vertical-align: middle;\n",
       "    }\n",
       "\n",
       "    .dataframe tbody tr th {\n",
       "        vertical-align: top;\n",
       "    }\n",
       "\n",
       "    .dataframe thead th {\n",
       "        text-align: right;\n",
       "    }\n",
       "</style>\n",
       "<table border=\"1\" class=\"dataframe\">\n",
       "  <thead>\n",
       "    <tr style=\"text-align: right;\">\n",
       "      <th></th>\n",
       "      <th>CreditScore</th>\n",
       "      <th>Age</th>\n",
       "      <th>Tenure</th>\n",
       "      <th>Balance</th>\n",
       "      <th>NumOfProducts</th>\n",
       "      <th>HasCrCard</th>\n",
       "      <th>IsActiveMember</th>\n",
       "      <th>EstimatedSalary</th>\n",
       "    </tr>\n",
       "  </thead>\n",
       "  <tbody>\n",
       "    <tr>\n",
       "      <th>CreditScore</th>\n",
       "      <td>1.000000</td>\n",
       "      <td>-0.004504</td>\n",
       "      <td>-0.000062</td>\n",
       "      <td>0.002804</td>\n",
       "      <td>0.011090</td>\n",
       "      <td>-0.003937</td>\n",
       "      <td>0.030947</td>\n",
       "      <td>0.005182</td>\n",
       "    </tr>\n",
       "    <tr>\n",
       "      <th>Age</th>\n",
       "      <td>-0.004504</td>\n",
       "      <td>1.000000</td>\n",
       "      <td>-0.013134</td>\n",
       "      <td>0.031481</td>\n",
       "      <td>-0.031877</td>\n",
       "      <td>-0.014129</td>\n",
       "      <td>0.082269</td>\n",
       "      <td>-0.007037</td>\n",
       "    </tr>\n",
       "    <tr>\n",
       "      <th>Tenure</th>\n",
       "      <td>-0.000062</td>\n",
       "      <td>-0.013134</td>\n",
       "      <td>1.000000</td>\n",
       "      <td>-0.007911</td>\n",
       "      <td>0.011979</td>\n",
       "      <td>0.027232</td>\n",
       "      <td>-0.032178</td>\n",
       "      <td>0.010520</td>\n",
       "    </tr>\n",
       "    <tr>\n",
       "      <th>Balance</th>\n",
       "      <td>0.002804</td>\n",
       "      <td>0.031481</td>\n",
       "      <td>-0.007911</td>\n",
       "      <td>1.000000</td>\n",
       "      <td>-0.301858</td>\n",
       "      <td>-0.019055</td>\n",
       "      <td>-0.003285</td>\n",
       "      <td>0.014351</td>\n",
       "    </tr>\n",
       "    <tr>\n",
       "      <th>NumOfProducts</th>\n",
       "      <td>0.011090</td>\n",
       "      <td>-0.031877</td>\n",
       "      <td>0.011979</td>\n",
       "      <td>-0.301858</td>\n",
       "      <td>1.000000</td>\n",
       "      <td>0.005805</td>\n",
       "      <td>0.009084</td>\n",
       "      <td>0.013990</td>\n",
       "    </tr>\n",
       "    <tr>\n",
       "      <th>HasCrCard</th>\n",
       "      <td>-0.003937</td>\n",
       "      <td>-0.014129</td>\n",
       "      <td>0.027232</td>\n",
       "      <td>-0.019055</td>\n",
       "      <td>0.005805</td>\n",
       "      <td>1.000000</td>\n",
       "      <td>-0.008810</td>\n",
       "      <td>-0.006136</td>\n",
       "    </tr>\n",
       "    <tr>\n",
       "      <th>IsActiveMember</th>\n",
       "      <td>0.030947</td>\n",
       "      <td>0.082269</td>\n",
       "      <td>-0.032178</td>\n",
       "      <td>-0.003285</td>\n",
       "      <td>0.009084</td>\n",
       "      <td>-0.008810</td>\n",
       "      <td>1.000000</td>\n",
       "      <td>-0.020049</td>\n",
       "    </tr>\n",
       "    <tr>\n",
       "      <th>EstimatedSalary</th>\n",
       "      <td>0.005182</td>\n",
       "      <td>-0.007037</td>\n",
       "      <td>0.010520</td>\n",
       "      <td>0.014351</td>\n",
       "      <td>0.013990</td>\n",
       "      <td>-0.006136</td>\n",
       "      <td>-0.020049</td>\n",
       "      <td>1.000000</td>\n",
       "    </tr>\n",
       "  </tbody>\n",
       "</table>\n",
       "</div>"
      ],
      "text/plain": [
       "                 CreditScore       Age    Tenure   Balance  NumOfProducts  \\\n",
       "CreditScore         1.000000 -0.004504 -0.000062  0.002804       0.011090   \n",
       "Age                -0.004504  1.000000 -0.013134  0.031481      -0.031877   \n",
       "Tenure             -0.000062 -0.013134  1.000000 -0.007911       0.011979   \n",
       "Balance             0.002804  0.031481 -0.007911  1.000000      -0.301858   \n",
       "NumOfProducts       0.011090 -0.031877  0.011979 -0.301858       1.000000   \n",
       "HasCrCard          -0.003937 -0.014129  0.027232 -0.019055       0.005805   \n",
       "IsActiveMember      0.030947  0.082269 -0.032178 -0.003285       0.009084   \n",
       "EstimatedSalary     0.005182 -0.007037  0.010520  0.014351       0.013990   \n",
       "\n",
       "                 HasCrCard  IsActiveMember  EstimatedSalary  \n",
       "CreditScore      -0.003937        0.030947         0.005182  \n",
       "Age              -0.014129        0.082269        -0.007037  \n",
       "Tenure            0.027232       -0.032178         0.010520  \n",
       "Balance          -0.019055       -0.003285         0.014351  \n",
       "NumOfProducts     0.005805        0.009084         0.013990  \n",
       "HasCrCard         1.000000       -0.008810        -0.006136  \n",
       "IsActiveMember   -0.008810        1.000000        -0.020049  \n",
       "EstimatedSalary  -0.006136       -0.020049         1.000000  "
      ]
     },
     "execution_count": 430,
     "metadata": {},
     "output_type": "execute_result"
    }
   ],
   "source": [
    "df_corr = df.drop(['Exited'], axis=1).corr()\n",
    "df_corr"
   ]
  },
  {
   "cell_type": "code",
   "execution_count": 431,
   "metadata": {},
   "outputs": [
    {
     "data": {
      "image/png": "[encoded data removed]",
      "text/plain": [
       "<Figure size 432x288 with 2 Axes>"
      ]
     },
     "metadata": {},
     "output_type": "display_data"
    }
   ],
   "source": [
    "sns.heatmap(df_corr);\n",
    "plt.title(\"Корреляция признаков\", fontsize=25, weight = 'bold');"
   ]
  },
  {
   "cell_type": "markdown",
   "metadata": {},
   "source": [
    "**Вывод: Оставшиеся признаки не мультиколлиенарны. Лишних признаков - нет.**"
   ]
  },
  {
   "cell_type": "markdown",
   "metadata": {},
   "source": [
    "### Попробуем предварительно вручную выявить наиболее значимые признаки, которые влияют на отток клиетов."
   ]
  },
  {
   "cell_type": "markdown",
   "metadata": {},
   "source": [
    "#### IsActiveMember"
   ]
  },
  {
   "cell_type": "code",
   "execution_count": 432,
   "metadata": {},
   "outputs": [
    {
     "data": {
      "text/html": [
       "<div>\n",
       "<style scoped>\n",
       "    .dataframe tbody tr th:only-of-type {\n",
       "        vertical-align: middle;\n",
       "    }\n",
       "\n",
       "    .dataframe tbody tr th {\n",
       "        vertical-align: top;\n",
       "    }\n",
       "\n",
       "    .dataframe thead th {\n",
       "        text-align: right;\n",
       "    }\n",
       "</style>\n",
       "<table border=\"1\" class=\"dataframe\">\n",
       "  <thead>\n",
       "    <tr style=\"text-align: right;\">\n",
       "      <th></th>\n",
       "      <th>count</th>\n",
       "      <th>mean</th>\n",
       "    </tr>\n",
       "    <tr>\n",
       "      <th>IsActiveMember</th>\n",
       "      <th></th>\n",
       "      <th></th>\n",
       "    </tr>\n",
       "  </thead>\n",
       "  <tbody>\n",
       "    <tr>\n",
       "      <th>0</th>\n",
       "      <td>4404</td>\n",
       "      <td>0.268392</td>\n",
       "    </tr>\n",
       "    <tr>\n",
       "      <th>1</th>\n",
       "      <td>4687</td>\n",
       "      <td>0.143375</td>\n",
       "    </tr>\n",
       "  </tbody>\n",
       "</table>\n",
       "</div>"
      ],
      "text/plain": [
       "                count      mean\n",
       "IsActiveMember                 \n",
       "0                4404  0.268392\n",
       "1                4687  0.143375"
      ]
     },
     "execution_count": 432,
     "metadata": {},
     "output_type": "execute_result"
    }
   ],
   "source": [
    "df.groupby('IsActiveMember')['Exited'].agg(['count','mean'])"
   ]
  },
  {
   "cell_type": "code",
   "execution_count": 433,
   "metadata": {},
   "outputs": [
    {
     "data": {
      "image/png": "[encoded data removed]",
      "text/plain": [
       "<Figure size 432x288 with 1 Axes>"
      ]
     },
     "metadata": {},
     "output_type": "display_data"
    }
   ],
   "source": [
    "sns.countplot(x=df['IsActiveMember'], hue=df['Exited'])\n",
    "plt.ylabel('Количество', fontsize=25, weight = 'bold')\n",
    "plt.title(\"Разбиение признака IsActiveMember по классам\");"
   ]
  },
  {
   "cell_type": "markdown",
   "metadata": {},
   "source": [
    "**Вывод: Среди активных клиентов (у кого IsActiveMember = 1), отток ниже почти в два раза.**"
   ]
  },
  {
   "cell_type": "markdown",
   "metadata": {},
   "source": [
    "#### Gender"
   ]
  },
  {
   "cell_type": "code",
   "execution_count": 434,
   "metadata": {},
   "outputs": [
    {
     "data": {
      "text/html": [
       "<div>\n",
       "<style scoped>\n",
       "    .dataframe tbody tr th:only-of-type {\n",
       "        vertical-align: middle;\n",
       "    }\n",
       "\n",
       "    .dataframe tbody tr th {\n",
       "        vertical-align: top;\n",
       "    }\n",
       "\n",
       "    .dataframe thead th {\n",
       "        text-align: right;\n",
       "    }\n",
       "</style>\n",
       "<table border=\"1\" class=\"dataframe\">\n",
       "  <thead>\n",
       "    <tr style=\"text-align: right;\">\n",
       "      <th></th>\n",
       "      <th>count</th>\n",
       "      <th>mean</th>\n",
       "    </tr>\n",
       "    <tr>\n",
       "      <th>Gender</th>\n",
       "      <th></th>\n",
       "      <th></th>\n",
       "    </tr>\n",
       "  </thead>\n",
       "  <tbody>\n",
       "    <tr>\n",
       "      <th>Female</th>\n",
       "      <td>4117</td>\n",
       "      <td>0.252854</td>\n",
       "    </tr>\n",
       "    <tr>\n",
       "      <th>Male</th>\n",
       "      <td>4974</td>\n",
       "      <td>0.163450</td>\n",
       "    </tr>\n",
       "  </tbody>\n",
       "</table>\n",
       "</div>"
      ],
      "text/plain": [
       "        count      mean\n",
       "Gender                 \n",
       "Female   4117  0.252854\n",
       "Male     4974  0.163450"
      ]
     },
     "execution_count": 434,
     "metadata": {},
     "output_type": "execute_result"
    }
   ],
   "source": [
    "dfgroupby = df.groupby('Gender')['Exited'].agg(['count','mean'])\n",
    "dfgroupby"
   ]
  },
  {
   "cell_type": "code",
   "execution_count": 435,
   "metadata": {},
   "outputs": [
    {
     "data": {
      "image/png": "[encoded data removed]",
      "text/plain": [
       "<Figure size 432x288 with 1 Axes>"
      ]
     },
     "metadata": {},
     "output_type": "display_data"
    }
   ],
   "source": [
    "sns.countplot(x=df['Gender'], hue=df['Exited']);\n",
    "plt.ylabel('Количество')\n",
    "plt.title(\"Разбиение признака Gender по классам\");"
   ]
  },
  {
   "cell_type": "code",
   "execution_count": 436,
   "metadata": {},
   "outputs": [
    {
     "data": {
      "text/plain": [
       "0.6464201745329315"
      ]
     },
     "execution_count": 436,
     "metadata": {},
     "output_type": "execute_result"
    }
   ],
   "source": [
    "# доля м/ж  - тех кто покинул банк\n",
    "dfgroupby['mean'][1]/dfgroupby['mean'][0]"
   ]
  },
  {
   "cell_type": "markdown",
   "metadata": {},
   "source": [
    "**Вывод: Среди женщин, отток выше. И составляет 64% среди покинувших банк.**"
   ]
  },
  {
   "cell_type": "markdown",
   "metadata": {},
   "source": [
    "#### Geography"
   ]
  },
  {
   "cell_type": "code",
   "execution_count": 437,
   "metadata": {},
   "outputs": [
    {
     "data": {
      "text/html": [
       "<div>\n",
       "<style scoped>\n",
       "    .dataframe tbody tr th:only-of-type {\n",
       "        vertical-align: middle;\n",
       "    }\n",
       "\n",
       "    .dataframe tbody tr th {\n",
       "        vertical-align: top;\n",
       "    }\n",
       "\n",
       "    .dataframe thead th {\n",
       "        text-align: right;\n",
       "    }\n",
       "</style>\n",
       "<table border=\"1\" class=\"dataframe\">\n",
       "  <thead>\n",
       "    <tr style=\"text-align: right;\">\n",
       "      <th></th>\n",
       "      <th>count</th>\n",
       "      <th>mean</th>\n",
       "    </tr>\n",
       "    <tr>\n",
       "      <th>Geography</th>\n",
       "      <th></th>\n",
       "      <th></th>\n",
       "    </tr>\n",
       "  </thead>\n",
       "  <tbody>\n",
       "    <tr>\n",
       "      <th>France</th>\n",
       "      <td>4550</td>\n",
       "      <td>0.161099</td>\n",
       "    </tr>\n",
       "    <tr>\n",
       "      <th>Germany</th>\n",
       "      <td>2293</td>\n",
       "      <td>0.327519</td>\n",
       "    </tr>\n",
       "    <tr>\n",
       "      <th>Spain</th>\n",
       "      <td>2248</td>\n",
       "      <td>0.164591</td>\n",
       "    </tr>\n",
       "  </tbody>\n",
       "</table>\n",
       "</div>"
      ],
      "text/plain": [
       "           count      mean\n",
       "Geography                 \n",
       "France      4550  0.161099\n",
       "Germany     2293  0.327519\n",
       "Spain       2248  0.164591"
      ]
     },
     "execution_count": 437,
     "metadata": {},
     "output_type": "execute_result"
    }
   ],
   "source": [
    "df.groupby('Geography')['Exited'].agg(['count','mean'])"
   ]
  },
  {
   "cell_type": "code",
   "execution_count": 438,
   "metadata": {
    "scrolled": true
   },
   "outputs": [
    {
     "data": {
      "image/png": "[encoded data removed]",
      "text/plain": [
       "<Figure size 432x288 with 1 Axes>"
      ]
     },
     "metadata": {},
     "output_type": "display_data"
    }
   ],
   "source": [
    "sns.countplot(x=df['Geography'], hue=df['Exited'])\n",
    "plt.ylabel('Количество')\n",
    "plt.title(\"Разбиение признака Geography по классам\");"
   ]
  },
  {
   "cell_type": "markdown",
   "metadata": {},
   "source": [
    "**Вывод: Хуже всего дела обстоят в Германии (32%), отток в два раза выше чем во Франции(16%) и Испании(16%).**"
   ]
  },
  {
   "cell_type": "markdown",
   "metadata": {},
   "source": [
    "#### Tenure"
   ]
  },
  {
   "cell_type": "code",
   "execution_count": 439,
   "metadata": {},
   "outputs": [
    {
     "data": {
      "text/html": [
       "<div>\n",
       "<style scoped>\n",
       "    .dataframe tbody tr th:only-of-type {\n",
       "        vertical-align: middle;\n",
       "    }\n",
       "\n",
       "    .dataframe tbody tr th {\n",
       "        vertical-align: top;\n",
       "    }\n",
       "\n",
       "    .dataframe thead th {\n",
       "        text-align: right;\n",
       "    }\n",
       "</style>\n",
       "<table border=\"1\" class=\"dataframe\">\n",
       "  <thead>\n",
       "    <tr style=\"text-align: right;\">\n",
       "      <th></th>\n",
       "      <th>count</th>\n",
       "      <th>mean</th>\n",
       "    </tr>\n",
       "    <tr>\n",
       "      <th>Tenure</th>\n",
       "      <th></th>\n",
       "      <th></th>\n",
       "    </tr>\n",
       "  </thead>\n",
       "  <tbody>\n",
       "    <tr>\n",
       "      <th>0.0</th>\n",
       "      <td>382</td>\n",
       "      <td>0.235602</td>\n",
       "    </tr>\n",
       "    <tr>\n",
       "      <th>1.0</th>\n",
       "      <td>952</td>\n",
       "      <td>0.223739</td>\n",
       "    </tr>\n",
       "    <tr>\n",
       "      <th>2.0</th>\n",
       "      <td>950</td>\n",
       "      <td>0.194737</td>\n",
       "    </tr>\n",
       "    <tr>\n",
       "      <th>3.0</th>\n",
       "      <td>928</td>\n",
       "      <td>0.213362</td>\n",
       "    </tr>\n",
       "    <tr>\n",
       "      <th>4.0</th>\n",
       "      <td>885</td>\n",
       "      <td>0.207910</td>\n",
       "    </tr>\n",
       "    <tr>\n",
       "      <th>5.0</th>\n",
       "      <td>927</td>\n",
       "      <td>0.201726</td>\n",
       "    </tr>\n",
       "    <tr>\n",
       "      <th>6.0</th>\n",
       "      <td>881</td>\n",
       "      <td>0.200908</td>\n",
       "    </tr>\n",
       "    <tr>\n",
       "      <th>7.0</th>\n",
       "      <td>925</td>\n",
       "      <td>0.172973</td>\n",
       "    </tr>\n",
       "    <tr>\n",
       "      <th>8.0</th>\n",
       "      <td>933</td>\n",
       "      <td>0.186495</td>\n",
       "    </tr>\n",
       "    <tr>\n",
       "      <th>9.0</th>\n",
       "      <td>882</td>\n",
       "      <td>0.219955</td>\n",
       "    </tr>\n",
       "    <tr>\n",
       "      <th>10.0</th>\n",
       "      <td>446</td>\n",
       "      <td>0.206278</td>\n",
       "    </tr>\n",
       "  </tbody>\n",
       "</table>\n",
       "</div>"
      ],
      "text/plain": [
       "        count      mean\n",
       "Tenure                 \n",
       "0.0       382  0.235602\n",
       "1.0       952  0.223739\n",
       "2.0       950  0.194737\n",
       "3.0       928  0.213362\n",
       "4.0       885  0.207910\n",
       "5.0       927  0.201726\n",
       "6.0       881  0.200908\n",
       "7.0       925  0.172973\n",
       "8.0       933  0.186495\n",
       "9.0       882  0.219955\n",
       "10.0      446  0.206278"
      ]
     },
     "execution_count": 439,
     "metadata": {},
     "output_type": "execute_result"
    }
   ],
   "source": [
    "df.groupby('Tenure')['Exited'].agg(['count','mean'])"
   ]
  },
  {
   "cell_type": "markdown",
   "metadata": {},
   "source": [
    "**Вывод: В разрезе признака  - сколько лет человек является клиентом банка - ничего интересного нет.**"
   ]
  },
  {
   "cell_type": "markdown",
   "metadata": {},
   "source": [
    "#### NumOfProducts"
   ]
  },
  {
   "cell_type": "code",
   "execution_count": 440,
   "metadata": {},
   "outputs": [
    {
     "data": {
      "text/html": [
       "<div>\n",
       "<style scoped>\n",
       "    .dataframe tbody tr th:only-of-type {\n",
       "        vertical-align: middle;\n",
       "    }\n",
       "\n",
       "    .dataframe tbody tr th {\n",
       "        vertical-align: top;\n",
       "    }\n",
       "\n",
       "    .dataframe thead th {\n",
       "        text-align: right;\n",
       "    }\n",
       "</style>\n",
       "<table border=\"1\" class=\"dataframe\">\n",
       "  <thead>\n",
       "    <tr style=\"text-align: right;\">\n",
       "      <th></th>\n",
       "      <th>count</th>\n",
       "      <th>mean</th>\n",
       "    </tr>\n",
       "    <tr>\n",
       "      <th>NumOfProducts</th>\n",
       "      <th></th>\n",
       "      <th></th>\n",
       "    </tr>\n",
       "  </thead>\n",
       "  <tbody>\n",
       "    <tr>\n",
       "      <th>1</th>\n",
       "      <td>4617</td>\n",
       "      <td>0.277886</td>\n",
       "    </tr>\n",
       "    <tr>\n",
       "      <th>2</th>\n",
       "      <td>4184</td>\n",
       "      <td>0.076960</td>\n",
       "    </tr>\n",
       "    <tr>\n",
       "      <th>3</th>\n",
       "      <td>234</td>\n",
       "      <td>0.824786</td>\n",
       "    </tr>\n",
       "    <tr>\n",
       "      <th>4</th>\n",
       "      <td>56</td>\n",
       "      <td>1.000000</td>\n",
       "    </tr>\n",
       "  </tbody>\n",
       "</table>\n",
       "</div>"
      ],
      "text/plain": [
       "               count      mean\n",
       "NumOfProducts                 \n",
       "1               4617  0.277886\n",
       "2               4184  0.076960\n",
       "3                234  0.824786\n",
       "4                 56  1.000000"
      ]
     },
     "execution_count": 440,
     "metadata": {},
     "output_type": "execute_result"
    }
   ],
   "source": [
    "df.groupby('NumOfProducts')['Exited'].agg(['count','mean'])"
   ]
  },
  {
   "cell_type": "code",
   "execution_count": 441,
   "metadata": {},
   "outputs": [
    {
     "data": {
      "image/png": "[encoded data removed]",
      "text/plain": [
       "<Figure size 432x288 with 1 Axes>"
      ]
     },
     "metadata": {},
     "output_type": "display_data"
    }
   ],
   "source": [
    "sns.countplot(x=df['NumOfProducts'], hue=df['Exited'])\n",
    "plt.ylabel('Количество')\n",
    "plt.title(\"Разбиение признака NumOfProducts по классам\");"
   ]
  },
  {
   "cell_type": "markdown",
   "metadata": {},
   "source": [
    "**Вывод: В разрезе признака  - количество продуктов банка, используемых клиентом - наблюдается прямо пропорциональная зависимость. Чем больше продуктов, тем больше отток.**"
   ]
  },
  {
   "cell_type": "markdown",
   "metadata": {},
   "source": [
    "#### HasCrCard"
   ]
  },
  {
   "cell_type": "code",
   "execution_count": 442,
   "metadata": {},
   "outputs": [
    {
     "data": {
      "text/html": [
       "<div>\n",
       "<style scoped>\n",
       "    .dataframe tbody tr th:only-of-type {\n",
       "        vertical-align: middle;\n",
       "    }\n",
       "\n",
       "    .dataframe tbody tr th {\n",
       "        vertical-align: top;\n",
       "    }\n",
       "\n",
       "    .dataframe thead th {\n",
       "        text-align: right;\n",
       "    }\n",
       "</style>\n",
       "<table border=\"1\" class=\"dataframe\">\n",
       "  <thead>\n",
       "    <tr style=\"text-align: right;\">\n",
       "      <th></th>\n",
       "      <th>count</th>\n",
       "      <th>mean</th>\n",
       "    </tr>\n",
       "    <tr>\n",
       "      <th>HasCrCard</th>\n",
       "      <th></th>\n",
       "      <th></th>\n",
       "    </tr>\n",
       "  </thead>\n",
       "  <tbody>\n",
       "    <tr>\n",
       "      <th>0</th>\n",
       "      <td>2682</td>\n",
       "      <td>0.207308</td>\n",
       "    </tr>\n",
       "    <tr>\n",
       "      <th>1</th>\n",
       "      <td>6409</td>\n",
       "      <td>0.202528</td>\n",
       "    </tr>\n",
       "  </tbody>\n",
       "</table>\n",
       "</div>"
      ],
      "text/plain": [
       "           count      mean\n",
       "HasCrCard                 \n",
       "0           2682  0.207308\n",
       "1           6409  0.202528"
      ]
     },
     "execution_count": 442,
     "metadata": {},
     "output_type": "execute_result"
    }
   ],
   "source": [
    "df.groupby('HasCrCard')['Exited'].agg(['count','mean'])"
   ]
  },
  {
   "cell_type": "code",
   "execution_count": 443,
   "metadata": {
    "scrolled": true
   },
   "outputs": [
    {
     "data": {
      "image/png": "[encoded data removed]",
      "text/plain": [
       "<Figure size 432x288 with 1 Axes>"
      ]
     },
     "metadata": {},
     "output_type": "display_data"
    }
   ],
   "source": [
    "sns.countplot(x=df['HasCrCard'], hue=df['Exited'])\n",
    "plt.ylabel('Количество')\n",
    "plt.title(\"Разбиение признака HasCrCard по классам\");"
   ]
  },
  {
   "cell_type": "markdown",
   "metadata": {},
   "source": [
    "**Вывод: Наличие кредитной карты на отток не влияет.**"
   ]
  },
  {
   "cell_type": "code",
   "execution_count": 444,
   "metadata": {
    "scrolled": true
   },
   "outputs": [
    {
     "data": {
      "image/png": "[encoded data removed]",
      "text/plain": [
       "<Figure size 432x288 with 1 Axes>"
      ]
     },
     "metadata": {},
     "output_type": "display_data"
    }
   ],
   "source": [
    "sns.boxplot(x=df['Geography'], y=df['EstimatedSalary'], hue=df['Exited']);\n",
    "plt.title(\"Разбиение признака EstimatedSalary и Geography по классам\");"
   ]
  },
  {
   "cell_type": "code",
   "execution_count": 445,
   "metadata": {},
   "outputs": [
    {
     "data": {
      "image/png": "[encoded data removed]",
      "text/plain": [
       "<Figure size 432x288 with 1 Axes>"
      ]
     },
     "metadata": {},
     "output_type": "display_data"
    }
   ],
   "source": [
    "sns.boxplot(x=df['Geography'], y=df['Balance'], hue=df['Exited']);\n",
    "plt.title(\"Разбиение признака Balance и Geography по классам\");\n"
   ]
  },
  {
   "cell_type": "code",
   "execution_count": 446,
   "metadata": {},
   "outputs": [
    {
     "data": {
      "image/png": "[encoded data removed]",
      "text/plain": [
       "<Figure size 432x288 with 1 Axes>"
      ]
     },
     "metadata": {},
     "output_type": "display_data"
    }
   ],
   "source": [
    "sns.boxplot(x=df['Geography'], y=df['CreditScore'], hue=df['Exited']); \n",
    "plt.title(\"Разбиение признака CreditScore и Geography по классам\");"
   ]
  },
  {
   "cell_type": "code",
   "execution_count": 447,
   "metadata": {},
   "outputs": [
    {
     "data": {
      "image/png": "[encoded data removed]",
      "text/plain": [
       "<Figure size 432x288 with 1 Axes>"
      ]
     },
     "metadata": {},
     "output_type": "display_data"
    }
   ],
   "source": [
    "sns.boxplot(x=df['Geography'], y=df['Age'], hue=df['Exited']); \n",
    "plt.title(\"Разбиение признака Age и Geography по классам\");"
   ]
  },
  {
   "cell_type": "markdown",
   "metadata": {},
   "source": [
    "**Вывод: В разрезе числовых признаков  Balanceб EstimatedSalary и CreditScore явных зависемостей для оттока не наблюдается.**"
   ]
  },
  {
   "cell_type": "markdown",
   "metadata": {},
   "source": [
    "**Итого вывод по EDA: Наиболее важные признаки для построения модели - Age, NumOfProducts, Geography, Gender, IsActiveMember.**"
   ]
  },
  {
   "cell_type": "markdown",
   "metadata": {},
   "source": [
    "### Подготовим категориальные признаки по технологии One-Hot Encoding"
   ]
  },
  {
   "cell_type": "code",
   "execution_count": 448,
   "metadata": {},
   "outputs": [],
   "source": [
    "df_ohe = pd.get_dummies(df, drop_first=True )"
   ]
  },
  {
   "cell_type": "code",
   "execution_count": 449,
   "metadata": {
    "scrolled": false
   },
   "outputs": [
    {
     "data": {
      "text/html": [
       "<div>\n",
       "<style scoped>\n",
       "    .dataframe tbody tr th:only-of-type {\n",
       "        vertical-align: middle;\n",
       "    }\n",
       "\n",
       "    .dataframe tbody tr th {\n",
       "        vertical-align: top;\n",
       "    }\n",
       "\n",
       "    .dataframe thead th {\n",
       "        text-align: right;\n",
       "    }\n",
       "</style>\n",
       "<table border=\"1\" class=\"dataframe\">\n",
       "  <thead>\n",
       "    <tr style=\"text-align: right;\">\n",
       "      <th></th>\n",
       "      <th>CreditScore</th>\n",
       "      <th>Age</th>\n",
       "      <th>Tenure</th>\n",
       "      <th>Balance</th>\n",
       "      <th>NumOfProducts</th>\n",
       "      <th>HasCrCard</th>\n",
       "      <th>IsActiveMember</th>\n",
       "      <th>EstimatedSalary</th>\n",
       "      <th>Exited</th>\n",
       "      <th>Geography_Germany</th>\n",
       "      <th>Geography_Spain</th>\n",
       "      <th>Gender_Male</th>\n",
       "    </tr>\n",
       "  </thead>\n",
       "  <tbody>\n",
       "    <tr>\n",
       "      <th>0</th>\n",
       "      <td>619</td>\n",
       "      <td>42</td>\n",
       "      <td>2.0</td>\n",
       "      <td>0.00</td>\n",
       "      <td>1</td>\n",
       "      <td>1</td>\n",
       "      <td>1</td>\n",
       "      <td>101348.88</td>\n",
       "      <td>1</td>\n",
       "      <td>0</td>\n",
       "      <td>0</td>\n",
       "      <td>0</td>\n",
       "    </tr>\n",
       "    <tr>\n",
       "      <th>1</th>\n",
       "      <td>608</td>\n",
       "      <td>41</td>\n",
       "      <td>1.0</td>\n",
       "      <td>83807.86</td>\n",
       "      <td>1</td>\n",
       "      <td>0</td>\n",
       "      <td>1</td>\n",
       "      <td>112542.58</td>\n",
       "      <td>0</td>\n",
       "      <td>0</td>\n",
       "      <td>1</td>\n",
       "      <td>0</td>\n",
       "    </tr>\n",
       "    <tr>\n",
       "      <th>2</th>\n",
       "      <td>502</td>\n",
       "      <td>42</td>\n",
       "      <td>8.0</td>\n",
       "      <td>159660.80</td>\n",
       "      <td>3</td>\n",
       "      <td>1</td>\n",
       "      <td>0</td>\n",
       "      <td>113931.57</td>\n",
       "      <td>1</td>\n",
       "      <td>0</td>\n",
       "      <td>0</td>\n",
       "      <td>0</td>\n",
       "    </tr>\n",
       "    <tr>\n",
       "      <th>3</th>\n",
       "      <td>699</td>\n",
       "      <td>39</td>\n",
       "      <td>1.0</td>\n",
       "      <td>0.00</td>\n",
       "      <td>2</td>\n",
       "      <td>0</td>\n",
       "      <td>0</td>\n",
       "      <td>93826.63</td>\n",
       "      <td>0</td>\n",
       "      <td>0</td>\n",
       "      <td>0</td>\n",
       "      <td>0</td>\n",
       "    </tr>\n",
       "    <tr>\n",
       "      <th>4</th>\n",
       "      <td>850</td>\n",
       "      <td>43</td>\n",
       "      <td>2.0</td>\n",
       "      <td>125510.82</td>\n",
       "      <td>1</td>\n",
       "      <td>1</td>\n",
       "      <td>1</td>\n",
       "      <td>79084.10</td>\n",
       "      <td>0</td>\n",
       "      <td>0</td>\n",
       "      <td>1</td>\n",
       "      <td>0</td>\n",
       "    </tr>\n",
       "  </tbody>\n",
       "</table>\n",
       "</div>"
      ],
      "text/plain": [
       "   CreditScore  Age  Tenure    Balance  NumOfProducts  HasCrCard  \\\n",
       "0          619   42     2.0       0.00              1          1   \n",
       "1          608   41     1.0   83807.86              1          0   \n",
       "2          502   42     8.0  159660.80              3          1   \n",
       "3          699   39     1.0       0.00              2          0   \n",
       "4          850   43     2.0  125510.82              1          1   \n",
       "\n",
       "   IsActiveMember  EstimatedSalary  Exited  Geography_Germany  \\\n",
       "0               1        101348.88       1                  0   \n",
       "1               1        112542.58       0                  0   \n",
       "2               0        113931.57       1                  0   \n",
       "3               0         93826.63       0                  0   \n",
       "4               1         79084.10       0                  0   \n",
       "\n",
       "   Geography_Spain  Gender_Male  \n",
       "0                0            0  \n",
       "1                1            0  \n",
       "2                0            0  \n",
       "3                0            0  \n",
       "4                1            0  "
      ]
     },
     "execution_count": 449,
     "metadata": {},
     "output_type": "execute_result"
    }
   ],
   "source": [
    "df_ohe.head(5)"
   ]
  },
  {
   "cell_type": "markdown",
   "metadata": {},
   "source": [
    "Категориальные признаки подготовлены."
   ]
  },
  {
   "cell_type": "markdown",
   "metadata": {},
   "source": [
    "### Разобьем данные на выборки\n"
   ]
  },
  {
   "cell_type": "markdown",
   "metadata": {},
   "source": [
    "Спрятанной тестовой выборки нет. Значит, данные нужно разбить на\n",
    "три части: обучающую, валидационную и тестовую. Размеры\n",
    "тестового и валидационного наборов обычно равны. Исходные\n",
    "данные разбиваем в соотношении 3:1:1"
   ]
  },
  {
   "cell_type": "code",
   "execution_count": 450,
   "metadata": {
    "scrolled": true
   },
   "outputs": [
    {
     "name": "stdout",
     "output_type": "stream",
     "text": [
      "Разбиение 60:20:20 на обучающую, тестовую и валидационную выборки\n",
      "(5454, 11)\n",
      "(5454,)\n",
      "(1819, 11)\n",
      "(1819,)\n",
      "(1818, 11)\n",
      "(1818,)\n"
     ]
    }
   ],
   "source": [
    "y = df_ohe['Exited']\n",
    "X = df_ohe.drop('Exited', axis=1)\n",
    "\n",
    "# отделим 40% данных для валидационной + тестовой выборки\n",
    "X_train, X_valid, y_train, y_valid = train_test_split(X, y, test_size=0.4, random_state=12345) \n",
    "\n",
    "# разобьем общую валидационную + тестовую выборки на собственно валидационную и тестовую в равных пропорциях\n",
    "X_test, X_valid, y_test, y_valid = train_test_split(X_valid, y_valid, test_size=0.5, random_state=12345) \n",
    "\n",
    "print('Разбиение 60:20:20 на обучающую, тестовую и валидационную выборки')\n",
    "print(X_train.shape)\n",
    "print(y_train.shape)\n",
    "print(X_valid.shape)\n",
    "print(y_valid.shape)\n",
    "print(X_test.shape)\n",
    "print(y_test.shape)"
   ]
  },
  {
   "cell_type": "markdown",
   "metadata": {},
   "source": [
    "### Масштабирование признаков "
   ]
  },
  {
   "cell_type": "code",
   "execution_count": 451,
   "metadata": {},
   "outputs": [],
   "source": [
    "numeric = ['Balance', 'EstimatedSalary','CreditScore']"
   ]
  },
  {
   "cell_type": "code",
   "execution_count": 452,
   "metadata": {},
   "outputs": [],
   "source": [
    "#Создадим объект этой структуры и настроим его на обучающих данных. Настройка — это вычисление среднего и дисперсии:\n",
    "scaler = StandardScaler()\n",
    "\n",
    "#Чтобы предупреждение не появлялось, в код добавляют строчку\n",
    "pd.options.mode.chained_assignment = None\n",
    "scaler.fit(X_train[numeric])\n",
    "\n",
    "X_train[numeric] = scaler.transform(X_train[numeric])\n",
    "X_valid[numeric] = scaler.transform(X_valid[numeric])\n",
    "X_test[numeric] = scaler.transform(X_test[numeric])\n",
    "\n",
    "# y_train = np.array(y_train)\n",
    "# y_valid = np.array(y_valid)\n",
    "# y_test = np.array(y_test)\n"
   ]
  },
  {
   "cell_type": "code",
   "execution_count": 453,
   "metadata": {},
   "outputs": [
    {
     "data": {
      "text/html": [
       "<div>\n",
       "<style scoped>\n",
       "    .dataframe tbody tr th:only-of-type {\n",
       "        vertical-align: middle;\n",
       "    }\n",
       "\n",
       "    .dataframe tbody tr th {\n",
       "        vertical-align: top;\n",
       "    }\n",
       "\n",
       "    .dataframe thead th {\n",
       "        text-align: right;\n",
       "    }\n",
       "</style>\n",
       "<table border=\"1\" class=\"dataframe\">\n",
       "  <thead>\n",
       "    <tr style=\"text-align: right;\">\n",
       "      <th></th>\n",
       "      <th>count</th>\n",
       "      <th>mean</th>\n",
       "      <th>std</th>\n",
       "      <th>min</th>\n",
       "      <th>25%</th>\n",
       "      <th>50%</th>\n",
       "      <th>75%</th>\n",
       "      <th>max</th>\n",
       "    </tr>\n",
       "  </thead>\n",
       "  <tbody>\n",
       "    <tr>\n",
       "      <th>CreditScore</th>\n",
       "      <td>5454.0</td>\n",
       "      <td>-1.452613e-16</td>\n",
       "      <td>1.000092</td>\n",
       "      <td>-3.083139</td>\n",
       "      <td>-0.687930</td>\n",
       "      <td>0.019276</td>\n",
       "      <td>0.695510</td>\n",
       "      <td>2.078949</td>\n",
       "    </tr>\n",
       "    <tr>\n",
       "      <th>Age</th>\n",
       "      <td>5454.0</td>\n",
       "      <td>3.904290e+01</td>\n",
       "      <td>10.626030</td>\n",
       "      <td>18.000000</td>\n",
       "      <td>32.000000</td>\n",
       "      <td>37.000000</td>\n",
       "      <td>44.000000</td>\n",
       "      <td>92.000000</td>\n",
       "    </tr>\n",
       "    <tr>\n",
       "      <th>Tenure</th>\n",
       "      <td>5454.0</td>\n",
       "      <td>4.978181e+00</td>\n",
       "      <td>2.902992</td>\n",
       "      <td>0.000000</td>\n",
       "      <td>2.000000</td>\n",
       "      <td>5.000000</td>\n",
       "      <td>7.000000</td>\n",
       "      <td>10.000000</td>\n",
       "    </tr>\n",
       "    <tr>\n",
       "      <th>Balance</th>\n",
       "      <td>5454.0</td>\n",
       "      <td>-1.335362e-16</td>\n",
       "      <td>1.000092</td>\n",
       "      <td>-1.237830</td>\n",
       "      <td>-1.237830</td>\n",
       "      <td>0.334971</td>\n",
       "      <td>0.817568</td>\n",
       "      <td>2.612388</td>\n",
       "    </tr>\n",
       "    <tr>\n",
       "      <th>NumOfProducts</th>\n",
       "      <td>5454.0</td>\n",
       "      <td>1.528786e+00</td>\n",
       "      <td>0.582302</td>\n",
       "      <td>1.000000</td>\n",
       "      <td>1.000000</td>\n",
       "      <td>1.000000</td>\n",
       "      <td>2.000000</td>\n",
       "      <td>4.000000</td>\n",
       "    </tr>\n",
       "    <tr>\n",
       "      <th>HasCrCard</th>\n",
       "      <td>5454.0</td>\n",
       "      <td>6.943528e-01</td>\n",
       "      <td>0.460723</td>\n",
       "      <td>0.000000</td>\n",
       "      <td>0.000000</td>\n",
       "      <td>1.000000</td>\n",
       "      <td>1.000000</td>\n",
       "      <td>1.000000</td>\n",
       "    </tr>\n",
       "    <tr>\n",
       "      <th>IsActiveMember</th>\n",
       "      <td>5454.0</td>\n",
       "      <td>5.119179e-01</td>\n",
       "      <td>0.499904</td>\n",
       "      <td>0.000000</td>\n",
       "      <td>0.000000</td>\n",
       "      <td>1.000000</td>\n",
       "      <td>1.000000</td>\n",
       "      <td>1.000000</td>\n",
       "    </tr>\n",
       "    <tr>\n",
       "      <th>EstimatedSalary</th>\n",
       "      <td>5454.0</td>\n",
       "      <td>-1.498211e-16</td>\n",
       "      <td>1.000092</td>\n",
       "      <td>-1.726484</td>\n",
       "      <td>-0.851935</td>\n",
       "      <td>-0.005975</td>\n",
       "      <td>0.866481</td>\n",
       "      <td>1.715532</td>\n",
       "    </tr>\n",
       "    <tr>\n",
       "      <th>Geography_Germany</th>\n",
       "      <td>5454.0</td>\n",
       "      <td>2.532087e-01</td>\n",
       "      <td>0.434889</td>\n",
       "      <td>0.000000</td>\n",
       "      <td>0.000000</td>\n",
       "      <td>0.000000</td>\n",
       "      <td>1.000000</td>\n",
       "      <td>1.000000</td>\n",
       "    </tr>\n",
       "    <tr>\n",
       "      <th>Geography_Spain</th>\n",
       "      <td>5454.0</td>\n",
       "      <td>2.466080e-01</td>\n",
       "      <td>0.431076</td>\n",
       "      <td>0.000000</td>\n",
       "      <td>0.000000</td>\n",
       "      <td>0.000000</td>\n",
       "      <td>0.000000</td>\n",
       "      <td>1.000000</td>\n",
       "    </tr>\n",
       "    <tr>\n",
       "      <th>Gender_Male</th>\n",
       "      <td>5454.0</td>\n",
       "      <td>5.507884e-01</td>\n",
       "      <td>0.497459</td>\n",
       "      <td>0.000000</td>\n",
       "      <td>0.000000</td>\n",
       "      <td>1.000000</td>\n",
       "      <td>1.000000</td>\n",
       "      <td>1.000000</td>\n",
       "    </tr>\n",
       "  </tbody>\n",
       "</table>\n",
       "</div>"
      ],
      "text/plain": [
       "                    count          mean        std        min        25%  \\\n",
       "CreditScore        5454.0 -1.452613e-16   1.000092  -3.083139  -0.687930   \n",
       "Age                5454.0  3.904290e+01  10.626030  18.000000  32.000000   \n",
       "Tenure             5454.0  4.978181e+00   2.902992   0.000000   2.000000   \n",
       "Balance            5454.0 -1.335362e-16   1.000092  -1.237830  -1.237830   \n",
       "NumOfProducts      5454.0  1.528786e+00   0.582302   1.000000   1.000000   \n",
       "HasCrCard          5454.0  6.943528e-01   0.460723   0.000000   0.000000   \n",
       "IsActiveMember     5454.0  5.119179e-01   0.499904   0.000000   0.000000   \n",
       "EstimatedSalary    5454.0 -1.498211e-16   1.000092  -1.726484  -0.851935   \n",
       "Geography_Germany  5454.0  2.532087e-01   0.434889   0.000000   0.000000   \n",
       "Geography_Spain    5454.0  2.466080e-01   0.431076   0.000000   0.000000   \n",
       "Gender_Male        5454.0  5.507884e-01   0.497459   0.000000   0.000000   \n",
       "\n",
       "                         50%        75%        max  \n",
       "CreditScore         0.019276   0.695510   2.078949  \n",
       "Age                37.000000  44.000000  92.000000  \n",
       "Tenure              5.000000   7.000000  10.000000  \n",
       "Balance             0.334971   0.817568   2.612388  \n",
       "NumOfProducts       1.000000   2.000000   4.000000  \n",
       "HasCrCard           1.000000   1.000000   1.000000  \n",
       "IsActiveMember      1.000000   1.000000   1.000000  \n",
       "EstimatedSalary    -0.005975   0.866481   1.715532  \n",
       "Geography_Germany   0.000000   1.000000   1.000000  \n",
       "Geography_Spain     0.000000   0.000000   1.000000  \n",
       "Gender_Male         1.000000   1.000000   1.000000  "
      ]
     },
     "execution_count": 453,
     "metadata": {},
     "output_type": "execute_result"
    }
   ],
   "source": [
    "X_train.describe().T"
   ]
  },
  {
   "cell_type": "markdown",
   "metadata": {},
   "source": [
    "Признаки CreditScore, EstimatedSalary и Balance - отмасштабированы."
   ]
  },
  {
   "cell_type": "markdown",
   "metadata": {},
   "source": [
    "### Изучим модели без учёта дисбаланса"
   ]
  },
  {
   "cell_type": "code",
   "execution_count": 454,
   "metadata": {},
   "outputs": [
    {
     "name": "stdout",
     "output_type": "stream",
     "text": [
      "LogisticRegression валидационная выборка F1: 0.31533477321814257\n",
      "LogisticRegression тестовая выборка F1: 0.3046092184368738\n"
     ]
    }
   ],
   "source": [
    "# инициализируем модель LogisticRegression \n",
    "model = LogisticRegression(solver='liblinear', random_state=12345) \n",
    "   \n",
    "# обучим модель на тренировочной выборке\n",
    "model.fit(X_train, y_train)\n",
    "    \n",
    "# получим предсказания модели на валидационной выборке\n",
    "predicted_valid = model.predict(X_valid)\n",
    "print(\"LogisticRegression валидационная выборка F1:\", f1_score(y_valid, predicted_valid))\n",
    "\n",
    "predicted_valid = model.predict(X_test)\n",
    "print(\"LogisticRegression тестовая выборка F1:\", f1_score(y_test, predicted_valid))"
   ]
  },
  {
   "cell_type": "code",
   "execution_count": 455,
   "metadata": {},
   "outputs": [
    {
     "name": "stdout",
     "output_type": "stream",
     "text": [
      "RandomForestClassifier валидационная выборка F1: 0.5581395348837209\n",
      "RandomForestClassifier тестовая выборка F1: 0.5874587458745875\n"
     ]
    }
   ],
   "source": [
    "#инициализируем модель RandomForestClassifier \n",
    "model = RandomForestClassifier(random_state=12345) #, n_estimators=50), max_depth=10h)\n",
    "        \n",
    "# обучим модель на тренировочной выборке\n",
    "model.fit(X_train, y_train)\n",
    "        \n",
    "# получим предсказания модели на валидационной выборке\n",
    "predicted_valid = model.predict(X_valid)\n",
    "print(\"RandomForestClassifier валидационная выборка F1:\", f1_score(y_valid, predicted_valid))\n",
    "\n",
    "predicted_valid = model.predict(X_test)\n",
    "print(\"RandomForestClassifier тестовая выборка F1:\", f1_score(y_test, predicted_valid))"
   ]
  },
  {
   "cell_type": "markdown",
   "metadata": {},
   "source": [
    "**Вывод: Результаты удручающие! Особенно для логистической регрессии. Случайный лес выглядит заметно лучше.**"
   ]
  },
  {
   "cell_type": "markdown",
   "metadata": {},
   "source": [
    "## Борьба с дисбалансом"
   ]
  },
  {
   "cell_type": "markdown",
   "metadata": {},
   "source": [
    "Ранее мы выяснили, что отношение 0 и 1 класса составляет 4:1."
   ]
  },
  {
   "cell_type": "markdown",
   "metadata": {},
   "source": [
    "### Метод увеличения обучающей выборки"
   ]
  },
  {
   "cell_type": "code",
   "execution_count": 456,
   "metadata": {},
   "outputs": [],
   "source": [
    "# функция для увеличения выборки \n",
    "def upsample(features, target, repeat):\n",
    "    features_zeros = features[target == 0]\n",
    "    features_ones = features[target == 1]\n",
    "    target_zeros = target[target == 0]\n",
    "    target_ones = target[target == 1]\n",
    "\n",
    "    features_upsampled = pd.concat([features_zeros] + [features_ones] * repeat)\n",
    "    target_upsampled = pd.concat([target_zeros] + [target_ones] * repeat)\n",
    "    \n",
    "    features_upsampled, target_upsampled = shuffle(\n",
    "        features_upsampled, target_upsampled, random_state=12345)\n",
    "    \n",
    "    return features_upsampled, target_upsampled\n"
   ]
  },
  {
   "cell_type": "code",
   "execution_count": 457,
   "metadata": {},
   "outputs": [],
   "source": [
    "X_upsampled, y_upsampled = upsample(X_train, y_train, 4)"
   ]
  },
  {
   "cell_type": "code",
   "execution_count": 458,
   "metadata": {},
   "outputs": [
    {
     "data": {
      "text/plain": [
       "1    0.509964\n",
       "0    0.490036\n",
       "Name: Exited, dtype: float64"
      ]
     },
     "execution_count": 458,
     "metadata": {},
     "output_type": "execute_result"
    }
   ],
   "source": [
    "# проверяем\n",
    "class_frequency = y_upsampled.value_counts(normalize=True)\n",
    "class_frequency"
   ]
  },
  {
   "cell_type": "code",
   "execution_count": 459,
   "metadata": {},
   "outputs": [
    {
     "name": "stdout",
     "output_type": "stream",
     "text": [
      "RandomForestClassifier валидационная выборка F1: 0.6120556414219475\n",
      "RandomForestClassifier тестовая выборка F1: 0.609720176730486\n"
     ]
    }
   ],
   "source": [
    "# инициализируем модель RandomForestClassifier \n",
    "model = RandomForestClassifier(random_state=12345) #, n_estimators=50), max_depth=10h)\n",
    "        \n",
    "# обучим модель на тренировочной выборке\n",
    "model.fit(X_upsampled, y_upsampled)\n",
    "        \n",
    "# получим предсказания модели на валидационной выборке\n",
    "predicted_valid = model.predict(X_valid)\n",
    "print(\"RandomForestClassifier валидационная выборка F1:\", f1_score(y_valid, predicted_valid))\n",
    "\n",
    "predicted_valid = model.predict(X_test)\n",
    "print(\"RandomForestClassifier тестовая выборка F1:\", f1_score(y_test, predicted_valid))"
   ]
  },
  {
   "cell_type": "code",
   "execution_count": 460,
   "metadata": {},
   "outputs": [
    {
     "name": "stdout",
     "output_type": "stream",
     "text": [
      "LogisticRegression валидационная выборка F1: 0.4970414201183431\n",
      "LogisticRegression тестовая выборка F1: 0.5072463768115941\n"
     ]
    }
   ],
   "source": [
    "# инициализируем модель LogisticRegression \n",
    "model = LogisticRegression(solver='liblinear', random_state=12345) \n",
    "   \n",
    "# обучим модель на тренировочной выборке\n",
    "model.fit(X_upsampled, y_upsampled)\n",
    "    \n",
    "# получим предсказания модели на валидационной выборке\n",
    "predicted_valid = model.predict(X_valid)\n",
    "print(\"LogisticRegression валидационная выборка F1:\", f1_score(y_valid, predicted_valid))\n",
    "\n",
    "predicted_valid = model.predict(X_test)\n",
    "print(\"LogisticRegression тестовая выборка F1:\", f1_score(y_test, predicted_valid))"
   ]
  },
  {
   "cell_type": "markdown",
   "metadata": {},
   "source": [
    "**Вывод: Случайный лес с учетом нейтрализации дисбаланса классов, методом увеличения выборки, выдал метрику на тестовой выборке F1 = 0.609720176730486**\n",
    "\n",
    "**Логистическая регрессия также заметно улучшилась. F1 = 0.5072463768115941**"
   ]
  },
  {
   "cell_type": "markdown",
   "metadata": {},
   "source": [
    "### Метод уменьшения обучающей выборки"
   ]
  },
  {
   "cell_type": "code",
   "execution_count": 461,
   "metadata": {},
   "outputs": [],
   "source": [
    "# функция для уменьшения выборки \n",
    "def downsample(features, target, fraction):\n",
    "    \n",
    "    features_zeros = features[target == 0]\n",
    "    features_ones = features[target == 1]\n",
    "    target_zeros = target[target == 0]\n",
    "    target_ones = target[target == 1]\n",
    "\n",
    "    features_downsampled = pd.concat(\n",
    "        [features_zeros.sample(frac=fraction, random_state=12345)] + [features_ones]) \n",
    "    \n",
    "    target_downsampled = pd.concat(\n",
    "        [target_zeros.sample(frac=fraction, random_state=12345)] + [target_ones]) \n",
    "\n",
    "    features_downsampled, target_downsampled = shuffle(\n",
    "        features_downsampled, target_downsampled, random_state=12345)\n",
    " \n",
    "    return features_downsampled, target_downsampled\n"
   ]
  },
  {
   "cell_type": "code",
   "execution_count": 462,
   "metadata": {},
   "outputs": [],
   "source": [
    "X_downsampled, y_downsampled = downsample(X_train, y_train, 0.25)"
   ]
  },
  {
   "cell_type": "code",
   "execution_count": 463,
   "metadata": {},
   "outputs": [
    {
     "data": {
      "text/plain": [
       "1    0.509964\n",
       "0    0.490036\n",
       "Name: Exited, dtype: float64"
      ]
     },
     "execution_count": 463,
     "metadata": {},
     "output_type": "execute_result"
    }
   ],
   "source": [
    "# проверяем\n",
    "class_frequency = y_downsampled.value_counts(normalize=True)\n",
    "class_frequency"
   ]
  },
  {
   "cell_type": "code",
   "execution_count": 464,
   "metadata": {},
   "outputs": [
    {
     "name": "stdout",
     "output_type": "stream",
     "text": [
      "RandomForestClassifier валидационная выборка F1: 0.5627530364372471\n",
      "RandomForestClassifier тестовая выборка F1: 0.5862745098039216\n"
     ]
    }
   ],
   "source": [
    "# инициализируем модель RandomForestClassifier \n",
    "model = RandomForestClassifier(random_state=12345) #, n_estimators=50), max_depth=10h)\n",
    "        \n",
    "# обучим модель на тренировочной выборке\n",
    "model.fit(X_downsampled, y_downsampled)\n",
    "        \n",
    "# получим предсказания модели на валидационной выборке\n",
    "predicted_valid = model.predict(X_valid)\n",
    "print(\"RandomForestClassifier валидационная выборка F1:\", f1_score(y_valid, predicted_valid))\n",
    "\n",
    "predicted_valid = model.predict(X_test)\n",
    "print(\"RandomForestClassifier тестовая выборка F1:\", f1_score(y_test, predicted_valid))"
   ]
  },
  {
   "cell_type": "code",
   "execution_count": 465,
   "metadata": {},
   "outputs": [
    {
     "name": "stdout",
     "output_type": "stream",
     "text": [
      "LogisticRegression валидационная выборка F1: 0.48923679060665365\n",
      "LogisticRegression тестовая выборка F1: 0.5035971223021583\n"
     ]
    }
   ],
   "source": [
    "# инициализируем модель LogisticRegression \n",
    "model = LogisticRegression(solver='liblinear', random_state=12345) \n",
    "   \n",
    "# обучим модель на тренировочной выборке\n",
    "model.fit(X_downsampled, y_downsampled)\n",
    "    \n",
    "# получим предсказания модели на валидационной выборке\n",
    "predicted_valid = model.predict(X_valid)\n",
    "print(\"LogisticRegression валидационная выборка F1:\", f1_score(y_valid, predicted_valid))\n",
    "\n",
    "predicted_valid = model.predict(X_test)\n",
    "print(\"LogisticRegression тестовая выборка F1:\", f1_score(y_test, predicted_valid))"
   ]
  },
  {
   "cell_type": "markdown",
   "metadata": {},
   "source": [
    "**Вывод: Случайный лес с учетом нейтрализации дисбаланса классов методом уменьшения выборки выдал метрику на тестовой выборке F1 = 0.5862745098039216**\n",
    "\n",
    "**Логистическая регрессия F1 = 0.5035971223021583**\n",
    "\n",
    "**Вывод: По сравнению с методом увеличения выборки, результаты незначительно ухудшились.**"
   ]
  },
  {
   "cell_type": "markdown",
   "metadata": {},
   "source": [
    "### Тюнинг модели RandomForestClassifier"
   ]
  },
  {
   "cell_type": "markdown",
   "metadata": {},
   "source": [
    "Подберем гиперпараметры n_estimators и max_depth для RandomForestClassifier."
   ]
  },
  {
   "cell_type": "code",
   "execution_count": 475,
   "metadata": {},
   "outputs": [
    {
     "name": "stderr",
     "output_type": "stream",
     "text": [
      "<ipython-input-475-80efccd0c3d3>:13: TqdmDeprecationWarning: This function will be removed in tqdm==5.0.0\n",
      "Please use `tqdm.notebook.tqdm` instead of `tqdm.tqdm_notebook`\n",
      "  for est in tqdm_notebook(range(10, 100, 10)):\n"
     ]
    },
    {
     "data": {
      "application/vnd.jupyter.widget-view+json": {
       "model_id": "6b227f9bc2ed4ab2bb35e01ea9cc172a",
       "version_major": 2,
       "version_minor": 0
      },
      "text/plain": [
       "  0%|          | 0/9 [00:00<?, ?it/s]"
      ]
     },
     "metadata": {},
     "output_type": "display_data"
    }
   ],
   "source": [
    "best_model_randomforestclassifier_f1 = None\n",
    "\n",
    "best_f1 = 0\n",
    "best_auc_roc = 0\n",
    "best_est = 0\n",
    "best_depth = 0\n",
    "\n",
    "list_n_estimators = []\n",
    "list_max_depth = []\n",
    "list_f1_score = []\n",
    "list_auc_roc = []\n",
    "\n",
    "for est in tqdm_notebook(range(10, 100, 10)):  \n",
    "    \n",
    "    for depth in range (1, 20):\n",
    "        \n",
    "        #инициализируем модель RandomForestClassifier \n",
    "        model = RandomForestClassifier(random_state=12345, n_estimators=est, max_depth=depth)\n",
    "        \n",
    "        # обучим модель на тренировочной выборке\n",
    "        model.fit(X_upsampled, y_upsampled)\n",
    "        \n",
    "        # получим предсказания модели на валидационной выборке\n",
    "        predicted_valid = model.predict(X_valid) \n",
    "        \n",
    "        # посчитаем значение метрики f1 на валидационной выборке\n",
    "        f1_score_ = f1_score(y_valid, predicted_valid)\n",
    "        \n",
    "        # посчитаем значение метрики roc_auc на валидационной выборке \n",
    "        probabilities_valid = model.predict_proba(X_valid)\n",
    "        probabilities_one_valid = probabilities_valid[:, 1]\n",
    "        roc_auc_ = roc_auc_score(y_valid, probabilities_one_valid) \n",
    "        #print('est = {} depth = {} score = {}'.format(est,depth,score))\n",
    "        \n",
    "        list_n_estimators.append(est)\n",
    "        list_max_depth.append(depth)\n",
    "        list_f1_score.append(f1_score_)\n",
    "        list_auc_roc.append(roc_auc_)\n",
    "    \n",
    "        if f1_score_ > best_f1:\n",
    "            best_model_randomforestclassifier_f1 = model\n",
    "            best_f1 = f1_score_\n",
    "            best_depth = depth\n",
    "            best_est = est\n"
   ]
  },
  {
   "cell_type": "code",
   "execution_count": 467,
   "metadata": {},
   "outputs": [
    {
     "name": "stdout",
     "output_type": "stream",
     "text": [
      "\n",
      "RandomForestClassifier\n",
      "F1 наилучшей модели на валидационной выборке: 0.622356495468278 Количество деревьев: 70 Максимальная глубина: 18\n",
      "------------------------------------------------------------------------------------------------------------------------\n"
     ]
    }
   ],
   "source": [
    "print()\n",
    "print('RandomForestClassifier')\n",
    "print(\"F1 наилучшей модели на валидационной выборке:\", \n",
    "      best_f1, \"Количество деревьев:\", best_est, \"Максимальная глубина:\", best_depth)\n",
    "print(120*'-')"
   ]
  },
  {
   "cell_type": "markdown",
   "metadata": {},
   "source": [
    "Соберем наши данные по метрикам в датафрейм."
   ]
  },
  {
   "cell_type": "code",
   "execution_count": 468,
   "metadata": {},
   "outputs": [],
   "source": [
    "dictionary = {'n_estimators': list_n_estimators, 'depth': list_max_depth, 'f1': list_f1_score, 'auc_roc': list_auc_roc}\n",
    "df_score = pd.DataFrame(data=dictionary)"
   ]
  },
  {
   "cell_type": "code",
   "execution_count": 469,
   "metadata": {
    "scrolled": true
   },
   "outputs": [
    {
     "data": {
      "text/html": [
       "<div>\n",
       "<style scoped>\n",
       "    .dataframe tbody tr th:only-of-type {\n",
       "        vertical-align: middle;\n",
       "    }\n",
       "\n",
       "    .dataframe tbody tr th {\n",
       "        vertical-align: top;\n",
       "    }\n",
       "\n",
       "    .dataframe thead th {\n",
       "        text-align: right;\n",
       "    }\n",
       "</style>\n",
       "<table border=\"1\" class=\"dataframe\">\n",
       "  <thead>\n",
       "    <tr style=\"text-align: right;\">\n",
       "      <th></th>\n",
       "      <th>n_estimators</th>\n",
       "      <th>depth</th>\n",
       "      <th>f1</th>\n",
       "      <th>auc_roc</th>\n",
       "    </tr>\n",
       "  </thead>\n",
       "  <tbody>\n",
       "    <tr>\n",
       "      <th>131</th>\n",
       "      <td>70</td>\n",
       "      <td>18</td>\n",
       "      <td>0.622356</td>\n",
       "      <td>0.847892</td>\n",
       "    </tr>\n",
       "    <tr>\n",
       "      <th>166</th>\n",
       "      <td>90</td>\n",
       "      <td>15</td>\n",
       "      <td>0.615836</td>\n",
       "      <td>0.851959</td>\n",
       "    </tr>\n",
       "    <tr>\n",
       "      <th>90</th>\n",
       "      <td>50</td>\n",
       "      <td>15</td>\n",
       "      <td>0.614493</td>\n",
       "      <td>0.846055</td>\n",
       "    </tr>\n",
       "    <tr>\n",
       "      <th>128</th>\n",
       "      <td>70</td>\n",
       "      <td>15</td>\n",
       "      <td>0.612482</td>\n",
       "      <td>0.850309</td>\n",
       "    </tr>\n",
       "    <tr>\n",
       "      <th>147</th>\n",
       "      <td>80</td>\n",
       "      <td>15</td>\n",
       "      <td>0.612245</td>\n",
       "      <td>0.851461</td>\n",
       "    </tr>\n",
       "    <tr>\n",
       "      <th>...</th>\n",
       "      <td>...</td>\n",
       "      <td>...</td>\n",
       "      <td>...</td>\n",
       "      <td>...</td>\n",
       "    </tr>\n",
       "    <tr>\n",
       "      <th>152</th>\n",
       "      <td>90</td>\n",
       "      <td>1</td>\n",
       "      <td>0.496094</td>\n",
       "      <td>0.807552</td>\n",
       "    </tr>\n",
       "    <tr>\n",
       "      <th>76</th>\n",
       "      <td>50</td>\n",
       "      <td>1</td>\n",
       "      <td>0.494163</td>\n",
       "      <td>0.804342</td>\n",
       "    </tr>\n",
       "    <tr>\n",
       "      <th>95</th>\n",
       "      <td>60</td>\n",
       "      <td>1</td>\n",
       "      <td>0.492726</td>\n",
       "      <td>0.807916</td>\n",
       "    </tr>\n",
       "    <tr>\n",
       "      <th>38</th>\n",
       "      <td>30</td>\n",
       "      <td>1</td>\n",
       "      <td>0.490421</td>\n",
       "      <td>0.791645</td>\n",
       "    </tr>\n",
       "    <tr>\n",
       "      <th>0</th>\n",
       "      <td>10</td>\n",
       "      <td>1</td>\n",
       "      <td>0.476024</td>\n",
       "      <td>0.791798</td>\n",
       "    </tr>\n",
       "  </tbody>\n",
       "</table>\n",
       "<p>171 rows × 4 columns</p>\n",
       "</div>"
      ],
      "text/plain": [
       "     n_estimators  depth        f1   auc_roc\n",
       "131            70     18  0.622356  0.847892\n",
       "166            90     15  0.615836  0.851959\n",
       "90             50     15  0.614493  0.846055\n",
       "128            70     15  0.612482  0.850309\n",
       "147            80     15  0.612245  0.851461\n",
       "..            ...    ...       ...       ...\n",
       "152            90      1  0.496094  0.807552\n",
       "76             50      1  0.494163  0.804342\n",
       "95             60      1  0.492726  0.807916\n",
       "38             30      1  0.490421  0.791645\n",
       "0              10      1  0.476024  0.791798\n",
       "\n",
       "[171 rows x 4 columns]"
      ]
     },
     "execution_count": 469,
     "metadata": {},
     "output_type": "execute_result"
    }
   ],
   "source": [
    "df_score = df_score.sort_values(by=['f1', 'auc_roc'], ascending=False)\n",
    "df_score"
   ]
  },
  {
   "cell_type": "code",
   "execution_count": 470,
   "metadata": {},
   "outputs": [
    {
     "name": "stderr",
     "output_type": "stream",
     "text": [
      "c:\\users\\admin\\appdata\\local\\programs\\python\\python39\\lib\\site-packages\\seaborn\\regression.py:580: UserWarning: The `size` parameter has been renamed to `height`; please update your code.\n",
      "  warnings.warn(msg, UserWarning)\n"
     ]
    },
    {
     "data": {
      "text/plain": [
       "''"
      ]
     },
     "execution_count": 470,
     "metadata": {},
     "output_type": "execute_result"
    },
    {
     "data": {
      "image/png": "[encoded data removed]",
      "text/plain": [
       "<Figure size 1080x360 with 1 Axes>"
      ]
     },
     "metadata": {},
     "output_type": "display_data"
    }
   ],
   "source": [
    "sns.lmplot(x='f1', y='auc_roc', size=5, aspect=3, data=dfscore);\n",
    "plt.xlabel('Метрика F1')\n",
    "plt.ylabel('Метрика AUC_ROC')\n",
    "plt.title(\"Взаимодействие метрик F1 и AUC_ROC\")\n",
    ";\n"
   ]
  },
  {
   "cell_type": "markdown",
   "metadata": {},
   "source": [
    "**Для простроения окончательной модели выберем гиперпараметры n_estimators = 90\tи depth = 15. (это вторая строчка в df_score)\tПри таких параметрах: F1 = 0.615836, что больше порога 0.59 и auc_roc = 0.851959 - максимально.**"
   ]
  },
  {
   "cell_type": "markdown",
   "metadata": {},
   "source": [
    "Соберем окончательно, наиболее удачную модель."
   ]
  },
  {
   "cell_type": "code",
   "execution_count": 471,
   "metadata": {},
   "outputs": [],
   "source": [
    "#инициализируем модель RandomForestClassifier \n",
    "best_model = RandomForestClassifier(random_state=12345, n_estimators=90, max_depth=15)\n",
    "        \n",
    "# обучим модель на тренировочной выборке\n",
    "best_model.fit(X_upsampled, y_upsampled)\n",
    "\n",
    "probabilities_valid = best_model.predict_proba(X_valid)\n",
    "probabilities_one_valid = probabilities_valid[:, 1]\n"
   ]
  },
  {
   "cell_type": "markdown",
   "metadata": {},
   "source": [
    "Построим ROC кривую для нашей лучшей модели"
   ]
  },
  {
   "cell_type": "code",
   "execution_count": 472,
   "metadata": {},
   "outputs": [
    {
     "data": {
      "image/png": "[encoded data removed]",
      "text/plain": [
       "<Figure size 432x288 with 1 Axes>"
      ]
     },
     "metadata": {},
     "output_type": "display_data"
    },
    {
     "data": {
      "image/png": "[encoded data removed]",
      "text/plain": [
       "<Figure size 432x288 with 1 Axes>"
      ]
     },
     "metadata": {},
     "output_type": "display_data"
    }
   ],
   "source": [
    "fpr, tpr, thresholds = roc_curve(y_valid, probabilities_one_valid) \n",
    "\n",
    "# ROC-кривая случайной модели (выглядит как прямая)\n",
    "plt.plot([0, 1], [0, 1], linestyle='--')\n",
    "plt.xlabel('False Positive Rate')\n",
    "plt.ylabel('True Positive Rate')\n",
    "plt.title('ROC-кривая случайной модели')\n",
    "\n",
    "\n",
    "plt.figure()\n",
    "plt.plot(fpr, tpr)\n",
    "plt.xlim([0.0, 1.0])\n",
    "plt.ylim([0.0, 1.0])\n",
    "plt.xlabel('False Positive Rate')\n",
    "plt.ylabel('True Positive Rate')\n",
    "plt.title('ROC-кривая нашей модели')\n",
    "plt.show() \n",
    "\n",
    "plt.show()"
   ]
  },
  {
   "cell_type": "markdown",
   "metadata": {},
   "source": [
    "#### Важность признаков нашей лучшей модели"
   ]
  },
  {
   "cell_type": "markdown",
   "metadata": {},
   "source": [
    "идея заимствована здесь https://habr.com/ru/company/ruvds/blog/488342/"
   ]
  },
  {
   "cell_type": "code",
   "execution_count": 476,
   "metadata": {},
   "outputs": [
    {
     "data": {
      "image/png": "[encoded data removed]",
      "text/plain": [
       "<Figure size 2160x1080 with 1 Axes>"
      ]
     },
     "metadata": {},
     "output_type": "display_data"
    },
    {
     "data": {
      "text/plain": [
       "None"
      ]
     },
     "metadata": {},
     "output_type": "display_data"
    },
    {
     "data": {
      "text/html": [
       "<div>\n",
       "<style scoped>\n",
       "    .dataframe tbody tr th:only-of-type {\n",
       "        vertical-align: middle;\n",
       "    }\n",
       "\n",
       "    .dataframe tbody tr th {\n",
       "        vertical-align: top;\n",
       "    }\n",
       "\n",
       "    .dataframe thead th {\n",
       "        text-align: right;\n",
       "    }\n",
       "</style>\n",
       "<table border=\"1\" class=\"dataframe\">\n",
       "  <thead>\n",
       "    <tr style=\"text-align: right;\">\n",
       "      <th></th>\n",
       "      <th>Features</th>\n",
       "      <th>Gini-Importance</th>\n",
       "    </tr>\n",
       "  </thead>\n",
       "  <tbody>\n",
       "    <tr>\n",
       "      <th>0</th>\n",
       "      <td>Age</td>\n",
       "      <td>0.262375</td>\n",
       "    </tr>\n",
       "    <tr>\n",
       "      <th>1</th>\n",
       "      <td>Balance</td>\n",
       "      <td>0.140367</td>\n",
       "    </tr>\n",
       "    <tr>\n",
       "      <th>2</th>\n",
       "      <td>NumOfProducts</td>\n",
       "      <td>0.137418</td>\n",
       "    </tr>\n",
       "    <tr>\n",
       "      <th>3</th>\n",
       "      <td>EstimatedSalary</td>\n",
       "      <td>0.133972</td>\n",
       "    </tr>\n",
       "    <tr>\n",
       "      <th>4</th>\n",
       "      <td>CreditScore</td>\n",
       "      <td>0.127515</td>\n",
       "    </tr>\n",
       "    <tr>\n",
       "      <th>5</th>\n",
       "      <td>Tenure</td>\n",
       "      <td>0.075435</td>\n",
       "    </tr>\n",
       "    <tr>\n",
       "      <th>6</th>\n",
       "      <td>IsActiveMember</td>\n",
       "      <td>0.036941</td>\n",
       "    </tr>\n",
       "    <tr>\n",
       "      <th>7</th>\n",
       "      <td>Geography_Germany</td>\n",
       "      <td>0.033355</td>\n",
       "    </tr>\n",
       "    <tr>\n",
       "      <th>8</th>\n",
       "      <td>Gender_Male</td>\n",
       "      <td>0.021290</td>\n",
       "    </tr>\n",
       "    <tr>\n",
       "      <th>9</th>\n",
       "      <td>HasCrCard</td>\n",
       "      <td>0.016912</td>\n",
       "    </tr>\n",
       "    <tr>\n",
       "      <th>10</th>\n",
       "      <td>Geography_Spain</td>\n",
       "      <td>0.014421</td>\n",
       "    </tr>\n",
       "  </tbody>\n",
       "</table>\n",
       "</div>"
      ],
      "text/plain": [
       "             Features  Gini-Importance\n",
       "0                 Age         0.262375\n",
       "1             Balance         0.140367\n",
       "2       NumOfProducts         0.137418\n",
       "3     EstimatedSalary         0.133972\n",
       "4         CreditScore         0.127515\n",
       "5              Tenure         0.075435\n",
       "6      IsActiveMember         0.036941\n",
       "7   Geography_Germany         0.033355\n",
       "8         Gender_Male         0.021290\n",
       "9           HasCrCard         0.016912\n",
       "10    Geography_Spain         0.014421"
      ]
     },
     "metadata": {},
     "output_type": "display_data"
    }
   ],
   "source": [
    "feats = {}\n",
    "for feature, importance in zip(X_upsampled.columns, best_model.feature_importances_):\n",
    "    feats[feature] = importance\n",
    "    \n",
    "importances = pd.DataFrame.from_dict(feats, orient='index').rename(columns={0: 'Gini-Importance'})\n",
    "importances = importances.sort_values(by='Gini-Importance', ascending=False)\n",
    "importances = importances.reset_index()\n",
    "importances = importances.rename(columns={'index': 'Features'})\n",
    "\n",
    "sns.set(font_scale = 5)\n",
    "sns.set(style=\"whitegrid\", color_codes=True, font_scale = 1.7)\n",
    "fig, ax = plt.subplots()\n",
    "fig.set_size_inches(30,15)\n",
    "sns.barplot(x=importances['Gini-Importance'], y=importances['Features'], data=importances, color='skyblue')\n",
    "plt.xlabel('Importance', fontsize=25, weight = 'bold')\n",
    "plt.ylabel('Features', fontsize=25, weight = 'bold')\n",
    "plt.title('Feature Importance', fontsize=25, weight = 'bold')\n",
    "display(plt.show())\n",
    "display(importances)"
   ]
  },
  {
   "cell_type": "markdown",
   "metadata": {},
   "source": [
    "**Вывод: В процессе EDA, вручную, удалось спрогнозировать важность признаков Age, NumOfProducts.**"
   ]
  },
  {
   "cell_type": "markdown",
   "metadata": {},
   "source": [
    "## Тестирование модели"
   ]
  },
  {
   "cell_type": "markdown",
   "metadata": {},
   "source": [
    "Проведем окончательное тестирование нашей лучшей модели на заранее спрятанной тестовой выборке."
   ]
  },
  {
   "cell_type": "code",
   "execution_count": 474,
   "metadata": {},
   "outputs": [
    {
     "name": "stdout",
     "output_type": "stream",
     "text": [
      "Лучшая модель RandomForestClassifier (n_estimators = 90 и depth = 15), на тестовой выборка метрика F1: 0.6145251396648044\n",
      "Лучшая модель RandomForestClassifier (n_estimators = 90 и depth = 15), на тестовой выборка метрика AUC_ROC: 0.8606064901142552\n"
     ]
    }
   ],
   "source": [
    "# получим предсказания модели на тестовой выборке\n",
    "predicted_test = best_model.predict(X_test)\n",
    "print(\"Лучшая модель RandomForestClassifier (n_estimators = 90 и depth = 15), на тестовой выборка метрика F1:\", f1_score(y_test, predicted_test))\n",
    "\n",
    "probabilities_test = model.predict_proba(X_test)\n",
    "probabilities_one_test = probabilities_test[:, 1]\n",
    "auc_roc = roc_auc_score(y_test, probabilities_one_test) \n",
    "\n",
    "print(\"Лучшая модель RandomForestClassifier (n_estimators = 90 и depth = 15), на тестовой выборка метрика AUC_ROC:\", auc_roc)"
   ]
  },
  {
   "cell_type": "markdown",
   "metadata": {},
   "source": [
    "**Вывод: Достигнуты требуемые значения метрик F1 и AUC_ROC. F1 = 0.61 и AUC_ROC = 0.86.**"
   ]
  },
  {
   "cell_type": "markdown",
   "metadata": {},
   "source": [
    "## Выводы"
   ]
  },
  {
   "cell_type": "markdown",
   "metadata": {},
   "source": [
    "- Был проведен EDA предварительный анализ данных, для выявления важных признаков влияющих на отток клиетов. Выявлена важность признаков Age и NumOfProducts. В дальнейшем важность этих признаков подтвердилось, после построения модели.\n",
    "- Перед построением модели была проведена по технологии One-Hot Encoding подготовка категориальных признаков. \n",
    "- Отмасштабированы числовые признаки 'Balance', 'EstimatedSalary','CreditScore'.\n",
    "- Исследуемый датасет был разделен на обучающую, валидационную и тестовую выборки в пропорциях - (60:20:20)\n",
    "- Выявлен дисбаланс классов в пропорции 4:1\n",
    "\n",
    "Изучены модели LogisticRegression (F1 = 0.30) и RandomForestClassifier (F1 = 0.58) без учёта борьбы с дисбалансом. Сделан вывод о необходимости нейтрализации дисбаланса. Борьба с дисбалансом проводилась двумя методами: увеличением и уменьшением ваборки. Окончательно выбран метод увеличения выборки. В результате, метрика улучшилась для обеих моделей: LogisticRegression (F1 = 0.50) и RandomForestClassifier (F1 = 0.61) \n",
    "\n",
    "Окончательный выбор сделан в пользу RandomForestClassifier. \n",
    "\n",
    "Проведено исследование на сетке гиперпараметров n_estimators и max_depth для RandomForestClassifier. Построени график взаимного влияния для метрик F1 и AUC_ROC. Выбраны наилучшие гиперпараметры (n_estimators = 90 и depth = 15), с точки зрения баланса интересов метрик F1 и AUC_ROC.\n",
    "\n",
    "**Окончательное тестирование построенной модели показало значение метрик  F1 = 0.61 и AUC_ROC = 0.86.**\n",
    "\n",
    "Результат достигнут."
   ]
  }
 ],
 "metadata": {
  "kernelspec": {
   "display_name": "Python 3",
   "language": "python",
   "name": "python3"
  },
  "language_info": {
   "codemirror_mode": {
    "name": "ipython",
    "version": 3
   },
   "file_extension": ".py",
   "mimetype": "text/x-python",
   "name": "python",
   "nbconvert_exporter": "python",
   "pygments_lexer": "ipython3",
   "version": "3.9.0"
  },
  "toc": {
   "base_numbering": 1,
   "nav_menu": {},
   "number_sections": true,
   "sideBar": true,
   "skip_h1_title": true,
   "title_cell": "Содержание",
   "title_sidebar": "Contents",
   "toc_cell": true,
   "toc_position": {
    "height": "calc(100% - 180px)",
    "left": "10px",
    "top": "150px",
    "width": "287px"
   },
   "toc_section_display": true,
   "toc_window_display": true
  }
 },
 "nbformat": 4,
 "nbformat_minor": 2
}
