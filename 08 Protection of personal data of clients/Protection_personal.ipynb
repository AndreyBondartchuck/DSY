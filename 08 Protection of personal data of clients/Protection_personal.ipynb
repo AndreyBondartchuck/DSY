{
 "cells": [
  {
   "cell_type": "markdown",
   "metadata": {
    "toc": true
   },
   "source": [
    "<h1>Содержание<span class=\"tocSkip\"></span></h1>\n",
    "<div class=\"toc\"><ul class=\"toc-item\"><li><span><a href=\"#Инструкция-по-выполнению-проекта\" data-toc-modified-id=\"Инструкция-по-выполнению-проекта-1\"><span class=\"toc-item-num\">1&nbsp;&nbsp;</span>Инструкция по выполнению проекта</a></span></li><li><span><a href=\"#Загрузка-данных\" data-toc-modified-id=\"Загрузка-данных-2\"><span class=\"toc-item-num\">2&nbsp;&nbsp;</span>Загрузка данных</a></span></li><li><span><a href=\"#Алгоритм-преобразования\" data-toc-modified-id=\"Алгоритм-преобразования-3\"><span class=\"toc-item-num\">3&nbsp;&nbsp;</span>Алгоритм преобразования</a></span></li><li><span><a href=\"#Проверка-алгоритма\" data-toc-modified-id=\"Проверка-алгоритма-4\"><span class=\"toc-item-num\">4&nbsp;&nbsp;</span>Проверка алгоритма</a></span></li><li><span><a href=\"#Чек-лист-проверки\" data-toc-modified-id=\"Чек-лист-проверки-5\"><span class=\"toc-item-num\">5&nbsp;&nbsp;</span>Чек-лист проверки</a></span></li></ul></div>"
   ]
  },
  {
   "cell_type": "markdown",
   "metadata": {},
   "source": [
    "# Защита персональных данных клиентов"
   ]
  },
  {
   "cell_type": "markdown",
   "metadata": {},
   "source": [
    "Вам нужно защитить данные клиентов страховой компании «Хоть потоп». Разработайте такой метод преобразования данных, чтобы по ним было сложно восстановить персональную информацию. Обоснуйте корректность его работы.\n",
    "\n",
    "Нужно защитить данные, чтобы при преобразовании качество моделей машинного обучения не ухудшилось. Подбирать наилучшую модель не требуется."
   ]
  },
  {
   "cell_type": "markdown",
   "metadata": {},
   "source": [
    "## Инструкция по выполнению проекта"
   ]
  },
  {
   "cell_type": "markdown",
   "metadata": {},
   "source": [
    "Загрузите и изучите данные.\n",
    "\n",
    "Ответьте на вопрос и обоснуйте решение.\n",
    "\n",
    "Признаки умножают на обратимую матрицу. Изменится ли качество линейной регрессии? (Её можно обучить заново.)\n",
    "- a. Изменится. Приведите примеры матриц.\n",
    "- b. Не изменится. Укажите, как связаны параметры линейной регрессии в исходной задаче и в преобразованной.\n",
    "Предложите алгоритм преобразования данных для решения задачи. \n",
    "\n",
    "Обоснуйте, почему качество линейной регрессии не поменяется.\n",
    "\n",
    "Запрограммируйте этот алгоритм, применив матричные операции. Проверьте, что качество линейной регрессии из sklearn не отличается до и после преобразования. Примените метрику R2."
   ]
  },
  {
   "cell_type": "markdown",
   "metadata": {},
   "source": [
    "## Загрузка данных"
   ]
  },
  {
   "cell_type": "markdown",
   "metadata": {},
   "source": [
    "Описание данных.\n",
    "\n",
    "Набор данных находится в файле /datasets/insurance.csv. \n",
    "- Признаки: пол, возраст и зарплата застрахованного, количество членов его семьи.\n",
    "- Целевой признак: количество страховых выплат клиенту за последние 5 лет."
   ]
  },
  {
   "cell_type": "code",
   "execution_count": 1,
   "metadata": {},
   "outputs": [],
   "source": [
    "# подключаем необходимые библиотеки\n",
    "import pandas as pd\n",
    "import numpy as np\n",
    "\n",
    "from sklearn.linear_model import LinearRegression\n",
    "from sklearn.model_selection import train_test_split\n",
    "from sklearn.metrics import r2_score"
   ]
  },
  {
   "cell_type": "code",
   "execution_count": 2,
   "metadata": {},
   "outputs": [],
   "source": [
    "local = False\n",
    "if local:\n",
    "    df = pd.read_csv('./datasets/insurance.csv')\n",
    "else:\n",
    "    url = \"https://drive.google.com/file/d/1vTi31dg31zJ1FHNvGrOU6pbRXtaT_JWg/view?usp=sharing\"\n",
    "    path = 'https://drive.google.com/uc?export=download&id='+ url.split('/')[-2]\n",
    "    df = pd.read_csv(path)    "
   ]
  },
  {
   "cell_type": "code",
   "execution_count": 3,
   "metadata": {},
   "outputs": [
    {
     "data": {
      "text/html": [
       "<div>\n",
       "<style scoped>\n",
       "    .dataframe tbody tr th:only-of-type {\n",
       "        vertical-align: middle;\n",
       "    }\n",
       "\n",
       "    .dataframe tbody tr th {\n",
       "        vertical-align: top;\n",
       "    }\n",
       "\n",
       "    .dataframe thead th {\n",
       "        text-align: right;\n",
       "    }\n",
       "</style>\n",
       "<table border=\"1\" class=\"dataframe\">\n",
       "  <thead>\n",
       "    <tr style=\"text-align: right;\">\n",
       "      <th></th>\n",
       "      <th>Пол</th>\n",
       "      <th>Возраст</th>\n",
       "      <th>Зарплата</th>\n",
       "      <th>Члены семьи</th>\n",
       "      <th>Страховые выплаты</th>\n",
       "    </tr>\n",
       "  </thead>\n",
       "  <tbody>\n",
       "    <tr>\n",
       "      <th>0</th>\n",
       "      <td>1</td>\n",
       "      <td>41.0</td>\n",
       "      <td>49600.0</td>\n",
       "      <td>1</td>\n",
       "      <td>0</td>\n",
       "    </tr>\n",
       "    <tr>\n",
       "      <th>1</th>\n",
       "      <td>0</td>\n",
       "      <td>46.0</td>\n",
       "      <td>38000.0</td>\n",
       "      <td>1</td>\n",
       "      <td>1</td>\n",
       "    </tr>\n",
       "    <tr>\n",
       "      <th>2</th>\n",
       "      <td>0</td>\n",
       "      <td>29.0</td>\n",
       "      <td>21000.0</td>\n",
       "      <td>0</td>\n",
       "      <td>0</td>\n",
       "    </tr>\n",
       "    <tr>\n",
       "      <th>3</th>\n",
       "      <td>0</td>\n",
       "      <td>21.0</td>\n",
       "      <td>41700.0</td>\n",
       "      <td>2</td>\n",
       "      <td>0</td>\n",
       "    </tr>\n",
       "    <tr>\n",
       "      <th>4</th>\n",
       "      <td>1</td>\n",
       "      <td>28.0</td>\n",
       "      <td>26100.0</td>\n",
       "      <td>0</td>\n",
       "      <td>0</td>\n",
       "    </tr>\n",
       "  </tbody>\n",
       "</table>\n",
       "</div>"
      ],
      "text/plain": [
       "   Пол  Возраст  Зарплата  Члены семьи  Страховые выплаты\n",
       "0    1     41.0   49600.0            1                  0\n",
       "1    0     46.0   38000.0            1                  1\n",
       "2    0     29.0   21000.0            0                  0\n",
       "3    0     21.0   41700.0            2                  0\n",
       "4    1     28.0   26100.0            0                  0"
      ]
     },
     "execution_count": 3,
     "metadata": {},
     "output_type": "execute_result"
    }
   ],
   "source": [
    "df.head(5) #sample(10,random_state = 42)"
   ]
  },
  {
   "cell_type": "code",
   "execution_count": 4,
   "metadata": {},
   "outputs": [
    {
     "name": "stdout",
     "output_type": "stream",
     "text": [
      "<class 'pandas.core.frame.DataFrame'>\n",
      "RangeIndex: 5000 entries, 0 to 4999\n",
      "Data columns (total 5 columns):\n",
      " #   Column             Non-Null Count  Dtype  \n",
      "---  ------             --------------  -----  \n",
      " 0   Пол                5000 non-null   int64  \n",
      " 1   Возраст            5000 non-null   float64\n",
      " 2   Зарплата           5000 non-null   float64\n",
      " 3   Члены семьи        5000 non-null   int64  \n",
      " 4   Страховые выплаты  5000 non-null   int64  \n",
      "dtypes: float64(2), int64(3)\n",
      "memory usage: 195.4 KB\n"
     ]
    }
   ],
   "source": [
    "df.info()"
   ]
  },
  {
   "cell_type": "code",
   "execution_count": 5,
   "metadata": {},
   "outputs": [
    {
     "data": {
      "text/html": [
       "<div>\n",
       "<style scoped>\n",
       "    .dataframe tbody tr th:only-of-type {\n",
       "        vertical-align: middle;\n",
       "    }\n",
       "\n",
       "    .dataframe tbody tr th {\n",
       "        vertical-align: top;\n",
       "    }\n",
       "\n",
       "    .dataframe thead th {\n",
       "        text-align: right;\n",
       "    }\n",
       "</style>\n",
       "<table border=\"1\" class=\"dataframe\">\n",
       "  <thead>\n",
       "    <tr style=\"text-align: right;\">\n",
       "      <th></th>\n",
       "      <th>count</th>\n",
       "      <th>mean</th>\n",
       "      <th>std</th>\n",
       "      <th>min</th>\n",
       "      <th>25%</th>\n",
       "      <th>50%</th>\n",
       "      <th>75%</th>\n",
       "      <th>max</th>\n",
       "    </tr>\n",
       "  </thead>\n",
       "  <tbody>\n",
       "    <tr>\n",
       "      <th>Пол</th>\n",
       "      <td>5000.0</td>\n",
       "      <td>0.4990</td>\n",
       "      <td>0.500049</td>\n",
       "      <td>0.0</td>\n",
       "      <td>0.0</td>\n",
       "      <td>0.0</td>\n",
       "      <td>1.0</td>\n",
       "      <td>1.0</td>\n",
       "    </tr>\n",
       "    <tr>\n",
       "      <th>Возраст</th>\n",
       "      <td>5000.0</td>\n",
       "      <td>30.9528</td>\n",
       "      <td>8.440807</td>\n",
       "      <td>18.0</td>\n",
       "      <td>24.0</td>\n",
       "      <td>30.0</td>\n",
       "      <td>37.0</td>\n",
       "      <td>65.0</td>\n",
       "    </tr>\n",
       "    <tr>\n",
       "      <th>Зарплата</th>\n",
       "      <td>5000.0</td>\n",
       "      <td>39916.3600</td>\n",
       "      <td>9900.083569</td>\n",
       "      <td>5300.0</td>\n",
       "      <td>33300.0</td>\n",
       "      <td>40200.0</td>\n",
       "      <td>46600.0</td>\n",
       "      <td>79000.0</td>\n",
       "    </tr>\n",
       "    <tr>\n",
       "      <th>Члены семьи</th>\n",
       "      <td>5000.0</td>\n",
       "      <td>1.1942</td>\n",
       "      <td>1.091387</td>\n",
       "      <td>0.0</td>\n",
       "      <td>0.0</td>\n",
       "      <td>1.0</td>\n",
       "      <td>2.0</td>\n",
       "      <td>6.0</td>\n",
       "    </tr>\n",
       "    <tr>\n",
       "      <th>Страховые выплаты</th>\n",
       "      <td>5000.0</td>\n",
       "      <td>0.1480</td>\n",
       "      <td>0.463183</td>\n",
       "      <td>0.0</td>\n",
       "      <td>0.0</td>\n",
       "      <td>0.0</td>\n",
       "      <td>0.0</td>\n",
       "      <td>5.0</td>\n",
       "    </tr>\n",
       "  </tbody>\n",
       "</table>\n",
       "</div>"
      ],
      "text/plain": [
       "                    count        mean          std     min      25%      50%  \\\n",
       "Пол                5000.0      0.4990     0.500049     0.0      0.0      0.0   \n",
       "Возраст            5000.0     30.9528     8.440807    18.0     24.0     30.0   \n",
       "Зарплата           5000.0  39916.3600  9900.083569  5300.0  33300.0  40200.0   \n",
       "Члены семьи        5000.0      1.1942     1.091387     0.0      0.0      1.0   \n",
       "Страховые выплаты  5000.0      0.1480     0.463183     0.0      0.0      0.0   \n",
       "\n",
       "                       75%      max  \n",
       "Пол                    1.0      1.0  \n",
       "Возраст               37.0     65.0  \n",
       "Зарплата           46600.0  79000.0  \n",
       "Члены семьи            2.0      6.0  \n",
       "Страховые выплаты      0.0      5.0  "
      ]
     },
     "execution_count": 5,
     "metadata": {},
     "output_type": "execute_result"
    }
   ],
   "source": [
    "df.describe().T"
   ]
  },
  {
   "cell_type": "markdown",
   "metadata": {},
   "source": [
    "**Вывод: Пропусков - нет. Аномалий - нет.**"
   ]
  },
  {
   "cell_type": "markdown",
   "metadata": {},
   "source": [
    "## Алгоритм преобразования"
   ]
  },
  {
   "cell_type": "markdown",
   "metadata": {},
   "source": [
    "Обозначения:\n",
    "\n",
    "- $X$ — матрица признаков (нулевой столбец состоит из единиц)\n",
    "\n",
    "- $y$ — вектор целевого признака\n",
    "\n",
    "- $P$ — матрица, на которую умножаются признаки\n",
    "\n",
    "- $w$ — вектор весов линейной регрессии (нулевой элемент равен сдвигу)"
   ]
  },
  {
   "cell_type": "markdown",
   "metadata": {},
   "source": [
    "Предсказания:\n",
    "$$\n",
    "a = Xw\n",
    "$$\n",
    "Задача обучения:\n",
    "$$\n",
    "w = \\arg\\min_w MSE(Xw, y)\n",
    "$$\n",
    "Формула обучения:\n",
    "$$\n",
    "w = (X^T X)^{-1} X^T y\n",
    "$$"
   ]
  },
  {
   "cell_type": "markdown",
   "metadata": {},
   "source": [
    "**Алгоритм**\n",
    "\n",
    "Умножим матрицу наших признаков на произвольную обратимую матрицу. Это позволит исказить визуально данные, но при этом мы имеем возможность восстановления исходных данных.\n",
    "$\n",
    "𝑋' = X P\n",
    "$"
   ]
  },
  {
   "cell_type": "markdown",
   "metadata": {},
   "source": [
    "**Обоснование непротиворечивости алгоритма**\n"
   ]
  },
  {
   "cell_type": "markdown",
   "metadata": {},
   "source": [
    "Для доказательства понадобиться следующее утверждение из курса линейной алгебры:\n",
    "\n",
    "Транспонированное произведение матриц  равно произведению двух транспонированных матриц, перемноженных в обратной последовательности: \n",
    "$\n",
    "(AB)^T = B^T A^T\n",
    "$\n",
    "\n",
    "Произведение обратных матриц подчиняется тому же свойству перестановки сомножителей, что и произведение транспонированных матриц, а именно\n",
    "$\n",
    "(AB)^{-1} = B^{-1} A^{-1}\n",
    "$\n"
   ]
  },
  {
   "cell_type": "markdown",
   "metadata": {},
   "source": [
    "Распишем новую формулу обучения:\n",
    "\n",
    "$\n",
    "w' = ((X𝑃)^T X𝑃)^{-1} (X𝑃)^T y = (X𝑃)^{-1} ((X𝑃)^T)^{-1} 𝑃^T X^T y = (𝑃)^{-1} (X)^{-1} (𝑃^T X^T)^{-1} 𝑃^T X^T y = (𝑃)^{-1} (X)^{-1} (X^T)^{-1} (𝑃^T)^{-1} 𝑃^T X^T y\n",
    "$\n",
    "\n",
    "так, как:\n",
    "$\n",
    "(𝑃^T)^{-1} 𝑃^T = E\n",
    "$\n",
    "\n",
    "то можно сократить и тогда получим:\n",
    "\n",
    "$\n",
    "w' = (𝑃)^{-1} (X^T X)^{-1} X^T y\n",
    "$\n",
    "\n",
    "в результате параметры модели будут преобразовываться по формуле\n",
    "\n",
    "$\n",
    "𝑤′ = (𝑃)^{-1} w\n",
    "$\n"
   ]
  },
  {
   "cell_type": "markdown",
   "metadata": {},
   "source": [
    "Посмотрим чему, же будут равны новые предсказания:\n",
    "\n",
    "$$\n",
    "a′ = X'w' = X P (𝑃)^{-1} w = X w = a\n",
    "$$\n",
    "\n",
    "то есть предсказания не изменятся!"
   ]
  },
  {
   "cell_type": "markdown",
   "metadata": {},
   "source": [
    "**Вывод: Мы доказали, что при преобразовании признаков путем умножения признаков на обратимую матрицу предсказания не изменятся.**"
   ]
  },
  {
   "cell_type": "markdown",
   "metadata": {},
   "source": [
    "## Проверка алгоритма"
   ]
  },
  {
   "cell_type": "code",
   "execution_count": 6,
   "metadata": {},
   "outputs": [],
   "source": [
    "y = df['Страховые выплаты'].copy()\n",
    "X = df.drop('Страховые выплаты', axis=1).copy()"
   ]
  },
  {
   "cell_type": "code",
   "execution_count": 7,
   "metadata": {},
   "outputs": [
    {
     "data": {
      "text/html": [
       "<div>\n",
       "<style scoped>\n",
       "    .dataframe tbody tr th:only-of-type {\n",
       "        vertical-align: middle;\n",
       "    }\n",
       "\n",
       "    .dataframe tbody tr th {\n",
       "        vertical-align: top;\n",
       "    }\n",
       "\n",
       "    .dataframe thead th {\n",
       "        text-align: right;\n",
       "    }\n",
       "</style>\n",
       "<table border=\"1\" class=\"dataframe\">\n",
       "  <thead>\n",
       "    <tr style=\"text-align: right;\">\n",
       "      <th></th>\n",
       "      <th>Пол</th>\n",
       "      <th>Возраст</th>\n",
       "      <th>Зарплата</th>\n",
       "      <th>Члены семьи</th>\n",
       "    </tr>\n",
       "  </thead>\n",
       "  <tbody>\n",
       "    <tr>\n",
       "      <th>Пол</th>\n",
       "      <td>1.000000</td>\n",
       "      <td>0.002074</td>\n",
       "      <td>0.014910</td>\n",
       "      <td>-0.008991</td>\n",
       "    </tr>\n",
       "    <tr>\n",
       "      <th>Возраст</th>\n",
       "      <td>0.002074</td>\n",
       "      <td>1.000000</td>\n",
       "      <td>-0.019093</td>\n",
       "      <td>-0.006692</td>\n",
       "    </tr>\n",
       "    <tr>\n",
       "      <th>Зарплата</th>\n",
       "      <td>0.014910</td>\n",
       "      <td>-0.019093</td>\n",
       "      <td>1.000000</td>\n",
       "      <td>-0.030296</td>\n",
       "    </tr>\n",
       "    <tr>\n",
       "      <th>Члены семьи</th>\n",
       "      <td>-0.008991</td>\n",
       "      <td>-0.006692</td>\n",
       "      <td>-0.030296</td>\n",
       "      <td>1.000000</td>\n",
       "    </tr>\n",
       "  </tbody>\n",
       "</table>\n",
       "</div>"
      ],
      "text/plain": [
       "                  Пол   Возраст  Зарплата  Члены семьи\n",
       "Пол          1.000000  0.002074  0.014910    -0.008991\n",
       "Возраст      0.002074  1.000000 -0.019093    -0.006692\n",
       "Зарплата     0.014910 -0.019093  1.000000    -0.030296\n",
       "Члены семьи -0.008991 -0.006692 -0.030296     1.000000"
      ]
     },
     "execution_count": 7,
     "metadata": {},
     "output_type": "execute_result"
    }
   ],
   "source": [
    "# проверка на мультиколлинеарность\n",
    "X.corr()"
   ]
  },
  {
   "cell_type": "markdown",
   "metadata": {},
   "source": [
    "Мультиколлинеарных признаков - нет."
   ]
  },
  {
   "cell_type": "markdown",
   "metadata": {},
   "source": [
    "**В качестве метрики используется коэффициент детерминированости - R2, определение из scikit-learn.org**"
   ]
  },
  {
   "cell_type": "markdown",
   "metadata": {},
   "source": [
    "https://scikit-learn.org/stable/modules/generated/sklearn.linear_model.LinearRegression.html?highlight=linearregression#sklearn.linear_model.LinearRegression.get_params"
   ]
  },
  {
   "attachments": {
    "image.png": {
     "image/png": "[encoded data removed]"
    }
   },
   "cell_type": "markdown",
   "metadata": {},
   "source": [
    "![image.png](attachment:image.png)"
   ]
  },
  {
   "cell_type": "code",
   "execution_count": 8,
   "metadata": {},
   "outputs": [],
   "source": [
    "def ModelLinearRegression(X,y):\n",
    "    # отделим 25% данных для валидационной + обучающейq выборки\n",
    "    X_train, X_valid, y_train, y_valid = train_test_split(X, y, test_size=0.25, random_state=42)\n",
    "    model = LinearRegression()\n",
    "    model.fit(X_train, y_train)\n",
    "    predicted_valid = model.predict(X_valid)\n",
    "    score = r2_score(y_valid, predicted_valid)\n",
    "    return score, model.coef_"
   ]
  },
  {
   "cell_type": "code",
   "execution_count": 9,
   "metadata": {},
   "outputs": [
    {
     "name": "stdout",
     "output_type": "stream",
     "text": [
      "Метрика R2 до преобразования признаков =  0.42547785406963123\n"
     ]
    }
   ],
   "source": [
    "R2, coef = ModelLinearRegression(X, y)\n",
    "print('Метрика R2 до преобразования признаков = ',R2)"
   ]
  },
  {
   "cell_type": "code",
   "execution_count": 10,
   "metadata": {},
   "outputs": [
    {
     "data": {
      "text/plain": [
       "array([ 4.92432086e-03,  3.51527196e-02, -2.45796619e-07, -1.49140089e-02])"
      ]
     },
     "execution_count": 10,
     "metadata": {},
     "output_type": "execute_result"
    }
   ],
   "source": [
    "coef"
   ]
  },
  {
   "cell_type": "markdown",
   "metadata": {},
   "source": [
    "Посмотрим R2 для константной модели. Где все предсказания равны среднему значению целевого признака."
   ]
  },
  {
   "cell_type": "code",
   "execution_count": 11,
   "metadata": {},
   "outputs": [],
   "source": [
    "y_const = [y.mean()]*len(y)"
   ]
  },
  {
   "cell_type": "code",
   "execution_count": 12,
   "metadata": {},
   "outputs": [
    {
     "name": "stdout",
     "output_type": "stream",
     "text": [
      "Метрика R2 константной модели =  0.0\n"
     ]
    }
   ],
   "source": [
    "print('Метрика R2 константной модели = ',r2_score(y, y_const))"
   ]
  },
  {
   "cell_type": "markdown",
   "metadata": {},
   "source": [
    "Матрицу для преобразования получим из случайного гауссового распределения"
   ]
  },
  {
   "cell_type": "code",
   "execution_count": 13,
   "metadata": {},
   "outputs": [
    {
     "data": {
      "text/plain": [
       "array([[  50.,  -14.,   65.,  152.],\n",
       "       [ -23.,  -23.,  158.,   77.],\n",
       "       [ -47.,   54.,  -46.,  -47.],\n",
       "       [  24., -191., -172.,  -56.]])"
      ]
     },
     "execution_count": 13,
     "metadata": {},
     "output_type": "execute_result"
    }
   ],
   "source": [
    "np.random.seed(42)\n",
    "P = np.rint(np.random.normal(0, 1, size=(4, 4)) * 100)\n",
    "P"
   ]
  },
  {
   "cell_type": "markdown",
   "metadata": {},
   "source": [
    "Проверим матрицу на обратимось."
   ]
  },
  {
   "cell_type": "code",
   "execution_count": 14,
   "metadata": {},
   "outputs": [
    {
     "data": {
      "text/plain": [
       "array([[-0.0034517 , -0.01033671, -0.02235242, -0.00482179],\n",
       "       [ 0.00131299, -0.00479504,  0.00153748, -0.00431975],\n",
       "       [-0.00521705,  0.00339131, -0.0084416 , -0.00241261],\n",
       "       [ 0.01006628,  0.00150835,  0.01110427,  0.00221995]])"
      ]
     },
     "execution_count": 14,
     "metadata": {},
     "output_type": "execute_result"
    }
   ],
   "source": [
    "try:\n",
    "    inv_P = np.linalg.inv(P)\n",
    "except:\n",
    "    print('Матрица необратима!')\n",
    "inv_P"
   ]
  },
  {
   "cell_type": "code",
   "execution_count": 15,
   "metadata": {},
   "outputs": [
    {
     "data": {
      "text/plain": [
       "array([[ 1.,  0., -0., -0.],\n",
       "       [-0.,  1.,  0.,  0.],\n",
       "       [ 0., -0.,  1.,  0.],\n",
       "       [-0., -0.,  0.,  1.]])"
      ]
     },
     "execution_count": 15,
     "metadata": {},
     "output_type": "execute_result"
    }
   ],
   "source": [
    "# проверим результат, должна получится единичная матрица при умножении P и inv_P\n",
    "E = np.rint(P @ inv_P)\n",
    "E"
   ]
  },
  {
   "cell_type": "markdown",
   "metadata": {},
   "source": [
    "Проведем преобразование признаков и посмотрим на результат"
   ]
  },
  {
   "cell_type": "code",
   "execution_count": 16,
   "metadata": {},
   "outputs": [
    {
     "data": {
      "text/html": [
       "<div>\n",
       "<style scoped>\n",
       "    .dataframe tbody tr th:only-of-type {\n",
       "        vertical-align: middle;\n",
       "    }\n",
       "\n",
       "    .dataframe tbody tr th {\n",
       "        vertical-align: top;\n",
       "    }\n",
       "\n",
       "    .dataframe thead th {\n",
       "        text-align: right;\n",
       "    }\n",
       "</style>\n",
       "<table border=\"1\" class=\"dataframe\">\n",
       "  <thead>\n",
       "    <tr style=\"text-align: right;\">\n",
       "      <th></th>\n",
       "      <th>0</th>\n",
       "      <th>1</th>\n",
       "      <th>2</th>\n",
       "      <th>3</th>\n",
       "    </tr>\n",
       "  </thead>\n",
       "  <tbody>\n",
       "    <tr>\n",
       "      <th>0</th>\n",
       "      <td>-2332069.0</td>\n",
       "      <td>2677252.0</td>\n",
       "      <td>-2275229.0</td>\n",
       "      <td>-2327947.0</td>\n",
       "    </tr>\n",
       "    <tr>\n",
       "      <th>1</th>\n",
       "      <td>-1787034.0</td>\n",
       "      <td>2050751.0</td>\n",
       "      <td>-1740904.0</td>\n",
       "      <td>-1782514.0</td>\n",
       "    </tr>\n",
       "    <tr>\n",
       "      <th>2</th>\n",
       "      <td>-987667.0</td>\n",
       "      <td>1133333.0</td>\n",
       "      <td>-961418.0</td>\n",
       "      <td>-984767.0</td>\n",
       "    </tr>\n",
       "    <tr>\n",
       "      <th>3</th>\n",
       "      <td>-1960335.0</td>\n",
       "      <td>2250935.0</td>\n",
       "      <td>-1915226.0</td>\n",
       "      <td>-1958395.0</td>\n",
       "    </tr>\n",
       "    <tr>\n",
       "      <th>4</th>\n",
       "      <td>-1227294.0</td>\n",
       "      <td>1408742.0</td>\n",
       "      <td>-1196111.0</td>\n",
       "      <td>-1224392.0</td>\n",
       "    </tr>\n",
       "    <tr>\n",
       "      <th>...</th>\n",
       "      <td>...</td>\n",
       "      <td>...</td>\n",
       "      <td>...</td>\n",
       "      <td>...</td>\n",
       "    </tr>\n",
       "    <tr>\n",
       "      <th>4995</th>\n",
       "      <td>-1678496.0</td>\n",
       "      <td>1926774.0</td>\n",
       "      <td>-1638120.0</td>\n",
       "      <td>-1675856.0</td>\n",
       "    </tr>\n",
       "    <tr>\n",
       "      <th>4996</th>\n",
       "      <td>-2463558.0</td>\n",
       "      <td>2828627.0</td>\n",
       "      <td>-2405200.0</td>\n",
       "      <td>-2460238.0</td>\n",
       "    </tr>\n",
       "    <tr>\n",
       "      <th>4997</th>\n",
       "      <td>-1593712.0</td>\n",
       "      <td>1829758.0</td>\n",
       "      <td>-1556584.0</td>\n",
       "      <td>-1591872.0</td>\n",
       "    </tr>\n",
       "    <tr>\n",
       "      <th>4998</th>\n",
       "      <td>-1537284.0</td>\n",
       "      <td>1764707.0</td>\n",
       "      <td>-1501175.0</td>\n",
       "      <td>-1535222.0</td>\n",
       "    </tr>\n",
       "    <tr>\n",
       "      <th>4999</th>\n",
       "      <td>-1908770.0</td>\n",
       "      <td>2191551.0</td>\n",
       "      <td>-1863283.0</td>\n",
       "      <td>-1905948.0</td>\n",
       "    </tr>\n",
       "  </tbody>\n",
       "</table>\n",
       "<p>5000 rows × 4 columns</p>\n",
       "</div>"
      ],
      "text/plain": [
       "              0          1          2          3\n",
       "0    -2332069.0  2677252.0 -2275229.0 -2327947.0\n",
       "1    -1787034.0  2050751.0 -1740904.0 -1782514.0\n",
       "2     -987667.0  1133333.0  -961418.0  -984767.0\n",
       "3    -1960335.0  2250935.0 -1915226.0 -1958395.0\n",
       "4    -1227294.0  1408742.0 -1196111.0 -1224392.0\n",
       "...         ...        ...        ...        ...\n",
       "4995 -1678496.0  1926774.0 -1638120.0 -1675856.0\n",
       "4996 -2463558.0  2828627.0 -2405200.0 -2460238.0\n",
       "4997 -1593712.0  1829758.0 -1556584.0 -1591872.0\n",
       "4998 -1537284.0  1764707.0 -1501175.0 -1535222.0\n",
       "4999 -1908770.0  2191551.0 -1863283.0 -1905948.0\n",
       "\n",
       "[5000 rows x 4 columns]"
      ]
     },
     "execution_count": 16,
     "metadata": {},
     "output_type": "execute_result"
    }
   ],
   "source": [
    "transformed_features = pd.DataFrame(X.values @ P )\n",
    "transformed_features"
   ]
  },
  {
   "cell_type": "markdown",
   "metadata": {},
   "source": [
    "**Вывод: Персональная информации скрыта. Не зная, матрицы преобразования признаков, восстановить исходную информацию будет сложно.**"
   ]
  },
  {
   "cell_type": "markdown",
   "metadata": {},
   "source": [
    "Смотрим метрику после трансформации признаков"
   ]
  },
  {
   "cell_type": "code",
   "execution_count": 17,
   "metadata": {},
   "outputs": [
    {
     "name": "stdout",
     "output_type": "stream",
     "text": [
      "Метрика R2 после преобразования признаков =  0.42547785406963246\n"
     ]
    }
   ],
   "source": [
    "R2_transformed_features, coeff_transformed_features = ModelLinearRegression(transformed_features, y)\n",
    "print('Метрика R2 после преобразования признаков = ', R2_transformed_features)"
   ]
  },
  {
   "cell_type": "code",
   "execution_count": 18,
   "metadata": {},
   "outputs": [
    {
     "data": {
      "text/plain": [
       "array([-3.08442796e-04, -9.76689027e-05,  1.29506942e-04,  6.94812158e-05])"
      ]
     },
     "execution_count": 18,
     "metadata": {},
     "output_type": "execute_result"
    }
   ],
   "source": [
    "coeff_transformed_features"
   ]
  },
  {
   "cell_type": "markdown",
   "metadata": {},
   "source": [
    "**Вывод: Метрика R2 для преобразованных признаков практически совпадает с исходной метрикой до трансформации признаков.**"
   ]
  },
  {
   "cell_type": "markdown",
   "metadata": {},
   "source": [
    "Ранее было показано, что параметры исходной и трансформированной модели связаны соотнощением:\n",
    "\n",
    "$\n",
    "𝑤′ = (𝑃)^{-1} w\n",
    "$\n",
    "\n",
    "Проверим теорию на практике:"
   ]
  },
  {
   "cell_type": "code",
   "execution_count": 19,
   "metadata": {},
   "outputs": [
    {
     "data": {
      "text/plain": [
       "array([-3.08442796e-04, -9.76689027e-05,  1.29506942e-04,  6.94812158e-05])"
      ]
     },
     "execution_count": 19,
     "metadata": {},
     "output_type": "execute_result"
    }
   ],
   "source": [
    "# умножаем обратную матрицу на параметры линейной регрессии до трансформации\n",
    "inv_P @ coef"
   ]
  },
  {
   "cell_type": "code",
   "execution_count": 20,
   "metadata": {},
   "outputs": [
    {
     "data": {
      "text/plain": [
       "array([-3.08442796e-04, -9.76689027e-05,  1.29506942e-04,  6.94812158e-05])"
      ]
     },
     "execution_count": 20,
     "metadata": {},
     "output_type": "execute_result"
    }
   ],
   "source": [
    "# параметры линейной регрессии после трансформации\n",
    "coeff_transformed_features"
   ]
  },
  {
   "cell_type": "markdown",
   "metadata": {},
   "source": [
    "**Вывод: Расчет параметров линейной модели по теоретической формуле подтвержден практикой!**"
   ]
  },
  {
   "cell_type": "markdown",
   "metadata": {},
   "source": [
    "Сгенерируем 1000 матриц преобразования и посмотрим на разность между метриками R2 до трансформации признаков и после трансформации признаков"
   ]
  },
  {
   "cell_type": "code",
   "execution_count": 21,
   "metadata": {},
   "outputs": [],
   "source": [
    "def transformed_features_r2(X,y):\n",
    "    P = np.rint(np.random.normal(0, 1, size=(4, 4)) * 100)\n",
    "    try:\n",
    "        inv_P = np.linalg.inv(P)\n",
    "    except:\n",
    "        print('Матрица необратима!')\n",
    "        return 0\n",
    "    transformed_features = pd.DataFrame(X.values @ P)\n",
    "    transformed_R2, _ = ModelLinearRegression(transformed_features, y)\n",
    "    return (transformed_R2 - R2)\n"
   ]
  },
  {
   "cell_type": "code",
   "execution_count": 22,
   "metadata": {},
   "outputs": [],
   "source": [
    "np.random.seed(42)\n",
    "count = 1000\n",
    "list_r2=[] \n",
    "for i in range(count):\n",
    "    r2 = transformed_features_r2(X,y)\n",
    "    list_r2.append(r2)"
   ]
  },
  {
   "cell_type": "code",
   "execution_count": 23,
   "metadata": {},
   "outputs": [
    {
     "data": {
      "text/plain": [
       "count    1.000000e+03\n",
       "mean    -5.607181e-15\n",
       "std      2.005838e-13\n",
       "min     -2.804756e-12\n",
       "25%     -1.865175e-14\n",
       "50%     -4.996004e-16\n",
       "75%      1.290634e-14\n",
       "max      3.985479e-12\n",
       "dtype: float64"
      ]
     },
     "execution_count": 23,
     "metadata": {},
     "output_type": "execute_result"
    }
   ],
   "source": [
    "pd.Series(list_r2).describe() "
   ]
  },
  {
   "cell_type": "markdown",
   "metadata": {},
   "source": [
    "**Вывод: Мы получили устойчивый алгоритм преобразования признаков. Разность метрик R2 до трансформации признаков и после трансформации в среднем равна $10^{-15}$.**"
   ]
  },
  {
   "cell_type": "markdown",
   "metadata": {},
   "source": [
    "# Выводы"
   ]
  },
  {
   "cell_type": "markdown",
   "metadata": {},
   "source": [
    "Разработан алгоритм преобразования данных, по которому сложно восстановить персональную информацию.\n",
    "\n",
    "Алгоритм заключается в умножении признаков на обратимую матрицу. Доказано математически, что при таком преобразовании признаков точность предсказания не изменится. А параметры линейной регрессии связаны формулой:\n",
    "\n",
    "$\n",
    "𝑤′ = (𝑃)^{-1} w\n",
    "$\n",
    ", где\n",
    "- $P$ — матрица, на которую умножаются признаки\n",
    "- $w$ — вектор весов линейной регрессии до трансформации\n",
    "- $w'$ — вектор весов линейной регрессии после трансформации\n",
    "\n",
    "\n",
    "В качестве генерации матриц для преобразования признаков предложено выбрать функцию **np.random.normal** из пакета **numpy**.\n",
    "\n",
    "Для проверки соответствия теории и практики, было сгенерировано 1000 случаев преобразования признаков раздичными матрицами. Разность метрик R2 до трансформации признаков и после трансформации в среднем равна  $10^{-15}$.\n",
    "\n",
    "Таким образом, мы получили устойчивый алгоритм преобразования признаков для скрытия персональных данных."
   ]
  }
 ],
 "metadata": {
  "ExecuteTimeLog": [
   {
    "duration": 2098,
    "start_time": "2021-06-17T10:50:05.096Z"
   },
   {
    "duration": 205,
    "start_time": "2021-06-17T10:50:07.196Z"
   },
   {
    "duration": 27,
    "start_time": "2021-06-17T10:50:07.405Z"
   },
   {
    "duration": 18,
    "start_time": "2021-06-17T10:50:08.459Z"
   },
   {
    "duration": 43,
    "start_time": "2021-06-17T10:50:08.954Z"
   },
   {
    "duration": 6,
    "start_time": "2021-06-17T10:52:12.448Z"
   },
   {
    "duration": 15,
    "start_time": "2021-06-17T10:52:13.154Z"
   },
   {
    "duration": 7,
    "start_time": "2021-06-17T10:52:33.266Z"
   },
   {
    "duration": 49,
    "start_time": "2021-06-17T10:52:36.538Z"
   },
   {
    "duration": 7,
    "start_time": "2021-06-17T10:52:38.110Z"
   },
   {
    "duration": 4,
    "start_time": "2021-06-17T10:52:42.028Z"
   },
   {
    "duration": 6,
    "start_time": "2021-06-17T10:52:42.546Z"
   },
   {
    "duration": 7,
    "start_time": "2021-06-17T10:52:44.034Z"
   },
   {
    "duration": 91,
    "start_time": "2021-06-17T10:52:52.491Z"
   },
   {
    "duration": 7,
    "start_time": "2021-06-17T10:52:52.921Z"
   },
   {
    "duration": 22,
    "start_time": "2021-06-17T10:53:13.586Z"
   },
   {
    "duration": 19,
    "start_time": "2021-06-17T10:53:22.978Z"
   },
   {
    "duration": 6,
    "start_time": "2021-06-17T10:53:24.474Z"
   },
   {
    "duration": 7,
    "start_time": "2021-06-17T10:53:25.898Z"
   },
   {
    "duration": 6,
    "start_time": "2021-06-17T10:53:26.691Z"
   },
   {
    "duration": 10,
    "start_time": "2021-06-17T10:53:28.234Z"
   },
   {
    "duration": 44284,
    "start_time": "2021-06-17T10:53:28.505Z"
   },
   {
    "duration": 97,
    "start_time": "2021-06-17T10:54:12.796Z"
   }
  ],
  "kernelspec": {
   "display_name": "Python 3",
   "language": "python",
   "name": "python3"
  },
  "language_info": {
   "codemirror_mode": {
    "name": "ipython",
    "version": 3
   },
   "file_extension": ".py",
   "mimetype": "text/x-python",
   "name": "python",
   "nbconvert_exporter": "python",
   "pygments_lexer": "ipython3",
   "version": "3.9.0"
  },
  "toc": {
   "base_numbering": 1,
   "nav_menu": {},
   "number_sections": true,
   "sideBar": true,
   "skip_h1_title": true,
   "title_cell": "Содержание",
   "title_sidebar": "Contents",
   "toc_cell": true,
   "toc_position": {},
   "toc_section_display": true,
   "toc_window_display": true
  }
 },
 "nbformat": 4,
 "nbformat_minor": 2
}
