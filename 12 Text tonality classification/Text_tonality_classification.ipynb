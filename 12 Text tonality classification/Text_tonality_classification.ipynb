{
 "cells": [
  {
   "cell_type": "markdown",
   "metadata": {
    "toc": true
   },
   "source": [
    "<h1>Содержание<span class=\"tocSkip\"></span></h1>\n",
    "<div class=\"toc\"><ul class=\"toc-item\"><li><span><a href=\"#Подготовка\" data-toc-modified-id=\"Подготовка-1\"><span class=\"toc-item-num\">1&nbsp;&nbsp;</span>Подготовка</a></span><ul class=\"toc-item\"><li><span><a href=\"#Подключение-библиотек,-чтение-данных\" data-toc-modified-id=\"Подключение-библиотек,-чтение-данных-1.1\"><span class=\"toc-item-num\">1.1&nbsp;&nbsp;</span>Подключение библиотек, чтение данных</a></span></li><li><span><a href=\"#Рассмотрим-датасет-на-наличие-дисбаланса-классов.\" data-toc-modified-id=\"Рассмотрим-датасет-на-наличие-дисбаланса-классов.-1.2\"><span class=\"toc-item-num\">1.2&nbsp;&nbsp;</span>Рассмотрим датасет на наличие дисбаланса классов.</a></span></li><li><span><a href=\"#Препроцессинг-(подготовка-текстов)\" data-toc-modified-id=\"Препроцессинг-(подготовка-текстов)-1.3\"><span class=\"toc-item-num\">1.3&nbsp;&nbsp;</span>Препроцессинг (подготовка текстов)</a></span></li></ul></li><li><span><a href=\"#Обучение\" data-toc-modified-id=\"Обучение-2\"><span class=\"toc-item-num\">2&nbsp;&nbsp;</span>Обучение</a></span><ul class=\"toc-item\"><li><span><a href=\"#Разобьем-данные-на-выборки-train-и-test\" data-toc-modified-id=\"Разобьем-данные-на-выборки-train-и-test-2.1\"><span class=\"toc-item-num\">2.1&nbsp;&nbsp;</span>Разобьем данные на выборки train и test</a></span></li><li><span><a href=\"#Векторизация-текстов\" data-toc-modified-id=\"Векторизация-текстов-2.2\"><span class=\"toc-item-num\">2.2&nbsp;&nbsp;</span>Векторизация текстов</a></span></li><li><span><a href=\"#Dummy\" data-toc-modified-id=\"Dummy-2.3\"><span class=\"toc-item-num\">2.3&nbsp;&nbsp;</span>Dummy</a></span></li><li><span><a href=\"#LogisticRegression\" data-toc-modified-id=\"LogisticRegression-2.4\"><span class=\"toc-item-num\">2.4&nbsp;&nbsp;</span>LogisticRegression</a></span></li><li><span><a href=\"#NearestCentroid\" data-toc-modified-id=\"NearestCentroid-2.5\"><span class=\"toc-item-num\">2.5&nbsp;&nbsp;</span>NearestCentroid</a></span></li><li><span><a href=\"#Perceptron\" data-toc-modified-id=\"Perceptron-2.6\"><span class=\"toc-item-num\">2.6&nbsp;&nbsp;</span>Perceptron</a></span></li><li><span><a href=\"#SGDClassifier\" data-toc-modified-id=\"SGDClassifier-2.7\"><span class=\"toc-item-num\">2.7&nbsp;&nbsp;</span>SGDClassifier</a></span></li><li><span><a href=\"#ComplementNB\" data-toc-modified-id=\"ComplementNB-2.8\"><span class=\"toc-item-num\">2.8&nbsp;&nbsp;</span>ComplementNB</a></span></li><li><span><a href=\"#LGBMClassifier\" data-toc-modified-id=\"LGBMClassifier-2.9\"><span class=\"toc-item-num\">2.9&nbsp;&nbsp;</span>LGBMClassifier</a></span><ul class=\"toc-item\"><li><span><a href=\"#Подбираем-гиперпараметры-модели-LGBMClassifier\" data-toc-modified-id=\"Подбираем-гиперпараметры-модели-LGBMClassifier-2.9.1\"><span class=\"toc-item-num\">2.9.1&nbsp;&nbsp;</span>Подбираем гиперпараметры модели LGBMClassifier</a></span></li></ul></li></ul></li><li><span><a href=\"#Выводы\" data-toc-modified-id=\"Выводы-3\"><span class=\"toc-item-num\">3&nbsp;&nbsp;</span>Выводы</a></span></li><li><span><a href=\"#Чек-лист-проверки\" data-toc-modified-id=\"Чек-лист-проверки-4\"><span class=\"toc-item-num\">4&nbsp;&nbsp;</span>Чек-лист проверки</a></span></li><li><span><a href=\"#-Комментарий-ревьюера\" data-toc-modified-id=\"-Комментарий-ревьюера-5\"><span class=\"toc-item-num\">5&nbsp;&nbsp;</span> Комментарий ревьюера</a></span></li></ul></div>"
   ]
  },
  {
   "cell_type": "markdown",
   "metadata": {},
   "source": [
    "# Проект для «Викишоп»"
   ]
  },
  {
   "cell_type": "markdown",
   "metadata": {},
   "source": [
    "Интернет-магазин «Викишоп» запускает новый сервис. Теперь пользователи могут редактировать и дополнять описания товаров, как в вики-сообществах. То есть клиенты предлагают свои правки и комментируют изменения других. Магазину нужен инструмент, который будет искать токсичные комментарии и отправлять их на модерацию. \n",
    "\n",
    "Обучите модель классифицировать комментарии на позитивные и негативные. В вашем распоряжении набор данных с разметкой о токсичности правок.\n",
    "\n",
    "Постройте модель со значением метрики качества *F1* не меньше 0.75. \n",
    "\n",
    "**Инструкция по выполнению проекта**\n",
    "\n",
    "1. Загрузите и подготовьте данные.\n",
    "2. Обучите разные модели. \n",
    "3. Сделайте выводы.\n",
    "\n",
    "Для выполнения проекта применять *BERT* необязательно, но вы можете попробовать.\n",
    "\n",
    "**Описание данных**\n",
    "\n",
    "Данные находятся в файле `toxic_comments.csv`. Столбец *text* в нём содержит текст комментария, а *toxic* — целевой признак."
   ]
  },
  {
   "cell_type": "markdown",
   "metadata": {},
   "source": [
    "## Подготовка"
   ]
  },
  {
   "cell_type": "markdown",
   "metadata": {},
   "source": [
    "### Подключение библиотек, чтение данных"
   ]
  },
  {
   "cell_type": "markdown",
   "metadata": {},
   "source": [
    "Подключаем необходимые библиотеки."
   ]
  },
  {
   "cell_type": "code",
   "execution_count": 1,
   "metadata": {},
   "outputs": [],
   "source": [
    "import numpy as np\n",
    "import pandas as pd\n",
    "\n",
    "import re\n",
    "import string\n",
    "\n",
    "import matplotlib.pyplot as plt\n",
    "import seaborn as sns\n",
    "\n",
    "from tqdm.auto import tqdm\n",
    "\n",
    "from nltk.corpus import stopwords\n",
    "from nltk.stem.porter import PorterStemmer\n",
    "from nltk.stem import WordNetLemmatizer\n",
    "from nltk.corpus import wordnet\n",
    "import nltk\n",
    "\n",
    "from sklearn.model_selection import train_test_split\n",
    "from sklearn.feature_extraction.text import TfidfVectorizer \n",
    "\n",
    "from sklearn.linear_model import LogisticRegression\n",
    "# from sklearn.ensemble import RandomForestClassifier\n",
    "# from sklearn.tree import DecisionTreeClassifier\n",
    "from sklearn.linear_model import SGDClassifier\n",
    "from sklearn.model_selection import GridSearchCV\n",
    "from sklearn.dummy import DummyClassifier\n",
    "from sklearn.neighbors import NearestCentroid\n",
    "from sklearn.linear_model import Perceptron\n",
    "from sklearn.naive_bayes import ComplementNB\n",
    "\n",
    "from sklearn.metrics import f1_score\n",
    "\n",
    "import time\n",
    "\n",
    "import lightgbm as lgb"
   ]
  },
  {
   "cell_type": "code",
   "execution_count": 2,
   "metadata": {},
   "outputs": [
    {
     "name": "stderr",
     "output_type": "stream",
     "text": [
      "[nltk_data] Downloading package wordnet to\n",
      "[nltk_data]     C:\\Users\\Admin\\AppData\\Roaming\\nltk_data...\n",
      "[nltk_data]   Package wordnet is already up-to-date!\n",
      "[nltk_data] Downloading package averaged_perceptron_tagger to\n",
      "[nltk_data]     C:\\Users\\Admin\\AppData\\Roaming\\nltk_data...\n",
      "[nltk_data]   Package averaged_perceptron_tagger is already up-to-\n",
      "[nltk_data]       date!\n"
     ]
    }
   ],
   "source": [
    "%%capture\n",
    "nltk.download('wordnet')\n",
    "nltk.download('averaged_perceptron_tagger')"
   ]
  },
  {
   "cell_type": "code",
   "execution_count": 5,
   "metadata": {},
   "outputs": [],
   "source": [
    "# читаем данные с сервера яндекса\n",
    "#df_toxic = pd.read_csv('https://code.s3.yandex.net/datasets/toxic_comments.csv')\n",
    "\n",
    "local = False\n",
    "if local:\n",
    "    df = pd.read_csv('./datasets/toxic_comments.csv')\n",
    "else:\n",
    "    url = \"https://drive.google.com/file/d/1Thqt_--s4OWEvd1K6ZKm0Bo4t8oYmqDY/view?usp=sharing\"\n",
    "    path = 'https://drive.google.com/uc?export=download&id='+ url.split('/')[-2]\n",
    "    df_toxic = pd.read_csv(path)"
   ]
  },
  {
   "cell_type": "markdown",
   "metadata": {},
   "source": [
    "Посмотрим, с чем мы имеем дело."
   ]
  },
  {
   "cell_type": "code",
   "execution_count": 6,
   "metadata": {},
   "outputs": [
    {
     "data": {
      "text/html": [
       "<div>\n",
       "<style scoped>\n",
       "    .dataframe tbody tr th:only-of-type {\n",
       "        vertical-align: middle;\n",
       "    }\n",
       "\n",
       "    .dataframe tbody tr th {\n",
       "        vertical-align: top;\n",
       "    }\n",
       "\n",
       "    .dataframe thead th {\n",
       "        text-align: right;\n",
       "    }\n",
       "</style>\n",
       "<table border=\"1\" class=\"dataframe\">\n",
       "  <thead>\n",
       "    <tr style=\"text-align: right;\">\n",
       "      <th></th>\n",
       "      <th>text</th>\n",
       "      <th>toxic</th>\n",
       "    </tr>\n",
       "  </thead>\n",
       "  <tbody>\n",
       "    <tr>\n",
       "      <th>146790</th>\n",
       "      <td>Ahh shut the fuck up you douchebag sand nigger...</td>\n",
       "      <td>1</td>\n",
       "    </tr>\n",
       "    <tr>\n",
       "      <th>2941</th>\n",
       "      <td>\"\\n\\nREPLY: There is no such thing as Texas Co...</td>\n",
       "      <td>0</td>\n",
       "    </tr>\n",
       "    <tr>\n",
       "      <th>115087</th>\n",
       "      <td>Reply\\nHey, you could at least mention Jasenov...</td>\n",
       "      <td>0</td>\n",
       "    </tr>\n",
       "    <tr>\n",
       "      <th>48830</th>\n",
       "      <td>Thats fine, there is no deadline )   chi?</td>\n",
       "      <td>0</td>\n",
       "    </tr>\n",
       "    <tr>\n",
       "      <th>136034</th>\n",
       "      <td>\"\\n\\nDYK nomination of Mustarabim\\n Hello! You...</td>\n",
       "      <td>0</td>\n",
       "    </tr>\n",
       "    <tr>\n",
       "      <th>121992</th>\n",
       "      <td>\"\\n\\nSockpuppetry case\\n \\nYou have been accus...</td>\n",
       "      <td>0</td>\n",
       "    </tr>\n",
       "    <tr>\n",
       "      <th>37282</th>\n",
       "      <td>Judging by what I've just read in an article, ...</td>\n",
       "      <td>0</td>\n",
       "    </tr>\n",
       "    <tr>\n",
       "      <th>64488</th>\n",
       "      <td>Todd and Copper\\nIn the first film they were l...</td>\n",
       "      <td>0</td>\n",
       "    </tr>\n",
       "    <tr>\n",
       "      <th>16992</th>\n",
       "      <td>\"\\n\\n \\nYou have been blocked from editing for...</td>\n",
       "      <td>0</td>\n",
       "    </tr>\n",
       "    <tr>\n",
       "      <th>138230</th>\n",
       "      <td>| decline=Can't find evidence of block either ...</td>\n",
       "      <td>0</td>\n",
       "    </tr>\n",
       "  </tbody>\n",
       "</table>\n",
       "</div>"
      ],
      "text/plain": [
       "                                                     text  toxic\n",
       "146790  Ahh shut the fuck up you douchebag sand nigger...      1\n",
       "2941    \"\\n\\nREPLY: There is no such thing as Texas Co...      0\n",
       "115087  Reply\\nHey, you could at least mention Jasenov...      0\n",
       "48830           Thats fine, there is no deadline )   chi?      0\n",
       "136034  \"\\n\\nDYK nomination of Mustarabim\\n Hello! You...      0\n",
       "121992  \"\\n\\nSockpuppetry case\\n \\nYou have been accus...      0\n",
       "37282   Judging by what I've just read in an article, ...      0\n",
       "64488   Todd and Copper\\nIn the first film they were l...      0\n",
       "16992   \"\\n\\n \\nYou have been blocked from editing for...      0\n",
       "138230  | decline=Can't find evidence of block either ...      0"
      ]
     },
     "execution_count": 6,
     "metadata": {},
     "output_type": "execute_result"
    }
   ],
   "source": [
    "df_toxic.sample(10, random_state=12345)"
   ]
  },
  {
   "cell_type": "code",
   "execution_count": 5,
   "metadata": {},
   "outputs": [
    {
     "data": {
      "text/plain": [
       "(159571, 2)"
      ]
     },
     "execution_count": 5,
     "metadata": {},
     "output_type": "execute_result"
    }
   ],
   "source": [
    "# размеры\n",
    "df_toxic.shape"
   ]
  },
  {
   "cell_type": "markdown",
   "metadata": {},
   "source": [
    "Проверим датасет на nan."
   ]
  },
  {
   "cell_type": "code",
   "execution_count": 6,
   "metadata": {},
   "outputs": [
    {
     "data": {
      "text/plain": [
       "text     0\n",
       "toxic    0\n",
       "dtype: int64"
      ]
     },
     "execution_count": 6,
     "metadata": {},
     "output_type": "execute_result"
    }
   ],
   "source": [
    "df_toxic.isna().sum()"
   ]
  },
  {
   "cell_type": "markdown",
   "metadata": {},
   "source": [
    "Вывод: Пропусков - нет. И это - хорошо."
   ]
  },
  {
   "cell_type": "markdown",
   "metadata": {},
   "source": [
    "### Рассмотрим датасет на наличие дисбаланса классов.\n"
   ]
  },
  {
   "cell_type": "code",
   "execution_count": 7,
   "metadata": {},
   "outputs": [
    {
     "data": {
      "text/plain": [
       "''"
      ]
     },
     "execution_count": 7,
     "metadata": {},
     "output_type": "execute_result"
    },
    {
     "data": {
      "image/png": "[encoded data removed]",
      "text/plain": [
       "<Figure size 432x288 with 1 Axes>"
      ]
     },
     "metadata": {
      "needs_background": "light"
     },
     "output_type": "display_data"
    }
   ],
   "source": [
    "my_colors = list('rgbkymc')\n",
    "class_frequency = df_toxic['toxic'].value_counts(normalize=True)\n",
    "class_frequency.plot(kind='bar', color=my_colors)\n",
    "plt.xlabel('Целевой признак - toxic',fontsize=15, weight = 'bold')\n",
    "plt.ylabel('Относительная частота',fontsize=15, weight = 'bold')\n",
    "plt.title(\"Дисбаланс классов\",fontsize=15, weight = 'bold')\n",
    ";"
   ]
  },
  {
   "cell_type": "code",
   "execution_count": 8,
   "metadata": {},
   "outputs": [
    {
     "name": "stdout",
     "output_type": "stream",
     "text": [
      "0    0.898321\n",
      "1    0.101679\n",
      "Name: toxic, dtype: float64\n"
     ]
    }
   ],
   "source": [
    "print(class_frequency)"
   ]
  },
  {
   "cell_type": "markdown",
   "metadata": {},
   "source": [
    "**Вывод: Мы имеем явно выраженный дисбаланс классов в отношении 0 класса к 1 классу, как 9:1. Это необходимо будет учесть, при построении моделей обучения.**"
   ]
  },
  {
   "cell_type": "markdown",
   "metadata": {},
   "source": [
    "### Препроцессинг (подготовка текстов)"
   ]
  },
  {
   "cell_type": "markdown",
   "metadata": {},
   "source": [
    "Подготовим функцию для предобработки текстов. Приведем тексты к нижнему регистру, выбросим знаки препинания и стоп-слова. Разобъем тексты на токены."
   ]
  },
  {
   "cell_type": "code",
   "execution_count": 9,
   "metadata": {},
   "outputs": [],
   "source": [
    "def preprocessing_text(text, Stemming=True, Lemmatization=False):\n",
    "    PUNCT_TO_REMOVE = string.punctuation\n",
    "    STOPWORDS = set(stopwords.words('english'))\n",
    "    \n",
    "    #Приводим текст к нижнему регистру\n",
    "    text = text.lower()\n",
    "    \n",
    "    #Удаляем символы пунктуации, они нам не нужны\n",
    "    text = text.translate(str.maketrans('', '', PUNCT_TO_REMOVE))\n",
    "    \n",
    "    #Удаление стопслов\n",
    "    text = \" \".join([word for word in str(text).split() if word not in STOPWORDS])\n",
    "    \n",
    "    #Удаление всех символов кроме букв\n",
    "    text =  ' '.join(re.sub(r'[^a-zA-Z]', ' ', text).split())\n",
    "    \n",
    "    #Stemming - приводим слова к базовой форме\n",
    "    if Stemming:\n",
    "        try:\n",
    "            stemmer = PorterStemmer()\n",
    "            text = \" \".join([stemmer.stem(word) for word in text.split()])\n",
    "        except:\n",
    "            print(text)\n",
    "   \n",
    "    #Lemmatization - работает катастрофически медленнее, заблокировано до лучших времен\n",
    "    if Lemmatization:\n",
    "        lemmatizer = WordNetLemmatizer()\n",
    "        wordnet_map = {\"N\":wordnet.NOUN, \"V\":wordnet.VERB, \"J\":wordnet.ADJ, \"R\":wordnet.ADV}\n",
    "        pos_tagged_text = nltk.pos_tag(text.split())    \n",
    "        text = \" \".join([lemmatizer.lemmatize(word, wordnet_map.get(pos[0], wordnet.NOUN)) \\\n",
    "                         for word, pos in pos_tagged_text])\n",
    "    \n",
    "    return text"
   ]
  },
  {
   "cell_type": "markdown",
   "metadata": {},
   "source": [
    "Оценим производительность функции на батче из 1000 строк."
   ]
  },
  {
   "cell_type": "markdown",
   "metadata": {},
   "source": [
    "Смотрим на Stemming."
   ]
  },
  {
   "cell_type": "code",
   "execution_count": 10,
   "metadata": {},
   "outputs": [
    {
     "name": "stdout",
     "output_type": "stream",
     "text": [
      "Wall time: 1.38 s\n"
     ]
    }
   ],
   "source": [
    "%%time\n",
    "df_sample_stemming = df_toxic.sample(1000, random_state=42).copy()\n",
    "start_time = time.time()\n",
    "df_sample_stemming['clean_text'] = df_sample_stemming['text'].apply(lambda x: preprocessing_text(x,True,False))\n",
    "stop_time = time.time()\n",
    "runtime = stop_time - start_time"
   ]
  },
  {
   "cell_type": "code",
   "execution_count": 11,
   "metadata": {},
   "outputs": [
    {
     "name": "stdout",
     "output_type": "stream",
     "text": [
      "Ожидаемое время выполнения stemming на полном датасете 3.7 мин.\n"
     ]
    }
   ],
   "source": [
    "print(\"Ожидаемое время выполнения stemming на полном датасете {:.1f} мин.\".format(runtime * 160 / 60))"
   ]
  },
  {
   "cell_type": "markdown",
   "metadata": {},
   "source": [
    "Справка: Вычисления проводились на ноутбуке со следующими характеристиками Intel(R) Core(TM) i5-4300U CPU @ 1.90GHz   2.49 GHz, 16,0 ГБ, SSD."
   ]
  },
  {
   "cell_type": "code",
   "execution_count": null,
   "metadata": {},
   "outputs": [],
   "source": []
  },
  {
   "cell_type": "code",
   "execution_count": 12,
   "metadata": {},
   "outputs": [
    {
     "data": {
      "text/html": [
       "<div>\n",
       "<style scoped>\n",
       "    .dataframe tbody tr th:only-of-type {\n",
       "        vertical-align: middle;\n",
       "    }\n",
       "\n",
       "    .dataframe tbody tr th {\n",
       "        vertical-align: top;\n",
       "    }\n",
       "\n",
       "    .dataframe thead th {\n",
       "        text-align: right;\n",
       "    }\n",
       "</style>\n",
       "<table border=\"1\" class=\"dataframe\">\n",
       "  <thead>\n",
       "    <tr style=\"text-align: right;\">\n",
       "      <th></th>\n",
       "      <th>text</th>\n",
       "      <th>toxic</th>\n",
       "      <th>clean_text</th>\n",
       "    </tr>\n",
       "  </thead>\n",
       "  <tbody>\n",
       "    <tr>\n",
       "      <th>119105</th>\n",
       "      <td>Geez, are you forgetful!  We've already discus...</td>\n",
       "      <td>0</td>\n",
       "      <td>geez forget weve alreadi discuss marx anarchis...</td>\n",
       "    </tr>\n",
       "    <tr>\n",
       "      <th>131631</th>\n",
       "      <td>Carioca RFA \\n\\nThanks for your support on my ...</td>\n",
       "      <td>0</td>\n",
       "      <td>carioca rfa thank support request adminship fi...</td>\n",
       "    </tr>\n",
       "    <tr>\n",
       "      <th>125326</th>\n",
       "      <td>\"\\n\\n Birthday \\n\\nNo worries, It's what I do ...</td>\n",
       "      <td>0</td>\n",
       "      <td>birthday worri enjoy ur daytalk</td>\n",
       "    </tr>\n",
       "    <tr>\n",
       "      <th>111256</th>\n",
       "      <td>Pseudoscience category? \\n\\nI'm assuming that ...</td>\n",
       "      <td>0</td>\n",
       "      <td>pseudosci categori im assum articl pseudosci c...</td>\n",
       "    </tr>\n",
       "    <tr>\n",
       "      <th>83590</th>\n",
       "      <td>(and if such phrase exists, it would be provid...</td>\n",
       "      <td>0</td>\n",
       "      <td>phrase exist would provid search engin even me...</td>\n",
       "    </tr>\n",
       "    <tr>\n",
       "      <th>37546</th>\n",
       "      <td>, 9 October 2007 (UTC)\\n\\nP.s, the delta funct...</td>\n",
       "      <td>0</td>\n",
       "      <td>octob utc ps delta function use exampl kroneck...</td>\n",
       "    </tr>\n",
       "    <tr>\n",
       "      <th>98371</th>\n",
       "      <td>]]- 10 September 1910, [[[Couvet]] )</td>\n",
       "      <td>0</td>\n",
       "      <td>septemb couvet</td>\n",
       "    </tr>\n",
       "    <tr>\n",
       "      <th>67118</th>\n",
       "      <td>Negro league baseball task-force talk].</td>\n",
       "      <td>0</td>\n",
       "      <td>negro leagu basebal taskforc talk</td>\n",
       "    </tr>\n",
       "    <tr>\n",
       "      <th>129625</th>\n",
       "      <td>List of My Three Sons episodes \\n\\nI saw you r...</td>\n",
       "      <td>0</td>\n",
       "      <td>list three son episod saw redirect two season ...</td>\n",
       "    </tr>\n",
       "    <tr>\n",
       "      <th>48941</th>\n",
       "      <td>Quoting Loremaster: In order to make sure you ...</td>\n",
       "      <td>0</td>\n",
       "      <td>quot loremast order make sure understand</td>\n",
       "    </tr>\n",
       "  </tbody>\n",
       "</table>\n",
       "</div>"
      ],
      "text/plain": [
       "                                                     text  toxic  \\\n",
       "119105  Geez, are you forgetful!  We've already discus...      0   \n",
       "131631  Carioca RFA \\n\\nThanks for your support on my ...      0   \n",
       "125326  \"\\n\\n Birthday \\n\\nNo worries, It's what I do ...      0   \n",
       "111256  Pseudoscience category? \\n\\nI'm assuming that ...      0   \n",
       "83590   (and if such phrase exists, it would be provid...      0   \n",
       "37546   , 9 October 2007 (UTC)\\n\\nP.s, the delta funct...      0   \n",
       "98371                ]]- 10 September 1910, [[[Couvet]] )      0   \n",
       "67118             Negro league baseball task-force talk].      0   \n",
       "129625  List of My Three Sons episodes \\n\\nI saw you r...      0   \n",
       "48941   Quoting Loremaster: In order to make sure you ...      0   \n",
       "\n",
       "                                               clean_text  \n",
       "119105  geez forget weve alreadi discuss marx anarchis...  \n",
       "131631  carioca rfa thank support request adminship fi...  \n",
       "125326                    birthday worri enjoy ur daytalk  \n",
       "111256  pseudosci categori im assum articl pseudosci c...  \n",
       "83590   phrase exist would provid search engin even me...  \n",
       "37546   octob utc ps delta function use exampl kroneck...  \n",
       "98371                                      septemb couvet  \n",
       "67118                   negro leagu basebal taskforc talk  \n",
       "129625  list three son episod saw redirect two season ...  \n",
       "48941            quot loremast order make sure understand  "
      ]
     },
     "execution_count": 12,
     "metadata": {},
     "output_type": "execute_result"
    }
   ],
   "source": [
    "# посмотрим на результат Stemming\n",
    "df_sample_stemming.head(10)"
   ]
  },
  {
   "cell_type": "markdown",
   "metadata": {},
   "source": [
    "Смотрим на Lemmatization."
   ]
  },
  {
   "cell_type": "code",
   "execution_count": 13,
   "metadata": {},
   "outputs": [
    {
     "name": "stdout",
     "output_type": "stream",
     "text": [
      "Wall time: 5.93 s\n"
     ]
    }
   ],
   "source": [
    "%%time\n",
    "df_sample_lemmatization = df_toxic.sample(1000, random_state=42).copy()\n",
    "start_time = time.time()\n",
    "df_sample_lemmatization['clean_text'] = df_sample_lemmatization['text'].apply(lambda x: preprocessing_text(x,False,True))\n",
    "stop_time = time.time()\n",
    "runtime = stop_time - start_time"
   ]
  },
  {
   "cell_type": "code",
   "execution_count": 14,
   "metadata": {
    "scrolled": true
   },
   "outputs": [
    {
     "name": "stdout",
     "output_type": "stream",
     "text": [
      "Ожидаемое время выполнения lemmatization на полном датасете 15.8 мин.\n"
     ]
    }
   ],
   "source": [
    "print(\"Ожидаемое время выполнения lemmatization на полном датасете {:.1f} мин.\".format(runtime * 160 / 60))"
   ]
  },
  {
   "cell_type": "code",
   "execution_count": 15,
   "metadata": {},
   "outputs": [
    {
     "data": {
      "text/html": [
       "<div>\n",
       "<style scoped>\n",
       "    .dataframe tbody tr th:only-of-type {\n",
       "        vertical-align: middle;\n",
       "    }\n",
       "\n",
       "    .dataframe tbody tr th {\n",
       "        vertical-align: top;\n",
       "    }\n",
       "\n",
       "    .dataframe thead th {\n",
       "        text-align: right;\n",
       "    }\n",
       "</style>\n",
       "<table border=\"1\" class=\"dataframe\">\n",
       "  <thead>\n",
       "    <tr style=\"text-align: right;\">\n",
       "      <th></th>\n",
       "      <th>text</th>\n",
       "      <th>toxic</th>\n",
       "      <th>clean_text</th>\n",
       "    </tr>\n",
       "  </thead>\n",
       "  <tbody>\n",
       "    <tr>\n",
       "      <th>119105</th>\n",
       "      <td>Geez, are you forgetful!  We've already discus...</td>\n",
       "      <td>0</td>\n",
       "      <td>geez forgetful weve already discuss marx anarc...</td>\n",
       "    </tr>\n",
       "    <tr>\n",
       "      <th>131631</th>\n",
       "      <td>Carioca RFA \\n\\nThanks for your support on my ...</td>\n",
       "      <td>0</td>\n",
       "      <td>carioca rfa thanks support request adminship f...</td>\n",
       "    </tr>\n",
       "    <tr>\n",
       "      <th>125326</th>\n",
       "      <td>\"\\n\\n Birthday \\n\\nNo worries, It's what I do ...</td>\n",
       "      <td>0</td>\n",
       "      <td>birthday worry enjoy ur daytalke</td>\n",
       "    </tr>\n",
       "    <tr>\n",
       "      <th>111256</th>\n",
       "      <td>Pseudoscience category? \\n\\nI'm assuming that ...</td>\n",
       "      <td>0</td>\n",
       "      <td>pseudoscience category im assume article pseud...</td>\n",
       "    </tr>\n",
       "    <tr>\n",
       "      <th>83590</th>\n",
       "      <td>(and if such phrase exists, it would be provid...</td>\n",
       "      <td>0</td>\n",
       "      <td>phrase exists would provide search engine even...</td>\n",
       "    </tr>\n",
       "    <tr>\n",
       "      <th>37546</th>\n",
       "      <td>, 9 October 2007 (UTC)\\n\\nP.s, the delta funct...</td>\n",
       "      <td>0</td>\n",
       "      <td>october utc p delta function use example krone...</td>\n",
       "    </tr>\n",
       "    <tr>\n",
       "      <th>98371</th>\n",
       "      <td>]]- 10 September 1910, [[[Couvet]] )</td>\n",
       "      <td>0</td>\n",
       "      <td>september couvet</td>\n",
       "    </tr>\n",
       "    <tr>\n",
       "      <th>67118</th>\n",
       "      <td>Negro league baseball task-force talk].</td>\n",
       "      <td>0</td>\n",
       "      <td>negro league baseball taskforce talk</td>\n",
       "    </tr>\n",
       "    <tr>\n",
       "      <th>129625</th>\n",
       "      <td>List of My Three Sons episodes \\n\\nI saw you r...</td>\n",
       "      <td>0</td>\n",
       "      <td>list three son episodes saw redirect two seaso...</td>\n",
       "    </tr>\n",
       "    <tr>\n",
       "      <th>48941</th>\n",
       "      <td>Quoting Loremaster: In order to make sure you ...</td>\n",
       "      <td>0</td>\n",
       "      <td>quote loremaster order make sure understand</td>\n",
       "    </tr>\n",
       "  </tbody>\n",
       "</table>\n",
       "</div>"
      ],
      "text/plain": [
       "                                                     text  toxic  \\\n",
       "119105  Geez, are you forgetful!  We've already discus...      0   \n",
       "131631  Carioca RFA \\n\\nThanks for your support on my ...      0   \n",
       "125326  \"\\n\\n Birthday \\n\\nNo worries, It's what I do ...      0   \n",
       "111256  Pseudoscience category? \\n\\nI'm assuming that ...      0   \n",
       "83590   (and if such phrase exists, it would be provid...      0   \n",
       "37546   , 9 October 2007 (UTC)\\n\\nP.s, the delta funct...      0   \n",
       "98371                ]]- 10 September 1910, [[[Couvet]] )      0   \n",
       "67118             Negro league baseball task-force talk].      0   \n",
       "129625  List of My Three Sons episodes \\n\\nI saw you r...      0   \n",
       "48941   Quoting Loremaster: In order to make sure you ...      0   \n",
       "\n",
       "                                               clean_text  \n",
       "119105  geez forgetful weve already discuss marx anarc...  \n",
       "131631  carioca rfa thanks support request adminship f...  \n",
       "125326                   birthday worry enjoy ur daytalke  \n",
       "111256  pseudoscience category im assume article pseud...  \n",
       "83590   phrase exists would provide search engine even...  \n",
       "37546   october utc p delta function use example krone...  \n",
       "98371                                    september couvet  \n",
       "67118                negro league baseball taskforce talk  \n",
       "129625  list three son episodes saw redirect two seaso...  \n",
       "48941         quote loremaster order make sure understand  "
      ]
     },
     "execution_count": 15,
     "metadata": {},
     "output_type": "execute_result"
    }
   ],
   "source": [
    "# посмотрим на результат Lemmatization\n",
    "df_sample_lemmatization.head(10)"
   ]
  },
  {
   "cell_type": "markdown",
   "metadata": {},
   "source": [
    "Для обработки текстов всего датасета будем использовать Stemming, как более быстрый алгоритм.\n",
    "\n",
    "Преобразовывать текст будем батчами по 1000 строк, копируя промежуточный результат в список из датафреймов. Затем соберем весь датафрейм в один. Это сделано, всвязи с тем, что в диапазоне индексов [110000 : 119999] исходного датафрейма постоянно происходит падения ядра. Поэтому 115 батч был пропущен."
   ]
  },
  {
   "cell_type": "code",
   "execution_count": 17,
   "metadata": {},
   "outputs": [],
   "source": [
    "# список для хранения промежуточных батчей из датафреймов\n",
    "list_frame = []"
   ]
  },
  {
   "cell_type": "code",
   "execution_count": 18,
   "metadata": {},
   "outputs": [],
   "source": [
    "# размер батча\n",
    "batchsize = 1000\n",
    "\n",
    "df_len = df_toxic.shape[0]"
   ]
  },
  {
   "cell_type": "code",
   "execution_count": 19,
   "metadata": {},
   "outputs": [
    {
     "data": {
      "application/vnd.jupyter.widget-view+json": {
       "model_id": "37d04023da1f49c0abd16c0c005c3830",
       "version_major": 2,
       "version_minor": 0
      },
      "text/plain": [
       "  0%|          | 0/160 [00:00<?, ?it/s]"
      ]
     },
     "metadata": {},
     "output_type": "display_data"
    },
    {
     "name": "stdout",
     "output_type": "stream",
     "text": [
      "Wall time: 3min 47s\n"
     ]
    }
   ],
   "source": [
    "%%time\n",
    "for i in tqdm(range((df_len//batchsize)+1)):\n",
    "    \n",
    "    # батч 115 пропущен из-за падения ядра\n",
    "    if batchsize == 1000 and i == 115: \n",
    "        continue\n",
    "         \n",
    "    left = batchsize*i\n",
    "    right = batchsize*(i+1)-1\n",
    "    if right > df_len: \n",
    "        right = df_len\n",
    "        \n",
    "    df_batch = df_toxic[left:right].copy()\n",
    "    df_batch['clean_text'] = df_batch['text'].apply(lambda x: preprocessing_text(x))\n",
    "    \n",
    "    list_frame.append(df_batch)"
   ]
  },
  {
   "cell_type": "code",
   "execution_count": 20,
   "metadata": {},
   "outputs": [],
   "source": [
    "# собираем \"чистый\" датафрейм\n",
    "df_clean = pd.concat(list_frame)"
   ]
  },
  {
   "cell_type": "code",
   "execution_count": 21,
   "metadata": {},
   "outputs": [
    {
     "data": {
      "text/plain": [
       "0.1017593253078977"
      ]
     },
     "execution_count": 21,
     "metadata": {},
     "output_type": "execute_result"
    }
   ],
   "source": [
    "# контроль дисбаланса классов\n",
    "df_clean['toxic'].mean()"
   ]
  },
  {
   "cell_type": "code",
   "execution_count": 22,
   "metadata": {},
   "outputs": [
    {
     "data": {
      "text/plain": [
       "(158413, 3)"
      ]
     },
     "execution_count": 22,
     "metadata": {},
     "output_type": "execute_result"
    }
   ],
   "source": [
    "df_clean.shape"
   ]
  },
  {
   "cell_type": "markdown",
   "metadata": {},
   "source": [
    "Будем считать, что датафрейм не пострадал, из-за выброшенной 1000 строк (всего было 160 000)."
   ]
  },
  {
   "cell_type": "code",
   "execution_count": 23,
   "metadata": {},
   "outputs": [
    {
     "data": {
      "text/html": [
       "<div>\n",
       "<style scoped>\n",
       "    .dataframe tbody tr th:only-of-type {\n",
       "        vertical-align: middle;\n",
       "    }\n",
       "\n",
       "    .dataframe tbody tr th {\n",
       "        vertical-align: top;\n",
       "    }\n",
       "\n",
       "    .dataframe thead th {\n",
       "        text-align: right;\n",
       "    }\n",
       "</style>\n",
       "<table border=\"1\" class=\"dataframe\">\n",
       "  <thead>\n",
       "    <tr style=\"text-align: right;\">\n",
       "      <th></th>\n",
       "      <th>text</th>\n",
       "      <th>toxic</th>\n",
       "      <th>clean_text</th>\n",
       "    </tr>\n",
       "  </thead>\n",
       "  <tbody>\n",
       "    <tr>\n",
       "      <th>0</th>\n",
       "      <td>Explanation\\nWhy the edits made under my usern...</td>\n",
       "      <td>0</td>\n",
       "      <td>explan edit made usernam hardcor metallica fan...</td>\n",
       "    </tr>\n",
       "    <tr>\n",
       "      <th>1</th>\n",
       "      <td>D'aww! He matches this background colour I'm s...</td>\n",
       "      <td>0</td>\n",
       "      <td>daww match background colour im seemingli stuc...</td>\n",
       "    </tr>\n",
       "    <tr>\n",
       "      <th>2</th>\n",
       "      <td>Hey man, I'm really not trying to edit war. It...</td>\n",
       "      <td>0</td>\n",
       "      <td>hey man im realli tri edit war guy constantli ...</td>\n",
       "    </tr>\n",
       "    <tr>\n",
       "      <th>3</th>\n",
       "      <td>\"\\nMore\\nI can't make any real suggestions on ...</td>\n",
       "      <td>0</td>\n",
       "      <td>cant make real suggest improv wonder section s...</td>\n",
       "    </tr>\n",
       "    <tr>\n",
       "      <th>4</th>\n",
       "      <td>You, sir, are my hero. Any chance you remember...</td>\n",
       "      <td>0</td>\n",
       "      <td>sir hero chanc rememb page that</td>\n",
       "    </tr>\n",
       "  </tbody>\n",
       "</table>\n",
       "</div>"
      ],
      "text/plain": [
       "                                                text  toxic  \\\n",
       "0  Explanation\\nWhy the edits made under my usern...      0   \n",
       "1  D'aww! He matches this background colour I'm s...      0   \n",
       "2  Hey man, I'm really not trying to edit war. It...      0   \n",
       "3  \"\\nMore\\nI can't make any real suggestions on ...      0   \n",
       "4  You, sir, are my hero. Any chance you remember...      0   \n",
       "\n",
       "                                          clean_text  \n",
       "0  explan edit made usernam hardcor metallica fan...  \n",
       "1  daww match background colour im seemingli stuc...  \n",
       "2  hey man im realli tri edit war guy constantli ...  \n",
       "3  cant make real suggest improv wonder section s...  \n",
       "4                    sir hero chanc rememb page that  "
      ]
     },
     "execution_count": 23,
     "metadata": {},
     "output_type": "execute_result"
    }
   ],
   "source": [
    "df_clean.reset_index()\n",
    "df_clean.head(5)"
   ]
  },
  {
   "cell_type": "code",
   "execution_count": 29,
   "metadata": {},
   "outputs": [
    {
     "name": "stdout",
     "output_type": "stream",
     "text": [
      "Всего удалено 0.631261% строк из датасета\n"
     ]
    }
   ],
   "source": [
    "# выброшено из датасета\n",
    "(1000/df_clean.shape[0])\n",
    "print(\"Всего удалено {:%} строк из датасета.\".format((1000/df_clean.shape[0])))"
   ]
  },
  {
   "cell_type": "markdown",
   "metadata": {},
   "source": [
    "Сбросим отредактированный результат на диск. При падении ядра, можно будет восстановиться без потери времени на повторый препроцессинг."
   ]
  },
  {
   "cell_type": "code",
   "execution_count": 30,
   "metadata": {},
   "outputs": [],
   "source": [
    "try:\n",
    "    df_clean.to_csv('df_clean.csv')\n",
    "except:\n",
    "    print(\"Не удалось сохранить очищенный датасет!\")"
   ]
  },
  {
   "cell_type": "markdown",
   "metadata": {},
   "source": [
    "**Вывод:** В исходном датасете был обработан текст с использованием алгоритма Stemming. Часть датасета (0.6% ) пришлось выбросить, так как на этой части происходило падение ядра. Баланс классов при этом не нарушен. Результат преобразования сохранен на диск в файл df_clean.csv."
   ]
  },
  {
   "cell_type": "markdown",
   "metadata": {},
   "source": [
    "## Обучение"
   ]
  },
  {
   "cell_type": "markdown",
   "metadata": {},
   "source": [
    "### Разобьем данные на выборки train и test"
   ]
  },
  {
   "cell_type": "code",
   "execution_count": 31,
   "metadata": {},
   "outputs": [],
   "source": [
    "X = df_clean.drop(['toxic'], axis=1)\n",
    "y = df_clean['toxic'] "
   ]
  },
  {
   "cell_type": "code",
   "execution_count": 32,
   "metadata": {},
   "outputs": [],
   "source": [
    "X_train, X_test, y_train, y_test = train_test_split(X, y, test_size=0.2, random_state=42)"
   ]
  },
  {
   "cell_type": "markdown",
   "metadata": {},
   "source": [
    "Проверим результат разбиения на дисбаланс классов."
   ]
  },
  {
   "cell_type": "code",
   "execution_count": 33,
   "metadata": {},
   "outputs": [
    {
     "data": {
      "text/plain": [
       "0.10181488203266788"
      ]
     },
     "execution_count": 33,
     "metadata": {},
     "output_type": "execute_result"
    }
   ],
   "source": [
    "y_train.mean()"
   ]
  },
  {
   "cell_type": "code",
   "execution_count": 34,
   "metadata": {},
   "outputs": [
    {
     "data": {
      "text/plain": [
       "0.10153710191585393"
      ]
     },
     "execution_count": 34,
     "metadata": {},
     "output_type": "execute_result"
    }
   ],
   "source": [
    "y_test.mean()"
   ]
  },
  {
   "cell_type": "markdown",
   "metadata": {},
   "source": [
    "Разбиение произошло без нарушений дисбаланса классов."
   ]
  },
  {
   "cell_type": "markdown",
   "metadata": {},
   "source": [
    "### Векторизация текстов"
   ]
  },
  {
   "cell_type": "code",
   "execution_count": 35,
   "metadata": {},
   "outputs": [],
   "source": [
    "# получение корпуса в кодировке Юникод\n",
    "corpus_train = X_train['clean_text'].values.astype('U')\n",
    "corpus_test = X_test['clean_text'].values.astype('U')\n",
    "\n",
    "# Получение TF-IDF для корпуса текста\n",
    "tf_idf = TfidfVectorizer() \n",
    "\n",
    "# fit_transform для train\n",
    "tf_idf_train = tf_idf.fit_transform(corpus_train) \n",
    "\n",
    "# transform для test\n",
    "tf_idf_test = tf_idf.transform(corpus_test)"
   ]
  },
  {
   "cell_type": "markdown",
   "metadata": {},
   "source": [
    "Для замеров производительности выполнения создадим класс."
   ]
  },
  {
   "cell_type": "code",
   "execution_count": 36,
   "metadata": {},
   "outputs": [],
   "source": [
    "class timeit():\n",
    "    import time\n",
    "    def __init__(self):\n",
    "        self.runtime = 0\n",
    "    def __enter__(self):\n",
    "        self.tic = self.time.time()\n",
    "    def __exit__(self, *args, **kwargs):\n",
    "        self.runtime = self.time.time() - self.tic\n",
    "\n",
    "# создаем экземпляр класса\n",
    "myclock = timeit()"
   ]
  },
  {
   "cell_type": "markdown",
   "metadata": {},
   "source": [
    "Подготовим функцию, для тренировки различных моделей."
   ]
  },
  {
   "cell_type": "code",
   "execution_count": 37,
   "metadata": {},
   "outputs": [],
   "source": [
    "# список для результатов исследования различных моделей\n",
    "result_list=[]"
   ]
  },
  {
   "cell_type": "code",
   "execution_count": 38,
   "metadata": {},
   "outputs": [],
   "source": [
    "# функция тренирует модель и предсказывает результат.\n",
    "# с замером времени\n",
    "def model_fit_predict(model, modelname=''):\n",
    "\n",
    "    with myclock:\n",
    "        model.fit(tf_idf_train, y_train)\n",
    "    trainingtime = myclock.runtime\n",
    "\n",
    "    with myclock:\n",
    "        y_predict = model.predict(tf_idf_test)\n",
    "    predicttime = myclock.runtime\n",
    "    \n",
    "    if modelname == '':\n",
    "        modelname = str(model)\n",
    "        modelname = modelname.replace(\"(\", '')\n",
    "        modelname = modelname.replace(\")\", '')\n",
    "    \n",
    "    #RMSE = np.sqrt(mean_squared_error(y_test, y_predict))\n",
    "    f1 = f1_score(y_test, y_predict)\n",
    "    print(\"{} f1 = {:.2f}\".format(modelname, f1))\n",
    "    \n",
    "    result_list.append({ 'model': modelname,'training_time':trainingtime, 'predict_time':predicttime, 'f1':f1})\n"
   ]
  },
  {
   "cell_type": "markdown",
   "metadata": {},
   "source": [
    "### Dummy"
   ]
  },
  {
   "cell_type": "markdown",
   "metadata": {},
   "source": [
    "За точку отсчета примем результаты dummy модели"
   ]
  },
  {
   "cell_type": "code",
   "execution_count": 39,
   "metadata": {},
   "outputs": [
    {
     "name": "stdout",
     "output_type": "stream",
     "text": [
      "DummyClassifierstrategy='most_frequent' f1 = 0.00\n",
      "Wall time: 27 ms\n"
     ]
    }
   ],
   "source": [
    "%%time\n",
    "dummy_clf = DummyClassifier(strategy=\"most_frequent\")\n",
    "model_fit_predict(dummy_clf)"
   ]
  },
  {
   "cell_type": "markdown",
   "metadata": {},
   "source": [
    "### LogisticRegression"
   ]
  },
  {
   "cell_type": "code",
   "execution_count": 40,
   "metadata": {
    "scrolled": true
   },
   "outputs": [
    {
     "name": "stdout",
     "output_type": "stream",
     "text": [
      "Fitting 3 folds for each of 3 candidates, totalling 9 fits\n",
      "Wall time: 55.4 s\n"
     ]
    },
    {
     "name": "stderr",
     "output_type": "stream",
     "text": [
      "c:\\users\\admin\\appdata\\local\\programs\\python\\python39\\lib\\site-packages\\sklearn\\linear_model\\_sag.py:328: ConvergenceWarning: The max_iter was reached which means the coef_ did not converge\n",
      "  warnings.warn(\"The max_iter was reached which means \"\n"
     ]
    },
    {
     "data": {
      "text/plain": [
       "LogisticRegression(class_weight='balanced', random_state=42, solver='saga')"
      ]
     },
     "execution_count": 40,
     "metadata": {},
     "output_type": "execute_result"
    }
   ],
   "source": [
    "%%time\n",
    "model_lg = LogisticRegression(random_state = 42, class_weight = 'balanced')\n",
    "\n",
    "param_dist = {\"penalty\": ['l2'],\n",
    "               \"solver\": ['sag','saga','liblinear'] \n",
    "              }\n",
    "grid_search = GridSearchCV(model_lg, n_jobs=-1, param_grid=param_dist, cv = 3, scoring=\"f1\", verbose=5)\n",
    "grid_search.fit(tf_idf_train,y_train)\n",
    "\n",
    "# лучший оценщик\n",
    "grid_search.best_estimator_"
   ]
  },
  {
   "cell_type": "code",
   "execution_count": 41,
   "metadata": {},
   "outputs": [
    {
     "name": "stdout",
     "output_type": "stream",
     "text": [
      "LogisticRegression f1 = 0.76\n",
      "Wall time: 17.2 s\n"
     ]
    },
    {
     "name": "stderr",
     "output_type": "stream",
     "text": [
      "c:\\users\\admin\\appdata\\local\\programs\\python\\python39\\lib\\site-packages\\sklearn\\linear_model\\_sag.py:328: ConvergenceWarning: The max_iter was reached which means the coef_ did not converge\n",
      "  warnings.warn(\"The max_iter was reached which means \"\n"
     ]
    }
   ],
   "source": [
    "%%time\n",
    "model_lg = LogisticRegression(random_state = 42, class_weight = 'balanced', solver='saga')\n",
    "model_fit_predict(model_lg, 'LogisticRegression')"
   ]
  },
  {
   "cell_type": "markdown",
   "metadata": {},
   "source": [
    "### NearestCentroid\n",
    "\n",
    "The NearestCentroid classifier is a simple algorithm that represents each class by the centroid of its members"
   ]
  },
  {
   "cell_type": "code",
   "execution_count": 42,
   "metadata": {},
   "outputs": [
    {
     "name": "stdout",
     "output_type": "stream",
     "text": [
      "NearestCentroid f1 = 0.69\n",
      "Wall time: 121 ms\n"
     ]
    }
   ],
   "source": [
    "%%time\n",
    "model_nc = NearestCentroid()\n",
    "model_fit_predict(model_nc)"
   ]
  },
  {
   "cell_type": "markdown",
   "metadata": {},
   "source": [
    "### Perceptron\n",
    "\n",
    "The Perceptron is another simple classification algorithm suitable for large scale learning. By default:"
   ]
  },
  {
   "cell_type": "code",
   "execution_count": 44,
   "metadata": {},
   "outputs": [
    {
     "name": "stdout",
     "output_type": "stream",
     "text": [
      "Perceptron f1 = 0.70\n",
      "Wall time: 998 ms\n"
     ]
    }
   ],
   "source": [
    "%%time\n",
    "model_p =  Perceptron(random_state= 42, class_weight = 'balanced')\n",
    "model_fit_predict(model_p, 'Perceptron')"
   ]
  },
  {
   "cell_type": "markdown",
   "metadata": {},
   "source": [
    "### SGDClassifier\n",
    "\n",
    "Linear classifiers (SVM, logistic regression, etc.) with SGD training."
   ]
  },
  {
   "cell_type": "code",
   "execution_count": 45,
   "metadata": {},
   "outputs": [
    {
     "name": "stdout",
     "output_type": "stream",
     "text": [
      "Fitting 3 folds for each of 12 candidates, totalling 36 fits\n"
     ]
    },
    {
     "data": {
      "text/plain": [
       "{'max_iter': 1000, 'penalty': 'elasticnet', 'shuffle': False}"
      ]
     },
     "execution_count": 45,
     "metadata": {},
     "output_type": "execute_result"
    }
   ],
   "source": [
    "model_sgd = SGDClassifier(random_state = 42, class_weight = 'balanced')\n",
    "\n",
    "param_dist = {\"penalty\": ['l2','elasticnet','l1'],\n",
    "              \"max_iter\": [1000, 2000],\n",
    "               \"shuffle\": [True,False] \n",
    "              }\n",
    "grid_search = GridSearchCV(model_sgd, n_jobs=-1, param_grid=param_dist, cv = 3, scoring=\"f1\", verbose=5)\n",
    "grid_search.fit(tf_idf_train,y_train)\n",
    "\n",
    "# лучший оценщик\n",
    "grid_search.best_params_"
   ]
  },
  {
   "cell_type": "code",
   "execution_count": 46,
   "metadata": {},
   "outputs": [
    {
     "name": "stdout",
     "output_type": "stream",
     "text": [
      "SGDClassifier f1 = 0.75\n",
      "Wall time: 712 ms\n"
     ]
    }
   ],
   "source": [
    "%%time\n",
    "model_sgd = SGDClassifier(class_weight = 'balanced', penalty = 'elasticnet', max_iter = 1000, shuffle=False)\n",
    "model_fit_predict(model_sgd, 'SGDClassifier')"
   ]
  },
  {
   "cell_type": "markdown",
   "metadata": {},
   "source": [
    "### ComplementNB\n",
    "\n",
    "The Complement Naive Bayes classifier was designed to correct the “severe assumptions” made by the standard Multinomial Naive Bayes classifier. It is particularly suited for imbalanced data sets."
   ]
  },
  {
   "cell_type": "code",
   "execution_count": 47,
   "metadata": {},
   "outputs": [
    {
     "name": "stdout",
     "output_type": "stream",
     "text": [
      "ComplementNB f1 = 0.60\n",
      "Wall time: 113 ms\n"
     ]
    }
   ],
   "source": [
    "%%time\n",
    "clf = ComplementNB()\n",
    "model_fit_predict(clf, 'ComplementNB')"
   ]
  },
  {
   "cell_type": "markdown",
   "metadata": {},
   "source": [
    "Вопреки ожиданиям, модель не подошла для несбаланисованных классов."
   ]
  },
  {
   "cell_type": "markdown",
   "metadata": {},
   "source": [
    "### LGBMClassifier"
   ]
  },
  {
   "cell_type": "markdown",
   "metadata": {},
   "source": [
    "#### Подбираем гиперпараметры модели LGBMClassifier"
   ]
  },
  {
   "cell_type": "markdown",
   "metadata": {},
   "source": [
    "- boosting_type (string, optional (default='gbdt')) – ‘gbdt’, traditional Gradient Boosting Decision Tree. ‘dart’, Dropouts - meet Multiple Additive Regression Trees. ‘goss’, Gradient-based One-Side Sampling. ‘rf’, Random Forest.\n",
    "- max_depth (int, optional (default=-1)) – Maximum tree depth for base learners, <=0 means no limit.\n",
    "- n_estimators (int, optional (default=100)) – Number of boosted trees to fit.\n",
    "- learning_rate (float, optional (default=0.1)) – Boosting learning rate."
   ]
  },
  {
   "cell_type": "code",
   "execution_count": 48,
   "metadata": {},
   "outputs": [
    {
     "name": "stdout",
     "output_type": "stream",
     "text": [
      "Fitting 3 folds for each of 4 candidates, totalling 12 fits\n",
      "[LightGBM] [Warning] Accuracy may be bad since you didn't explicitly set num_leaves OR 2^max_depth > num_leaves. (num_leaves=31).\n",
      "[LightGBM] [Warning] Accuracy may be bad since you didn't explicitly set num_leaves OR 2^max_depth > num_leaves. (num_leaves=31).\n",
      "[LightGBM] [Info] Number of positive: 12903, number of negative: 113827\n",
      "[LightGBM] [Warning] Auto-choosing col-wise multi-threading, the overhead of testing was 4.748123 seconds.\n",
      "You can set `force_col_wise=true` to remove the overhead.\n",
      "[LightGBM] [Info] Total Bins 520626\n",
      "[LightGBM] [Info] Number of data points in the train set: 126730, number of used features: 8835\n",
      "[LightGBM] [Info] [binary:BoostFromScore]: pavg=0.500000 -> initscore=-0.000000\n",
      "[LightGBM] [Info] Start training from score -0.000000\n",
      "Wall time: 18min 8s\n"
     ]
    },
    {
     "data": {
      "text/plain": [
       "{'boosting_type': 'gbdt',\n",
       " 'learning_rate': 0.5,\n",
       " 'max_depth': 50,\n",
       " 'n_estimators': 500}"
      ]
     },
     "execution_count": 48,
     "metadata": {},
     "output_type": "execute_result"
    }
   ],
   "source": [
    "%%time\n",
    "lg = lgb.LGBMClassifier(silent=False, class_weight = 'balanced')\n",
    "param_dist = {\"max_depth\": [50],\n",
    "               \"learning_rate\" : [0.5],\n",
    "               \"boosting_type\": ['gbdt','goss'],\n",
    "               \"n_estimators\": [200, 500]\n",
    "             }\n",
    "grid_search = GridSearchCV(lg, n_jobs=-1, param_grid=param_dist, cv = 3, scoring=\"f1\", verbose=5)\n",
    "grid_search.fit(tf_idf_train,y_train)\n",
    "grid_search.best_params_"
   ]
  },
  {
   "cell_type": "code",
   "execution_count": 50,
   "metadata": {},
   "outputs": [
    {
     "name": "stdout",
     "output_type": "stream",
     "text": [
      "LGBMClassifier f1 = 0.77\n",
      "Wall time: 1min 58s\n"
     ]
    }
   ],
   "source": [
    "%%time\n",
    "model_lgbm = lgb.LGBMClassifier(boosting_type='gbdt', objective='binary', class_weight = 'balanced', n_estimators=500, \\\n",
    "                                learning_rate=0.5, max_depth=50)\n",
    "model_fit_predict(model_lgbm, 'LGBMClassifier')"
   ]
  },
  {
   "cell_type": "code",
   "execution_count": 51,
   "metadata": {},
   "outputs": [
    {
     "data": {
      "text/html": [
       "<div>\n",
       "<style scoped>\n",
       "    .dataframe tbody tr th:only-of-type {\n",
       "        vertical-align: middle;\n",
       "    }\n",
       "\n",
       "    .dataframe tbody tr th {\n",
       "        vertical-align: top;\n",
       "    }\n",
       "\n",
       "    .dataframe thead th {\n",
       "        text-align: right;\n",
       "    }\n",
       "</style>\n",
       "<table border=\"1\" class=\"dataframe\">\n",
       "  <thead>\n",
       "    <tr style=\"text-align: right;\">\n",
       "      <th></th>\n",
       "      <th>model</th>\n",
       "      <th>training_time</th>\n",
       "      <th>predict_time</th>\n",
       "      <th>f1</th>\n",
       "    </tr>\n",
       "  </thead>\n",
       "  <tbody>\n",
       "    <tr>\n",
       "      <th>6</th>\n",
       "      <td>LGBMClassifier</td>\n",
       "      <td>115.268021</td>\n",
       "      <td>2.813392</td>\n",
       "      <td>0.774858</td>\n",
       "    </tr>\n",
       "    <tr>\n",
       "      <th>1</th>\n",
       "      <td>LogisticRegression</td>\n",
       "      <td>17.162919</td>\n",
       "      <td>0.004997</td>\n",
       "      <td>0.759608</td>\n",
       "    </tr>\n",
       "    <tr>\n",
       "      <th>4</th>\n",
       "      <td>SGDClassifier</td>\n",
       "      <td>0.693623</td>\n",
       "      <td>0.003998</td>\n",
       "      <td>0.748842</td>\n",
       "    </tr>\n",
       "    <tr>\n",
       "      <th>3</th>\n",
       "      <td>Perceptron</td>\n",
       "      <td>0.981440</td>\n",
       "      <td>0.005001</td>\n",
       "      <td>0.701860</td>\n",
       "    </tr>\n",
       "    <tr>\n",
       "      <th>2</th>\n",
       "      <td>NearestCentroid</td>\n",
       "      <td>0.095965</td>\n",
       "      <td>0.014989</td>\n",
       "      <td>0.693864</td>\n",
       "    </tr>\n",
       "    <tr>\n",
       "      <th>5</th>\n",
       "      <td>ComplementNB</td>\n",
       "      <td>0.089948</td>\n",
       "      <td>0.013991</td>\n",
       "      <td>0.598563</td>\n",
       "    </tr>\n",
       "    <tr>\n",
       "      <th>0</th>\n",
       "      <td>DummyClassifierstrategy='most_frequent'</td>\n",
       "      <td>0.010014</td>\n",
       "      <td>0.000000</td>\n",
       "      <td>0.000000</td>\n",
       "    </tr>\n",
       "  </tbody>\n",
       "</table>\n",
       "</div>"
      ],
      "text/plain": [
       "                                     model  training_time  predict_time  \\\n",
       "6                           LGBMClassifier     115.268021      2.813392   \n",
       "1                       LogisticRegression      17.162919      0.004997   \n",
       "4                            SGDClassifier       0.693623      0.003998   \n",
       "3                               Perceptron       0.981440      0.005001   \n",
       "2                          NearestCentroid       0.095965      0.014989   \n",
       "5                             ComplementNB       0.089948      0.013991   \n",
       "0  DummyClassifierstrategy='most_frequent'       0.010014      0.000000   \n",
       "\n",
       "         f1  \n",
       "6  0.774858  \n",
       "1  0.759608  \n",
       "4  0.748842  \n",
       "3  0.701860  \n",
       "2  0.693864  \n",
       "5  0.598563  \n",
       "0  0.000000  "
      ]
     },
     "execution_count": 51,
     "metadata": {},
     "output_type": "execute_result"
    }
   ],
   "source": [
    "df_result = pd.DataFrame(result_list)\n",
    "df_result.sort_values(by = 'f1', ascending = False)"
   ]
  },
  {
   "cell_type": "markdown",
   "metadata": {},
   "source": [
    "## Выводы"
   ]
  },
  {
   "attachments": {
    "image.png": {
     "image/png": "[encoded data removed]"
    }
   },
   "cell_type": "markdown",
   "metadata": {},
   "source": [
    "Для построения модели классификации комментариев были выполнены следующие действия:\n",
    "\n",
    "- загружен датасет с данными. \n",
    "- проведена операция по выделению токенов в исходных текстах. \n",
    "- были построены различные модели с учетом дисбаланса классов\n",
    "\n",
    "Результаты исследований сведены в итоговою табличку.\n",
    "\n",
    "![image.png](attachment:image.png)\n",
    "\n",
    "\n",
    "Для распознования токсичных комментариев по комбинации факторов скорость обучения vs результат и с учетомом пороговой метрики f1 = 0.75  - достаточно модели самой обычной логистической регрессии. \n",
    "\n",
    "Если же время обучения не является критическим фактором, то выбор следует остановить на LGBMClassifier."
   ]
  }
 ],
 "metadata": {
  "kernelspec": {
   "display_name": "Python 3",
   "language": "python",
   "name": "python3"
  },
  "language_info": {
   "codemirror_mode": {
    "name": "ipython",
    "version": 3
   },
   "file_extension": ".py",
   "mimetype": "text/x-python",
   "name": "python",
   "nbconvert_exporter": "python",
   "pygments_lexer": "ipython3",
   "version": "3.9.0"
  },
  "toc": {
   "base_numbering": 1,
   "nav_menu": {},
   "number_sections": true,
   "sideBar": true,
   "skip_h1_title": true,
   "title_cell": "Содержание",
   "title_sidebar": "Contents",
   "toc_cell": true,
   "toc_position": {
    "height": "calc(100% - 180px)",
    "left": "10px",
    "top": "150px",
    "width": "302.391px"
   },
   "toc_section_display": true,
   "toc_window_display": false
  }
 },
 "nbformat": 4,
 "nbformat_minor": 2
}
