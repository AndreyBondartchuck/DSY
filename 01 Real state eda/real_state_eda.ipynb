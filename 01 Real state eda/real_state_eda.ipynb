{
 "cells": [
  {
   "cell_type": "markdown",
   "metadata": {},
   "source": [
    "# Исследование объявлений о продаже квартир\n",
    "\n",
    "В вашем распоряжении данные сервиса Яндекс.Недвижимость — архив объявлений о продаже квартир в Санкт-Петербурге и соседних населённых пунктов за несколько лет. Нужно научиться определять рыночную стоимость объектов недвижимости. Ваша задача — установить параметры. Это позволит построить автоматизированную систему: она отследит аномалии и мошенническую деятельность. \n",
    "\n",
    "По каждой квартире на продажу доступны два вида данных. Первые вписаны пользователем, вторые — получены автоматически на основе картографических данных. Например, расстояние до центра, аэропорта, ближайшего парка и водоёма. "
   ]
  },
  {
   "cell_type": "markdown",
   "metadata": {},
   "source": [
    "## План исследования\n",
    "\n",
    "### Предварительный осмотр данных:\n",
    "\n",
    "- соберем общую информацию о данных \n",
    "- оценим нехватку или избыточность данных\n",
    "- определим явно некорректные данные\n",
    "\n",
    "### Предобработка данных\n",
    "\n",
    "- определим и заполним пропущенные значения\n",
    "- заменим типы данных для оптимизации хранения датасет в оперативной памяти\n",
    "- удалим дубликаты\n",
    "- проведем категоризацию данных\n",
    "\n",
    "### Вопросы - на которые небходимо найти ответы в ходе анализа данных:\n",
    "\n",
    "- Какие факторы больше всего влияют на стоимость квартиры? Изучите, зависит ли цена от площади, числа комнат, удалённости от центра. Изучите зависимость цены от того, на каком этаже расположена квартира: первом, последнем или другом. Также изучите зависимость от даты размещения: дня недели, месяца и года.\n",
    "\n",
    "- Выберите 10 населённых пунктов с наибольшим числом объявлений. Посчитайте среднюю цену квадратного метра в этих населённых пунктах. Выделите среди них населённые пункты с самой высокой и низкой стоимостью жилья. Эти данные можно найти по имени в столбце 'locality_name'.\n",
    "\n",
    "- Изучите предложения квартир: для каждой квартиры есть информация о расстоянии до центра. Выделите квартиры в Санкт-Петербурге ('locality_name'). Ваша задача — выяснить, какая область входит в центр. Создайте столбец с расстоянием до центра в километрах: округлите до целых значений. После этого посчитайте среднюю цену для каждого километра. Постройте график: он должен показывать, как цена зависит от удалённости от центра. Определите границу, где график сильно меняется — это и будет центральная зона.\n",
    "\n",
    "- Выделите сегмент квартир в центре. Проанализируйте эту территорию и изучите следующие параметры: площадь, цена, число комнат, высота потолков. Также выделите факторы, которые влияют на стоимость квартиры (число комнат, этаж, удалённость от центра, дата размещения объявления). Сделайте выводы. Отличаются ли они от общих выводов по всему городу?\n",
    "\n",
    "### **Составить общий вывод**\n",
    "\n"
   ]
  },
  {
   "cell_type": "markdown",
   "metadata": {},
   "source": [
    "### Шаг 1. Откройте файл с данными и изучите общую информацию. "
   ]
  },
  {
   "cell_type": "code",
   "execution_count": 35,
   "metadata": {},
   "outputs": [],
   "source": [
    "import pandas as pd\n",
    "import numpy as np\n",
    "import matplotlib.pyplot as plt\n",
    "from datetime import datetime\n",
    "\n",
    "%matplotlib inline"
   ]
  },
  {
   "cell_type": "code",
   "execution_count": 36,
   "metadata": {},
   "outputs": [],
   "source": [
    "#!pip3 install Seaborn\n",
    "import seaborn as sns"
   ]
  },
  {
   "cell_type": "code",
   "execution_count": 40,
   "metadata": {},
   "outputs": [],
   "source": [
    "local = False\n",
    "if local: \n",
    "    df = pd.read_csv('./datasets/real_estate_data.csv','\\t') \n",
    "else:\n",
    "    # чтение с googl диска\n",
    "    url = \"https://drive.google.com/file/d/1nQuTDENKhfqw76p1Wrji4AhDIM3U1MKn/view?usp=sharing\"\n",
    "    path = 'https://drive.google.com/uc?export=download&id='+ url.split('/')[-2]\n",
    "    df = pd.read_csv(path,sep='\\t')"
   ]
  },
  {
   "cell_type": "code",
   "execution_count": 43,
   "metadata": {
    "scrolled": true
   },
   "outputs": [
    {
     "data": {
      "text/html": [
       "<div>\n",
       "<style scoped>\n",
       "    .dataframe tbody tr th:only-of-type {\n",
       "        vertical-align: middle;\n",
       "    }\n",
       "\n",
       "    .dataframe tbody tr th {\n",
       "        vertical-align: top;\n",
       "    }\n",
       "\n",
       "    .dataframe thead th {\n",
       "        text-align: right;\n",
       "    }\n",
       "</style>\n",
       "<table border=\"1\" class=\"dataframe\">\n",
       "  <thead>\n",
       "    <tr style=\"text-align: right;\">\n",
       "      <th></th>\n",
       "      <th>total_images</th>\n",
       "      <th>last_price</th>\n",
       "      <th>total_area</th>\n",
       "      <th>first_day_exposition</th>\n",
       "      <th>rooms</th>\n",
       "      <th>ceiling_height</th>\n",
       "      <th>floors_total</th>\n",
       "      <th>living_area</th>\n",
       "      <th>floor</th>\n",
       "      <th>is_apartment</th>\n",
       "      <th>...</th>\n",
       "      <th>kitchen_area</th>\n",
       "      <th>balcony</th>\n",
       "      <th>locality_name</th>\n",
       "      <th>airports_nearest</th>\n",
       "      <th>cityCenters_nearest</th>\n",
       "      <th>parks_around3000</th>\n",
       "      <th>parks_nearest</th>\n",
       "      <th>ponds_around3000</th>\n",
       "      <th>ponds_nearest</th>\n",
       "      <th>days_exposition</th>\n",
       "    </tr>\n",
       "  </thead>\n",
       "  <tbody>\n",
       "    <tr>\n",
       "      <th>0</th>\n",
       "      <td>20</td>\n",
       "      <td>13000000.0</td>\n",
       "      <td>108.0</td>\n",
       "      <td>2019-03-07T00:00:00</td>\n",
       "      <td>3</td>\n",
       "      <td>2.70</td>\n",
       "      <td>16.0</td>\n",
       "      <td>51.0</td>\n",
       "      <td>8</td>\n",
       "      <td>NaN</td>\n",
       "      <td>...</td>\n",
       "      <td>25.0</td>\n",
       "      <td>NaN</td>\n",
       "      <td>Санкт-Петербург</td>\n",
       "      <td>18863.0</td>\n",
       "      <td>16028.0</td>\n",
       "      <td>1.0</td>\n",
       "      <td>482.0</td>\n",
       "      <td>2.0</td>\n",
       "      <td>755.0</td>\n",
       "      <td>NaN</td>\n",
       "    </tr>\n",
       "    <tr>\n",
       "      <th>1</th>\n",
       "      <td>7</td>\n",
       "      <td>3350000.0</td>\n",
       "      <td>40.4</td>\n",
       "      <td>2018-12-04T00:00:00</td>\n",
       "      <td>1</td>\n",
       "      <td>NaN</td>\n",
       "      <td>11.0</td>\n",
       "      <td>18.6</td>\n",
       "      <td>1</td>\n",
       "      <td>NaN</td>\n",
       "      <td>...</td>\n",
       "      <td>11.0</td>\n",
       "      <td>2.0</td>\n",
       "      <td>посёлок Шушары</td>\n",
       "      <td>12817.0</td>\n",
       "      <td>18603.0</td>\n",
       "      <td>0.0</td>\n",
       "      <td>NaN</td>\n",
       "      <td>0.0</td>\n",
       "      <td>NaN</td>\n",
       "      <td>81.0</td>\n",
       "    </tr>\n",
       "    <tr>\n",
       "      <th>2</th>\n",
       "      <td>10</td>\n",
       "      <td>5196000.0</td>\n",
       "      <td>56.0</td>\n",
       "      <td>2015-08-20T00:00:00</td>\n",
       "      <td>2</td>\n",
       "      <td>NaN</td>\n",
       "      <td>5.0</td>\n",
       "      <td>34.3</td>\n",
       "      <td>4</td>\n",
       "      <td>NaN</td>\n",
       "      <td>...</td>\n",
       "      <td>8.3</td>\n",
       "      <td>0.0</td>\n",
       "      <td>Санкт-Петербург</td>\n",
       "      <td>21741.0</td>\n",
       "      <td>13933.0</td>\n",
       "      <td>1.0</td>\n",
       "      <td>90.0</td>\n",
       "      <td>2.0</td>\n",
       "      <td>574.0</td>\n",
       "      <td>558.0</td>\n",
       "    </tr>\n",
       "    <tr>\n",
       "      <th>3</th>\n",
       "      <td>0</td>\n",
       "      <td>64900000.0</td>\n",
       "      <td>159.0</td>\n",
       "      <td>2015-07-24T00:00:00</td>\n",
       "      <td>3</td>\n",
       "      <td>NaN</td>\n",
       "      <td>14.0</td>\n",
       "      <td>NaN</td>\n",
       "      <td>9</td>\n",
       "      <td>NaN</td>\n",
       "      <td>...</td>\n",
       "      <td>NaN</td>\n",
       "      <td>0.0</td>\n",
       "      <td>Санкт-Петербург</td>\n",
       "      <td>28098.0</td>\n",
       "      <td>6800.0</td>\n",
       "      <td>2.0</td>\n",
       "      <td>84.0</td>\n",
       "      <td>3.0</td>\n",
       "      <td>234.0</td>\n",
       "      <td>424.0</td>\n",
       "    </tr>\n",
       "    <tr>\n",
       "      <th>4</th>\n",
       "      <td>2</td>\n",
       "      <td>10000000.0</td>\n",
       "      <td>100.0</td>\n",
       "      <td>2018-06-19T00:00:00</td>\n",
       "      <td>2</td>\n",
       "      <td>3.03</td>\n",
       "      <td>14.0</td>\n",
       "      <td>32.0</td>\n",
       "      <td>13</td>\n",
       "      <td>NaN</td>\n",
       "      <td>...</td>\n",
       "      <td>41.0</td>\n",
       "      <td>NaN</td>\n",
       "      <td>Санкт-Петербург</td>\n",
       "      <td>31856.0</td>\n",
       "      <td>8098.0</td>\n",
       "      <td>2.0</td>\n",
       "      <td>112.0</td>\n",
       "      <td>1.0</td>\n",
       "      <td>48.0</td>\n",
       "      <td>121.0</td>\n",
       "    </tr>\n",
       "  </tbody>\n",
       "</table>\n",
       "<p>5 rows × 22 columns</p>\n",
       "</div>"
      ],
      "text/plain": [
       "   total_images  last_price  total_area first_day_exposition  rooms  \\\n",
       "0            20  13000000.0       108.0  2019-03-07T00:00:00      3   \n",
       "1             7   3350000.0        40.4  2018-12-04T00:00:00      1   \n",
       "2            10   5196000.0        56.0  2015-08-20T00:00:00      2   \n",
       "3             0  64900000.0       159.0  2015-07-24T00:00:00      3   \n",
       "4             2  10000000.0       100.0  2018-06-19T00:00:00      2   \n",
       "\n",
       "   ceiling_height  floors_total  living_area  floor is_apartment  ...  \\\n",
       "0            2.70          16.0         51.0      8          NaN  ...   \n",
       "1             NaN          11.0         18.6      1          NaN  ...   \n",
       "2             NaN           5.0         34.3      4          NaN  ...   \n",
       "3             NaN          14.0          NaN      9          NaN  ...   \n",
       "4            3.03          14.0         32.0     13          NaN  ...   \n",
       "\n",
       "   kitchen_area  balcony    locality_name  airports_nearest  \\\n",
       "0          25.0      NaN  Санкт-Петербург           18863.0   \n",
       "1          11.0      2.0   посёлок Шушары           12817.0   \n",
       "2           8.3      0.0  Санкт-Петербург           21741.0   \n",
       "3           NaN      0.0  Санкт-Петербург           28098.0   \n",
       "4          41.0      NaN  Санкт-Петербург           31856.0   \n",
       "\n",
       "  cityCenters_nearest  parks_around3000  parks_nearest  ponds_around3000  \\\n",
       "0             16028.0               1.0          482.0               2.0   \n",
       "1             18603.0               0.0            NaN               0.0   \n",
       "2             13933.0               1.0           90.0               2.0   \n",
       "3              6800.0               2.0           84.0               3.0   \n",
       "4              8098.0               2.0          112.0               1.0   \n",
       "\n",
       "   ponds_nearest  days_exposition  \n",
       "0          755.0              NaN  \n",
       "1            NaN             81.0  \n",
       "2          574.0            558.0  \n",
       "3          234.0            424.0  \n",
       "4           48.0            121.0  \n",
       "\n",
       "[5 rows x 22 columns]"
      ]
     },
     "execution_count": 43,
     "metadata": {},
     "output_type": "execute_result"
    }
   ],
   "source": [
    "df.head()"
   ]
  },
  {
   "cell_type": "code",
   "execution_count": null,
   "metadata": {},
   "outputs": [],
   "source": [
    "df.sample(5)"
   ]
  },
  {
   "cell_type": "markdown",
   "metadata": {},
   "source": [
    "#### Описание данных\n",
    "* airports_nearest — расстояние до ближайшего аэропорта в метрах (м)\n",
    "* balcony — число балконов\n",
    "* ceiling_height — высота потолков (м)\n",
    "* cityCenters_nearest — расстояние до центра города (м)\n",
    "* days_exposition — сколько дней было размещено объявление (от публикации до снятия)\n",
    "* first_day_exposition — дата публикации\n",
    "* floor — этаж\n",
    "* floors_total — всего этажей в доме\n",
    "* is_apartment — апартаменты (булев тип)\n",
    "* kitchen_area — площадь кухни (м²)\n",
    "* last_price — цена на момент снятия с публикации\n",
    "* living_area — жилая площадь (м²)\n",
    "* locality_name — название населённого пункта\n",
    "* open_plan — свободная планировка (булев тип)\n",
    "* parks_around3000 — число парков в радиусе 3 км\n",
    "* parks_nearest — расстояние до ближайшего парка (м)\n",
    "* ponds_around3000 — число водоёмов в радиусе 3 км\n",
    "* ponds_nearest — расстояние до ближайшего водоёма (м)\n",
    "* rooms — число комнат\n",
    "* studio — квартира-студия (булев тип)\n",
    "* total_area — площадь квартиры в квадратных метрах (м²)\n",
    "* total_images — число фотографий квартиры в объявлении"
   ]
  },
  {
   "cell_type": "code",
   "execution_count": 53,
   "metadata": {},
   "outputs": [
    {
     "name": "stdout",
     "output_type": "stream",
     "text": [
      "<class 'pandas.core.frame.DataFrame'>\n",
      "RangeIndex: 23699 entries, 0 to 23698\n",
      "Data columns (total 22 columns):\n",
      "total_images            23699 non-null int64\n",
      "last_price              23699 non-null float64\n",
      "total_area              23699 non-null float64\n",
      "first_day_exposition    23699 non-null object\n",
      "rooms                   23699 non-null int64\n",
      "ceiling_height          14504 non-null float64\n",
      "floors_total            23613 non-null float64\n",
      "living_area             21796 non-null float64\n",
      "floor                   23699 non-null int64\n",
      "is_apartment            2775 non-null object\n",
      "studio                  23699 non-null bool\n",
      "open_plan               23699 non-null bool\n",
      "kitchen_area            21421 non-null float64\n",
      "balcony                 12180 non-null float64\n",
      "locality_name           23650 non-null object\n",
      "airports_nearest        18157 non-null float64\n",
      "cityCenters_nearest     18180 non-null float64\n",
      "parks_around3000        18181 non-null float64\n",
      "parks_nearest           8079 non-null float64\n",
      "ponds_around3000        18181 non-null float64\n",
      "ponds_nearest           9110 non-null float64\n",
      "days_exposition         20518 non-null float64\n",
      "dtypes: bool(2), float64(14), int64(3), object(3)\n",
      "memory usage: 3.7+ MB\n"
     ]
    }
   ],
   "source": [
    "df.info()"
   ]
  },
  {
   "cell_type": "code",
   "execution_count": 54,
   "metadata": {},
   "outputs": [
    {
     "data": {
      "text/html": [
       "<div>\n",
       "<style scoped>\n",
       "    .dataframe tbody tr th:only-of-type {\n",
       "        vertical-align: middle;\n",
       "    }\n",
       "\n",
       "    .dataframe tbody tr th {\n",
       "        vertical-align: top;\n",
       "    }\n",
       "\n",
       "    .dataframe thead th {\n",
       "        text-align: right;\n",
       "    }\n",
       "</style>\n",
       "<table border=\"1\" class=\"dataframe\">\n",
       "  <thead>\n",
       "    <tr style=\"text-align: right;\">\n",
       "      <th></th>\n",
       "      <th>count</th>\n",
       "      <th>mean</th>\n",
       "      <th>std</th>\n",
       "      <th>min</th>\n",
       "      <th>25%</th>\n",
       "      <th>50%</th>\n",
       "      <th>75%</th>\n",
       "      <th>max</th>\n",
       "    </tr>\n",
       "  </thead>\n",
       "  <tbody>\n",
       "    <tr>\n",
       "      <td>total_images</td>\n",
       "      <td>23699.0</td>\n",
       "      <td>9.858475e+00</td>\n",
       "      <td>5.682529e+00</td>\n",
       "      <td>0.0</td>\n",
       "      <td>6.00</td>\n",
       "      <td>9.00</td>\n",
       "      <td>14.0</td>\n",
       "      <td>50.0</td>\n",
       "    </tr>\n",
       "    <tr>\n",
       "      <td>last_price</td>\n",
       "      <td>23699.0</td>\n",
       "      <td>6.541549e+06</td>\n",
       "      <td>1.088701e+07</td>\n",
       "      <td>12190.0</td>\n",
       "      <td>3400000.00</td>\n",
       "      <td>4650000.00</td>\n",
       "      <td>6800000.0</td>\n",
       "      <td>763000000.0</td>\n",
       "    </tr>\n",
       "    <tr>\n",
       "      <td>total_area</td>\n",
       "      <td>23699.0</td>\n",
       "      <td>6.034865e+01</td>\n",
       "      <td>3.565408e+01</td>\n",
       "      <td>12.0</td>\n",
       "      <td>40.00</td>\n",
       "      <td>52.00</td>\n",
       "      <td>69.9</td>\n",
       "      <td>900.0</td>\n",
       "    </tr>\n",
       "    <tr>\n",
       "      <td>rooms</td>\n",
       "      <td>23699.0</td>\n",
       "      <td>2.070636e+00</td>\n",
       "      <td>1.078405e+00</td>\n",
       "      <td>0.0</td>\n",
       "      <td>1.00</td>\n",
       "      <td>2.00</td>\n",
       "      <td>3.0</td>\n",
       "      <td>19.0</td>\n",
       "    </tr>\n",
       "    <tr>\n",
       "      <td>ceiling_height</td>\n",
       "      <td>14504.0</td>\n",
       "      <td>2.771499e+00</td>\n",
       "      <td>1.261056e+00</td>\n",
       "      <td>1.0</td>\n",
       "      <td>2.52</td>\n",
       "      <td>2.65</td>\n",
       "      <td>2.8</td>\n",
       "      <td>100.0</td>\n",
       "    </tr>\n",
       "    <tr>\n",
       "      <td>floors_total</td>\n",
       "      <td>23613.0</td>\n",
       "      <td>1.067382e+01</td>\n",
       "      <td>6.597173e+00</td>\n",
       "      <td>1.0</td>\n",
       "      <td>5.00</td>\n",
       "      <td>9.00</td>\n",
       "      <td>16.0</td>\n",
       "      <td>60.0</td>\n",
       "    </tr>\n",
       "    <tr>\n",
       "      <td>living_area</td>\n",
       "      <td>21796.0</td>\n",
       "      <td>3.445785e+01</td>\n",
       "      <td>2.203045e+01</td>\n",
       "      <td>2.0</td>\n",
       "      <td>18.60</td>\n",
       "      <td>30.00</td>\n",
       "      <td>42.3</td>\n",
       "      <td>409.7</td>\n",
       "    </tr>\n",
       "    <tr>\n",
       "      <td>floor</td>\n",
       "      <td>23699.0</td>\n",
       "      <td>5.892358e+00</td>\n",
       "      <td>4.885249e+00</td>\n",
       "      <td>1.0</td>\n",
       "      <td>2.00</td>\n",
       "      <td>4.00</td>\n",
       "      <td>8.0</td>\n",
       "      <td>33.0</td>\n",
       "    </tr>\n",
       "    <tr>\n",
       "      <td>kitchen_area</td>\n",
       "      <td>21421.0</td>\n",
       "      <td>1.056981e+01</td>\n",
       "      <td>5.905438e+00</td>\n",
       "      <td>1.3</td>\n",
       "      <td>7.00</td>\n",
       "      <td>9.10</td>\n",
       "      <td>12.0</td>\n",
       "      <td>112.0</td>\n",
       "    </tr>\n",
       "    <tr>\n",
       "      <td>balcony</td>\n",
       "      <td>12180.0</td>\n",
       "      <td>1.150082e+00</td>\n",
       "      <td>1.071300e+00</td>\n",
       "      <td>0.0</td>\n",
       "      <td>0.00</td>\n",
       "      <td>1.00</td>\n",
       "      <td>2.0</td>\n",
       "      <td>5.0</td>\n",
       "    </tr>\n",
       "    <tr>\n",
       "      <td>airports_nearest</td>\n",
       "      <td>18157.0</td>\n",
       "      <td>2.879367e+04</td>\n",
       "      <td>1.263088e+04</td>\n",
       "      <td>0.0</td>\n",
       "      <td>18585.00</td>\n",
       "      <td>26726.00</td>\n",
       "      <td>37273.0</td>\n",
       "      <td>84869.0</td>\n",
       "    </tr>\n",
       "    <tr>\n",
       "      <td>cityCenters_nearest</td>\n",
       "      <td>18180.0</td>\n",
       "      <td>1.419128e+04</td>\n",
       "      <td>8.608386e+03</td>\n",
       "      <td>181.0</td>\n",
       "      <td>9238.00</td>\n",
       "      <td>13098.50</td>\n",
       "      <td>16293.0</td>\n",
       "      <td>65968.0</td>\n",
       "    </tr>\n",
       "    <tr>\n",
       "      <td>parks_around3000</td>\n",
       "      <td>18181.0</td>\n",
       "      <td>6.114075e-01</td>\n",
       "      <td>8.020736e-01</td>\n",
       "      <td>0.0</td>\n",
       "      <td>0.00</td>\n",
       "      <td>0.00</td>\n",
       "      <td>1.0</td>\n",
       "      <td>3.0</td>\n",
       "    </tr>\n",
       "    <tr>\n",
       "      <td>parks_nearest</td>\n",
       "      <td>8079.0</td>\n",
       "      <td>4.908046e+02</td>\n",
       "      <td>3.423180e+02</td>\n",
       "      <td>1.0</td>\n",
       "      <td>288.00</td>\n",
       "      <td>455.00</td>\n",
       "      <td>612.0</td>\n",
       "      <td>3190.0</td>\n",
       "    </tr>\n",
       "    <tr>\n",
       "      <td>ponds_around3000</td>\n",
       "      <td>18181.0</td>\n",
       "      <td>7.702547e-01</td>\n",
       "      <td>9.383456e-01</td>\n",
       "      <td>0.0</td>\n",
       "      <td>0.00</td>\n",
       "      <td>1.00</td>\n",
       "      <td>1.0</td>\n",
       "      <td>3.0</td>\n",
       "    </tr>\n",
       "    <tr>\n",
       "      <td>ponds_nearest</td>\n",
       "      <td>9110.0</td>\n",
       "      <td>5.179809e+02</td>\n",
       "      <td>2.777206e+02</td>\n",
       "      <td>13.0</td>\n",
       "      <td>294.00</td>\n",
       "      <td>502.00</td>\n",
       "      <td>729.0</td>\n",
       "      <td>1344.0</td>\n",
       "    </tr>\n",
       "    <tr>\n",
       "      <td>days_exposition</td>\n",
       "      <td>20518.0</td>\n",
       "      <td>1.808886e+02</td>\n",
       "      <td>2.197280e+02</td>\n",
       "      <td>1.0</td>\n",
       "      <td>45.00</td>\n",
       "      <td>95.00</td>\n",
       "      <td>232.0</td>\n",
       "      <td>1580.0</td>\n",
       "    </tr>\n",
       "  </tbody>\n",
       "</table>\n",
       "</div>"
      ],
      "text/plain": [
       "                       count          mean           std      min         25%  \\\n",
       "total_images         23699.0  9.858475e+00  5.682529e+00      0.0        6.00   \n",
       "last_price           23699.0  6.541549e+06  1.088701e+07  12190.0  3400000.00   \n",
       "total_area           23699.0  6.034865e+01  3.565408e+01     12.0       40.00   \n",
       "rooms                23699.0  2.070636e+00  1.078405e+00      0.0        1.00   \n",
       "ceiling_height       14504.0  2.771499e+00  1.261056e+00      1.0        2.52   \n",
       "floors_total         23613.0  1.067382e+01  6.597173e+00      1.0        5.00   \n",
       "living_area          21796.0  3.445785e+01  2.203045e+01      2.0       18.60   \n",
       "floor                23699.0  5.892358e+00  4.885249e+00      1.0        2.00   \n",
       "kitchen_area         21421.0  1.056981e+01  5.905438e+00      1.3        7.00   \n",
       "balcony              12180.0  1.150082e+00  1.071300e+00      0.0        0.00   \n",
       "airports_nearest     18157.0  2.879367e+04  1.263088e+04      0.0    18585.00   \n",
       "cityCenters_nearest  18180.0  1.419128e+04  8.608386e+03    181.0     9238.00   \n",
       "parks_around3000     18181.0  6.114075e-01  8.020736e-01      0.0        0.00   \n",
       "parks_nearest         8079.0  4.908046e+02  3.423180e+02      1.0      288.00   \n",
       "ponds_around3000     18181.0  7.702547e-01  9.383456e-01      0.0        0.00   \n",
       "ponds_nearest         9110.0  5.179809e+02  2.777206e+02     13.0      294.00   \n",
       "days_exposition      20518.0  1.808886e+02  2.197280e+02      1.0       45.00   \n",
       "\n",
       "                            50%        75%          max  \n",
       "total_images               9.00       14.0         50.0  \n",
       "last_price           4650000.00  6800000.0  763000000.0  \n",
       "total_area                52.00       69.9        900.0  \n",
       "rooms                      2.00        3.0         19.0  \n",
       "ceiling_height             2.65        2.8        100.0  \n",
       "floors_total               9.00       16.0         60.0  \n",
       "living_area               30.00       42.3        409.7  \n",
       "floor                      4.00        8.0         33.0  \n",
       "kitchen_area               9.10       12.0        112.0  \n",
       "balcony                    1.00        2.0          5.0  \n",
       "airports_nearest       26726.00    37273.0      84869.0  \n",
       "cityCenters_nearest    13098.50    16293.0      65968.0  \n",
       "parks_around3000           0.00        1.0          3.0  \n",
       "parks_nearest            455.00      612.0       3190.0  \n",
       "ponds_around3000           1.00        1.0          3.0  \n",
       "ponds_nearest            502.00      729.0       1344.0  \n",
       "days_exposition           95.00      232.0       1580.0  "
      ]
     },
     "execution_count": 54,
     "metadata": {},
     "output_type": "execute_result"
    }
   ],
   "source": [
    "df.describe().T"
   ]
  },
  {
   "cell_type": "code",
   "execution_count": 55,
   "metadata": {},
   "outputs": [
    {
     "name": "stdout",
     "output_type": "stream",
     "text": [
      "locality_name       | NaN = 49     |    0.2%   \n",
      "floors_total        | NaN = 86     |    0.4%   \n",
      "living_area         | NaN = 1903   |    8.0%   \n",
      "kitchen_area        | NaN = 2278   |    9.6%   \n",
      "days_exposition     | NaN = 3181   |   13.4%   \n",
      "ponds_around3000    | NaN = 5518   |   23.3%   \n",
      "parks_around3000    | NaN = 5518   |   23.3%   \n",
      "cityCenters_nearest | NaN = 5519   |   23.3%   \n",
      "airports_nearest    | NaN = 5542   |   23.4%   \n",
      "ceiling_height      | NaN = 9195   |   38.8%   \n",
      "balcony             | NaN = 11519  |   48.6%   \n",
      "ponds_nearest       | NaN = 14589  |   61.6%   \n",
      "parks_nearest       | NaN = 15620  |   65.9%   \n",
      "is_apartment        | NaN = 20924  |   88.3%   \n"
     ]
    }
   ],
   "source": [
    "# оценим количество NaN в разных колонках\n",
    "def Columns_with_NaN(dataframe):\n",
    "    SeriesNaN =  dataframe.isnull().sum().sort_values()\n",
    "    for column in SeriesNaN.index:\n",
    "        if SeriesNaN[column]==0:\n",
    "            continue \n",
    "        print('{:<20}| NaN = {:<7}| {:^10.1%}'.format(column,SeriesNaN[column],SeriesNaN[column]/dataframe.shape[0]))\n",
    "    \n",
    "Columns_with_NaN(df)"
   ]
  },
  {
   "cell_type": "markdown",
   "metadata": {},
   "source": [
    "### Вывод"
   ]
  },
  {
   "cell_type": "markdown",
   "metadata": {},
   "source": [
    "- много данных с NaN \n",
    "- \"затратные по потребляемой памяти типы данных\", например в колонках: is_apartment, locality_name          \n",
    "- присутствует верхний и нижний регистр в названии столбцов\n",
    "- колонка 'цена на момент снятия с публикации' - last_price,  минимум в 12190.0 руб. Подозрительно!\n",
    "- ключевые столбцы переместить к левому краю, так как неудобно смотреть \n",
    "- есть записи с высотой потолка в 100 метров. Подозрительно!\n"
   ]
  },
  {
   "cell_type": "markdown",
   "metadata": {},
   "source": [
    "### Шаг 2. Предобработка данных"
   ]
  },
  {
   "cell_type": "code",
   "execution_count": 56,
   "metadata": {},
   "outputs": [],
   "source": [
    "#уберем верний регистр из названий колонок\n",
    "#генерируем словарь из названий колонок датасета\n",
    "dictionary = {column: column.lower() for column in df.columns}\n",
    "\n",
    "#переименовываем колонки по полученному словарю.\n",
    "df = df.rename(columns=dictionary)\n",
    "\n",
    "#вручную меняем порядок колонок, первыми пойдут ключевые характеристики\n",
    "string_columns = 'locality_name,rooms,floor,floors_total,living_area,kitchen_area,total_area,'\n",
    "string_columns += 'ceiling_height,balcony,studio,is_apartment,open_plan,total_images,'\n",
    "string_columns += 'citycenters_nearest,parks_nearest,parks_around3000,ponds_nearest,ponds_around3000,airports_nearest,'\n",
    "string_columns += 'first_day_exposition,days_exposition,last_price'\n",
    "\n",
    "list_columns = string_columns.split(',')\n",
    "\n",
    "df=df[list_columns]"
   ]
  },
  {
   "cell_type": "code",
   "execution_count": 57,
   "metadata": {},
   "outputs": [
    {
     "data": {
      "text/html": [
       "<div>\n",
       "<style scoped>\n",
       "    .dataframe tbody tr th:only-of-type {\n",
       "        vertical-align: middle;\n",
       "    }\n",
       "\n",
       "    .dataframe tbody tr th {\n",
       "        vertical-align: top;\n",
       "    }\n",
       "\n",
       "    .dataframe thead th {\n",
       "        text-align: right;\n",
       "    }\n",
       "</style>\n",
       "<table border=\"1\" class=\"dataframe\">\n",
       "  <thead>\n",
       "    <tr style=\"text-align: right;\">\n",
       "      <th></th>\n",
       "      <th>locality_name</th>\n",
       "      <th>rooms</th>\n",
       "      <th>floor</th>\n",
       "      <th>floors_total</th>\n",
       "      <th>living_area</th>\n",
       "      <th>kitchen_area</th>\n",
       "      <th>total_area</th>\n",
       "      <th>ceiling_height</th>\n",
       "      <th>balcony</th>\n",
       "      <th>studio</th>\n",
       "      <th>...</th>\n",
       "      <th>total_images</th>\n",
       "      <th>citycenters_nearest</th>\n",
       "      <th>parks_nearest</th>\n",
       "      <th>parks_around3000</th>\n",
       "      <th>ponds_nearest</th>\n",
       "      <th>ponds_around3000</th>\n",
       "      <th>airports_nearest</th>\n",
       "      <th>first_day_exposition</th>\n",
       "      <th>days_exposition</th>\n",
       "      <th>last_price</th>\n",
       "    </tr>\n",
       "  </thead>\n",
       "  <tbody>\n",
       "    <tr>\n",
       "      <td>0</td>\n",
       "      <td>Санкт-Петербург</td>\n",
       "      <td>3</td>\n",
       "      <td>8</td>\n",
       "      <td>16.0</td>\n",
       "      <td>51.0</td>\n",
       "      <td>25.0</td>\n",
       "      <td>108.0</td>\n",
       "      <td>2.7</td>\n",
       "      <td>NaN</td>\n",
       "      <td>False</td>\n",
       "      <td>...</td>\n",
       "      <td>20</td>\n",
       "      <td>16028.0</td>\n",
       "      <td>482.0</td>\n",
       "      <td>1.0</td>\n",
       "      <td>755.0</td>\n",
       "      <td>2.0</td>\n",
       "      <td>18863.0</td>\n",
       "      <td>2019-03-07T00:00:00</td>\n",
       "      <td>NaN</td>\n",
       "      <td>13000000.0</td>\n",
       "    </tr>\n",
       "  </tbody>\n",
       "</table>\n",
       "<p>1 rows × 22 columns</p>\n",
       "</div>"
      ],
      "text/plain": [
       "     locality_name  rooms  floor  floors_total  living_area  kitchen_area  \\\n",
       "0  Санкт-Петербург      3      8          16.0         51.0          25.0   \n",
       "\n",
       "   total_area  ceiling_height  balcony  studio  ... total_images  \\\n",
       "0       108.0             2.7      NaN   False  ...           20   \n",
       "\n",
       "   citycenters_nearest  parks_nearest  parks_around3000  ponds_nearest  \\\n",
       "0              16028.0          482.0               1.0          755.0   \n",
       "\n",
       "   ponds_around3000  airports_nearest  first_day_exposition  days_exposition  \\\n",
       "0               2.0           18863.0   2019-03-07T00:00:00              NaN   \n",
       "\n",
       "   last_price  \n",
       "0  13000000.0  \n",
       "\n",
       "[1 rows x 22 columns]"
      ]
     },
     "execution_count": 57,
     "metadata": {},
     "output_type": "execute_result"
    }
   ],
   "source": [
    "#смотрим что получилось\n",
    "df.head(1)"
   ]
  },
  {
   "cell_type": "code",
   "execution_count": 58,
   "metadata": {},
   "outputs": [
    {
     "name": "stdout",
     "output_type": "stream",
     "text": [
      "Всего населенных пунктов =  365\n"
     ]
    }
   ],
   "source": [
    "print('Всего населенных пунктов =  {}'.format(len(df['locality_name'].unique())))"
   ]
  },
  {
   "cell_type": "code",
   "execution_count": 59,
   "metadata": {},
   "outputs": [
    {
     "data": {
      "text/plain": [
       "['санкт-петербург',\n",
       " 'посёлок шушары',\n",
       " 'городской посёлок янино-1',\n",
       " 'посёлок парголово',\n",
       " 'посёлок мурино',\n",
       " 'ломоносов',\n",
       " 'сертолово',\n",
       " 'петергоф',\n",
       " 'пушкин',\n",
       " 'деревня кудрово',\n",
       " 'коммунар',\n",
       " 'колпино',\n",
       " 'поселок городского типа красный бор',\n",
       " 'гатчина',\n",
       " 'поселок мурино',\n",
       " 'деревня фёдоровское',\n",
       " 'выборг',\n",
       " 'кронштадт',\n",
       " 'кировск',\n",
       " 'деревня новое девяткино',\n",
       " 'посёлок металлострой',\n",
       " 'посёлок городского типа лебяжье',\n",
       " 'посёлок городского типа сиверский',\n",
       " 'поселок молодцово',\n",
       " 'поселок городского типа кузьмоловский',\n",
       " 'садовое товарищество новая ропша',\n",
       " 'павловск',\n",
       " 'деревня пикколово',\n",
       " 'всеволожск',\n",
       " 'волхов',\n",
       " 'кингисепп',\n",
       " 'приозерск',\n",
       " 'сестрорецк',\n",
       " 'деревня куттузи',\n",
       " 'посёлок аннино',\n",
       " 'поселок городского типа ефимовский',\n",
       " 'посёлок плодовое',\n",
       " 'деревня заклинье',\n",
       " 'поселок торковичи',\n",
       " 'поселок первомайское',\n",
       " 'красное село',\n",
       " 'посёлок понтонный',\n",
       " 'сясьстрой',\n",
       " 'деревня старая',\n",
       " 'деревня лесколово',\n",
       " 'посёлок новый свет',\n",
       " 'сланцы',\n",
       " 'село путилово',\n",
       " 'ивангород',\n",
       " 'мурино',\n",
       " 'шлиссельбург',\n",
       " 'никольское',\n",
       " 'зеленогорск',\n",
       " 'сосновый бор',\n",
       " 'поселок новый свет',\n",
       " 'деревня оржицы',\n",
       " 'деревня кальтино',\n",
       " 'кудрово',\n",
       " 'поселок романовка',\n",
       " 'посёлок бугры',\n",
       " 'поселок бугры',\n",
       " 'поселок городского типа рощино',\n",
       " 'кириши',\n",
       " 'луга',\n",
       " 'волосово',\n",
       " 'отрадное',\n",
       " 'село павлово',\n",
       " 'поселок оредеж',\n",
       " 'село копорье',\n",
       " 'посёлок городского типа красный бор',\n",
       " 'посёлок молодёжное',\n",
       " 'тихвин',\n",
       " 'посёлок победа',\n",
       " 'деревня нурма',\n",
       " 'поселок городского типа синявино',\n",
       " 'тосно',\n",
       " 'посёлок городского типа кузьмоловский',\n",
       " 'посёлок стрельна',\n",
       " 'бокситогорск',\n",
       " 'посёлок александровская',\n",
       " 'деревня лопухинка',\n",
       " 'пикалёво',\n",
       " 'поселок терволово',\n",
       " 'поселок городского типа советский',\n",
       " 'подпорожье',\n",
       " 'посёлок петровское',\n",
       " 'посёлок городского типа токсово',\n",
       " 'поселок сельцо',\n",
       " 'посёлок городского типа вырица',\n",
       " 'деревня кипень',\n",
       " 'деревня келози',\n",
       " 'деревня вартемяги',\n",
       " 'посёлок тельмана',\n",
       " 'поселок севастьяново',\n",
       " 'городской поселок большая ижора',\n",
       " nan,\n",
       " 'городской посёлок павлово',\n",
       " 'деревня агалатово',\n",
       " 'посёлок новогорелово',\n",
       " 'городской посёлок лесогорский',\n",
       " 'деревня лаголово',\n",
       " 'поселок цвелодубово',\n",
       " 'поселок городского типа рахья',\n",
       " 'поселок городского типа вырица',\n",
       " 'деревня белогорка',\n",
       " 'поселок заводской',\n",
       " 'городской посёлок новоселье',\n",
       " 'деревня большие колпаны',\n",
       " 'деревня горбунки',\n",
       " 'деревня батово',\n",
       " 'деревня заневка',\n",
       " 'деревня иссад',\n",
       " 'приморск',\n",
       " 'городской посёлок фёдоровское',\n",
       " 'деревня мистолово',\n",
       " 'новая ладога',\n",
       " 'поселок зимитицы',\n",
       " 'поселок барышево',\n",
       " 'деревня разметелево',\n",
       " 'поселок городского типа имени свердлова',\n",
       " 'деревня пеники',\n",
       " 'поселок рябово',\n",
       " 'деревня пудомяги',\n",
       " 'поселок станции корнево',\n",
       " 'деревня низино',\n",
       " 'деревня бегуницы',\n",
       " 'посёлок поляны',\n",
       " 'городской посёлок мга',\n",
       " 'поселок елизаветино',\n",
       " 'посёлок городского типа кузнечное',\n",
       " 'деревня колтуши',\n",
       " 'поселок запорожское',\n",
       " 'посёлок городского типа рощино',\n",
       " 'деревня гостилицы',\n",
       " 'деревня малое карлино',\n",
       " 'посёлок мичуринское',\n",
       " 'посёлок городского типа имени морозова',\n",
       " 'посёлок песочный',\n",
       " 'посёлок сосново',\n",
       " 'деревня аро',\n",
       " 'поселок ильичёво',\n",
       " 'посёлок городского типа тайцы',\n",
       " 'деревня малое верево',\n",
       " 'деревня извара',\n",
       " 'поселок станции вещево',\n",
       " 'село паша',\n",
       " 'деревня калитино',\n",
       " 'посёлок городского типа ульяновка',\n",
       " 'деревня чудской бор',\n",
       " 'поселок городского типа дубровка',\n",
       " 'деревня мины',\n",
       " 'поселок войсковицы',\n",
       " 'посёлок городского типа имени свердлова',\n",
       " 'деревня коркино',\n",
       " 'посёлок ропша',\n",
       " 'поселок городского типа приладожский',\n",
       " 'посёлок щеглово',\n",
       " 'посёлок гаврилово',\n",
       " 'лодейное поле',\n",
       " 'деревня рабитицы',\n",
       " 'поселок городского типа никольский',\n",
       " 'деревня кузьмолово',\n",
       " 'деревня малые колпаны',\n",
       " 'поселок тельмана',\n",
       " 'посёлок петро-славянка',\n",
       " 'городской посёлок назия',\n",
       " 'посёлок репино',\n",
       " 'посёлок ильичёво',\n",
       " 'поселок углово',\n",
       " 'поселок старая малукса',\n",
       " 'садовое товарищество рахья',\n",
       " 'поселок аннино',\n",
       " 'поселок победа',\n",
       " 'деревня меньково',\n",
       " 'деревня старые бегуницы',\n",
       " 'посёлок сапёрный',\n",
       " 'поселок семрино',\n",
       " 'поселок гаврилово',\n",
       " 'поселок глажево',\n",
       " 'поселок кобринское',\n",
       " 'деревня гарболово',\n",
       " 'деревня юкки',\n",
       " 'поселок станции приветнинское',\n",
       " 'деревня мануйлово',\n",
       " 'деревня пчева',\n",
       " 'поселок поляны',\n",
       " 'поселок цвылёво',\n",
       " 'поселок мельниково',\n",
       " 'посёлок пудость',\n",
       " 'посёлок усть-луга',\n",
       " 'светогорск',\n",
       " 'любань',\n",
       " 'поселок селезнёво',\n",
       " 'поселок городского типа рябово',\n",
       " 'каменногорск',\n",
       " 'деревня кривко',\n",
       " 'поселок глебычево',\n",
       " 'деревня парицы',\n",
       " 'поселок жилпосёлок',\n",
       " 'посёлок городского типа мга',\n",
       " 'городской поселок янино-1',\n",
       " 'посёлок войскорово',\n",
       " 'село никольское',\n",
       " 'посёлок терволово',\n",
       " 'поселок стеклянный',\n",
       " 'посёлок городского типа важины',\n",
       " 'посёлок мыза-ивановка',\n",
       " 'село русско-высоцкое',\n",
       " 'поселок городского типа лебяжье',\n",
       " 'поселок городского типа форносово',\n",
       " 'село старая ладога',\n",
       " 'поселок житково',\n",
       " 'городской посёлок виллози',\n",
       " 'деревня лампово',\n",
       " 'деревня шпаньково',\n",
       " 'деревня лаврики',\n",
       " 'посёлок сумино',\n",
       " 'посёлок возрождение',\n",
       " 'деревня старосиверская',\n",
       " 'посёлок кикерино',\n",
       " 'поселок возрождение',\n",
       " 'деревня старое хинколово',\n",
       " 'посёлок пригородный',\n",
       " 'посёлок торфяное',\n",
       " 'городской посёлок будогощь',\n",
       " 'поселок суходолье',\n",
       " 'поселок красная долина',\n",
       " 'деревня хапо-ое',\n",
       " 'поселок городского типа дружная горка',\n",
       " 'поселок лисий нос',\n",
       " 'деревня яльгелево',\n",
       " 'посёлок стеклянный',\n",
       " 'село рождествено',\n",
       " 'деревня старополье',\n",
       " 'посёлок левашово',\n",
       " 'деревня сяськелево',\n",
       " 'деревня камышовка',\n",
       " 'садоводческое некоммерческое товарищество лесная поляна',\n",
       " 'деревня хязельки',\n",
       " 'поселок жилгородок',\n",
       " 'посёлок городского типа павлово',\n",
       " 'деревня ялгино',\n",
       " 'поселок новый учхоз',\n",
       " 'городской посёлок рощино',\n",
       " 'поселок гончарово',\n",
       " 'поселок почап',\n",
       " 'посёлок сапёрное',\n",
       " 'посёлок платформа 69-й километр',\n",
       " 'поселок каложицы',\n",
       " 'деревня фалилеево',\n",
       " 'деревня пельгора',\n",
       " 'поселок городского типа лесогорский',\n",
       " 'деревня торошковичи',\n",
       " 'посёлок белоостров',\n",
       " 'посёлок алексеевка',\n",
       " 'поселок серебрянский',\n",
       " 'поселок лукаши',\n",
       " 'поселок петровское',\n",
       " 'деревня щеглово',\n",
       " 'поселок мичуринское',\n",
       " 'деревня тарасово',\n",
       " 'поселок кингисеппский',\n",
       " 'посёлок при железнодорожной станции вещево',\n",
       " 'поселок ушаки',\n",
       " 'деревня котлы',\n",
       " 'деревня сижно',\n",
       " 'деревня торосово',\n",
       " 'посёлок форт красная горка',\n",
       " 'поселок городского типа токсово',\n",
       " 'деревня новолисино',\n",
       " 'посёлок станции громово',\n",
       " 'деревня глинка',\n",
       " 'посёлок мельниково',\n",
       " 'поселок городского типа назия',\n",
       " 'деревня старая пустошь',\n",
       " 'поселок коммунары',\n",
       " 'поселок починок',\n",
       " 'посёлок городского типа вознесенье',\n",
       " 'деревня разбегаево',\n",
       " 'посёлок городского типа рябово',\n",
       " 'поселок гладкое',\n",
       " 'посёлок при железнодорожной станции приветнинское',\n",
       " 'поселок тёсово-4',\n",
       " 'посёлок жилгородок',\n",
       " 'деревня бор',\n",
       " 'посёлок коробицыно',\n",
       " 'деревня большая вруда',\n",
       " 'деревня курковицы',\n",
       " 'посёлок лисий нос',\n",
       " 'городской посёлок советский',\n",
       " 'посёлок кобралово',\n",
       " 'деревня суоранда',\n",
       " 'поселок кобралово',\n",
       " 'поселок городского типа кондратьево',\n",
       " 'коттеджный поселок счастье',\n",
       " 'поселок любань',\n",
       " 'деревня реброво',\n",
       " 'деревня зимитицы',\n",
       " 'деревня тойворово',\n",
       " 'поселок семиозерье',\n",
       " 'поселок лесное',\n",
       " 'поселок совхозный',\n",
       " 'поселок усть-луга',\n",
       " 'посёлок ленинское',\n",
       " 'посёлок суйда',\n",
       " 'посёлок городского типа форносово',\n",
       " 'деревня нижние осельки',\n",
       " 'посёлок станции свирь',\n",
       " 'поселок перово',\n",
       " 'высоцк',\n",
       " 'поселок гарболово',\n",
       " 'село шум',\n",
       " 'поселок котельский',\n",
       " 'поселок станции лужайка',\n",
       " 'деревня большая пустомержа',\n",
       " 'поселок красносельское',\n",
       " 'деревня вахнова кара',\n",
       " 'деревня пижма',\n",
       " 'коттеджный поселок кивеннапа север',\n",
       " 'поселок коробицыно',\n",
       " 'поселок ромашки',\n",
       " 'посёлок перово',\n",
       " 'деревня каськово',\n",
       " 'деревня куровицы',\n",
       " 'посёлок плоское',\n",
       " 'поселок сумино',\n",
       " 'поселок городского типа большая ижора',\n",
       " 'поселок кирпичное',\n",
       " 'деревня ям-тесово',\n",
       " 'деревня раздолье',\n",
       " 'деревня терпилицы',\n",
       " 'посёлок шугозеро',\n",
       " 'деревня ваганово',\n",
       " 'поселок пушное',\n",
       " 'садовое товарищество садко',\n",
       " 'посёлок усть-ижора',\n",
       " 'деревня выскатка',\n",
       " 'городской посёлок свирьстрой',\n",
       " 'поселок громово',\n",
       " 'деревня кисельня',\n",
       " 'посёлок старая малукса',\n",
       " 'деревня трубников бор',\n",
       " 'поселок калитино',\n",
       " 'посёлок высокоключевой',\n",
       " 'садовое товарищество приладожский',\n",
       " 'посёлок пансионат зелёный бор',\n",
       " 'деревня ненимяки',\n",
       " 'поселок пансионат зелёный бор',\n",
       " 'деревня снегирёвка',\n",
       " 'деревня рапполово',\n",
       " 'деревня пустынка',\n",
       " 'поселок рабитицы',\n",
       " 'деревня большой сабск',\n",
       " 'деревня русско',\n",
       " 'деревня лупполово',\n",
       " 'деревня большое рейзино',\n",
       " 'деревня малая романовка',\n",
       " 'поселок дружноселье',\n",
       " 'поселок пчевжа',\n",
       " 'поселок володарское',\n",
       " 'деревня нижняя',\n",
       " 'коттеджный посёлок лесное',\n",
       " 'деревня тихковицы',\n",
       " 'деревня борисова грива',\n",
       " 'посёлок дзержинского']"
      ]
     },
     "execution_count": 59,
     "metadata": {},
     "output_type": "execute_result"
    }
   ],
   "source": [
    "# разберемся с населенными пунктами\n",
    "\n",
    "# названия переводим в нижний регистр\n",
    "df['locality_name'] = df['locality_name'].str.lower()\n",
    "\n",
    "#смотрим\n",
    "df['locality_name'].unique().tolist()"
   ]
  },
  {
   "cell_type": "code",
   "execution_count": 60,
   "metadata": {},
   "outputs": [],
   "source": [
    "# в слове 'поселок' прыгает буква е = ё\n",
    "# заменим на е\n",
    "df['locality_name'] = df['locality_name'].str.replace('ё', 'е', regex=True)"
   ]
  },
  {
   "cell_type": "code",
   "execution_count": 61,
   "metadata": {
    "scrolled": true
   },
   "outputs": [
    {
     "data": {
      "text/plain": [
       "23650"
      ]
     },
     "execution_count": 61,
     "metadata": {},
     "output_type": "execute_result"
    }
   ],
   "source": [
    "# locality_name       | NaN = 49     |    0.2% \n",
    "# удалим строки с пропущенным населенным пунктом, так как таких строк 0.2%, см. оценку выше.\n",
    "\n",
    "# плохо\n",
    "#df.dropna(subset=['locality_name'],inplace = True) \n",
    "#хорошо\n",
    "df = df.dropna(subset=['locality_name']) \n",
    "\n",
    "len(df)"
   ]
  },
  {
   "cell_type": "code",
   "execution_count": 62,
   "metadata": {},
   "outputs": [
    {
     "name": "stdout",
     "output_type": "stream",
     "text": [
      "Всего населенных пунктов =  330\n"
     ]
    }
   ],
   "source": [
    "# количество населенных пунктов после преобразования\n",
    "print('Всего населенных пунктов =  {}'.format(len(df['locality_name'].unique())))\n",
    "#сократилось на 30 пунктов"
   ]
  },
  {
   "cell_type": "code",
   "execution_count": 64,
   "metadata": {},
   "outputs": [
    {
     "data": {
      "text/plain": [
       "array([ True, False])"
      ]
     },
     "execution_count": 64,
     "metadata": {},
     "output_type": "execute_result"
    }
   ],
   "source": [
    "# колонка апартаменты\n",
    "# nan преобразуем в False\n",
    "df['is_apartment'] = df['is_apartment'].astype('bool')\n",
    "df['is_apartment'].unique()"
   ]
  },
  {
   "cell_type": "code",
   "execution_count": 65,
   "metadata": {},
   "outputs": [],
   "source": [
    "# отсутствующее значение по колонке 'балкон' заменим на 0, то есть предположим, что балкон отсутствует\n",
    "df['balcony'] = df['balcony'].fillna(0)\n",
    "\n",
    "# days_exposition меняется от 1 до 1580.0, поэтому без потери данных можно заменить на 0\n",
    "df['days_exposition'] = df['days_exposition'].fillna(0)"
   ]
  },
  {
   "cell_type": "code",
   "execution_count": 66,
   "metadata": {},
   "outputs": [
    {
     "name": "stdout",
     "output_type": "stream",
     "text": [
      "<class 'pandas.core.frame.DataFrame'>\n",
      "Int64Index: 23650 entries, 0 to 23698\n",
      "Data columns (total 22 columns):\n",
      "locality_name           23650 non-null object\n",
      "rooms                   23650 non-null int64\n",
      "floor                   23650 non-null int64\n",
      "floors_total            23565 non-null float64\n",
      "living_area             21752 non-null float64\n",
      "kitchen_area            21381 non-null float64\n",
      "total_area              23650 non-null int64\n",
      "ceiling_height          14490 non-null float64\n",
      "balcony                 23650 non-null int64\n",
      "studio                  23650 non-null bool\n",
      "is_apartment            23650 non-null bool\n",
      "open_plan               23650 non-null bool\n",
      "total_images            23650 non-null int64\n",
      "citycenters_nearest     18139 non-null float64\n",
      "parks_nearest           8064 non-null float64\n",
      "parks_around3000        18140 non-null float64\n",
      "ponds_nearest           9085 non-null float64\n",
      "ponds_around3000        18140 non-null float64\n",
      "airports_nearest        18116 non-null float64\n",
      "first_day_exposition    23650 non-null object\n",
      "days_exposition         23650 non-null int64\n",
      "last_price              23650 non-null int64\n",
      "dtypes: bool(3), float64(10), int64(7), object(2)\n",
      "memory usage: 3.7+ MB\n"
     ]
    }
   ],
   "source": [
    "# преобразуем колонки с числовыми типами\n",
    "df.astype({ \"last_price\": \"int64\", \"balcony\": \"int\", \"days_exposition\" : \\\n",
    "           \"int\", \"rooms\" : \"int\", \"total_area\" : \"int\"}).info()\n",
    "\n",
    "# так как для преобразования типов, приходится или удалять NaN или заполнять пропуски чем-то,\n",
    "# что в свою очеред приведет к искажению данных, то остальные колонки не будем трогать:\n",
    "# ceiling_height, floors_total, living_area, kitchen_area, parks_nearest, citycenters_nearest, parks_around3000, ponds_nearest\n",
    "# ponds_around3000, airports_nearest\n"
   ]
  },
  {
   "cell_type": "code",
   "execution_count": 67,
   "metadata": {},
   "outputs": [],
   "source": [
    "# преобразуем колонку 'first_day_exposition' из строки в дату\n",
    "df['first_day_exposition'] = pd.to_datetime(df['first_day_exposition'],format='%Y-%m-%d') #format='%Y-%m-%dT%H:%M:%S'"
   ]
  },
  {
   "cell_type": "code",
   "execution_count": 68,
   "metadata": {},
   "outputs": [],
   "source": [
    "# переведем в километры все дистанции\n",
    "\n",
    "df['ponds_nearest'] = df['ponds_nearest'] / 1000\n",
    "df['airports_nearest'] = df['airports_nearest'] / 1000\n",
    "df['parks_nearest'] = df['parks_nearest'] / 1000\n",
    "df['ponds_around3000'] = df['ponds_around3000'] / 1000\n",
    "df['parks_around3000'] = df['parks_around3000'] / 1000\n",
    "df['citycenters_nearest'] = df['citycenters_nearest'] / 1000\n"
   ]
  },
  {
   "cell_type": "code",
   "execution_count": 69,
   "metadata": {},
   "outputs": [
    {
     "data": {
      "text/html": [
       "<div>\n",
       "<style scoped>\n",
       "    .dataframe tbody tr th:only-of-type {\n",
       "        vertical-align: middle;\n",
       "    }\n",
       "\n",
       "    .dataframe tbody tr th {\n",
       "        vertical-align: top;\n",
       "    }\n",
       "\n",
       "    .dataframe thead th {\n",
       "        text-align: right;\n",
       "    }\n",
       "</style>\n",
       "<table border=\"1\" class=\"dataframe\">\n",
       "  <thead>\n",
       "    <tr style=\"text-align: right;\">\n",
       "      <th></th>\n",
       "      <th>min</th>\n",
       "      <th>max</th>\n",
       "      <th>median</th>\n",
       "    </tr>\n",
       "    <tr>\n",
       "      <th>locality_name</th>\n",
       "      <th></th>\n",
       "      <th></th>\n",
       "      <th></th>\n",
       "    </tr>\n",
       "  </thead>\n",
       "  <tbody>\n",
       "    <tr>\n",
       "      <td>зеленогорск</td>\n",
       "      <td>51.115</td>\n",
       "      <td>62.706</td>\n",
       "      <td>53.3810</td>\n",
       "    </tr>\n",
       "    <tr>\n",
       "      <td>колпино</td>\n",
       "      <td>29.436</td>\n",
       "      <td>37.477</td>\n",
       "      <td>32.0180</td>\n",
       "    </tr>\n",
       "    <tr>\n",
       "      <td>красное село</td>\n",
       "      <td>27.317</td>\n",
       "      <td>41.792</td>\n",
       "      <td>29.1405</td>\n",
       "    </tr>\n",
       "    <tr>\n",
       "      <td>кронштадт</td>\n",
       "      <td>46.657</td>\n",
       "      <td>51.511</td>\n",
       "      <td>49.5750</td>\n",
       "    </tr>\n",
       "    <tr>\n",
       "      <td>ломоносов</td>\n",
       "      <td>36.816</td>\n",
       "      <td>61.495</td>\n",
       "      <td>51.6770</td>\n",
       "    </tr>\n",
       "  </tbody>\n",
       "</table>\n",
       "</div>"
      ],
      "text/plain": [
       "                  min     max   median\n",
       "locality_name                         \n",
       "зеленогорск    51.115  62.706  53.3810\n",
       "колпино        29.436  37.477  32.0180\n",
       "красное село   27.317  41.792  29.1405\n",
       "кронштадт      46.657  51.511  49.5750\n",
       "ломоносов      36.816  61.495  51.6770"
      ]
     },
     "execution_count": 69,
     "metadata": {},
     "output_type": "execute_result"
    }
   ],
   "source": [
    "# так как расстояние до центра санкт-перербурга, является одним из ключевых полей попробуем восстановить пропуски\n",
    "# попытаемся собрать таблицу расстояний от ценра санкт-пертербург по населенным пунктым, исключая сам санкт-пертербург\n",
    "\n",
    "df_distance_citycenters=df.loc[(~df['citycenters_nearest'].isna()) & ((df['locality_name'] !='санкт-петербург')) ]\n",
    "df_distance_citycenters = pd.pivot_table(df, values='citycenters_nearest', index=['locality_name'],  \\\n",
    "                                         aggfunc=['min','max','median'])\n",
    "df_distance_citycenters.columns = ['min','max','median']\n",
    "df_distance_citycenters.head(5)\n"
   ]
  },
  {
   "cell_type": "code",
   "execution_count": 70,
   "metadata": {},
   "outputs": [
    {
     "data": {
      "text/html": [
       "<div>\n",
       "<style scoped>\n",
       "    .dataframe tbody tr th:only-of-type {\n",
       "        vertical-align: middle;\n",
       "    }\n",
       "\n",
       "    .dataframe tbody tr th {\n",
       "        vertical-align: top;\n",
       "    }\n",
       "\n",
       "    .dataframe thead th {\n",
       "        text-align: right;\n",
       "    }\n",
       "</style>\n",
       "<table border=\"1\" class=\"dataframe\">\n",
       "  <thead>\n",
       "    <tr style=\"text-align: right;\">\n",
       "      <th></th>\n",
       "      <th>min</th>\n",
       "      <th>max</th>\n",
       "      <th>median</th>\n",
       "    </tr>\n",
       "    <tr>\n",
       "      <th>locality_name</th>\n",
       "      <th></th>\n",
       "      <th></th>\n",
       "      <th></th>\n",
       "    </tr>\n",
       "  </thead>\n",
       "  <tbody>\n",
       "    <tr>\n",
       "      <td>колпино</td>\n",
       "      <td>29.436</td>\n",
       "      <td>37.477</td>\n",
       "      <td>32.0180</td>\n",
       "    </tr>\n",
       "    <tr>\n",
       "      <td>красное село</td>\n",
       "      <td>27.317</td>\n",
       "      <td>41.792</td>\n",
       "      <td>29.1405</td>\n",
       "    </tr>\n",
       "    <tr>\n",
       "      <td>кронштадт</td>\n",
       "      <td>46.657</td>\n",
       "      <td>51.511</td>\n",
       "      <td>49.5750</td>\n",
       "    </tr>\n",
       "    <tr>\n",
       "      <td>ломоносов</td>\n",
       "      <td>36.816</td>\n",
       "      <td>61.495</td>\n",
       "      <td>51.6770</td>\n",
       "    </tr>\n",
       "    <tr>\n",
       "      <td>поселок мурино</td>\n",
       "      <td>21.888</td>\n",
       "      <td>21.888</td>\n",
       "      <td>21.8880</td>\n",
       "    </tr>\n",
       "    <tr>\n",
       "      <td>поселок шушары</td>\n",
       "      <td>17.012</td>\n",
       "      <td>32.079</td>\n",
       "      <td>24.2120</td>\n",
       "    </tr>\n",
       "    <tr>\n",
       "      <td>поселок щеглово</td>\n",
       "      <td>34.085</td>\n",
       "      <td>34.085</td>\n",
       "      <td>34.0850</td>\n",
       "    </tr>\n",
       "    <tr>\n",
       "      <td>пушкин</td>\n",
       "      <td>24.311</td>\n",
       "      <td>35.610</td>\n",
       "      <td>27.9305</td>\n",
       "    </tr>\n",
       "  </tbody>\n",
       "</table>\n",
       "</div>"
      ],
      "text/plain": [
       "                    min     max   median\n",
       "locality_name                           \n",
       "колпино          29.436  37.477  32.0180\n",
       "красное село     27.317  41.792  29.1405\n",
       "кронштадт        46.657  51.511  49.5750\n",
       "ломоносов        36.816  61.495  51.6770\n",
       "поселок мурино   21.888  21.888  21.8880\n",
       "поселок шушары   17.012  32.079  24.2120\n",
       "поселок щеглово  34.085  34.085  34.0850\n",
       "пушкин           24.311  35.610  27.9305"
      ]
     },
     "execution_count": 70,
     "metadata": {},
     "output_type": "execute_result"
    }
   ],
   "source": [
    "#получим список населенных пунктов с NaN в колонке citycenters_nearest\n",
    "df_bad_citycenters_nearest= df.loc[(df['citycenters_nearest'].isna()) & ((df['locality_name'] !='санкт-петербург')) ]\n",
    "bad_list_citycenters_nearest = df_bad_citycenters_nearest['locality_name'].unique().tolist()\n",
    "\n",
    "#оценим возможность замены, через срез по таблице с расстояниями для списка плохих населенных пунктов\n",
    "df_distance_citycenters.query('locality_name in @bad_list_citycenters_nearest')\n",
    "\n",
    "#в восьми населенных пунктах можно восстановить медианное расстояние до центра СПб"
   ]
  },
  {
   "cell_type": "code",
   "execution_count": 71,
   "metadata": {},
   "outputs": [
    {
     "name": "stdout",
     "output_type": "stream",
     "text": [
      "Количество строк с NaN по колонке citycenters_nearest = 5450\n"
     ]
    }
   ],
   "source": [
    "# до подмены было\n",
    "count_NaN_before = len(df.loc[(df['citycenters_nearest'].isna()) & ((df['locality_name'] !='санкт-петербург')) ])\n",
    "print('Количество строк с NaN по колонке citycenters_nearest = {}'.format(count_NaN_before))"
   ]
  },
  {
   "cell_type": "code",
   "execution_count": 72,
   "metadata": {},
   "outputs": [],
   "source": [
    "#функция подменяет NaN в строке по имеющейся таблице расстояний\n",
    "\n",
    "def calculate_citycenters_distance(raw):\n",
    "    \n",
    "    dff = df_distance_citycenters \n",
    "    \n",
    "    locality_name = raw['locality_name']\n",
    "    \n",
    "    #if raw['distance_citycenters'] == np.nan: # <- не работает\n",
    "    \n",
    "    if str(raw['citycenters_nearest'])==str(np.nan):\n",
    "        dff = dff.loc[dff.index == locality_name]\n",
    "        if len(dff)==1:\n",
    "            return dff['median'].tolist()[0] # <- вот так добирался до цифры, через список. df.loc[1] - не получилось\n",
    "        else:\n",
    "             return raw['citycenters_nearest']\n",
    "    else: \n",
    "        return raw['citycenters_nearest']"
   ]
  },
  {
   "cell_type": "code",
   "execution_count": 73,
   "metadata": {},
   "outputs": [],
   "source": [
    "df['distance_citycenters'] = df.apply(calculate_citycenters_distance, axis=1) "
   ]
  },
  {
   "cell_type": "code",
   "execution_count": 74,
   "metadata": {},
   "outputs": [
    {
     "name": "stdout",
     "output_type": "stream",
     "text": [
      "Количество строк с NaN по колонке distance_citycenters = 4864\n",
      "Восстановлено 586 NaN\n"
     ]
    }
   ],
   "source": [
    "# после подмены получили \n",
    "count_NaN_after = len(df.loc[(df['distance_citycenters'].isna()) & ((df['locality_name'] !='санкт-петербург')) ])\n",
    "print('Количество строк с NaN по колонке distance_citycenters = {}'.format(count_NaN_after))\n",
    "print('Восстановлено {} NaN'.format(count_NaN_before - count_NaN_after))"
   ]
  },
  {
   "cell_type": "code",
   "execution_count": 75,
   "metadata": {},
   "outputs": [
    {
     "data": {
      "text/html": [
       "<div>\n",
       "<style scoped>\n",
       "    .dataframe tbody tr th:only-of-type {\n",
       "        vertical-align: middle;\n",
       "    }\n",
       "\n",
       "    .dataframe tbody tr th {\n",
       "        vertical-align: top;\n",
       "    }\n",
       "\n",
       "    .dataframe thead th {\n",
       "        text-align: right;\n",
       "    }\n",
       "</style>\n",
       "<table border=\"1\" class=\"dataframe\">\n",
       "  <thead>\n",
       "    <tr style=\"text-align: right;\">\n",
       "      <th></th>\n",
       "      <th>min</th>\n",
       "      <th>max</th>\n",
       "      <th>median</th>\n",
       "    </tr>\n",
       "    <tr>\n",
       "      <th>locality_name</th>\n",
       "      <th></th>\n",
       "      <th></th>\n",
       "      <th></th>\n",
       "    </tr>\n",
       "  </thead>\n",
       "  <tbody>\n",
       "    <tr>\n",
       "      <td>зеленогорск</td>\n",
       "      <td>70.016</td>\n",
       "      <td>81.607</td>\n",
       "      <td>72.2820</td>\n",
       "    </tr>\n",
       "    <tr>\n",
       "      <td>колпино</td>\n",
       "      <td>23.649</td>\n",
       "      <td>31.691</td>\n",
       "      <td>26.2320</td>\n",
       "    </tr>\n",
       "    <tr>\n",
       "      <td>красное село</td>\n",
       "      <td>23.892</td>\n",
       "      <td>38.367</td>\n",
       "      <td>25.7155</td>\n",
       "    </tr>\n",
       "    <tr>\n",
       "      <td>кронштадт</td>\n",
       "      <td>64.931</td>\n",
       "      <td>69.785</td>\n",
       "      <td>67.8500</td>\n",
       "    </tr>\n",
       "    <tr>\n",
       "      <td>ломоносов</td>\n",
       "      <td>46.502</td>\n",
       "      <td>56.896</td>\n",
       "      <td>48.4155</td>\n",
       "    </tr>\n",
       "  </tbody>\n",
       "</table>\n",
       "</div>"
      ],
      "text/plain": [
       "                  min     max   median\n",
       "locality_name                         \n",
       "зеленогорск    70.016  81.607  72.2820\n",
       "колпино        23.649  31.691  26.2320\n",
       "красное село   23.892  38.367  25.7155\n",
       "кронштадт      64.931  69.785  67.8500\n",
       "ломоносов      46.502  56.896  48.4155"
      ]
     },
     "execution_count": 75,
     "metadata": {},
     "output_type": "execute_result"
    }
   ],
   "source": [
    "# восстановим расстояние до аэрапорта по такому же алгоритму\n",
    "\n",
    "#соберем данные\n",
    "df_distance_airports =df.loc[(~df['airports_nearest'].isna()) & ((df['locality_name'] !='санкт-петербург')) ]\n",
    "df_distance_airports = pd.pivot_table(df_distance_airports, values='airports_nearest', index=['locality_name'],  aggfunc=['min','max','median'])\n",
    "df_distance_airports.columns = ['min','max','median']\n",
    "df_distance_airports.head(5)"
   ]
  },
  {
   "cell_type": "code",
   "execution_count": 76,
   "metadata": {},
   "outputs": [],
   "source": [
    "#функция подменяет NaN в строке по имеющейся таблице расстояний\n",
    "\n",
    "def calculate_airports_distance(raw):\n",
    "    \n",
    "    df_temp = df_distance_airports \n",
    "    \n",
    "    locality_name = raw['locality_name']\n",
    "    \n",
    "    #if raw['distance_citycenters'] == np.nan: # <- не работает\n",
    "    \n",
    "    if str(raw['airports_nearest'])==str(np.nan): # <- а так работает\n",
    "        \n",
    "        df_temp = df_temp.loc[df_temp.index == locality_name]\n",
    "        if len(df_temp)==1:\n",
    "            return df_temp['median'].tolist()[0] # <- вот так добирался до цифры, через список в обход. конструкция df.loc[1,'median'] - не сработала\n",
    "        else:\n",
    "             return raw['airports_nearest']\n",
    "    else: \n",
    "        return raw['airports_nearest']"
   ]
  },
  {
   "cell_type": "code",
   "execution_count": 77,
   "metadata": {},
   "outputs": [],
   "source": [
    "df['distance_airports'] = df.apply(calculate_airports_distance, axis=1) "
   ]
  },
  {
   "cell_type": "code",
   "execution_count": 78,
   "metadata": {},
   "outputs": [
    {
     "data": {
      "text/plain": [
       "5449"
      ]
     },
     "execution_count": 78,
     "metadata": {},
     "output_type": "execute_result"
    }
   ],
   "source": [
    "# оценим количество пропусков до восстановления  \n",
    "len(df.loc[(df['airports_nearest'].isna()) & ((df['locality_name'] !='санкт-петербург')) ])"
   ]
  },
  {
   "cell_type": "code",
   "execution_count": 79,
   "metadata": {},
   "outputs": [
    {
     "data": {
      "text/plain": [
       "4864"
      ]
     },
     "execution_count": 79,
     "metadata": {},
     "output_type": "execute_result"
    }
   ],
   "source": [
    "# оценим количество пропусков после восстановления \n",
    "len(df.loc[(df['distance_airports'].isna()) & ((df['locality_name'] !='санкт-петербург')) ])"
   ]
  },
  {
   "cell_type": "code",
   "execution_count": 80,
   "metadata": {},
   "outputs": [
    {
     "name": "stdout",
     "output_type": "stream",
     "text": [
      "floors_total        | NaN = 85     |    0.4%   \n",
      "living_area         | NaN = 1898   |    8.0%   \n",
      "kitchen_area        | NaN = 2269   |    9.6%   \n",
      "distance_citycenters| NaN = 4864   |   20.6%   \n",
      "distance_airports   | NaN = 4949   |   20.9%   \n",
      "parks_around3000    | NaN = 5510   |   23.3%   \n",
      "ponds_around3000    | NaN = 5510   |   23.3%   \n",
      "citycenters_nearest | NaN = 5511   |   23.3%   \n",
      "airports_nearest    | NaN = 5534   |   23.4%   \n",
      "ceiling_height      | NaN = 9160   |   38.7%   \n",
      "ponds_nearest       | NaN = 14565  |   61.6%   \n",
      "parks_nearest       | NaN = 15586  |   65.9%   \n"
     ]
    }
   ],
   "source": [
    "Columns_with_NaN(df)"
   ]
  },
  {
   "cell_type": "code",
   "execution_count": 81,
   "metadata": {},
   "outputs": [],
   "source": [
    "# 38% строк с незаполненным потолком. Выбрасывать такие строки нельзя\n",
    "\n",
    "# пропуски в высоте потолка заменим на медиану\n",
    "df['ceiling_height'] = df['ceiling_height'].fillna(df['ceiling_height'].median())"
   ]
  },
  {
   "cell_type": "code",
   "execution_count": 82,
   "metadata": {},
   "outputs": [
    {
     "data": {
      "text/plain": [
       "0"
      ]
     },
     "execution_count": 82,
     "metadata": {},
     "output_type": "execute_result"
    }
   ],
   "source": [
    "#проверяем дубли\n",
    "df.duplicated().sum()"
   ]
  },
  {
   "cell_type": "markdown",
   "metadata": {},
   "source": [
    "### Шаг 3. Посчитайте и добавьте в таблицу"
   ]
  },
  {
   "cell_type": "code",
   "execution_count": 83,
   "metadata": {},
   "outputs": [],
   "source": [
    "# цена квадратного метра\n",
    "try:\n",
    "    df['price_per_meter'] = df['last_price'] / df['total_area']\n",
    "except:\n",
    "    print('Деление на ноль!')"
   ]
  },
  {
   "cell_type": "code",
   "execution_count": 84,
   "metadata": {},
   "outputs": [],
   "source": [
    "#день недели, месяц и год публикации объявления\n",
    "\n",
    "dictionary_weekday = {1:'Понедельник',2:'Вторник',3:'Среда',4:'Четверг',5:'Пятница',6:'Суббота',7:'Воскресение'}\n",
    "df['weekday_exposition_str'] = df['first_day_exposition'].dt.weekday.map(dictionary_weekday)\n",
    "df['weekday_exposition'] = df['first_day_exposition'].dt.weekday\n",
    "\n",
    "dictionary_month = {1:'Январь',2:'Февраль',3:'Март',4:'Апрель',5:'Май',6:'Июнь',7:'Июль',8:'Август',9:'Сентябрь',10:'Октябрь',11:'Ноябрь',12:'Декабрь',}\n",
    "df['month_exposition_str'] = df['first_day_exposition'].dt.month.map(dictionary_month)\n",
    "df['month_exposition'] = df['first_day_exposition'].dt.month \n",
    "\n",
    "df['year_exposition'] = df['first_day_exposition'].dt.year\n",
    "#df.head(3)"
   ]
  },
  {
   "cell_type": "code",
   "execution_count": 85,
   "metadata": {},
   "outputs": [],
   "source": [
    "# этаж квартиры; варианты — первый, последний, другой;\n",
    "def floor_category(row):\n",
    "    if row['floor'] == 1:\n",
    "        return 'первый'\n",
    "    elif row['floor'] == row['floors_total']:\n",
    "        return 'последний'\n",
    "    else:\n",
    "        return 'другой'\n",
    "df['floor_category'] = df.apply(floor_category, axis=1)"
   ]
  },
  {
   "cell_type": "code",
   "execution_count": 86,
   "metadata": {},
   "outputs": [
    {
     "data": {
      "text/plain": [
       "0"
      ]
     },
     "execution_count": 86,
     "metadata": {},
     "output_type": "execute_result"
    }
   ],
   "source": [
    "#соотношение жилой и общей площади, а также отношение площади кухни к общей.\n",
    "\n",
    "try:\n",
    "    df['living_area_vs_total_area'] = df['living_area'] / df['total_area']\n",
    "except:\n",
    "    print('Деление на ноль!')\n",
    "\n",
    "try:\n",
    "    df['kitchen_area_vs_total_area'] = df['kitchen_area'] / df['total_area']\n",
    "except:\n",
    "    print('Деление на ноль!')\n",
    "\n",
    "#len(df.loc[df['total_area']==0])\n",
    "len(df.loc[df['total_area'].isna()])"
   ]
  },
  {
   "cell_type": "code",
   "execution_count": 87,
   "metadata": {},
   "outputs": [
    {
     "data": {
      "text/html": [
       "<div>\n",
       "<style scoped>\n",
       "    .dataframe tbody tr th:only-of-type {\n",
       "        vertical-align: middle;\n",
       "    }\n",
       "\n",
       "    .dataframe tbody tr th {\n",
       "        vertical-align: top;\n",
       "    }\n",
       "\n",
       "    .dataframe thead th {\n",
       "        text-align: right;\n",
       "    }\n",
       "</style>\n",
       "<table border=\"1\" class=\"dataframe\">\n",
       "  <thead>\n",
       "    <tr style=\"text-align: right;\">\n",
       "      <th></th>\n",
       "      <th>locality_name</th>\n",
       "      <th>rooms</th>\n",
       "      <th>floor</th>\n",
       "      <th>floors_total</th>\n",
       "      <th>living_area</th>\n",
       "      <th>kitchen_area</th>\n",
       "      <th>total_area</th>\n",
       "      <th>ceiling_height</th>\n",
       "      <th>balcony</th>\n",
       "      <th>studio</th>\n",
       "      <th>...</th>\n",
       "      <th>distance_airports</th>\n",
       "      <th>price_per_meter</th>\n",
       "      <th>weekday_exposition_str</th>\n",
       "      <th>weekday_exposition</th>\n",
       "      <th>month_exposition_str</th>\n",
       "      <th>month_exposition</th>\n",
       "      <th>year_exposition</th>\n",
       "      <th>floor_category</th>\n",
       "      <th>living_area_vs_total_area</th>\n",
       "      <th>kitchen_area_vs_total_area</th>\n",
       "    </tr>\n",
       "  </thead>\n",
       "  <tbody>\n",
       "    <tr>\n",
       "      <td>0</td>\n",
       "      <td>санкт-петербург</td>\n",
       "      <td>3</td>\n",
       "      <td>8</td>\n",
       "      <td>16.0</td>\n",
       "      <td>51.0</td>\n",
       "      <td>25.0</td>\n",
       "      <td>108.0</td>\n",
       "      <td>2.70</td>\n",
       "      <td>0.0</td>\n",
       "      <td>False</td>\n",
       "      <td>...</td>\n",
       "      <td>18.863</td>\n",
       "      <td>120370.370370</td>\n",
       "      <td>Среда</td>\n",
       "      <td>3</td>\n",
       "      <td>Март</td>\n",
       "      <td>3</td>\n",
       "      <td>2019</td>\n",
       "      <td>другой</td>\n",
       "      <td>0.472222</td>\n",
       "      <td>0.231481</td>\n",
       "    </tr>\n",
       "    <tr>\n",
       "      <td>1</td>\n",
       "      <td>поселок шушары</td>\n",
       "      <td>1</td>\n",
       "      <td>1</td>\n",
       "      <td>11.0</td>\n",
       "      <td>18.6</td>\n",
       "      <td>11.0</td>\n",
       "      <td>40.4</td>\n",
       "      <td>2.65</td>\n",
       "      <td>2.0</td>\n",
       "      <td>False</td>\n",
       "      <td>...</td>\n",
       "      <td>12.817</td>\n",
       "      <td>82920.792079</td>\n",
       "      <td>Понедельник</td>\n",
       "      <td>1</td>\n",
       "      <td>Декабрь</td>\n",
       "      <td>12</td>\n",
       "      <td>2018</td>\n",
       "      <td>первый</td>\n",
       "      <td>0.460396</td>\n",
       "      <td>0.272277</td>\n",
       "    </tr>\n",
       "    <tr>\n",
       "      <td>2</td>\n",
       "      <td>санкт-петербург</td>\n",
       "      <td>2</td>\n",
       "      <td>4</td>\n",
       "      <td>5.0</td>\n",
       "      <td>34.3</td>\n",
       "      <td>8.3</td>\n",
       "      <td>56.0</td>\n",
       "      <td>2.65</td>\n",
       "      <td>0.0</td>\n",
       "      <td>False</td>\n",
       "      <td>...</td>\n",
       "      <td>21.741</td>\n",
       "      <td>92785.714286</td>\n",
       "      <td>Среда</td>\n",
       "      <td>3</td>\n",
       "      <td>Август</td>\n",
       "      <td>8</td>\n",
       "      <td>2015</td>\n",
       "      <td>другой</td>\n",
       "      <td>0.612500</td>\n",
       "      <td>0.148214</td>\n",
       "    </tr>\n",
       "    <tr>\n",
       "      <td>3</td>\n",
       "      <td>санкт-петербург</td>\n",
       "      <td>3</td>\n",
       "      <td>9</td>\n",
       "      <td>14.0</td>\n",
       "      <td>NaN</td>\n",
       "      <td>NaN</td>\n",
       "      <td>159.0</td>\n",
       "      <td>2.65</td>\n",
       "      <td>0.0</td>\n",
       "      <td>False</td>\n",
       "      <td>...</td>\n",
       "      <td>28.098</td>\n",
       "      <td>408176.100629</td>\n",
       "      <td>Четверг</td>\n",
       "      <td>4</td>\n",
       "      <td>Июль</td>\n",
       "      <td>7</td>\n",
       "      <td>2015</td>\n",
       "      <td>другой</td>\n",
       "      <td>NaN</td>\n",
       "      <td>NaN</td>\n",
       "    </tr>\n",
       "    <tr>\n",
       "      <td>4</td>\n",
       "      <td>санкт-петербург</td>\n",
       "      <td>2</td>\n",
       "      <td>13</td>\n",
       "      <td>14.0</td>\n",
       "      <td>32.0</td>\n",
       "      <td>41.0</td>\n",
       "      <td>100.0</td>\n",
       "      <td>3.03</td>\n",
       "      <td>0.0</td>\n",
       "      <td>False</td>\n",
       "      <td>...</td>\n",
       "      <td>31.856</td>\n",
       "      <td>100000.000000</td>\n",
       "      <td>Понедельник</td>\n",
       "      <td>1</td>\n",
       "      <td>Июнь</td>\n",
       "      <td>6</td>\n",
       "      <td>2018</td>\n",
       "      <td>другой</td>\n",
       "      <td>0.320000</td>\n",
       "      <td>0.410000</td>\n",
       "    </tr>\n",
       "  </tbody>\n",
       "</table>\n",
       "<p>5 rows × 33 columns</p>\n",
       "</div>"
      ],
      "text/plain": [
       "     locality_name  rooms  floor  floors_total  living_area  kitchen_area  \\\n",
       "0  санкт-петербург      3      8          16.0         51.0          25.0   \n",
       "1   поселок шушары      1      1          11.0         18.6          11.0   \n",
       "2  санкт-петербург      2      4           5.0         34.3           8.3   \n",
       "3  санкт-петербург      3      9          14.0          NaN           NaN   \n",
       "4  санкт-петербург      2     13          14.0         32.0          41.0   \n",
       "\n",
       "   total_area  ceiling_height  balcony  studio  ...  distance_airports  \\\n",
       "0       108.0            2.70      0.0   False  ...             18.863   \n",
       "1        40.4            2.65      2.0   False  ...             12.817   \n",
       "2        56.0            2.65      0.0   False  ...             21.741   \n",
       "3       159.0            2.65      0.0   False  ...             28.098   \n",
       "4       100.0            3.03      0.0   False  ...             31.856   \n",
       "\n",
       "   price_per_meter  weekday_exposition_str  weekday_exposition  \\\n",
       "0    120370.370370                   Среда                   3   \n",
       "1     82920.792079             Понедельник                   1   \n",
       "2     92785.714286                   Среда                   3   \n",
       "3    408176.100629                 Четверг                   4   \n",
       "4    100000.000000             Понедельник                   1   \n",
       "\n",
       "   month_exposition_str  month_exposition  year_exposition  floor_category  \\\n",
       "0                  Март                 3             2019          другой   \n",
       "1               Декабрь                12             2018          первый   \n",
       "2                Август                 8             2015          другой   \n",
       "3                  Июль                 7             2015          другой   \n",
       "4                  Июнь                 6             2018          другой   \n",
       "\n",
       "   living_area_vs_total_area kitchen_area_vs_total_area  \n",
       "0                   0.472222                   0.231481  \n",
       "1                   0.460396                   0.272277  \n",
       "2                   0.612500                   0.148214  \n",
       "3                        NaN                        NaN  \n",
       "4                   0.320000                   0.410000  \n",
       "\n",
       "[5 rows x 33 columns]"
      ]
     },
     "execution_count": 87,
     "metadata": {},
     "output_type": "execute_result"
    }
   ],
   "source": [
    "df.head(5)"
   ]
  },
  {
   "cell_type": "code",
   "execution_count": 88,
   "metadata": {},
   "outputs": [],
   "source": [
    "#df.describe().T"
   ]
  },
  {
   "cell_type": "markdown",
   "metadata": {},
   "source": [
    "### Шаг 4. Проведите исследовательский анализ данных и выполните инструкции:"
   ]
  },
  {
   "cell_type": "markdown",
   "metadata": {},
   "source": [
    "### Задача: Изучите следующие параметры: площадь, цена, число комнат, высота потолков. Постройте гистограммы для каждого параметра"
   ]
  },
  {
   "cell_type": "code",
   "execution_count": 89,
   "metadata": {},
   "outputs": [],
   "source": [
    "#составим словарь с интересующими колонками\n",
    "\n",
    "columns_dict = {'total_area':'площадь квартиры в квадратных метрах (м²)', \n",
    "                'last_price':'цена на момент снятия с публикации',\n",
    "                'rooms':'число комнат',\n",
    "                'ceiling_height':'высота потолков',\n",
    "                'days_exposition':'сколько дней было размещено объявление (от публикации до снятия)',\n",
    "}\n",
    "\n",
    "xlabel_dict = {'total_area':'м²', \n",
    "                'last_price':'руб',\n",
    "                'rooms':'количество',\n",
    "                'ceiling_height':'метры',\n",
    "                'days_exposition':'дни',\n",
    "}"
   ]
  },
  {
   "cell_type": "code",
   "execution_count": 90,
   "metadata": {},
   "outputs": [],
   "source": [
    "list_columns = list(columns_dict) # ['total_area', 'last_price', 'rooms', 'ceiling_height']"
   ]
  },
  {
   "cell_type": "code",
   "execution_count": 91,
   "metadata": {},
   "outputs": [
    {
     "data": {
      "text/html": [
       "<div>\n",
       "<style scoped>\n",
       "    .dataframe tbody tr th:only-of-type {\n",
       "        vertical-align: middle;\n",
       "    }\n",
       "\n",
       "    .dataframe tbody tr th {\n",
       "        vertical-align: top;\n",
       "    }\n",
       "\n",
       "    .dataframe thead th {\n",
       "        text-align: right;\n",
       "    }\n",
       "</style>\n",
       "<table border=\"1\" class=\"dataframe\">\n",
       "  <thead>\n",
       "    <tr style=\"text-align: right;\">\n",
       "      <th></th>\n",
       "      <th>count</th>\n",
       "      <th>mean</th>\n",
       "      <th>std</th>\n",
       "      <th>min</th>\n",
       "      <th>25%</th>\n",
       "      <th>50%</th>\n",
       "      <th>75%</th>\n",
       "      <th>max</th>\n",
       "    </tr>\n",
       "  </thead>\n",
       "  <tbody>\n",
       "    <tr>\n",
       "      <td>total_area</td>\n",
       "      <td>23650.0</td>\n",
       "      <td>6.032907e+01</td>\n",
       "      <td>3.566181e+01</td>\n",
       "      <td>12.0</td>\n",
       "      <td>40.0</td>\n",
       "      <td>52.00</td>\n",
       "      <td>69.7</td>\n",
       "      <td>900.0</td>\n",
       "    </tr>\n",
       "    <tr>\n",
       "      <td>last_price</td>\n",
       "      <td>23650.0</td>\n",
       "      <td>6.541127e+06</td>\n",
       "      <td>1.089640e+07</td>\n",
       "      <td>12190.0</td>\n",
       "      <td>3400000.0</td>\n",
       "      <td>4650000.00</td>\n",
       "      <td>6799000.0</td>\n",
       "      <td>763000000.0</td>\n",
       "    </tr>\n",
       "    <tr>\n",
       "      <td>rooms</td>\n",
       "      <td>23650.0</td>\n",
       "      <td>2.070106e+00</td>\n",
       "      <td>1.078620e+00</td>\n",
       "      <td>0.0</td>\n",
       "      <td>1.0</td>\n",
       "      <td>2.00</td>\n",
       "      <td>3.0</td>\n",
       "      <td>19.0</td>\n",
       "    </tr>\n",
       "    <tr>\n",
       "      <td>ceiling_height</td>\n",
       "      <td>23650.0</td>\n",
       "      <td>2.724311e+00</td>\n",
       "      <td>9.892549e-01</td>\n",
       "      <td>1.0</td>\n",
       "      <td>2.6</td>\n",
       "      <td>2.65</td>\n",
       "      <td>2.7</td>\n",
       "      <td>100.0</td>\n",
       "    </tr>\n",
       "    <tr>\n",
       "      <td>days_exposition</td>\n",
       "      <td>23650.0</td>\n",
       "      <td>1.564490e+02</td>\n",
       "      <td>2.135645e+02</td>\n",
       "      <td>0.0</td>\n",
       "      <td>22.0</td>\n",
       "      <td>73.00</td>\n",
       "      <td>198.0</td>\n",
       "      <td>1580.0</td>\n",
       "    </tr>\n",
       "  </tbody>\n",
       "</table>\n",
       "</div>"
      ],
      "text/plain": [
       "                   count          mean           std      min        25%  \\\n",
       "total_area       23650.0  6.032907e+01  3.566181e+01     12.0       40.0   \n",
       "last_price       23650.0  6.541127e+06  1.089640e+07  12190.0  3400000.0   \n",
       "rooms            23650.0  2.070106e+00  1.078620e+00      0.0        1.0   \n",
       "ceiling_height   23650.0  2.724311e+00  9.892549e-01      1.0        2.6   \n",
       "days_exposition  23650.0  1.564490e+02  2.135645e+02      0.0       22.0   \n",
       "\n",
       "                        50%        75%          max  \n",
       "total_area            52.00       69.7        900.0  \n",
       "last_price       4650000.00  6799000.0  763000000.0  \n",
       "rooms                  2.00        3.0         19.0  \n",
       "ceiling_height         2.65        2.7        100.0  \n",
       "days_exposition       73.00      198.0       1580.0  "
      ]
     },
     "execution_count": 91,
     "metadata": {},
     "output_type": "execute_result"
    }
   ],
   "source": [
    "#оценим и запомним\n",
    "before = df[list_columns].describe().T\n",
    "before"
   ]
  },
  {
   "cell_type": "code",
   "execution_count": 92,
   "metadata": {},
   "outputs": [
    {
     "data": {
      "image/png": "[encoded data removed]",
      "text/plain": [
       "<Figure size 432x288 with 1 Axes>"
      ]
     },
     "metadata": {
      "needs_background": "light"
     },
     "output_type": "display_data"
    },
    {
     "data": {
      "image/png": "[encoded data removed]",
      "text/plain": [
       "<Figure size 432x288 with 1 Axes>"
      ]
     },
     "metadata": {
      "needs_background": "light"
     },
     "output_type": "display_data"
    },
    {
     "data": {
      "image/png": "[encoded data removed]",
      "text/plain": [
       "<Figure size 432x288 with 1 Axes>"
      ]
     },
     "metadata": {
      "needs_background": "light"
     },
     "output_type": "display_data"
    },
    {
     "data": {
      "image/png": "[encoded data removed]",
      "text/plain": [
       "<Figure size 432x288 with 1 Axes>"
      ]
     },
     "metadata": {
      "needs_background": "light"
     },
     "output_type": "display_data"
    },
    {
     "data": {
      "image/png": "[encoded data removed]",
      "text/plain": [
       "<Figure size 432x288 with 1 Axes>"
      ]
     },
     "metadata": {
      "needs_background": "light"
     },
     "output_type": "display_data"
    }
   ],
   "source": [
    "# первоначальный осмотр\n",
    "for column in columns_dict:\n",
    "    plt.show()\n",
    "    df[column].plot(y=column, title = columns_dict[column], kind = 'hist', bins=100)\n",
    "    plt.ylabel('Количество в выборке')\n",
    "    plt.xlabel(xlabel_dict[column])\n",
    "    "
   ]
  },
  {
   "cell_type": "markdown",
   "metadata": {},
   "source": [
    "Построенные гистограммы показывают, что есть неправдоподобные значения на максимумах"
   ]
  },
  {
   "cell_type": "code",
   "execution_count": 93,
   "metadata": {},
   "outputs": [],
   "source": [
    "#уберем хвосты на гистограммах через параметр range\n",
    "\n",
    "# функция возвращает межквартильный размах для колонки в виде кортежа\n",
    "def generate_range(column):\n",
    "    \n",
    "    Q25 = df[column].quantile(0.25)                 \n",
    "    Q75 = df[column].quantile(0.75) \n",
    "    MIN = df[column].min()\n",
    "    MAX = df[column].max()\n",
    "    \n",
    "    IQR = Q75 - Q25\n",
    "    \n",
    "    left = Q25 - 1.5*IQR\n",
    "    if left < MIN: left = MIN\n",
    "    \n",
    "    Right = Q75 + 1.5*IQR\n",
    "    if Right > MAX: Right = MAX\n",
    "     \n",
    "    return (left, Right)\n"
   ]
  },
  {
   "cell_type": "code",
   "execution_count": 94,
   "metadata": {},
   "outputs": [],
   "source": [
    "#generate_range('ceiling_height')"
   ]
  },
  {
   "cell_type": "code",
   "execution_count": 95,
   "metadata": {},
   "outputs": [
    {
     "data": {
      "image/png": "[encoded data removed]",
      "text/plain": [
       "<Figure size 432x288 with 1 Axes>"
      ]
     },
     "metadata": {
      "needs_background": "light"
     },
     "output_type": "display_data"
    },
    {
     "data": {
      "image/png": "[encoded data removed]",
      "text/plain": [
       "<Figure size 432x288 with 1 Axes>"
      ]
     },
     "metadata": {
      "needs_background": "light"
     },
     "output_type": "display_data"
    },
    {
     "data": {
      "image/png": "[encoded data removed]",
      "text/plain": [
       "<Figure size 432x288 with 1 Axes>"
      ]
     },
     "metadata": {
      "needs_background": "light"
     },
     "output_type": "display_data"
    },
    {
     "data": {
      "image/png": "[encoded data removed]",
      "text/plain": [
       "<Figure size 432x288 with 1 Axes>"
      ]
     },
     "metadata": {
      "needs_background": "light"
     },
     "output_type": "display_data"
    },
    {
     "data": {
      "image/png": "[encoded data removed]",
      "text/plain": [
       "<Figure size 432x288 with 1 Axes>"
      ]
     },
     "metadata": {
      "needs_background": "light"
     },
     "output_type": "display_data"
    }
   ],
   "source": [
    "for column in columns_dict:\n",
    "    plt.show()\n",
    "    df[column].plot(y=column, title = columns_dict[column], kind = 'hist', bins=10, range=generate_range(column))\n",
    "    plt.ylabel('Количество в выборке')\n",
    "    plt.xlabel(xlabel_dict[column])"
   ]
  },
  {
   "cell_type": "code",
   "execution_count": 96,
   "metadata": {},
   "outputs": [
    {
     "data": {
      "text/plain": [
       "<matplotlib.axes._subplots.AxesSubplot at 0x7f3e6c4da810>"
      ]
     },
     "execution_count": 96,
     "metadata": {},
     "output_type": "execute_result"
    },
    {
     "data": {
      "image/png": "[encoded data removed]",
      "text/plain": [
       "<Figure size 432x288 with 1 Axes>"
      ]
     },
     "metadata": {
      "needs_background": "light"
     },
     "output_type": "display_data"
    }
   ],
   "source": [
    "#гистограмму с комнатами перерисуем аккуратнее, подправив bins=6\n",
    "column = 'rooms'\n",
    "df[column].plot(y=column, title = columns_dict[column], kind = 'hist', bins=6, range=generate_range(column))"
   ]
  },
  {
   "cell_type": "markdown",
   "metadata": {},
   "source": [
    "**Вывод: Гистограммы с исключенными экстремальными значениями имеют более привлекательный вид. Необходимо удалить из данных редкие и выбивающиеся значения, ограничив их межквартильным размахом.**"
   ]
  },
  {
   "cell_type": "code",
   "execution_count": 97,
   "metadata": {},
   "outputs": [],
   "source": [
    "# алгоритм исключения экстремальных значений. Цикл по колонкам, взятие среза по квартилям и перезапись\n",
    "for column in columns_dict:\n",
    "    tuple_range = generate_range(column)\n",
    "    left_range = tuple_range[0]\n",
    "    right_range = tuple_range[1]\n",
    "    sql_sentence='@left_range <= '+ column + ' and '+ column + ' <= @right_range'\n",
    "    #print(sql_sentence)\n",
    "    #break\n",
    "    df_temp = df.query(sql_sentence)\n",
    "    df = df_temp.copy()\n",
    "    del df_temp"
   ]
  },
  {
   "cell_type": "markdown",
   "metadata": {},
   "source": [
    "Итого:\n"
   ]
  },
  {
   "cell_type": "code",
   "execution_count": 98,
   "metadata": {
    "scrolled": false
   },
   "outputs": [
    {
     "data": {
      "text/html": [
       "<div>\n",
       "<style scoped>\n",
       "    .dataframe tbody tr th:only-of-type {\n",
       "        vertical-align: middle;\n",
       "    }\n",
       "\n",
       "    .dataframe tbody tr th {\n",
       "        vertical-align: top;\n",
       "    }\n",
       "\n",
       "    .dataframe thead th {\n",
       "        text-align: right;\n",
       "    }\n",
       "</style>\n",
       "<table border=\"1\" class=\"dataframe\">\n",
       "  <thead>\n",
       "    <tr style=\"text-align: right;\">\n",
       "      <th></th>\n",
       "      <th>count</th>\n",
       "      <th>mean</th>\n",
       "      <th>std</th>\n",
       "      <th>min</th>\n",
       "      <th>25%</th>\n",
       "      <th>50%</th>\n",
       "      <th>75%</th>\n",
       "      <th>max</th>\n",
       "    </tr>\n",
       "  </thead>\n",
       "  <tbody>\n",
       "    <tr>\n",
       "      <td>total_area</td>\n",
       "      <td>12527.0</td>\n",
       "      <td>5.099100e+01</td>\n",
       "      <td>1.671912e+01</td>\n",
       "      <td>12.00</td>\n",
       "      <td>38.00</td>\n",
       "      <td>47.00</td>\n",
       "      <td>61.10</td>\n",
       "      <td>114.20</td>\n",
       "    </tr>\n",
       "    <tr>\n",
       "      <td>last_price</td>\n",
       "      <td>12527.0</td>\n",
       "      <td>4.513082e+06</td>\n",
       "      <td>1.913816e+06</td>\n",
       "      <td>430000.00</td>\n",
       "      <td>3200000.00</td>\n",
       "      <td>4200000.00</td>\n",
       "      <td>5580000.00</td>\n",
       "      <td>10700000.00</td>\n",
       "    </tr>\n",
       "    <tr>\n",
       "      <td>rooms</td>\n",
       "      <td>12527.0</td>\n",
       "      <td>1.843937e+00</td>\n",
       "      <td>8.725184e-01</td>\n",
       "      <td>0.00</td>\n",
       "      <td>1.00</td>\n",
       "      <td>2.00</td>\n",
       "      <td>2.00</td>\n",
       "      <td>5.00</td>\n",
       "    </tr>\n",
       "    <tr>\n",
       "      <td>ceiling_height</td>\n",
       "      <td>12527.0</td>\n",
       "      <td>2.639507e+00</td>\n",
       "      <td>3.814104e-02</td>\n",
       "      <td>2.53</td>\n",
       "      <td>2.65</td>\n",
       "      <td>2.65</td>\n",
       "      <td>2.65</td>\n",
       "      <td>2.72</td>\n",
       "    </tr>\n",
       "    <tr>\n",
       "      <td>days_exposition</td>\n",
       "      <td>12527.0</td>\n",
       "      <td>1.002864e+02</td>\n",
       "      <td>1.030045e+02</td>\n",
       "      <td>0.00</td>\n",
       "      <td>23.00</td>\n",
       "      <td>60.00</td>\n",
       "      <td>146.00</td>\n",
       "      <td>430.00</td>\n",
       "    </tr>\n",
       "  </tbody>\n",
       "</table>\n",
       "</div>"
      ],
      "text/plain": [
       "                   count          mean           std        min         25%  \\\n",
       "total_area       12527.0  5.099100e+01  1.671912e+01      12.00       38.00   \n",
       "last_price       12527.0  4.513082e+06  1.913816e+06  430000.00  3200000.00   \n",
       "rooms            12527.0  1.843937e+00  8.725184e-01       0.00        1.00   \n",
       "ceiling_height   12527.0  2.639507e+00  3.814104e-02       2.53        2.65   \n",
       "days_exposition  12527.0  1.002864e+02  1.030045e+02       0.00       23.00   \n",
       "\n",
       "                        50%         75%          max  \n",
       "total_area            47.00       61.10       114.20  \n",
       "last_price       4200000.00  5580000.00  10700000.00  \n",
       "rooms                  2.00        2.00         5.00  \n",
       "ceiling_height         2.65        2.65         2.72  \n",
       "days_exposition       60.00      146.00       430.00  "
      ]
     },
     "execution_count": 98,
     "metadata": {},
     "output_type": "execute_result"
    }
   ],
   "source": [
    "# посмотрим, что получилось после очистки от выбросов\n",
    "after = df[list_columns].describe().T\n",
    "after"
   ]
  },
  {
   "cell_type": "code",
   "execution_count": 99,
   "metadata": {},
   "outputs": [
    {
     "data": {
      "text/html": [
       "<div>\n",
       "<style scoped>\n",
       "    .dataframe tbody tr th:only-of-type {\n",
       "        vertical-align: middle;\n",
       "    }\n",
       "\n",
       "    .dataframe tbody tr th {\n",
       "        vertical-align: top;\n",
       "    }\n",
       "\n",
       "    .dataframe thead th {\n",
       "        text-align: right;\n",
       "    }\n",
       "</style>\n",
       "<table border=\"1\" class=\"dataframe\">\n",
       "  <thead>\n",
       "    <tr style=\"text-align: right;\">\n",
       "      <th></th>\n",
       "      <th>count</th>\n",
       "      <th>mean</th>\n",
       "      <th>std</th>\n",
       "      <th>min</th>\n",
       "      <th>25%</th>\n",
       "      <th>50%</th>\n",
       "      <th>75%</th>\n",
       "      <th>max</th>\n",
       "    </tr>\n",
       "  </thead>\n",
       "  <tbody>\n",
       "    <tr>\n",
       "      <td>total_area</td>\n",
       "      <td>23650.0</td>\n",
       "      <td>6.032907e+01</td>\n",
       "      <td>3.566181e+01</td>\n",
       "      <td>12.0</td>\n",
       "      <td>40.0</td>\n",
       "      <td>52.00</td>\n",
       "      <td>69.7</td>\n",
       "      <td>900.0</td>\n",
       "    </tr>\n",
       "    <tr>\n",
       "      <td>last_price</td>\n",
       "      <td>23650.0</td>\n",
       "      <td>6.541127e+06</td>\n",
       "      <td>1.089640e+07</td>\n",
       "      <td>12190.0</td>\n",
       "      <td>3400000.0</td>\n",
       "      <td>4650000.00</td>\n",
       "      <td>6799000.0</td>\n",
       "      <td>763000000.0</td>\n",
       "    </tr>\n",
       "    <tr>\n",
       "      <td>rooms</td>\n",
       "      <td>23650.0</td>\n",
       "      <td>2.070106e+00</td>\n",
       "      <td>1.078620e+00</td>\n",
       "      <td>0.0</td>\n",
       "      <td>1.0</td>\n",
       "      <td>2.00</td>\n",
       "      <td>3.0</td>\n",
       "      <td>19.0</td>\n",
       "    </tr>\n",
       "    <tr>\n",
       "      <td>ceiling_height</td>\n",
       "      <td>23650.0</td>\n",
       "      <td>2.724311e+00</td>\n",
       "      <td>9.892549e-01</td>\n",
       "      <td>1.0</td>\n",
       "      <td>2.6</td>\n",
       "      <td>2.65</td>\n",
       "      <td>2.7</td>\n",
       "      <td>100.0</td>\n",
       "    </tr>\n",
       "    <tr>\n",
       "      <td>days_exposition</td>\n",
       "      <td>23650.0</td>\n",
       "      <td>1.564490e+02</td>\n",
       "      <td>2.135645e+02</td>\n",
       "      <td>0.0</td>\n",
       "      <td>22.0</td>\n",
       "      <td>73.00</td>\n",
       "      <td>198.0</td>\n",
       "      <td>1580.0</td>\n",
       "    </tr>\n",
       "  </tbody>\n",
       "</table>\n",
       "</div>"
      ],
      "text/plain": [
       "                   count          mean           std      min        25%  \\\n",
       "total_area       23650.0  6.032907e+01  3.566181e+01     12.0       40.0   \n",
       "last_price       23650.0  6.541127e+06  1.089640e+07  12190.0  3400000.0   \n",
       "rooms            23650.0  2.070106e+00  1.078620e+00      0.0        1.0   \n",
       "ceiling_height   23650.0  2.724311e+00  9.892549e-01      1.0        2.6   \n",
       "days_exposition  23650.0  1.564490e+02  2.135645e+02      0.0       22.0   \n",
       "\n",
       "                        50%        75%          max  \n",
       "total_area            52.00       69.7        900.0  \n",
       "last_price       4650000.00  6799000.0  763000000.0  \n",
       "rooms                  2.00        3.0         19.0  \n",
       "ceiling_height         2.65        2.7        100.0  \n",
       "days_exposition       73.00      198.0       1580.0  "
      ]
     },
     "execution_count": 99,
     "metadata": {},
     "output_type": "execute_result"
    }
   ],
   "source": [
    "# вот так было до очистки выбросов\n",
    "before"
   ]
  },
  {
   "cell_type": "markdown",
   "metadata": {},
   "source": [
    "**Вывод:**"
   ]
  },
  {
   "cell_type": "markdown",
   "metadata": {},
   "source": [
    "В датасете удалены неправлоподобные значения. Например: \n",
    "\n",
    "--кваритры, где потолки высотой в 1 или 100 метров, \n",
    "\n",
    "--квартиры в 19 комнат и площадью 900 м. \n",
    "\n",
    "--квартиры по цене 12 000 руб и 700 000 000 руб\n",
    "\n"
   ]
  },
  {
   "cell_type": "markdown",
   "metadata": {},
   "source": [
    "### Задача: Изучите время продажи квартиры. Постройте гистограмму. Посчитайте среднее и медиану. Опишите, сколько обычно занимает продажа. Когда можно считать, что продажи прошли очень быстро, а когда необычно долго?\n"
   ]
  },
  {
   "cell_type": "code",
   "execution_count": 100,
   "metadata": {},
   "outputs": [
    {
     "data": {
      "text/plain": [
       "Text(0.5, 0, 'Дни')"
      ]
     },
     "execution_count": 100,
     "metadata": {},
     "output_type": "execute_result"
    },
    {
     "data": {
      "image/png": "[encoded data removed]",
      "text/plain": [
       "<Figure size 432x288 with 1 Axes>"
      ]
     },
     "metadata": {
      "needs_background": "light"
     },
     "output_type": "display_data"
    }
   ],
   "source": [
    "column = 'days_exposition'\n",
    "df[column].plot(y=column, title = columns_dict[column], kind = 'hist', bins=10) \n",
    "plt.xlabel('Дни')"
   ]
  },
  {
   "cell_type": "code",
   "execution_count": 101,
   "metadata": {},
   "outputs": [
    {
     "data": {
      "text/plain": [
       "count    12527.000000\n",
       "mean       100.286421\n",
       "std        103.004512\n",
       "min          0.000000\n",
       "25%         23.000000\n",
       "50%         60.000000\n",
       "75%        146.000000\n",
       "max        430.000000\n",
       "Name: days_exposition, dtype: float64"
      ]
     },
     "execution_count": 101,
     "metadata": {},
     "output_type": "execute_result"
    }
   ],
   "source": [
    "df[column].describe().T"
   ]
  },
  {
   "cell_type": "markdown",
   "metadata": {},
   "source": [
    "##### Вывод: За среднее время продаж примем медианное значение = 60 дней. Соответственно будем считать, что продажа прошла быстро если она заняла менее месяца месяца (это 25% всех продаж). Необычно долгие продажи - это продажи время которых превышает 140 дней (это значение третьего квартиля). Экстремально долгие продажи от 300 дней и более - до 1500 дней."
   ]
  },
  {
   "cell_type": "markdown",
   "metadata": {},
   "source": [
    "### Задача: Какие факторы больше всего влияют на стоимость квартиры? Изучите, зависит ли цена от площади, числа комнат, удалённости от центра. Изучите зависимость цены от того, на каком этаже расположена квартира: первом, последнем или другом. Также изучите зависимость от даты размещения: дня недели, месяца и года."
   ]
  },
  {
   "cell_type": "code",
   "execution_count": 102,
   "metadata": {},
   "outputs": [
    {
     "data": {
      "text/html": [
       "<style  type=\"text/css\" >\n",
       "    #T_baee09c6_86fe_11eb_881d_02420a39ab1frow0_col0 {\n",
       "            background-color:  #b40426;\n",
       "            color:  #f1f1f1;\n",
       "        }    #T_baee09c6_86fe_11eb_881d_02420a39ab1frow0_col1 {\n",
       "            background-color:  #f7af91;\n",
       "            color:  #000000;\n",
       "        }    #T_baee09c6_86fe_11eb_881d_02420a39ab1frow0_col2 {\n",
       "            background-color:  #d4dbe6;\n",
       "            color:  #000000;\n",
       "        }    #T_baee09c6_86fe_11eb_881d_02420a39ab1frow0_col3 {\n",
       "            background-color:  #3b4cc0;\n",
       "            color:  #f1f1f1;\n",
       "        }    #T_baee09c6_86fe_11eb_881d_02420a39ab1frow0_col4 {\n",
       "            background-color:  #3b4cc0;\n",
       "            color:  #f1f1f1;\n",
       "        }    #T_baee09c6_86fe_11eb_881d_02420a39ab1frow1_col0 {\n",
       "            background-color:  #f4987a;\n",
       "            color:  #000000;\n",
       "        }    #T_baee09c6_86fe_11eb_881d_02420a39ab1frow1_col1 {\n",
       "            background-color:  #b40426;\n",
       "            color:  #f1f1f1;\n",
       "        }    #T_baee09c6_86fe_11eb_881d_02420a39ab1frow1_col2 {\n",
       "            background-color:  #e9785d;\n",
       "            color:  #000000;\n",
       "        }    #T_baee09c6_86fe_11eb_881d_02420a39ab1frow1_col3 {\n",
       "            background-color:  #465ecf;\n",
       "            color:  #f1f1f1;\n",
       "        }    #T_baee09c6_86fe_11eb_881d_02420a39ab1frow1_col4 {\n",
       "            background-color:  #779af7;\n",
       "            color:  #000000;\n",
       "        }    #T_baee09c6_86fe_11eb_881d_02420a39ab1frow2_col0 {\n",
       "            background-color:  #eed0c0;\n",
       "            color:  #000000;\n",
       "        }    #T_baee09c6_86fe_11eb_881d_02420a39ab1frow2_col1 {\n",
       "            background-color:  #e8765c;\n",
       "            color:  #000000;\n",
       "        }    #T_baee09c6_86fe_11eb_881d_02420a39ab1frow2_col2 {\n",
       "            background-color:  #b40426;\n",
       "            color:  #f1f1f1;\n",
       "        }    #T_baee09c6_86fe_11eb_881d_02420a39ab1frow2_col3 {\n",
       "            background-color:  #4257c9;\n",
       "            color:  #f1f1f1;\n",
       "        }    #T_baee09c6_86fe_11eb_881d_02420a39ab1frow2_col4 {\n",
       "            background-color:  #7b9ff9;\n",
       "            color:  #000000;\n",
       "        }    #T_baee09c6_86fe_11eb_881d_02420a39ab1frow3_col0 {\n",
       "            background-color:  #8caffe;\n",
       "            color:  #000000;\n",
       "        }    #T_baee09c6_86fe_11eb_881d_02420a39ab1frow3_col1 {\n",
       "            background-color:  #5b7ae5;\n",
       "            color:  #000000;\n",
       "        }    #T_baee09c6_86fe_11eb_881d_02420a39ab1frow3_col2 {\n",
       "            background-color:  #5470de;\n",
       "            color:  #000000;\n",
       "        }    #T_baee09c6_86fe_11eb_881d_02420a39ab1frow3_col3 {\n",
       "            background-color:  #b40426;\n",
       "            color:  #f1f1f1;\n",
       "        }    #T_baee09c6_86fe_11eb_881d_02420a39ab1frow3_col4 {\n",
       "            background-color:  #92b4fe;\n",
       "            color:  #000000;\n",
       "        }    #T_baee09c6_86fe_11eb_881d_02420a39ab1frow4_col0 {\n",
       "            background-color:  #3b4cc0;\n",
       "            color:  #f1f1f1;\n",
       "        }    #T_baee09c6_86fe_11eb_881d_02420a39ab1frow4_col1 {\n",
       "            background-color:  #3b4cc0;\n",
       "            color:  #f1f1f1;\n",
       "        }    #T_baee09c6_86fe_11eb_881d_02420a39ab1frow4_col2 {\n",
       "            background-color:  #3b4cc0;\n",
       "            color:  #f1f1f1;\n",
       "        }    #T_baee09c6_86fe_11eb_881d_02420a39ab1frow4_col3 {\n",
       "            background-color:  #4055c8;\n",
       "            color:  #f1f1f1;\n",
       "        }    #T_baee09c6_86fe_11eb_881d_02420a39ab1frow4_col4 {\n",
       "            background-color:  #b40426;\n",
       "            color:  #f1f1f1;\n",
       "        }</style><table id=\"T_baee09c6_86fe_11eb_881d_02420a39ab1f\" ><thead>    <tr>        <th class=\"blank level0\" ></th>        <th class=\"col_heading level0 col0\" >last_price</th>        <th class=\"col_heading level0 col1\" >total_area</th>        <th class=\"col_heading level0 col2\" >rooms</th>        <th class=\"col_heading level0 col3\" >days_exposition</th>        <th class=\"col_heading level0 col4\" >distance_citycenters</th>    </tr></thead><tbody>\n",
       "                <tr>\n",
       "                        <th id=\"T_baee09c6_86fe_11eb_881d_02420a39ab1flevel0_row0\" class=\"row_heading level0 row0\" >last_price</th>\n",
       "                        <td id=\"T_baee09c6_86fe_11eb_881d_02420a39ab1frow0_col0\" class=\"data row0 col0\" >1</td>\n",
       "                        <td id=\"T_baee09c6_86fe_11eb_881d_02420a39ab1frow0_col1\" class=\"data row0 col1\" >0.670077</td>\n",
       "                        <td id=\"T_baee09c6_86fe_11eb_881d_02420a39ab1frow0_col2\" class=\"data row0 col2\" >0.438794</td>\n",
       "                        <td id=\"T_baee09c6_86fe_11eb_881d_02420a39ab1frow0_col3\" class=\"data row0 col3\" >0.00580475</td>\n",
       "                        <td id=\"T_baee09c6_86fe_11eb_881d_02420a39ab1frow0_col4\" class=\"data row0 col4\" >-0.3198</td>\n",
       "            </tr>\n",
       "            <tr>\n",
       "                        <th id=\"T_baee09c6_86fe_11eb_881d_02420a39ab1flevel0_row1\" class=\"row_heading level0 row1\" >total_area</th>\n",
       "                        <td id=\"T_baee09c6_86fe_11eb_881d_02420a39ab1frow1_col0\" class=\"data row1 col0\" >0.670077</td>\n",
       "                        <td id=\"T_baee09c6_86fe_11eb_881d_02420a39ab1frow1_col1\" class=\"data row1 col1\" >1</td>\n",
       "                        <td id=\"T_baee09c6_86fe_11eb_881d_02420a39ab1frow1_col2\" class=\"data row1 col2\" >0.818529</td>\n",
       "                        <td id=\"T_baee09c6_86fe_11eb_881d_02420a39ab1frow1_col3\" class=\"data row1 col3\" >0.0461159</td>\n",
       "                        <td id=\"T_baee09c6_86fe_11eb_881d_02420a39ab1frow1_col4\" class=\"data row1 col4\" >-0.069592</td>\n",
       "            </tr>\n",
       "            <tr>\n",
       "                        <th id=\"T_baee09c6_86fe_11eb_881d_02420a39ab1flevel0_row2\" class=\"row_heading level0 row2\" >rooms</th>\n",
       "                        <td id=\"T_baee09c6_86fe_11eb_881d_02420a39ab1frow2_col0\" class=\"data row2 col0\" >0.438794</td>\n",
       "                        <td id=\"T_baee09c6_86fe_11eb_881d_02420a39ab1frow2_col1\" class=\"data row2 col1\" >0.818529</td>\n",
       "                        <td id=\"T_baee09c6_86fe_11eb_881d_02420a39ab1frow2_col2\" class=\"data row2 col2\" >1</td>\n",
       "                        <td id=\"T_baee09c6_86fe_11eb_881d_02420a39ab1frow2_col3\" class=\"data row2 col3\" >0.0325764</td>\n",
       "                        <td id=\"T_baee09c6_86fe_11eb_881d_02420a39ab1frow2_col4\" class=\"data row2 col4\" >-0.0542371</td>\n",
       "            </tr>\n",
       "            <tr>\n",
       "                        <th id=\"T_baee09c6_86fe_11eb_881d_02420a39ab1flevel0_row3\" class=\"row_heading level0 row3\" >days_exposition</th>\n",
       "                        <td id=\"T_baee09c6_86fe_11eb_881d_02420a39ab1frow3_col0\" class=\"data row3 col0\" >0.00580475</td>\n",
       "                        <td id=\"T_baee09c6_86fe_11eb_881d_02420a39ab1frow3_col1\" class=\"data row3 col1\" >0.0461159</td>\n",
       "                        <td id=\"T_baee09c6_86fe_11eb_881d_02420a39ab1frow3_col2\" class=\"data row3 col2\" >0.0325764</td>\n",
       "                        <td id=\"T_baee09c6_86fe_11eb_881d_02420a39ab1frow3_col3\" class=\"data row3 col3\" >1</td>\n",
       "                        <td id=\"T_baee09c6_86fe_11eb_881d_02420a39ab1frow3_col4\" class=\"data row3 col4\" >0.029019</td>\n",
       "            </tr>\n",
       "            <tr>\n",
       "                        <th id=\"T_baee09c6_86fe_11eb_881d_02420a39ab1flevel0_row4\" class=\"row_heading level0 row4\" >distance_citycenters</th>\n",
       "                        <td id=\"T_baee09c6_86fe_11eb_881d_02420a39ab1frow4_col0\" class=\"data row4 col0\" >-0.3198</td>\n",
       "                        <td id=\"T_baee09c6_86fe_11eb_881d_02420a39ab1frow4_col1\" class=\"data row4 col1\" >-0.069592</td>\n",
       "                        <td id=\"T_baee09c6_86fe_11eb_881d_02420a39ab1frow4_col2\" class=\"data row4 col2\" >-0.0542371</td>\n",
       "                        <td id=\"T_baee09c6_86fe_11eb_881d_02420a39ab1frow4_col3\" class=\"data row4 col3\" >0.029019</td>\n",
       "                        <td id=\"T_baee09c6_86fe_11eb_881d_02420a39ab1frow4_col4\" class=\"data row4 col4\" >1</td>\n",
       "            </tr>\n",
       "    </tbody></table>"
      ],
      "text/plain": [
       "<pandas.io.formats.style.Styler at 0x7f3e6c3f0b50>"
      ]
     },
     "execution_count": 102,
     "metadata": {},
     "output_type": "execute_result"
    }
   ],
   "source": [
    "# построим таблицу корреляции для цены\n",
    "corr = df[['last_price','total_area','rooms','days_exposition','distance_citycenters',]].corr() #price_per_meter\n",
    "corr.style.background_gradient('coolwarm') "
   ]
  },
  {
   "cell_type": "code",
   "execution_count": 103,
   "metadata": {},
   "outputs": [
    {
     "data": {
      "text/html": [
       "<style  type=\"text/css\" >\n",
       "    #T_baf417f8_86fe_11eb_881d_02420a39ab1frow0_col0 {\n",
       "            background-color:  #b40426;\n",
       "            color:  #f1f1f1;\n",
       "        }    #T_baf417f8_86fe_11eb_881d_02420a39ab1frow0_col1 {\n",
       "            background-color:  #3b4cc0;\n",
       "            color:  #f1f1f1;\n",
       "        }    #T_baf417f8_86fe_11eb_881d_02420a39ab1frow0_col2 {\n",
       "            background-color:  #3b4cc0;\n",
       "            color:  #f1f1f1;\n",
       "        }    #T_baf417f8_86fe_11eb_881d_02420a39ab1frow0_col3 {\n",
       "            background-color:  #3b4cc0;\n",
       "            color:  #f1f1f1;\n",
       "        }    #T_baf417f8_86fe_11eb_881d_02420a39ab1frow0_col4 {\n",
       "            background-color:  #3b4cc0;\n",
       "            color:  #f1f1f1;\n",
       "        }    #T_baf417f8_86fe_11eb_881d_02420a39ab1frow1_col0 {\n",
       "            background-color:  #799cf8;\n",
       "            color:  #000000;\n",
       "        }    #T_baf417f8_86fe_11eb_881d_02420a39ab1frow1_col1 {\n",
       "            background-color:  #b40426;\n",
       "            color:  #f1f1f1;\n",
       "        }    #T_baf417f8_86fe_11eb_881d_02420a39ab1frow1_col2 {\n",
       "            background-color:  #e26952;\n",
       "            color:  #000000;\n",
       "        }    #T_baf417f8_86fe_11eb_881d_02420a39ab1frow1_col3 {\n",
       "            background-color:  #536edd;\n",
       "            color:  #000000;\n",
       "        }    #T_baf417f8_86fe_11eb_881d_02420a39ab1frow1_col4 {\n",
       "            background-color:  #89acfd;\n",
       "            color:  #000000;\n",
       "        }    #T_baf417f8_86fe_11eb_881d_02420a39ab1frow2_col0 {\n",
       "            background-color:  #5b7ae5;\n",
       "            color:  #000000;\n",
       "        }    #T_baf417f8_86fe_11eb_881d_02420a39ab1frow2_col1 {\n",
       "            background-color:  #e57058;\n",
       "            color:  #000000;\n",
       "        }    #T_baf417f8_86fe_11eb_881d_02420a39ab1frow2_col2 {\n",
       "            background-color:  #b40426;\n",
       "            color:  #f1f1f1;\n",
       "        }    #T_baf417f8_86fe_11eb_881d_02420a39ab1frow2_col3 {\n",
       "            background-color:  #4f69d9;\n",
       "            color:  #000000;\n",
       "        }    #T_baf417f8_86fe_11eb_881d_02420a39ab1frow2_col4 {\n",
       "            background-color:  #8db0fe;\n",
       "            color:  #000000;\n",
       "        }    #T_baf417f8_86fe_11eb_881d_02420a39ab1frow3_col0 {\n",
       "            background-color:  #92b4fe;\n",
       "            color:  #000000;\n",
       "        }    #T_baf417f8_86fe_11eb_881d_02420a39ab1frow3_col1 {\n",
       "            background-color:  #6e90f2;\n",
       "            color:  #000000;\n",
       "        }    #T_baf417f8_86fe_11eb_881d_02420a39ab1frow3_col2 {\n",
       "            background-color:  #86a9fc;\n",
       "            color:  #000000;\n",
       "        }    #T_baf417f8_86fe_11eb_881d_02420a39ab1frow3_col3 {\n",
       "            background-color:  #b40426;\n",
       "            color:  #f1f1f1;\n",
       "        }    #T_baf417f8_86fe_11eb_881d_02420a39ab1frow3_col4 {\n",
       "            background-color:  #a2c1ff;\n",
       "            color:  #000000;\n",
       "        }    #T_baf417f8_86fe_11eb_881d_02420a39ab1frow4_col0 {\n",
       "            background-color:  #3b4cc0;\n",
       "            color:  #f1f1f1;\n",
       "        }    #T_baf417f8_86fe_11eb_881d_02420a39ab1frow4_col1 {\n",
       "            background-color:  #4c66d6;\n",
       "            color:  #000000;\n",
       "        }    #T_baf417f8_86fe_11eb_881d_02420a39ab1frow4_col2 {\n",
       "            background-color:  #6e90f2;\n",
       "            color:  #000000;\n",
       "        }    #T_baf417f8_86fe_11eb_881d_02420a39ab1frow4_col3 {\n",
       "            background-color:  #4e68d8;\n",
       "            color:  #000000;\n",
       "        }    #T_baf417f8_86fe_11eb_881d_02420a39ab1frow4_col4 {\n",
       "            background-color:  #b40426;\n",
       "            color:  #f1f1f1;\n",
       "        }</style><table id=\"T_baf417f8_86fe_11eb_881d_02420a39ab1f\" ><thead>    <tr>        <th class=\"blank level0\" ></th>        <th class=\"col_heading level0 col0\" >price_per_meter</th>        <th class=\"col_heading level0 col1\" >total_area</th>        <th class=\"col_heading level0 col2\" >rooms</th>        <th class=\"col_heading level0 col3\" >days_exposition</th>        <th class=\"col_heading level0 col4\" >distance_citycenters</th>    </tr></thead><tbody>\n",
       "                <tr>\n",
       "                        <th id=\"T_baf417f8_86fe_11eb_881d_02420a39ab1flevel0_row0\" class=\"row_heading level0 row0\" >price_per_meter</th>\n",
       "                        <td id=\"T_baf417f8_86fe_11eb_881d_02420a39ab1frow0_col0\" class=\"data row0 col0\" >1</td>\n",
       "                        <td id=\"T_baf417f8_86fe_11eb_881d_02420a39ab1frow0_col1\" class=\"data row0 col1\" >-0.139416</td>\n",
       "                        <td id=\"T_baf417f8_86fe_11eb_881d_02420a39ab1frow0_col2\" class=\"data row0 col2\" >-0.258178</td>\n",
       "                        <td id=\"T_baf417f8_86fe_11eb_881d_02420a39ab1frow0_col3\" class=\"data row0 col3\" >-0.038975</td>\n",
       "                        <td id=\"T_baf417f8_86fe_11eb_881d_02420a39ab1frow0_col4\" class=\"data row0 col4\" >-0.409649</td>\n",
       "            </tr>\n",
       "            <tr>\n",
       "                        <th id=\"T_baf417f8_86fe_11eb_881d_02420a39ab1flevel0_row1\" class=\"row_heading level0 row1\" >total_area</th>\n",
       "                        <td id=\"T_baf417f8_86fe_11eb_881d_02420a39ab1frow1_col0\" class=\"data row1 col0\" >-0.139416</td>\n",
       "                        <td id=\"T_baf417f8_86fe_11eb_881d_02420a39ab1frow1_col1\" class=\"data row1 col1\" >1</td>\n",
       "                        <td id=\"T_baf417f8_86fe_11eb_881d_02420a39ab1frow1_col2\" class=\"data row1 col2\" >0.818529</td>\n",
       "                        <td id=\"T_baf417f8_86fe_11eb_881d_02420a39ab1frow1_col3\" class=\"data row1 col3\" >0.0461159</td>\n",
       "                        <td id=\"T_baf417f8_86fe_11eb_881d_02420a39ab1frow1_col4\" class=\"data row1 col4\" >-0.069592</td>\n",
       "            </tr>\n",
       "            <tr>\n",
       "                        <th id=\"T_baf417f8_86fe_11eb_881d_02420a39ab1flevel0_row2\" class=\"row_heading level0 row2\" >rooms</th>\n",
       "                        <td id=\"T_baf417f8_86fe_11eb_881d_02420a39ab1frow2_col0\" class=\"data row2 col0\" >-0.258178</td>\n",
       "                        <td id=\"T_baf417f8_86fe_11eb_881d_02420a39ab1frow2_col1\" class=\"data row2 col1\" >0.818529</td>\n",
       "                        <td id=\"T_baf417f8_86fe_11eb_881d_02420a39ab1frow2_col2\" class=\"data row2 col2\" >1</td>\n",
       "                        <td id=\"T_baf417f8_86fe_11eb_881d_02420a39ab1frow2_col3\" class=\"data row2 col3\" >0.0325764</td>\n",
       "                        <td id=\"T_baf417f8_86fe_11eb_881d_02420a39ab1frow2_col4\" class=\"data row2 col4\" >-0.0542371</td>\n",
       "            </tr>\n",
       "            <tr>\n",
       "                        <th id=\"T_baf417f8_86fe_11eb_881d_02420a39ab1flevel0_row3\" class=\"row_heading level0 row3\" >days_exposition</th>\n",
       "                        <td id=\"T_baf417f8_86fe_11eb_881d_02420a39ab1frow3_col0\" class=\"data row3 col0\" >-0.038975</td>\n",
       "                        <td id=\"T_baf417f8_86fe_11eb_881d_02420a39ab1frow3_col1\" class=\"data row3 col1\" >0.0461159</td>\n",
       "                        <td id=\"T_baf417f8_86fe_11eb_881d_02420a39ab1frow3_col2\" class=\"data row3 col2\" >0.0325764</td>\n",
       "                        <td id=\"T_baf417f8_86fe_11eb_881d_02420a39ab1frow3_col3\" class=\"data row3 col3\" >1</td>\n",
       "                        <td id=\"T_baf417f8_86fe_11eb_881d_02420a39ab1frow3_col4\" class=\"data row3 col4\" >0.029019</td>\n",
       "            </tr>\n",
       "            <tr>\n",
       "                        <th id=\"T_baf417f8_86fe_11eb_881d_02420a39ab1flevel0_row4\" class=\"row_heading level0 row4\" >distance_citycenters</th>\n",
       "                        <td id=\"T_baf417f8_86fe_11eb_881d_02420a39ab1frow4_col0\" class=\"data row4 col0\" >-0.409649</td>\n",
       "                        <td id=\"T_baf417f8_86fe_11eb_881d_02420a39ab1frow4_col1\" class=\"data row4 col1\" >-0.069592</td>\n",
       "                        <td id=\"T_baf417f8_86fe_11eb_881d_02420a39ab1frow4_col2\" class=\"data row4 col2\" >-0.0542371</td>\n",
       "                        <td id=\"T_baf417f8_86fe_11eb_881d_02420a39ab1frow4_col3\" class=\"data row4 col3\" >0.029019</td>\n",
       "                        <td id=\"T_baf417f8_86fe_11eb_881d_02420a39ab1frow4_col4\" class=\"data row4 col4\" >1</td>\n",
       "            </tr>\n",
       "    </tbody></table>"
      ],
      "text/plain": [
       "<pandas.io.formats.style.Styler at 0x7f3eb9167550>"
      ]
     },
     "execution_count": 103,
     "metadata": {},
     "output_type": "execute_result"
    }
   ],
   "source": [
    "# построим таблицу корреляции для цены за квадратный метр площади\n",
    "corr = df[['price_per_meter','total_area','rooms','days_exposition','distance_citycenters']].corr() #price_per_meter\n",
    "corr.style.background_gradient('coolwarm') "
   ]
  },
  {
   "cell_type": "code",
   "execution_count": 104,
   "metadata": {},
   "outputs": [
    {
     "data": {
      "text/plain": [
       "Text(0, 0.5, 'Цена за квадратный метр')"
      ]
     },
     "execution_count": 104,
     "metadata": {},
     "output_type": "execute_result"
    },
    {
     "data": {
      "image/png": "[encoded data removed]",
      "text/plain": [
       "<Figure size 432x288 with 1 Axes>"
      ]
     },
     "metadata": {
      "needs_background": "light"
     },
     "output_type": "display_data"
    }
   ],
   "source": [
    "# оценим зависимость цены за квадратный метр от расстояния до центра\n",
    "sns.regplot(x=df[\"distance_citycenters\"], y=df[\"price_per_meter\"], line_kws={\"color\":\"r\",\"alpha\":0.7,\"lw\":5})\n",
    "plt.xlabel('Расстояние до центра')\n",
    "plt.ylabel('Цена за квадратный метр')"
   ]
  },
  {
   "cell_type": "markdown",
   "metadata": {},
   "source": [
    "##### Вывод: С увеличением расстояния от центра падает цена за квадратный метр. На графике видно падение за квадратный метр цены со 100 000 руб в центре 10 км радиуса до 50 000 руб при удалении на 60 км от центра"
   ]
  },
  {
   "cell_type": "code",
   "execution_count": 105,
   "metadata": {},
   "outputs": [
    {
     "data": {
      "text/plain": [
       "Text(0, 0.5, 'Цена за квадратный метр')"
      ]
     },
     "execution_count": 105,
     "metadata": {},
     "output_type": "execute_result"
    },
    {
     "data": {
      "image/png": "[encoded data removed]",
      "text/plain": [
       "<Figure size 432x288 with 1 Axes>"
      ]
     },
     "metadata": {
      "needs_background": "light"
     },
     "output_type": "display_data"
    }
   ],
   "source": [
    "# оценим зависимость общей площади и цены за квадратный метр\n",
    "sns.regplot(x=df[\"total_area\"], y=df[\"price_per_meter\"], line_kws={\"color\":\"r\",\"alpha\":0.7,\"lw\":5})\n",
    "plt.xlabel('Общая площадь')\n",
    "plt.ylabel('Цена за квадратный метр')"
   ]
  },
  {
   "cell_type": "markdown",
   "metadata": {},
   "source": [
    "#### Вывод: С увеличением площади квартиры падает цена за квадратный метр. Падение может составить до четверти цены! На графике видно, что цена со 100 000 руб за квадратный метр для общей площади 20-30 метров квадратных может упасть до 75 000 руб с ростом общей площади до 100 квадратных метров"
   ]
  },
  {
   "cell_type": "code",
   "execution_count": 106,
   "metadata": {},
   "outputs": [
    {
     "data": {
      "text/plain": [
       "Text(0, 0.5, 'Цена за квадратный метр')"
      ]
     },
     "execution_count": 106,
     "metadata": {},
     "output_type": "execute_result"
    },
    {
     "data": {
      "image/png": "[encoded data removed]",
      "text/plain": [
       "<Figure size 432x288 with 1 Axes>"
      ]
     },
     "metadata": {
      "needs_background": "light"
     },
     "output_type": "display_data"
    }
   ],
   "source": [
    "sns.regplot(x=df[\"rooms\"], y=df[\"price_per_meter\"], line_kws={\"color\":\"r\",\"alpha\":0.7,\"lw\":5})\n",
    "plt.xlabel('Количество комнат')\n",
    "plt.ylabel('Цена за квадратный метр')"
   ]
  },
  {
   "cell_type": "markdown",
   "metadata": {},
   "source": [
    "##### Вывод: Однокомнатные квартиры ценятся выше всего за квадратный метр. На графике видно, что цена может снизиться на четверть с ростом количества комнат"
   ]
  },
  {
   "cell_type": "code",
   "execution_count": 107,
   "metadata": {},
   "outputs": [
    {
     "data": {
      "text/html": [
       "<div>\n",
       "<style scoped>\n",
       "    .dataframe tbody tr th:only-of-type {\n",
       "        vertical-align: middle;\n",
       "    }\n",
       "\n",
       "    .dataframe tbody tr th {\n",
       "        vertical-align: top;\n",
       "    }\n",
       "\n",
       "    .dataframe thead th {\n",
       "        text-align: right;\n",
       "    }\n",
       "</style>\n",
       "<table border=\"1\" class=\"dataframe\">\n",
       "  <thead>\n",
       "    <tr style=\"text-align: right;\">\n",
       "      <th></th>\n",
       "      <th>max</th>\n",
       "      <th>median</th>\n",
       "    </tr>\n",
       "    <tr>\n",
       "      <th>floor_category</th>\n",
       "      <th></th>\n",
       "      <th></th>\n",
       "    </tr>\n",
       "  </thead>\n",
       "  <tbody>\n",
       "    <tr>\n",
       "      <td>другой</td>\n",
       "      <td>292307.692308</td>\n",
       "      <td>94500.506497</td>\n",
       "    </tr>\n",
       "    <tr>\n",
       "      <td>первый</td>\n",
       "      <td>196078.431373</td>\n",
       "      <td>77586.206897</td>\n",
       "    </tr>\n",
       "    <tr>\n",
       "      <td>последний</td>\n",
       "      <td>200000.000000</td>\n",
       "      <td>81262.860082</td>\n",
       "    </tr>\n",
       "  </tbody>\n",
       "</table>\n",
       "</div>"
      ],
      "text/plain": [
       "                          max        median\n",
       "floor_category                             \n",
       "другой          292307.692308  94500.506497\n",
       "первый          196078.431373  77586.206897\n",
       "последний       200000.000000  81262.860082"
      ]
     },
     "execution_count": 107,
     "metadata": {},
     "output_type": "execute_result"
    }
   ],
   "source": [
    "#оценим зависимость цены от этажности\n",
    "pivot_table = pd.pivot_table(df, values='price_per_meter', index=['floor_category'],  aggfunc=['max','median'])\n",
    "pivot_table.columns = ['max','median']\n",
    "pivot_table"
   ]
  },
  {
   "cell_type": "code",
   "execution_count": 108,
   "metadata": {},
   "outputs": [
    {
     "data": {
      "text/plain": [
       "Text(0, 0.5, 'Цена за квадратный метр')"
      ]
     },
     "execution_count": 108,
     "metadata": {},
     "output_type": "execute_result"
    },
    {
     "data": {
      "image/png": "[encoded data removed]",
      "text/plain": [
       "<Figure size 432x288 with 1 Axes>"
      ]
     },
     "metadata": {
      "needs_background": "light"
     },
     "output_type": "display_data"
    }
   ],
   "source": [
    "pivot_table.plot(kind=\"bar\");\n",
    "plt.xlabel('Этажность')\n",
    "plt.ylabel('Цена за квадратный метр')"
   ]
  },
  {
   "cell_type": "code",
   "execution_count": 109,
   "metadata": {},
   "outputs": [
    {
     "data": {
      "text/plain": [
       "17.898633803794596"
      ]
     },
     "execution_count": 109,
     "metadata": {},
     "output_type": "execute_result"
    }
   ],
   "source": [
    "# в процентах\n",
    "100 - pivot_table['median'].первый / pivot_table['median'].другой * 100"
   ]
  },
  {
   "cell_type": "markdown",
   "metadata": {},
   "source": [
    "##### Вывод: Первый и последниий этажи не пользуются спросом по сравнению со средними этажами. Падение в цене за квадратный метр может составить 18%"
   ]
  },
  {
   "cell_type": "code",
   "execution_count": 110,
   "metadata": {},
   "outputs": [
    {
     "data": {
      "text/plain": [
       "<matplotlib.axes._subplots.AxesSubplot at 0x7f3e6c689b50>"
      ]
     },
     "execution_count": 110,
     "metadata": {},
     "output_type": "execute_result"
    },
    {
     "data": {
      "image/png": "[encoded data removed]",
      "text/plain": [
       "<Figure size 360x360 with 1 Axes>"
      ]
     },
     "metadata": {
      "needs_background": "light"
     },
     "output_type": "display_data"
    }
   ],
   "source": [
    "#построим гистограмму по годам публикации\n",
    "df_year = df.groupby('year_exposition')['price_per_meter'].mean()\n",
    "df_year.plot(kind='bar',ylim=80000,grid=True,figsize=(5,5))"
   ]
  },
  {
   "cell_type": "code",
   "execution_count": 111,
   "metadata": {},
   "outputs": [
    {
     "name": "stdout",
     "output_type": "stream",
     "text": [
      "Ежегодный прирост цены за квадратный метр в 2015  = -2.4% \n",
      "Ежегодный прирост цены за квадратный метр в 2016  = 1.3% \n",
      "Ежегодный прирост цены за квадратный метр в 2017  = 0.6% \n",
      "Ежегодный прирост цены за квадратный метр в 2018  = 1.8% \n",
      "Ежегодный прирост цены за квадратный метр в 2019  = 6.8% \n"
     ]
    }
   ],
   "source": [
    "# оценим динамику изменения в %\n",
    "\n",
    "year_list = df['year_exposition'].unique().tolist()\n",
    "year_list.sort()\n",
    "\n",
    "for y in year_list: #[2014,2015,2016,2017,2018]:\n",
    "    if year_list.index(y)==len(year_list)-1:\n",
    "        continue\n",
    "    print('Ежегодный прирост цены за квадратный метр в {}  = {:.1%} '.format(y+1, 1 - df_year[y]/df_year[y+1]))\n"
   ]
  },
  {
   "cell_type": "markdown",
   "metadata": {},
   "source": [
    "##### Вывод: Цены были достаточно стабильны с 2015 по 2018 год. Колебания цены были около 2%.  Но в 2019 году цены начились резко подниматься. Ежегодны прирост стал равен 6.8%. "
   ]
  },
  {
   "cell_type": "code",
   "execution_count": 112,
   "metadata": {},
   "outputs": [
    {
     "data": {
      "text/plain": [
       "<matplotlib.axes._subplots.AxesSubplot at 0x7f3e6c668850>"
      ]
     },
     "execution_count": 112,
     "metadata": {},
     "output_type": "execute_result"
    },
    {
     "data": {
      "image/png": "[encoded data removed]",
      "text/plain": [
       "<Figure size 360x360 with 1 Axes>"
      ]
     },
     "metadata": {
      "needs_background": "light"
     },
     "output_type": "display_data"
    }
   ],
   "source": [
    "df_month = df.groupby('month_exposition')['price_per_meter'].mean()\n",
    "df_month.plot(kind='bar',ylim=80000,grid=True,figsize=(5,5))"
   ]
  },
  {
   "cell_type": "code",
   "execution_count": 113,
   "metadata": {},
   "outputs": [
    {
     "name": "stdout",
     "output_type": "stream",
     "text": [
      "Оценка колебаний цены на квадратный месяц помесячно может составить = 5.0% \n"
     ]
    }
   ],
   "source": [
    "# оценим разницу 3 и 6 месяцев, как наиболее показательных\n",
    "print('Оценка колебаний цены на квадратный месяц помесячно может составить = {:.1%} '.format((1 - df_month[6]/df_month[3])))"
   ]
  },
  {
   "cell_type": "markdown",
   "metadata": {},
   "source": [
    "##### Вывод: В июле(7) и в декабре(12) видны минимумы. Но колебания цен не более 5%."
   ]
  },
  {
   "cell_type": "code",
   "execution_count": 114,
   "metadata": {},
   "outputs": [
    {
     "data": {
      "text/plain": [
       "<matplotlib.axes._subplots.AxesSubplot at 0x7f3e6c289410>"
      ]
     },
     "execution_count": 114,
     "metadata": {},
     "output_type": "execute_result"
    },
    {
     "data": {
      "image/png": "[encoded data removed]",
      "text/plain": [
       "<Figure size 360x360 with 1 Axes>"
      ]
     },
     "metadata": {
      "needs_background": "light"
     },
     "output_type": "display_data"
    }
   ],
   "source": [
    "#колебания цен по дням недели\n",
    "df_weekday = df.groupby('weekday_exposition_str')['price_per_meter'].mean()\n",
    "#df_weekday.sort_values()\n",
    "df_weekday.sort_values().plot(kind='bar',ylim=80000,grid=True,figsize=(5,5))"
   ]
  },
  {
   "cell_type": "code",
   "execution_count": 115,
   "metadata": {},
   "outputs": [
    {
     "name": "stdout",
     "output_type": "stream",
     "text": [
      "Оценка колебаний цены на квадратный месяц по дням недели = 1.7% \n"
     ]
    }
   ],
   "source": [
    "# оценим 3 и 2 дни, как наиболее показательные\n",
    "(1 - df_weekday['Пятница']/df_weekday['Вторник'])*100\n",
    "print('Оценка колебаний цены на квадратный месяц по дням недели = {:.1%} '.format(1 - df_weekday['Пятница']/df_weekday['Вторник']))"
   ]
  },
  {
   "cell_type": "markdown",
   "metadata": {},
   "source": [
    "##### Вывод: Почти нет зависимости. Всего 1.8% разницы между пятницей и вторником. В пятницу цены минимальные, возможно объявление составляется небрежно."
   ]
  },
  {
   "cell_type": "markdown",
   "metadata": {},
   "source": [
    "### Задача: Выберите 10 населённых пунктов с наибольшим числом объявлений. Посчитайте среднюю цену квадратного метра в этих населённых пунктах. Выделите среди них населённые пункты с самой высокой и низкой стоимостью жилья. Эти данные можно найти по имени в столбце 'locality_name'.\n"
   ]
  },
  {
   "cell_type": "code",
   "execution_count": 116,
   "metadata": {},
   "outputs": [
    {
     "data": {
      "text/plain": [
       "locality_name\n",
       "выборг                148\n",
       "гатчина               182\n",
       "пушкин                185\n",
       "колпино               190\n",
       "деревня кудрово       198\n",
       "всеволожск            258\n",
       "поселок парголово     274\n",
       "поселок шушары        338\n",
       "поселок мурино        421\n",
       "санкт-петербург      7577\n",
       "Name: price_per_meter, dtype: int64"
      ]
     },
     "execution_count": 116,
     "metadata": {},
     "output_type": "execute_result"
    }
   ],
   "source": [
    "# количество объявлений\n",
    "\n",
    "name_10 = df.groupby('locality_name')['price_per_meter'].count()\n",
    "name_10 = name_10.sort_values().tail(10)\n",
    "name_10"
   ]
  },
  {
   "cell_type": "code",
   "execution_count": 117,
   "metadata": {},
   "outputs": [],
   "source": [
    " dff = df.loc[df['locality_name'].isin(name_10.index)]"
   ]
  },
  {
   "cell_type": "code",
   "execution_count": 118,
   "metadata": {},
   "outputs": [
    {
     "data": {
      "text/html": [
       "<div>\n",
       "<style scoped>\n",
       "    .dataframe tbody tr th:only-of-type {\n",
       "        vertical-align: middle;\n",
       "    }\n",
       "\n",
       "    .dataframe tbody tr th {\n",
       "        vertical-align: top;\n",
       "    }\n",
       "\n",
       "    .dataframe thead th {\n",
       "        text-align: right;\n",
       "    }\n",
       "</style>\n",
       "<table border=\"1\" class=\"dataframe\">\n",
       "  <thead>\n",
       "    <tr style=\"text-align: right;\">\n",
       "      <th></th>\n",
       "      <th>price_per_meter</th>\n",
       "    </tr>\n",
       "    <tr>\n",
       "      <th>locality_name</th>\n",
       "      <th></th>\n",
       "    </tr>\n",
       "  </thead>\n",
       "  <tbody>\n",
       "    <tr>\n",
       "      <td>всеволожск</td>\n",
       "      <td>11059.036628</td>\n",
       "    </tr>\n",
       "    <tr>\n",
       "      <td>выборг</td>\n",
       "      <td>12117.834454</td>\n",
       "    </tr>\n",
       "    <tr>\n",
       "      <td>гатчина</td>\n",
       "      <td>14137.618488</td>\n",
       "    </tr>\n",
       "    <tr>\n",
       "      <td>деревня кудрово</td>\n",
       "      <td>11752.769096</td>\n",
       "    </tr>\n",
       "    <tr>\n",
       "      <td>колпино</td>\n",
       "      <td>10987.562632</td>\n",
       "    </tr>\n",
       "    <tr>\n",
       "      <td>поселок мурино</td>\n",
       "      <td>14281.419544</td>\n",
       "    </tr>\n",
       "    <tr>\n",
       "      <td>поселок парголово</td>\n",
       "      <td>17143.134641</td>\n",
       "    </tr>\n",
       "    <tr>\n",
       "      <td>поселок шушары</td>\n",
       "      <td>14906.136076</td>\n",
       "    </tr>\n",
       "    <tr>\n",
       "      <td>пушкин</td>\n",
       "      <td>15433.571873</td>\n",
       "    </tr>\n",
       "    <tr>\n",
       "      <td>санкт-петербург</td>\n",
       "      <td>21450.864908</td>\n",
       "    </tr>\n",
       "  </tbody>\n",
       "</table>\n",
       "</div>"
      ],
      "text/plain": [
       "                   price_per_meter\n",
       "locality_name                     \n",
       "всеволожск            11059.036628\n",
       "выборг                12117.834454\n",
       "гатчина               14137.618488\n",
       "деревня кудрово       11752.769096\n",
       "колпино               10987.562632\n",
       "поселок мурино        14281.419544\n",
       "поселок парголово     17143.134641\n",
       "поселок шушары        14906.136076\n",
       "пушкин                15433.571873\n",
       "санкт-петербург       21450.864908"
      ]
     },
     "execution_count": 118,
     "metadata": {},
     "output_type": "execute_result"
    }
   ],
   "source": [
    "pivot_table =  pd.pivot_table(dff, values='price_per_meter', index=['locality_name'],  aggfunc=['std'])\n",
    "pivot_table.columns = ['price_per_meter']\n",
    "pivot_table"
   ]
  },
  {
   "cell_type": "code",
   "execution_count": 119,
   "metadata": {},
   "outputs": [
    {
     "data": {
      "text/plain": [
       "Text(0, 0.5, 'Цена')"
      ]
     },
     "execution_count": 119,
     "metadata": {},
     "output_type": "execute_result"
    },
    {
     "data": {
      "image/png": "[encoded data removed]",
      "text/plain": [
       "<Figure size 360x360 with 1 Axes>"
      ]
     },
     "metadata": {
      "needs_background": "light"
     },
     "output_type": "display_data"
    }
   ],
   "source": [
    "pivot_table.sort_values(by ='price_per_meter').plot(kind='bar',xlim=10000,grid=True,figsize=(5,5))\n",
    "plt.title('')\n",
    "plt.xlabel('Населенный пункт')\n",
    "plt.ylabel('Цена')"
   ]
  },
  {
   "cell_type": "markdown",
   "metadata": {},
   "source": [
    "##### Вывод: Наибольшайя цена за квадратный метр жилья в Санкт Питербурге, что и следовало ожидать. Далее идет Пушкин. И минимальная цена в топ-10 это Всеволожск. Разница в цене почти в два раза. Спб - 21600 руб, против Всеволжска - 11100 руб. "
   ]
  },
  {
   "cell_type": "markdown",
   "metadata": {},
   "source": [
    "### Задача: Изучите предложения квартир: для каждой квартиры есть информация о расстоянии до центра. Выделите квартиры в Санкт-Петербурге ('locality_name'). Ваша задача — выяснить, какая область входит в центр. Создайте столбец с расстоянием до центра в километрах: округлите до целых значений. После этого посчитайте среднюю цену для каждого километра. Постройте график: он должен показывать, как цена зависит от удалённости от центра. Определите границу, где график сильно меняется — это и будет центральная зона."
   ]
  },
  {
   "cell_type": "code",
   "execution_count": 120,
   "metadata": {},
   "outputs": [
    {
     "data": {
      "text/html": [
       "<div>\n",
       "<style scoped>\n",
       "    .dataframe tbody tr th:only-of-type {\n",
       "        vertical-align: middle;\n",
       "    }\n",
       "\n",
       "    .dataframe tbody tr th {\n",
       "        vertical-align: top;\n",
       "    }\n",
       "\n",
       "    .dataframe thead th {\n",
       "        text-align: right;\n",
       "    }\n",
       "</style>\n",
       "<table border=\"1\" class=\"dataframe\">\n",
       "  <thead>\n",
       "    <tr style=\"text-align: right;\">\n",
       "      <th></th>\n",
       "      <th>locality_name</th>\n",
       "      <th>rooms</th>\n",
       "      <th>floor</th>\n",
       "      <th>floors_total</th>\n",
       "      <th>living_area</th>\n",
       "      <th>kitchen_area</th>\n",
       "      <th>total_area</th>\n",
       "      <th>ceiling_height</th>\n",
       "      <th>balcony</th>\n",
       "      <th>studio</th>\n",
       "      <th>...</th>\n",
       "      <th>distance_airports</th>\n",
       "      <th>price_per_meter</th>\n",
       "      <th>weekday_exposition_str</th>\n",
       "      <th>weekday_exposition</th>\n",
       "      <th>month_exposition_str</th>\n",
       "      <th>month_exposition</th>\n",
       "      <th>year_exposition</th>\n",
       "      <th>floor_category</th>\n",
       "      <th>living_area_vs_total_area</th>\n",
       "      <th>kitchen_area_vs_total_area</th>\n",
       "    </tr>\n",
       "  </thead>\n",
       "  <tbody>\n",
       "    <tr>\n",
       "      <td>7</td>\n",
       "      <td>санкт-петербург</td>\n",
       "      <td>2</td>\n",
       "      <td>22</td>\n",
       "      <td>24.0</td>\n",
       "      <td>NaN</td>\n",
       "      <td>18.9</td>\n",
       "      <td>71.6</td>\n",
       "      <td>2.65</td>\n",
       "      <td>2.0</td>\n",
       "      <td>False</td>\n",
       "      <td>...</td>\n",
       "      <td>23.982</td>\n",
       "      <td>110544.692737</td>\n",
       "      <td>Среда</td>\n",
       "      <td>3</td>\n",
       "      <td>Апрель</td>\n",
       "      <td>4</td>\n",
       "      <td>2019</td>\n",
       "      <td>другой</td>\n",
       "      <td>NaN</td>\n",
       "      <td>0.263966</td>\n",
       "    </tr>\n",
       "    <tr>\n",
       "      <td>10</td>\n",
       "      <td>санкт-петербург</td>\n",
       "      <td>1</td>\n",
       "      <td>3</td>\n",
       "      <td>12.0</td>\n",
       "      <td>20.3</td>\n",
       "      <td>8.5</td>\n",
       "      <td>39.6</td>\n",
       "      <td>2.67</td>\n",
       "      <td>0.0</td>\n",
       "      <td>False</td>\n",
       "      <td>...</td>\n",
       "      <td>38.357</td>\n",
       "      <td>127525.252525</td>\n",
       "      <td>Среда</td>\n",
       "      <td>3</td>\n",
       "      <td>Ноябрь</td>\n",
       "      <td>11</td>\n",
       "      <td>2017</td>\n",
       "      <td>другой</td>\n",
       "      <td>0.512626</td>\n",
       "      <td>0.214646</td>\n",
       "    </tr>\n",
       "    <tr>\n",
       "      <td>15</td>\n",
       "      <td>санкт-петербург</td>\n",
       "      <td>1</td>\n",
       "      <td>5</td>\n",
       "      <td>14.0</td>\n",
       "      <td>20.5</td>\n",
       "      <td>7.6</td>\n",
       "      <td>39.0</td>\n",
       "      <td>2.65</td>\n",
       "      <td>1.0</td>\n",
       "      <td>False</td>\n",
       "      <td>...</td>\n",
       "      <td>12.900</td>\n",
       "      <td>119230.769231</td>\n",
       "      <td>Пятница</td>\n",
       "      <td>5</td>\n",
       "      <td>Ноябрь</td>\n",
       "      <td>11</td>\n",
       "      <td>2017</td>\n",
       "      <td>другой</td>\n",
       "      <td>0.525641</td>\n",
       "      <td>0.194872</td>\n",
       "    </tr>\n",
       "    <tr>\n",
       "      <td>21</td>\n",
       "      <td>санкт-петербург</td>\n",
       "      <td>1</td>\n",
       "      <td>2</td>\n",
       "      <td>5.0</td>\n",
       "      <td>16.9</td>\n",
       "      <td>5.7</td>\n",
       "      <td>31.6</td>\n",
       "      <td>2.65</td>\n",
       "      <td>1.0</td>\n",
       "      <td>False</td>\n",
       "      <td>...</td>\n",
       "      <td>36.064</td>\n",
       "      <td>101265.822785</td>\n",
       "      <td>Вторник</td>\n",
       "      <td>2</td>\n",
       "      <td>Март</td>\n",
       "      <td>3</td>\n",
       "      <td>2018</td>\n",
       "      <td>другой</td>\n",
       "      <td>0.534810</td>\n",
       "      <td>0.180380</td>\n",
       "    </tr>\n",
       "    <tr>\n",
       "      <td>24</td>\n",
       "      <td>санкт-петербург</td>\n",
       "      <td>2</td>\n",
       "      <td>1</td>\n",
       "      <td>3.0</td>\n",
       "      <td>46.5</td>\n",
       "      <td>19.6</td>\n",
       "      <td>97.2</td>\n",
       "      <td>2.65</td>\n",
       "      <td>0.0</td>\n",
       "      <td>False</td>\n",
       "      <td>...</td>\n",
       "      <td>20.052</td>\n",
       "      <td>66872.427984</td>\n",
       "      <td>Пятница</td>\n",
       "      <td>5</td>\n",
       "      <td>Октябрь</td>\n",
       "      <td>10</td>\n",
       "      <td>2015</td>\n",
       "      <td>первый</td>\n",
       "      <td>0.478395</td>\n",
       "      <td>0.201646</td>\n",
       "    </tr>\n",
       "    <tr>\n",
       "      <td>...</td>\n",
       "      <td>...</td>\n",
       "      <td>...</td>\n",
       "      <td>...</td>\n",
       "      <td>...</td>\n",
       "      <td>...</td>\n",
       "      <td>...</td>\n",
       "      <td>...</td>\n",
       "      <td>...</td>\n",
       "      <td>...</td>\n",
       "      <td>...</td>\n",
       "      <td>...</td>\n",
       "      <td>...</td>\n",
       "      <td>...</td>\n",
       "      <td>...</td>\n",
       "      <td>...</td>\n",
       "      <td>...</td>\n",
       "      <td>...</td>\n",
       "      <td>...</td>\n",
       "      <td>...</td>\n",
       "      <td>...</td>\n",
       "      <td>...</td>\n",
       "    </tr>\n",
       "    <tr>\n",
       "      <td>23674</td>\n",
       "      <td>санкт-петербург</td>\n",
       "      <td>3</td>\n",
       "      <td>3</td>\n",
       "      <td>8.0</td>\n",
       "      <td>32.1</td>\n",
       "      <td>8.5</td>\n",
       "      <td>56.0</td>\n",
       "      <td>2.65</td>\n",
       "      <td>0.0</td>\n",
       "      <td>False</td>\n",
       "      <td>...</td>\n",
       "      <td>32.139</td>\n",
       "      <td>106250.000000</td>\n",
       "      <td>Понедельник</td>\n",
       "      <td>1</td>\n",
       "      <td>Март</td>\n",
       "      <td>3</td>\n",
       "      <td>2019</td>\n",
       "      <td>другой</td>\n",
       "      <td>0.573214</td>\n",
       "      <td>0.151786</td>\n",
       "    </tr>\n",
       "    <tr>\n",
       "      <td>23676</td>\n",
       "      <td>санкт-петербург</td>\n",
       "      <td>1</td>\n",
       "      <td>13</td>\n",
       "      <td>16.0</td>\n",
       "      <td>14.9</td>\n",
       "      <td>9.3</td>\n",
       "      <td>36.4</td>\n",
       "      <td>2.65</td>\n",
       "      <td>0.0</td>\n",
       "      <td>False</td>\n",
       "      <td>...</td>\n",
       "      <td>32.228</td>\n",
       "      <td>97527.472527</td>\n",
       "      <td>Вторник</td>\n",
       "      <td>2</td>\n",
       "      <td>Июнь</td>\n",
       "      <td>6</td>\n",
       "      <td>2016</td>\n",
       "      <td>другой</td>\n",
       "      <td>0.409341</td>\n",
       "      <td>0.255495</td>\n",
       "    </tr>\n",
       "    <tr>\n",
       "      <td>23686</td>\n",
       "      <td>санкт-петербург</td>\n",
       "      <td>1</td>\n",
       "      <td>6</td>\n",
       "      <td>9.0</td>\n",
       "      <td>18.0</td>\n",
       "      <td>6.5</td>\n",
       "      <td>31.0</td>\n",
       "      <td>2.55</td>\n",
       "      <td>0.0</td>\n",
       "      <td>False</td>\n",
       "      <td>...</td>\n",
       "      <td>11.751</td>\n",
       "      <td>106451.612903</td>\n",
       "      <td>Пятница</td>\n",
       "      <td>5</td>\n",
       "      <td>Апрель</td>\n",
       "      <td>4</td>\n",
       "      <td>2017</td>\n",
       "      <td>другой</td>\n",
       "      <td>0.580645</td>\n",
       "      <td>0.209677</td>\n",
       "    </tr>\n",
       "    <tr>\n",
       "      <td>23687</td>\n",
       "      <td>санкт-петербург</td>\n",
       "      <td>1</td>\n",
       "      <td>6</td>\n",
       "      <td>9.0</td>\n",
       "      <td>20.0</td>\n",
       "      <td>11.0</td>\n",
       "      <td>39.0</td>\n",
       "      <td>2.65</td>\n",
       "      <td>2.0</td>\n",
       "      <td>False</td>\n",
       "      <td>...</td>\n",
       "      <td>40.837</td>\n",
       "      <td>82051.282051</td>\n",
       "      <td>Пятница</td>\n",
       "      <td>5</td>\n",
       "      <td>Декабрь</td>\n",
       "      <td>12</td>\n",
       "      <td>2017</td>\n",
       "      <td>другой</td>\n",
       "      <td>0.512821</td>\n",
       "      <td>0.282051</td>\n",
       "    </tr>\n",
       "    <tr>\n",
       "      <td>23690</td>\n",
       "      <td>санкт-петербург</td>\n",
       "      <td>2</td>\n",
       "      <td>2</td>\n",
       "      <td>5.0</td>\n",
       "      <td>31.0</td>\n",
       "      <td>6.0</td>\n",
       "      <td>52.0</td>\n",
       "      <td>2.65</td>\n",
       "      <td>0.0</td>\n",
       "      <td>False</td>\n",
       "      <td>...</td>\n",
       "      <td>20.151</td>\n",
       "      <td>105769.230769</td>\n",
       "      <td>Среда</td>\n",
       "      <td>3</td>\n",
       "      <td>Июль</td>\n",
       "      <td>7</td>\n",
       "      <td>2018</td>\n",
       "      <td>другой</td>\n",
       "      <td>0.596154</td>\n",
       "      <td>0.115385</td>\n",
       "    </tr>\n",
       "  </tbody>\n",
       "</table>\n",
       "<p>7577 rows × 33 columns</p>\n",
       "</div>"
      ],
      "text/plain": [
       "         locality_name  rooms  floor  floors_total  living_area  kitchen_area  \\\n",
       "7      санкт-петербург      2     22          24.0          NaN          18.9   \n",
       "10     санкт-петербург      1      3          12.0         20.3           8.5   \n",
       "15     санкт-петербург      1      5          14.0         20.5           7.6   \n",
       "21     санкт-петербург      1      2           5.0         16.9           5.7   \n",
       "24     санкт-петербург      2      1           3.0         46.5          19.6   \n",
       "...                ...    ...    ...           ...          ...           ...   \n",
       "23674  санкт-петербург      3      3           8.0         32.1           8.5   \n",
       "23676  санкт-петербург      1     13          16.0         14.9           9.3   \n",
       "23686  санкт-петербург      1      6           9.0         18.0           6.5   \n",
       "23687  санкт-петербург      1      6           9.0         20.0          11.0   \n",
       "23690  санкт-петербург      2      2           5.0         31.0           6.0   \n",
       "\n",
       "       total_area  ceiling_height  balcony  studio  ...  distance_airports  \\\n",
       "7            71.6            2.65      2.0   False  ...             23.982   \n",
       "10           39.6            2.67      0.0   False  ...             38.357   \n",
       "15           39.0            2.65      1.0   False  ...             12.900   \n",
       "21           31.6            2.65      1.0   False  ...             36.064   \n",
       "24           97.2            2.65      0.0   False  ...             20.052   \n",
       "...           ...             ...      ...     ...  ...                ...   \n",
       "23674        56.0            2.65      0.0   False  ...             32.139   \n",
       "23676        36.4            2.65      0.0   False  ...             32.228   \n",
       "23686        31.0            2.55      0.0   False  ...             11.751   \n",
       "23687        39.0            2.65      2.0   False  ...             40.837   \n",
       "23690        52.0            2.65      0.0   False  ...             20.151   \n",
       "\n",
       "       price_per_meter  weekday_exposition_str  weekday_exposition  \\\n",
       "7        110544.692737                   Среда                   3   \n",
       "10       127525.252525                   Среда                   3   \n",
       "15       119230.769231                 Пятница                   5   \n",
       "21       101265.822785                 Вторник                   2   \n",
       "24        66872.427984                 Пятница                   5   \n",
       "...                ...                     ...                 ...   \n",
       "23674    106250.000000             Понедельник                   1   \n",
       "23676     97527.472527                 Вторник                   2   \n",
       "23686    106451.612903                 Пятница                   5   \n",
       "23687     82051.282051                 Пятница                   5   \n",
       "23690    105769.230769                   Среда                   3   \n",
       "\n",
       "       month_exposition_str  month_exposition  year_exposition  \\\n",
       "7                    Апрель                 4             2019   \n",
       "10                   Ноябрь                11             2017   \n",
       "15                   Ноябрь                11             2017   \n",
       "21                     Март                 3             2018   \n",
       "24                  Октябрь                10             2015   \n",
       "...                     ...               ...              ...   \n",
       "23674                  Март                 3             2019   \n",
       "23676                  Июнь                 6             2016   \n",
       "23686                Апрель                 4             2017   \n",
       "23687               Декабрь                12             2017   \n",
       "23690                  Июль                 7             2018   \n",
       "\n",
       "       floor_category  living_area_vs_total_area kitchen_area_vs_total_area  \n",
       "7              другой                        NaN                   0.263966  \n",
       "10             другой                   0.512626                   0.214646  \n",
       "15             другой                   0.525641                   0.194872  \n",
       "21             другой                   0.534810                   0.180380  \n",
       "24             первый                   0.478395                   0.201646  \n",
       "...               ...                        ...                        ...  \n",
       "23674          другой                   0.573214                   0.151786  \n",
       "23676          другой                   0.409341                   0.255495  \n",
       "23686          другой                   0.580645                   0.209677  \n",
       "23687          другой                   0.512821                   0.282051  \n",
       "23690          другой                   0.596154                   0.115385  \n",
       "\n",
       "[7577 rows x 33 columns]"
      ]
     },
     "execution_count": 120,
     "metadata": {},
     "output_type": "execute_result"
    }
   ],
   "source": [
    "# срез данных по СПб\n",
    "Spb = 'санкт-петербург'\n",
    "df_spb = df.query('locality_name == @Spb').copy()\n",
    "df_spb"
   ]
  },
  {
   "cell_type": "code",
   "execution_count": 121,
   "metadata": {},
   "outputs": [],
   "source": [
    "# уберем NaN если они есть\n",
    "df_spb = df_spb.dropna(subset=['distance_citycenters'])"
   ]
  },
  {
   "cell_type": "code",
   "execution_count": 122,
   "metadata": {},
   "outputs": [],
   "source": [
    "# преобразуем в тип int котолнку добавленную колонку distance_citycenters, которая была оцифрована уже в км\n",
    "df_spb['distance_citycenters_km'] = df_spb['distance_citycenters'].astype(int)"
   ]
  },
  {
   "cell_type": "code",
   "execution_count": 123,
   "metadata": {},
   "outputs": [
    {
     "data": {
      "text/html": [
       "<div>\n",
       "<style scoped>\n",
       "    .dataframe tbody tr th:only-of-type {\n",
       "        vertical-align: middle;\n",
       "    }\n",
       "\n",
       "    .dataframe tbody tr th {\n",
       "        vertical-align: top;\n",
       "    }\n",
       "\n",
       "    .dataframe thead th {\n",
       "        text-align: right;\n",
       "    }\n",
       "</style>\n",
       "<table border=\"1\" class=\"dataframe\">\n",
       "  <thead>\n",
       "    <tr style=\"text-align: right;\">\n",
       "      <th></th>\n",
       "      <th>count</th>\n",
       "      <th>std</th>\n",
       "    </tr>\n",
       "    <tr>\n",
       "      <th>distance_citycenters_km</th>\n",
       "      <th></th>\n",
       "      <th></th>\n",
       "    </tr>\n",
       "  </thead>\n",
       "  <tbody>\n",
       "    <tr>\n",
       "      <td>0</td>\n",
       "      <td>14</td>\n",
       "      <td>32930.148384</td>\n",
       "    </tr>\n",
       "    <tr>\n",
       "      <td>1</td>\n",
       "      <td>36</td>\n",
       "      <td>40609.494690</td>\n",
       "    </tr>\n",
       "    <tr>\n",
       "      <td>2</td>\n",
       "      <td>51</td>\n",
       "      <td>25240.058828</td>\n",
       "    </tr>\n",
       "    <tr>\n",
       "      <td>3</td>\n",
       "      <td>115</td>\n",
       "      <td>25785.504612</td>\n",
       "    </tr>\n",
       "    <tr>\n",
       "      <td>4</td>\n",
       "      <td>179</td>\n",
       "      <td>33214.384209</td>\n",
       "    </tr>\n",
       "    <tr>\n",
       "      <td>5</td>\n",
       "      <td>182</td>\n",
       "      <td>29538.659391</td>\n",
       "    </tr>\n",
       "    <tr>\n",
       "      <td>6</td>\n",
       "      <td>133</td>\n",
       "      <td>26915.338794</td>\n",
       "    </tr>\n",
       "    <tr>\n",
       "      <td>7</td>\n",
       "      <td>143</td>\n",
       "      <td>24896.498697</td>\n",
       "    </tr>\n",
       "    <tr>\n",
       "      <td>8</td>\n",
       "      <td>229</td>\n",
       "      <td>21386.312071</td>\n",
       "    </tr>\n",
       "    <tr>\n",
       "      <td>9</td>\n",
       "      <td>318</td>\n",
       "      <td>19298.432312</td>\n",
       "    </tr>\n",
       "    <tr>\n",
       "      <td>10</td>\n",
       "      <td>489</td>\n",
       "      <td>20188.456061</td>\n",
       "    </tr>\n",
       "    <tr>\n",
       "      <td>11</td>\n",
       "      <td>845</td>\n",
       "      <td>18558.051629</td>\n",
       "    </tr>\n",
       "    <tr>\n",
       "      <td>12</td>\n",
       "      <td>918</td>\n",
       "      <td>20170.040746</td>\n",
       "    </tr>\n",
       "    <tr>\n",
       "      <td>13</td>\n",
       "      <td>853</td>\n",
       "      <td>19375.132116</td>\n",
       "    </tr>\n",
       "    <tr>\n",
       "      <td>14</td>\n",
       "      <td>881</td>\n",
       "      <td>18888.188950</td>\n",
       "    </tr>\n",
       "    <tr>\n",
       "      <td>15</td>\n",
       "      <td>766</td>\n",
       "      <td>18504.208998</td>\n",
       "    </tr>\n",
       "    <tr>\n",
       "      <td>16</td>\n",
       "      <td>605</td>\n",
       "      <td>16374.880934</td>\n",
       "    </tr>\n",
       "    <tr>\n",
       "      <td>17</td>\n",
       "      <td>280</td>\n",
       "      <td>17241.955267</td>\n",
       "    </tr>\n",
       "    <tr>\n",
       "      <td>18</td>\n",
       "      <td>93</td>\n",
       "      <td>21573.386972</td>\n",
       "    </tr>\n",
       "    <tr>\n",
       "      <td>19</td>\n",
       "      <td>46</td>\n",
       "      <td>23869.245215</td>\n",
       "    </tr>\n",
       "    <tr>\n",
       "      <td>20</td>\n",
       "      <td>43</td>\n",
       "      <td>17270.886312</td>\n",
       "    </tr>\n",
       "    <tr>\n",
       "      <td>21</td>\n",
       "      <td>138</td>\n",
       "      <td>16243.123585</td>\n",
       "    </tr>\n",
       "    <tr>\n",
       "      <td>22</td>\n",
       "      <td>112</td>\n",
       "      <td>19964.970827</td>\n",
       "    </tr>\n",
       "    <tr>\n",
       "      <td>23</td>\n",
       "      <td>18</td>\n",
       "      <td>15501.442682</td>\n",
       "    </tr>\n",
       "    <tr>\n",
       "      <td>24</td>\n",
       "      <td>19</td>\n",
       "      <td>14297.263771</td>\n",
       "    </tr>\n",
       "    <tr>\n",
       "      <td>25</td>\n",
       "      <td>62</td>\n",
       "      <td>10941.095662</td>\n",
       "    </tr>\n",
       "    <tr>\n",
       "      <td>26</td>\n",
       "      <td>1</td>\n",
       "      <td>NaN</td>\n",
       "    </tr>\n",
       "    <tr>\n",
       "      <td>27</td>\n",
       "      <td>1</td>\n",
       "      <td>NaN</td>\n",
       "    </tr>\n",
       "    <tr>\n",
       "      <td>28</td>\n",
       "      <td>7</td>\n",
       "      <td>13654.696279</td>\n",
       "    </tr>\n",
       "  </tbody>\n",
       "</table>\n",
       "</div>"
      ],
      "text/plain": [
       "                         count           std\n",
       "distance_citycenters_km                     \n",
       "0                           14  32930.148384\n",
       "1                           36  40609.494690\n",
       "2                           51  25240.058828\n",
       "3                          115  25785.504612\n",
       "4                          179  33214.384209\n",
       "5                          182  29538.659391\n",
       "6                          133  26915.338794\n",
       "7                          143  24896.498697\n",
       "8                          229  21386.312071\n",
       "9                          318  19298.432312\n",
       "10                         489  20188.456061\n",
       "11                         845  18558.051629\n",
       "12                         918  20170.040746\n",
       "13                         853  19375.132116\n",
       "14                         881  18888.188950\n",
       "15                         766  18504.208998\n",
       "16                         605  16374.880934\n",
       "17                         280  17241.955267\n",
       "18                          93  21573.386972\n",
       "19                          46  23869.245215\n",
       "20                          43  17270.886312\n",
       "21                         138  16243.123585\n",
       "22                         112  19964.970827\n",
       "23                          18  15501.442682\n",
       "24                          19  14297.263771\n",
       "25                          62  10941.095662\n",
       "26                           1           NaN\n",
       "27                           1           NaN\n",
       "28                           7  13654.696279"
      ]
     },
     "execution_count": 123,
     "metadata": {},
     "output_type": "execute_result"
    }
   ],
   "source": [
    "pivot_table_spb = pd.pivot_table(df_spb, values='price_per_meter', index=['distance_citycenters_km'],  aggfunc=['count','std'])\n",
    "#pivot_table_spb = pd.pivot_table(df_spb, values='last_price', index=['distance_citycenters_km'],  aggfunc=['std','count'])\n",
    "pivot_table_spb.columns = ['count','std']\n",
    "pivot_table_spb #.style.background_gradient('coolwarm')"
   ]
  },
  {
   "cell_type": "markdown",
   "metadata": {},
   "source": [
    "До радиуса в 2 км, очень мало данных. Общее количество записей меньше 100. Для анализа явно недостаточно. \"Перелом\" в данных по цене, при достаточной статистике, просматривается в диапазоне 6- 8 км"
   ]
  },
  {
   "cell_type": "code",
   "execution_count": 124,
   "metadata": {
    "scrolled": true
   },
   "outputs": [
    {
     "data": {
      "text/plain": [
       "Text(0, 0.5, 'Цена за квадратный метр')"
      ]
     },
     "execution_count": 124,
     "metadata": {},
     "output_type": "execute_result"
    },
    {
     "data": {
      "image/png": "[encoded data removed]",
      "text/plain": [
       "<Figure size 432x288 with 1 Axes>"
      ]
     },
     "metadata": {
      "needs_background": "light"
     },
     "output_type": "display_data"
    }
   ],
   "source": [
    "sns.lineplot(data=pivot_table_spb['std'], linewidth=2.5)\n",
    "plt.xlabel('Расстояние от центра СПб')\n",
    "plt.ylabel('Цена за квадратный метр')"
   ]
  },
  {
   "cell_type": "code",
   "execution_count": 125,
   "metadata": {},
   "outputs": [
    {
     "data": {
      "text/plain": [
       "Text(0, 0.5, 'Цена за квадратный метр')"
      ]
     },
     "execution_count": 125,
     "metadata": {},
     "output_type": "execute_result"
    },
    {
     "data": {
      "image/png": "[encoded data removed]",
      "text/plain": [
       "<Figure size 432x288 with 1 Axes>"
      ]
     },
     "metadata": {
      "needs_background": "light"
     },
     "output_type": "display_data"
    }
   ],
   "source": [
    "# lineplot - не подошел. Отрисовано не понятно. Характернвя точка угадывается в районе 10 км\n",
    "\n",
    "# пробуем residplot\n",
    "\n",
    "sns.residplot(x=pivot_table_spb.index, y=pivot_table_spb['std'], lowess=True, color=\"g\") \n",
    "plt.xlabel('Расстояние от центра СПб')\n",
    "plt.ylabel('Цена за квадратный метр')"
   ]
  },
  {
   "cell_type": "markdown",
   "metadata": {},
   "source": [
    "#### Вывод: Центральную зону города можно определить радиусом 10 км.  Это точка 'перегиба'- минимума"
   ]
  },
  {
   "cell_type": "markdown",
   "metadata": {},
   "source": [
    "### Задача: Выделите сегмент квартир в центре. Проанализируйте эту территорию и изучите следующие параметры: площадь, цена, число комнат, высота потолков. Также выделите факторы, которые влияют на стоимость квартиры (число комнат, этаж, удалённость от центра, дата размещения объявления). Сделайте выводы. Отличаются ли они от общих выводов по всему городу?"
   ]
  },
  {
   "cell_type": "code",
   "execution_count": 126,
   "metadata": {},
   "outputs": [],
   "source": [
    "# выделяем центральный сегмент СПб\n",
    "Central_Radius = 10 #км\n",
    "df_spb_central = df_spb.query('distance_citycenters_km <=@Central_Radius')\n",
    "\n",
    "# оставим только нужные колонки для простроения таблицы корреляции\n",
    "string_columns = 'distance_citycenters_km,total_area,floor,ceiling_height,year_exposition,price_per_meter'\n",
    "list_columns = string_columns.split(',')\n",
    "df_spb_central = df_spb_central[list_columns]\n",
    "\n",
    "#удалим пропуски\n",
    "#df_spb_central.dropna() - оказалось лишним, так как \"Compute pairwise correlation of columns, excluding NA/null values.\"\""
   ]
  },
  {
   "cell_type": "code",
   "execution_count": 127,
   "metadata": {},
   "outputs": [],
   "source": [
    "# получим таблицу корреляции\n",
    "df_spb_central_corr = df_spb_central.corr()\n",
    "df_spb_central_corr['price_per_meter_R10'] = df_spb_central_corr['price_per_meter']"
   ]
  },
  {
   "cell_type": "code",
   "execution_count": 128,
   "metadata": {},
   "outputs": [],
   "source": [
    "# выделяем весь СПб включая центр\n",
    "df_spb_all = df_spb[list_columns]\n",
    "df_spb_all_corr = df_spb_all.corr()\n",
    "df_spb_all_corr['price_per_meter_all'] = df_spb_all_corr['price_per_meter']\n",
    "df_spb_all_corr = df_spb_all_corr['price_per_meter_all'] "
   ]
  },
  {
   "cell_type": "code",
   "execution_count": 129,
   "metadata": {
    "scrolled": true
   },
   "outputs": [
    {
     "data": {
      "text/html": [
       "<style  type=\"text/css\" >\n",
       "    #T_bfacc0ce_86fe_11eb_881d_02420a39ab1frow0_col0 {\n",
       "            background-color:  #4a63d3;\n",
       "            color:  #f1f1f1;\n",
       "        }    #T_bfacc0ce_86fe_11eb_881d_02420a39ab1frow0_col1 {\n",
       "            background-color:  #3b4cc0;\n",
       "            color:  #f1f1f1;\n",
       "        }    #T_bfacc0ce_86fe_11eb_881d_02420a39ab1frow1_col0 {\n",
       "            background-color:  #3b4cc0;\n",
       "            color:  #f1f1f1;\n",
       "        }    #T_bfacc0ce_86fe_11eb_881d_02420a39ab1frow1_col1 {\n",
       "            background-color:  #4055c8;\n",
       "            color:  #f1f1f1;\n",
       "        }    #T_bfacc0ce_86fe_11eb_881d_02420a39ab1frow2_col0 {\n",
       "            background-color:  #b1cbfc;\n",
       "            color:  #000000;\n",
       "        }    #T_bfacc0ce_86fe_11eb_881d_02420a39ab1frow2_col1 {\n",
       "            background-color:  #b5cdfa;\n",
       "            color:  #000000;\n",
       "        }    #T_bfacc0ce_86fe_11eb_881d_02420a39ab1frow3_col0 {\n",
       "            background-color:  #a9c6fd;\n",
       "            color:  #000000;\n",
       "        }    #T_bfacc0ce_86fe_11eb_881d_02420a39ab1frow3_col1 {\n",
       "            background-color:  #aec9fc;\n",
       "            color:  #000000;\n",
       "        }    #T_bfacc0ce_86fe_11eb_881d_02420a39ab1frow4_col0 {\n",
       "            background-color:  #b6cefa;\n",
       "            color:  #000000;\n",
       "        }    #T_bfacc0ce_86fe_11eb_881d_02420a39ab1frow4_col1 {\n",
       "            background-color:  #b3cdfb;\n",
       "            color:  #000000;\n",
       "        }    #T_bfacc0ce_86fe_11eb_881d_02420a39ab1frow5_col0 {\n",
       "            background-color:  #b40426;\n",
       "            color:  #f1f1f1;\n",
       "        }    #T_bfacc0ce_86fe_11eb_881d_02420a39ab1frow5_col1 {\n",
       "            background-color:  #b40426;\n",
       "            color:  #f1f1f1;\n",
       "        }</style><table id=\"T_bfacc0ce_86fe_11eb_881d_02420a39ab1f\" ><thead>    <tr>        <th class=\"blank level0\" ></th>        <th class=\"col_heading level0 col0\" >price_per_meter_R10</th>        <th class=\"col_heading level0 col1\" >price_per_meter_all</th>    </tr></thead><tbody>\n",
       "                <tr>\n",
       "                        <th id=\"T_bfacc0ce_86fe_11eb_881d_02420a39ab1flevel0_row0\" class=\"row_heading level0 row0\" >distance_citycenters_km</th>\n",
       "                        <td id=\"T_bfacc0ce_86fe_11eb_881d_02420a39ab1frow0_col0\" class=\"data row0 col0\" >-0.225796</td>\n",
       "                        <td id=\"T_bfacc0ce_86fe_11eb_881d_02420a39ab1frow0_col1\" class=\"data row0 col1\" >-0.29264</td>\n",
       "            </tr>\n",
       "            <tr>\n",
       "                        <th id=\"T_bfacc0ce_86fe_11eb_881d_02420a39ab1flevel0_row1\" class=\"row_heading level0 row1\" >total_area</th>\n",
       "                        <td id=\"T_bfacc0ce_86fe_11eb_881d_02420a39ab1frow1_col0\" class=\"data row1 col0\" >-0.295219</td>\n",
       "                        <td id=\"T_bfacc0ce_86fe_11eb_881d_02420a39ab1frow1_col1\" class=\"data row1 col1\" >-0.266305</td>\n",
       "            </tr>\n",
       "            <tr>\n",
       "                        <th id=\"T_bfacc0ce_86fe_11eb_881d_02420a39ab1flevel0_row2\" class=\"row_heading level0 row2\" >floor</th>\n",
       "                        <td id=\"T_bfacc0ce_86fe_11eb_881d_02420a39ab1frow2_col0\" class=\"data row2 col0\" >0.160852</td>\n",
       "                        <td id=\"T_bfacc0ce_86fe_11eb_881d_02420a39ab1frow2_col1\" class=\"data row2 col1\" >0.178304</td>\n",
       "            </tr>\n",
       "            <tr>\n",
       "                        <th id=\"T_bfacc0ce_86fe_11eb_881d_02420a39ab1flevel0_row3\" class=\"row_heading level0 row3\" >ceiling_height</th>\n",
       "                        <td id=\"T_bfacc0ce_86fe_11eb_881d_02420a39ab1frow3_col0\" class=\"data row3 col0\" >0.134737</td>\n",
       "                        <td id=\"T_bfacc0ce_86fe_11eb_881d_02420a39ab1frow3_col1\" class=\"data row3 col1\" >0.155114</td>\n",
       "            </tr>\n",
       "            <tr>\n",
       "                        <th id=\"T_bfacc0ce_86fe_11eb_881d_02420a39ab1flevel0_row4\" class=\"row_heading level0 row4\" >year_exposition</th>\n",
       "                        <td id=\"T_bfacc0ce_86fe_11eb_881d_02420a39ab1frow4_col0\" class=\"data row4 col0\" >0.180932</td>\n",
       "                        <td id=\"T_bfacc0ce_86fe_11eb_881d_02420a39ab1frow4_col1\" class=\"data row4 col1\" >0.175309</td>\n",
       "            </tr>\n",
       "            <tr>\n",
       "                        <th id=\"T_bfacc0ce_86fe_11eb_881d_02420a39ab1flevel0_row5\" class=\"row_heading level0 row5\" >price_per_meter</th>\n",
       "                        <td id=\"T_bfacc0ce_86fe_11eb_881d_02420a39ab1frow5_col0\" class=\"data row5 col0\" >1</td>\n",
       "                        <td id=\"T_bfacc0ce_86fe_11eb_881d_02420a39ab1frow5_col1\" class=\"data row5 col1\" >1</td>\n",
       "            </tr>\n",
       "    </tbody></table>"
      ],
      "text/plain": [
       "<pandas.io.formats.style.Styler at 0x7f3e6c206090>"
      ]
     },
     "execution_count": 129,
     "metadata": {},
     "output_type": "execute_result"
    }
   ],
   "source": [
    "# склеиваем таблицы по индексу\n",
    "df_temp = df_spb_central_corr.join(df_spb_all_corr, how='outer')\n",
    "\n",
    "# отбрасываем лишнии колонки\n",
    "listcol = ['price_per_meter_R10','price_per_meter_all']\n",
    "df_temp = df_temp[listcol]\n",
    "# разукрашиваем\n",
    "df_temp.style.background_gradient('coolwarm')"
   ]
  },
  {
   "cell_type": "markdown",
   "metadata": {},
   "source": [
    "##### Вывод: На удельную стоимость (цена за квадратный метр) квартиры в центре ( радиус 10 км) наибольшее влияние оказывает общая площадь и этажность. При движении за радиус 10 км, начинает влиять фактор зависимости  удаленности от центра, при этом зависимость от этажности растет,  зависимость от высота потолков также увеличиватся (рост цены). В центре же высота потолков менее важна. Дата размещения оценивалась по годам публикации, характер зависимости в центре и в целом по городу одинаков. То есть цены в центре и по всему городу меняются во времени приблизительно одинаково."
   ]
  },
  {
   "cell_type": "code",
   "execution_count": null,
   "metadata": {},
   "outputs": [],
   "source": []
  },
  {
   "cell_type": "markdown",
   "metadata": {},
   "source": [
    "### Шаг 5. Общий вывод"
   ]
  },
  {
   "cell_type": "markdown",
   "metadata": {},
   "source": [
    "# - **Краткий обзор проведённой работы**\n",
    "\n",
    "Были оценены и обработаны исходные данные. Частично восстановлены пропущенные значения в данных по расстоянию населенных пунктов до центра СПб и до аэропорта. Были уберите редкие и выбивающиеся значения.\n",
    "\n",
    "Изучено влияние следующих параметров на формирование цены: общая площадь, число комнат, высота потолков. \n",
    "\n",
    "- **Главные выводы:**\n",
    "- среднее время продажи оценено в 60 дней. Соответственно можно считать, что продажа прошла быстро если она заняла менее месяца (это 25% всех продаж). Необычно долгие продажи - это продажи время которых превышает 140 дней.Экстремально долгие продажи от 300 дней и более - до 1500 дней.\n",
    "- с увеличением расстояния от центра падает цена за квадратный метр площади. На графике видно падение цены со 100 000 руб в центре 10 км радиуса до 50 000 руб при удалении на 60 км от центра.\n",
    "- однокомнатные квартиры ценятся выше всего за квадратный метр. На графике видно, что цена может снизиться на четверть (25%) с ростом количества комнат.\n",
    "- первый и последниий этажи не пользуются спросом по сравнению со средними этажами. Падение в цене за квадратный метр может составить 18%\n",
    "- цены были достаточно стабильны с 2015 по 2018 год. Колебания цены были около 2%. Но в 2019 году цены начились резко подниматься. Прирост по сравнению с 2018 годом составил 6.8%.\n",
    "- в июле и в декабре видны минимумы по цене. Но разброс цен по месяцам не более 5%\n",
    "- среди 10 населенных пунктов с наинаиболее часто встречаемыми объявлениями, можно выделить максимум = это Пушкин (15500 руб) и минимум это - Всеволжск (11100 руб)\n",
    "- центральную зону города можно определить радиусом  10 км.  Точка \"перегиба\"\n",
    "- На удельную стоимость (цена за квадратный метр) квартиры в центре ( радиус 10 км) наибольшее влияние оказывает общая площадь и этажность. При движении за радиус 10 км, начинает влиять фактор зависимости  удаленности от центра, при этом зависимость от этажности растет,  зависимость от высота потолков также увеличиватся (рост цены). В центре же высота потолков менее важна. Дата размещения оценивалась по годам публикации, характер зависимости в центре и в целом по городу одинаков. То есть цены в центре и по всему городу меняются во времени приблизительно одинаково.\n",
    "\n",
    "\n",
    "**Рекомендации для улучшения ввода данных автоматизированной системы:**\n",
    "- Для бролее качественного прогнозирования, необходимо исключить появление данных с пропущенными данными. \n",
    "- Исключить появления экстремальных данных в полях: этаж, площадь, высота потолков, цена. \n"
   ]
  }
 ],
 "metadata": {
  "kernelspec": {
   "display_name": "Python 3",
   "language": "python",
   "name": "python3"
  },
  "language_info": {
   "codemirror_mode": {
    "name": "ipython",
    "version": 3
   },
   "file_extension": ".py",
   "mimetype": "text/x-python",
   "name": "python",
   "nbconvert_exporter": "python",
   "pygments_lexer": "ipython3",
   "version": "3.9.0"
  },
  "toc": {
   "base_numbering": 1,
   "nav_menu": {},
   "number_sections": true,
   "sideBar": true,
   "skip_h1_title": true,
   "title_cell": "Table of Contents",
   "title_sidebar": "Contents",
   "toc_cell": false,
   "toc_position": {},
   "toc_section_display": true,
   "toc_window_display": true
  }
 },
 "nbformat": 4,
 "nbformat_minor": 2
}
